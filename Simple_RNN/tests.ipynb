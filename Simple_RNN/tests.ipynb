{
 "cells": [
  {
   "cell_type": "code",
   "execution_count": 1,
   "metadata": {},
   "outputs": [
    {
     "output_type": "stream",
     "name": "stdout",
     "text": "importing Jupyter notebook from Process_Training_Data.ipynb\n2.1.0\n[[[ 1.59717363 -1.70102178  0.6942984  ... -0.27057772 -0.06981\n    0.        ]\n  [ 0.84479311 -1.35318126  0.25876069 ... -0.27276035 -0.01745\n    0.        ]\n  [-0.47535904  0.06233832 -1.43760069 ... -0.29631792 -0.05236\n    0.        ]\n  [-1.3592875   0.31526369  0.16161265 ... -0.1713984  -0.05236\n    0.        ]]\n\n [[ 1.59717363 -1.70102178  0.6942984  ... -0.27057772 -0.06981\n    0.        ]\n  [ 0.84479311 -1.35318126  0.25876069 ... -0.27276035 -0.01745\n    0.        ]\n  [-0.47535904  0.06233832 -1.43760069 ... -0.29631792 -0.05236\n    0.        ]\n  [-1.3592875   0.31526369  0.16161265 ... -0.1713984  -0.05236\n    0.        ]]\n\n [[ 1.59717363 -1.70102178  0.6942984  ... -0.27057772 -0.06981\n    0.        ]\n  [ 0.84479311 -1.35318126  0.25876069 ... -0.27276035 -0.01745\n    0.        ]\n  [-0.47535904  0.06233832 -1.43760069 ... -0.29631792 -0.05236\n    0.        ]\n  [-1.3592875   0.31526369  0.16161265 ... -0.1713984  -0.05236\n    0.        ]]\n\n ...\n\n [[ 1.41096935 -0.34170595  1.21188297 ... -0.22177311 -0.08727\n    0.        ]\n  [ 0.72932852 -0.04677178  0.98771322 ... -0.18645215 -0.05236\n    0.        ]\n  [-0.12030868  0.37712087  0.4596124  ... -0.25288054 -0.05236\n    0.15855621]\n  [-1.16165495  0.19809849 -0.13583077 ...  1.19700215 -0.03491\n    0.        ]]\n\n [[ 1.41096935 -0.34170595  1.21188297 ... -0.22177311 -0.08727\n    0.        ]\n  [ 0.72932852 -0.04677178  0.98771322 ... -0.18645215 -0.05236\n    0.        ]\n  [-0.12030868  0.37712087  0.4596124  ... -0.25288054 -0.05236\n    0.15855621]\n  [-1.16165495  0.19809849 -0.13583077 ...  1.19700215 -0.03491\n    0.        ]]\n\n [[ 1.41096935 -0.34170595  1.21188297 ... -0.22177311 -0.08727\n    0.        ]\n  [ 0.72932852 -0.04677178  0.98771322 ... -0.18645215 -0.05236\n    0.        ]\n  [-0.12030868  0.37712087  0.4596124  ... -0.25288054 -0.05236\n    0.15855621]\n  [-1.16165495  0.19809849 -0.13583077 ...  1.19700215 -0.03491\n    0.        ]]]\n"
    }
   ],
   "source": [
    "# from ipynb.fs.full.Process_Training_Data import class_to_action\n",
    "\n",
    "import import_ipynb\n",
    "\n",
    "import Process_Training_Data\n",
    "\n",
    "dataset_short = Process_Training_Data.get_data(\"./data/fromStateToAction_df (28) last.csv\")\n",
    "\n",
    "action_vector = [\"A0\",\"A1\"]\n",
    "normed_dataset = Process_Training_Data.normalize_data(dataset_short,action_vector)\n",
    "\n",
    "N_STEPS = 3\n",
    "print(Process_Training_Data.post_padding(normed_dataset,N_STEPS))\n",
    "\n"
   ]
  },
  {
   "cell_type": "code",
   "execution_count": null,
   "metadata": {},
   "outputs": [],
   "source": []
  }
 ],
 "metadata": {
  "language_info": {
   "codemirror_mode": {
    "name": "ipython",
    "version": 3
   },
   "file_extension": ".py",
   "mimetype": "text/x-python",
   "name": "python",
   "nbconvert_exporter": "python",
   "pygments_lexer": "ipython3",
   "version": "3.7.5-final"
  },
  "orig_nbformat": 2,
  "kernelspec": {
   "name": "python37564bitpaskyvirtualenvdb13efe5d4c0467fbbb744965ba97dd5",
   "display_name": "Python 3.7.5 64-bit ('pasky': virtualenv)"
  }
 },
 "nbformat": 4,
 "nbformat_minor": 2
}