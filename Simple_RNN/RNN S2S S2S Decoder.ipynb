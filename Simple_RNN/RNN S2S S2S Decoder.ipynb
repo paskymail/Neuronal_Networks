{
 "cells": [
  {
   "cell_type": "markdown",
   "source": [
    "# S2S RNN to predict next state"
   ],
   "metadata": {
    "colab_type": "text",
    "id": "EIdT9iu_Z4Rb"
   }
  },
  {
   "cell_type": "markdown",
   "source": [
    "We aim to predict the next steps on time series"
   ],
   "metadata": {
    "colab_type": "text",
    "id": "AHp3M9ZmrIxj"
   }
  },
  {
   "cell_type": "code",
   "execution_count": 1,
   "source": [
    "from __future__ import absolute_import, division, print_function, unicode_literals\r\n",
    "import pathlib\r\n",
    "import matplotlib.pyplot as plt\r\n",
    "import numpy as np\r\n",
    "import pandas as pd\r\n",
    "import seaborn as sns\r\n",
    "import pprint as pprint\r\n",
    "import math\r\n",
    "import time"
   ],
   "outputs": [],
   "metadata": {}
  },
  {
   "cell_type": "code",
   "execution_count": 2,
   "source": [
    "try:\r\n",
    "  # %tensorflow_version only exists in Colab.\r\n",
    "  %tensorflow_version 2.x\r\n",
    "except Exception:\r\n",
    "  pass\r\n",
    "import tensorflow as tf\r\n",
    "\r\n",
    "from tensorflow import keras\r\n",
    "from tensorflow.keras import layers\r\n",
    "\r\n",
    "print(tf.__version__)"
   ],
   "outputs": [
    {
     "output_type": "stream",
     "name": "stdout",
     "text": [
      "2.3.1\n"
     ]
    }
   ],
   "metadata": {
    "tags": []
   }
  },
  {
   "cell_type": "code",
   "execution_count": 3,
   "source": [
    "import tensorflow_docs as tfdocs\r\n",
    "import tensorflow_docs.plots\r\n",
    "import tensorflow_docs.modeling\r\n",
    "import os\r\n",
    "import json\r\n",
    "import pickle\r\n",
    "import sklearn\r\n",
    "from sklearn import neighbors"
   ],
   "outputs": [],
   "metadata": {}
  },
  {
   "cell_type": "code",
   "execution_count": 4,
   "source": [
    "import import_ipynb\r\n",
    "\r\n",
    "import Process_Training_Data_2\r\n",
    "\r\n",
    "from Process_Training_Data_2 import norm\r\n",
    "from Process_Training_Data_2 import denorm\r\n",
    "from Process_Training_Data_2 import class_to_action\r\n",
    "from Process_Training_Data_2 import closest_category\r\n",
    "from Process_Training_Data_2 import extend_dataset\r\n",
    "from Process_Training_Data_2 import normalize_data\r\n",
    "from Process_Training_Data_2 import print_model_df_analysis\r\n",
    "from Process_Training_Data_2 import group_by_path\r\n",
    "from Process_Training_Data_2 import get_mean_error\r\n",
    "from Process_Training_Data_2 import add_end_state"
   ],
   "outputs": [
    {
     "output_type": "stream",
     "name": "stdout",
     "text": [
      "importing Jupyter notebook from Process_Training_Data_2.ipynb\n"
     ]
    },
    {
     "output_type": "stream",
     "name": "stderr",
     "text": [
      "Process_Training_Data_2.ipynb:12: SettingWithCopyWarning: \n",
      "A value is trying to be set on a copy of a slice from a DataFrame\n",
      "\n",
      "See the caveats in the documentation: https://pandas.pydata.org/pandas-docs/stable/user_guide/indexing.html#returning-a-view-versus-a-copy\n",
      "  },\n",
      "Process_Training_Data_2.ipynb:14: SettingWithCopyWarning: \n",
      "A value is trying to be set on a copy of a slice from a DataFrame\n",
      "\n",
      "See the caveats in the documentation: https://pandas.pydata.org/pandas-docs/stable/user_guide/indexing.html#returning-a-view-versus-a-copy\n",
      "  \"cell_type\": \"code\",\n",
      "Process_Training_Data_2.ipynb:16: SettingWithCopyWarning: \n",
      "A value is trying to be set on a copy of a slice from a DataFrame\n",
      "\n",
      "See the caveats in the documentation: https://pandas.pydata.org/pandas-docs/stable/user_guide/indexing.html#returning-a-view-versus-a-copy\n",
      "  \"metadata\": {},\n",
      "Process_Training_Data_2.ipynb:18: SettingWithCopyWarning: \n",
      "A value is trying to be set on a copy of a slice from a DataFrame\n",
      "\n",
      "See the caveats in the documentation: https://pandas.pydata.org/pandas-docs/stable/user_guide/indexing.html#returning-a-view-versus-a-copy\n",
      "  \"source\": [\n"
     ]
    }
   ],
   "metadata": {
    "tags": []
   }
  },
  {
   "cell_type": "markdown",
   "source": [
    "### Get the data\n",
    "First Import it using pandas"
   ],
   "metadata": {
    "colab_type": "text",
    "id": "gFh9ne3FZ-On"
   }
  },
  {
   "cell_type": "code",
   "execution_count": 5,
   "source": [
    "file = \"OSPA_training_data.csv\""
   ],
   "outputs": [],
   "metadata": {}
  },
  {
   "cell_type": "code",
   "execution_count": 6,
   "source": [
    "STEPS=10\r\n",
    "\r\n",
    "dataset = Process_Training_Data_2.get_data(\"./data/\"+file)\r\n",
    "\r\n",
    "dataset_distances= dataset[[\"id_camino\",\"D0\",'D1',\"D2\",\"D3\",'D4',\"D5\",\"A0\",\"A1\"]]\r\n",
    "\r\n",
    "#exteneded_dataset = Process_Training_Data_2.extend_dataset(dataset_short,N_STEPS)\r\n",
    "exteneded_dataset= add_end_state(dataset_distances)\r\n",
    "\r\n",
    "action_vector = [\"A0\",\"A1\"]\r\n",
    "normed_dataset, data_stats = Process_Training_Data_2.normalize_data(exteneded_dataset, action_vector)\r\n",
    "\r\n",
    "position = \"post\"\r\n",
    "dataset2 = Process_Training_Data_2.padding(normed_dataset,STEPS,position)\r\n",
    "\r\n",
    "#dataset2 = group_by_path(normed_dataset)"
   ],
   "outputs": [
    {
     "output_type": "stream",
     "name": "stderr",
     "text": [
      "Process_Training_Data_2.ipynb:12: SettingWithCopyWarning: \n",
      "A value is trying to be set on a copy of a slice from a DataFrame\n",
      "\n",
      "See the caveats in the documentation: https://pandas.pydata.org/pandas-docs/stable/user_guide/indexing.html#returning-a-view-versus-a-copy\n",
      "  },\n",
      "Process_Training_Data_2.ipynb:14: SettingWithCopyWarning: \n",
      "A value is trying to be set on a copy of a slice from a DataFrame\n",
      "\n",
      "See the caveats in the documentation: https://pandas.pydata.org/pandas-docs/stable/user_guide/indexing.html#returning-a-view-versus-a-copy\n",
      "  \"cell_type\": \"code\",\n",
      "Process_Training_Data_2.ipynb:16: SettingWithCopyWarning: \n",
      "A value is trying to be set on a copy of a slice from a DataFrame\n",
      "\n",
      "See the caveats in the documentation: https://pandas.pydata.org/pandas-docs/stable/user_guide/indexing.html#returning-a-view-versus-a-copy\n",
      "  \"metadata\": {},\n",
      "Process_Training_Data_2.ipynb:18: SettingWithCopyWarning: \n",
      "A value is trying to be set on a copy of a slice from a DataFrame\n",
      "\n",
      "See the caveats in the documentation: https://pandas.pydata.org/pandas-docs/stable/user_guide/indexing.html#returning-a-view-versus-a-copy\n",
      "  \"source\": [\n"
     ]
    }
   ],
   "metadata": {
    "tags": []
   }
  },
  {
   "cell_type": "code",
   "execution_count": 7,
   "source": [
    "Zero_Target= [0,0,0,0,0,0]\r\n",
    "ZT_norm = norm(Zero_Target, data_stats)\r\n",
    "ZT_norm "
   ],
   "outputs": [
    {
     "output_type": "execute_result",
     "data": {
      "text/plain": [
       "D0    0.0\n",
       "D1    0.0\n",
       "D2    0.0\n",
       "D3    0.0\n",
       "D4    0.0\n",
       "D5    0.0\n",
       "Name: std, dtype: float64"
      ]
     },
     "metadata": {},
     "execution_count": 7
    }
   ],
   "metadata": {}
  },
  {
   "cell_type": "markdown",
   "source": [
    "### Split the data into train and test\n",
    "\n",
    "Now split the dataset into a training set and a test set.\n",
    "\n",
    "We take the first TRAIN_SPLIT values as train data\n",
    "\n",
    "We will use the test set in the final evaluation of our model."
   ],
   "metadata": {
    "colab_type": "text",
    "id": "Cuym4yvk76vU"
   }
  },
  {
   "cell_type": "markdown",
   "source": [
    "### Split features from labels\n",
    "\n",
    "Separate the target value, or \"label\", from the features. This label is the value that you will train the model to predict."
   ],
   "metadata": {
    "colab_type": "text",
    "id": "Db7Auq1yXUvh"
   }
  },
  {
   "cell_type": "code",
   "execution_count": 9,
   "source": [
    "def multivariate_data(dataset, target, start_index, end_index):\r\n",
    "  data = []\r\n",
    "  labels = []\r\n",
    "\r\n",
    "  if end_index is None:\r\n",
    "    end_index = len(dataset)\r\n",
    "\r\n",
    "  for i in range(start_index, end_index):\r\n",
    "    indices = range(0, len(dataset[i])-1)\r\n",
    "    data.append(dataset[i,indices,:])\r\n",
    "\r\n",
    "    labels.append(target[i, 1:])   \r\n",
    "\r\n",
    "  return np.array(data), np.array(labels)"
   ],
   "outputs": [],
   "metadata": {}
  },
  {
   "cell_type": "markdown",
   "source": [
    "## single step model using sequential output\n",
    "Given a sequence of actions, the model should predict the same sequency one step in the future"
   ],
   "metadata": {}
  },
  {
   "cell_type": "markdown",
   "source": [
    "### Split features from labels"
   ],
   "metadata": {}
  },
  {
   "cell_type": "code",
   "execution_count": 10,
   "source": [
    "np.random.shuffle(dataset2)"
   ],
   "outputs": [],
   "metadata": {}
  },
  {
   "cell_type": "code",
   "execution_count": 11,
   "source": [
    "TRAIN_SPLIT = int(len(dataset2)*0.8)\r\n",
    "features_dataset = dataset2[:,:,:6]\r\n",
    "target_dataset = dataset2[:,0:,:6]\r\n",
    "\r\n",
    "x_train_single_sequential, y_train_single_sequential = multivariate_data(features_dataset, target_dataset,0, TRAIN_SPLIT)\r\n",
    "\r\n",
    "x_val_single_sequential, y_val_single_sequential = multivariate_data(features_dataset, target_dataset, TRAIN_SPLIT, None)"
   ],
   "outputs": [],
   "metadata": {}
  },
  {
   "cell_type": "code",
   "execution_count": 12,
   "source": [
    "BATCH_SIZE = 1\r\n",
    "# BUFFER_SIZE = 10000\r\n",
    "\r\n",
    "train_data_single_sequential = tf.data.Dataset.from_tensor_slices((x_train_single_sequential, y_train_single_sequential))\r\n",
    "train_data_single_sequential = train_data_single_sequential.cache().batch(BATCH_SIZE).repeat()\r\n",
    "\r\n",
    "val_data_single_sequential = tf.data.Dataset.from_tensor_slices((x_val_single_sequential, y_val_single_sequential))\r\n",
    "val_data_single_sequential = val_data_single_sequential.batch(BATCH_SIZE).repeat()"
   ],
   "outputs": [],
   "metadata": {}
  },
  {
   "cell_type": "markdown",
   "source": [
    "### Build the model"
   ],
   "metadata": {}
  },
  {
   "cell_type": "markdown",
   "source": [
    "sample_weight"
   ],
   "metadata": {}
  },
  {
   "cell_type": "code",
   "execution_count": 13,
   "source": [
    "\r\n",
    "sample_weight= tf.constant([0.4,0.4,0.05,0.05,0.05,0.05])"
   ],
   "outputs": [],
   "metadata": {}
  },
  {
   "cell_type": "code",
   "execution_count": 14,
   "source": [
    "single_step_sequential_model = tf.keras.models.Sequential()\r\n",
    "single_step_sequential_model.add(tf.keras.layers.LSTM(11,return_sequences=True, input_shape=(None, 6)))\r\n",
    "single_step_sequential_model.add(tf.keras.layers.Dense(6, activation='linear'))\r\n",
    "\r\n",
    "loss_fn = tf.keras.losses.MeanSquaredError(reduction='sum_over_batch_size')\r\n",
    "\r\n",
    "single_step_sequential_model.compile(optimizer=tf.keras.optimizers.RMSprop(), loss=loss_fn, metrics=['mse','kullback_leibler_divergence'])"
   ],
   "outputs": [],
   "metadata": {}
  },
  {
   "cell_type": "markdown",
   "source": [
    "### Inspect the model"
   ],
   "metadata": {}
  },
  {
   "cell_type": "code",
   "execution_count": 15,
   "source": [
    "single_step_sequential_model.summary()"
   ],
   "outputs": [
    {
     "output_type": "stream",
     "name": "stdout",
     "text": [
      "Model: \"sequential\"\n",
      "_________________________________________________________________\n",
      "Layer (type)                 Output Shape              Param #   \n",
      "=================================================================\n",
      "lstm (LSTM)                  (None, None, 11)          792       \n",
      "_________________________________________________________________\n",
      "dense (Dense)                (None, None, 6)           72        \n",
      "=================================================================\n",
      "Total params: 864\n",
      "Trainable params: 864\n",
      "Non-trainable params: 0\n",
      "_________________________________________________________________\n"
     ]
    }
   ],
   "metadata": {
    "tags": []
   }
  },
  {
   "cell_type": "markdown",
   "source": [
    "### Train the model"
   ],
   "metadata": {}
  },
  {
   "cell_type": "code",
   "execution_count": 17,
   "source": [
    "STEPS_PER_EPOCH = TRAIN_SPLIT / BATCH_SIZE\r\n",
    "EPOCHS = 100\r\n",
    "\r\n",
    "single_step_sequential_history = single_step_sequential_model.fit(train_data_single_sequential, epochs=EPOCHS, steps_per_epoch=STEPS_PER_EPOCH, validation_data=val_data_single_sequential, validation_steps=50)"
   ],
   "outputs": [
    {
     "output_type": "stream",
     "name": "stdout",
     "text": [
      "_divergence: 1.3127 - val_loss: 0.3187 - val_mse: 0.3187 - val_kullback_leibler_divergence: 1.2494\n",
      "Epoch 8/100\n",
      "192/192 [==============================] - 1s 6ms/step - loss: 0.2357 - mse: 0.2357 - kullback_leibler_divergence: 1.2747 - val_loss: 0.3091 - val_mse: 0.3091 - val_kullback_leibler_divergence: 1.1938\n",
      "Epoch 9/100\n",
      "192/192 [==============================] - 1s 6ms/step - loss: 0.2268 - mse: 0.2268 - kullback_leibler_divergence: 1.2621 - val_loss: 0.3011 - val_mse: 0.3011 - val_kullback_leibler_divergence: 1.1767\n",
      "Epoch 10/100\n",
      "192/192 [==============================] - 1s 6ms/step - loss: 0.2195 - mse: 0.2195 - kullback_leibler_divergence: 1.2356 - val_loss: 0.2943 - val_mse: 0.2943 - val_kullback_leibler_divergence: 1.1563\n",
      "Epoch 11/100\n",
      "192/192 [==============================] - 1s 6ms/step - loss: 0.2133 - mse: 0.2133 - kullback_leibler_divergence: 1.2278 - val_loss: 0.2881 - val_mse: 0.2881 - val_kullback_leibler_divergence: 1.1434\n",
      "Epoch 12/100\n",
      "192/192 [==============================] - 1s 6ms/step - loss: 0.2078 - mse: 0.2078 - kullback_leibler_divergence: 1.2218 - val_loss: 0.2824 - val_mse: 0.2824 - val_kullback_leibler_divergence: 1.1189\n",
      "Epoch 13/100\n",
      "192/192 [==============================] - 1s 7ms/step - loss: 0.2029 - mse: 0.2029 - kullback_leibler_divergence: 1.1889 - val_loss: 0.2771 - val_mse: 0.2771 - val_kullback_leibler_divergence: 1.1145\n",
      "Epoch 14/100\n",
      "192/192 [==============================] - 1s 6ms/step - loss: 0.1983 - mse: 0.1983 - kullback_leibler_divergence: 1.1811 - val_loss: 0.2721 - val_mse: 0.2721 - val_kullback_leibler_divergence: 1.1236\n",
      "Epoch 15/100\n",
      "192/192 [==============================] - 1s 6ms/step - loss: 0.1940 - mse: 0.1940 - kullback_leibler_divergence: 1.1715 - val_loss: 0.2674 - val_mse: 0.2674 - val_kullback_leibler_divergence: 1.0985\n",
      "Epoch 16/100\n",
      "192/192 [==============================] - 1s 6ms/step - loss: 0.1899 - mse: 0.1899 - kullback_leibler_divergence: 1.1567 - val_loss: 0.2629 - val_mse: 0.2629 - val_kullback_leibler_divergence: 1.1030\n",
      "Epoch 17/100\n",
      "192/192 [==============================] - 1s 6ms/step - loss: 0.1860 - mse: 0.1860 - kullback_leibler_divergence: 1.1506 - val_loss: 0.2586 - val_mse: 0.2586 - val_kullback_leibler_divergence: 1.0847\n",
      "Epoch 18/100\n",
      "192/192 [==============================] - 1s 6ms/step - loss: 0.1822 - mse: 0.1822 - kullback_leibler_divergence: 1.1287 - val_loss: 0.2545 - val_mse: 0.2545 - val_kullback_leibler_divergence: 1.0886\n",
      "Epoch 19/100\n",
      "192/192 [==============================] - 1s 6ms/step - loss: 0.1786 - mse: 0.1786 - kullback_leibler_divergence: 1.1265 - val_loss: 0.2507 - val_mse: 0.2507 - val_kullback_leibler_divergence: 1.0754\n",
      "Epoch 20/100\n",
      "192/192 [==============================] - 1s 6ms/step - loss: 0.1753 - mse: 0.1753 - kullback_leibler_divergence: 1.1295 - val_loss: 0.2471 - val_mse: 0.2471 - val_kullback_leibler_divergence: 1.0563\n",
      "Epoch 21/100\n",
      "192/192 [==============================] - 1s 6ms/step - loss: 0.1722 - mse: 0.1722 - kullback_leibler_divergence: 1.1319 - val_loss: 0.2439 - val_mse: 0.2439 - val_kullback_leibler_divergence: 1.0212\n",
      "Epoch 22/100\n",
      "192/192 [==============================] - 1s 6ms/step - loss: 0.1693 - mse: 0.1693 - kullback_leibler_divergence: 1.1149 - val_loss: 0.2409 - val_mse: 0.2409 - val_kullback_leibler_divergence: 1.0289\n",
      "Epoch 23/100\n",
      "192/192 [==============================] - 1s 6ms/step - loss: 0.1666 - mse: 0.1666 - kullback_leibler_divergence: 1.0755 - val_loss: 0.2380 - val_mse: 0.2380 - val_kullback_leibler_divergence: 1.0220\n",
      "Epoch 24/100\n",
      "192/192 [==============================] - 1s 6ms/step - loss: 0.1641 - mse: 0.1641 - kullback_leibler_divergence: 1.0502 - val_loss: 0.2354 - val_mse: 0.2354 - val_kullback_leibler_divergence: 1.0135\n",
      "Epoch 25/100\n",
      "192/192 [==============================] - 1s 6ms/step - loss: 0.1618 - mse: 0.1618 - kullback_leibler_divergence: 1.0343 - val_loss: 0.2329 - val_mse: 0.2329 - val_kullback_leibler_divergence: 1.0040\n",
      "Epoch 26/100\n",
      "192/192 [==============================] - 1s 6ms/step - loss: 0.1595 - mse: 0.1595 - kullback_leibler_divergence: 1.0202 - val_loss: 0.2305 - val_mse: 0.2305 - val_kullback_leibler_divergence: 1.0024\n",
      "Epoch 27/100\n",
      "192/192 [==============================] - 1s 6ms/step - loss: 0.1574 - mse: 0.1574 - kullback_leibler_divergence: 1.0102 - val_loss: 0.2282 - val_mse: 0.2282 - val_kullback_leibler_divergence: 0.9968\n",
      "Epoch 28/100\n",
      "192/192 [==============================] - 1s 6ms/step - loss: 0.1553 - mse: 0.1553 - kullback_leibler_divergence: 1.0078 - val_loss: 0.2260 - val_mse: 0.2260 - val_kullback_leibler_divergence: 0.9731\n",
      "Epoch 29/100\n",
      "192/192 [==============================] - 1s 7ms/step - loss: 0.1534 - mse: 0.1534 - kullback_leibler_divergence: 1.0010 - val_loss: 0.2238 - val_mse: 0.2238 - val_kullback_leibler_divergence: 0.9582\n",
      "Epoch 30/100\n",
      "192/192 [==============================] - 1s 6ms/step - loss: 0.1515 - mse: 0.1515 - kullback_leibler_divergence: 0.9879 - val_loss: 0.2217 - val_mse: 0.2217 - val_kullback_leibler_divergence: 0.9343\n",
      "Epoch 31/100\n",
      "192/192 [==============================] - 1s 6ms/step - loss: 0.1497 - mse: 0.1497 - kullback_leibler_divergence: 0.9733 - val_loss: 0.2197 - val_mse: 0.2197 - val_kullback_leibler_divergence: 0.9180\n",
      "Epoch 32/100\n",
      "192/192 [==============================] - 1s 6ms/step - loss: 0.1479 - mse: 0.1479 - kullback_leibler_divergence: 0.9669 - val_loss: 0.2177 - val_mse: 0.2177 - val_kullback_leibler_divergence: 0.9120\n",
      "Epoch 33/100\n",
      "192/192 [==============================] - 1s 6ms/step - loss: 0.1462 - mse: 0.1462 - kullback_leibler_divergence: 0.9597 - val_loss: 0.2158 - val_mse: 0.2158 - val_kullback_leibler_divergence: 0.9068\n",
      "Epoch 34/100\n",
      "192/192 [==============================] - 1s 6ms/step - loss: 0.1446 - mse: 0.1446 - kullback_leibler_divergence: 0.9431 - val_loss: 0.2139 - val_mse: 0.2139 - val_kullback_leibler_divergence: 0.9048\n",
      "Epoch 35/100\n",
      "192/192 [==============================] - 1s 6ms/step - loss: 0.1430 - mse: 0.1430 - kullback_leibler_divergence: 0.9313 - val_loss: 0.2121 - val_mse: 0.2121 - val_kullback_leibler_divergence: 0.8939\n",
      "Epoch 36/100\n",
      "192/192 [==============================] - 1s 6ms/step - loss: 0.1415 - mse: 0.1415 - kullback_leibler_divergence: 0.9233 - val_loss: 0.2104 - val_mse: 0.2104 - val_kullback_leibler_divergence: 0.8826\n",
      "Epoch 37/100\n",
      "192/192 [==============================] - 1s 6ms/step - loss: 0.1401 - mse: 0.1401 - kullback_leibler_divergence: 0.9144 - val_loss: 0.2088 - val_mse: 0.2088 - val_kullback_leibler_divergence: 0.8754\n",
      "Epoch 38/100\n",
      "192/192 [==============================] - 1s 6ms/step - loss: 0.1388 - mse: 0.1388 - kullback_leibler_divergence: 0.9129 - val_loss: 0.2072 - val_mse: 0.2072 - val_kullback_leibler_divergence: 0.8407\n",
      "Epoch 39/100\n",
      "192/192 [==============================] - 1s 6ms/step - loss: 0.1375 - mse: 0.1375 - kullback_leibler_divergence: 0.9171 - val_loss: 0.2057 - val_mse: 0.2057 - val_kullback_leibler_divergence: 0.8318\n",
      "Epoch 40/100\n",
      "192/192 [==============================] - 1s 7ms/step - loss: 0.1362 - mse: 0.1362 - kullback_leibler_divergence: 0.9136 - val_loss: 0.2043 - val_mse: 0.2043 - val_kullback_leibler_divergence: 0.8241\n",
      "Epoch 41/100\n",
      "192/192 [==============================] - 1s 6ms/step - loss: 0.1351 - mse: 0.1351 - kullback_leibler_divergence: 0.9151 - val_loss: 0.2030 - val_mse: 0.2030 - val_kullback_leibler_divergence: 0.8210\n",
      "Epoch 42/100\n",
      "192/192 [==============================] - 1s 6ms/step - loss: 0.1340 - mse: 0.1340 - kullback_leibler_divergence: 0.9095 - val_loss: 0.2017 - val_mse: 0.2017 - val_kullback_leibler_divergence: 0.8137\n",
      "Epoch 43/100\n",
      "192/192 [==============================] - 1s 6ms/step - loss: 0.1329 - mse: 0.1329 - kullback_leibler_divergence: 0.9075 - val_loss: 0.2006 - val_mse: 0.2006 - val_kullback_leibler_divergence: 0.7961\n",
      "Epoch 44/100\n",
      "192/192 [==============================] - 1s 6ms/step - loss: 0.1319 - mse: 0.1319 - kullback_leibler_divergence: 0.9010 - val_loss: 0.1995 - val_mse: 0.1995 - val_kullback_leibler_divergence: 0.7833\n",
      "Epoch 45/100\n",
      "192/192 [==============================] - 1s 7ms/step - loss: 0.1309 - mse: 0.1309 - kullback_leibler_divergence: 0.8954 - val_loss: 0.1984 - val_mse: 0.1984 - val_kullback_leibler_divergence: 0.7770\n",
      "Epoch 46/100\n",
      "192/192 [==============================] - 1s 6ms/step - loss: 0.1300 - mse: 0.1300 - kullback_leibler_divergence: 0.8888 - val_loss: 0.1975 - val_mse: 0.1975 - val_kullback_leibler_divergence: 0.7799\n",
      "Epoch 47/100\n",
      "192/192 [==============================] - 1s 6ms/step - loss: 0.1292 - mse: 0.1292 - kullback_leibler_divergence: 0.8903 - val_loss: 0.1966 - val_mse: 0.1966 - val_kullback_leibler_divergence: 0.7931\n",
      "Epoch 48/100\n",
      "192/192 [==============================] - 1s 6ms/step - loss: 0.1284 - mse: 0.1284 - kullback_leibler_divergence: 0.8911 - val_loss: 0.1957 - val_mse: 0.1957 - val_kullback_leibler_divergence: 0.7977\n",
      "Epoch 49/100\n",
      "192/192 [==============================] - 1s 6ms/step - loss: 0.1276 - mse: 0.1276 - kullback_leibler_divergence: 0.8861 - val_loss: 0.1949 - val_mse: 0.1949 - val_kullback_leibler_divergence: 0.7971\n",
      "Epoch 50/100\n",
      "192/192 [==============================] - 1s 6ms/step - loss: 0.1269 - mse: 0.1269 - kullback_leibler_divergence: 0.8811 - val_loss: 0.1941 - val_mse: 0.1941 - val_kullback_leibler_divergence: 0.7861\n",
      "Epoch 51/100\n",
      "192/192 [==============================] - 1s 6ms/step - loss: 0.1262 - mse: 0.1262 - kullback_leibler_divergence: 0.8827 - val_loss: 0.1934 - val_mse: 0.1934 - val_kullback_leibler_divergence: 0.7849\n",
      "Epoch 52/100\n",
      "192/192 [==============================] - 1s 6ms/step - loss: 0.1255 - mse: 0.1255 - kullback_leibler_divergence: 0.8723 - val_loss: 0.1927 - val_mse: 0.1927 - val_kullback_leibler_divergence: 0.7830\n",
      "Epoch 53/100\n",
      "192/192 [==============================] - 1s 6ms/step - loss: 0.1249 - mse: 0.1249 - kullback_leibler_divergence: 0.8667 - val_loss: 0.1921 - val_mse: 0.1921 - val_kullback_leibler_divergence: 0.7814\n",
      "Epoch 54/100\n",
      "192/192 [==============================] - 1s 6ms/step - loss: 0.1243 - mse: 0.1243 - kullback_leibler_divergence: 0.8669 - val_loss: 0.1915 - val_mse: 0.1915 - val_kullback_leibler_divergence: 0.7782\n",
      "Epoch 55/100\n",
      "192/192 [==============================] - 1s 6ms/step - loss: 0.1237 - mse: 0.1237 - kullback_leibler_divergence: 0.8626 - val_loss: 0.1909 - val_mse: 0.1909 - val_kullback_leibler_divergence: 0.7734\n",
      "Epoch 56/100\n",
      "192/192 [==============================] - 1s 6ms/step - loss: 0.1232 - mse: 0.1232 - kullback_leibler_divergence: 0.8663 - val_loss: 0.1903 - val_mse: 0.1903 - val_kullback_leibler_divergence: 0.7701\n",
      "Epoch 57/100\n",
      "192/192 [==============================] - 1s 6ms/step - loss: 0.1227 - mse: 0.1227 - kullback_leibler_divergence: 0.8607 - val_loss: 0.1898 - val_mse: 0.1898 - val_kullback_leibler_divergence: 0.7688\n",
      "Epoch 58/100\n",
      "192/192 [==============================] - 1s 6ms/step - loss: 0.1222 - mse: 0.1222 - kullback_leibler_divergence: 0.8635 - val_loss: 0.1893 - val_mse: 0.1893 - val_kullback_leibler_divergence: 0.7680\n",
      "Epoch 59/100\n",
      "192/192 [==============================] - 1s 6ms/step - loss: 0.1217 - mse: 0.1217 - kullback_leibler_divergence: 0.8575 - val_loss: 0.1889 - val_mse: 0.1889 - val_kullback_leibler_divergence: 0.7670\n",
      "Epoch 60/100\n",
      "192/192 [==============================] - 1s 6ms/step - loss: 0.1213 - mse: 0.1213 - kullback_leibler_divergence: 0.8533 - val_loss: 0.1884 - val_mse: 0.1884 - val_kullback_leibler_divergence: 0.7455\n",
      "Epoch 61/100\n",
      "192/192 [==============================] - 1s 7ms/step - loss: 0.1208 - mse: 0.1208 - kullback_leibler_divergence: 0.8495 - val_loss: 0.1880 - val_mse: 0.1880 - val_kullback_leibler_divergence: 0.7422\n",
      "Epoch 62/100\n",
      "192/192 [==============================] - 1s 6ms/step - loss: 0.1204 - mse: 0.1204 - kullback_leibler_divergence: 0.8526 - val_loss: 0.1876 - val_mse: 0.1876 - val_kullback_leibler_divergence: 0.7404\n",
      "Epoch 63/100\n",
      "192/192 [==============================] - 1s 6ms/step - loss: 0.1200 - mse: 0.1200 - kullback_leibler_divergence: 0.8501 - val_loss: 0.1871 - val_mse: 0.1871 - val_kullback_leibler_divergence: 0.7391\n",
      "Epoch 64/100\n",
      "192/192 [==============================] - 1s 6ms/step - loss: 0.1196 - mse: 0.1196 - kullback_leibler_divergence: 0.8484 - val_loss: 0.1867 - val_mse: 0.1867 - val_kullback_leibler_divergence: 0.7381\n",
      "Epoch 65/100\n",
      "192/192 [==============================] - 1s 6ms/step - loss: 0.1192 - mse: 0.1192 - kullback_leibler_divergence: 0.8455 - val_loss: 0.1863 - val_mse: 0.1863 - val_kullback_leibler_divergence: 0.7373\n",
      "Epoch 66/100\n",
      "192/192 [==============================] - 1s 7ms/step - loss: 0.1188 - mse: 0.1188 - kullback_leibler_divergence: 0.8394 - val_loss: 0.1859 - val_mse: 0.1859 - val_kullback_leibler_divergence: 0.7367\n",
      "Epoch 67/100\n",
      "192/192 [==============================] - 1s 7ms/step - loss: 0.1185 - mse: 0.1185 - kullback_leibler_divergence: 0.8325 - val_loss: 0.1855 - val_mse: 0.1855 - val_kullback_leibler_divergence: 0.7362\n",
      "Epoch 68/100\n",
      "192/192 [==============================] - 1s 6ms/step - loss: 0.1181 - mse: 0.1181 - kullback_leibler_divergence: 0.8259 - val_loss: 0.1851 - val_mse: 0.1851 - val_kullback_leibler_divergence: 0.7188\n",
      "Epoch 69/100\n",
      "192/192 [==============================] - 1s 6ms/step - loss: 0.1178 - mse: 0.1178 - kullback_leibler_divergence: 0.8243 - val_loss: 0.1848 - val_mse: 0.1848 - val_kullback_leibler_divergence: 0.7145\n",
      "Epoch 70/100\n",
      "192/192 [==============================] - 1s 6ms/step - loss: 0.1174 - mse: 0.1174 - kullback_leibler_divergence: 0.8160 - val_loss: 0.1844 - val_mse: 0.1844 - val_kullback_leibler_divergence: 0.7132\n",
      "Epoch 71/100\n",
      "192/192 [==============================] - 1s 6ms/step - loss: 0.1171 - mse: 0.1171 - kullback_leibler_divergence: 0.8083 - val_loss: 0.1840 - val_mse: 0.1840 - val_kullback_leibler_divergence: 0.7129\n",
      "Epoch 72/100\n",
      "192/192 [==============================] - 1s 6ms/step - loss: 0.1168 - mse: 0.1168 - kullback_leibler_divergence: 0.7999 - val_loss: 0.1836 - val_mse: 0.1836 - val_kullback_leibler_divergence: 0.7140\n",
      "Epoch 73/100\n",
      "192/192 [==============================] - 1s 6ms/step - loss: 0.1165 - mse: 0.1165 - kullback_leibler_divergence: 0.7967 - val_loss: 0.1832 - val_mse: 0.1832 - val_kullback_leibler_divergence: 0.7246\n",
      "Epoch 74/100\n",
      "192/192 [==============================] - 1s 6ms/step - loss: 0.1162 - mse: 0.1162 - kullback_leibler_divergence: 0.7926 - val_loss: 0.1828 - val_mse: 0.1828 - val_kullback_leibler_divergence: 0.7242\n",
      "Epoch 75/100\n",
      "192/192 [==============================] - 1s 6ms/step - loss: 0.1159 - mse: 0.1159 - kullback_leibler_divergence: 0.7899 - val_loss: 0.1824 - val_mse: 0.1824 - val_kullback_leibler_divergence: 0.7238\n",
      "Epoch 76/100\n",
      "192/192 [==============================] - 1s 6ms/step - loss: 0.1156 - mse: 0.1156 - kullback_leibler_divergence: 0.7891 - val_loss: 0.1820 - val_mse: 0.1820 - val_kullback_leibler_divergence: 0.7216\n",
      "Epoch 77/100\n",
      "192/192 [==============================] - 1s 6ms/step - loss: 0.1153 - mse: 0.1153 - kullback_leibler_divergence: 0.7929 - val_loss: 0.1816 - val_mse: 0.1816 - val_kullback_leibler_divergence: 0.7215\n",
      "Epoch 78/100\n",
      "192/192 [==============================] - 1s 8ms/step - loss: 0.1150 - mse: 0.1150 - kullback_leibler_divergence: 0.7919 - val_loss: 0.1812 - val_mse: 0.1812 - val_kullback_leibler_divergence: 0.7186\n",
      "Epoch 79/100\n",
      "192/192 [==============================] - 1s 6ms/step - loss: 0.1147 - mse: 0.1147 - kullback_leibler_divergence: 0.7875 - val_loss: 0.1808 - val_mse: 0.1808 - val_kullback_leibler_divergence: 0.7200\n",
      "Epoch 80/100\n",
      "192/192 [==============================] - 1s 6ms/step - loss: 0.1144 - mse: 0.1144 - kullback_leibler_divergence: 0.7862 - val_loss: 0.1804 - val_mse: 0.1804 - val_kullback_leibler_divergence: 0.7233\n",
      "Epoch 81/100\n",
      "192/192 [==============================] - 1s 6ms/step - loss: 0.1141 - mse: 0.1141 - kullback_leibler_divergence: 0.7861 - val_loss: 0.1801 - val_mse: 0.1801 - val_kullback_leibler_divergence: 0.7232\n",
      "Epoch 82/100\n",
      "192/192 [==============================] - 1s 6ms/step - loss: 0.1139 - mse: 0.1139 - kullback_leibler_divergence: 0.7848 - val_loss: 0.1797 - val_mse: 0.1797 - val_kullback_leibler_divergence: 0.7231\n",
      "Epoch 83/100\n",
      "192/192 [==============================] - 1s 6ms/step - loss: 0.1136 - mse: 0.1136 - kullback_leibler_divergence: 0.7788 - val_loss: 0.1794 - val_mse: 0.1794 - val_kullback_leibler_divergence: 0.7230\n",
      "Epoch 84/100\n",
      "192/192 [==============================] - 1s 6ms/step - loss: 0.1134 - mse: 0.1134 - kullback_leibler_divergence: 0.7751 - val_loss: 0.1790 - val_mse: 0.1790 - val_kullback_leibler_divergence: 0.7231\n",
      "Epoch 85/100\n",
      "192/192 [==============================] - 1s 6ms/step - loss: 0.1131 - mse: 0.1131 - kullback_leibler_divergence: 0.7724 - val_loss: 0.1787 - val_mse: 0.1787 - val_kullback_leibler_divergence: 0.7232\n",
      "Epoch 86/100\n",
      "192/192 [==============================] - 1s 6ms/step - loss: 0.1129 - mse: 0.1129 - kullback_leibler_divergence: 0.7706 - val_loss: 0.1784 - val_mse: 0.1784 - val_kullback_leibler_divergence: 0.7180\n",
      "Epoch 87/100\n",
      "192/192 [==============================] - 1s 6ms/step - loss: 0.1126 - mse: 0.1126 - kullback_leibler_divergence: 0.7699 - val_loss: 0.1781 - val_mse: 0.1781 - val_kullback_leibler_divergence: 0.7194\n",
      "Epoch 88/100\n",
      "192/192 [==============================] - 1s 6ms/step - loss: 0.1124 - mse: 0.1124 - kullback_leibler_divergence: 0.7694 - val_loss: 0.1778 - val_mse: 0.1778 - val_kullback_leibler_divergence: 0.7192\n",
      "Epoch 89/100\n",
      "192/192 [==============================] - 1s 7ms/step - loss: 0.1121 - mse: 0.1121 - kullback_leibler_divergence: 0.7682 - val_loss: 0.1775 - val_mse: 0.1775 - val_kullback_leibler_divergence: 0.6992\n",
      "Epoch 90/100\n",
      "192/192 [==============================] - 1s 8ms/step - loss: 0.1119 - mse: 0.1119 - kullback_leibler_divergence: 0.7629 - val_loss: 0.1772 - val_mse: 0.1772 - val_kullback_leibler_divergence: 0.6995\n",
      "Epoch 91/100\n",
      "192/192 [==============================] - 1s 7ms/step - loss: 0.1116 - mse: 0.1116 - kullback_leibler_divergence: 0.7613 - val_loss: 0.1770 - val_mse: 0.1770 - val_kullback_leibler_divergence: 0.6930\n",
      "Epoch 92/100\n",
      "192/192 [==============================] - 1s 6ms/step - loss: 0.1114 - mse: 0.1114 - kullback_leibler_divergence: 0.7609 - val_loss: 0.1767 - val_mse: 0.1767 - val_kullback_leibler_divergence: 0.6903\n",
      "Epoch 93/100\n",
      "192/192 [==============================] - 1s 6ms/step - loss: 0.1112 - mse: 0.1112 - kullback_leibler_divergence: 0.7551 - val_loss: 0.1765 - val_mse: 0.1765 - val_kullback_leibler_divergence: 0.6897\n",
      "Epoch 94/100\n",
      "192/192 [==============================] - 1s 6ms/step - loss: 0.1109 - mse: 0.1109 - kullback_leibler_divergence: 0.7505 - val_loss: 0.1762 - val_mse: 0.1762 - val_kullback_leibler_divergence: 0.6896\n",
      "Epoch 95/100\n",
      "192/192 [==============================] - 1s 6ms/step - loss: 0.1107 - mse: 0.1107 - kullback_leibler_divergence: 0.7518 - val_loss: 0.1760 - val_mse: 0.1760 - val_kullback_leibler_divergence: 0.6835\n",
      "Epoch 96/100\n",
      "192/192 [==============================] - 1s 6ms/step - loss: 0.1105 - mse: 0.1105 - kullback_leibler_divergence: 0.7507 - val_loss: 0.1758 - val_mse: 0.1758 - val_kullback_leibler_divergence: 0.6821\n",
      "Epoch 97/100\n",
      "192/192 [==============================] - 1s 6ms/step - loss: 0.1103 - mse: 0.1103 - kullback_leibler_divergence: 0.7506 - val_loss: 0.1756 - val_mse: 0.1756 - val_kullback_leibler_divergence: 0.6973\n",
      "Epoch 98/100\n",
      "192/192 [==============================] - 1s 6ms/step - loss: 0.1101 - mse: 0.1101 - kullback_leibler_divergence: 0.7510 - val_loss: 0.1753 - val_mse: 0.1753 - val_kullback_leibler_divergence: 0.6938\n",
      "Epoch 99/100\n",
      "192/192 [==============================] - 1s 7ms/step - loss: 0.1098 - mse: 0.1098 - kullback_leibler_divergence: 0.7557 - val_loss: 0.1751 - val_mse: 0.1751 - val_kullback_leibler_divergence: 0.6957\n",
      "Epoch 100/100\n",
      "192/192 [==============================] - 1s 7ms/step - loss: 0.1096 - mse: 0.1096 - kullback_leibler_divergence: 0.7533 - val_loss: 0.1749 - val_mse: 0.1749 - val_kullback_leibler_divergence: 0.6952\n"
     ]
    }
   ],
   "metadata": {
    "tags": [
     "outputPrepend"
    ]
   }
  },
  {
   "cell_type": "code",
   "execution_count": 16,
   "source": [
    "N_CATEGORIES = 28\r\n",
    "X = pd.DataFrame(columns=[\"A0\", \"A1\"], dtype=np.float64, index=range(N_CATEGORIES))\r\n",
    "\r\n",
    "for i in range(N_CATEGORIES):\r\n",
    "    X[\"A0\"][i] = class_to_action(str(i))[0]\r\n",
    "    X[\"A1\"][i] = class_to_action(str(i))[1]\r\n"
   ],
   "outputs": [],
   "metadata": {}
  },
  {
   "cell_type": "code",
   "execution_count": 20,
   "source": [
    "test_loss, test_mse, test_mae = single_step_sequential_model.evaluate(x_val_single_sequential,  y_val_single_sequential, verbose=2)"
   ],
   "outputs": [
    {
     "output_type": "stream",
     "name": "stdout",
     "text": [
      "2/2 - 0s - loss: 0.1796 - mse: 0.1796 - kullback_leibler_divergence: 0.7135\n"
     ]
    }
   ],
   "metadata": {
    "tags": []
   }
  },
  {
   "cell_type": "markdown",
   "source": [
    "Visualize the model's training progress."
   ],
   "metadata": {}
  },
  {
   "cell_type": "code",
   "execution_count": 21,
   "source": [
    "def plot_train_history(history, title):\r\n",
    "  loss = history.history['loss']\r\n",
    "  val_loss = history.history['val_loss']\r\n",
    "\r\n",
    "  epochs = range(len(loss))\r\n",
    "\r\n",
    "  plt.figure()\r\n",
    "\r\n",
    "  plt.plot(epochs, loss, 'b', label='Training loss')\r\n",
    "  plt.plot(epochs, val_loss, 'r', label='Validation loss')\r\n",
    "  plt.title(title)\r\n",
    "  plt.legend()\r\n",
    "\r\n",
    "  plt.show()"
   ],
   "outputs": [],
   "metadata": {}
  },
  {
   "cell_type": "code",
   "execution_count": 19,
   "source": [
    "plot_train_history(single_step_sequential_history,\r\n",
    "                   'Mean Square Error during training')"
   ],
   "outputs": [
    {
     "output_type": "display_data",
     "data": {
      "image/png": "[encoded data removed]",
      "image/svg+xml": "<?xml version=\"1.0\" encoding=\"utf-8\" standalone=\"no\"?>\r\n<!DOCTYPE svg PUBLIC \"-//W3C//DTD SVG 1.1//EN\"\r\n  \"http://www.w3.org/Graphics/SVG/1.1/DTD/svg11.dtd\">\r\n<!-- Created with matplotlib (https://matplotlib.org/) -->\r\n<svg height=\"263.63625pt\" version=\"1.1\" viewBox=\"0 0 372.103125 263.63625\" width=\"372.103125pt\" xmlns=\"http://www.w3.org/2000/svg\" xmlns:xlink=\"http://www.w3.org/1999/xlink\">\r\n <defs>\r\n  <style type=\"text/css\">\r\n*{stroke-linecap:butt;stroke-linejoin:round;}\r\n  </style>\r\n </defs>\r\n <g id=\"figure_1\">\r\n  <g id=\"patch_1\">\r\n   <path d=\"M 0 263.63625 \r\nL 372.103125 263.63625 \r\nL 372.103125 0 \r\nL 0 0 \r\nz\r\n\" style=\"fill:none;\"/>\r\n  </g>\r\n  <g id=\"axes_1\">\r\n   <g id=\"patch_2\">\r\n    <path d=\"M 30.103125 239.758125 \r\nL 364.903125 239.758125 \r\nL 364.903125 22.318125 \r\nL 30.103125 22.318125 \r\nz\r\n\" style=\"fill:#ffffff;\"/>\r\n   </g>\r\n   <g id=\"matplotlib.axis_1\">\r\n    <g id=\"xtick_1\">\r\n     <g id=\"line2d_1\">\r\n      <defs>\r\n       <path d=\"M 0 0 \r\nL 0 3.5 \r\n\" id=\"m932f85c1e3\" style=\"stroke:#000000;stroke-width:0.8;\"/>\r\n      </defs>\r\n      <g>\r\n       <use style=\"stroke:#000000;stroke-width:0.8;\" x=\"45.321307\" xlink:href=\"#m932f85c1e3\" y=\"239.758125\"/>\r\n      </g>\r\n     </g>\r\n     <g id=\"text_1\">\r\n      <!-- 0 -->\r\n      <defs>\r\n       <path d=\"M 31.78125 66.40625 \r\nQ 24.171875 66.40625 20.328125 58.90625 \r\nQ 16.5 51.421875 16.5 36.375 \r\nQ 16.5 21.390625 20.328125 13.890625 \r\nQ 24.171875 6.390625 31.78125 6.390625 \r\nQ 39.453125 6.390625 43.28125 13.890625 \r\nQ 47.125 21.390625 47.125 36.375 \r\nQ 47.125 51.421875 43.28125 58.90625 \r\nQ 39.453125 66.40625 31.78125 66.40625 \r\nz\r\nM 31.78125 74.21875 \r\nQ 44.046875 74.21875 50.515625 64.515625 \r\nQ 56.984375 54.828125 56.984375 36.375 \r\nQ 56.984375 17.96875 50.515625 8.265625 \r\nQ 44.046875 -1.421875 31.78125 -1.421875 \r\nQ 19.53125 -1.421875 13.0625 8.265625 \r\nQ 6.59375 17.96875 6.59375 36.375 \r\nQ 6.59375 54.828125 13.0625 64.515625 \r\nQ 19.53125 74.21875 31.78125 74.21875 \r\nz\r\n\" id=\"DejaVuSans-48\"/>\r\n      </defs>\r\n      <g transform=\"translate(42.140057 254.356563)scale(0.1 -0.1)\">\r\n       <use xlink:href=\"#DejaVuSans-48\"/>\r\n      </g>\r\n     </g>\r\n    </g>\r\n    <g id=\"xtick_2\">\r\n     <g id=\"line2d_2\">\r\n      <g>\r\n       <use style=\"stroke:#000000;stroke-width:0.8;\" x=\"106.80891\" xlink:href=\"#m932f85c1e3\" y=\"239.758125\"/>\r\n      </g>\r\n     </g>\r\n     <g id=\"text_2\">\r\n      <!-- 20 -->\r\n      <defs>\r\n       <path d=\"M 19.1875 8.296875 \r\nL 53.609375 8.296875 \r\nL 53.609375 0 \r\nL 7.328125 0 \r\nL 7.328125 8.296875 \r\nQ 12.9375 14.109375 22.625 23.890625 \r\nQ 32.328125 33.6875 34.8125 36.53125 \r\nQ 39.546875 41.84375 41.421875 45.53125 \r\nQ 43.3125 49.21875 43.3125 52.78125 \r\nQ 43.3125 58.59375 39.234375 62.25 \r\nQ 35.15625 65.921875 28.609375 65.921875 \r\nQ 23.96875 65.921875 18.8125 64.3125 \r\nQ 13.671875 62.703125 7.8125 59.421875 \r\nL 7.8125 69.390625 \r\nQ 13.765625 71.78125 18.9375 73 \r\nQ 24.125 74.21875 28.421875 74.21875 \r\nQ 39.75 74.21875 46.484375 68.546875 \r\nQ 53.21875 62.890625 53.21875 53.421875 \r\nQ 53.21875 48.921875 51.53125 44.890625 \r\nQ 49.859375 40.875 45.40625 35.40625 \r\nQ 44.1875 33.984375 37.640625 27.21875 \r\nQ 31.109375 20.453125 19.1875 8.296875 \r\nz\r\n\" id=\"DejaVuSans-50\"/>\r\n      </defs>\r\n      <g transform=\"translate(100.44641 254.356563)scale(0.1 -0.1)\">\r\n       <use xlink:href=\"#DejaVuSans-50\"/>\r\n       <use x=\"63.623047\" xlink:href=\"#DejaVuSans-48\"/>\r\n      </g>\r\n     </g>\r\n    </g>\r\n    <g id=\"xtick_3\">\r\n     <g id=\"line2d_3\">\r\n      <g>\r\n       <use style=\"stroke:#000000;stroke-width:0.8;\" x=\"168.296513\" xlink:href=\"#m932f85c1e3\" y=\"239.758125\"/>\r\n      </g>\r\n     </g>\r\n     <g id=\"text_3\">\r\n      <!-- 40 -->\r\n      <defs>\r\n       <path d=\"M 37.796875 64.3125 \r\nL 12.890625 25.390625 \r\nL 37.796875 25.390625 \r\nz\r\nM 35.203125 72.90625 \r\nL 47.609375 72.90625 \r\nL 47.609375 25.390625 \r\nL 58.015625 25.390625 \r\nL 58.015625 17.1875 \r\nL 47.609375 17.1875 \r\nL 47.609375 0 \r\nL 37.796875 0 \r\nL 37.796875 17.1875 \r\nL 4.890625 17.1875 \r\nL 4.890625 26.703125 \r\nz\r\n\" id=\"DejaVuSans-52\"/>\r\n      </defs>\r\n      <g transform=\"translate(161.934013 254.356563)scale(0.1 -0.1)\">\r\n       <use xlink:href=\"#DejaVuSans-52\"/>\r\n       <use x=\"63.623047\" xlink:href=\"#DejaVuSans-48\"/>\r\n      </g>\r\n     </g>\r\n    </g>\r\n    <g id=\"xtick_4\">\r\n     <g id=\"line2d_4\">\r\n      <g>\r\n       <use style=\"stroke:#000000;stroke-width:0.8;\" x=\"229.784117\" xlink:href=\"#m932f85c1e3\" y=\"239.758125\"/>\r\n      </g>\r\n     </g>\r\n     <g id=\"text_4\">\r\n      <!-- 60 -->\r\n      <defs>\r\n       <path d=\"M 33.015625 40.375 \r\nQ 26.375 40.375 22.484375 35.828125 \r\nQ 18.609375 31.296875 18.609375 23.390625 \r\nQ 18.609375 15.53125 22.484375 10.953125 \r\nQ 26.375 6.390625 33.015625 6.390625 \r\nQ 39.65625 6.390625 43.53125 10.953125 \r\nQ 47.40625 15.53125 47.40625 23.390625 \r\nQ 47.40625 31.296875 43.53125 35.828125 \r\nQ 39.65625 40.375 33.015625 40.375 \r\nz\r\nM 52.59375 71.296875 \r\nL 52.59375 62.3125 \r\nQ 48.875 64.0625 45.09375 64.984375 \r\nQ 41.3125 65.921875 37.59375 65.921875 \r\nQ 27.828125 65.921875 22.671875 59.328125 \r\nQ 17.53125 52.734375 16.796875 39.40625 \r\nQ 19.671875 43.65625 24.015625 45.921875 \r\nQ 28.375 48.1875 33.59375 48.1875 \r\nQ 44.578125 48.1875 50.953125 41.515625 \r\nQ 57.328125 34.859375 57.328125 23.390625 \r\nQ 57.328125 12.15625 50.6875 5.359375 \r\nQ 44.046875 -1.421875 33.015625 -1.421875 \r\nQ 20.359375 -1.421875 13.671875 8.265625 \r\nQ 6.984375 17.96875 6.984375 36.375 \r\nQ 6.984375 53.65625 15.1875 63.9375 \r\nQ 23.390625 74.21875 37.203125 74.21875 \r\nQ 40.921875 74.21875 44.703125 73.484375 \r\nQ 48.484375 72.75 52.59375 71.296875 \r\nz\r\n\" id=\"DejaVuSans-54\"/>\r\n      </defs>\r\n      <g transform=\"translate(223.421617 254.356563)scale(0.1 -0.1)\">\r\n       <use xlink:href=\"#DejaVuSans-54\"/>\r\n       <use x=\"63.623047\" xlink:href=\"#DejaVuSans-48\"/>\r\n      </g>\r\n     </g>\r\n    </g>\r\n    <g id=\"xtick_5\">\r\n     <g id=\"line2d_5\">\r\n      <g>\r\n       <use style=\"stroke:#000000;stroke-width:0.8;\" x=\"291.27172\" xlink:href=\"#m932f85c1e3\" y=\"239.758125\"/>\r\n      </g>\r\n     </g>\r\n     <g id=\"text_5\">\r\n      <!-- 80 -->\r\n      <defs>\r\n       <path d=\"M 31.78125 34.625 \r\nQ 24.75 34.625 20.71875 30.859375 \r\nQ 16.703125 27.09375 16.703125 20.515625 \r\nQ 16.703125 13.921875 20.71875 10.15625 \r\nQ 24.75 6.390625 31.78125 6.390625 \r\nQ 38.8125 6.390625 42.859375 10.171875 \r\nQ 46.921875 13.96875 46.921875 20.515625 \r\nQ 46.921875 27.09375 42.890625 30.859375 \r\nQ 38.875 34.625 31.78125 34.625 \r\nz\r\nM 21.921875 38.8125 \r\nQ 15.578125 40.375 12.03125 44.71875 \r\nQ 8.5 49.078125 8.5 55.328125 \r\nQ 8.5 64.0625 14.71875 69.140625 \r\nQ 20.953125 74.21875 31.78125 74.21875 \r\nQ 42.671875 74.21875 48.875 69.140625 \r\nQ 55.078125 64.0625 55.078125 55.328125 \r\nQ 55.078125 49.078125 51.53125 44.71875 \r\nQ 48 40.375 41.703125 38.8125 \r\nQ 48.828125 37.15625 52.796875 32.3125 \r\nQ 56.78125 27.484375 56.78125 20.515625 \r\nQ 56.78125 9.90625 50.3125 4.234375 \r\nQ 43.84375 -1.421875 31.78125 -1.421875 \r\nQ 19.734375 -1.421875 13.25 4.234375 \r\nQ 6.78125 9.90625 6.78125 20.515625 \r\nQ 6.78125 27.484375 10.78125 32.3125 \r\nQ 14.796875 37.15625 21.921875 38.8125 \r\nz\r\nM 18.3125 54.390625 \r\nQ 18.3125 48.734375 21.84375 45.5625 \r\nQ 25.390625 42.390625 31.78125 42.390625 \r\nQ 38.140625 42.390625 41.71875 45.5625 \r\nQ 45.3125 48.734375 45.3125 54.390625 \r\nQ 45.3125 60.0625 41.71875 63.234375 \r\nQ 38.140625 66.40625 31.78125 66.40625 \r\nQ 25.390625 66.40625 21.84375 63.234375 \r\nQ 18.3125 60.0625 18.3125 54.390625 \r\nz\r\n\" id=\"DejaVuSans-56\"/>\r\n      </defs>\r\n      <g transform=\"translate(284.90922 254.356563)scale(0.1 -0.1)\">\r\n       <use xlink:href=\"#DejaVuSans-56\"/>\r\n       <use x=\"63.623047\" xlink:href=\"#DejaVuSans-48\"/>\r\n      </g>\r\n     </g>\r\n    </g>\r\n    <g id=\"xtick_6\">\r\n     <g id=\"line2d_6\">\r\n      <g>\r\n       <use style=\"stroke:#000000;stroke-width:0.8;\" x=\"352.759323\" xlink:href=\"#m932f85c1e3\" y=\"239.758125\"/>\r\n      </g>\r\n     </g>\r\n     <g id=\"text_6\">\r\n      <!-- 100 -->\r\n      <defs>\r\n       <path d=\"M 12.40625 8.296875 \r\nL 28.515625 8.296875 \r\nL 28.515625 63.921875 \r\nL 10.984375 60.40625 \r\nL 10.984375 69.390625 \r\nL 28.421875 72.90625 \r\nL 38.28125 72.90625 \r\nL 38.28125 8.296875 \r\nL 54.390625 8.296875 \r\nL 54.390625 0 \r\nL 12.40625 0 \r\nz\r\n\" id=\"DejaVuSans-49\"/>\r\n      </defs>\r\n      <g transform=\"translate(343.215573 254.356563)scale(0.1 -0.1)\">\r\n       <use xlink:href=\"#DejaVuSans-49\"/>\r\n       <use x=\"63.623047\" xlink:href=\"#DejaVuSans-48\"/>\r\n       <use x=\"127.246094\" xlink:href=\"#DejaVuSans-48\"/>\r\n      </g>\r\n     </g>\r\n    </g>\r\n   </g>\r\n   <g id=\"matplotlib.axis_2\">\r\n    <g id=\"ytick_1\">\r\n     <g id=\"line2d_7\">\r\n      <defs>\r\n       <path d=\"M 0 0 \r\nL -3.5 0 \r\n\" id=\"m344f9d2f33\" style=\"stroke:#000000;stroke-width:0.8;\"/>\r\n      </defs>\r\n      <g>\r\n       <use style=\"stroke:#000000;stroke-width:0.8;\" x=\"30.103125\" xlink:href=\"#m344f9d2f33\" y=\"212.675887\"/>\r\n      </g>\r\n     </g>\r\n     <g id=\"text_7\">\r\n      <!-- 0.2 -->\r\n      <defs>\r\n       <path d=\"M 10.6875 12.40625 \r\nL 21 12.40625 \r\nL 21 0 \r\nL 10.6875 0 \r\nz\r\n\" id=\"DejaVuSans-46\"/>\r\n      </defs>\r\n      <g transform=\"translate(7.2 216.475106)scale(0.1 -0.1)\">\r\n       <use xlink:href=\"#DejaVuSans-48\"/>\r\n       <use x=\"63.623047\" xlink:href=\"#DejaVuSans-46\"/>\r\n       <use x=\"95.410156\" xlink:href=\"#DejaVuSans-50\"/>\r\n      </g>\r\n     </g>\r\n    </g>\r\n    <g id=\"ytick_2\">\r\n     <g id=\"line2d_8\">\r\n      <g>\r\n       <use style=\"stroke:#000000;stroke-width:0.8;\" x=\"30.103125\" xlink:href=\"#m344f9d2f33\" y=\"172.603148\"/>\r\n      </g>\r\n     </g>\r\n     <g id=\"text_8\">\r\n      <!-- 0.4 -->\r\n      <g transform=\"translate(7.2 176.402367)scale(0.1 -0.1)\">\r\n       <use xlink:href=\"#DejaVuSans-48\"/>\r\n       <use x=\"63.623047\" xlink:href=\"#DejaVuSans-46\"/>\r\n       <use x=\"95.410156\" xlink:href=\"#DejaVuSans-52\"/>\r\n      </g>\r\n     </g>\r\n    </g>\r\n    <g id=\"ytick_3\">\r\n     <g id=\"line2d_9\">\r\n      <g>\r\n       <use style=\"stroke:#000000;stroke-width:0.8;\" x=\"30.103125\" xlink:href=\"#m344f9d2f33\" y=\"132.530409\"/>\r\n      </g>\r\n     </g>\r\n     <g id=\"text_9\">\r\n      <!-- 0.6 -->\r\n      <g transform=\"translate(7.2 136.329628)scale(0.1 -0.1)\">\r\n       <use xlink:href=\"#DejaVuSans-48\"/>\r\n       <use x=\"63.623047\" xlink:href=\"#DejaVuSans-46\"/>\r\n       <use x=\"95.410156\" xlink:href=\"#DejaVuSans-54\"/>\r\n      </g>\r\n     </g>\r\n    </g>\r\n    <g id=\"ytick_4\">\r\n     <g id=\"line2d_10\">\r\n      <g>\r\n       <use style=\"stroke:#000000;stroke-width:0.8;\" x=\"30.103125\" xlink:href=\"#m344f9d2f33\" y=\"92.45767\"/>\r\n      </g>\r\n     </g>\r\n     <g id=\"text_10\">\r\n      <!-- 0.8 -->\r\n      <g transform=\"translate(7.2 96.256889)scale(0.1 -0.1)\">\r\n       <use xlink:href=\"#DejaVuSans-48\"/>\r\n       <use x=\"63.623047\" xlink:href=\"#DejaVuSans-46\"/>\r\n       <use x=\"95.410156\" xlink:href=\"#DejaVuSans-56\"/>\r\n      </g>\r\n     </g>\r\n    </g>\r\n    <g id=\"ytick_5\">\r\n     <g id=\"line2d_11\">\r\n      <g>\r\n       <use style=\"stroke:#000000;stroke-width:0.8;\" x=\"30.103125\" xlink:href=\"#m344f9d2f33\" y=\"52.384931\"/>\r\n      </g>\r\n     </g>\r\n     <g id=\"text_11\">\r\n      <!-- 1.0 -->\r\n      <g transform=\"translate(7.2 56.18415)scale(0.1 -0.1)\">\r\n       <use xlink:href=\"#DejaVuSans-49\"/>\r\n       <use x=\"63.623047\" xlink:href=\"#DejaVuSans-46\"/>\r\n       <use x=\"95.410156\" xlink:href=\"#DejaVuSans-48\"/>\r\n      </g>\r\n     </g>\r\n    </g>\r\n   </g>\r\n   <g id=\"line2d_12\">\r\n    <path clip-path=\"url(#p1f2571e9da)\" d=\"M 45.321307 32.201761 \r\nL 48.395687 143.603751 \r\nL 51.470067 169.638765 \r\nL 54.544447 181.338291 \r\nL 57.618827 188.443439 \r\nL 60.693208 193.387887 \r\nL 63.767588 197.018538 \r\nL 66.841968 199.954729 \r\nL 69.916348 202.362577 \r\nL 72.990728 204.165329 \r\nL 76.065108 205.513087 \r\nL 79.139489 206.640686 \r\nL 82.213869 207.66016 \r\nL 85.288249 208.604323 \r\nL 88.362629 209.487647 \r\nL 91.437009 210.31873 \r\nL 94.511389 211.102573 \r\nL 97.58577 211.842414 \r\nL 100.66015 212.540776 \r\nL 103.73453 213.199432 \r\nL 106.80891 213.819697 \r\nL 109.88329 214.40256 \r\nL 112.95767 214.949587 \r\nL 116.032051 215.463295 \r\nL 119.106431 215.946439 \r\nL 122.180811 216.401739 \r\nL 125.255191 216.831749 \r\nL 128.329571 217.238638 \r\nL 131.403951 217.624067 \r\nL 134.478332 217.990232 \r\nL 137.552712 218.338917 \r\nL 140.627092 218.671428 \r\nL 143.701472 218.988655 \r\nL 146.775852 219.291236 \r\nL 149.850232 219.579706 \r\nL 152.924613 219.854633 \r\nL 155.998993 220.116712 \r\nL 159.073373 220.366783 \r\nL 162.147753 220.605769 \r\nL 165.222133 220.834572 \r\nL 168.296513 221.054014 \r\nL 171.370894 221.264812 \r\nL 174.445274 221.467579 \r\nL 177.519654 221.662844 \r\nL 180.594034 221.851057 \r\nL 183.668414 222.032617 \r\nL 186.742794 222.207864 \r\nL 189.817175 222.377102 \r\nL 192.891555 222.540596 \r\nL 195.965935 222.698589 \r\nL 199.040315 222.851311 \r\nL 202.114695 222.998986 \r\nL 205.189075 223.141841 \r\nL 208.263456 223.280102 \r\nL 211.337836 223.413991 \r\nL 214.412216 223.54371 \r\nL 217.486596 223.669432 \r\nL 220.560976 223.791368 \r\nL 223.635356 223.909777 \r\nL 226.709737 224.024869 \r\nL 229.784117 224.136826 \r\nL 232.858497 224.245804 \r\nL 235.932877 224.351935 \r\nL 239.007257 224.455335 \r\nL 242.081637 224.55611 \r\nL 245.156018 224.654347 \r\nL 248.230398 224.750126 \r\nL 251.304778 224.843522 \r\nL 254.379158 224.93463 \r\nL 257.453538 225.023549 \r\nL 260.527918 225.110362 \r\nL 263.602299 225.195148 \r\nL 266.676679 225.277984 \r\nL 269.751059 225.35895 \r\nL 272.825439 225.438117 \r\nL 275.899819 225.515556 \r\nL 278.974199 225.591335 \r\nL 282.04858 225.665515 \r\nL 285.12296 225.738155 \r\nL 288.19734 225.809304 \r\nL 291.27172 225.879008 \r\nL 294.3461 225.947314 \r\nL 297.42048 226.014255 \r\nL 300.494861 226.079865 \r\nL 303.569241 226.144165 \r\nL 306.643621 226.20717 \r\nL 309.718001 226.268906 \r\nL 312.792381 226.329392 \r\nL 315.866761 226.388649 \r\nL 318.941142 226.446691 \r\nL 322.015522 226.503529 \r\nL 325.089902 226.559177 \r\nL 328.164282 226.613651 \r\nL 331.238662 226.666962 \r\nL 334.313042 226.71913 \r\nL 337.387423 226.770174 \r\nL 340.461803 226.820123 \r\nL 343.536183 226.869008 \r\nL 346.610563 226.916865 \r\nL 349.684943 226.963739 \r\n\" style=\"fill:none;stroke:#0000ff;stroke-linecap:square;stroke-width:1.5;\"/>\r\n   </g>\r\n   <g id=\"line2d_13\">\r\n    <path clip-path=\"url(#p1f2571e9da)\" d=\"M 45.321307 118.114426 \r\nL 48.395687 165.149746 \r\nL 51.470067 181.073438 \r\nL 54.544447 190.939496 \r\nL 57.618827 197.508181 \r\nL 60.693208 202.140792 \r\nL 63.767588 205.452167 \r\nL 66.841968 208.076907 \r\nL 69.916348 210.110858 \r\nL 72.990728 211.669547 \r\nL 76.065108 212.926797 \r\nL 79.139489 214.021901 \r\nL 82.213869 215.019451 \r\nL 85.288249 215.94894 \r\nL 88.362629 216.822246 \r\nL 91.437009 217.643092 \r\nL 94.511389 218.413812 \r\nL 97.58577 219.137592 \r\nL 100.66015 219.81771 \r\nL 103.73453 220.457204 \r\nL 106.80891 221.058274 \r\nL 109.88329 221.621158 \r\nL 112.95767 222.149352 \r\nL 116.032051 222.645904 \r\nL 119.106431 223.113001 \r\nL 122.180811 223.552601 \r\nL 125.255191 223.96625 \r\nL 128.329571 224.354604 \r\nL 131.403951 224.719672 \r\nL 134.478332 225.0642 \r\nL 137.552712 225.390362 \r\nL 140.627092 225.699015 \r\nL 143.701472 225.99037 \r\nL 146.775852 226.264501 \r\nL 149.850232 226.521489 \r\nL 152.924613 226.761558 \r\nL 155.998993 226.985281 \r\nL 159.073373 227.193608 \r\nL 162.147753 227.387611 \r\nL 165.222133 227.568302 \r\nL 168.296513 227.736582 \r\nL 171.370894 227.893262 \r\nL 174.445274 228.039081 \r\nL 177.519654 228.174705 \r\nL 180.594034 228.300776 \r\nL 183.668414 228.417874 \r\nL 186.742794 228.52654 \r\nL 189.817175 228.627228 \r\nL 192.891555 228.720371 \r\nL 195.965935 228.806393 \r\nL 199.040315 228.885747 \r\nL 202.114695 228.958922 \r\nL 205.189075 229.026424 \r\nL 208.263456 229.088775 \r\nL 211.337836 229.146471 \r\nL 214.412216 229.200017 \r\nL 217.486596 229.250003 \r\nL 220.560976 229.296899 \r\nL 223.635356 229.340946 \r\nL 226.709737 229.382371 \r\nL 229.784117 229.421389 \r\nL 232.858497 229.458139 \r\nL 235.932877 229.492635 \r\nL 239.007257 229.52486 \r\nL 242.081637 229.554994 \r\nL 245.156018 229.583237 \r\nL 248.230398 229.609596 \r\nL 251.304778 229.634245 \r\nL 254.379158 229.65755 \r\nL 257.453538 229.679648 \r\nL 260.527918 229.700575 \r\nL 263.602299 229.720328 \r\nL 266.676679 229.738888 \r\nL 269.751059 229.756258 \r\nL 272.825439 229.772423 \r\nL 275.899819 229.787377 \r\nL 278.974199 229.801138 \r\nL 282.04858 229.813695 \r\nL 285.12296 229.825062 \r\nL 288.19734 229.835228 \r\nL 291.27172 229.8442 \r\nL 294.3461 229.851949 \r\nL 297.42048 229.858444 \r\nL 300.494861 229.863675 \r\nL 303.569241 229.867709 \r\nL 306.643621 229.87069 \r\nL 309.718001 229.872746 \r\nL 312.792381 229.873983 \r\nL 315.866761 229.874489 \r\nL 318.941142 229.874395 \r\nL 322.015522 229.873837 \r\nL 325.089902 229.872972 \r\nL 328.164282 229.871959 \r\nL 331.238662 229.870967 \r\nL 334.313042 229.870166 \r\nL 337.387423 229.869711 \r\nL 340.461803 229.869753 \r\nL 343.536183 229.870416 \r\nL 346.610563 229.871783 \r\nL 349.684943 229.873893 \r\n\" style=\"fill:none;stroke:#ff0000;stroke-linecap:square;stroke-width:1.5;\"/>\r\n   </g>\r\n   <g id=\"patch_3\">\r\n    <path d=\"M 30.103125 239.758125 \r\nL 30.103125 22.318125 \r\n\" style=\"fill:none;stroke:#000000;stroke-linecap:square;stroke-linejoin:miter;stroke-width:0.8;\"/>\r\n   </g>\r\n   <g id=\"patch_4\">\r\n    <path d=\"M 364.903125 239.758125 \r\nL 364.903125 22.318125 \r\n\" style=\"fill:none;stroke:#000000;stroke-linecap:square;stroke-linejoin:miter;stroke-width:0.8;\"/>\r\n   </g>\r\n   <g id=\"patch_5\">\r\n    <path d=\"M 30.103125 239.758125 \r\nL 364.903125 239.758125 \r\n\" style=\"fill:none;stroke:#000000;stroke-linecap:square;stroke-linejoin:miter;stroke-width:0.8;\"/>\r\n   </g>\r\n   <g id=\"patch_6\">\r\n    <path d=\"M 30.103125 22.318125 \r\nL 364.903125 22.318125 \r\n\" style=\"fill:none;stroke:#000000;stroke-linecap:square;stroke-linejoin:miter;stroke-width:0.8;\"/>\r\n   </g>\r\n   <g id=\"text_12\">\r\n    <!-- Mean Square Error during training -->\r\n    <defs>\r\n     <path d=\"M 9.8125 72.90625 \r\nL 24.515625 72.90625 \r\nL 43.109375 23.296875 \r\nL 61.8125 72.90625 \r\nL 76.515625 72.90625 \r\nL 76.515625 0 \r\nL 66.890625 0 \r\nL 66.890625 64.015625 \r\nL 48.09375 14.015625 \r\nL 38.1875 14.015625 \r\nL 19.390625 64.015625 \r\nL 19.390625 0 \r\nL 9.8125 0 \r\nz\r\n\" id=\"DejaVuSans-77\"/>\r\n     <path d=\"M 56.203125 29.59375 \r\nL 56.203125 25.203125 \r\nL 14.890625 25.203125 \r\nQ 15.484375 15.921875 20.484375 11.0625 \r\nQ 25.484375 6.203125 34.421875 6.203125 \r\nQ 39.59375 6.203125 44.453125 7.46875 \r\nQ 49.3125 8.734375 54.109375 11.28125 \r\nL 54.109375 2.78125 \r\nQ 49.265625 0.734375 44.1875 -0.34375 \r\nQ 39.109375 -1.421875 33.890625 -1.421875 \r\nQ 20.796875 -1.421875 13.15625 6.1875 \r\nQ 5.515625 13.8125 5.515625 26.8125 \r\nQ 5.515625 40.234375 12.765625 48.109375 \r\nQ 20.015625 56 32.328125 56 \r\nQ 43.359375 56 49.78125 48.890625 \r\nQ 56.203125 41.796875 56.203125 29.59375 \r\nz\r\nM 47.21875 32.234375 \r\nQ 47.125 39.59375 43.09375 43.984375 \r\nQ 39.0625 48.390625 32.421875 48.390625 \r\nQ 24.90625 48.390625 20.390625 44.140625 \r\nQ 15.875 39.890625 15.1875 32.171875 \r\nz\r\n\" id=\"DejaVuSans-101\"/>\r\n     <path d=\"M 34.28125 27.484375 \r\nQ 23.390625 27.484375 19.1875 25 \r\nQ 14.984375 22.515625 14.984375 16.5 \r\nQ 14.984375 11.71875 18.140625 8.90625 \r\nQ 21.296875 6.109375 26.703125 6.109375 \r\nQ 34.1875 6.109375 38.703125 11.40625 \r\nQ 43.21875 16.703125 43.21875 25.484375 \r\nL 43.21875 27.484375 \r\nz\r\nM 52.203125 31.203125 \r\nL 52.203125 0 \r\nL 43.21875 0 \r\nL 43.21875 8.296875 \r\nQ 40.140625 3.328125 35.546875 0.953125 \r\nQ 30.953125 -1.421875 24.3125 -1.421875 \r\nQ 15.921875 -1.421875 10.953125 3.296875 \r\nQ 6 8.015625 6 15.921875 \r\nQ 6 25.140625 12.171875 29.828125 \r\nQ 18.359375 34.515625 30.609375 34.515625 \r\nL 43.21875 34.515625 \r\nL 43.21875 35.40625 \r\nQ 43.21875 41.609375 39.140625 45 \r\nQ 35.0625 48.390625 27.6875 48.390625 \r\nQ 23 48.390625 18.546875 47.265625 \r\nQ 14.109375 46.140625 10.015625 43.890625 \r\nL 10.015625 52.203125 \r\nQ 14.9375 54.109375 19.578125 55.046875 \r\nQ 24.21875 56 28.609375 56 \r\nQ 40.484375 56 46.34375 49.84375 \r\nQ 52.203125 43.703125 52.203125 31.203125 \r\nz\r\n\" id=\"DejaVuSans-97\"/>\r\n     <path d=\"M 54.890625 33.015625 \r\nL 54.890625 0 \r\nL 45.90625 0 \r\nL 45.90625 32.71875 \r\nQ 45.90625 40.484375 42.875 44.328125 \r\nQ 39.84375 48.1875 33.796875 48.1875 \r\nQ 26.515625 48.1875 22.3125 43.546875 \r\nQ 18.109375 38.921875 18.109375 30.90625 \r\nL 18.109375 0 \r\nL 9.078125 0 \r\nL 9.078125 54.6875 \r\nL 18.109375 54.6875 \r\nL 18.109375 46.1875 \r\nQ 21.34375 51.125 25.703125 53.5625 \r\nQ 30.078125 56 35.796875 56 \r\nQ 45.21875 56 50.046875 50.171875 \r\nQ 54.890625 44.34375 54.890625 33.015625 \r\nz\r\n\" id=\"DejaVuSans-110\"/>\r\n     <path id=\"DejaVuSans-32\"/>\r\n     <path d=\"M 53.515625 70.515625 \r\nL 53.515625 60.890625 \r\nQ 47.90625 63.578125 42.921875 64.890625 \r\nQ 37.9375 66.21875 33.296875 66.21875 \r\nQ 25.25 66.21875 20.875 63.09375 \r\nQ 16.5 59.96875 16.5 54.203125 \r\nQ 16.5 49.359375 19.40625 46.890625 \r\nQ 22.3125 44.4375 30.421875 42.921875 \r\nL 36.375 41.703125 \r\nQ 47.40625 39.59375 52.65625 34.296875 \r\nQ 57.90625 29 57.90625 20.125 \r\nQ 57.90625 9.515625 50.796875 4.046875 \r\nQ 43.703125 -1.421875 29.984375 -1.421875 \r\nQ 24.8125 -1.421875 18.96875 -0.25 \r\nQ 13.140625 0.921875 6.890625 3.21875 \r\nL 6.890625 13.375 \r\nQ 12.890625 10.015625 18.65625 8.296875 \r\nQ 24.421875 6.59375 29.984375 6.59375 \r\nQ 38.421875 6.59375 43.015625 9.90625 \r\nQ 47.609375 13.234375 47.609375 19.390625 \r\nQ 47.609375 24.75 44.3125 27.78125 \r\nQ 41.015625 30.8125 33.5 32.328125 \r\nL 27.484375 33.5 \r\nQ 16.453125 35.6875 11.515625 40.375 \r\nQ 6.59375 45.0625 6.59375 53.421875 \r\nQ 6.59375 63.09375 13.40625 68.65625 \r\nQ 20.21875 74.21875 32.171875 74.21875 \r\nQ 37.3125 74.21875 42.625 73.28125 \r\nQ 47.953125 72.359375 53.515625 70.515625 \r\nz\r\n\" id=\"DejaVuSans-83\"/>\r\n     <path d=\"M 14.796875 27.296875 \r\nQ 14.796875 17.390625 18.875 11.75 \r\nQ 22.953125 6.109375 30.078125 6.109375 \r\nQ 37.203125 6.109375 41.296875 11.75 \r\nQ 45.40625 17.390625 45.40625 27.296875 \r\nQ 45.40625 37.203125 41.296875 42.84375 \r\nQ 37.203125 48.484375 30.078125 48.484375 \r\nQ 22.953125 48.484375 18.875 42.84375 \r\nQ 14.796875 37.203125 14.796875 27.296875 \r\nz\r\nM 45.40625 8.203125 \r\nQ 42.578125 3.328125 38.25 0.953125 \r\nQ 33.9375 -1.421875 27.875 -1.421875 \r\nQ 17.96875 -1.421875 11.734375 6.484375 \r\nQ 5.515625 14.40625 5.515625 27.296875 \r\nQ 5.515625 40.1875 11.734375 48.09375 \r\nQ 17.96875 56 27.875 56 \r\nQ 33.9375 56 38.25 53.625 \r\nQ 42.578125 51.265625 45.40625 46.390625 \r\nL 45.40625 54.6875 \r\nL 54.390625 54.6875 \r\nL 54.390625 -20.796875 \r\nL 45.40625 -20.796875 \r\nz\r\n\" id=\"DejaVuSans-113\"/>\r\n     <path d=\"M 8.5 21.578125 \r\nL 8.5 54.6875 \r\nL 17.484375 54.6875 \r\nL 17.484375 21.921875 \r\nQ 17.484375 14.15625 20.5 10.265625 \r\nQ 23.53125 6.390625 29.59375 6.390625 \r\nQ 36.859375 6.390625 41.078125 11.03125 \r\nQ 45.3125 15.671875 45.3125 23.6875 \r\nL 45.3125 54.6875 \r\nL 54.296875 54.6875 \r\nL 54.296875 0 \r\nL 45.3125 0 \r\nL 45.3125 8.40625 \r\nQ 42.046875 3.421875 37.71875 1 \r\nQ 33.40625 -1.421875 27.6875 -1.421875 \r\nQ 18.265625 -1.421875 13.375 4.4375 \r\nQ 8.5 10.296875 8.5 21.578125 \r\nz\r\nM 31.109375 56 \r\nz\r\n\" id=\"DejaVuSans-117\"/>\r\n     <path d=\"M 41.109375 46.296875 \r\nQ 39.59375 47.171875 37.8125 47.578125 \r\nQ 36.03125 48 33.890625 48 \r\nQ 26.265625 48 22.1875 43.046875 \r\nQ 18.109375 38.09375 18.109375 28.8125 \r\nL 18.109375 0 \r\nL 9.078125 0 \r\nL 9.078125 54.6875 \r\nL 18.109375 54.6875 \r\nL 18.109375 46.1875 \r\nQ 20.953125 51.171875 25.484375 53.578125 \r\nQ 30.03125 56 36.53125 56 \r\nQ 37.453125 56 38.578125 55.875 \r\nQ 39.703125 55.765625 41.0625 55.515625 \r\nz\r\n\" id=\"DejaVuSans-114\"/>\r\n     <path d=\"M 9.8125 72.90625 \r\nL 55.90625 72.90625 \r\nL 55.90625 64.59375 \r\nL 19.671875 64.59375 \r\nL 19.671875 43.015625 \r\nL 54.390625 43.015625 \r\nL 54.390625 34.71875 \r\nL 19.671875 34.71875 \r\nL 19.671875 8.296875 \r\nL 56.78125 8.296875 \r\nL 56.78125 0 \r\nL 9.8125 0 \r\nz\r\n\" id=\"DejaVuSans-69\"/>\r\n     <path d=\"M 30.609375 48.390625 \r\nQ 23.390625 48.390625 19.1875 42.75 \r\nQ 14.984375 37.109375 14.984375 27.296875 \r\nQ 14.984375 17.484375 19.15625 11.84375 \r\nQ 23.34375 6.203125 30.609375 6.203125 \r\nQ 37.796875 6.203125 41.984375 11.859375 \r\nQ 46.1875 17.53125 46.1875 27.296875 \r\nQ 46.1875 37.015625 41.984375 42.703125 \r\nQ 37.796875 48.390625 30.609375 48.390625 \r\nz\r\nM 30.609375 56 \r\nQ 42.328125 56 49.015625 48.375 \r\nQ 55.71875 40.765625 55.71875 27.296875 \r\nQ 55.71875 13.875 49.015625 6.21875 \r\nQ 42.328125 -1.421875 30.609375 -1.421875 \r\nQ 18.84375 -1.421875 12.171875 6.21875 \r\nQ 5.515625 13.875 5.515625 27.296875 \r\nQ 5.515625 40.765625 12.171875 48.375 \r\nQ 18.84375 56 30.609375 56 \r\nz\r\n\" id=\"DejaVuSans-111\"/>\r\n     <path d=\"M 45.40625 46.390625 \r\nL 45.40625 75.984375 \r\nL 54.390625 75.984375 \r\nL 54.390625 0 \r\nL 45.40625 0 \r\nL 45.40625 8.203125 \r\nQ 42.578125 3.328125 38.25 0.953125 \r\nQ 33.9375 -1.421875 27.875 -1.421875 \r\nQ 17.96875 -1.421875 11.734375 6.484375 \r\nQ 5.515625 14.40625 5.515625 27.296875 \r\nQ 5.515625 40.1875 11.734375 48.09375 \r\nQ 17.96875 56 27.875 56 \r\nQ 33.9375 56 38.25 53.625 \r\nQ 42.578125 51.265625 45.40625 46.390625 \r\nz\r\nM 14.796875 27.296875 \r\nQ 14.796875 17.390625 18.875 11.75 \r\nQ 22.953125 6.109375 30.078125 6.109375 \r\nQ 37.203125 6.109375 41.296875 11.75 \r\nQ 45.40625 17.390625 45.40625 27.296875 \r\nQ 45.40625 37.203125 41.296875 42.84375 \r\nQ 37.203125 48.484375 30.078125 48.484375 \r\nQ 22.953125 48.484375 18.875 42.84375 \r\nQ 14.796875 37.203125 14.796875 27.296875 \r\nz\r\n\" id=\"DejaVuSans-100\"/>\r\n     <path d=\"M 9.421875 54.6875 \r\nL 18.40625 54.6875 \r\nL 18.40625 0 \r\nL 9.421875 0 \r\nz\r\nM 9.421875 75.984375 \r\nL 18.40625 75.984375 \r\nL 18.40625 64.59375 \r\nL 9.421875 64.59375 \r\nz\r\n\" id=\"DejaVuSans-105\"/>\r\n     <path d=\"M 45.40625 27.984375 \r\nQ 45.40625 37.75 41.375 43.109375 \r\nQ 37.359375 48.484375 30.078125 48.484375 \r\nQ 22.859375 48.484375 18.828125 43.109375 \r\nQ 14.796875 37.75 14.796875 27.984375 \r\nQ 14.796875 18.265625 18.828125 12.890625 \r\nQ 22.859375 7.515625 30.078125 7.515625 \r\nQ 37.359375 7.515625 41.375 12.890625 \r\nQ 45.40625 18.265625 45.40625 27.984375 \r\nz\r\nM 54.390625 6.78125 \r\nQ 54.390625 -7.171875 48.1875 -13.984375 \r\nQ 42 -20.796875 29.203125 -20.796875 \r\nQ 24.46875 -20.796875 20.265625 -20.09375 \r\nQ 16.0625 -19.390625 12.109375 -17.921875 \r\nL 12.109375 -9.1875 \r\nQ 16.0625 -11.328125 19.921875 -12.34375 \r\nQ 23.78125 -13.375 27.78125 -13.375 \r\nQ 36.625 -13.375 41.015625 -8.765625 \r\nQ 45.40625 -4.15625 45.40625 5.171875 \r\nL 45.40625 9.625 \r\nQ 42.625 4.78125 38.28125 2.390625 \r\nQ 33.9375 0 27.875 0 \r\nQ 17.828125 0 11.671875 7.65625 \r\nQ 5.515625 15.328125 5.515625 27.984375 \r\nQ 5.515625 40.671875 11.671875 48.328125 \r\nQ 17.828125 56 27.875 56 \r\nQ 33.9375 56 38.28125 53.609375 \r\nQ 42.625 51.21875 45.40625 46.390625 \r\nL 45.40625 54.6875 \r\nL 54.390625 54.6875 \r\nz\r\n\" id=\"DejaVuSans-103\"/>\r\n     <path d=\"M 18.3125 70.21875 \r\nL 18.3125 54.6875 \r\nL 36.8125 54.6875 \r\nL 36.8125 47.703125 \r\nL 18.3125 47.703125 \r\nL 18.3125 18.015625 \r\nQ 18.3125 11.328125 20.140625 9.421875 \r\nQ 21.96875 7.515625 27.59375 7.515625 \r\nL 36.8125 7.515625 \r\nL 36.8125 0 \r\nL 27.59375 0 \r\nQ 17.1875 0 13.234375 3.875 \r\nQ 9.28125 7.765625 9.28125 18.015625 \r\nL 9.28125 47.703125 \r\nL 2.6875 47.703125 \r\nL 2.6875 54.6875 \r\nL 9.28125 54.6875 \r\nL 9.28125 70.21875 \r\nz\r\n\" id=\"DejaVuSans-116\"/>\r\n    </defs>\r\n    <g transform=\"translate(94.814063 16.318125)scale(0.12 -0.12)\">\r\n     <use xlink:href=\"#DejaVuSans-77\"/>\r\n     <use x=\"86.279297\" xlink:href=\"#DejaVuSans-101\"/>\r\n     <use x=\"147.802734\" xlink:href=\"#DejaVuSans-97\"/>\r\n     <use x=\"209.082031\" xlink:href=\"#DejaVuSans-110\"/>\r\n     <use x=\"272.460938\" xlink:href=\"#DejaVuSans-32\"/>\r\n     <use x=\"304.248047\" xlink:href=\"#DejaVuSans-83\"/>\r\n     <use x=\"367.724609\" xlink:href=\"#DejaVuSans-113\"/>\r\n     <use x=\"431.201172\" xlink:href=\"#DejaVuSans-117\"/>\r\n     <use x=\"494.580078\" xlink:href=\"#DejaVuSans-97\"/>\r\n     <use x=\"555.859375\" xlink:href=\"#DejaVuSans-114\"/>\r\n     <use x=\"596.941406\" xlink:href=\"#DejaVuSans-101\"/>\r\n     <use x=\"658.464844\" xlink:href=\"#DejaVuSans-32\"/>\r\n     <use x=\"690.251953\" xlink:href=\"#DejaVuSans-69\"/>\r\n     <use x=\"753.435547\" xlink:href=\"#DejaVuSans-114\"/>\r\n     <use x=\"794.533203\" xlink:href=\"#DejaVuSans-114\"/>\r\n     <use x=\"835.615234\" xlink:href=\"#DejaVuSans-111\"/>\r\n     <use x=\"896.796875\" xlink:href=\"#DejaVuSans-114\"/>\r\n     <use x=\"937.910156\" xlink:href=\"#DejaVuSans-32\"/>\r\n     <use x=\"969.697266\" xlink:href=\"#DejaVuSans-100\"/>\r\n     <use x=\"1033.173828\" xlink:href=\"#DejaVuSans-117\"/>\r\n     <use x=\"1096.552734\" xlink:href=\"#DejaVuSans-114\"/>\r\n     <use x=\"1137.666016\" xlink:href=\"#DejaVuSans-105\"/>\r\n     <use x=\"1165.449219\" xlink:href=\"#DejaVuSans-110\"/>\r\n     <use x=\"1228.828125\" xlink:href=\"#DejaVuSans-103\"/>\r\n     <use x=\"1292.304688\" xlink:href=\"#DejaVuSans-32\"/>\r\n     <use x=\"1324.091797\" xlink:href=\"#DejaVuSans-116\"/>\r\n     <use x=\"1363.300781\" xlink:href=\"#DejaVuSans-114\"/>\r\n     <use x=\"1404.414062\" xlink:href=\"#DejaVuSans-97\"/>\r\n     <use x=\"1465.693359\" xlink:href=\"#DejaVuSans-105\"/>\r\n     <use x=\"1493.476562\" xlink:href=\"#DejaVuSans-110\"/>\r\n     <use x=\"1556.855469\" xlink:href=\"#DejaVuSans-105\"/>\r\n     <use x=\"1584.638672\" xlink:href=\"#DejaVuSans-110\"/>\r\n     <use x=\"1648.017578\" xlink:href=\"#DejaVuSans-103\"/>\r\n    </g>\r\n   </g>\r\n   <g id=\"legend_1\">\r\n    <g id=\"patch_7\">\r\n     <path d=\"M 253.264063 59.674375 \r\nL 357.903125 59.674375 \r\nQ 359.903125 59.674375 359.903125 57.674375 \r\nL 359.903125 29.318125 \r\nQ 359.903125 27.318125 357.903125 27.318125 \r\nL 253.264063 27.318125 \r\nQ 251.264063 27.318125 251.264063 29.318125 \r\nL 251.264063 57.674375 \r\nQ 251.264063 59.674375 253.264063 59.674375 \r\nz\r\n\" style=\"fill:#ffffff;opacity:0.8;stroke:#cccccc;stroke-linejoin:miter;\"/>\r\n    </g>\r\n    <g id=\"line2d_14\">\r\n     <path d=\"M 255.264063 35.416562 \r\nL 275.264063 35.416562 \r\n\" style=\"fill:none;stroke:#0000ff;stroke-linecap:square;stroke-width:1.5;\"/>\r\n    </g>\r\n    <g id=\"line2d_15\"/>\r\n    <g id=\"text_13\">\r\n     <!-- Training loss -->\r\n     <defs>\r\n      <path d=\"M -0.296875 72.90625 \r\nL 61.375 72.90625 \r\nL 61.375 64.59375 \r\nL 35.5 64.59375 \r\nL 35.5 0 \r\nL 25.59375 0 \r\nL 25.59375 64.59375 \r\nL -0.296875 64.59375 \r\nz\r\n\" id=\"DejaVuSans-84\"/>\r\n      <path d=\"M 9.421875 75.984375 \r\nL 18.40625 75.984375 \r\nL 18.40625 0 \r\nL 9.421875 0 \r\nz\r\n\" id=\"DejaVuSans-108\"/>\r\n      <path d=\"M 44.28125 53.078125 \r\nL 44.28125 44.578125 \r\nQ 40.484375 46.53125 36.375 47.5 \r\nQ 32.28125 48.484375 27.875 48.484375 \r\nQ 21.1875 48.484375 17.84375 46.4375 \r\nQ 14.5 44.390625 14.5 40.28125 \r\nQ 14.5 37.15625 16.890625 35.375 \r\nQ 19.28125 33.59375 26.515625 31.984375 \r\nL 29.59375 31.296875 \r\nQ 39.15625 29.25 43.1875 25.515625 \r\nQ 47.21875 21.78125 47.21875 15.09375 \r\nQ 47.21875 7.46875 41.1875 3.015625 \r\nQ 35.15625 -1.421875 24.609375 -1.421875 \r\nQ 20.21875 -1.421875 15.453125 -0.5625 \r\nQ 10.6875 0.296875 5.421875 2 \r\nL 5.421875 11.28125 \r\nQ 10.40625 8.6875 15.234375 7.390625 \r\nQ 20.0625 6.109375 24.8125 6.109375 \r\nQ 31.15625 6.109375 34.5625 8.28125 \r\nQ 37.984375 10.453125 37.984375 14.40625 \r\nQ 37.984375 18.0625 35.515625 20.015625 \r\nQ 33.0625 21.96875 24.703125 23.78125 \r\nL 21.578125 24.515625 \r\nQ 13.234375 26.265625 9.515625 29.90625 \r\nQ 5.8125 33.546875 5.8125 39.890625 \r\nQ 5.8125 47.609375 11.28125 51.796875 \r\nQ 16.75 56 26.8125 56 \r\nQ 31.78125 56 36.171875 55.265625 \r\nQ 40.578125 54.546875 44.28125 53.078125 \r\nz\r\n\" id=\"DejaVuSans-115\"/>\r\n     </defs>\r\n     <g transform=\"translate(283.264063 38.916562)scale(0.1 -0.1)\">\r\n      <use xlink:href=\"#DejaVuSans-84\"/>\r\n      <use x=\"60.865234\" xlink:href=\"#DejaVuSans-114\"/>\r\n      <use x=\"101.978516\" xlink:href=\"#DejaVuSans-97\"/>\r\n      <use x=\"163.257812\" xlink:href=\"#DejaVuSans-105\"/>\r\n      <use x=\"191.041016\" xlink:href=\"#DejaVuSans-110\"/>\r\n      <use x=\"254.419922\" xlink:href=\"#DejaVuSans-105\"/>\r\n      <use x=\"282.203125\" xlink:href=\"#DejaVuSans-110\"/>\r\n      <use x=\"345.582031\" xlink:href=\"#DejaVuSans-103\"/>\r\n      <use x=\"409.058594\" xlink:href=\"#DejaVuSans-32\"/>\r\n      <use x=\"440.845703\" xlink:href=\"#DejaVuSans-108\"/>\r\n      <use x=\"468.628906\" xlink:href=\"#DejaVuSans-111\"/>\r\n      <use x=\"529.810547\" xlink:href=\"#DejaVuSans-115\"/>\r\n      <use x=\"581.910156\" xlink:href=\"#DejaVuSans-115\"/>\r\n     </g>\r\n    </g>\r\n    <g id=\"line2d_16\">\r\n     <path d=\"M 255.264063 50.094687 \r\nL 275.264063 50.094687 \r\n\" style=\"fill:none;stroke:#ff0000;stroke-linecap:square;stroke-width:1.5;\"/>\r\n    </g>\r\n    <g id=\"line2d_17\"/>\r\n    <g id=\"text_14\">\r\n     <!-- Validation loss -->\r\n     <defs>\r\n      <path d=\"M 28.609375 0 \r\nL 0.78125 72.90625 \r\nL 11.078125 72.90625 \r\nL 34.1875 11.53125 \r\nL 57.328125 72.90625 \r\nL 67.578125 72.90625 \r\nL 39.796875 0 \r\nz\r\n\" id=\"DejaVuSans-86\"/>\r\n     </defs>\r\n     <g transform=\"translate(283.264063 53.594687)scale(0.1 -0.1)\">\r\n      <use xlink:href=\"#DejaVuSans-86\"/>\r\n      <use x=\"68.298828\" xlink:href=\"#DejaVuSans-97\"/>\r\n      <use x=\"129.578125\" xlink:href=\"#DejaVuSans-108\"/>\r\n      <use x=\"157.361328\" xlink:href=\"#DejaVuSans-105\"/>\r\n      <use x=\"185.144531\" xlink:href=\"#DejaVuSans-100\"/>\r\n      <use x=\"248.621094\" xlink:href=\"#DejaVuSans-97\"/>\r\n      <use x=\"309.900391\" xlink:href=\"#DejaVuSans-116\"/>\r\n      <use x=\"349.109375\" xlink:href=\"#DejaVuSans-105\"/>\r\n      <use x=\"376.892578\" xlink:href=\"#DejaVuSans-111\"/>\r\n      <use x=\"438.074219\" xlink:href=\"#DejaVuSans-110\"/>\r\n      <use x=\"501.453125\" xlink:href=\"#DejaVuSans-32\"/>\r\n      <use x=\"533.240234\" xlink:href=\"#DejaVuSans-108\"/>\r\n      <use x=\"561.023438\" xlink:href=\"#DejaVuSans-111\"/>\r\n      <use x=\"622.205078\" xlink:href=\"#DejaVuSans-115\"/>\r\n      <use x=\"674.304688\" xlink:href=\"#DejaVuSans-115\"/>\r\n     </g>\r\n    </g>\r\n   </g>\r\n  </g>\r\n </g>\r\n <defs>\r\n  <clipPath id=\"p1f2571e9da\">\r\n   <rect height=\"217.44\" width=\"334.8\" x=\"30.103125\" y=\"22.318125\"/>\r\n  </clipPath>\r\n </defs>\r\n</svg>\r\n",
      "text/plain": [
       "<Figure size 432x288 with 1 Axes>"
      ]
     },
     "metadata": {
      "needs_background": "light"
     }
    }
   ],
   "metadata": {}
  },
  {
   "cell_type": "markdown",
   "source": [
    "#### Adding early stop"
   ],
   "metadata": {}
  },
  {
   "cell_type": "code",
   "execution_count": 22,
   "source": [
    "early_stop = keras.callbacks.EarlyStopping(monitor='val_loss', patience=10)\r\n",
    "\r\n",
    "early_history_sequential = single_step_sequential_model.fit(train_data_single_sequential, epochs=EPOCHS,\r\n",
    "                                          steps_per_epoch=STEPS_PER_EPOCH,\r\n",
    "                                          validation_data=val_data_single_sequential,\r\n",
    "                                          validation_steps=50, verbose=0, \r\n",
    "                    callbacks=[early_stop, tfdocs.modeling.EpochDots()])"
   ],
   "outputs": [
    {
     "output_type": "stream",
     "name": "stdout",
     "text": [
      "\n",
      "Epoch: 0, kullback_leibler_divergence:0.7534,  loss:0.1094,  mse:0.1094,  val_kullback_leibler_divergence:0.6948,  val_loss:0.1747,  val_mse:0.1747,  \n",
      "...................................................................................................."
     ]
    }
   ],
   "metadata": {
    "tags": []
   }
  },
  {
   "cell_type": "code",
   "execution_count": 21,
   "source": [
    "single_step_sequential_model.save(\"./data/S2S_S2S_model_\"+file+\".h5\") "
   ],
   "outputs": [],
   "metadata": {}
  },
  {
   "cell_type": "markdown",
   "source": [
    "## Decoder Mode"
   ],
   "metadata": {}
  },
  {
   "cell_type": "code",
   "execution_count": 74,
   "source": [
    "# Noise settings\r\n",
    "sigma= 0\r\n",
    "mean = 0\r\n",
    "np.random.normal(mean,sigma,6)\r\n"
   ],
   "outputs": [
    {
     "output_type": "execute_result",
     "data": {
      "text/plain": [
       "array([0., 0., 0., 0., 0., 0.])"
      ]
     },
     "metadata": {},
     "execution_count": 74
    }
   ],
   "metadata": {}
  },
  {
   "cell_type": "code",
   "execution_count": 76,
   "source": [
    "def generate_trajectory_Decoder(model, start, target, initial_action, data_stats, sigma):\r\n",
    "\r\n",
    "    model.reset_states()\r\n",
    "\r\n",
    "    # initialize cost\r\n",
    "    cost = 0\r\n",
    "\r\n",
    "    # Empty vector to store the actions\r\n",
    "    actions = []\r\n",
    "\r\n",
    "    #initialize action vector\r\n",
    "    actions.append(initial_action)\r\n",
    "\r\n",
    "    # First point is the initial distance\r\n",
    "\r\n",
    "    # Compute the initial distance\r\n",
    "    distance_long = target - start\r\n",
    "    \r\n",
    "    # normalize to get the Neuronal Network input\r\n",
    "    distance = norm(distance_long[0:6], data_stats)\r\n",
    "    trajectory_generated = tf.expand_dims([distance], 0)\r\n",
    "\r\n",
    "    mean = 0\r\n",
    "\r\n",
    "    for i in range(30):\r\n",
    "\r\n",
    "        dummy_trajectory=model.predict(trajectory_generated)\r\n",
    "        last_step = np.reshape(dummy_trajectory[:,-1,:],(1,1,6))\r\n",
    "        last_step= last_step + np.random.normal(mean,sigma,6)\r\n",
    "\r\n",
    "        if  (last_step[0,0,0] <= 0.02):\r\n",
    "            last_step[0,0,0] = 0\r\n",
    "            trajectory_generated=np.append(trajectory_generated, last_step, axis=1)\r\n",
    "            end_message = \"End\"\r\n",
    "            break\r\n",
    "\r\n",
    "        trajectory_generated=np.append(trajectory_generated, last_step, axis=1)\r\n",
    "        end_message = \"Error\"\r\n",
    "    \r\n",
    "\r\n",
    "    New_trajectory = np.squeeze(trajectory_generated)\r\n",
    "\r\n",
    "    trajectory_generated_denorm = np.apply_along_axis(denorm,1,New_trajectory,data_stats)\r\n",
    "\r\n",
    "    return trajectory_generated_denorm, cost, actions, end_message\r\n"
   ],
   "outputs": [],
   "metadata": {}
  },
  {
   "cell_type": "markdown",
   "source": [
    "## Get validation statistics"
   ],
   "metadata": {}
  },
  {
   "cell_type": "code",
   "execution_count": 59,
   "source": [
    "model = tf.keras.models.load_model(\"./data/S2S_S2S_model_\"+file+\".h5\")\r\n",
    "#model = tf.keras.models.load_model(\"./data/S2S_S2S_model_2_OSPA_training_data 2.csv.h5\")"
   ],
   "outputs": [],
   "metadata": {}
  },
  {
   "cell_type": "code",
   "execution_count": 77,
   "source": [
    "t_number = 4\r\n",
    "S_Trajectory_prediction=x_val_single_sequential[t_number,0,:]\r\n",
    "S_Trajectory_prediction = np.reshape(S_Trajectory_prediction, (1,1,6))\r\n",
    "\r\n",
    "for i in range(20):\r\n",
    "\r\n",
    "    dummy_trajectory=model.predict(S_Trajectory_prediction)\r\n",
    "    last_step = np.reshape(dummy_trajectory[:,-1,:],(1,1,6))\r\n",
    "    last_step= last_step + np.random.normal(mean,sigma,6)\r\n",
    "\r\n",
    "    if  (last_step[0,0,0] <= 0.01):\r\n",
    "        last_step[0,0,0] = 0\r\n",
    "        S_Trajectory_prediction=np.append(S_Trajectory_prediction, last_step, axis=1)\r\n",
    "        break\r\n",
    "    S_Trajectory_prediction=np.append(S_Trajectory_prediction, last_step, axis=1)\r\n",
    "\r\n",
    "New_trajectory = np.squeeze(S_Trajectory_prediction)\r\n",
    "\r\n",
    "Trajectory_prediction_denorm = np.apply_along_axis(denorm,1,New_trajectory,data_stats)\r\n",
    "\r\n",
    "y_val_denorm = np.apply_along_axis(denorm,1,y_val_single_sequential[t_number],data_stats)\r\n",
    "\r\n",
    "x_val_denorm = np.apply_along_axis(denorm,1,x_val_single_sequential[t_number],data_stats)\r\n",
    "\r\n",
    "min_len = min(len(y_val_denorm),len(Trajectory_prediction_denorm[1:]))\r\n",
    "\r\n",
    "mse =sklearn.metrics.mean_squared_error(y_val_denorm[:min_len,0:2], Trajectory_prediction_denorm[1:min_len+1,0:2])\r\n",
    "\r\n",
    "print(mse)\r\n",
    "\r\n",
    "\r\n",
    "start = [0.0, 0.0, 4.257165346815115, 0.0, 0, 0]\r\n",
    "target = x_val_denorm[0] + start\r\n",
    "\r\n",
    "pred_trajectory_states = target - Trajectory_prediction_denorm\r\n",
    "OSPA_trajectory_states =  target - y_val_denorm\r\n",
    "OSPA_trajectory_states=np.insert(OSPA_trajectory_states,0,start, axis=0)\r\n",
    "\r\n",
    "plt.figure()\r\n",
    "\r\n",
    "plt.plot(pred_trajectory_states[:,0], pred_trajectory_states[:,1], c='r', label='RNN prediction')\r\n",
    "plt.plot(OSPA_trajectory_states[:,0], OSPA_trajectory_states[:,1], c='b', label='OSPA')\r\n",
    "plt.scatter(target[0],target[1], c='g', label='Goal state')\r\n",
    "plt.scatter(start[0], start[1], c='y', label='Start state')\r\n",
    "plt.title(\"trajectory x,z states\")\r\n",
    "plt.legend()\r\n",
    "\r\n",
    "plt.show()\r\n"
   ],
   "outputs": [
    {
     "output_type": "stream",
     "name": "stdout",
     "text": [
      "12.196990666332903\n"
     ]
    },
    {
     "output_type": "display_data",
     "data": {
      "image/png": "[encoded data removed]",
      "text/plain": [
       "<Figure size 432x288 with 1 Axes>"
      ]
     },
     "metadata": {
      "needs_background": "light"
     }
    }
   ],
   "metadata": {}
  },
  {
   "cell_type": "code",
   "execution_count": 21,
   "source": [
    "fig, axs = plt.subplots(4)\r\n",
    "\r\n",
    "for i in range(4):\r\n",
    "\r\n",
    "    component= i+2\r\n",
    "\r\n",
    "    axs[i].plot(pred_trajectory_states[:,0],pred_trajectory_states[:,component], c='g', label='RNN Prediction')\r\n",
    "    axs[i].plot(OSPA_trajectory_states[:,0], OSPA_trajectory_states[:,component],  c='r', label='OSPA')\r\n",
    "    axs[i].scatter(target[0],target[component], c='g', label='Goal state')\r\n",
    "    axs[i].scatter(start[0], start[component], c='y', label='Start start')\r\n",
    "\r\n",
    "fig.suptitle(\"trajectory components (u, w, theta, q) vs x\")\r\n",
    "\r\n",
    "fig.show()"
   ],
   "outputs": [
    {
     "output_type": "stream",
     "name": "stderr",
     "text": [
      "C:\\Users\\pasky\\Anaconda3\\lib\\site-packages\\ipykernel_launcher.py:14: UserWarning: Matplotlib is currently using module://ipykernel.pylab.backend_inline, which is a non-GUI backend, so cannot show the figure.\n",
      "  \n"
     ]
    },
    {
     "output_type": "display_data",
     "data": {
      "image/png": "[encoded data removed]",
      "text/plain": [
       "<Figure size 432x288 with 4 Axes>"
      ]
     },
     "metadata": {
      "needs_background": "light"
     }
    }
   ],
   "metadata": {}
  },
  {
   "cell_type": "code",
   "execution_count": 78,
   "source": [
    "def distance_error(x, z):\r\n",
    "    distancia = math.sqrt(x**2 + z**2)\r\n",
    "    return distancia"
   ],
   "outputs": [],
   "metadata": {}
  },
  {
   "cell_type": "code",
   "execution_count": 81,
   "source": [
    "def get_trajectory_results(x_single_sequential, y_single_sequential, data_stats):\r\n",
    "    results = pd.DataFrame(columns = [\"path\", \"actions\", \"distance\", \"cost\", \"mean_distance\",\"end_message\"])\r\n",
    "\r\n",
    "    for t_number in range(len(y_single_sequential)):\r\n",
    "\r\n",
    "        x_denorm = np.apply_along_axis(denorm,1,x_single_sequential[t_number],data_stats)\r\n",
    "\r\n",
    "        y_denorm = np.apply_along_axis(denorm,1,y_single_sequential[t_number],data_stats)\r\n",
    "\r\n",
    "        initial_action = [0,0]\r\n",
    "        start = [0.0, 0.0, 4.257165346815115, 0.0, 0, 0]\r\n",
    "        target = x_denorm[0] + start\r\n",
    "\r\n",
    "        start_time = time.time()\r\n",
    "\r\n",
    "        trajectory, cost, actions, end_message = generate_trajectory_Decoder(model, start, target, initial_action, data_stats)\r\n",
    "\r\n",
    "        t_time = time.time() - start_time\r\n",
    "\r\n",
    "        pred_trajectory_states = target - trajectory\r\n",
    "        OSPA_trajectory_states =  target - y_denorm\r\n",
    "        OSPA_trajectory_states=np.insert(OSPA_trajectory_states,0,start, axis=0)\r\n",
    "\r\n",
    "        min_len = min(len(y_denorm),len(trajectory[1:]))\r\n",
    "\r\n",
    "        mse =sklearn.metrics.mean_squared_error(OSPA_trajectory_states[0:min_len,0:2], pred_trajectory_states[0:min_len,0:2])\r\n",
    "\r\n",
    "        results.at[t_number, \"time\"] = t_time\r\n",
    "        results.at[t_number, \"actions\"] = np.array(actions)\r\n",
    "        results.at[t_number, \"path\"] = np.array(trajectory)\r\n",
    "        results.at[t_number, \"sqrt(trajectory MSE)\"] = math.sqrt(mse)\r\n",
    "        results.at[t_number, \"cost\"] = cost\r\n",
    "        results.at[t_number, 'distance_to_target'] = distance_error(*trajectory[-1,0:2])\r\n",
    "        results.at[t_number, 'end_message'] = end_message\r\n",
    "        results.at[t_number, \"mean_distance_in_trajectory\"] = get_mean_error(OSPA_trajectory_states, pred_trajectory_states, num=10, eps = 5)\r\n",
    "        results.at[t_number, \"k_value\"] = abs(target[1])/abs(target[0])\r\n",
    "        results.at[t_number, \"u_at_target\"] = pred_trajectory_states[-1,2]\r\n",
    "        results.at[t_number, \"v_at_target\"] =distance_error(pred_trajectory_states[-1,2], pred_trajectory_states[-1,3])\r\n",
    "        results.at[t_number, \"theta_at_target\"] = pred_trajectory_states[-1,4]\r\n",
    "        \"u_at_target\"\r\n",
    "\r\n",
    "    return results\r\n"
   ],
   "outputs": [],
   "metadata": {}
  },
  {
   "cell_type": "code",
   "execution_count": 92,
   "source": [
    "def get_trajectory_results_2(trajectoty_list, data_stats, sigma):\r\n",
    "    results = pd.DataFrame(columns = [\"path\", \"actions\", \"distance\", \"cost\", \"mean_distance\",\"end_message\"])\r\n",
    "\r\n",
    "    for t_number in range(len(trajectoty_list)):\r\n",
    "\r\n",
    "        initial_action = [0,0]\r\n",
    "        start = trajectoty_list[t_number][0,-2]\r\n",
    "        target = trajectoty_list[t_number][0,-1]\r\n",
    "\r\n",
    "        start_time = time.time()\r\n",
    "\r\n",
    "        trajectory, cost, actions, end_message = generate_trajectory_Decoder(model, start, target, initial_action, data_stats, sigma)\r\n",
    "\r\n",
    "        t_time = time.time() - start_time\r\n",
    "\r\n",
    "        pred_trajectory_states = target - trajectory\r\n",
    "        OSPA_trajectory_states =  trajectoty_list[t_number][:,0:6]\r\n",
    "\r\n",
    "        min_len = min(len(OSPA_trajectory_states),len(trajectory))\r\n",
    "\r\n",
    "        mse =sklearn.metrics.mean_squared_error(OSPA_trajectory_states[0:min_len,0:2], pred_trajectory_states[0:min_len,0:2])\r\n",
    "\r\n",
    "\r\n",
    "        results.at[t_number, \"time\"] = t_time\r\n",
    "        results.at[t_number, \"actions\"] = np.array(actions)\r\n",
    "        results.at[t_number, \"path\"] = np.array(trajectory)\r\n",
    "        results.at[t_number, \"sqrt(trajectory MSE)\"] = math.sqrt(mse)\r\n",
    "        results.at[t_number, \"cost\"] = cost\r\n",
    "        results.at[t_number, 'distance_to_target'] = distance_error(*trajectory[-1,0:2])\r\n",
    "        results.at[t_number, 'end_message'] = end_message\r\n",
    "        results.at[t_number, \"mean_distance_in_trajectory\"] = get_mean_error(OSPA_trajectory_states, pred_trajectory_states, num=10, eps = 5)\r\n",
    "        results.at[t_number, \"k_value\"] = abs(target[1])/abs(target[0])\r\n",
    "        results.at[t_number, \"u_at_target\"] = pred_trajectory_states[-1,2]\r\n",
    "        results.at[t_number, \"v_at_target\"] =distance_error(pred_trajectory_states[-1,2], pred_trajectory_states[-1,3])\r\n",
    "        results.at[t_number, \"theta_at_target\"] = pred_trajectory_states[-1,4]\r\n",
    "        \"u_at_target\"\r\n",
    "\r\n",
    "    return results"
   ],
   "outputs": [],
   "metadata": {}
  },
  {
   "cell_type": "code",
   "execution_count": 25,
   "source": [
    "def results_summary(results, metrics):\r\n",
    "    results_summary = pd.DataFrame(columns = [\"all\",\"result_end\", \"result_error\"])\r\n",
    "    \r\n",
    "    for metric in metrics:\r\n",
    "        results_summary.at[metric, \"result_end\"] = results[metric].loc[results['end_message'] == \"End\"].mean()\r\n",
    "        results_summary.at[metric, \"result_error\"] = results[metric].loc[results['end_message'] == \"Error\"].mean()\r\n",
    "        results_summary.at[metric, \"all\"] = results[metric].mean()\r\n",
    "\r\n",
    "    print(results[\"time\"].loc[results['end_message'] == \"Error\"].count()/len(results))\r\n",
    "    return results_summary"
   ],
   "outputs": [],
   "metadata": {}
  },
  {
   "cell_type": "markdown",
   "source": [
    "## Compare with heuristic results"
   ],
   "metadata": {}
  },
  {
   "cell_type": "code",
   "execution_count": 26,
   "source": [
    "from ast import literal_eval\r\n",
    "samples = pd.read_csv(\"./data/heuristic_samples_metric.csv\", converters={'initial_state': literal_eval, 'final_state': literal_eval, 'h_actions': literal_eval, 'h_path': literal_eval})"
   ],
   "outputs": [],
   "metadata": {}
  },
  {
   "cell_type": "code",
   "execution_count": 27,
   "source": [
    "def get_heuristic_results(samples):\r\n",
    "    results= samples.copy()\r\n",
    "    for sample_id, row in results.iterrows():\r\n",
    "        print(sample_id)\r\n",
    "        initial_action = np.array(results['h_actions'][sample_id][0])\r\n",
    "        start = np.array(results['initial_state'][sample_id])\r\n",
    "        target = np.array(results['final_state'][sample_id])\r\n",
    "        start_time = time.time()\r\n",
    "        trajectory, cost, actions, end_message = generate_trajectory_Decoder(model, start, target, initial_action, data_stats_T)\r\n",
    "        results.at[sample_id, \"h_time\"] = time.time() - start_time\r\n",
    "        results.at[sample_id, \"h_actions\"] = np.array(actions)\r\n",
    "        results.at[sample_id, \"h_path\"] = np.array(trajectory)\r\n",
    "        results.at[sample_id, \"h_cost\"] = cost\r\n",
    "        results.at[sample_id, 'h_distance'] = distance_error(*trajectory[-1,0:2])\r\n",
    "        results.at[sample_id, 'end_message'] = end_message\r\n",
    "    return results"
   ],
   "outputs": [],
   "metadata": {}
  },
  {
   "cell_type": "code",
   "execution_count": 28,
   "source": [
    "def heuristic_results_summary(results, metrics):\r\n",
    "    results_summary = pd.DataFrame(columns = [\"sample\", \"result_end\", \"result_error\", \"all results\"])\r\n",
    "    \r\n",
    "    for metric in metrics:\r\n",
    "        comparsion_table.at[metric, \"sample\"] = samples[metric].mean()\r\n",
    "        results_summary.at[metric, \"result_end\"] = results[metric].loc[results['end_message'] == \"End\"].mean()\r\n",
    "        results_summary.at[metric, \"result_error\"] = results[metric].loc[results['end_message'] == \"Error\"].mean()\r\n",
    "        results_summary.at[metric, \"all\"] = results[metric].mean()\r\n",
    "\r\n",
    "    print(results[\"time\"].loc[results['end_message'] == \"Error\"].count()/len(results))\r\n",
    "    return results_summary"
   ],
   "outputs": [],
   "metadata": {}
  },
  {
   "cell_type": "code",
   "execution_count": null,
   "source": [
    "#results = get_heuristic_results(samples)\r\n",
    "#metrics = [\"h_time\",\"h_distance\",\"h_cost\"]\r\n",
    "#heuristic_results_summary(results, metrics)"
   ],
   "outputs": [],
   "metadata": {}
  },
  {
   "cell_type": "code",
   "execution_count": 29,
   "source": [
    "col = ['D0','D1','D2','D3','D4','D5']\r\n",
    "distances = []\r\n",
    "for sample_id, row in samples.iterrows():\r\n",
    "    target = np.array(results['final_state'][sample_id])\r\n",
    "    for sample in  samples['h_path'][sample_id]:\r\n",
    "        distances.append(target[0:6]-sample[0:6])\r\n",
    "distances = np.array(distances)\r\n",
    "df = pd.DataFrame (distances, columns = col)\r\n",
    "data_stats_T = df.describe()\r\n",
    "data_stats_T = data_stats_T.transpose()"
   ],
   "outputs": [
    {
     "output_type": "error",
     "ename": "NameError",
     "evalue": "name 'results' is not defined",
     "traceback": [
      "\u001b[1;31m---------------------------------------------------------------------------\u001b[0m",
      "\u001b[1;31mNameError\u001b[0m                                 Traceback (most recent call last)",
      "\u001b[1;32m<ipython-input-29-27d89d353874>\u001b[0m in \u001b[0;36m<module>\u001b[1;34m\u001b[0m\n\u001b[0;32m      2\u001b[0m \u001b[0mdistances\u001b[0m \u001b[1;33m=\u001b[0m \u001b[1;33m[\u001b[0m\u001b[1;33m]\u001b[0m\u001b[1;33m\u001b[0m\u001b[1;33m\u001b[0m\u001b[0m\n\u001b[0;32m      3\u001b[0m \u001b[1;32mfor\u001b[0m \u001b[0msample_id\u001b[0m\u001b[1;33m,\u001b[0m \u001b[0mrow\u001b[0m \u001b[1;32min\u001b[0m \u001b[0msamples\u001b[0m\u001b[1;33m.\u001b[0m\u001b[0miterrows\u001b[0m\u001b[1;33m(\u001b[0m\u001b[1;33m)\u001b[0m\u001b[1;33m:\u001b[0m\u001b[1;33m\u001b[0m\u001b[1;33m\u001b[0m\u001b[0m\n\u001b[1;32m----> 4\u001b[1;33m     \u001b[0mtarget\u001b[0m \u001b[1;33m=\u001b[0m \u001b[0mnp\u001b[0m\u001b[1;33m.\u001b[0m\u001b[0marray\u001b[0m\u001b[1;33m(\u001b[0m\u001b[0mresults\u001b[0m\u001b[1;33m[\u001b[0m\u001b[1;34m'final_state'\u001b[0m\u001b[1;33m]\u001b[0m\u001b[1;33m[\u001b[0m\u001b[0msample_id\u001b[0m\u001b[1;33m]\u001b[0m\u001b[1;33m)\u001b[0m\u001b[1;33m\u001b[0m\u001b[1;33m\u001b[0m\u001b[0m\n\u001b[0m\u001b[0;32m      5\u001b[0m     \u001b[1;32mfor\u001b[0m \u001b[0msample\u001b[0m \u001b[1;32min\u001b[0m  \u001b[0msamples\u001b[0m\u001b[1;33m[\u001b[0m\u001b[1;34m'h_path'\u001b[0m\u001b[1;33m]\u001b[0m\u001b[1;33m[\u001b[0m\u001b[0msample_id\u001b[0m\u001b[1;33m]\u001b[0m\u001b[1;33m:\u001b[0m\u001b[1;33m\u001b[0m\u001b[1;33m\u001b[0m\u001b[0m\n\u001b[0;32m      6\u001b[0m         \u001b[0mdistances\u001b[0m\u001b[1;33m.\u001b[0m\u001b[0mappend\u001b[0m\u001b[1;33m(\u001b[0m\u001b[0mtarget\u001b[0m\u001b[1;33m[\u001b[0m\u001b[1;36m0\u001b[0m\u001b[1;33m:\u001b[0m\u001b[1;36m6\u001b[0m\u001b[1;33m]\u001b[0m\u001b[1;33m-\u001b[0m\u001b[0msample\u001b[0m\u001b[1;33m[\u001b[0m\u001b[1;36m0\u001b[0m\u001b[1;33m:\u001b[0m\u001b[1;36m6\u001b[0m\u001b[1;33m]\u001b[0m\u001b[1;33m)\u001b[0m\u001b[1;33m\u001b[0m\u001b[1;33m\u001b[0m\u001b[0m\n",
      "\u001b[1;31mNameError\u001b[0m: name 'results' is not defined"
     ]
    }
   ],
   "metadata": {
    "tags": []
   }
  },
  {
   "cell_type": "markdown",
   "source": [
    "## Datos globales"
   ],
   "metadata": {}
  },
  {
   "cell_type": "code",
   "execution_count": 83,
   "source": [
    "dataset_trajectories = dataset[[\"id_camino\",\"C0\",'C1',\"C2\",\"C3\",'C4',\"C5\",\"A0\",\"A1\",\"initial_state\", \"goal_state\"]]"
   ],
   "outputs": [],
   "metadata": {}
  },
  {
   "cell_type": "code",
   "execution_count": 84,
   "source": [
    "trajectory_list = group_by_path(dataset_trajectories)"
   ],
   "outputs": [],
   "metadata": {}
  },
  {
   "cell_type": "code",
   "execution_count": 98,
   "source": [
    "full_results= get_trajectory_results_2(trajectory_list, data_stats, sigma)\r\n",
    "full_results"
   ],
   "outputs": [
    {
     "output_type": "execute_result",
     "data": {
      "text/html": [
       "<div>\n",
       "<style scoped>\n",
       "    .dataframe tbody tr th:only-of-type {\n",
       "        vertical-align: middle;\n",
       "    }\n",
       "\n",
       "    .dataframe tbody tr th {\n",
       "        vertical-align: top;\n",
       "    }\n",
       "\n",
       "    .dataframe thead th {\n",
       "        text-align: right;\n",
       "    }\n",
       "</style>\n",
       "<table border=\"1\" class=\"dataframe\">\n",
       "  <thead>\n",
       "    <tr style=\"text-align: right;\">\n",
       "      <th></th>\n",
       "      <th>path</th>\n",
       "      <th>actions</th>\n",
       "      <th>distance</th>\n",
       "      <th>cost</th>\n",
       "      <th>mean_distance</th>\n",
       "      <th>end_message</th>\n",
       "      <th>time</th>\n",
       "      <th>sqrt(trajectory MSE)</th>\n",
       "      <th>distance_to_target</th>\n",
       "      <th>mean_distance_in_trajectory</th>\n",
       "      <th>k_value</th>\n",
       "      <th>u_at_target</th>\n",
       "      <th>v_at_target</th>\n",
       "      <th>theta_at_target</th>\n",
       "    </tr>\n",
       "  </thead>\n",
       "  <tbody>\n",
       "    <tr>\n",
       "      <th>0</th>\n",
       "      <td>[[85.59111637766905, -9.250072591635423, -4.25...</td>\n",
       "      <td>[[0, 0]]</td>\n",
       "      <td>NaN</td>\n",
       "      <td>0</td>\n",
       "      <td>NaN</td>\n",
       "      <td>End</td>\n",
       "      <td>1.551476</td>\n",
       "      <td>5.595013</td>\n",
       "      <td>4.291448</td>\n",
       "      <td>1.261017</td>\n",
       "      <td>0.108073</td>\n",
       "      <td>4.288038</td>\n",
       "      <td>4.327249</td>\n",
       "      <td>0.201917</td>\n",
       "    </tr>\n",
       "    <tr>\n",
       "      <th>1</th>\n",
       "      <td>[[98.04349982601175, -37.77935805593802, -4.25...</td>\n",
       "      <td>[[0, 0]]</td>\n",
       "      <td>NaN</td>\n",
       "      <td>0</td>\n",
       "      <td>NaN</td>\n",
       "      <td>End</td>\n",
       "      <td>0.910984</td>\n",
       "      <td>9.627700</td>\n",
       "      <td>0.650212</td>\n",
       "      <td>5.018080</td>\n",
       "      <td>0.385333</td>\n",
       "      <td>0.089765</td>\n",
       "      <td>0.097993</td>\n",
       "      <td>0.017683</td>\n",
       "    </tr>\n",
       "    <tr>\n",
       "      <th>2</th>\n",
       "      <td>[[91.27292193884395, -36.85228362610397, -4.25...</td>\n",
       "      <td>[[0, 0]]</td>\n",
       "      <td>NaN</td>\n",
       "      <td>0</td>\n",
       "      <td>NaN</td>\n",
       "      <td>End</td>\n",
       "      <td>0.900928</td>\n",
       "      <td>5.854230</td>\n",
       "      <td>0.099757</td>\n",
       "      <td>3.126954</td>\n",
       "      <td>0.403759</td>\n",
       "      <td>0.216880</td>\n",
       "      <td>0.217563</td>\n",
       "      <td>0.012817</td>\n",
       "    </tr>\n",
       "    <tr>\n",
       "      <th>3</th>\n",
       "      <td>[[94.83943306960636, -8.007799076694585, -4.25...</td>\n",
       "      <td>[[0, 0]]</td>\n",
       "      <td>NaN</td>\n",
       "      <td>0</td>\n",
       "      <td>NaN</td>\n",
       "      <td>End</td>\n",
       "      <td>1.021677</td>\n",
       "      <td>13.230995</td>\n",
       "      <td>4.947458</td>\n",
       "      <td>1.370823</td>\n",
       "      <td>0.084435</td>\n",
       "      <td>3.424032</td>\n",
       "      <td>3.476096</td>\n",
       "      <td>0.433119</td>\n",
       "    </tr>\n",
       "    <tr>\n",
       "      <th>4</th>\n",
       "      <td>[[69.79178292480609, -31.30560577875059, -4.25...</td>\n",
       "      <td>[[0, 0]]</td>\n",
       "      <td>NaN</td>\n",
       "      <td>0</td>\n",
       "      <td>NaN</td>\n",
       "      <td>End</td>\n",
       "      <td>0.550349</td>\n",
       "      <td>3.369918</td>\n",
       "      <td>0.721200</td>\n",
       "      <td>2.940680</td>\n",
       "      <td>0.448557</td>\n",
       "      <td>-0.082229</td>\n",
       "      <td>0.086255</td>\n",
       "      <td>0.006193</td>\n",
       "    </tr>\n",
       "    <tr>\n",
       "      <th>...</th>\n",
       "      <td>...</td>\n",
       "      <td>...</td>\n",
       "      <td>...</td>\n",
       "      <td>...</td>\n",
       "      <td>...</td>\n",
       "      <td>...</td>\n",
       "      <td>...</td>\n",
       "      <td>...</td>\n",
       "      <td>...</td>\n",
       "      <td>...</td>\n",
       "      <td>...</td>\n",
       "      <td>...</td>\n",
       "      <td>...</td>\n",
       "      <td>...</td>\n",
       "    </tr>\n",
       "    <tr>\n",
       "      <th>235</th>\n",
       "      <td>[[41.07400923972695, -34.14425405918333, -4.25...</td>\n",
       "      <td>[[0, 0]]</td>\n",
       "      <td>NaN</td>\n",
       "      <td>0</td>\n",
       "      <td>NaN</td>\n",
       "      <td>End</td>\n",
       "      <td>0.426884</td>\n",
       "      <td>3.928994</td>\n",
       "      <td>0.116412</td>\n",
       "      <td>6.618898</td>\n",
       "      <td>0.831286</td>\n",
       "      <td>0.290325</td>\n",
       "      <td>0.293823</td>\n",
       "      <td>0.022133</td>\n",
       "    </tr>\n",
       "    <tr>\n",
       "      <th>236</th>\n",
       "      <td>[[40.75494111910976, -11.47496610918519, -4.25...</td>\n",
       "      <td>[[0, 0]]</td>\n",
       "      <td>NaN</td>\n",
       "      <td>0</td>\n",
       "      <td>NaN</td>\n",
       "      <td>End</td>\n",
       "      <td>0.272107</td>\n",
       "      <td>3.339243</td>\n",
       "      <td>4.442194</td>\n",
       "      <td>1.627698</td>\n",
       "      <td>0.281560</td>\n",
       "      <td>8.302889</td>\n",
       "      <td>8.321893</td>\n",
       "      <td>0.508925</td>\n",
       "    </tr>\n",
       "    <tr>\n",
       "      <th>237</th>\n",
       "      <td>[[36.54236471063579, -20.22065422782436, -4.25...</td>\n",
       "      <td>[[0, 0]]</td>\n",
       "      <td>NaN</td>\n",
       "      <td>0</td>\n",
       "      <td>NaN</td>\n",
       "      <td>End</td>\n",
       "      <td>0.281726</td>\n",
       "      <td>2.364319</td>\n",
       "      <td>0.700502</td>\n",
       "      <td>3.179386</td>\n",
       "      <td>0.553348</td>\n",
       "      <td>8.816706</td>\n",
       "      <td>8.829293</td>\n",
       "      <td>0.461419</td>\n",
       "    </tr>\n",
       "    <tr>\n",
       "      <th>238</th>\n",
       "      <td>[[77.29012164230643, -11.950867959877964, -4.2...</td>\n",
       "      <td>[[0, 0]]</td>\n",
       "      <td>NaN</td>\n",
       "      <td>0</td>\n",
       "      <td>NaN</td>\n",
       "      <td>End</td>\n",
       "      <td>0.700699</td>\n",
       "      <td>3.174849</td>\n",
       "      <td>5.233825</td>\n",
       "      <td>2.546281</td>\n",
       "      <td>0.154623</td>\n",
       "      <td>2.799659</td>\n",
       "      <td>2.863140</td>\n",
       "      <td>0.497157</td>\n",
       "    </tr>\n",
       "    <tr>\n",
       "      <th>239</th>\n",
       "      <td>[[38.72962920635996, -32.03401339870724, -4.25...</td>\n",
       "      <td>[[0, 0]]</td>\n",
       "      <td>NaN</td>\n",
       "      <td>0</td>\n",
       "      <td>NaN</td>\n",
       "      <td>End</td>\n",
       "      <td>0.272936</td>\n",
       "      <td>3.642926</td>\n",
       "      <td>1.085092</td>\n",
       "      <td>6.357004</td>\n",
       "      <td>0.827119</td>\n",
       "      <td>14.780544</td>\n",
       "      <td>14.794899</td>\n",
       "      <td>0.209755</td>\n",
       "    </tr>\n",
       "  </tbody>\n",
       "</table>\n",
       "<p>240 rows × 14 columns</p>\n",
       "</div>"
      ],
      "text/plain": [
       "                                                  path   actions distance  \\\n",
       "0    [[85.59111637766905, -9.250072591635423, -4.25...  [[0, 0]]      NaN   \n",
       "1    [[98.04349982601175, -37.77935805593802, -4.25...  [[0, 0]]      NaN   \n",
       "2    [[91.27292193884395, -36.85228362610397, -4.25...  [[0, 0]]      NaN   \n",
       "3    [[94.83943306960636, -8.007799076694585, -4.25...  [[0, 0]]      NaN   \n",
       "4    [[69.79178292480609, -31.30560577875059, -4.25...  [[0, 0]]      NaN   \n",
       "..                                                 ...       ...      ...   \n",
       "235  [[41.07400923972695, -34.14425405918333, -4.25...  [[0, 0]]      NaN   \n",
       "236  [[40.75494111910976, -11.47496610918519, -4.25...  [[0, 0]]      NaN   \n",
       "237  [[36.54236471063579, -20.22065422782436, -4.25...  [[0, 0]]      NaN   \n",
       "238  [[77.29012164230643, -11.950867959877964, -4.2...  [[0, 0]]      NaN   \n",
       "239  [[38.72962920635996, -32.03401339870724, -4.25...  [[0, 0]]      NaN   \n",
       "\n",
       "    cost mean_distance end_message      time  sqrt(trajectory MSE)  \\\n",
       "0      0           NaN         End  1.551476              5.595013   \n",
       "1      0           NaN         End  0.910984              9.627700   \n",
       "2      0           NaN         End  0.900928              5.854230   \n",
       "3      0           NaN         End  1.021677             13.230995   \n",
       "4      0           NaN         End  0.550349              3.369918   \n",
       "..   ...           ...         ...       ...                   ...   \n",
       "235    0           NaN         End  0.426884              3.928994   \n",
       "236    0           NaN         End  0.272107              3.339243   \n",
       "237    0           NaN         End  0.281726              2.364319   \n",
       "238    0           NaN         End  0.700699              3.174849   \n",
       "239    0           NaN         End  0.272936              3.642926   \n",
       "\n",
       "     distance_to_target  mean_distance_in_trajectory   k_value  u_at_target  \\\n",
       "0              4.291448                     1.261017  0.108073     4.288038   \n",
       "1              0.650212                     5.018080  0.385333     0.089765   \n",
       "2              0.099757                     3.126954  0.403759     0.216880   \n",
       "3              4.947458                     1.370823  0.084435     3.424032   \n",
       "4              0.721200                     2.940680  0.448557    -0.082229   \n",
       "..                  ...                          ...       ...          ...   \n",
       "235            0.116412                     6.618898  0.831286     0.290325   \n",
       "236            4.442194                     1.627698  0.281560     8.302889   \n",
       "237            0.700502                     3.179386  0.553348     8.816706   \n",
       "238            5.233825                     2.546281  0.154623     2.799659   \n",
       "239            1.085092                     6.357004  0.827119    14.780544   \n",
       "\n",
       "     v_at_target  theta_at_target  \n",
       "0       4.327249         0.201917  \n",
       "1       0.097993         0.017683  \n",
       "2       0.217563         0.012817  \n",
       "3       3.476096         0.433119  \n",
       "4       0.086255         0.006193  \n",
       "..           ...              ...  \n",
       "235     0.293823         0.022133  \n",
       "236     8.321893         0.508925  \n",
       "237     8.829293         0.461419  \n",
       "238     2.863140         0.497157  \n",
       "239    14.794899         0.209755  \n",
       "\n",
       "[240 rows x 14 columns]"
      ]
     },
     "metadata": {},
     "execution_count": 98
    }
   ],
   "metadata": {
    "tags": []
   }
  },
  {
   "cell_type": "code",
   "execution_count": 72,
   "source": [
    "# [\"time\",'distance_to_target', \"u_at_target\",\"v_at_target\",\"theta_at_target\",\"mean_distance_in_trajectory\",\"sqrt(trajectory MSE)\", \"k_value\"]\r\n",
    "metrics = [\"time\",'distance_to_target', \"mean_distance_in_trajectory\",\"sqrt(trajectory MSE)\", \"k_value\"]\r\n",
    "results_summary(full_results, metrics)"
   ],
   "outputs": [
    {
     "output_type": "stream",
     "name": "stdout",
     "text": [
      "0.0\n"
     ]
    },
    {
     "output_type": "execute_result",
     "data": {
      "text/html": [
       "<div>\n",
       "<style scoped>\n",
       "    .dataframe tbody tr th:only-of-type {\n",
       "        vertical-align: middle;\n",
       "    }\n",
       "\n",
       "    .dataframe tbody tr th {\n",
       "        vertical-align: top;\n",
       "    }\n",
       "\n",
       "    .dataframe thead th {\n",
       "        text-align: right;\n",
       "    }\n",
       "</style>\n",
       "<table border=\"1\" class=\"dataframe\">\n",
       "  <thead>\n",
       "    <tr style=\"text-align: right;\">\n",
       "      <th></th>\n",
       "      <th>all</th>\n",
       "      <th>result_end</th>\n",
       "      <th>result_error</th>\n",
       "    </tr>\n",
       "  </thead>\n",
       "  <tbody>\n",
       "    <tr>\n",
       "      <th>time</th>\n",
       "      <td>0.603064</td>\n",
       "      <td>0.603064</td>\n",
       "      <td>NaN</td>\n",
       "    </tr>\n",
       "    <tr>\n",
       "      <th>distance_to_target</th>\n",
       "      <td>2.39163</td>\n",
       "      <td>2.39163</td>\n",
       "      <td>NaN</td>\n",
       "    </tr>\n",
       "    <tr>\n",
       "      <th>mean_distance_in_trajectory</th>\n",
       "      <td>2.44539</td>\n",
       "      <td>2.44539</td>\n",
       "      <td>NaN</td>\n",
       "    </tr>\n",
       "    <tr>\n",
       "      <th>sqrt(trajectory MSE)</th>\n",
       "      <td>4.21444</td>\n",
       "      <td>4.21444</td>\n",
       "      <td>NaN</td>\n",
       "    </tr>\n",
       "    <tr>\n",
       "      <th>k_value</th>\n",
       "      <td>0.354392</td>\n",
       "      <td>0.354392</td>\n",
       "      <td>NaN</td>\n",
       "    </tr>\n",
       "  </tbody>\n",
       "</table>\n",
       "</div>"
      ],
      "text/plain": [
       "                                  all result_end result_error\n",
       "time                         0.603064   0.603064          NaN\n",
       "distance_to_target            2.39163    2.39163          NaN\n",
       "mean_distance_in_trajectory   2.44539    2.44539          NaN\n",
       "sqrt(trajectory MSE)          4.21444    4.21444          NaN\n",
       "k_value                      0.354392   0.354392          NaN"
      ]
     },
     "metadata": {},
     "execution_count": 72
    }
   ],
   "metadata": {}
  },
  {
   "cell_type": "markdown",
   "source": [
    "# Results function of the noise"
   ],
   "metadata": {}
  },
  {
   "cell_type": "code",
   "execution_count": 105,
   "source": [
    "def noise_results_summary(metrics,trajectory_list, data_stats, start, end):\r\n",
    "    noise_results = pd.DataFrame(columns = metrics)\r\n",
    "    for sigma in np.linspace(start, end, num=10):\r\n",
    "        results = get_trajectory_results_2(trajectory_list, data_stats, sigma)\r\n",
    "        for metric in metrics:\r\n",
    "            noise_results.at[sigma, metric]=results[metric].mean()\r\n",
    "    return noise_results "
   ],
   "outputs": [],
   "metadata": {}
  },
  {
   "cell_type": "code",
   "execution_count": 106,
   "source": [
    "metrics = [\"time\",'distance_to_target', \"mean_distance_in_trajectory\",\"sqrt(trajectory MSE)\", \"k_value\"]\r\n",
    "noise_results_summary(metrics,trajectory_list, data_stats, 0, 0.1)"
   ],
   "outputs": [
    {
     "output_type": "execute_result",
     "data": {
      "text/html": [
       "<div>\n",
       "<style scoped>\n",
       "    .dataframe tbody tr th:only-of-type {\n",
       "        vertical-align: middle;\n",
       "    }\n",
       "\n",
       "    .dataframe tbody tr th {\n",
       "        vertical-align: top;\n",
       "    }\n",
       "\n",
       "    .dataframe thead th {\n",
       "        text-align: right;\n",
       "    }\n",
       "</style>\n",
       "<table border=\"1\" class=\"dataframe\">\n",
       "  <thead>\n",
       "    <tr style=\"text-align: right;\">\n",
       "      <th></th>\n",
       "      <th>time</th>\n",
       "      <th>distance_to_target</th>\n",
       "      <th>mean_distance_in_trajectory</th>\n",
       "      <th>sqrt(trajectory MSE)</th>\n",
       "      <th>k_value</th>\n",
       "      <th>(0.0, time)</th>\n",
       "      <th>(0.0, distance_to_target)</th>\n",
       "      <th>(0.0, mean_distance_in_trajectory)</th>\n",
       "      <th>(0.0, sqrt(trajectory MSE))</th>\n",
       "      <th>(0.0, k_value)</th>\n",
       "      <th>...</th>\n",
       "      <th>(0.08888888888888889, time)</th>\n",
       "      <th>(0.08888888888888889, distance_to_target)</th>\n",
       "      <th>(0.08888888888888889, mean_distance_in_trajectory)</th>\n",
       "      <th>(0.08888888888888889, sqrt(trajectory MSE))</th>\n",
       "      <th>(0.08888888888888889, k_value)</th>\n",
       "      <th>(0.1, time)</th>\n",
       "      <th>(0.1, distance_to_target)</th>\n",
       "      <th>(0.1, mean_distance_in_trajectory)</th>\n",
       "      <th>(0.1, sqrt(trajectory MSE))</th>\n",
       "      <th>(0.1, k_value)</th>\n",
       "    </tr>\n",
       "  </thead>\n",
       "  <tbody>\n",
       "  </tbody>\n",
       "</table>\n",
       "<p>0 rows × 55 columns</p>\n",
       "</div>"
      ],
      "text/plain": [
       "Empty DataFrame\n",
       "Columns: [time, distance_to_target, mean_distance_in_trajectory, sqrt(trajectory MSE), k_value, (0.0, time), (0.0, distance_to_target), (0.0, mean_distance_in_trajectory), (0.0, sqrt(trajectory MSE)), (0.0, k_value), (0.011111111111111112, time), (0.011111111111111112, distance_to_target), (0.011111111111111112, mean_distance_in_trajectory), (0.011111111111111112, sqrt(trajectory MSE)), (0.011111111111111112, k_value), (0.022222222222222223, time), (0.022222222222222223, distance_to_target), (0.022222222222222223, mean_distance_in_trajectory), (0.022222222222222223, sqrt(trajectory MSE)), (0.022222222222222223, k_value), (0.03333333333333333, time), (0.03333333333333333, distance_to_target), (0.03333333333333333, mean_distance_in_trajectory), (0.03333333333333333, sqrt(trajectory MSE)), (0.03333333333333333, k_value), (0.044444444444444446, time), (0.044444444444444446, distance_to_target), (0.044444444444444446, mean_distance_in_trajectory), (0.044444444444444446, sqrt(trajectory MSE)), (0.044444444444444446, k_value), (0.05555555555555556, time), (0.05555555555555556, distance_to_target), (0.05555555555555556, mean_distance_in_trajectory), (0.05555555555555556, sqrt(trajectory MSE)), (0.05555555555555556, k_value), (0.06666666666666667, time), (0.06666666666666667, distance_to_target), (0.06666666666666667, mean_distance_in_trajectory), (0.06666666666666667, sqrt(trajectory MSE)), (0.06666666666666667, k_value), (0.07777777777777778, time), (0.07777777777777778, distance_to_target), (0.07777777777777778, mean_distance_in_trajectory), (0.07777777777777778, sqrt(trajectory MSE)), (0.07777777777777778, k_value), (0.08888888888888889, time), (0.08888888888888889, distance_to_target), (0.08888888888888889, mean_distance_in_trajectory), (0.08888888888888889, sqrt(trajectory MSE)), (0.08888888888888889, k_value), (0.1, time), (0.1, distance_to_target), (0.1, mean_distance_in_trajectory), (0.1, sqrt(trajectory MSE)), (0.1, k_value)]\n",
       "Index: []\n",
       "\n",
       "[0 rows x 55 columns]"
      ]
     },
     "metadata": {},
     "execution_count": 106
    }
   ],
   "metadata": {}
  },
  {
   "cell_type": "code",
   "execution_count": 87,
   "source": [
    "def plot_trajectory(x_single_sequential, y_single_sequential, data_stats, t_number):\r\n",
    "    \r\n",
    "    x_denorm = np.apply_along_axis(denorm,1,x_single_sequential[t_number],data_stats)\r\n",
    "\r\n",
    "    y_denorm = np.apply_along_axis(denorm,1,y_single_sequential[t_number],data_stats)\r\n",
    "\r\n",
    "    initial_action = [0,0]\r\n",
    "    start = [0.0, 0.0, 4.257165346815115, 0.0, 0, 0]\r\n",
    "    target = x_denorm[0] + start\r\n",
    "\r\n",
    "\r\n",
    "    trajectory= model.predict(tf.expand_dims(x_single_sequential[t_number],0))\r\n",
    "\r\n",
    "    New_trajectory = np.squeeze(trajectory)\r\n",
    "\r\n",
    "    trajectory_denorm = np.apply_along_axis(denorm,1,New_trajectory,data_stats)\r\n",
    "\r\n",
    "    pred_trajectory_states = target - trajectory_denorm\r\n",
    "    OSPA_trajectory_states =  target - y_denorm\r\n",
    "    OSPA_trajectory_states=np.insert(OSPA_trajectory_states,0,start, axis=0)\r\n",
    "    pred_trajectory_states=np.insert(pred_trajectory_states,0,start, axis=0)\r\n",
    "  \r\n",
    "    plt.figure()\r\n",
    "\r\n",
    "    plt.plot(pred_trajectory_states[:,0], pred_trajectory_states[:,1], c='g', label='RNN prediction')\r\n",
    "    # plt.plot(ANN_trajectory_states[:,0], ANN_trajectory_states[:,1], c='b', label=\"ANN prediction\")\r\n",
    "    plt.plot(OSPA_trajectory_states[:,0], OSPA_trajectory_states[:,1], c='r', label='OSPA')\r\n",
    "    plt.scatter(target[0],target[1], c='g', label='Goal state')\r\n",
    "    plt.scatter(start[0], start[1], c='y', label='Start state')\r\n",
    "    plt.title(\"trajectory x,z states\")\r\n",
    "    plt.legend()\r\n",
    "\r\n",
    "    plt.show()\r\n",
    "\r\n",
    "    fig, axs = plt.subplots(4)\r\n",
    "\r\n",
    "    for i in range(4):\r\n",
    "\r\n",
    "        component= i+2\r\n",
    "\r\n",
    "        axs[i].plot(pred_trajectory_states[:,0],pred_trajectory_states[:,component], c='b', label='RNN Prediction')\r\n",
    "        axs[i].plot(OSPA_trajectory_states[:,0], OSPA_trajectory_states[:,component],  c='r', label='OSPA')\r\n",
    "        axs[i].scatter(target[0],target[component], c='g', label='Goal state')\r\n",
    "        axs[i].scatter(start[0], start[component], c='y', label='Start start')\r\n",
    "\r\n",
    "    fig.suptitle(\"trajectory components (u, v, theta, q) vs x\")\r\n",
    "\r\n",
    "    fig.show()"
   ],
   "outputs": [],
   "metadata": {}
  },
  {
   "cell_type": "code",
   "execution_count": 88,
   "source": [
    "def plot_trajectory_2(trajectory_list, data_stats, t_number):\r\n",
    "\r\n",
    "    initial_action = [0,0]\r\n",
    "    start = trajectory_list[t_number][0,-2]\r\n",
    "    target = trajectory_list[t_number][0,-1]\r\n",
    "\r\n",
    "    trajectory, cost, actions, end_message = generate_trajectory_Decoder(model, start, target, initial_action, data_stats)\r\n",
    "\r\n",
    "    pred_trajectory_states = target - trajectory\r\n",
    "    OSPA_trajectory_states =  trajectory_list[t_number][:,0:6]\r\n",
    "    # ANN_trajectory_states = ANN_dataset[\"states\"][t_number]\r\n",
    "\r\n",
    "\r\n",
    "    plt.figure()\r\n",
    "\r\n",
    "    plt.plot(pred_trajectory_states[:,0], pred_trajectory_states[:,1], c='g', label='RNN prediction')\r\n",
    "    # plt.plot(ANN_trajectory_states[:,0], ANN_trajectory_states[:,1], c='b', label=\"ANN prediction\")\r\n",
    "    plt.plot(OSPA_trajectory_states[:,0], OSPA_trajectory_states[:,1], c='r', label='OSPA')\r\n",
    "    plt.scatter(target[0],target[1], c='g', label='Goal state')\r\n",
    "    plt.scatter(start[0], start[1], c='y', label='Start state')\r\n",
    "    plt.title(\"trajectory x,z states\")\r\n",
    "    plt.legend()\r\n",
    "\r\n",
    "    plt.show()\r\n",
    "\r\n",
    "    fig, axs = plt.subplots(4)\r\n",
    "\r\n",
    "    for i in range(4):\r\n",
    "\r\n",
    "        component= i+2\r\n",
    "\r\n",
    "        axs[i].plot(pred_trajectory_states[:,0],pred_trajectory_states[:,component], c='b', label='RNN Prediction')\r\n",
    "        axs[i].plot(OSPA_trajectory_states[:,0], OSPA_trajectory_states[:,component],  c='r', label='OSPA')\r\n",
    "        axs[i].scatter(target[0],target[component], c='g', label='Goal state')\r\n",
    "        axs[i].scatter(start[0], start[component], c='y', label='Start start')\r\n",
    "\r\n",
    "    fig.suptitle(\"trajectory components (u, v, theta, q) vs x\")\r\n",
    "\r\n",
    "    fig.show()"
   ],
   "outputs": [],
   "metadata": {}
  },
  {
   "cell_type": "code",
   "execution_count": 89,
   "source": [
    "t_number = 78\r\n",
    "plot_trajectory_2(trajectory_list, data_stats, t_number)"
   ],
   "outputs": [
    {
     "output_type": "error",
     "ename": "TypeError",
     "evalue": "generate_trajectory_Decoder() missing 1 required positional argument: 'sigma'",
     "traceback": [
      "\u001b[1;31m---------------------------------------------------------------------------\u001b[0m",
      "\u001b[1;31mTypeError\u001b[0m                                 Traceback (most recent call last)",
      "\u001b[1;32m<ipython-input-89-10185f9a083e>\u001b[0m in \u001b[0;36m<module>\u001b[1;34m\u001b[0m\n\u001b[0;32m      1\u001b[0m \u001b[0mt_number\u001b[0m \u001b[1;33m=\u001b[0m \u001b[1;36m78\u001b[0m\u001b[1;33m\u001b[0m\u001b[1;33m\u001b[0m\u001b[0m\n\u001b[1;32m----> 2\u001b[1;33m \u001b[0mplot_trajectory_2\u001b[0m\u001b[1;33m(\u001b[0m\u001b[0mtrajectory_list\u001b[0m\u001b[1;33m,\u001b[0m \u001b[0mdata_stats\u001b[0m\u001b[1;33m,\u001b[0m \u001b[0mt_number\u001b[0m\u001b[1;33m)\u001b[0m\u001b[1;33m\u001b[0m\u001b[1;33m\u001b[0m\u001b[0m\n\u001b[0m",
      "\u001b[1;32m<ipython-input-88-ba9927b3ba11>\u001b[0m in \u001b[0;36mplot_trajectory_2\u001b[1;34m(trajectory_list, data_stats, t_number)\u001b[0m\n\u001b[0;32m      5\u001b[0m     \u001b[0mtarget\u001b[0m \u001b[1;33m=\u001b[0m \u001b[0mtrajectory_list\u001b[0m\u001b[1;33m[\u001b[0m\u001b[0mt_number\u001b[0m\u001b[1;33m]\u001b[0m\u001b[1;33m[\u001b[0m\u001b[1;36m0\u001b[0m\u001b[1;33m,\u001b[0m\u001b[1;33m-\u001b[0m\u001b[1;36m1\u001b[0m\u001b[1;33m]\u001b[0m\u001b[1;33m\u001b[0m\u001b[1;33m\u001b[0m\u001b[0m\n\u001b[0;32m      6\u001b[0m \u001b[1;33m\u001b[0m\u001b[0m\n\u001b[1;32m----> 7\u001b[1;33m     \u001b[0mtrajectory\u001b[0m\u001b[1;33m,\u001b[0m \u001b[0mcost\u001b[0m\u001b[1;33m,\u001b[0m \u001b[0mactions\u001b[0m\u001b[1;33m,\u001b[0m \u001b[0mend_message\u001b[0m \u001b[1;33m=\u001b[0m \u001b[0mgenerate_trajectory_Decoder\u001b[0m\u001b[1;33m(\u001b[0m\u001b[0mmodel\u001b[0m\u001b[1;33m,\u001b[0m \u001b[0mstart\u001b[0m\u001b[1;33m,\u001b[0m \u001b[0mtarget\u001b[0m\u001b[1;33m,\u001b[0m \u001b[0minitial_action\u001b[0m\u001b[1;33m,\u001b[0m \u001b[0mdata_stats\u001b[0m\u001b[1;33m)\u001b[0m\u001b[1;33m\u001b[0m\u001b[1;33m\u001b[0m\u001b[0m\n\u001b[0m\u001b[0;32m      8\u001b[0m \u001b[1;33m\u001b[0m\u001b[0m\n\u001b[0;32m      9\u001b[0m     \u001b[0mpred_trajectory_states\u001b[0m \u001b[1;33m=\u001b[0m \u001b[0mtarget\u001b[0m \u001b[1;33m-\u001b[0m \u001b[0mtrajectory\u001b[0m\u001b[1;33m\u001b[0m\u001b[1;33m\u001b[0m\u001b[0m\n",
      "\u001b[1;31mTypeError\u001b[0m: generate_trajectory_Decoder() missing 1 required positional argument: 'sigma'"
     ]
    }
   ],
   "metadata": {}
  },
  {
   "cell_type": "code",
   "execution_count": 69,
   "source": [
    "# full_results[[\"distance_to_target\", \"mean_distance_in_trajectory\", \"sqrt(trajectory MSE)\"]].sort_values(by=[\"mean_distance_in_trajectory\"])[-10:-1]"
   ],
   "outputs": [
    {
     "output_type": "execute_result",
     "data": {
      "text/html": [
       "<div>\n",
       "<style scoped>\n",
       "    .dataframe tbody tr th:only-of-type {\n",
       "        vertical-align: middle;\n",
       "    }\n",
       "\n",
       "    .dataframe tbody tr th {\n",
       "        vertical-align: top;\n",
       "    }\n",
       "\n",
       "    .dataframe thead th {\n",
       "        text-align: right;\n",
       "    }\n",
       "</style>\n",
       "<table border=\"1\" class=\"dataframe\">\n",
       "  <thead>\n",
       "    <tr style=\"text-align: right;\">\n",
       "      <th></th>\n",
       "      <th>distance_to_target</th>\n",
       "      <th>mean_distance_in_trajectory</th>\n",
       "      <th>sqrt(trajectory MSE)</th>\n",
       "    </tr>\n",
       "  </thead>\n",
       "  <tbody>\n",
       "    <tr>\n",
       "      <th>152</th>\n",
       "      <td>1.892571</td>\n",
       "      <td>6.126048</td>\n",
       "      <td>4.517438</td>\n",
       "    </tr>\n",
       "    <tr>\n",
       "      <th>93</th>\n",
       "      <td>0.974089</td>\n",
       "      <td>6.140193</td>\n",
       "      <td>4.388592</td>\n",
       "    </tr>\n",
       "    <tr>\n",
       "      <th>207</th>\n",
       "      <td>1.595366</td>\n",
       "      <td>6.363929</td>\n",
       "      <td>4.648680</td>\n",
       "    </tr>\n",
       "    <tr>\n",
       "      <th>239</th>\n",
       "      <td>1.600489</td>\n",
       "      <td>6.517836</td>\n",
       "      <td>4.701300</td>\n",
       "    </tr>\n",
       "    <tr>\n",
       "      <th>83</th>\n",
       "      <td>2.595404</td>\n",
       "      <td>7.145711</td>\n",
       "      <td>4.943786</td>\n",
       "    </tr>\n",
       "    <tr>\n",
       "      <th>235</th>\n",
       "      <td>1.098221</td>\n",
       "      <td>7.505903</td>\n",
       "      <td>5.182185</td>\n",
       "    </tr>\n",
       "    <tr>\n",
       "      <th>156</th>\n",
       "      <td>1.586122</td>\n",
       "      <td>8.694375</td>\n",
       "      <td>5.293008</td>\n",
       "    </tr>\n",
       "    <tr>\n",
       "      <th>85</th>\n",
       "      <td>0.264131</td>\n",
       "      <td>9.537998</td>\n",
       "      <td>6.152301</td>\n",
       "    </tr>\n",
       "    <tr>\n",
       "      <th>146</th>\n",
       "      <td>2.252134</td>\n",
       "      <td>10.611320</td>\n",
       "      <td>6.100292</td>\n",
       "    </tr>\n",
       "  </tbody>\n",
       "</table>\n",
       "</div>"
      ],
      "text/plain": [
       "     distance_to_target  mean_distance_in_trajectory  sqrt(trajectory MSE)\n",
       "152            1.892571                     6.126048              4.517438\n",
       "93             0.974089                     6.140193              4.388592\n",
       "207            1.595366                     6.363929              4.648680\n",
       "239            1.600489                     6.517836              4.701300\n",
       "83             2.595404                     7.145711              4.943786\n",
       "235            1.098221                     7.505903              5.182185\n",
       "156            1.586122                     8.694375              5.293008\n",
       "85             0.264131                     9.537998              6.152301\n",
       "146            2.252134                    10.611320              6.100292"
      ]
     },
     "metadata": {},
     "execution_count": 69
    }
   ],
   "metadata": {}
  },
  {
   "cell_type": "code",
   "execution_count": 105,
   "source": [
    "# k_results = pd.DataFrame(columns = [\"k_value\",\"time\",\"distance_to_target\", \"mean_distance_in_trajectory\", \"sqrt(trajectory MSE)\"])\r\n",
    "# i = 0\r\n",
    "# last_percentaje=0\r\n",
    "# for percentaje in np.linspace(0.2, 1, num=5):\r\n",
    "#     k_results.at[i,'k_value']= percentaje\r\n",
    "#     k_results.at[i,\"time\"]= full_results[[\"time\"]].loc[(full_results['k_value'] <= percentaje) & (full_results['k_value'] > last_percentaje)].mean()\r\n",
    "#     k_results.at[i,\"distance_to_target\"]= full_results[[\"distance_to_target\"]].loc[(full_results['k_value'] <= percentaje) & (full_results['k_value'] > last_percentaje)].mean()\r\n",
    "#     k_results.at[i,\"mean_distance_in_trajectory\"]= full_results[[\"mean_distance_in_trajectory\"]].loc[(full_results['k_value'] <= percentaje) & (full_results['k_value'] > last_percentaje)].mean()\r\n",
    "#     k_results.at[i,\"sqrt(trajectory MSE)\"]= full_results[[\"sqrt(trajectory MSE)\"]].loc[(full_results['k_value'] <= percentaje) & (full_results['k_value'] > last_percentaje)].mean()\r\n",
    "#     i=i+1\r\n",
    "#     last_percentaje = percentaje\r\n"
   ],
   "outputs": [],
   "metadata": {}
  },
  {
   "cell_type": "code",
   "execution_count": 19,
   "source": [
    "# raw_dataset = pd.read_csv(\"./data/ANN_results.csv\")\r\n",
    "# ANN_dataset = raw_dataset.copy()\r\n",
    "\r\n",
    "# for index, row in ANN_dataset.iterrows():\r\n",
    "#     CS_array =np.array(eval(row[\"states\"]))\r\n",
    "#     ANN_dataset[\"states\"][index] = CS_array"
   ],
   "outputs": [],
   "metadata": {}
  },
  {
   "cell_type": "code",
   "execution_count": null,
   "source": [
    "plot_trajectory(x_val_single_sequential, y_val_single_sequential, data_stats, 3)"
   ],
   "outputs": [
    {
     "output_type": "display_data",
     "data": {
      "image/png": "[encoded data removed]",
      "image/svg+xml": "<?xml version=\"1.0\" encoding=\"utf-8\" standalone=\"no\"?>\r\n<!DOCTYPE svg PUBLIC \"-//W3C//DTD SVG 1.1//EN\"\r\n  \"http://www.w3.org/Graphics/SVG/1.1/DTD/svg11.dtd\">\r\n<!-- Created with matplotlib (https://matplotlib.org/) -->\r\n<svg height=\"263.63625pt\" version=\"1.1\" viewBox=\"0 0 377.304687 263.63625\" width=\"377.304687pt\" xmlns=\"http://www.w3.org/2000/svg\" xmlns:xlink=\"http://www.w3.org/1999/xlink\">\r\n <defs>\r\n  <style type=\"text/css\">\r\n*{stroke-linecap:butt;stroke-linejoin:round;}\r\n  </style>\r\n </defs>\r\n <g id=\"figure_1\">\r\n  <g id=\"patch_1\">\r\n   <path d=\"M 0 263.63625 \r\nL 377.304687 263.63625 \r\nL 377.304687 0 \r\nL 0 0 \r\nz\r\n\" style=\"fill:none;\"/>\r\n  </g>\r\n  <g id=\"axes_1\">\r\n   <g id=\"patch_2\">\r\n    <path d=\"M 35.304688 239.758125 \r\nL 370.104688 239.758125 \r\nL 370.104688 22.318125 \r\nL 35.304688 22.318125 \r\nz\r\n\" style=\"fill:#ffffff;\"/>\r\n   </g>\r\n   <g id=\"PathCollection_1\">\r\n    <defs>\r\n     <path d=\"M 0 3 \r\nC 0.795609 3 1.55874 2.683901 2.12132 2.12132 \r\nC 2.683901 1.55874 3 0.795609 3 0 \r\nC 3 -0.795609 2.683901 -1.55874 2.12132 -2.12132 \r\nC 1.55874 -2.683901 0.795609 -3 0 -3 \r\nC -0.795609 -3 -1.55874 -2.683901 -2.12132 -2.12132 \r\nC -2.683901 -1.55874 -3 -0.795609 -3 0 \r\nC -3 0.795609 -2.683901 1.55874 -2.12132 2.12132 \r\nC -1.55874 2.683901 -0.795609 3 0 3 \r\nz\r\n\" id=\"m189ea955dc\" style=\"stroke:#008000;\"/>\r\n    </defs>\r\n    <g clip-path=\"url(#pf94502de84)\">\r\n     <use style=\"fill:#008000;stroke:#008000;\" x=\"352.225122\" xlink:href=\"#m189ea955dc\" y=\"226.953278\"/>\r\n    </g>\r\n   </g>\r\n   <g id=\"PathCollection_2\">\r\n    <defs>\r\n     <path d=\"M 0 3 \r\nC 0.795609 3 1.55874 2.683901 2.12132 2.12132 \r\nC 2.683901 1.55874 3 0.795609 3 0 \r\nC 3 -0.795609 2.683901 -1.55874 2.12132 -2.12132 \r\nC 1.55874 -2.683901 0.795609 -3 0 -3 \r\nC -0.795609 -3 -1.55874 -2.683901 -2.12132 -2.12132 \r\nC -2.683901 -1.55874 -3 -0.795609 -3 0 \r\nC -3 0.795609 -2.683901 1.55874 -2.12132 2.12132 \r\nC -1.55874 2.683901 -0.795609 3 0 3 \r\nz\r\n\" id=\"m740db2b3bb\" style=\"stroke:#bfbf00;\"/>\r\n    </defs>\r\n    <g clip-path=\"url(#pf94502de84)\">\r\n     <use style=\"fill:#bfbf00;stroke:#bfbf00;\" x=\"53.493588\" xlink:href=\"#m740db2b3bb\" y=\"35.156912\"/>\r\n    </g>\r\n   </g>\r\n   <g id=\"matplotlib.axis_1\">\r\n    <g id=\"xtick_1\">\r\n     <g id=\"line2d_1\">\r\n      <defs>\r\n       <path d=\"M 0 0 \r\nL 0 3.5 \r\n\" id=\"mfc76bf46bf\" style=\"stroke:#000000;stroke-width:0.8;\"/>\r\n      </defs>\r\n      <g>\r\n       <use style=\"stroke:#000000;stroke-width:0.8;\" x=\"53.493588\" xlink:href=\"#mfc76bf46bf\" y=\"239.758125\"/>\r\n      </g>\r\n     </g>\r\n     <g id=\"text_1\">\r\n      <!-- 0 -->\r\n      <defs>\r\n       <path d=\"M 31.78125 66.40625 \r\nQ 24.171875 66.40625 20.328125 58.90625 \r\nQ 16.5 51.421875 16.5 36.375 \r\nQ 16.5 21.390625 20.328125 13.890625 \r\nQ 24.171875 6.390625 31.78125 6.390625 \r\nQ 39.453125 6.390625 43.28125 13.890625 \r\nQ 47.125 21.390625 47.125 36.375 \r\nQ 47.125 51.421875 43.28125 58.90625 \r\nQ 39.453125 66.40625 31.78125 66.40625 \r\nz\r\nM 31.78125 74.21875 \r\nQ 44.046875 74.21875 50.515625 64.515625 \r\nQ 56.984375 54.828125 56.984375 36.375 \r\nQ 56.984375 17.96875 50.515625 8.265625 \r\nQ 44.046875 -1.421875 31.78125 -1.421875 \r\nQ 19.53125 -1.421875 13.0625 8.265625 \r\nQ 6.59375 17.96875 6.59375 36.375 \r\nQ 6.59375 54.828125 13.0625 64.515625 \r\nQ 19.53125 74.21875 31.78125 74.21875 \r\nz\r\n\" id=\"DejaVuSans-48\"/>\r\n      </defs>\r\n      <g transform=\"translate(50.312338 254.356563)scale(0.1 -0.1)\">\r\n       <use xlink:href=\"#DejaVuSans-48\"/>\r\n      </g>\r\n     </g>\r\n    </g>\r\n    <g id=\"xtick_2\">\r\n     <g id=\"line2d_2\">\r\n      <g>\r\n       <use style=\"stroke:#000000;stroke-width:0.8;\" x=\"95.417192\" xlink:href=\"#mfc76bf46bf\" y=\"239.758125\"/>\r\n      </g>\r\n     </g>\r\n     <g id=\"text_2\">\r\n      <!-- 10 -->\r\n      <defs>\r\n       <path d=\"M 12.40625 8.296875 \r\nL 28.515625 8.296875 \r\nL 28.515625 63.921875 \r\nL 10.984375 60.40625 \r\nL 10.984375 69.390625 \r\nL 28.421875 72.90625 \r\nL 38.28125 72.90625 \r\nL 38.28125 8.296875 \r\nL 54.390625 8.296875 \r\nL 54.390625 0 \r\nL 12.40625 0 \r\nz\r\n\" id=\"DejaVuSans-49\"/>\r\n      </defs>\r\n      <g transform=\"translate(89.054692 254.356563)scale(0.1 -0.1)\">\r\n       <use xlink:href=\"#DejaVuSans-49\"/>\r\n       <use x=\"63.623047\" xlink:href=\"#DejaVuSans-48\"/>\r\n      </g>\r\n     </g>\r\n    </g>\r\n    <g id=\"xtick_3\">\r\n     <g id=\"line2d_3\">\r\n      <g>\r\n       <use style=\"stroke:#000000;stroke-width:0.8;\" x=\"137.340796\" xlink:href=\"#mfc76bf46bf\" y=\"239.758125\"/>\r\n      </g>\r\n     </g>\r\n     <g id=\"text_3\">\r\n      <!-- 20 -->\r\n      <defs>\r\n       <path d=\"M 19.1875 8.296875 \r\nL 53.609375 8.296875 \r\nL 53.609375 0 \r\nL 7.328125 0 \r\nL 7.328125 8.296875 \r\nQ 12.9375 14.109375 22.625 23.890625 \r\nQ 32.328125 33.6875 34.8125 36.53125 \r\nQ 39.546875 41.84375 41.421875 45.53125 \r\nQ 43.3125 49.21875 43.3125 52.78125 \r\nQ 43.3125 58.59375 39.234375 62.25 \r\nQ 35.15625 65.921875 28.609375 65.921875 \r\nQ 23.96875 65.921875 18.8125 64.3125 \r\nQ 13.671875 62.703125 7.8125 59.421875 \r\nL 7.8125 69.390625 \r\nQ 13.765625 71.78125 18.9375 73 \r\nQ 24.125 74.21875 28.421875 74.21875 \r\nQ 39.75 74.21875 46.484375 68.546875 \r\nQ 53.21875 62.890625 53.21875 53.421875 \r\nQ 53.21875 48.921875 51.53125 44.890625 \r\nQ 49.859375 40.875 45.40625 35.40625 \r\nQ 44.1875 33.984375 37.640625 27.21875 \r\nQ 31.109375 20.453125 19.1875 8.296875 \r\nz\r\n\" id=\"DejaVuSans-50\"/>\r\n      </defs>\r\n      <g transform=\"translate(130.978296 254.356563)scale(0.1 -0.1)\">\r\n       <use xlink:href=\"#DejaVuSans-50\"/>\r\n       <use x=\"63.623047\" xlink:href=\"#DejaVuSans-48\"/>\r\n      </g>\r\n     </g>\r\n    </g>\r\n    <g id=\"xtick_4\">\r\n     <g id=\"line2d_4\">\r\n      <g>\r\n       <use style=\"stroke:#000000;stroke-width:0.8;\" x=\"179.2644\" xlink:href=\"#mfc76bf46bf\" y=\"239.758125\"/>\r\n      </g>\r\n     </g>\r\n     <g id=\"text_4\">\r\n      <!-- 30 -->\r\n      <defs>\r\n       <path d=\"M 40.578125 39.3125 \r\nQ 47.65625 37.796875 51.625 33 \r\nQ 55.609375 28.21875 55.609375 21.1875 \r\nQ 55.609375 10.40625 48.1875 4.484375 \r\nQ 40.765625 -1.421875 27.09375 -1.421875 \r\nQ 22.515625 -1.421875 17.65625 -0.515625 \r\nQ 12.796875 0.390625 7.625 2.203125 \r\nL 7.625 11.71875 \r\nQ 11.71875 9.328125 16.59375 8.109375 \r\nQ 21.484375 6.890625 26.8125 6.890625 \r\nQ 36.078125 6.890625 40.9375 10.546875 \r\nQ 45.796875 14.203125 45.796875 21.1875 \r\nQ 45.796875 27.640625 41.28125 31.265625 \r\nQ 36.765625 34.90625 28.71875 34.90625 \r\nL 20.21875 34.90625 \r\nL 20.21875 43.015625 \r\nL 29.109375 43.015625 \r\nQ 36.375 43.015625 40.234375 45.921875 \r\nQ 44.09375 48.828125 44.09375 54.296875 \r\nQ 44.09375 59.90625 40.109375 62.90625 \r\nQ 36.140625 65.921875 28.71875 65.921875 \r\nQ 24.65625 65.921875 20.015625 65.03125 \r\nQ 15.375 64.15625 9.8125 62.3125 \r\nL 9.8125 71.09375 \r\nQ 15.4375 72.65625 20.34375 73.4375 \r\nQ 25.25 74.21875 29.59375 74.21875 \r\nQ 40.828125 74.21875 47.359375 69.109375 \r\nQ 53.90625 64.015625 53.90625 55.328125 \r\nQ 53.90625 49.265625 50.4375 45.09375 \r\nQ 46.96875 40.921875 40.578125 39.3125 \r\nz\r\n\" id=\"DejaVuSans-51\"/>\r\n      </defs>\r\n      <g transform=\"translate(172.9019 254.356563)scale(0.1 -0.1)\">\r\n       <use xlink:href=\"#DejaVuSans-51\"/>\r\n       <use x=\"63.623047\" xlink:href=\"#DejaVuSans-48\"/>\r\n      </g>\r\n     </g>\r\n    </g>\r\n    <g id=\"xtick_5\">\r\n     <g id=\"line2d_5\">\r\n      <g>\r\n       <use style=\"stroke:#000000;stroke-width:0.8;\" x=\"221.188004\" xlink:href=\"#mfc76bf46bf\" y=\"239.758125\"/>\r\n      </g>\r\n     </g>\r\n     <g id=\"text_5\">\r\n      <!-- 40 -->\r\n      <defs>\r\n       <path d=\"M 37.796875 64.3125 \r\nL 12.890625 25.390625 \r\nL 37.796875 25.390625 \r\nz\r\nM 35.203125 72.90625 \r\nL 47.609375 72.90625 \r\nL 47.609375 25.390625 \r\nL 58.015625 25.390625 \r\nL 58.015625 17.1875 \r\nL 47.609375 17.1875 \r\nL 47.609375 0 \r\nL 37.796875 0 \r\nL 37.796875 17.1875 \r\nL 4.890625 17.1875 \r\nL 4.890625 26.703125 \r\nz\r\n\" id=\"DejaVuSans-52\"/>\r\n      </defs>\r\n      <g transform=\"translate(214.825504 254.356563)scale(0.1 -0.1)\">\r\n       <use xlink:href=\"#DejaVuSans-52\"/>\r\n       <use x=\"63.623047\" xlink:href=\"#DejaVuSans-48\"/>\r\n      </g>\r\n     </g>\r\n    </g>\r\n    <g id=\"xtick_6\">\r\n     <g id=\"line2d_6\">\r\n      <g>\r\n       <use style=\"stroke:#000000;stroke-width:0.8;\" x=\"263.111608\" xlink:href=\"#mfc76bf46bf\" y=\"239.758125\"/>\r\n      </g>\r\n     </g>\r\n     <g id=\"text_6\">\r\n      <!-- 50 -->\r\n      <defs>\r\n       <path d=\"M 10.796875 72.90625 \r\nL 49.515625 72.90625 \r\nL 49.515625 64.59375 \r\nL 19.828125 64.59375 \r\nL 19.828125 46.734375 \r\nQ 21.96875 47.46875 24.109375 47.828125 \r\nQ 26.265625 48.1875 28.421875 48.1875 \r\nQ 40.625 48.1875 47.75 41.5 \r\nQ 54.890625 34.8125 54.890625 23.390625 \r\nQ 54.890625 11.625 47.5625 5.09375 \r\nQ 40.234375 -1.421875 26.90625 -1.421875 \r\nQ 22.3125 -1.421875 17.546875 -0.640625 \r\nQ 12.796875 0.140625 7.71875 1.703125 \r\nL 7.71875 11.625 \r\nQ 12.109375 9.234375 16.796875 8.0625 \r\nQ 21.484375 6.890625 26.703125 6.890625 \r\nQ 35.15625 6.890625 40.078125 11.328125 \r\nQ 45.015625 15.765625 45.015625 23.390625 \r\nQ 45.015625 31 40.078125 35.4375 \r\nQ 35.15625 39.890625 26.703125 39.890625 \r\nQ 22.75 39.890625 18.8125 39.015625 \r\nQ 14.890625 38.140625 10.796875 36.28125 \r\nz\r\n\" id=\"DejaVuSans-53\"/>\r\n      </defs>\r\n      <g transform=\"translate(256.749108 254.356563)scale(0.1 -0.1)\">\r\n       <use xlink:href=\"#DejaVuSans-53\"/>\r\n       <use x=\"63.623047\" xlink:href=\"#DejaVuSans-48\"/>\r\n      </g>\r\n     </g>\r\n    </g>\r\n    <g id=\"xtick_7\">\r\n     <g id=\"line2d_7\">\r\n      <g>\r\n       <use style=\"stroke:#000000;stroke-width:0.8;\" x=\"305.035212\" xlink:href=\"#mfc76bf46bf\" y=\"239.758125\"/>\r\n      </g>\r\n     </g>\r\n     <g id=\"text_7\">\r\n      <!-- 60 -->\r\n      <defs>\r\n       <path d=\"M 33.015625 40.375 \r\nQ 26.375 40.375 22.484375 35.828125 \r\nQ 18.609375 31.296875 18.609375 23.390625 \r\nQ 18.609375 15.53125 22.484375 10.953125 \r\nQ 26.375 6.390625 33.015625 6.390625 \r\nQ 39.65625 6.390625 43.53125 10.953125 \r\nQ 47.40625 15.53125 47.40625 23.390625 \r\nQ 47.40625 31.296875 43.53125 35.828125 \r\nQ 39.65625 40.375 33.015625 40.375 \r\nz\r\nM 52.59375 71.296875 \r\nL 52.59375 62.3125 \r\nQ 48.875 64.0625 45.09375 64.984375 \r\nQ 41.3125 65.921875 37.59375 65.921875 \r\nQ 27.828125 65.921875 22.671875 59.328125 \r\nQ 17.53125 52.734375 16.796875 39.40625 \r\nQ 19.671875 43.65625 24.015625 45.921875 \r\nQ 28.375 48.1875 33.59375 48.1875 \r\nQ 44.578125 48.1875 50.953125 41.515625 \r\nQ 57.328125 34.859375 57.328125 23.390625 \r\nQ 57.328125 12.15625 50.6875 5.359375 \r\nQ 44.046875 -1.421875 33.015625 -1.421875 \r\nQ 20.359375 -1.421875 13.671875 8.265625 \r\nQ 6.984375 17.96875 6.984375 36.375 \r\nQ 6.984375 53.65625 15.1875 63.9375 \r\nQ 23.390625 74.21875 37.203125 74.21875 \r\nQ 40.921875 74.21875 44.703125 73.484375 \r\nQ 48.484375 72.75 52.59375 71.296875 \r\nz\r\n\" id=\"DejaVuSans-54\"/>\r\n      </defs>\r\n      <g transform=\"translate(298.672712 254.356563)scale(0.1 -0.1)\">\r\n       <use xlink:href=\"#DejaVuSans-54\"/>\r\n       <use x=\"63.623047\" xlink:href=\"#DejaVuSans-48\"/>\r\n      </g>\r\n     </g>\r\n    </g>\r\n    <g id=\"xtick_8\">\r\n     <g id=\"line2d_8\">\r\n      <g>\r\n       <use style=\"stroke:#000000;stroke-width:0.8;\" x=\"346.958816\" xlink:href=\"#mfc76bf46bf\" y=\"239.758125\"/>\r\n      </g>\r\n     </g>\r\n     <g id=\"text_8\">\r\n      <!-- 70 -->\r\n      <defs>\r\n       <path d=\"M 8.203125 72.90625 \r\nL 55.078125 72.90625 \r\nL 55.078125 68.703125 \r\nL 28.609375 0 \r\nL 18.3125 0 \r\nL 43.21875 64.59375 \r\nL 8.203125 64.59375 \r\nz\r\n\" id=\"DejaVuSans-55\"/>\r\n      </defs>\r\n      <g transform=\"translate(340.596316 254.356563)scale(0.1 -0.1)\">\r\n       <use xlink:href=\"#DejaVuSans-55\"/>\r\n       <use x=\"63.623047\" xlink:href=\"#DejaVuSans-48\"/>\r\n      </g>\r\n     </g>\r\n    </g>\r\n   </g>\r\n   <g id=\"matplotlib.axis_2\">\r\n    <g id=\"ytick_1\">\r\n     <g id=\"line2d_9\">\r\n      <defs>\r\n       <path d=\"M 0 0 \r\nL -3.5 0 \r\n\" id=\"m54167a4515\" style=\"stroke:#000000;stroke-width:0.8;\"/>\r\n      </defs>\r\n      <g>\r\n       <use style=\"stroke:#000000;stroke-width:0.8;\" x=\"35.304688\" xlink:href=\"#m54167a4515\" y=\"226.616952\"/>\r\n      </g>\r\n     </g>\r\n     <g id=\"text_9\">\r\n      <!-- −10 -->\r\n      <defs>\r\n       <path d=\"M 10.59375 35.5 \r\nL 73.1875 35.5 \r\nL 73.1875 27.203125 \r\nL 10.59375 27.203125 \r\nz\r\n\" id=\"DejaVuSans-8722\"/>\r\n      </defs>\r\n      <g transform=\"translate(7.2 230.41617)scale(0.1 -0.1)\">\r\n       <use xlink:href=\"#DejaVuSans-8722\"/>\r\n       <use x=\"83.789062\" xlink:href=\"#DejaVuSans-49\"/>\r\n       <use x=\"147.412109\" xlink:href=\"#DejaVuSans-48\"/>\r\n      </g>\r\n     </g>\r\n    </g>\r\n    <g id=\"ytick_2\">\r\n     <g id=\"line2d_10\">\r\n      <g>\r\n       <use style=\"stroke:#000000;stroke-width:0.8;\" x=\"35.304688\" xlink:href=\"#m54167a4515\" y=\"188.324944\"/>\r\n      </g>\r\n     </g>\r\n     <g id=\"text_10\">\r\n      <!-- −8 -->\r\n      <defs>\r\n       <path d=\"M 31.78125 34.625 \r\nQ 24.75 34.625 20.71875 30.859375 \r\nQ 16.703125 27.09375 16.703125 20.515625 \r\nQ 16.703125 13.921875 20.71875 10.15625 \r\nQ 24.75 6.390625 31.78125 6.390625 \r\nQ 38.8125 6.390625 42.859375 10.171875 \r\nQ 46.921875 13.96875 46.921875 20.515625 \r\nQ 46.921875 27.09375 42.890625 30.859375 \r\nQ 38.875 34.625 31.78125 34.625 \r\nz\r\nM 21.921875 38.8125 \r\nQ 15.578125 40.375 12.03125 44.71875 \r\nQ 8.5 49.078125 8.5 55.328125 \r\nQ 8.5 64.0625 14.71875 69.140625 \r\nQ 20.953125 74.21875 31.78125 74.21875 \r\nQ 42.671875 74.21875 48.875 69.140625 \r\nQ 55.078125 64.0625 55.078125 55.328125 \r\nQ 55.078125 49.078125 51.53125 44.71875 \r\nQ 48 40.375 41.703125 38.8125 \r\nQ 48.828125 37.15625 52.796875 32.3125 \r\nQ 56.78125 27.484375 56.78125 20.515625 \r\nQ 56.78125 9.90625 50.3125 4.234375 \r\nQ 43.84375 -1.421875 31.78125 -1.421875 \r\nQ 19.734375 -1.421875 13.25 4.234375 \r\nQ 6.78125 9.90625 6.78125 20.515625 \r\nQ 6.78125 27.484375 10.78125 32.3125 \r\nQ 14.796875 37.15625 21.921875 38.8125 \r\nz\r\nM 18.3125 54.390625 \r\nQ 18.3125 48.734375 21.84375 45.5625 \r\nQ 25.390625 42.390625 31.78125 42.390625 \r\nQ 38.140625 42.390625 41.71875 45.5625 \r\nQ 45.3125 48.734375 45.3125 54.390625 \r\nQ 45.3125 60.0625 41.71875 63.234375 \r\nQ 38.140625 66.40625 31.78125 66.40625 \r\nQ 25.390625 66.40625 21.84375 63.234375 \r\nQ 18.3125 60.0625 18.3125 54.390625 \r\nz\r\n\" id=\"DejaVuSans-56\"/>\r\n      </defs>\r\n      <g transform=\"translate(13.5625 192.124162)scale(0.1 -0.1)\">\r\n       <use xlink:href=\"#DejaVuSans-8722\"/>\r\n       <use x=\"83.789062\" xlink:href=\"#DejaVuSans-56\"/>\r\n      </g>\r\n     </g>\r\n    </g>\r\n    <g id=\"ytick_3\">\r\n     <g id=\"line2d_11\">\r\n      <g>\r\n       <use style=\"stroke:#000000;stroke-width:0.8;\" x=\"35.304688\" xlink:href=\"#m54167a4515\" y=\"150.032936\"/>\r\n      </g>\r\n     </g>\r\n     <g id=\"text_11\">\r\n      <!-- −6 -->\r\n      <g transform=\"translate(13.5625 153.832155)scale(0.1 -0.1)\">\r\n       <use xlink:href=\"#DejaVuSans-8722\"/>\r\n       <use x=\"83.789062\" xlink:href=\"#DejaVuSans-54\"/>\r\n      </g>\r\n     </g>\r\n    </g>\r\n    <g id=\"ytick_4\">\r\n     <g id=\"line2d_12\">\r\n      <g>\r\n       <use style=\"stroke:#000000;stroke-width:0.8;\" x=\"35.304688\" xlink:href=\"#m54167a4515\" y=\"111.740928\"/>\r\n      </g>\r\n     </g>\r\n     <g id=\"text_12\">\r\n      <!-- −4 -->\r\n      <g transform=\"translate(13.5625 115.540147)scale(0.1 -0.1)\">\r\n       <use xlink:href=\"#DejaVuSans-8722\"/>\r\n       <use x=\"83.789062\" xlink:href=\"#DejaVuSans-52\"/>\r\n      </g>\r\n     </g>\r\n    </g>\r\n    <g id=\"ytick_5\">\r\n     <g id=\"line2d_13\">\r\n      <g>\r\n       <use style=\"stroke:#000000;stroke-width:0.8;\" x=\"35.304688\" xlink:href=\"#m54167a4515\" y=\"73.44892\"/>\r\n      </g>\r\n     </g>\r\n     <g id=\"text_13\">\r\n      <!-- −2 -->\r\n      <g transform=\"translate(13.5625 77.248139)scale(0.1 -0.1)\">\r\n       <use xlink:href=\"#DejaVuSans-8722\"/>\r\n       <use x=\"83.789062\" xlink:href=\"#DejaVuSans-50\"/>\r\n      </g>\r\n     </g>\r\n    </g>\r\n    <g id=\"ytick_6\">\r\n     <g id=\"line2d_14\">\r\n      <g>\r\n       <use style=\"stroke:#000000;stroke-width:0.8;\" x=\"35.304688\" xlink:href=\"#m54167a4515\" y=\"35.156912\"/>\r\n      </g>\r\n     </g>\r\n     <g id=\"text_14\">\r\n      <!-- 0 -->\r\n      <g transform=\"translate(21.942188 38.956131)scale(0.1 -0.1)\">\r\n       <use xlink:href=\"#DejaVuSans-48\"/>\r\n      </g>\r\n     </g>\r\n    </g>\r\n   </g>\r\n   <g id=\"line2d_15\">\r\n    <path clip-path=\"url(#pf94502de84)\" d=\"M 53.493588 35.156912 \r\nL 76.783796 61.238613 \r\nL 92.562318 68.626591 \r\nL 141.635413 165.124856 \r\nL 164.091008 99.761205 \r\nL 188.750475 106.636893 \r\nL 196.594755 129.325179 \r\nL 211.436539 125.725343 \r\nL 253.427221 165.600626 \r\nL 284.128039 188.852427 \r\nL 318.902041 226.335596 \r\n\" style=\"fill:none;stroke:#008000;stroke-linecap:square;stroke-width:1.5;\"/>\r\n   </g>\r\n   <g id=\"line2d_16\">\r\n    <path clip-path=\"url(#pf94502de84)\" d=\"M 53.493588 35.156912 \r\nL 73.386626 58.969883 \r\nL 101.440954 116.547749 \r\nL 139.594675 148.232835 \r\nL 168.830558 115.483647 \r\nL 188.278298 116.23003 \r\nL 211.948714 142.498419 \r\nL 238.43434 154.410584 \r\nL 265.109634 166.433471 \r\nL 292.48795 185.732741 \r\nL 323.503043 227.638119 \r\n\" style=\"fill:none;stroke:#ff0000;stroke-linecap:square;stroke-width:1.5;\"/>\r\n   </g>\r\n   <g id=\"patch_3\">\r\n    <path d=\"M 35.304688 239.758125 \r\nL 35.304688 22.318125 \r\n\" style=\"fill:none;stroke:#000000;stroke-linecap:square;stroke-linejoin:miter;stroke-width:0.8;\"/>\r\n   </g>\r\n   <g id=\"patch_4\">\r\n    <path d=\"M 370.104688 239.758125 \r\nL 370.104688 22.318125 \r\n\" style=\"fill:none;stroke:#000000;stroke-linecap:square;stroke-linejoin:miter;stroke-width:0.8;\"/>\r\n   </g>\r\n   <g id=\"patch_5\">\r\n    <path d=\"M 35.304688 239.758125 \r\nL 370.104688 239.758125 \r\n\" style=\"fill:none;stroke:#000000;stroke-linecap:square;stroke-linejoin:miter;stroke-width:0.8;\"/>\r\n   </g>\r\n   <g id=\"patch_6\">\r\n    <path d=\"M 35.304688 22.318125 \r\nL 370.104688 22.318125 \r\n\" style=\"fill:none;stroke:#000000;stroke-linecap:square;stroke-linejoin:miter;stroke-width:0.8;\"/>\r\n   </g>\r\n   <g id=\"text_15\">\r\n    <!-- trajectory x,z states -->\r\n    <defs>\r\n     <path d=\"M 18.3125 70.21875 \r\nL 18.3125 54.6875 \r\nL 36.8125 54.6875 \r\nL 36.8125 47.703125 \r\nL 18.3125 47.703125 \r\nL 18.3125 18.015625 \r\nQ 18.3125 11.328125 20.140625 9.421875 \r\nQ 21.96875 7.515625 27.59375 7.515625 \r\nL 36.8125 7.515625 \r\nL 36.8125 0 \r\nL 27.59375 0 \r\nQ 17.1875 0 13.234375 3.875 \r\nQ 9.28125 7.765625 9.28125 18.015625 \r\nL 9.28125 47.703125 \r\nL 2.6875 47.703125 \r\nL 2.6875 54.6875 \r\nL 9.28125 54.6875 \r\nL 9.28125 70.21875 \r\nz\r\n\" id=\"DejaVuSans-116\"/>\r\n     <path d=\"M 41.109375 46.296875 \r\nQ 39.59375 47.171875 37.8125 47.578125 \r\nQ 36.03125 48 33.890625 48 \r\nQ 26.265625 48 22.1875 43.046875 \r\nQ 18.109375 38.09375 18.109375 28.8125 \r\nL 18.109375 0 \r\nL 9.078125 0 \r\nL 9.078125 54.6875 \r\nL 18.109375 54.6875 \r\nL 18.109375 46.1875 \r\nQ 20.953125 51.171875 25.484375 53.578125 \r\nQ 30.03125 56 36.53125 56 \r\nQ 37.453125 56 38.578125 55.875 \r\nQ 39.703125 55.765625 41.0625 55.515625 \r\nz\r\n\" id=\"DejaVuSans-114\"/>\r\n     <path d=\"M 34.28125 27.484375 \r\nQ 23.390625 27.484375 19.1875 25 \r\nQ 14.984375 22.515625 14.984375 16.5 \r\nQ 14.984375 11.71875 18.140625 8.90625 \r\nQ 21.296875 6.109375 26.703125 6.109375 \r\nQ 34.1875 6.109375 38.703125 11.40625 \r\nQ 43.21875 16.703125 43.21875 25.484375 \r\nL 43.21875 27.484375 \r\nz\r\nM 52.203125 31.203125 \r\nL 52.203125 0 \r\nL 43.21875 0 \r\nL 43.21875 8.296875 \r\nQ 40.140625 3.328125 35.546875 0.953125 \r\nQ 30.953125 -1.421875 24.3125 -1.421875 \r\nQ 15.921875 -1.421875 10.953125 3.296875 \r\nQ 6 8.015625 6 15.921875 \r\nQ 6 25.140625 12.171875 29.828125 \r\nQ 18.359375 34.515625 30.609375 34.515625 \r\nL 43.21875 34.515625 \r\nL 43.21875 35.40625 \r\nQ 43.21875 41.609375 39.140625 45 \r\nQ 35.0625 48.390625 27.6875 48.390625 \r\nQ 23 48.390625 18.546875 47.265625 \r\nQ 14.109375 46.140625 10.015625 43.890625 \r\nL 10.015625 52.203125 \r\nQ 14.9375 54.109375 19.578125 55.046875 \r\nQ 24.21875 56 28.609375 56 \r\nQ 40.484375 56 46.34375 49.84375 \r\nQ 52.203125 43.703125 52.203125 31.203125 \r\nz\r\n\" id=\"DejaVuSans-97\"/>\r\n     <path d=\"M 9.421875 54.6875 \r\nL 18.40625 54.6875 \r\nL 18.40625 -0.984375 \r\nQ 18.40625 -11.421875 14.421875 -16.109375 \r\nQ 10.453125 -20.796875 1.609375 -20.796875 \r\nL -1.8125 -20.796875 \r\nL -1.8125 -13.1875 \r\nL 0.59375 -13.1875 \r\nQ 5.71875 -13.1875 7.5625 -10.8125 \r\nQ 9.421875 -8.453125 9.421875 -0.984375 \r\nz\r\nM 9.421875 75.984375 \r\nL 18.40625 75.984375 \r\nL 18.40625 64.59375 \r\nL 9.421875 64.59375 \r\nz\r\n\" id=\"DejaVuSans-106\"/>\r\n     <path d=\"M 56.203125 29.59375 \r\nL 56.203125 25.203125 \r\nL 14.890625 25.203125 \r\nQ 15.484375 15.921875 20.484375 11.0625 \r\nQ 25.484375 6.203125 34.421875 6.203125 \r\nQ 39.59375 6.203125 44.453125 7.46875 \r\nQ 49.3125 8.734375 54.109375 11.28125 \r\nL 54.109375 2.78125 \r\nQ 49.265625 0.734375 44.1875 -0.34375 \r\nQ 39.109375 -1.421875 33.890625 -1.421875 \r\nQ 20.796875 -1.421875 13.15625 6.1875 \r\nQ 5.515625 13.8125 5.515625 26.8125 \r\nQ 5.515625 40.234375 12.765625 48.109375 \r\nQ 20.015625 56 32.328125 56 \r\nQ 43.359375 56 49.78125 48.890625 \r\nQ 56.203125 41.796875 56.203125 29.59375 \r\nz\r\nM 47.21875 32.234375 \r\nQ 47.125 39.59375 43.09375 43.984375 \r\nQ 39.0625 48.390625 32.421875 48.390625 \r\nQ 24.90625 48.390625 20.390625 44.140625 \r\nQ 15.875 39.890625 15.1875 32.171875 \r\nz\r\n\" id=\"DejaVuSans-101\"/>\r\n     <path d=\"M 48.78125 52.59375 \r\nL 48.78125 44.1875 \r\nQ 44.96875 46.296875 41.140625 47.34375 \r\nQ 37.3125 48.390625 33.40625 48.390625 \r\nQ 24.65625 48.390625 19.8125 42.84375 \r\nQ 14.984375 37.3125 14.984375 27.296875 \r\nQ 14.984375 17.28125 19.8125 11.734375 \r\nQ 24.65625 6.203125 33.40625 6.203125 \r\nQ 37.3125 6.203125 41.140625 7.25 \r\nQ 44.96875 8.296875 48.78125 10.40625 \r\nL 48.78125 2.09375 \r\nQ 45.015625 0.34375 40.984375 -0.53125 \r\nQ 36.96875 -1.421875 32.421875 -1.421875 \r\nQ 20.0625 -1.421875 12.78125 6.34375 \r\nQ 5.515625 14.109375 5.515625 27.296875 \r\nQ 5.515625 40.671875 12.859375 48.328125 \r\nQ 20.21875 56 33.015625 56 \r\nQ 37.15625 56 41.109375 55.140625 \r\nQ 45.0625 54.296875 48.78125 52.59375 \r\nz\r\n\" id=\"DejaVuSans-99\"/>\r\n     <path d=\"M 30.609375 48.390625 \r\nQ 23.390625 48.390625 19.1875 42.75 \r\nQ 14.984375 37.109375 14.984375 27.296875 \r\nQ 14.984375 17.484375 19.15625 11.84375 \r\nQ 23.34375 6.203125 30.609375 6.203125 \r\nQ 37.796875 6.203125 41.984375 11.859375 \r\nQ 46.1875 17.53125 46.1875 27.296875 \r\nQ 46.1875 37.015625 41.984375 42.703125 \r\nQ 37.796875 48.390625 30.609375 48.390625 \r\nz\r\nM 30.609375 56 \r\nQ 42.328125 56 49.015625 48.375 \r\nQ 55.71875 40.765625 55.71875 27.296875 \r\nQ 55.71875 13.875 49.015625 6.21875 \r\nQ 42.328125 -1.421875 30.609375 -1.421875 \r\nQ 18.84375 -1.421875 12.171875 6.21875 \r\nQ 5.515625 13.875 5.515625 27.296875 \r\nQ 5.515625 40.765625 12.171875 48.375 \r\nQ 18.84375 56 30.609375 56 \r\nz\r\n\" id=\"DejaVuSans-111\"/>\r\n     <path d=\"M 32.171875 -5.078125 \r\nQ 28.375 -14.84375 24.75 -17.8125 \r\nQ 21.140625 -20.796875 15.09375 -20.796875 \r\nL 7.90625 -20.796875 \r\nL 7.90625 -13.28125 \r\nL 13.1875 -13.28125 \r\nQ 16.890625 -13.28125 18.9375 -11.515625 \r\nQ 21 -9.765625 23.484375 -3.21875 \r\nL 25.09375 0.875 \r\nL 2.984375 54.6875 \r\nL 12.5 54.6875 \r\nL 29.59375 11.921875 \r\nL 46.6875 54.6875 \r\nL 56.203125 54.6875 \r\nz\r\n\" id=\"DejaVuSans-121\"/>\r\n     <path id=\"DejaVuSans-32\"/>\r\n     <path d=\"M 54.890625 54.6875 \r\nL 35.109375 28.078125 \r\nL 55.90625 0 \r\nL 45.3125 0 \r\nL 29.390625 21.484375 \r\nL 13.484375 0 \r\nL 2.875 0 \r\nL 24.125 28.609375 \r\nL 4.6875 54.6875 \r\nL 15.28125 54.6875 \r\nL 29.78125 35.203125 \r\nL 44.28125 54.6875 \r\nz\r\n\" id=\"DejaVuSans-120\"/>\r\n     <path d=\"M 11.71875 12.40625 \r\nL 22.015625 12.40625 \r\nL 22.015625 4 \r\nL 14.015625 -11.625 \r\nL 7.71875 -11.625 \r\nL 11.71875 4 \r\nz\r\n\" id=\"DejaVuSans-44\"/>\r\n     <path d=\"M 5.515625 54.6875 \r\nL 48.1875 54.6875 \r\nL 48.1875 46.484375 \r\nL 14.40625 7.171875 \r\nL 48.1875 7.171875 \r\nL 48.1875 0 \r\nL 4.296875 0 \r\nL 4.296875 8.203125 \r\nL 38.09375 47.515625 \r\nL 5.515625 47.515625 \r\nz\r\n\" id=\"DejaVuSans-122\"/>\r\n     <path d=\"M 44.28125 53.078125 \r\nL 44.28125 44.578125 \r\nQ 40.484375 46.53125 36.375 47.5 \r\nQ 32.28125 48.484375 27.875 48.484375 \r\nQ 21.1875 48.484375 17.84375 46.4375 \r\nQ 14.5 44.390625 14.5 40.28125 \r\nQ 14.5 37.15625 16.890625 35.375 \r\nQ 19.28125 33.59375 26.515625 31.984375 \r\nL 29.59375 31.296875 \r\nQ 39.15625 29.25 43.1875 25.515625 \r\nQ 47.21875 21.78125 47.21875 15.09375 \r\nQ 47.21875 7.46875 41.1875 3.015625 \r\nQ 35.15625 -1.421875 24.609375 -1.421875 \r\nQ 20.21875 -1.421875 15.453125 -0.5625 \r\nQ 10.6875 0.296875 5.421875 2 \r\nL 5.421875 11.28125 \r\nQ 10.40625 8.6875 15.234375 7.390625 \r\nQ 20.0625 6.109375 24.8125 6.109375 \r\nQ 31.15625 6.109375 34.5625 8.28125 \r\nQ 37.984375 10.453125 37.984375 14.40625 \r\nQ 37.984375 18.0625 35.515625 20.015625 \r\nQ 33.0625 21.96875 24.703125 23.78125 \r\nL 21.578125 24.515625 \r\nQ 13.234375 26.265625 9.515625 29.90625 \r\nQ 5.8125 33.546875 5.8125 39.890625 \r\nQ 5.8125 47.609375 11.28125 51.796875 \r\nQ 16.75 56 26.8125 56 \r\nQ 31.78125 56 36.171875 55.265625 \r\nQ 40.578125 54.546875 44.28125 53.078125 \r\nz\r\n\" id=\"DejaVuSans-115\"/>\r\n    </defs>\r\n    <g transform=\"translate(142.764688 16.318125)scale(0.12 -0.12)\">\r\n     <use xlink:href=\"#DejaVuSans-116\"/>\r\n     <use x=\"39.208984\" xlink:href=\"#DejaVuSans-114\"/>\r\n     <use x=\"80.322266\" xlink:href=\"#DejaVuSans-97\"/>\r\n     <use x=\"141.601562\" xlink:href=\"#DejaVuSans-106\"/>\r\n     <use x=\"169.384766\" xlink:href=\"#DejaVuSans-101\"/>\r\n     <use x=\"230.908203\" xlink:href=\"#DejaVuSans-99\"/>\r\n     <use x=\"285.888672\" xlink:href=\"#DejaVuSans-116\"/>\r\n     <use x=\"325.097656\" xlink:href=\"#DejaVuSans-111\"/>\r\n     <use x=\"386.279297\" xlink:href=\"#DejaVuSans-114\"/>\r\n     <use x=\"427.392578\" xlink:href=\"#DejaVuSans-121\"/>\r\n     <use x=\"486.572266\" xlink:href=\"#DejaVuSans-32\"/>\r\n     <use x=\"518.359375\" xlink:href=\"#DejaVuSans-120\"/>\r\n     <use x=\"577.539062\" xlink:href=\"#DejaVuSans-44\"/>\r\n     <use x=\"609.326172\" xlink:href=\"#DejaVuSans-122\"/>\r\n     <use x=\"661.816406\" xlink:href=\"#DejaVuSans-32\"/>\r\n     <use x=\"693.603516\" xlink:href=\"#DejaVuSans-115\"/>\r\n     <use x=\"745.703125\" xlink:href=\"#DejaVuSans-116\"/>\r\n     <use x=\"784.912109\" xlink:href=\"#DejaVuSans-97\"/>\r\n     <use x=\"846.191406\" xlink:href=\"#DejaVuSans-116\"/>\r\n     <use x=\"885.400391\" xlink:href=\"#DejaVuSans-101\"/>\r\n     <use x=\"946.923828\" xlink:href=\"#DejaVuSans-115\"/>\r\n    </g>\r\n   </g>\r\n   <g id=\"legend_1\">\r\n    <g id=\"patch_7\">\r\n     <path d=\"M 255.626562 89.030625 \r\nL 363.104687 89.030625 \r\nQ 365.104687 89.030625 365.104687 87.030625 \r\nL 365.104687 29.318125 \r\nQ 365.104687 27.318125 363.104687 27.318125 \r\nL 255.626562 27.318125 \r\nQ 253.626562 27.318125 253.626562 29.318125 \r\nL 253.626562 87.030625 \r\nQ 253.626562 89.030625 255.626562 89.030625 \r\nz\r\n\" style=\"fill:#ffffff;opacity:0.8;stroke:#cccccc;stroke-linejoin:miter;\"/>\r\n    </g>\r\n    <g id=\"line2d_17\">\r\n     <path d=\"M 257.626562 35.416562 \r\nL 277.626562 35.416562 \r\n\" style=\"fill:none;stroke:#008000;stroke-linecap:square;stroke-width:1.5;\"/>\r\n    </g>\r\n    <g id=\"line2d_18\"/>\r\n    <g id=\"text_16\">\r\n     <!-- RNN prediction -->\r\n     <defs>\r\n      <path d=\"M 44.390625 34.1875 \r\nQ 47.5625 33.109375 50.5625 29.59375 \r\nQ 53.5625 26.078125 56.59375 19.921875 \r\nL 66.609375 0 \r\nL 56 0 \r\nL 46.6875 18.703125 \r\nQ 43.0625 26.03125 39.671875 28.421875 \r\nQ 36.28125 30.8125 30.421875 30.8125 \r\nL 19.671875 30.8125 \r\nL 19.671875 0 \r\nL 9.8125 0 \r\nL 9.8125 72.90625 \r\nL 32.078125 72.90625 \r\nQ 44.578125 72.90625 50.734375 67.671875 \r\nQ 56.890625 62.453125 56.890625 51.90625 \r\nQ 56.890625 45.015625 53.6875 40.46875 \r\nQ 50.484375 35.9375 44.390625 34.1875 \r\nz\r\nM 19.671875 64.796875 \r\nL 19.671875 38.921875 \r\nL 32.078125 38.921875 \r\nQ 39.203125 38.921875 42.84375 42.21875 \r\nQ 46.484375 45.515625 46.484375 51.90625 \r\nQ 46.484375 58.296875 42.84375 61.546875 \r\nQ 39.203125 64.796875 32.078125 64.796875 \r\nz\r\n\" id=\"DejaVuSans-82\"/>\r\n      <path d=\"M 9.8125 72.90625 \r\nL 23.09375 72.90625 \r\nL 55.421875 11.921875 \r\nL 55.421875 72.90625 \r\nL 64.984375 72.90625 \r\nL 64.984375 0 \r\nL 51.703125 0 \r\nL 19.390625 60.984375 \r\nL 19.390625 0 \r\nL 9.8125 0 \r\nz\r\n\" id=\"DejaVuSans-78\"/>\r\n      <path d=\"M 18.109375 8.203125 \r\nL 18.109375 -20.796875 \r\nL 9.078125 -20.796875 \r\nL 9.078125 54.6875 \r\nL 18.109375 54.6875 \r\nL 18.109375 46.390625 \r\nQ 20.953125 51.265625 25.265625 53.625 \r\nQ 29.59375 56 35.59375 56 \r\nQ 45.5625 56 51.78125 48.09375 \r\nQ 58.015625 40.1875 58.015625 27.296875 \r\nQ 58.015625 14.40625 51.78125 6.484375 \r\nQ 45.5625 -1.421875 35.59375 -1.421875 \r\nQ 29.59375 -1.421875 25.265625 0.953125 \r\nQ 20.953125 3.328125 18.109375 8.203125 \r\nz\r\nM 48.6875 27.296875 \r\nQ 48.6875 37.203125 44.609375 42.84375 \r\nQ 40.53125 48.484375 33.40625 48.484375 \r\nQ 26.265625 48.484375 22.1875 42.84375 \r\nQ 18.109375 37.203125 18.109375 27.296875 \r\nQ 18.109375 17.390625 22.1875 11.75 \r\nQ 26.265625 6.109375 33.40625 6.109375 \r\nQ 40.53125 6.109375 44.609375 11.75 \r\nQ 48.6875 17.390625 48.6875 27.296875 \r\nz\r\n\" id=\"DejaVuSans-112\"/>\r\n      <path d=\"M 45.40625 46.390625 \r\nL 45.40625 75.984375 \r\nL 54.390625 75.984375 \r\nL 54.390625 0 \r\nL 45.40625 0 \r\nL 45.40625 8.203125 \r\nQ 42.578125 3.328125 38.25 0.953125 \r\nQ 33.9375 -1.421875 27.875 -1.421875 \r\nQ 17.96875 -1.421875 11.734375 6.484375 \r\nQ 5.515625 14.40625 5.515625 27.296875 \r\nQ 5.515625 40.1875 11.734375 48.09375 \r\nQ 17.96875 56 27.875 56 \r\nQ 33.9375 56 38.25 53.625 \r\nQ 42.578125 51.265625 45.40625 46.390625 \r\nz\r\nM 14.796875 27.296875 \r\nQ 14.796875 17.390625 18.875 11.75 \r\nQ 22.953125 6.109375 30.078125 6.109375 \r\nQ 37.203125 6.109375 41.296875 11.75 \r\nQ 45.40625 17.390625 45.40625 27.296875 \r\nQ 45.40625 37.203125 41.296875 42.84375 \r\nQ 37.203125 48.484375 30.078125 48.484375 \r\nQ 22.953125 48.484375 18.875 42.84375 \r\nQ 14.796875 37.203125 14.796875 27.296875 \r\nz\r\n\" id=\"DejaVuSans-100\"/>\r\n      <path d=\"M 9.421875 54.6875 \r\nL 18.40625 54.6875 \r\nL 18.40625 0 \r\nL 9.421875 0 \r\nz\r\nM 9.421875 75.984375 \r\nL 18.40625 75.984375 \r\nL 18.40625 64.59375 \r\nL 9.421875 64.59375 \r\nz\r\n\" id=\"DejaVuSans-105\"/>\r\n      <path d=\"M 54.890625 33.015625 \r\nL 54.890625 0 \r\nL 45.90625 0 \r\nL 45.90625 32.71875 \r\nQ 45.90625 40.484375 42.875 44.328125 \r\nQ 39.84375 48.1875 33.796875 48.1875 \r\nQ 26.515625 48.1875 22.3125 43.546875 \r\nQ 18.109375 38.921875 18.109375 30.90625 \r\nL 18.109375 0 \r\nL 9.078125 0 \r\nL 9.078125 54.6875 \r\nL 18.109375 54.6875 \r\nL 18.109375 46.1875 \r\nQ 21.34375 51.125 25.703125 53.5625 \r\nQ 30.078125 56 35.796875 56 \r\nQ 45.21875 56 50.046875 50.171875 \r\nQ 54.890625 44.34375 54.890625 33.015625 \r\nz\r\n\" id=\"DejaVuSans-110\"/>\r\n     </defs>\r\n     <g transform=\"translate(285.626562 38.916562)scale(0.1 -0.1)\">\r\n      <use xlink:href=\"#DejaVuSans-82\"/>\r\n      <use x=\"69.482422\" xlink:href=\"#DejaVuSans-78\"/>\r\n      <use x=\"144.287109\" xlink:href=\"#DejaVuSans-78\"/>\r\n      <use x=\"219.091797\" xlink:href=\"#DejaVuSans-32\"/>\r\n      <use x=\"250.878906\" xlink:href=\"#DejaVuSans-112\"/>\r\n      <use x=\"314.355469\" xlink:href=\"#DejaVuSans-114\"/>\r\n      <use x=\"355.4375\" xlink:href=\"#DejaVuSans-101\"/>\r\n      <use x=\"416.960938\" xlink:href=\"#DejaVuSans-100\"/>\r\n      <use x=\"480.4375\" xlink:href=\"#DejaVuSans-105\"/>\r\n      <use x=\"508.220703\" xlink:href=\"#DejaVuSans-99\"/>\r\n      <use x=\"563.201172\" xlink:href=\"#DejaVuSans-116\"/>\r\n      <use x=\"602.410156\" xlink:href=\"#DejaVuSans-105\"/>\r\n      <use x=\"630.193359\" xlink:href=\"#DejaVuSans-111\"/>\r\n      <use x=\"691.375\" xlink:href=\"#DejaVuSans-110\"/>\r\n     </g>\r\n    </g>\r\n    <g id=\"line2d_19\">\r\n     <path d=\"M 257.626562 50.094687 \r\nL 277.626562 50.094687 \r\n\" style=\"fill:none;stroke:#ff0000;stroke-linecap:square;stroke-width:1.5;\"/>\r\n    </g>\r\n    <g id=\"line2d_20\"/>\r\n    <g id=\"text_17\">\r\n     <!-- OSPA -->\r\n     <defs>\r\n      <path d=\"M 39.40625 66.21875 \r\nQ 28.65625 66.21875 22.328125 58.203125 \r\nQ 16.015625 50.203125 16.015625 36.375 \r\nQ 16.015625 22.609375 22.328125 14.59375 \r\nQ 28.65625 6.59375 39.40625 6.59375 \r\nQ 50.140625 6.59375 56.421875 14.59375 \r\nQ 62.703125 22.609375 62.703125 36.375 \r\nQ 62.703125 50.203125 56.421875 58.203125 \r\nQ 50.140625 66.21875 39.40625 66.21875 \r\nz\r\nM 39.40625 74.21875 \r\nQ 54.734375 74.21875 63.90625 63.9375 \r\nQ 73.09375 53.65625 73.09375 36.375 \r\nQ 73.09375 19.140625 63.90625 8.859375 \r\nQ 54.734375 -1.421875 39.40625 -1.421875 \r\nQ 24.03125 -1.421875 14.8125 8.828125 \r\nQ 5.609375 19.09375 5.609375 36.375 \r\nQ 5.609375 53.65625 14.8125 63.9375 \r\nQ 24.03125 74.21875 39.40625 74.21875 \r\nz\r\n\" id=\"DejaVuSans-79\"/>\r\n      <path d=\"M 53.515625 70.515625 \r\nL 53.515625 60.890625 \r\nQ 47.90625 63.578125 42.921875 64.890625 \r\nQ 37.9375 66.21875 33.296875 66.21875 \r\nQ 25.25 66.21875 20.875 63.09375 \r\nQ 16.5 59.96875 16.5 54.203125 \r\nQ 16.5 49.359375 19.40625 46.890625 \r\nQ 22.3125 44.4375 30.421875 42.921875 \r\nL 36.375 41.703125 \r\nQ 47.40625 39.59375 52.65625 34.296875 \r\nQ 57.90625 29 57.90625 20.125 \r\nQ 57.90625 9.515625 50.796875 4.046875 \r\nQ 43.703125 -1.421875 29.984375 -1.421875 \r\nQ 24.8125 -1.421875 18.96875 -0.25 \r\nQ 13.140625 0.921875 6.890625 3.21875 \r\nL 6.890625 13.375 \r\nQ 12.890625 10.015625 18.65625 8.296875 \r\nQ 24.421875 6.59375 29.984375 6.59375 \r\nQ 38.421875 6.59375 43.015625 9.90625 \r\nQ 47.609375 13.234375 47.609375 19.390625 \r\nQ 47.609375 24.75 44.3125 27.78125 \r\nQ 41.015625 30.8125 33.5 32.328125 \r\nL 27.484375 33.5 \r\nQ 16.453125 35.6875 11.515625 40.375 \r\nQ 6.59375 45.0625 6.59375 53.421875 \r\nQ 6.59375 63.09375 13.40625 68.65625 \r\nQ 20.21875 74.21875 32.171875 74.21875 \r\nQ 37.3125 74.21875 42.625 73.28125 \r\nQ 47.953125 72.359375 53.515625 70.515625 \r\nz\r\n\" id=\"DejaVuSans-83\"/>\r\n      <path d=\"M 19.671875 64.796875 \r\nL 19.671875 37.40625 \r\nL 32.078125 37.40625 \r\nQ 38.96875 37.40625 42.71875 40.96875 \r\nQ 46.484375 44.53125 46.484375 51.125 \r\nQ 46.484375 57.671875 42.71875 61.234375 \r\nQ 38.96875 64.796875 32.078125 64.796875 \r\nz\r\nM 9.8125 72.90625 \r\nL 32.078125 72.90625 \r\nQ 44.34375 72.90625 50.609375 67.359375 \r\nQ 56.890625 61.8125 56.890625 51.125 \r\nQ 56.890625 40.328125 50.609375 34.8125 \r\nQ 44.34375 29.296875 32.078125 29.296875 \r\nL 19.671875 29.296875 \r\nL 19.671875 0 \r\nL 9.8125 0 \r\nz\r\n\" id=\"DejaVuSans-80\"/>\r\n      <path d=\"M 34.1875 63.1875 \r\nL 20.796875 26.90625 \r\nL 47.609375 26.90625 \r\nz\r\nM 28.609375 72.90625 \r\nL 39.796875 72.90625 \r\nL 67.578125 0 \r\nL 57.328125 0 \r\nL 50.6875 18.703125 \r\nL 17.828125 18.703125 \r\nL 11.1875 0 \r\nL 0.78125 0 \r\nz\r\n\" id=\"DejaVuSans-65\"/>\r\n     </defs>\r\n     <g transform=\"translate(285.626562 53.594687)scale(0.1 -0.1)\">\r\n      <use xlink:href=\"#DejaVuSans-79\"/>\r\n      <use x=\"78.710938\" xlink:href=\"#DejaVuSans-83\"/>\r\n      <use x=\"142.1875\" xlink:href=\"#DejaVuSans-80\"/>\r\n      <use x=\"202.396484\" xlink:href=\"#DejaVuSans-65\"/>\r\n     </g>\r\n    </g>\r\n    <g id=\"PathCollection_3\">\r\n     <g>\r\n      <use style=\"fill:#008000;stroke:#008000;\" x=\"267.626562\" xlink:href=\"#m189ea955dc\" y=\"65.647812\"/>\r\n     </g>\r\n    </g>\r\n    <g id=\"text_18\">\r\n     <!-- Goal state -->\r\n     <defs>\r\n      <path d=\"M 59.515625 10.40625 \r\nL 59.515625 29.984375 \r\nL 43.40625 29.984375 \r\nL 43.40625 38.09375 \r\nL 69.28125 38.09375 \r\nL 69.28125 6.78125 \r\nQ 63.578125 2.734375 56.6875 0.65625 \r\nQ 49.8125 -1.421875 42 -1.421875 \r\nQ 24.90625 -1.421875 15.25 8.5625 \r\nQ 5.609375 18.5625 5.609375 36.375 \r\nQ 5.609375 54.25 15.25 64.234375 \r\nQ 24.90625 74.21875 42 74.21875 \r\nQ 49.125 74.21875 55.546875 72.453125 \r\nQ 61.96875 70.703125 67.390625 67.28125 \r\nL 67.390625 56.78125 \r\nQ 61.921875 61.421875 55.765625 63.765625 \r\nQ 49.609375 66.109375 42.828125 66.109375 \r\nQ 29.4375 66.109375 22.71875 58.640625 \r\nQ 16.015625 51.171875 16.015625 36.375 \r\nQ 16.015625 21.625 22.71875 14.15625 \r\nQ 29.4375 6.6875 42.828125 6.6875 \r\nQ 48.046875 6.6875 52.140625 7.59375 \r\nQ 56.25 8.5 59.515625 10.40625 \r\nz\r\n\" id=\"DejaVuSans-71\"/>\r\n      <path d=\"M 9.421875 75.984375 \r\nL 18.40625 75.984375 \r\nL 18.40625 0 \r\nL 9.421875 0 \r\nz\r\n\" id=\"DejaVuSans-108\"/>\r\n     </defs>\r\n     <g transform=\"translate(285.626562 68.272812)scale(0.1 -0.1)\">\r\n      <use xlink:href=\"#DejaVuSans-71\"/>\r\n      <use x=\"77.490234\" xlink:href=\"#DejaVuSans-111\"/>\r\n      <use x=\"138.671875\" xlink:href=\"#DejaVuSans-97\"/>\r\n      <use x=\"199.951172\" xlink:href=\"#DejaVuSans-108\"/>\r\n      <use x=\"227.734375\" xlink:href=\"#DejaVuSans-32\"/>\r\n      <use x=\"259.521484\" xlink:href=\"#DejaVuSans-115\"/>\r\n      <use x=\"311.621094\" xlink:href=\"#DejaVuSans-116\"/>\r\n      <use x=\"350.830078\" xlink:href=\"#DejaVuSans-97\"/>\r\n      <use x=\"412.109375\" xlink:href=\"#DejaVuSans-116\"/>\r\n      <use x=\"451.318359\" xlink:href=\"#DejaVuSans-101\"/>\r\n     </g>\r\n    </g>\r\n    <g id=\"PathCollection_4\">\r\n     <g>\r\n      <use style=\"fill:#bfbf00;stroke:#bfbf00;\" x=\"267.626562\" xlink:href=\"#m740db2b3bb\" y=\"80.325938\"/>\r\n     </g>\r\n    </g>\r\n    <g id=\"text_19\">\r\n     <!-- Start state -->\r\n     <g transform=\"translate(285.626562 82.950938)scale(0.1 -0.1)\">\r\n      <use xlink:href=\"#DejaVuSans-83\"/>\r\n      <use x=\"63.476562\" xlink:href=\"#DejaVuSans-116\"/>\r\n      <use x=\"102.685547\" xlink:href=\"#DejaVuSans-97\"/>\r\n      <use x=\"163.964844\" xlink:href=\"#DejaVuSans-114\"/>\r\n      <use x=\"205.078125\" xlink:href=\"#DejaVuSans-116\"/>\r\n      <use x=\"244.287109\" xlink:href=\"#DejaVuSans-32\"/>\r\n      <use x=\"276.074219\" xlink:href=\"#DejaVuSans-115\"/>\r\n      <use x=\"328.173828\" xlink:href=\"#DejaVuSans-116\"/>\r\n      <use x=\"367.382812\" xlink:href=\"#DejaVuSans-97\"/>\r\n      <use x=\"428.662109\" xlink:href=\"#DejaVuSans-116\"/>\r\n      <use x=\"467.871094\" xlink:href=\"#DejaVuSans-101\"/>\r\n     </g>\r\n    </g>\r\n   </g>\r\n  </g>\r\n </g>\r\n <defs>\r\n  <clipPath id=\"pf94502de84\">\r\n   <rect height=\"217.44\" width=\"334.8\" x=\"35.304688\" y=\"22.318125\"/>\r\n  </clipPath>\r\n </defs>\r\n</svg>\r\n",
      "text/plain": [
       "<Figure size 432x288 with 1 Axes>"
      ]
     },
     "metadata": {
      "needs_background": "light"
     }
    },
    {
     "output_type": "display_data",
     "data": {
      "image/png": "[encoded data removed]",
      "image/svg+xml": "<?xml version=\"1.0\" encoding=\"utf-8\" standalone=\"no\"?>\r\n<!DOCTYPE svg PUBLIC \"-//W3C//DTD SVG 1.1//EN\"\r\n  \"http://www.w3.org/Graphics/SVG/1.1/DTD/svg11.dtd\">\r\n<!-- Created with matplotlib (https://matplotlib.org/) -->\r\n<svg height=\"277.318125pt\" version=\"1.1\" viewBox=\"0 0 386.845312 277.318125\" width=\"386.845312pt\" xmlns=\"http://www.w3.org/2000/svg\" xmlns:xlink=\"http://www.w3.org/1999/xlink\">\r\n <defs>\r\n  <style type=\"text/css\">\r\n*{stroke-linecap:butt;stroke-linejoin:round;}\r\n  </style>\r\n </defs>\r\n <g id=\"figure_1\">\r\n  <g id=\"patch_1\">\r\n   <path d=\"M 0 277.318125 \r\nL 386.845312 277.318125 \r\nL 386.845312 0 \r\nL 0 0 \r\nz\r\n\" style=\"fill:none;\"/>\r\n  </g>\r\n  <g id=\"axes_1\">\r\n   <g id=\"patch_2\">\r\n    <path d=\"M 44.845313 83.269565 \r\nL 379.645313 83.269565 \r\nL 379.645313 36 \r\nL 44.845313 36 \r\nz\r\n\" style=\"fill:#ffffff;\"/>\r\n   </g>\r\n   <g id=\"PathCollection_1\">\r\n    <defs>\r\n     <path d=\"M 0 3 \r\nC 0.795609 3 1.55874 2.683901 2.12132 2.12132 \r\nC 2.683901 1.55874 3 0.795609 3 0 \r\nC 3 -0.795609 2.683901 -1.55874 2.12132 -2.12132 \r\nC 1.55874 -2.683901 0.795609 -3 0 -3 \r\nC -0.795609 -3 -1.55874 -2.683901 -2.12132 -2.12132 \r\nC -2.683901 -1.55874 -3 -0.795609 -3 0 \r\nC -3 0.795609 -2.683901 1.55874 -2.12132 2.12132 \r\nC -1.55874 2.683901 -0.795609 3 0 3 \r\nz\r\n\" id=\"m88041d258e\" style=\"stroke:#008000;\"/>\r\n    </defs>\r\n    <g clip-path=\"url(#p386b6e817a)\">\r\n     <use style=\"fill:#008000;stroke:#008000;\" x=\"361.765747\" xlink:href=\"#m88041d258e\" y=\"79.543328\"/>\r\n    </g>\r\n   </g>\r\n   <g id=\"PathCollection_2\">\r\n    <defs>\r\n     <path d=\"M 0 3 \r\nC 0.795609 3 1.55874 2.683901 2.12132 2.12132 \r\nC 2.683901 1.55874 3 0.795609 3 0 \r\nC 3 -0.795609 2.683901 -1.55874 2.12132 -2.12132 \r\nC 1.55874 -2.683901 0.795609 -3 0 -3 \r\nC -0.795609 -3 -1.55874 -2.683901 -2.12132 -2.12132 \r\nC -2.683901 -1.55874 -3 -0.795609 -3 0 \r\nC -3 0.795609 -2.683901 1.55874 -2.12132 2.12132 \r\nC -1.55874 2.683901 -0.795609 3 0 3 \r\nz\r\n\" id=\"m1a694b04b3\" style=\"stroke:#bfbf00;\"/>\r\n    </defs>\r\n    <g clip-path=\"url(#p386b6e817a)\">\r\n     <use style=\"fill:#bfbf00;stroke:#bfbf00;\" x=\"63.034213\" xlink:href=\"#m1a694b04b3\" y=\"60.746629\"/>\r\n    </g>\r\n   </g>\r\n   <g id=\"matplotlib.axis_1\">\r\n    <g id=\"xtick_1\">\r\n     <g id=\"line2d_1\">\r\n      <defs>\r\n       <path d=\"M 0 0 \r\nL 0 3.5 \r\n\" id=\"mdd11487ab2\" style=\"stroke:#000000;stroke-width:0.8;\"/>\r\n      </defs>\r\n      <g>\r\n       <use style=\"stroke:#000000;stroke-width:0.8;\" x=\"63.034213\" xlink:href=\"#mdd11487ab2\" y=\"83.269565\"/>\r\n      </g>\r\n     </g>\r\n     <g id=\"text_1\">\r\n      <!-- 0 -->\r\n      <defs>\r\n       <path d=\"M 31.78125 66.40625 \r\nQ 24.171875 66.40625 20.328125 58.90625 \r\nQ 16.5 51.421875 16.5 36.375 \r\nQ 16.5 21.390625 20.328125 13.890625 \r\nQ 24.171875 6.390625 31.78125 6.390625 \r\nQ 39.453125 6.390625 43.28125 13.890625 \r\nQ 47.125 21.390625 47.125 36.375 \r\nQ 47.125 51.421875 43.28125 58.90625 \r\nQ 39.453125 66.40625 31.78125 66.40625 \r\nz\r\nM 31.78125 74.21875 \r\nQ 44.046875 74.21875 50.515625 64.515625 \r\nQ 56.984375 54.828125 56.984375 36.375 \r\nQ 56.984375 17.96875 50.515625 8.265625 \r\nQ 44.046875 -1.421875 31.78125 -1.421875 \r\nQ 19.53125 -1.421875 13.0625 8.265625 \r\nQ 6.59375 17.96875 6.59375 36.375 \r\nQ 6.59375 54.828125 13.0625 64.515625 \r\nQ 19.53125 74.21875 31.78125 74.21875 \r\nz\r\n\" id=\"DejaVuSans-48\"/>\r\n      </defs>\r\n      <g transform=\"translate(59.852963 97.868003)scale(0.1 -0.1)\">\r\n       <use xlink:href=\"#DejaVuSans-48\"/>\r\n      </g>\r\n     </g>\r\n    </g>\r\n    <g id=\"xtick_2\">\r\n     <g id=\"line2d_2\">\r\n      <g>\r\n       <use style=\"stroke:#000000;stroke-width:0.8;\" x=\"104.957817\" xlink:href=\"#mdd11487ab2\" y=\"83.269565\"/>\r\n      </g>\r\n     </g>\r\n     <g id=\"text_2\">\r\n      <!-- 10 -->\r\n      <defs>\r\n       <path d=\"M 12.40625 8.296875 \r\nL 28.515625 8.296875 \r\nL 28.515625 63.921875 \r\nL 10.984375 60.40625 \r\nL 10.984375 69.390625 \r\nL 28.421875 72.90625 \r\nL 38.28125 72.90625 \r\nL 38.28125 8.296875 \r\nL 54.390625 8.296875 \r\nL 54.390625 0 \r\nL 12.40625 0 \r\nz\r\n\" id=\"DejaVuSans-49\"/>\r\n      </defs>\r\n      <g transform=\"translate(98.595317 97.868003)scale(0.1 -0.1)\">\r\n       <use xlink:href=\"#DejaVuSans-49\"/>\r\n       <use x=\"63.623047\" xlink:href=\"#DejaVuSans-48\"/>\r\n      </g>\r\n     </g>\r\n    </g>\r\n    <g id=\"xtick_3\">\r\n     <g id=\"line2d_3\">\r\n      <g>\r\n       <use style=\"stroke:#000000;stroke-width:0.8;\" x=\"146.881421\" xlink:href=\"#mdd11487ab2\" y=\"83.269565\"/>\r\n      </g>\r\n     </g>\r\n     <g id=\"text_3\">\r\n      <!-- 20 -->\r\n      <defs>\r\n       <path d=\"M 19.1875 8.296875 \r\nL 53.609375 8.296875 \r\nL 53.609375 0 \r\nL 7.328125 0 \r\nL 7.328125 8.296875 \r\nQ 12.9375 14.109375 22.625 23.890625 \r\nQ 32.328125 33.6875 34.8125 36.53125 \r\nQ 39.546875 41.84375 41.421875 45.53125 \r\nQ 43.3125 49.21875 43.3125 52.78125 \r\nQ 43.3125 58.59375 39.234375 62.25 \r\nQ 35.15625 65.921875 28.609375 65.921875 \r\nQ 23.96875 65.921875 18.8125 64.3125 \r\nQ 13.671875 62.703125 7.8125 59.421875 \r\nL 7.8125 69.390625 \r\nQ 13.765625 71.78125 18.9375 73 \r\nQ 24.125 74.21875 28.421875 74.21875 \r\nQ 39.75 74.21875 46.484375 68.546875 \r\nQ 53.21875 62.890625 53.21875 53.421875 \r\nQ 53.21875 48.921875 51.53125 44.890625 \r\nQ 49.859375 40.875 45.40625 35.40625 \r\nQ 44.1875 33.984375 37.640625 27.21875 \r\nQ 31.109375 20.453125 19.1875 8.296875 \r\nz\r\n\" id=\"DejaVuSans-50\"/>\r\n      </defs>\r\n      <g transform=\"translate(140.518921 97.868003)scale(0.1 -0.1)\">\r\n       <use xlink:href=\"#DejaVuSans-50\"/>\r\n       <use x=\"63.623047\" xlink:href=\"#DejaVuSans-48\"/>\r\n      </g>\r\n     </g>\r\n    </g>\r\n    <g id=\"xtick_4\">\r\n     <g id=\"line2d_4\">\r\n      <g>\r\n       <use style=\"stroke:#000000;stroke-width:0.8;\" x=\"188.805025\" xlink:href=\"#mdd11487ab2\" y=\"83.269565\"/>\r\n      </g>\r\n     </g>\r\n     <g id=\"text_4\">\r\n      <!-- 30 -->\r\n      <defs>\r\n       <path d=\"M 40.578125 39.3125 \r\nQ 47.65625 37.796875 51.625 33 \r\nQ 55.609375 28.21875 55.609375 21.1875 \r\nQ 55.609375 10.40625 48.1875 4.484375 \r\nQ 40.765625 -1.421875 27.09375 -1.421875 \r\nQ 22.515625 -1.421875 17.65625 -0.515625 \r\nQ 12.796875 0.390625 7.625 2.203125 \r\nL 7.625 11.71875 \r\nQ 11.71875 9.328125 16.59375 8.109375 \r\nQ 21.484375 6.890625 26.8125 6.890625 \r\nQ 36.078125 6.890625 40.9375 10.546875 \r\nQ 45.796875 14.203125 45.796875 21.1875 \r\nQ 45.796875 27.640625 41.28125 31.265625 \r\nQ 36.765625 34.90625 28.71875 34.90625 \r\nL 20.21875 34.90625 \r\nL 20.21875 43.015625 \r\nL 29.109375 43.015625 \r\nQ 36.375 43.015625 40.234375 45.921875 \r\nQ 44.09375 48.828125 44.09375 54.296875 \r\nQ 44.09375 59.90625 40.109375 62.90625 \r\nQ 36.140625 65.921875 28.71875 65.921875 \r\nQ 24.65625 65.921875 20.015625 65.03125 \r\nQ 15.375 64.15625 9.8125 62.3125 \r\nL 9.8125 71.09375 \r\nQ 15.4375 72.65625 20.34375 73.4375 \r\nQ 25.25 74.21875 29.59375 74.21875 \r\nQ 40.828125 74.21875 47.359375 69.109375 \r\nQ 53.90625 64.015625 53.90625 55.328125 \r\nQ 53.90625 49.265625 50.4375 45.09375 \r\nQ 46.96875 40.921875 40.578125 39.3125 \r\nz\r\n\" id=\"DejaVuSans-51\"/>\r\n      </defs>\r\n      <g transform=\"translate(182.442525 97.868003)scale(0.1 -0.1)\">\r\n       <use xlink:href=\"#DejaVuSans-51\"/>\r\n       <use x=\"63.623047\" xlink:href=\"#DejaVuSans-48\"/>\r\n      </g>\r\n     </g>\r\n    </g>\r\n    <g id=\"xtick_5\">\r\n     <g id=\"line2d_5\">\r\n      <g>\r\n       <use style=\"stroke:#000000;stroke-width:0.8;\" x=\"230.728629\" xlink:href=\"#mdd11487ab2\" y=\"83.269565\"/>\r\n      </g>\r\n     </g>\r\n     <g id=\"text_5\">\r\n      <!-- 40 -->\r\n      <defs>\r\n       <path d=\"M 37.796875 64.3125 \r\nL 12.890625 25.390625 \r\nL 37.796875 25.390625 \r\nz\r\nM 35.203125 72.90625 \r\nL 47.609375 72.90625 \r\nL 47.609375 25.390625 \r\nL 58.015625 25.390625 \r\nL 58.015625 17.1875 \r\nL 47.609375 17.1875 \r\nL 47.609375 0 \r\nL 37.796875 0 \r\nL 37.796875 17.1875 \r\nL 4.890625 17.1875 \r\nL 4.890625 26.703125 \r\nz\r\n\" id=\"DejaVuSans-52\"/>\r\n      </defs>\r\n      <g transform=\"translate(224.366129 97.868003)scale(0.1 -0.1)\">\r\n       <use xlink:href=\"#DejaVuSans-52\"/>\r\n       <use x=\"63.623047\" xlink:href=\"#DejaVuSans-48\"/>\r\n      </g>\r\n     </g>\r\n    </g>\r\n    <g id=\"xtick_6\">\r\n     <g id=\"line2d_6\">\r\n      <g>\r\n       <use style=\"stroke:#000000;stroke-width:0.8;\" x=\"272.652233\" xlink:href=\"#mdd11487ab2\" y=\"83.269565\"/>\r\n      </g>\r\n     </g>\r\n     <g id=\"text_6\">\r\n      <!-- 50 -->\r\n      <defs>\r\n       <path d=\"M 10.796875 72.90625 \r\nL 49.515625 72.90625 \r\nL 49.515625 64.59375 \r\nL 19.828125 64.59375 \r\nL 19.828125 46.734375 \r\nQ 21.96875 47.46875 24.109375 47.828125 \r\nQ 26.265625 48.1875 28.421875 48.1875 \r\nQ 40.625 48.1875 47.75 41.5 \r\nQ 54.890625 34.8125 54.890625 23.390625 \r\nQ 54.890625 11.625 47.5625 5.09375 \r\nQ 40.234375 -1.421875 26.90625 -1.421875 \r\nQ 22.3125 -1.421875 17.546875 -0.640625 \r\nQ 12.796875 0.140625 7.71875 1.703125 \r\nL 7.71875 11.625 \r\nQ 12.109375 9.234375 16.796875 8.0625 \r\nQ 21.484375 6.890625 26.703125 6.890625 \r\nQ 35.15625 6.890625 40.078125 11.328125 \r\nQ 45.015625 15.765625 45.015625 23.390625 \r\nQ 45.015625 31 40.078125 35.4375 \r\nQ 35.15625 39.890625 26.703125 39.890625 \r\nQ 22.75 39.890625 18.8125 39.015625 \r\nQ 14.890625 38.140625 10.796875 36.28125 \r\nz\r\n\" id=\"DejaVuSans-53\"/>\r\n      </defs>\r\n      <g transform=\"translate(266.289733 97.868003)scale(0.1 -0.1)\">\r\n       <use xlink:href=\"#DejaVuSans-53\"/>\r\n       <use x=\"63.623047\" xlink:href=\"#DejaVuSans-48\"/>\r\n      </g>\r\n     </g>\r\n    </g>\r\n    <g id=\"xtick_7\">\r\n     <g id=\"line2d_7\">\r\n      <g>\r\n       <use style=\"stroke:#000000;stroke-width:0.8;\" x=\"314.575837\" xlink:href=\"#mdd11487ab2\" y=\"83.269565\"/>\r\n      </g>\r\n     </g>\r\n     <g id=\"text_7\">\r\n      <!-- 60 -->\r\n      <defs>\r\n       <path d=\"M 33.015625 40.375 \r\nQ 26.375 40.375 22.484375 35.828125 \r\nQ 18.609375 31.296875 18.609375 23.390625 \r\nQ 18.609375 15.53125 22.484375 10.953125 \r\nQ 26.375 6.390625 33.015625 6.390625 \r\nQ 39.65625 6.390625 43.53125 10.953125 \r\nQ 47.40625 15.53125 47.40625 23.390625 \r\nQ 47.40625 31.296875 43.53125 35.828125 \r\nQ 39.65625 40.375 33.015625 40.375 \r\nz\r\nM 52.59375 71.296875 \r\nL 52.59375 62.3125 \r\nQ 48.875 64.0625 45.09375 64.984375 \r\nQ 41.3125 65.921875 37.59375 65.921875 \r\nQ 27.828125 65.921875 22.671875 59.328125 \r\nQ 17.53125 52.734375 16.796875 39.40625 \r\nQ 19.671875 43.65625 24.015625 45.921875 \r\nQ 28.375 48.1875 33.59375 48.1875 \r\nQ 44.578125 48.1875 50.953125 41.515625 \r\nQ 57.328125 34.859375 57.328125 23.390625 \r\nQ 57.328125 12.15625 50.6875 5.359375 \r\nQ 44.046875 -1.421875 33.015625 -1.421875 \r\nQ 20.359375 -1.421875 13.671875 8.265625 \r\nQ 6.984375 17.96875 6.984375 36.375 \r\nQ 6.984375 53.65625 15.1875 63.9375 \r\nQ 23.390625 74.21875 37.203125 74.21875 \r\nQ 40.921875 74.21875 44.703125 73.484375 \r\nQ 48.484375 72.75 52.59375 71.296875 \r\nz\r\n\" id=\"DejaVuSans-54\"/>\r\n      </defs>\r\n      <g transform=\"translate(308.213337 97.868003)scale(0.1 -0.1)\">\r\n       <use xlink:href=\"#DejaVuSans-54\"/>\r\n       <use x=\"63.623047\" xlink:href=\"#DejaVuSans-48\"/>\r\n      </g>\r\n     </g>\r\n    </g>\r\n    <g id=\"xtick_8\">\r\n     <g id=\"line2d_8\">\r\n      <g>\r\n       <use style=\"stroke:#000000;stroke-width:0.8;\" x=\"356.499441\" xlink:href=\"#mdd11487ab2\" y=\"83.269565\"/>\r\n      </g>\r\n     </g>\r\n     <g id=\"text_8\">\r\n      <!-- 70 -->\r\n      <defs>\r\n       <path d=\"M 8.203125 72.90625 \r\nL 55.078125 72.90625 \r\nL 55.078125 68.703125 \r\nL 28.609375 0 \r\nL 18.3125 0 \r\nL 43.21875 64.59375 \r\nL 8.203125 64.59375 \r\nz\r\n\" id=\"DejaVuSans-55\"/>\r\n      </defs>\r\n      <g transform=\"translate(350.136941 97.868003)scale(0.1 -0.1)\">\r\n       <use xlink:href=\"#DejaVuSans-55\"/>\r\n       <use x=\"63.623047\" xlink:href=\"#DejaVuSans-48\"/>\r\n      </g>\r\n     </g>\r\n    </g>\r\n   </g>\r\n   <g id=\"matplotlib.axis_2\">\r\n    <g id=\"ytick_1\">\r\n     <g id=\"line2d_9\">\r\n      <defs>\r\n       <path d=\"M 0 0 \r\nL -3.5 0 \r\n\" id=\"ma4c4dc1f81\" style=\"stroke:#000000;stroke-width:0.8;\"/>\r\n      </defs>\r\n      <g>\r\n       <use style=\"stroke:#000000;stroke-width:0.8;\" x=\"44.845313\" xlink:href=\"#ma4c4dc1f81\" y=\"79.543328\"/>\r\n      </g>\r\n     </g>\r\n     <g id=\"text_9\">\r\n      <!-- 0 -->\r\n      <g transform=\"translate(31.482813 83.342547)scale(0.1 -0.1)\">\r\n       <use xlink:href=\"#DejaVuSans-48\"/>\r\n      </g>\r\n     </g>\r\n    </g>\r\n    <g id=\"ytick_2\">\r\n     <g id=\"line2d_10\">\r\n      <g>\r\n       <use style=\"stroke:#000000;stroke-width:0.8;\" x=\"44.845313\" xlink:href=\"#ma4c4dc1f81\" y=\"57.466784\"/>\r\n      </g>\r\n     </g>\r\n     <g id=\"text_10\">\r\n      <!-- 5 -->\r\n      <g transform=\"translate(31.482813 61.266003)scale(0.1 -0.1)\">\r\n       <use xlink:href=\"#DejaVuSans-53\"/>\r\n      </g>\r\n     </g>\r\n    </g>\r\n   </g>\r\n   <g id=\"line2d_11\">\r\n    <path clip-path=\"url(#p386b6e817a)\" d=\"M 63.034213 60.746629 \r\nL 86.324421 53.522375 \r\nL 102.102943 46.360037 \r\nL 151.176038 38.148617 \r\nL 173.631633 51.564641 \r\nL 198.2911 60.559784 \r\nL 206.13538 50.782124 \r\nL 220.977164 50.871179 \r\nL 262.967846 49.861547 \r\nL 293.668664 48.204473 \r\nL 328.442666 45.03315 \r\n\" style=\"fill:none;stroke:#0000ff;stroke-linecap:square;stroke-width:1.5;\"/>\r\n   </g>\r\n   <g id=\"line2d_12\">\r\n    <path clip-path=\"url(#p386b6e817a)\" d=\"M 63.034213 60.746629 \r\nL 82.927251 53.426129 \r\nL 110.981579 40.279219 \r\nL 149.1353 40.372598 \r\nL 178.371183 55.662738 \r\nL 197.818923 57.941367 \r\nL 221.489339 51.747763 \r\nL 247.974965 51.514419 \r\nL 274.650259 51.3351 \r\nL 302.028575 48.755577 \r\nL 333.043668 41.34648 \r\n\" style=\"fill:none;stroke:#ff0000;stroke-linecap:square;stroke-width:1.5;\"/>\r\n   </g>\r\n   <g id=\"patch_3\">\r\n    <path d=\"M 44.845313 83.269565 \r\nL 44.845313 36 \r\n\" style=\"fill:none;stroke:#000000;stroke-linecap:square;stroke-linejoin:miter;stroke-width:0.8;\"/>\r\n   </g>\r\n   <g id=\"patch_4\">\r\n    <path d=\"M 379.645313 83.269565 \r\nL 379.645313 36 \r\n\" style=\"fill:none;stroke:#000000;stroke-linecap:square;stroke-linejoin:miter;stroke-width:0.8;\"/>\r\n   </g>\r\n   <g id=\"patch_5\">\r\n    <path d=\"M 44.845313 83.269565 \r\nL 379.645313 83.269565 \r\n\" style=\"fill:none;stroke:#000000;stroke-linecap:square;stroke-linejoin:miter;stroke-width:0.8;\"/>\r\n   </g>\r\n   <g id=\"patch_6\">\r\n    <path d=\"M 44.845313 36 \r\nL 379.645313 36 \r\n\" style=\"fill:none;stroke:#000000;stroke-linecap:square;stroke-linejoin:miter;stroke-width:0.8;\"/>\r\n   </g>\r\n  </g>\r\n  <g id=\"axes_2\">\r\n   <g id=\"patch_7\">\r\n    <path d=\"M 44.845313 139.993043 \r\nL 379.645313 139.993043 \r\nL 379.645313 92.723478 \r\nL 44.845313 92.723478 \r\nz\r\n\" style=\"fill:#ffffff;\"/>\r\n   </g>\r\n   <g id=\"PathCollection_3\">\r\n    <g clip-path=\"url(#pd72a7a3844)\">\r\n     <use style=\"fill:#008000;stroke:#008000;\" x=\"361.765747\" xlink:href=\"#m88041d258e\" y=\"134.858032\"/>\r\n    </g>\r\n   </g>\r\n   <g id=\"PathCollection_4\">\r\n    <g clip-path=\"url(#pd72a7a3844)\">\r\n     <use style=\"fill:#bfbf00;stroke:#bfbf00;\" x=\"63.034213\" xlink:href=\"#m1a694b04b3\" y=\"134.858032\"/>\r\n    </g>\r\n   </g>\r\n   <g id=\"matplotlib.axis_3\">\r\n    <g id=\"xtick_9\">\r\n     <g id=\"line2d_13\">\r\n      <g>\r\n       <use style=\"stroke:#000000;stroke-width:0.8;\" x=\"63.034213\" xlink:href=\"#mdd11487ab2\" y=\"139.993043\"/>\r\n      </g>\r\n     </g>\r\n     <g id=\"text_11\">\r\n      <!-- 0 -->\r\n      <g transform=\"translate(59.852963 154.591481)scale(0.1 -0.1)\">\r\n       <use xlink:href=\"#DejaVuSans-48\"/>\r\n      </g>\r\n     </g>\r\n    </g>\r\n    <g id=\"xtick_10\">\r\n     <g id=\"line2d_14\">\r\n      <g>\r\n       <use style=\"stroke:#000000;stroke-width:0.8;\" x=\"104.957817\" xlink:href=\"#mdd11487ab2\" y=\"139.993043\"/>\r\n      </g>\r\n     </g>\r\n     <g id=\"text_12\">\r\n      <!-- 10 -->\r\n      <g transform=\"translate(98.595317 154.591481)scale(0.1 -0.1)\">\r\n       <use xlink:href=\"#DejaVuSans-49\"/>\r\n       <use x=\"63.623047\" xlink:href=\"#DejaVuSans-48\"/>\r\n      </g>\r\n     </g>\r\n    </g>\r\n    <g id=\"xtick_11\">\r\n     <g id=\"line2d_15\">\r\n      <g>\r\n       <use style=\"stroke:#000000;stroke-width:0.8;\" x=\"146.881421\" xlink:href=\"#mdd11487ab2\" y=\"139.993043\"/>\r\n      </g>\r\n     </g>\r\n     <g id=\"text_13\">\r\n      <!-- 20 -->\r\n      <g transform=\"translate(140.518921 154.591481)scale(0.1 -0.1)\">\r\n       <use xlink:href=\"#DejaVuSans-50\"/>\r\n       <use x=\"63.623047\" xlink:href=\"#DejaVuSans-48\"/>\r\n      </g>\r\n     </g>\r\n    </g>\r\n    <g id=\"xtick_12\">\r\n     <g id=\"line2d_16\">\r\n      <g>\r\n       <use style=\"stroke:#000000;stroke-width:0.8;\" x=\"188.805025\" xlink:href=\"#mdd11487ab2\" y=\"139.993043\"/>\r\n      </g>\r\n     </g>\r\n     <g id=\"text_14\">\r\n      <!-- 30 -->\r\n      <g transform=\"translate(182.442525 154.591481)scale(0.1 -0.1)\">\r\n       <use xlink:href=\"#DejaVuSans-51\"/>\r\n       <use x=\"63.623047\" xlink:href=\"#DejaVuSans-48\"/>\r\n      </g>\r\n     </g>\r\n    </g>\r\n    <g id=\"xtick_13\">\r\n     <g id=\"line2d_17\">\r\n      <g>\r\n       <use style=\"stroke:#000000;stroke-width:0.8;\" x=\"230.728629\" xlink:href=\"#mdd11487ab2\" y=\"139.993043\"/>\r\n      </g>\r\n     </g>\r\n     <g id=\"text_15\">\r\n      <!-- 40 -->\r\n      <g transform=\"translate(224.366129 154.591481)scale(0.1 -0.1)\">\r\n       <use xlink:href=\"#DejaVuSans-52\"/>\r\n       <use x=\"63.623047\" xlink:href=\"#DejaVuSans-48\"/>\r\n      </g>\r\n     </g>\r\n    </g>\r\n    <g id=\"xtick_14\">\r\n     <g id=\"line2d_18\">\r\n      <g>\r\n       <use style=\"stroke:#000000;stroke-width:0.8;\" x=\"272.652233\" xlink:href=\"#mdd11487ab2\" y=\"139.993043\"/>\r\n      </g>\r\n     </g>\r\n     <g id=\"text_16\">\r\n      <!-- 50 -->\r\n      <g transform=\"translate(266.289733 154.591481)scale(0.1 -0.1)\">\r\n       <use xlink:href=\"#DejaVuSans-53\"/>\r\n       <use x=\"63.623047\" xlink:href=\"#DejaVuSans-48\"/>\r\n      </g>\r\n     </g>\r\n    </g>\r\n    <g id=\"xtick_15\">\r\n     <g id=\"line2d_19\">\r\n      <g>\r\n       <use style=\"stroke:#000000;stroke-width:0.8;\" x=\"314.575837\" xlink:href=\"#mdd11487ab2\" y=\"139.993043\"/>\r\n      </g>\r\n     </g>\r\n     <g id=\"text_17\">\r\n      <!-- 60 -->\r\n      <g transform=\"translate(308.213337 154.591481)scale(0.1 -0.1)\">\r\n       <use xlink:href=\"#DejaVuSans-54\"/>\r\n       <use x=\"63.623047\" xlink:href=\"#DejaVuSans-48\"/>\r\n      </g>\r\n     </g>\r\n    </g>\r\n    <g id=\"xtick_16\">\r\n     <g id=\"line2d_20\">\r\n      <g>\r\n       <use style=\"stroke:#000000;stroke-width:0.8;\" x=\"356.499441\" xlink:href=\"#mdd11487ab2\" y=\"139.993043\"/>\r\n      </g>\r\n     </g>\r\n     <g id=\"text_18\">\r\n      <!-- 70 -->\r\n      <g transform=\"translate(350.136941 154.591481)scale(0.1 -0.1)\">\r\n       <use xlink:href=\"#DejaVuSans-55\"/>\r\n       <use x=\"63.623047\" xlink:href=\"#DejaVuSans-48\"/>\r\n      </g>\r\n     </g>\r\n    </g>\r\n   </g>\r\n   <g id=\"matplotlib.axis_4\">\r\n    <g id=\"ytick_3\">\r\n     <g id=\"line2d_21\">\r\n      <g>\r\n       <use style=\"stroke:#000000;stroke-width:0.8;\" x=\"44.845313\" xlink:href=\"#ma4c4dc1f81\" y=\"134.858032\"/>\r\n      </g>\r\n     </g>\r\n     <g id=\"text_19\">\r\n      <!-- 0.0 -->\r\n      <defs>\r\n       <path d=\"M 10.6875 12.40625 \r\nL 21 12.40625 \r\nL 21 0 \r\nL 10.6875 0 \r\nz\r\n\" id=\"DejaVuSans-46\"/>\r\n      </defs>\r\n      <g transform=\"translate(21.942188 138.657251)scale(0.1 -0.1)\">\r\n       <use xlink:href=\"#DejaVuSans-48\"/>\r\n       <use x=\"63.623047\" xlink:href=\"#DejaVuSans-46\"/>\r\n       <use x=\"95.410156\" xlink:href=\"#DejaVuSans-48\"/>\r\n      </g>\r\n     </g>\r\n    </g>\r\n    <g id=\"ytick_4\">\r\n     <g id=\"line2d_22\">\r\n      <g>\r\n       <use style=\"stroke:#000000;stroke-width:0.8;\" x=\"44.845313\" xlink:href=\"#ma4c4dc1f81\" y=\"109.743797\"/>\r\n      </g>\r\n     </g>\r\n     <g id=\"text_20\">\r\n      <!-- 0.5 -->\r\n      <g transform=\"translate(21.942188 113.543015)scale(0.1 -0.1)\">\r\n       <use xlink:href=\"#DejaVuSans-48\"/>\r\n       <use x=\"63.623047\" xlink:href=\"#DejaVuSans-46\"/>\r\n       <use x=\"95.410156\" xlink:href=\"#DejaVuSans-53\"/>\r\n      </g>\r\n     </g>\r\n    </g>\r\n   </g>\r\n   <g id=\"line2d_23\">\r\n    <path clip-path=\"url(#pd72a7a3844)\" d=\"M 63.034213 134.858032 \r\nL 86.324421 106.010937 \r\nL 102.102943 105.510744 \r\nL 151.176038 106.289924 \r\nL 173.631633 103.804288 \r\nL 198.2911 94.872095 \r\nL 206.13538 100.841438 \r\nL 220.977164 101.779703 \r\nL 262.967846 103.386906 \r\nL 293.668664 104.593494 \r\nL 328.442666 105.432141 \r\n\" style=\"fill:none;stroke:#0000ff;stroke-linecap:square;stroke-width:1.5;\"/>\r\n   </g>\r\n   <g id=\"line2d_24\">\r\n    <path clip-path=\"url(#pd72a7a3844)\" d=\"M 63.034213 134.858032 \r\nL 82.927251 103.814329 \r\nL 110.981579 116.27178 \r\nL 149.1353 100.820119 \r\nL 178.371183 103.883056 \r\nL 197.818923 105.844489 \r\nL 221.489339 97.308291 \r\nL 247.974965 104.018885 \r\nL 274.650259 104.075122 \r\nL 302.028575 108.566493 \r\nL 333.043668 115.3573 \r\n\" style=\"fill:none;stroke:#ff0000;stroke-linecap:square;stroke-width:1.5;\"/>\r\n   </g>\r\n   <g id=\"patch_8\">\r\n    <path d=\"M 44.845313 139.993043 \r\nL 44.845313 92.723478 \r\n\" style=\"fill:none;stroke:#000000;stroke-linecap:square;stroke-linejoin:miter;stroke-width:0.8;\"/>\r\n   </g>\r\n   <g id=\"patch_9\">\r\n    <path d=\"M 379.645313 139.993043 \r\nL 379.645313 92.723478 \r\n\" style=\"fill:none;stroke:#000000;stroke-linecap:square;stroke-linejoin:miter;stroke-width:0.8;\"/>\r\n   </g>\r\n   <g id=\"patch_10\">\r\n    <path d=\"M 44.845313 139.993043 \r\nL 379.645313 139.993043 \r\n\" style=\"fill:none;stroke:#000000;stroke-linecap:square;stroke-linejoin:miter;stroke-width:0.8;\"/>\r\n   </g>\r\n   <g id=\"patch_11\">\r\n    <path d=\"M 44.845313 92.723478 \r\nL 379.645313 92.723478 \r\n\" style=\"fill:none;stroke:#000000;stroke-linecap:square;stroke-linejoin:miter;stroke-width:0.8;\"/>\r\n   </g>\r\n  </g>\r\n  <g id=\"axes_3\">\r\n   <g id=\"patch_12\">\r\n    <path d=\"M 44.845313 196.716522 \r\nL 379.645313 196.716522 \r\nL 379.645313 149.446957 \r\nL 44.845313 149.446957 \r\nz\r\n\" style=\"fill:#ffffff;\"/>\r\n   </g>\r\n   <g id=\"PathCollection_5\">\r\n    <g clip-path=\"url(#p6c5ca4a85d)\">\r\n     <use style=\"fill:#008000;stroke:#008000;\" x=\"361.765747\" xlink:href=\"#m88041d258e\" y=\"171.204217\"/>\r\n    </g>\r\n   </g>\r\n   <g id=\"PathCollection_6\">\r\n    <g clip-path=\"url(#p6c5ca4a85d)\">\r\n     <use style=\"fill:#bfbf00;stroke:#bfbf00;\" x=\"63.034213\" xlink:href=\"#m1a694b04b3\" y=\"171.204217\"/>\r\n    </g>\r\n   </g>\r\n   <g id=\"matplotlib.axis_5\">\r\n    <g id=\"xtick_17\">\r\n     <g id=\"line2d_25\">\r\n      <g>\r\n       <use style=\"stroke:#000000;stroke-width:0.8;\" x=\"63.034213\" xlink:href=\"#mdd11487ab2\" y=\"196.716522\"/>\r\n      </g>\r\n     </g>\r\n     <g id=\"text_21\">\r\n      <!-- 0 -->\r\n      <g transform=\"translate(59.852963 211.314959)scale(0.1 -0.1)\">\r\n       <use xlink:href=\"#DejaVuSans-48\"/>\r\n      </g>\r\n     </g>\r\n    </g>\r\n    <g id=\"xtick_18\">\r\n     <g id=\"line2d_26\">\r\n      <g>\r\n       <use style=\"stroke:#000000;stroke-width:0.8;\" x=\"104.957817\" xlink:href=\"#mdd11487ab2\" y=\"196.716522\"/>\r\n      </g>\r\n     </g>\r\n     <g id=\"text_22\">\r\n      <!-- 10 -->\r\n      <g transform=\"translate(98.595317 211.314959)scale(0.1 -0.1)\">\r\n       <use xlink:href=\"#DejaVuSans-49\"/>\r\n       <use x=\"63.623047\" xlink:href=\"#DejaVuSans-48\"/>\r\n      </g>\r\n     </g>\r\n    </g>\r\n    <g id=\"xtick_19\">\r\n     <g id=\"line2d_27\">\r\n      <g>\r\n       <use style=\"stroke:#000000;stroke-width:0.8;\" x=\"146.881421\" xlink:href=\"#mdd11487ab2\" y=\"196.716522\"/>\r\n      </g>\r\n     </g>\r\n     <g id=\"text_23\">\r\n      <!-- 20 -->\r\n      <g transform=\"translate(140.518921 211.314959)scale(0.1 -0.1)\">\r\n       <use xlink:href=\"#DejaVuSans-50\"/>\r\n       <use x=\"63.623047\" xlink:href=\"#DejaVuSans-48\"/>\r\n      </g>\r\n     </g>\r\n    </g>\r\n    <g id=\"xtick_20\">\r\n     <g id=\"line2d_28\">\r\n      <g>\r\n       <use style=\"stroke:#000000;stroke-width:0.8;\" x=\"188.805025\" xlink:href=\"#mdd11487ab2\" y=\"196.716522\"/>\r\n      </g>\r\n     </g>\r\n     <g id=\"text_24\">\r\n      <!-- 30 -->\r\n      <g transform=\"translate(182.442525 211.314959)scale(0.1 -0.1)\">\r\n       <use xlink:href=\"#DejaVuSans-51\"/>\r\n       <use x=\"63.623047\" xlink:href=\"#DejaVuSans-48\"/>\r\n      </g>\r\n     </g>\r\n    </g>\r\n    <g id=\"xtick_21\">\r\n     <g id=\"line2d_29\">\r\n      <g>\r\n       <use style=\"stroke:#000000;stroke-width:0.8;\" x=\"230.728629\" xlink:href=\"#mdd11487ab2\" y=\"196.716522\"/>\r\n      </g>\r\n     </g>\r\n     <g id=\"text_25\">\r\n      <!-- 40 -->\r\n      <g transform=\"translate(224.366129 211.314959)scale(0.1 -0.1)\">\r\n       <use xlink:href=\"#DejaVuSans-52\"/>\r\n       <use x=\"63.623047\" xlink:href=\"#DejaVuSans-48\"/>\r\n      </g>\r\n     </g>\r\n    </g>\r\n    <g id=\"xtick_22\">\r\n     <g id=\"line2d_30\">\r\n      <g>\r\n       <use style=\"stroke:#000000;stroke-width:0.8;\" x=\"272.652233\" xlink:href=\"#mdd11487ab2\" y=\"196.716522\"/>\r\n      </g>\r\n     </g>\r\n     <g id=\"text_26\">\r\n      <!-- 50 -->\r\n      <g transform=\"translate(266.289733 211.314959)scale(0.1 -0.1)\">\r\n       <use xlink:href=\"#DejaVuSans-53\"/>\r\n       <use x=\"63.623047\" xlink:href=\"#DejaVuSans-48\"/>\r\n      </g>\r\n     </g>\r\n    </g>\r\n    <g id=\"xtick_23\">\r\n     <g id=\"line2d_31\">\r\n      <g>\r\n       <use style=\"stroke:#000000;stroke-width:0.8;\" x=\"314.575837\" xlink:href=\"#mdd11487ab2\" y=\"196.716522\"/>\r\n      </g>\r\n     </g>\r\n     <g id=\"text_27\">\r\n      <!-- 60 -->\r\n      <g transform=\"translate(308.213337 211.314959)scale(0.1 -0.1)\">\r\n       <use xlink:href=\"#DejaVuSans-54\"/>\r\n       <use x=\"63.623047\" xlink:href=\"#DejaVuSans-48\"/>\r\n      </g>\r\n     </g>\r\n    </g>\r\n    <g id=\"xtick_24\">\r\n     <g id=\"line2d_32\">\r\n      <g>\r\n       <use style=\"stroke:#000000;stroke-width:0.8;\" x=\"356.499441\" xlink:href=\"#mdd11487ab2\" y=\"196.716522\"/>\r\n      </g>\r\n     </g>\r\n     <g id=\"text_28\">\r\n      <!-- 70 -->\r\n      <g transform=\"translate(350.136941 211.314959)scale(0.1 -0.1)\">\r\n       <use xlink:href=\"#DejaVuSans-55\"/>\r\n       <use x=\"63.623047\" xlink:href=\"#DejaVuSans-48\"/>\r\n      </g>\r\n     </g>\r\n    </g>\r\n   </g>\r\n   <g id=\"matplotlib.axis_6\">\r\n    <g id=\"ytick_5\">\r\n     <g id=\"line2d_33\">\r\n      <g>\r\n       <use style=\"stroke:#000000;stroke-width:0.8;\" x=\"44.845313\" xlink:href=\"#ma4c4dc1f81\" y=\"184.625125\"/>\r\n      </g>\r\n     </g>\r\n     <g id=\"text_29\">\r\n      <!-- −0.25 -->\r\n      <defs>\r\n       <path d=\"M 10.59375 35.5 \r\nL 73.1875 35.5 \r\nL 73.1875 27.203125 \r\nL 10.59375 27.203125 \r\nz\r\n\" id=\"DejaVuSans-8722\"/>\r\n      </defs>\r\n      <g transform=\"translate(7.2 188.424343)scale(0.1 -0.1)\">\r\n       <use xlink:href=\"#DejaVuSans-8722\"/>\r\n       <use x=\"83.789062\" xlink:href=\"#DejaVuSans-48\"/>\r\n       <use x=\"147.412109\" xlink:href=\"#DejaVuSans-46\"/>\r\n       <use x=\"179.199219\" xlink:href=\"#DejaVuSans-50\"/>\r\n       <use x=\"242.822266\" xlink:href=\"#DejaVuSans-53\"/>\r\n      </g>\r\n     </g>\r\n    </g>\r\n    <g id=\"ytick_6\">\r\n     <g id=\"line2d_34\">\r\n      <g>\r\n       <use style=\"stroke:#000000;stroke-width:0.8;\" x=\"44.845313\" xlink:href=\"#ma4c4dc1f81\" y=\"171.204217\"/>\r\n      </g>\r\n     </g>\r\n     <g id=\"text_30\">\r\n      <!-- 0.00 -->\r\n      <g transform=\"translate(15.579688 175.003435)scale(0.1 -0.1)\">\r\n       <use xlink:href=\"#DejaVuSans-48\"/>\r\n       <use x=\"63.623047\" xlink:href=\"#DejaVuSans-46\"/>\r\n       <use x=\"95.410156\" xlink:href=\"#DejaVuSans-48\"/>\r\n       <use x=\"159.033203\" xlink:href=\"#DejaVuSans-48\"/>\r\n      </g>\r\n     </g>\r\n    </g>\r\n    <g id=\"ytick_7\">\r\n     <g id=\"line2d_35\">\r\n      <g>\r\n       <use style=\"stroke:#000000;stroke-width:0.8;\" x=\"44.845313\" xlink:href=\"#ma4c4dc1f81\" y=\"157.783309\"/>\r\n      </g>\r\n     </g>\r\n     <g id=\"text_31\">\r\n      <!-- 0.25 -->\r\n      <g transform=\"translate(15.579688 161.582528)scale(0.1 -0.1)\">\r\n       <use xlink:href=\"#DejaVuSans-48\"/>\r\n       <use x=\"63.623047\" xlink:href=\"#DejaVuSans-46\"/>\r\n       <use x=\"95.410156\" xlink:href=\"#DejaVuSans-50\"/>\r\n       <use x=\"159.033203\" xlink:href=\"#DejaVuSans-53\"/>\r\n      </g>\r\n     </g>\r\n    </g>\r\n   </g>\r\n   <g id=\"line2d_36\">\r\n    <path clip-path=\"url(#p6c5ca4a85d)\" d=\"M 63.034213 171.204217 \r\nL 86.324421 184.500983 \r\nL 102.102943 178.274799 \r\nL 151.176038 165.617015 \r\nL 173.631633 159.466923 \r\nL 198.2911 172.581164 \r\nL 206.13538 177.257313 \r\nL 220.977164 170.078015 \r\nL 262.967846 173.050071 \r\nL 293.668664 175.20158 \r\nL 328.442666 175.15558 \r\n\" style=\"fill:none;stroke:#0000ff;stroke-linecap:square;stroke-width:1.5;\"/>\r\n   </g>\r\n   <g id=\"line2d_37\">\r\n    <path clip-path=\"url(#p6c5ca4a85d)\" d=\"M 63.034213 171.204217 \r\nL 82.927251 183.453749 \r\nL 110.981579 194.567905 \r\nL 149.1353 159.678098 \r\nL 178.371183 151.595573 \r\nL 197.818923 180.45698 \r\nL 221.489339 171.032237 \r\nL 247.974965 171.354023 \r\nL 274.650259 171.250895 \r\nL 302.028575 178.034729 \r\nL 333.043668 187.652902 \r\n\" style=\"fill:none;stroke:#ff0000;stroke-linecap:square;stroke-width:1.5;\"/>\r\n   </g>\r\n   <g id=\"patch_13\">\r\n    <path d=\"M 44.845313 196.716522 \r\nL 44.845313 149.446957 \r\n\" style=\"fill:none;stroke:#000000;stroke-linecap:square;stroke-linejoin:miter;stroke-width:0.8;\"/>\r\n   </g>\r\n   <g id=\"patch_14\">\r\n    <path d=\"M 379.645313 196.716522 \r\nL 379.645313 149.446957 \r\n\" style=\"fill:none;stroke:#000000;stroke-linecap:square;stroke-linejoin:miter;stroke-width:0.8;\"/>\r\n   </g>\r\n   <g id=\"patch_15\">\r\n    <path d=\"M 44.845313 196.716522 \r\nL 379.645313 196.716522 \r\n\" style=\"fill:none;stroke:#000000;stroke-linecap:square;stroke-linejoin:miter;stroke-width:0.8;\"/>\r\n   </g>\r\n   <g id=\"patch_16\">\r\n    <path d=\"M 44.845313 149.446957 \r\nL 379.645313 149.446957 \r\n\" style=\"fill:none;stroke:#000000;stroke-linecap:square;stroke-linejoin:miter;stroke-width:0.8;\"/>\r\n   </g>\r\n  </g>\r\n  <g id=\"axes_4\">\r\n   <g id=\"patch_17\">\r\n    <path d=\"M 44.845313 253.44 \r\nL 379.645313 253.44 \r\nL 379.645313 206.170435 \r\nL 44.845313 206.170435 \r\nz\r\n\" style=\"fill:#ffffff;\"/>\r\n   </g>\r\n   <g id=\"PathCollection_7\">\r\n    <g clip-path=\"url(#p4d20162b94)\">\r\n     <use style=\"fill:#008000;stroke:#008000;\" x=\"361.765747\" xlink:href=\"#m88041d258e\" y=\"229.291088\"/>\r\n    </g>\r\n   </g>\r\n   <g id=\"PathCollection_8\">\r\n    <g clip-path=\"url(#p4d20162b94)\">\r\n     <use style=\"fill:#bfbf00;stroke:#bfbf00;\" x=\"63.034213\" xlink:href=\"#m1a694b04b3\" y=\"229.291088\"/>\r\n    </g>\r\n   </g>\r\n   <g id=\"matplotlib.axis_7\">\r\n    <g id=\"xtick_25\">\r\n     <g id=\"line2d_38\">\r\n      <g>\r\n       <use style=\"stroke:#000000;stroke-width:0.8;\" x=\"63.034213\" xlink:href=\"#mdd11487ab2\" y=\"253.44\"/>\r\n      </g>\r\n     </g>\r\n     <g id=\"text_32\">\r\n      <!-- 0 -->\r\n      <g transform=\"translate(59.852963 268.038437)scale(0.1 -0.1)\">\r\n       <use xlink:href=\"#DejaVuSans-48\"/>\r\n      </g>\r\n     </g>\r\n    </g>\r\n    <g id=\"xtick_26\">\r\n     <g id=\"line2d_39\">\r\n      <g>\r\n       <use style=\"stroke:#000000;stroke-width:0.8;\" x=\"104.957817\" xlink:href=\"#mdd11487ab2\" y=\"253.44\"/>\r\n      </g>\r\n     </g>\r\n     <g id=\"text_33\">\r\n      <!-- 10 -->\r\n      <g transform=\"translate(98.595317 268.038437)scale(0.1 -0.1)\">\r\n       <use xlink:href=\"#DejaVuSans-49\"/>\r\n       <use x=\"63.623047\" xlink:href=\"#DejaVuSans-48\"/>\r\n      </g>\r\n     </g>\r\n    </g>\r\n    <g id=\"xtick_27\">\r\n     <g id=\"line2d_40\">\r\n      <g>\r\n       <use style=\"stroke:#000000;stroke-width:0.8;\" x=\"146.881421\" xlink:href=\"#mdd11487ab2\" y=\"253.44\"/>\r\n      </g>\r\n     </g>\r\n     <g id=\"text_34\">\r\n      <!-- 20 -->\r\n      <g transform=\"translate(140.518921 268.038437)scale(0.1 -0.1)\">\r\n       <use xlink:href=\"#DejaVuSans-50\"/>\r\n       <use x=\"63.623047\" xlink:href=\"#DejaVuSans-48\"/>\r\n      </g>\r\n     </g>\r\n    </g>\r\n    <g id=\"xtick_28\">\r\n     <g id=\"line2d_41\">\r\n      <g>\r\n       <use style=\"stroke:#000000;stroke-width:0.8;\" x=\"188.805025\" xlink:href=\"#mdd11487ab2\" y=\"253.44\"/>\r\n      </g>\r\n     </g>\r\n     <g id=\"text_35\">\r\n      <!-- 30 -->\r\n      <g transform=\"translate(182.442525 268.038437)scale(0.1 -0.1)\">\r\n       <use xlink:href=\"#DejaVuSans-51\"/>\r\n       <use x=\"63.623047\" xlink:href=\"#DejaVuSans-48\"/>\r\n      </g>\r\n     </g>\r\n    </g>\r\n    <g id=\"xtick_29\">\r\n     <g id=\"line2d_42\">\r\n      <g>\r\n       <use style=\"stroke:#000000;stroke-width:0.8;\" x=\"230.728629\" xlink:href=\"#mdd11487ab2\" y=\"253.44\"/>\r\n      </g>\r\n     </g>\r\n     <g id=\"text_36\">\r\n      <!-- 40 -->\r\n      <g transform=\"translate(224.366129 268.038437)scale(0.1 -0.1)\">\r\n       <use xlink:href=\"#DejaVuSans-52\"/>\r\n       <use x=\"63.623047\" xlink:href=\"#DejaVuSans-48\"/>\r\n      </g>\r\n     </g>\r\n    </g>\r\n    <g id=\"xtick_30\">\r\n     <g id=\"line2d_43\">\r\n      <g>\r\n       <use style=\"stroke:#000000;stroke-width:0.8;\" x=\"272.652233\" xlink:href=\"#mdd11487ab2\" y=\"253.44\"/>\r\n      </g>\r\n     </g>\r\n     <g id=\"text_37\">\r\n      <!-- 50 -->\r\n      <g transform=\"translate(266.289733 268.038437)scale(0.1 -0.1)\">\r\n       <use xlink:href=\"#DejaVuSans-53\"/>\r\n       <use x=\"63.623047\" xlink:href=\"#DejaVuSans-48\"/>\r\n      </g>\r\n     </g>\r\n    </g>\r\n    <g id=\"xtick_31\">\r\n     <g id=\"line2d_44\">\r\n      <g>\r\n       <use style=\"stroke:#000000;stroke-width:0.8;\" x=\"314.575837\" xlink:href=\"#mdd11487ab2\" y=\"253.44\"/>\r\n      </g>\r\n     </g>\r\n     <g id=\"text_38\">\r\n      <!-- 60 -->\r\n      <g transform=\"translate(308.213337 268.038437)scale(0.1 -0.1)\">\r\n       <use xlink:href=\"#DejaVuSans-54\"/>\r\n       <use x=\"63.623047\" xlink:href=\"#DejaVuSans-48\"/>\r\n      </g>\r\n     </g>\r\n    </g>\r\n    <g id=\"xtick_32\">\r\n     <g id=\"line2d_45\">\r\n      <g>\r\n       <use style=\"stroke:#000000;stroke-width:0.8;\" x=\"356.499441\" xlink:href=\"#mdd11487ab2\" y=\"253.44\"/>\r\n      </g>\r\n     </g>\r\n     <g id=\"text_39\">\r\n      <!-- 70 -->\r\n      <g transform=\"translate(350.136941 268.038437)scale(0.1 -0.1)\">\r\n       <use xlink:href=\"#DejaVuSans-55\"/>\r\n       <use x=\"63.623047\" xlink:href=\"#DejaVuSans-48\"/>\r\n      </g>\r\n     </g>\r\n    </g>\r\n   </g>\r\n   <g id=\"matplotlib.axis_8\">\r\n    <g id=\"ytick_8\">\r\n     <g id=\"line2d_46\">\r\n      <g>\r\n       <use style=\"stroke:#000000;stroke-width:0.8;\" x=\"44.845313\" xlink:href=\"#ma4c4dc1f81\" y=\"252.187428\"/>\r\n      </g>\r\n     </g>\r\n     <g id=\"text_40\">\r\n      <!-- −0.02 -->\r\n      <g transform=\"translate(7.2 255.986647)scale(0.1 -0.1)\">\r\n       <use xlink:href=\"#DejaVuSans-8722\"/>\r\n       <use x=\"83.789062\" xlink:href=\"#DejaVuSans-48\"/>\r\n       <use x=\"147.412109\" xlink:href=\"#DejaVuSans-46\"/>\r\n       <use x=\"179.199219\" xlink:href=\"#DejaVuSans-48\"/>\r\n       <use x=\"242.822266\" xlink:href=\"#DejaVuSans-50\"/>\r\n      </g>\r\n     </g>\r\n    </g>\r\n    <g id=\"ytick_9\">\r\n     <g id=\"line2d_47\">\r\n      <g>\r\n       <use style=\"stroke:#000000;stroke-width:0.8;\" x=\"44.845313\" xlink:href=\"#ma4c4dc1f81\" y=\"229.291088\"/>\r\n      </g>\r\n     </g>\r\n     <g id=\"text_41\">\r\n      <!-- 0.00 -->\r\n      <g transform=\"translate(15.579688 233.090307)scale(0.1 -0.1)\">\r\n       <use xlink:href=\"#DejaVuSans-48\"/>\r\n       <use x=\"63.623047\" xlink:href=\"#DejaVuSans-46\"/>\r\n       <use x=\"95.410156\" xlink:href=\"#DejaVuSans-48\"/>\r\n       <use x=\"159.033203\" xlink:href=\"#DejaVuSans-48\"/>\r\n      </g>\r\n     </g>\r\n    </g>\r\n    <g id=\"ytick_10\">\r\n     <g id=\"line2d_48\">\r\n      <g>\r\n       <use style=\"stroke:#000000;stroke-width:0.8;\" x=\"44.845313\" xlink:href=\"#ma4c4dc1f81\" y=\"206.394748\"/>\r\n      </g>\r\n     </g>\r\n     <g id=\"text_42\">\r\n      <!-- 0.02 -->\r\n      <g transform=\"translate(15.579688 210.193967)scale(0.1 -0.1)\">\r\n       <use xlink:href=\"#DejaVuSans-48\"/>\r\n       <use x=\"63.623047\" xlink:href=\"#DejaVuSans-46\"/>\r\n       <use x=\"95.410156\" xlink:href=\"#DejaVuSans-48\"/>\r\n       <use x=\"159.033203\" xlink:href=\"#DejaVuSans-50\"/>\r\n      </g>\r\n     </g>\r\n    </g>\r\n   </g>\r\n   <g id=\"line2d_49\">\r\n    <path clip-path=\"url(#p4d20162b94)\" d=\"M 63.034213 229.291088 \r\nL 86.324421 232.632022 \r\nL 102.102943 223.731959 \r\nL 151.176038 210.40707 \r\nL 173.631633 235.827659 \r\nL 198.2911 251.291383 \r\nL 206.13538 221.738956 \r\nL 220.977164 230.708931 \r\nL 262.967846 231.492235 \r\nL 293.668664 231.808121 \r\nL 328.442666 227.146416 \r\n\" style=\"fill:none;stroke:#0000ff;stroke-linecap:square;stroke-width:1.5;\"/>\r\n   </g>\r\n   <g id=\"line2d_50\">\r\n    <path clip-path=\"url(#p4d20162b94)\" d=\"M 63.034213 229.291088 \r\nL 82.927251 232.064905 \r\nL 110.981579 231.733837 \r\nL 149.1353 208.319051 \r\nL 178.371183 233.075799 \r\nL 197.818923 248.728102 \r\nL 221.489339 218.435373 \r\nL 247.974965 229.360031 \r\nL 274.650259 229.115101 \r\nL 302.028575 232.110537 \r\nL 333.043668 232.884908 \r\n\" style=\"fill:none;stroke:#ff0000;stroke-linecap:square;stroke-width:1.5;\"/>\r\n   </g>\r\n   <g id=\"patch_18\">\r\n    <path d=\"M 44.845313 253.44 \r\nL 44.845313 206.170435 \r\n\" style=\"fill:none;stroke:#000000;stroke-linecap:square;stroke-linejoin:miter;stroke-width:0.8;\"/>\r\n   </g>\r\n   <g id=\"patch_19\">\r\n    <path d=\"M 379.645313 253.44 \r\nL 379.645313 206.170435 \r\n\" style=\"fill:none;stroke:#000000;stroke-linecap:square;stroke-linejoin:miter;stroke-width:0.8;\"/>\r\n   </g>\r\n   <g id=\"patch_20\">\r\n    <path d=\"M 44.845313 253.44 \r\nL 379.645313 253.44 \r\n\" style=\"fill:none;stroke:#000000;stroke-linecap:square;stroke-linejoin:miter;stroke-width:0.8;\"/>\r\n   </g>\r\n   <g id=\"patch_21\">\r\n    <path d=\"M 44.845313 206.170435 \r\nL 379.645313 206.170435 \r\n\" style=\"fill:none;stroke:#000000;stroke-linecap:square;stroke-linejoin:miter;stroke-width:0.8;\"/>\r\n   </g>\r\n  </g>\r\n  <g id=\"text_43\">\r\n   <!-- trajectory components (u, v, theta, q) vs x -->\r\n   <defs>\r\n    <path d=\"M 18.3125 70.21875 \r\nL 18.3125 54.6875 \r\nL 36.8125 54.6875 \r\nL 36.8125 47.703125 \r\nL 18.3125 47.703125 \r\nL 18.3125 18.015625 \r\nQ 18.3125 11.328125 20.140625 9.421875 \r\nQ 21.96875 7.515625 27.59375 7.515625 \r\nL 36.8125 7.515625 \r\nL 36.8125 0 \r\nL 27.59375 0 \r\nQ 17.1875 0 13.234375 3.875 \r\nQ 9.28125 7.765625 9.28125 18.015625 \r\nL 9.28125 47.703125 \r\nL 2.6875 47.703125 \r\nL 2.6875 54.6875 \r\nL 9.28125 54.6875 \r\nL 9.28125 70.21875 \r\nz\r\n\" id=\"DejaVuSans-116\"/>\r\n    <path d=\"M 41.109375 46.296875 \r\nQ 39.59375 47.171875 37.8125 47.578125 \r\nQ 36.03125 48 33.890625 48 \r\nQ 26.265625 48 22.1875 43.046875 \r\nQ 18.109375 38.09375 18.109375 28.8125 \r\nL 18.109375 0 \r\nL 9.078125 0 \r\nL 9.078125 54.6875 \r\nL 18.109375 54.6875 \r\nL 18.109375 46.1875 \r\nQ 20.953125 51.171875 25.484375 53.578125 \r\nQ 30.03125 56 36.53125 56 \r\nQ 37.453125 56 38.578125 55.875 \r\nQ 39.703125 55.765625 41.0625 55.515625 \r\nz\r\n\" id=\"DejaVuSans-114\"/>\r\n    <path d=\"M 34.28125 27.484375 \r\nQ 23.390625 27.484375 19.1875 25 \r\nQ 14.984375 22.515625 14.984375 16.5 \r\nQ 14.984375 11.71875 18.140625 8.90625 \r\nQ 21.296875 6.109375 26.703125 6.109375 \r\nQ 34.1875 6.109375 38.703125 11.40625 \r\nQ 43.21875 16.703125 43.21875 25.484375 \r\nL 43.21875 27.484375 \r\nz\r\nM 52.203125 31.203125 \r\nL 52.203125 0 \r\nL 43.21875 0 \r\nL 43.21875 8.296875 \r\nQ 40.140625 3.328125 35.546875 0.953125 \r\nQ 30.953125 -1.421875 24.3125 -1.421875 \r\nQ 15.921875 -1.421875 10.953125 3.296875 \r\nQ 6 8.015625 6 15.921875 \r\nQ 6 25.140625 12.171875 29.828125 \r\nQ 18.359375 34.515625 30.609375 34.515625 \r\nL 43.21875 34.515625 \r\nL 43.21875 35.40625 \r\nQ 43.21875 41.609375 39.140625 45 \r\nQ 35.0625 48.390625 27.6875 48.390625 \r\nQ 23 48.390625 18.546875 47.265625 \r\nQ 14.109375 46.140625 10.015625 43.890625 \r\nL 10.015625 52.203125 \r\nQ 14.9375 54.109375 19.578125 55.046875 \r\nQ 24.21875 56 28.609375 56 \r\nQ 40.484375 56 46.34375 49.84375 \r\nQ 52.203125 43.703125 52.203125 31.203125 \r\nz\r\n\" id=\"DejaVuSans-97\"/>\r\n    <path d=\"M 9.421875 54.6875 \r\nL 18.40625 54.6875 \r\nL 18.40625 -0.984375 \r\nQ 18.40625 -11.421875 14.421875 -16.109375 \r\nQ 10.453125 -20.796875 1.609375 -20.796875 \r\nL -1.8125 -20.796875 \r\nL -1.8125 -13.1875 \r\nL 0.59375 -13.1875 \r\nQ 5.71875 -13.1875 7.5625 -10.8125 \r\nQ 9.421875 -8.453125 9.421875 -0.984375 \r\nz\r\nM 9.421875 75.984375 \r\nL 18.40625 75.984375 \r\nL 18.40625 64.59375 \r\nL 9.421875 64.59375 \r\nz\r\n\" id=\"DejaVuSans-106\"/>\r\n    <path d=\"M 56.203125 29.59375 \r\nL 56.203125 25.203125 \r\nL 14.890625 25.203125 \r\nQ 15.484375 15.921875 20.484375 11.0625 \r\nQ 25.484375 6.203125 34.421875 6.203125 \r\nQ 39.59375 6.203125 44.453125 7.46875 \r\nQ 49.3125 8.734375 54.109375 11.28125 \r\nL 54.109375 2.78125 \r\nQ 49.265625 0.734375 44.1875 -0.34375 \r\nQ 39.109375 -1.421875 33.890625 -1.421875 \r\nQ 20.796875 -1.421875 13.15625 6.1875 \r\nQ 5.515625 13.8125 5.515625 26.8125 \r\nQ 5.515625 40.234375 12.765625 48.109375 \r\nQ 20.015625 56 32.328125 56 \r\nQ 43.359375 56 49.78125 48.890625 \r\nQ 56.203125 41.796875 56.203125 29.59375 \r\nz\r\nM 47.21875 32.234375 \r\nQ 47.125 39.59375 43.09375 43.984375 \r\nQ 39.0625 48.390625 32.421875 48.390625 \r\nQ 24.90625 48.390625 20.390625 44.140625 \r\nQ 15.875 39.890625 15.1875 32.171875 \r\nz\r\n\" id=\"DejaVuSans-101\"/>\r\n    <path d=\"M 48.78125 52.59375 \r\nL 48.78125 44.1875 \r\nQ 44.96875 46.296875 41.140625 47.34375 \r\nQ 37.3125 48.390625 33.40625 48.390625 \r\nQ 24.65625 48.390625 19.8125 42.84375 \r\nQ 14.984375 37.3125 14.984375 27.296875 \r\nQ 14.984375 17.28125 19.8125 11.734375 \r\nQ 24.65625 6.203125 33.40625 6.203125 \r\nQ 37.3125 6.203125 41.140625 7.25 \r\nQ 44.96875 8.296875 48.78125 10.40625 \r\nL 48.78125 2.09375 \r\nQ 45.015625 0.34375 40.984375 -0.53125 \r\nQ 36.96875 -1.421875 32.421875 -1.421875 \r\nQ 20.0625 -1.421875 12.78125 6.34375 \r\nQ 5.515625 14.109375 5.515625 27.296875 \r\nQ 5.515625 40.671875 12.859375 48.328125 \r\nQ 20.21875 56 33.015625 56 \r\nQ 37.15625 56 41.109375 55.140625 \r\nQ 45.0625 54.296875 48.78125 52.59375 \r\nz\r\n\" id=\"DejaVuSans-99\"/>\r\n    <path d=\"M 30.609375 48.390625 \r\nQ 23.390625 48.390625 19.1875 42.75 \r\nQ 14.984375 37.109375 14.984375 27.296875 \r\nQ 14.984375 17.484375 19.15625 11.84375 \r\nQ 23.34375 6.203125 30.609375 6.203125 \r\nQ 37.796875 6.203125 41.984375 11.859375 \r\nQ 46.1875 17.53125 46.1875 27.296875 \r\nQ 46.1875 37.015625 41.984375 42.703125 \r\nQ 37.796875 48.390625 30.609375 48.390625 \r\nz\r\nM 30.609375 56 \r\nQ 42.328125 56 49.015625 48.375 \r\nQ 55.71875 40.765625 55.71875 27.296875 \r\nQ 55.71875 13.875 49.015625 6.21875 \r\nQ 42.328125 -1.421875 30.609375 -1.421875 \r\nQ 18.84375 -1.421875 12.171875 6.21875 \r\nQ 5.515625 13.875 5.515625 27.296875 \r\nQ 5.515625 40.765625 12.171875 48.375 \r\nQ 18.84375 56 30.609375 56 \r\nz\r\n\" id=\"DejaVuSans-111\"/>\r\n    <path d=\"M 32.171875 -5.078125 \r\nQ 28.375 -14.84375 24.75 -17.8125 \r\nQ 21.140625 -20.796875 15.09375 -20.796875 \r\nL 7.90625 -20.796875 \r\nL 7.90625 -13.28125 \r\nL 13.1875 -13.28125 \r\nQ 16.890625 -13.28125 18.9375 -11.515625 \r\nQ 21 -9.765625 23.484375 -3.21875 \r\nL 25.09375 0.875 \r\nL 2.984375 54.6875 \r\nL 12.5 54.6875 \r\nL 29.59375 11.921875 \r\nL 46.6875 54.6875 \r\nL 56.203125 54.6875 \r\nz\r\n\" id=\"DejaVuSans-121\"/>\r\n    <path id=\"DejaVuSans-32\"/>\r\n    <path d=\"M 52 44.1875 \r\nQ 55.375 50.25 60.0625 53.125 \r\nQ 64.75 56 71.09375 56 \r\nQ 79.640625 56 84.28125 50.015625 \r\nQ 88.921875 44.046875 88.921875 33.015625 \r\nL 88.921875 0 \r\nL 79.890625 0 \r\nL 79.890625 32.71875 \r\nQ 79.890625 40.578125 77.09375 44.375 \r\nQ 74.3125 48.1875 68.609375 48.1875 \r\nQ 61.625 48.1875 57.5625 43.546875 \r\nQ 53.515625 38.921875 53.515625 30.90625 \r\nL 53.515625 0 \r\nL 44.484375 0 \r\nL 44.484375 32.71875 \r\nQ 44.484375 40.625 41.703125 44.40625 \r\nQ 38.921875 48.1875 33.109375 48.1875 \r\nQ 26.21875 48.1875 22.15625 43.53125 \r\nQ 18.109375 38.875 18.109375 30.90625 \r\nL 18.109375 0 \r\nL 9.078125 0 \r\nL 9.078125 54.6875 \r\nL 18.109375 54.6875 \r\nL 18.109375 46.1875 \r\nQ 21.1875 51.21875 25.484375 53.609375 \r\nQ 29.78125 56 35.6875 56 \r\nQ 41.65625 56 45.828125 52.96875 \r\nQ 50 49.953125 52 44.1875 \r\nz\r\n\" id=\"DejaVuSans-109\"/>\r\n    <path d=\"M 18.109375 8.203125 \r\nL 18.109375 -20.796875 \r\nL 9.078125 -20.796875 \r\nL 9.078125 54.6875 \r\nL 18.109375 54.6875 \r\nL 18.109375 46.390625 \r\nQ 20.953125 51.265625 25.265625 53.625 \r\nQ 29.59375 56 35.59375 56 \r\nQ 45.5625 56 51.78125 48.09375 \r\nQ 58.015625 40.1875 58.015625 27.296875 \r\nQ 58.015625 14.40625 51.78125 6.484375 \r\nQ 45.5625 -1.421875 35.59375 -1.421875 \r\nQ 29.59375 -1.421875 25.265625 0.953125 \r\nQ 20.953125 3.328125 18.109375 8.203125 \r\nz\r\nM 48.6875 27.296875 \r\nQ 48.6875 37.203125 44.609375 42.84375 \r\nQ 40.53125 48.484375 33.40625 48.484375 \r\nQ 26.265625 48.484375 22.1875 42.84375 \r\nQ 18.109375 37.203125 18.109375 27.296875 \r\nQ 18.109375 17.390625 22.1875 11.75 \r\nQ 26.265625 6.109375 33.40625 6.109375 \r\nQ 40.53125 6.109375 44.609375 11.75 \r\nQ 48.6875 17.390625 48.6875 27.296875 \r\nz\r\n\" id=\"DejaVuSans-112\"/>\r\n    <path d=\"M 54.890625 33.015625 \r\nL 54.890625 0 \r\nL 45.90625 0 \r\nL 45.90625 32.71875 \r\nQ 45.90625 40.484375 42.875 44.328125 \r\nQ 39.84375 48.1875 33.796875 48.1875 \r\nQ 26.515625 48.1875 22.3125 43.546875 \r\nQ 18.109375 38.921875 18.109375 30.90625 \r\nL 18.109375 0 \r\nL 9.078125 0 \r\nL 9.078125 54.6875 \r\nL 18.109375 54.6875 \r\nL 18.109375 46.1875 \r\nQ 21.34375 51.125 25.703125 53.5625 \r\nQ 30.078125 56 35.796875 56 \r\nQ 45.21875 56 50.046875 50.171875 \r\nQ 54.890625 44.34375 54.890625 33.015625 \r\nz\r\n\" id=\"DejaVuSans-110\"/>\r\n    <path d=\"M 44.28125 53.078125 \r\nL 44.28125 44.578125 \r\nQ 40.484375 46.53125 36.375 47.5 \r\nQ 32.28125 48.484375 27.875 48.484375 \r\nQ 21.1875 48.484375 17.84375 46.4375 \r\nQ 14.5 44.390625 14.5 40.28125 \r\nQ 14.5 37.15625 16.890625 35.375 \r\nQ 19.28125 33.59375 26.515625 31.984375 \r\nL 29.59375 31.296875 \r\nQ 39.15625 29.25 43.1875 25.515625 \r\nQ 47.21875 21.78125 47.21875 15.09375 \r\nQ 47.21875 7.46875 41.1875 3.015625 \r\nQ 35.15625 -1.421875 24.609375 -1.421875 \r\nQ 20.21875 -1.421875 15.453125 -0.5625 \r\nQ 10.6875 0.296875 5.421875 2 \r\nL 5.421875 11.28125 \r\nQ 10.40625 8.6875 15.234375 7.390625 \r\nQ 20.0625 6.109375 24.8125 6.109375 \r\nQ 31.15625 6.109375 34.5625 8.28125 \r\nQ 37.984375 10.453125 37.984375 14.40625 \r\nQ 37.984375 18.0625 35.515625 20.015625 \r\nQ 33.0625 21.96875 24.703125 23.78125 \r\nL 21.578125 24.515625 \r\nQ 13.234375 26.265625 9.515625 29.90625 \r\nQ 5.8125 33.546875 5.8125 39.890625 \r\nQ 5.8125 47.609375 11.28125 51.796875 \r\nQ 16.75 56 26.8125 56 \r\nQ 31.78125 56 36.171875 55.265625 \r\nQ 40.578125 54.546875 44.28125 53.078125 \r\nz\r\n\" id=\"DejaVuSans-115\"/>\r\n    <path d=\"M 31 75.875 \r\nQ 24.46875 64.65625 21.28125 53.65625 \r\nQ 18.109375 42.671875 18.109375 31.390625 \r\nQ 18.109375 20.125 21.3125 9.0625 \r\nQ 24.515625 -2 31 -13.1875 \r\nL 23.1875 -13.1875 \r\nQ 15.875 -1.703125 12.234375 9.375 \r\nQ 8.59375 20.453125 8.59375 31.390625 \r\nQ 8.59375 42.28125 12.203125 53.3125 \r\nQ 15.828125 64.359375 23.1875 75.875 \r\nz\r\n\" id=\"DejaVuSans-40\"/>\r\n    <path d=\"M 8.5 21.578125 \r\nL 8.5 54.6875 \r\nL 17.484375 54.6875 \r\nL 17.484375 21.921875 \r\nQ 17.484375 14.15625 20.5 10.265625 \r\nQ 23.53125 6.390625 29.59375 6.390625 \r\nQ 36.859375 6.390625 41.078125 11.03125 \r\nQ 45.3125 15.671875 45.3125 23.6875 \r\nL 45.3125 54.6875 \r\nL 54.296875 54.6875 \r\nL 54.296875 0 \r\nL 45.3125 0 \r\nL 45.3125 8.40625 \r\nQ 42.046875 3.421875 37.71875 1 \r\nQ 33.40625 -1.421875 27.6875 -1.421875 \r\nQ 18.265625 -1.421875 13.375 4.4375 \r\nQ 8.5 10.296875 8.5 21.578125 \r\nz\r\nM 31.109375 56 \r\nz\r\n\" id=\"DejaVuSans-117\"/>\r\n    <path d=\"M 11.71875 12.40625 \r\nL 22.015625 12.40625 \r\nL 22.015625 4 \r\nL 14.015625 -11.625 \r\nL 7.71875 -11.625 \r\nL 11.71875 4 \r\nz\r\n\" id=\"DejaVuSans-44\"/>\r\n    <path d=\"M 2.984375 54.6875 \r\nL 12.5 54.6875 \r\nL 29.59375 8.796875 \r\nL 46.6875 54.6875 \r\nL 56.203125 54.6875 \r\nL 35.6875 0 \r\nL 23.484375 0 \r\nz\r\n\" id=\"DejaVuSans-118\"/>\r\n    <path d=\"M 54.890625 33.015625 \r\nL 54.890625 0 \r\nL 45.90625 0 \r\nL 45.90625 32.71875 \r\nQ 45.90625 40.484375 42.875 44.328125 \r\nQ 39.84375 48.1875 33.796875 48.1875 \r\nQ 26.515625 48.1875 22.3125 43.546875 \r\nQ 18.109375 38.921875 18.109375 30.90625 \r\nL 18.109375 0 \r\nL 9.078125 0 \r\nL 9.078125 75.984375 \r\nL 18.109375 75.984375 \r\nL 18.109375 46.1875 \r\nQ 21.34375 51.125 25.703125 53.5625 \r\nQ 30.078125 56 35.796875 56 \r\nQ 45.21875 56 50.046875 50.171875 \r\nQ 54.890625 44.34375 54.890625 33.015625 \r\nz\r\n\" id=\"DejaVuSans-104\"/>\r\n    <path d=\"M 14.796875 27.296875 \r\nQ 14.796875 17.390625 18.875 11.75 \r\nQ 22.953125 6.109375 30.078125 6.109375 \r\nQ 37.203125 6.109375 41.296875 11.75 \r\nQ 45.40625 17.390625 45.40625 27.296875 \r\nQ 45.40625 37.203125 41.296875 42.84375 \r\nQ 37.203125 48.484375 30.078125 48.484375 \r\nQ 22.953125 48.484375 18.875 42.84375 \r\nQ 14.796875 37.203125 14.796875 27.296875 \r\nz\r\nM 45.40625 8.203125 \r\nQ 42.578125 3.328125 38.25 0.953125 \r\nQ 33.9375 -1.421875 27.875 -1.421875 \r\nQ 17.96875 -1.421875 11.734375 6.484375 \r\nQ 5.515625 14.40625 5.515625 27.296875 \r\nQ 5.515625 40.1875 11.734375 48.09375 \r\nQ 17.96875 56 27.875 56 \r\nQ 33.9375 56 38.25 53.625 \r\nQ 42.578125 51.265625 45.40625 46.390625 \r\nL 45.40625 54.6875 \r\nL 54.390625 54.6875 \r\nL 54.390625 -20.796875 \r\nL 45.40625 -20.796875 \r\nz\r\n\" id=\"DejaVuSans-113\"/>\r\n    <path d=\"M 8.015625 75.875 \r\nL 15.828125 75.875 \r\nQ 23.140625 64.359375 26.78125 53.3125 \r\nQ 30.421875 42.28125 30.421875 31.390625 \r\nQ 30.421875 20.453125 26.78125 9.375 \r\nQ 23.140625 -1.703125 15.828125 -13.1875 \r\nL 8.015625 -13.1875 \r\nQ 14.5 -2 17.703125 9.0625 \r\nQ 20.90625 20.125 20.90625 31.390625 \r\nQ 20.90625 42.671875 17.703125 53.65625 \r\nQ 14.5 64.65625 8.015625 75.875 \r\nz\r\n\" id=\"DejaVuSans-41\"/>\r\n    <path d=\"M 54.890625 54.6875 \r\nL 35.109375 28.078125 \r\nL 55.90625 0 \r\nL 45.3125 0 \r\nL 29.390625 21.484375 \r\nL 13.484375 0 \r\nL 2.875 0 \r\nL 24.125 28.609375 \r\nL 4.6875 54.6875 \r\nL 15.28125 54.6875 \r\nL 29.78125 35.203125 \r\nL 44.28125 54.6875 \r\nz\r\n\" id=\"DejaVuSans-120\"/>\r\n   </defs>\r\n   <g transform=\"translate(79.56375 16.318125)scale(0.12 -0.12)\">\r\n    <use xlink:href=\"#DejaVuSans-116\"/>\r\n    <use x=\"39.208984\" xlink:href=\"#DejaVuSans-114\"/>\r\n    <use x=\"80.322266\" xlink:href=\"#DejaVuSans-97\"/>\r\n    <use x=\"141.601562\" xlink:href=\"#DejaVuSans-106\"/>\r\n    <use x=\"169.384766\" xlink:href=\"#DejaVuSans-101\"/>\r\n    <use x=\"230.908203\" xlink:href=\"#DejaVuSans-99\"/>\r\n    <use x=\"285.888672\" xlink:href=\"#DejaVuSans-116\"/>\r\n    <use x=\"325.097656\" xlink:href=\"#DejaVuSans-111\"/>\r\n    <use x=\"386.279297\" xlink:href=\"#DejaVuSans-114\"/>\r\n    <use x=\"427.392578\" xlink:href=\"#DejaVuSans-121\"/>\r\n    <use x=\"486.572266\" xlink:href=\"#DejaVuSans-32\"/>\r\n    <use x=\"518.359375\" xlink:href=\"#DejaVuSans-99\"/>\r\n    <use x=\"573.339844\" xlink:href=\"#DejaVuSans-111\"/>\r\n    <use x=\"634.521484\" xlink:href=\"#DejaVuSans-109\"/>\r\n    <use x=\"731.933594\" xlink:href=\"#DejaVuSans-112\"/>\r\n    <use x=\"795.410156\" xlink:href=\"#DejaVuSans-111\"/>\r\n    <use x=\"856.591797\" xlink:href=\"#DejaVuSans-110\"/>\r\n    <use x=\"919.970703\" xlink:href=\"#DejaVuSans-101\"/>\r\n    <use x=\"981.494141\" xlink:href=\"#DejaVuSans-110\"/>\r\n    <use x=\"1044.873047\" xlink:href=\"#DejaVuSans-116\"/>\r\n    <use x=\"1084.082031\" xlink:href=\"#DejaVuSans-115\"/>\r\n    <use x=\"1136.181641\" xlink:href=\"#DejaVuSans-32\"/>\r\n    <use x=\"1167.96875\" xlink:href=\"#DejaVuSans-40\"/>\r\n    <use x=\"1206.982422\" xlink:href=\"#DejaVuSans-117\"/>\r\n    <use x=\"1270.361328\" xlink:href=\"#DejaVuSans-44\"/>\r\n    <use x=\"1302.148438\" xlink:href=\"#DejaVuSans-32\"/>\r\n    <use x=\"1333.935547\" xlink:href=\"#DejaVuSans-118\"/>\r\n    <use x=\"1393.115234\" xlink:href=\"#DejaVuSans-44\"/>\r\n    <use x=\"1424.902344\" xlink:href=\"#DejaVuSans-32\"/>\r\n    <use x=\"1456.689453\" xlink:href=\"#DejaVuSans-116\"/>\r\n    <use x=\"1495.898438\" xlink:href=\"#DejaVuSans-104\"/>\r\n    <use x=\"1559.277344\" xlink:href=\"#DejaVuSans-101\"/>\r\n    <use x=\"1620.800781\" xlink:href=\"#DejaVuSans-116\"/>\r\n    <use x=\"1660.009766\" xlink:href=\"#DejaVuSans-97\"/>\r\n    <use x=\"1721.289062\" xlink:href=\"#DejaVuSans-44\"/>\r\n    <use x=\"1753.076172\" xlink:href=\"#DejaVuSans-32\"/>\r\n    <use x=\"1784.863281\" xlink:href=\"#DejaVuSans-113\"/>\r\n    <use x=\"1848.339844\" xlink:href=\"#DejaVuSans-41\"/>\r\n    <use x=\"1887.353516\" xlink:href=\"#DejaVuSans-32\"/>\r\n    <use x=\"1919.140625\" xlink:href=\"#DejaVuSans-118\"/>\r\n    <use x=\"1978.320312\" xlink:href=\"#DejaVuSans-115\"/>\r\n    <use x=\"2030.419922\" xlink:href=\"#DejaVuSans-32\"/>\r\n    <use x=\"2062.207031\" xlink:href=\"#DejaVuSans-120\"/>\r\n   </g>\r\n  </g>\r\n </g>\r\n <defs>\r\n  <clipPath id=\"p386b6e817a\">\r\n   <rect height=\"47.269565\" width=\"334.8\" x=\"44.845313\" y=\"36\"/>\r\n  </clipPath>\r\n  <clipPath id=\"pd72a7a3844\">\r\n   <rect height=\"47.269565\" width=\"334.8\" x=\"44.845313\" y=\"92.723478\"/>\r\n  </clipPath>\r\n  <clipPath id=\"p6c5ca4a85d\">\r\n   <rect height=\"47.269565\" width=\"334.8\" x=\"44.845313\" y=\"149.446957\"/>\r\n  </clipPath>\r\n  <clipPath id=\"p4d20162b94\">\r\n   <rect height=\"47.269565\" width=\"334.8\" x=\"44.845313\" y=\"206.170435\"/>\r\n  </clipPath>\r\n </defs>\r\n</svg>\r\n",
      "text/plain": [
       "<Figure size 432x288 with 4 Axes>"
      ]
     },
     "metadata": {
      "needs_background": "light"
     }
    }
   ],
   "metadata": {}
  },
  {
   "cell_type": "code",
   "execution_count": 80,
   "source": [
    "validation_results= get_trajectory_results(x_val_single_sequential, y_val_single_sequential, data_stats)"
   ],
   "outputs": [],
   "metadata": {}
  },
  {
   "cell_type": "code",
   "execution_count": 83,
   "source": [
    "results_summary(validation_results, metrics)"
   ],
   "outputs": [
    {
     "output_type": "stream",
     "name": "stdout",
     "text": [
      "0.0\n"
     ]
    },
    {
     "output_type": "execute_result",
     "data": {
      "text/html": [
       "<div>\n",
       "<style scoped>\n",
       "    .dataframe tbody tr th:only-of-type {\n",
       "        vertical-align: middle;\n",
       "    }\n",
       "\n",
       "    .dataframe tbody tr th {\n",
       "        vertical-align: top;\n",
       "    }\n",
       "\n",
       "    .dataframe thead th {\n",
       "        text-align: right;\n",
       "    }\n",
       "</style>\n",
       "<table border=\"1\" class=\"dataframe\">\n",
       "  <thead>\n",
       "    <tr style=\"text-align: right;\">\n",
       "      <th></th>\n",
       "      <th>all</th>\n",
       "      <th>result_end</th>\n",
       "      <th>result_error</th>\n",
       "    </tr>\n",
       "  </thead>\n",
       "  <tbody>\n",
       "    <tr>\n",
       "      <th>time</th>\n",
       "      <td>0.475037</td>\n",
       "      <td>0.475037</td>\n",
       "      <td>NaN</td>\n",
       "    </tr>\n",
       "    <tr>\n",
       "      <th>distance_to_target</th>\n",
       "      <td>1.39928</td>\n",
       "      <td>1.39928</td>\n",
       "      <td>NaN</td>\n",
       "    </tr>\n",
       "    <tr>\n",
       "      <th>u_at_target</th>\n",
       "      <td>7.58886</td>\n",
       "      <td>7.58886</td>\n",
       "      <td>NaN</td>\n",
       "    </tr>\n",
       "    <tr>\n",
       "      <th>v_at_target</th>\n",
       "      <td>7.60216</td>\n",
       "      <td>7.60216</td>\n",
       "      <td>NaN</td>\n",
       "    </tr>\n",
       "    <tr>\n",
       "      <th>theta_at_target</th>\n",
       "      <td>0.200925</td>\n",
       "      <td>0.200925</td>\n",
       "      <td>NaN</td>\n",
       "    </tr>\n",
       "    <tr>\n",
       "      <th>mean_distance_in_trajectory</th>\n",
       "      <td>1.59412</td>\n",
       "      <td>1.59412</td>\n",
       "      <td>NaN</td>\n",
       "    </tr>\n",
       "    <tr>\n",
       "      <th>sqrt(trajectory MSE)</th>\n",
       "      <td>4.9858</td>\n",
       "      <td>4.9858</td>\n",
       "      <td>NaN</td>\n",
       "    </tr>\n",
       "    <tr>\n",
       "      <th>k_value</th>\n",
       "      <td>0.350669</td>\n",
       "      <td>0.350669</td>\n",
       "      <td>NaN</td>\n",
       "    </tr>\n",
       "  </tbody>\n",
       "</table>\n",
       "</div>"
      ],
      "text/plain": [
       "                                  all result_end result_error\n",
       "time                         0.475037   0.475037          NaN\n",
       "distance_to_target            1.39928    1.39928          NaN\n",
       "u_at_target                   7.58886    7.58886          NaN\n",
       "v_at_target                   7.60216    7.60216          NaN\n",
       "theta_at_target              0.200925   0.200925          NaN\n",
       "mean_distance_in_trajectory   1.59412    1.59412          NaN\n",
       "sqrt(trajectory MSE)           4.9858     4.9858          NaN\n",
       "k_value                      0.350669   0.350669          NaN"
      ]
     },
     "metadata": {},
     "execution_count": 83
    }
   ],
   "metadata": {}
  },
  {
   "cell_type": "code",
   "execution_count": null,
   "source": [],
   "outputs": [],
   "metadata": {}
  }
 ],
 "metadata": {
  "colab": {
   "collapsed_sections": [],
   "name": "regression.ipynb",
   "private_outputs": true,
   "provenance": [],
   "toc_visible": true
  },
  "kernelspec": {
   "name": "python3",
   "display_name": "Python 3.7.5 64-bit ('base': conda)"
  },
  "language_info": {
   "codemirror_mode": {
    "name": "ipython",
    "version": 3
   },
   "file_extension": ".py",
   "mimetype": "text/x-python",
   "name": "python",
   "nbconvert_exporter": "python",
   "pygments_lexer": "ipython3",
   "version": "3.7.5"
  },
  "interpreter": {
   "hash": "023a8dd934ca51c8a8ef6fdb3c1e7b5852f5a8916b902721ea367a3b1550ba39"
  }
 },
 "nbformat": 4,
 "nbformat_minor": 2
}