{
 "cells": [
  {
   "cell_type": "markdown",
   "metadata": {
    "colab_type": "text",
    "id": "EIdT9iu_Z4Rb"
   },
   "source": [
    "# Basic regression: Predict Action"
   ]
  },
  {
   "cell_type": "markdown",
   "metadata": {
    "colab_type": "text",
    "id": "AHp3M9ZmrIxj"
   },
   "source": [
    "In a *regression* problem, we aim to predict the output of a continuous value, which is in this case the Actions"
   ]
  },
  {
   "cell_type": "code",
   "execution_count": 23,
   "metadata": {},
   "outputs": [],
   "source": [
    "from __future__ import absolute_import, division, print_function, unicode_literals\n",
    "\n",
    "import pathlib\n",
    "\n",
    "import matplotlib.pyplot as plt\n",
    "import numpy as np\n",
    "import pandas as pd\n",
    "import seaborn as sns\n",
    "import pprint as pprint"
   ]
  },
  {
   "cell_type": "code",
   "execution_count": 24,
   "metadata": {},
   "outputs": [
    {
     "output_type": "stream",
     "name": "stdout",
     "text": "2.1.0\n"
    }
   ],
   "source": [
    "try:\n",
    "  # %tensorflow_version only exists in Colab.\n",
    "  %tensorflow_version 2.x\n",
    "except Exception:\n",
    "  pass\n",
    "import tensorflow as tf\n",
    "\n",
    "from tensorflow import keras\n",
    "from tensorflow.keras import layers\n",
    "\n",
    "print(tf.__version__)"
   ]
  },
  {
   "cell_type": "code",
   "execution_count": 25,
   "metadata": {},
   "outputs": [],
   "source": [
    "import tensorflow_docs as tfdocs\n",
    "import tensorflow_docs.plots\n",
    "import tensorflow_docs.modeling"
   ]
  },
  {
   "cell_type": "markdown",
   "metadata": {
    "colab_type": "text",
    "id": "gFh9ne3FZ-On"
   },
   "source": [
    "### Get the data\n",
    "First Import it using pandas"
   ]
  },
  {
   "cell_type": "code",
   "execution_count": 26,
   "metadata": {},
   "outputs": [],
   "source": [
    "\n",
    "raw_dataset = pd.read_csv(\"./test.csv\")\n",
    "\n",
    "dataset = raw_dataset.copy()\n",
    ""
   ]
  },
  {
   "cell_type": "markdown",
   "metadata": {},
   "source": [
    "We need all the path to have the same steps. Therefore we will trunk the path to the same lenght and omit those with reduced lenght"
   ]
  },
  {
   "cell_type": "markdown",
   "metadata": {},
   "source": [
    "First we check with is the most common lenght"
   ]
  },
  {
   "cell_type": "code",
   "execution_count": 5,
   "metadata": {},
   "outputs": [
    {
     "output_type": "execute_result",
     "data": {
      "text/plain": "<matplotlib.legend.Legend at 0x2d8d575f648>"
     },
     "metadata": {},
     "execution_count": 5
    },
    {
     "output_type": "display_data",
     "data": {
      "text/plain": "<Figure size 432x288 with 1 Axes>",
      "image/svg+xml": "<?xml version=\"1.0\" encoding=\"utf-8\" standalone=\"no\"?>\r\n<!DOCTYPE svg PUBLIC \"-//W3C//DTD SVG 1.1//EN\"\r\n  \"http://www.w3.org/Graphics/SVG/1.1/DTD/svg11.dtd\">\r\n<!-- Created with matplotlib (https://matplotlib.org/) -->\r\n<svg height=\"248.518125pt\" version=\"1.1\" viewBox=\"0 0 368.925 248.518125\" width=\"368.925pt\" xmlns=\"http://www.w3.org/2000/svg\" xmlns:xlink=\"http://www.w3.org/1999/xlink\">\r\n <defs>\r\n  <style type=\"text/css\">\r\n*{stroke-linecap:butt;stroke-linejoin:round;}\r\n  </style>\r\n </defs>\r\n <g id=\"figure_1\">\r\n  <g id=\"patch_1\">\r\n   <path d=\"M -0 248.518125 \r\nL 368.925 248.518125 \r\nL 368.925 0 \r\nL -0 0 \r\nz\r\n\" style=\"fill:none;\"/>\r\n  </g>\r\n  <g id=\"axes_1\">\r\n   <g id=\"patch_2\">\r\n    <path d=\"M 26.925 224.64 \r\nL 361.725 224.64 \r\nL 361.725 7.2 \r\nL 26.925 7.2 \r\nz\r\n\" style=\"fill:#ffffff;\"/>\r\n   </g>\r\n   <g id=\"matplotlib.axis_1\">\r\n    <g id=\"xtick_1\">\r\n     <g id=\"line2d_1\">\r\n      <defs>\r\n       <path d=\"M 0 0 \r\nL 0 3.5 \r\n\" id=\"mf8e839101d\" style=\"stroke:#000000;stroke-width:0.8;\"/>\r\n      </defs>\r\n      <g>\r\n       <use style=\"stroke:#000000;stroke-width:0.8;\" x=\"42.143182\" xlink:href=\"#mf8e839101d\" y=\"224.64\"/>\r\n      </g>\r\n     </g>\r\n     <g id=\"text_1\">\r\n      <!-- 1 -->\r\n      <defs>\r\n       <path d=\"M 12.40625 8.296875 \r\nL 28.515625 8.296875 \r\nL 28.515625 63.921875 \r\nL 10.984375 60.40625 \r\nL 10.984375 69.390625 \r\nL 28.421875 72.90625 \r\nL 38.28125 72.90625 \r\nL 38.28125 8.296875 \r\nL 54.390625 8.296875 \r\nL 54.390625 0 \r\nL 12.40625 0 \r\nz\r\n\" id=\"DejaVuSans-49\"/>\r\n      </defs>\r\n      <g transform=\"translate(38.961932 239.238438)scale(0.1 -0.1)\">\r\n       <use xlink:href=\"#DejaVuSans-49\"/>\r\n      </g>\r\n     </g>\r\n    </g>\r\n    <g id=\"xtick_2\">\r\n     <g id=\"line2d_2\">\r\n      <g>\r\n       <use style=\"stroke:#000000;stroke-width:0.8;\" x=\"80.188636\" xlink:href=\"#mf8e839101d\" y=\"224.64\"/>\r\n      </g>\r\n     </g>\r\n     <g id=\"text_2\">\r\n      <!-- 2 -->\r\n      <defs>\r\n       <path d=\"M 19.1875 8.296875 \r\nL 53.609375 8.296875 \r\nL 53.609375 0 \r\nL 7.328125 0 \r\nL 7.328125 8.296875 \r\nQ 12.9375 14.109375 22.625 23.890625 \r\nQ 32.328125 33.6875 34.8125 36.53125 \r\nQ 39.546875 41.84375 41.421875 45.53125 \r\nQ 43.3125 49.21875 43.3125 52.78125 \r\nQ 43.3125 58.59375 39.234375 62.25 \r\nQ 35.15625 65.921875 28.609375 65.921875 \r\nQ 23.96875 65.921875 18.8125 64.3125 \r\nQ 13.671875 62.703125 7.8125 59.421875 \r\nL 7.8125 69.390625 \r\nQ 13.765625 71.78125 18.9375 73 \r\nQ 24.125 74.21875 28.421875 74.21875 \r\nQ 39.75 74.21875 46.484375 68.546875 \r\nQ 53.21875 62.890625 53.21875 53.421875 \r\nQ 53.21875 48.921875 51.53125 44.890625 \r\nQ 49.859375 40.875 45.40625 35.40625 \r\nQ 44.1875 33.984375 37.640625 27.21875 \r\nQ 31.109375 20.453125 19.1875 8.296875 \r\nz\r\n\" id=\"DejaVuSans-50\"/>\r\n      </defs>\r\n      <g transform=\"translate(77.007386 239.238438)scale(0.1 -0.1)\">\r\n       <use xlink:href=\"#DejaVuSans-50\"/>\r\n      </g>\r\n     </g>\r\n    </g>\r\n    <g id=\"xtick_3\">\r\n     <g id=\"line2d_3\">\r\n      <g>\r\n       <use style=\"stroke:#000000;stroke-width:0.8;\" x=\"118.234091\" xlink:href=\"#mf8e839101d\" y=\"224.64\"/>\r\n      </g>\r\n     </g>\r\n     <g id=\"text_3\">\r\n      <!-- 3 -->\r\n      <defs>\r\n       <path d=\"M 40.578125 39.3125 \r\nQ 47.65625 37.796875 51.625 33 \r\nQ 55.609375 28.21875 55.609375 21.1875 \r\nQ 55.609375 10.40625 48.1875 4.484375 \r\nQ 40.765625 -1.421875 27.09375 -1.421875 \r\nQ 22.515625 -1.421875 17.65625 -0.515625 \r\nQ 12.796875 0.390625 7.625 2.203125 \r\nL 7.625 11.71875 \r\nQ 11.71875 9.328125 16.59375 8.109375 \r\nQ 21.484375 6.890625 26.8125 6.890625 \r\nQ 36.078125 6.890625 40.9375 10.546875 \r\nQ 45.796875 14.203125 45.796875 21.1875 \r\nQ 45.796875 27.640625 41.28125 31.265625 \r\nQ 36.765625 34.90625 28.71875 34.90625 \r\nL 20.21875 34.90625 \r\nL 20.21875 43.015625 \r\nL 29.109375 43.015625 \r\nQ 36.375 43.015625 40.234375 45.921875 \r\nQ 44.09375 48.828125 44.09375 54.296875 \r\nQ 44.09375 59.90625 40.109375 62.90625 \r\nQ 36.140625 65.921875 28.71875 65.921875 \r\nQ 24.65625 65.921875 20.015625 65.03125 \r\nQ 15.375 64.15625 9.8125 62.3125 \r\nL 9.8125 71.09375 \r\nQ 15.4375 72.65625 20.34375 73.4375 \r\nQ 25.25 74.21875 29.59375 74.21875 \r\nQ 40.828125 74.21875 47.359375 69.109375 \r\nQ 53.90625 64.015625 53.90625 55.328125 \r\nQ 53.90625 49.265625 50.4375 45.09375 \r\nQ 46.96875 40.921875 40.578125 39.3125 \r\nz\r\n\" id=\"DejaVuSans-51\"/>\r\n      </defs>\r\n      <g transform=\"translate(115.052841 239.238438)scale(0.1 -0.1)\">\r\n       <use xlink:href=\"#DejaVuSans-51\"/>\r\n      </g>\r\n     </g>\r\n    </g>\r\n    <g id=\"xtick_4\">\r\n     <g id=\"line2d_4\">\r\n      <g>\r\n       <use style=\"stroke:#000000;stroke-width:0.8;\" x=\"156.279545\" xlink:href=\"#mf8e839101d\" y=\"224.64\"/>\r\n      </g>\r\n     </g>\r\n     <g id=\"text_4\">\r\n      <!-- 4 -->\r\n      <defs>\r\n       <path d=\"M 37.796875 64.3125 \r\nL 12.890625 25.390625 \r\nL 37.796875 25.390625 \r\nz\r\nM 35.203125 72.90625 \r\nL 47.609375 72.90625 \r\nL 47.609375 25.390625 \r\nL 58.015625 25.390625 \r\nL 58.015625 17.1875 \r\nL 47.609375 17.1875 \r\nL 47.609375 0 \r\nL 37.796875 0 \r\nL 37.796875 17.1875 \r\nL 4.890625 17.1875 \r\nL 4.890625 26.703125 \r\nz\r\n\" id=\"DejaVuSans-52\"/>\r\n      </defs>\r\n      <g transform=\"translate(153.098295 239.238438)scale(0.1 -0.1)\">\r\n       <use xlink:href=\"#DejaVuSans-52\"/>\r\n      </g>\r\n     </g>\r\n    </g>\r\n    <g id=\"xtick_5\">\r\n     <g id=\"line2d_5\">\r\n      <g>\r\n       <use style=\"stroke:#000000;stroke-width:0.8;\" x=\"194.325\" xlink:href=\"#mf8e839101d\" y=\"224.64\"/>\r\n      </g>\r\n     </g>\r\n     <g id=\"text_5\">\r\n      <!-- 5 -->\r\n      <defs>\r\n       <path d=\"M 10.796875 72.90625 \r\nL 49.515625 72.90625 \r\nL 49.515625 64.59375 \r\nL 19.828125 64.59375 \r\nL 19.828125 46.734375 \r\nQ 21.96875 47.46875 24.109375 47.828125 \r\nQ 26.265625 48.1875 28.421875 48.1875 \r\nQ 40.625 48.1875 47.75 41.5 \r\nQ 54.890625 34.8125 54.890625 23.390625 \r\nQ 54.890625 11.625 47.5625 5.09375 \r\nQ 40.234375 -1.421875 26.90625 -1.421875 \r\nQ 22.3125 -1.421875 17.546875 -0.640625 \r\nQ 12.796875 0.140625 7.71875 1.703125 \r\nL 7.71875 11.625 \r\nQ 12.109375 9.234375 16.796875 8.0625 \r\nQ 21.484375 6.890625 26.703125 6.890625 \r\nQ 35.15625 6.890625 40.078125 11.328125 \r\nQ 45.015625 15.765625 45.015625 23.390625 \r\nQ 45.015625 31 40.078125 35.4375 \r\nQ 35.15625 39.890625 26.703125 39.890625 \r\nQ 22.75 39.890625 18.8125 39.015625 \r\nQ 14.890625 38.140625 10.796875 36.28125 \r\nz\r\n\" id=\"DejaVuSans-53\"/>\r\n      </defs>\r\n      <g transform=\"translate(191.14375 239.238438)scale(0.1 -0.1)\">\r\n       <use xlink:href=\"#DejaVuSans-53\"/>\r\n      </g>\r\n     </g>\r\n    </g>\r\n    <g id=\"xtick_6\">\r\n     <g id=\"line2d_6\">\r\n      <g>\r\n       <use style=\"stroke:#000000;stroke-width:0.8;\" x=\"232.370455\" xlink:href=\"#mf8e839101d\" y=\"224.64\"/>\r\n      </g>\r\n     </g>\r\n     <g id=\"text_6\">\r\n      <!-- 6 -->\r\n      <defs>\r\n       <path d=\"M 33.015625 40.375 \r\nQ 26.375 40.375 22.484375 35.828125 \r\nQ 18.609375 31.296875 18.609375 23.390625 \r\nQ 18.609375 15.53125 22.484375 10.953125 \r\nQ 26.375 6.390625 33.015625 6.390625 \r\nQ 39.65625 6.390625 43.53125 10.953125 \r\nQ 47.40625 15.53125 47.40625 23.390625 \r\nQ 47.40625 31.296875 43.53125 35.828125 \r\nQ 39.65625 40.375 33.015625 40.375 \r\nz\r\nM 52.59375 71.296875 \r\nL 52.59375 62.3125 \r\nQ 48.875 64.0625 45.09375 64.984375 \r\nQ 41.3125 65.921875 37.59375 65.921875 \r\nQ 27.828125 65.921875 22.671875 59.328125 \r\nQ 17.53125 52.734375 16.796875 39.40625 \r\nQ 19.671875 43.65625 24.015625 45.921875 \r\nQ 28.375 48.1875 33.59375 48.1875 \r\nQ 44.578125 48.1875 50.953125 41.515625 \r\nQ 57.328125 34.859375 57.328125 23.390625 \r\nQ 57.328125 12.15625 50.6875 5.359375 \r\nQ 44.046875 -1.421875 33.015625 -1.421875 \r\nQ 20.359375 -1.421875 13.671875 8.265625 \r\nQ 6.984375 17.96875 6.984375 36.375 \r\nQ 6.984375 53.65625 15.1875 63.9375 \r\nQ 23.390625 74.21875 37.203125 74.21875 \r\nQ 40.921875 74.21875 44.703125 73.484375 \r\nQ 48.484375 72.75 52.59375 71.296875 \r\nz\r\n\" id=\"DejaVuSans-54\"/>\r\n      </defs>\r\n      <g transform=\"translate(229.189205 239.238438)scale(0.1 -0.1)\">\r\n       <use xlink:href=\"#DejaVuSans-54\"/>\r\n      </g>\r\n     </g>\r\n    </g>\r\n    <g id=\"xtick_7\">\r\n     <g id=\"line2d_7\">\r\n      <g>\r\n       <use style=\"stroke:#000000;stroke-width:0.8;\" x=\"270.415909\" xlink:href=\"#mf8e839101d\" y=\"224.64\"/>\r\n      </g>\r\n     </g>\r\n     <g id=\"text_7\">\r\n      <!-- 7 -->\r\n      <defs>\r\n       <path d=\"M 8.203125 72.90625 \r\nL 55.078125 72.90625 \r\nL 55.078125 68.703125 \r\nL 28.609375 0 \r\nL 18.3125 0 \r\nL 43.21875 64.59375 \r\nL 8.203125 64.59375 \r\nz\r\n\" id=\"DejaVuSans-55\"/>\r\n      </defs>\r\n      <g transform=\"translate(267.234659 239.238438)scale(0.1 -0.1)\">\r\n       <use xlink:href=\"#DejaVuSans-55\"/>\r\n      </g>\r\n     </g>\r\n    </g>\r\n    <g id=\"xtick_8\">\r\n     <g id=\"line2d_8\">\r\n      <g>\r\n       <use style=\"stroke:#000000;stroke-width:0.8;\" x=\"308.461364\" xlink:href=\"#mf8e839101d\" y=\"224.64\"/>\r\n      </g>\r\n     </g>\r\n     <g id=\"text_8\">\r\n      <!-- 8 -->\r\n      <defs>\r\n       <path d=\"M 31.78125 34.625 \r\nQ 24.75 34.625 20.71875 30.859375 \r\nQ 16.703125 27.09375 16.703125 20.515625 \r\nQ 16.703125 13.921875 20.71875 10.15625 \r\nQ 24.75 6.390625 31.78125 6.390625 \r\nQ 38.8125 6.390625 42.859375 10.171875 \r\nQ 46.921875 13.96875 46.921875 20.515625 \r\nQ 46.921875 27.09375 42.890625 30.859375 \r\nQ 38.875 34.625 31.78125 34.625 \r\nz\r\nM 21.921875 38.8125 \r\nQ 15.578125 40.375 12.03125 44.71875 \r\nQ 8.5 49.078125 8.5 55.328125 \r\nQ 8.5 64.0625 14.71875 69.140625 \r\nQ 20.953125 74.21875 31.78125 74.21875 \r\nQ 42.671875 74.21875 48.875 69.140625 \r\nQ 55.078125 64.0625 55.078125 55.328125 \r\nQ 55.078125 49.078125 51.53125 44.71875 \r\nQ 48 40.375 41.703125 38.8125 \r\nQ 48.828125 37.15625 52.796875 32.3125 \r\nQ 56.78125 27.484375 56.78125 20.515625 \r\nQ 56.78125 9.90625 50.3125 4.234375 \r\nQ 43.84375 -1.421875 31.78125 -1.421875 \r\nQ 19.734375 -1.421875 13.25 4.234375 \r\nQ 6.78125 9.90625 6.78125 20.515625 \r\nQ 6.78125 27.484375 10.78125 32.3125 \r\nQ 14.796875 37.15625 21.921875 38.8125 \r\nz\r\nM 18.3125 54.390625 \r\nQ 18.3125 48.734375 21.84375 45.5625 \r\nQ 25.390625 42.390625 31.78125 42.390625 \r\nQ 38.140625 42.390625 41.71875 45.5625 \r\nQ 45.3125 48.734375 45.3125 54.390625 \r\nQ 45.3125 60.0625 41.71875 63.234375 \r\nQ 38.140625 66.40625 31.78125 66.40625 \r\nQ 25.390625 66.40625 21.84375 63.234375 \r\nQ 18.3125 60.0625 18.3125 54.390625 \r\nz\r\n\" id=\"DejaVuSans-56\"/>\r\n      </defs>\r\n      <g transform=\"translate(305.280114 239.238438)scale(0.1 -0.1)\">\r\n       <use xlink:href=\"#DejaVuSans-56\"/>\r\n      </g>\r\n     </g>\r\n    </g>\r\n    <g id=\"xtick_9\">\r\n     <g id=\"line2d_9\">\r\n      <g>\r\n       <use style=\"stroke:#000000;stroke-width:0.8;\" x=\"346.506818\" xlink:href=\"#mf8e839101d\" y=\"224.64\"/>\r\n      </g>\r\n     </g>\r\n     <g id=\"text_9\">\r\n      <!-- 9 -->\r\n      <defs>\r\n       <path d=\"M 10.984375 1.515625 \r\nL 10.984375 10.5 \r\nQ 14.703125 8.734375 18.5 7.8125 \r\nQ 22.3125 6.890625 25.984375 6.890625 \r\nQ 35.75 6.890625 40.890625 13.453125 \r\nQ 46.046875 20.015625 46.78125 33.40625 \r\nQ 43.953125 29.203125 39.59375 26.953125 \r\nQ 35.25 24.703125 29.984375 24.703125 \r\nQ 19.046875 24.703125 12.671875 31.3125 \r\nQ 6.296875 37.9375 6.296875 49.421875 \r\nQ 6.296875 60.640625 12.9375 67.421875 \r\nQ 19.578125 74.21875 30.609375 74.21875 \r\nQ 43.265625 74.21875 49.921875 64.515625 \r\nQ 56.59375 54.828125 56.59375 36.375 \r\nQ 56.59375 19.140625 48.40625 8.859375 \r\nQ 40.234375 -1.421875 26.421875 -1.421875 \r\nQ 22.703125 -1.421875 18.890625 -0.6875 \r\nQ 15.09375 0.046875 10.984375 1.515625 \r\nz\r\nM 30.609375 32.421875 \r\nQ 37.25 32.421875 41.125 36.953125 \r\nQ 45.015625 41.5 45.015625 49.421875 \r\nQ 45.015625 57.28125 41.125 61.84375 \r\nQ 37.25 66.40625 30.609375 66.40625 \r\nQ 23.96875 66.40625 20.09375 61.84375 \r\nQ 16.21875 57.28125 16.21875 49.421875 \r\nQ 16.21875 41.5 20.09375 36.953125 \r\nQ 23.96875 32.421875 30.609375 32.421875 \r\nz\r\n\" id=\"DejaVuSans-57\"/>\r\n      </defs>\r\n      <g transform=\"translate(343.325568 239.238438)scale(0.1 -0.1)\">\r\n       <use xlink:href=\"#DejaVuSans-57\"/>\r\n      </g>\r\n     </g>\r\n    </g>\r\n   </g>\r\n   <g id=\"matplotlib.axis_2\">\r\n    <g id=\"ytick_1\">\r\n     <g id=\"line2d_10\">\r\n      <defs>\r\n       <path d=\"M 0 0 \r\nL -3.5 0 \r\n\" id=\"m04d6063485\" style=\"stroke:#000000;stroke-width:0.8;\"/>\r\n      </defs>\r\n      <g>\r\n       <use style=\"stroke:#000000;stroke-width:0.8;\" x=\"26.925\" xlink:href=\"#m04d6063485\" y=\"222.077576\"/>\r\n      </g>\r\n     </g>\r\n     <g id=\"text_10\">\r\n      <!-- 0 -->\r\n      <defs>\r\n       <path d=\"M 31.78125 66.40625 \r\nQ 24.171875 66.40625 20.328125 58.90625 \r\nQ 16.5 51.421875 16.5 36.375 \r\nQ 16.5 21.390625 20.328125 13.890625 \r\nQ 24.171875 6.390625 31.78125 6.390625 \r\nQ 39.453125 6.390625 43.28125 13.890625 \r\nQ 47.125 21.390625 47.125 36.375 \r\nQ 47.125 51.421875 43.28125 58.90625 \r\nQ 39.453125 66.40625 31.78125 66.40625 \r\nz\r\nM 31.78125 74.21875 \r\nQ 44.046875 74.21875 50.515625 64.515625 \r\nQ 56.984375 54.828125 56.984375 36.375 \r\nQ 56.984375 17.96875 50.515625 8.265625 \r\nQ 44.046875 -1.421875 31.78125 -1.421875 \r\nQ 19.53125 -1.421875 13.0625 8.265625 \r\nQ 6.59375 17.96875 6.59375 36.375 \r\nQ 6.59375 54.828125 13.0625 64.515625 \r\nQ 19.53125 74.21875 31.78125 74.21875 \r\nz\r\n\" id=\"DejaVuSans-48\"/>\r\n      </defs>\r\n      <g transform=\"translate(13.5625 225.876795)scale(0.1 -0.1)\">\r\n       <use xlink:href=\"#DejaVuSans-48\"/>\r\n      </g>\r\n     </g>\r\n    </g>\r\n    <g id=\"ytick_2\">\r\n     <g id=\"line2d_11\">\r\n      <g>\r\n       <use style=\"stroke:#000000;stroke-width:0.8;\" x=\"26.925\" xlink:href=\"#m04d6063485\" y=\"185.471515\"/>\r\n      </g>\r\n     </g>\r\n     <g id=\"text_11\">\r\n      <!-- 10 -->\r\n      <g transform=\"translate(7.2 189.270734)scale(0.1 -0.1)\">\r\n       <use xlink:href=\"#DejaVuSans-49\"/>\r\n       <use x=\"63.623047\" xlink:href=\"#DejaVuSans-48\"/>\r\n      </g>\r\n     </g>\r\n    </g>\r\n    <g id=\"ytick_3\">\r\n     <g id=\"line2d_12\">\r\n      <g>\r\n       <use style=\"stroke:#000000;stroke-width:0.8;\" x=\"26.925\" xlink:href=\"#m04d6063485\" y=\"148.865455\"/>\r\n      </g>\r\n     </g>\r\n     <g id=\"text_12\">\r\n      <!-- 20 -->\r\n      <g transform=\"translate(7.2 152.664673)scale(0.1 -0.1)\">\r\n       <use xlink:href=\"#DejaVuSans-50\"/>\r\n       <use x=\"63.623047\" xlink:href=\"#DejaVuSans-48\"/>\r\n      </g>\r\n     </g>\r\n    </g>\r\n    <g id=\"ytick_4\">\r\n     <g id=\"line2d_13\">\r\n      <g>\r\n       <use style=\"stroke:#000000;stroke-width:0.8;\" x=\"26.925\" xlink:href=\"#m04d6063485\" y=\"112.259394\"/>\r\n      </g>\r\n     </g>\r\n     <g id=\"text_13\">\r\n      <!-- 30 -->\r\n      <g transform=\"translate(7.2 116.058613)scale(0.1 -0.1)\">\r\n       <use xlink:href=\"#DejaVuSans-51\"/>\r\n       <use x=\"63.623047\" xlink:href=\"#DejaVuSans-48\"/>\r\n      </g>\r\n     </g>\r\n    </g>\r\n    <g id=\"ytick_5\">\r\n     <g id=\"line2d_14\">\r\n      <g>\r\n       <use style=\"stroke:#000000;stroke-width:0.8;\" x=\"26.925\" xlink:href=\"#m04d6063485\" y=\"75.653333\"/>\r\n      </g>\r\n     </g>\r\n     <g id=\"text_14\">\r\n      <!-- 40 -->\r\n      <g transform=\"translate(7.2 79.452552)scale(0.1 -0.1)\">\r\n       <use xlink:href=\"#DejaVuSans-52\"/>\r\n       <use x=\"63.623047\" xlink:href=\"#DejaVuSans-48\"/>\r\n      </g>\r\n     </g>\r\n    </g>\r\n    <g id=\"ytick_6\">\r\n     <g id=\"line2d_15\">\r\n      <g>\r\n       <use style=\"stroke:#000000;stroke-width:0.8;\" x=\"26.925\" xlink:href=\"#m04d6063485\" y=\"39.047273\"/>\r\n      </g>\r\n     </g>\r\n     <g id=\"text_15\">\r\n      <!-- 50 -->\r\n      <g transform=\"translate(7.2 42.846491)scale(0.1 -0.1)\">\r\n       <use xlink:href=\"#DejaVuSans-53\"/>\r\n       <use x=\"63.623047\" xlink:href=\"#DejaVuSans-48\"/>\r\n      </g>\r\n     </g>\r\n    </g>\r\n   </g>\r\n   <g id=\"line2d_16\">\r\n    <path clip-path=\"url(#pd178204d8e)\" d=\"M 42.143182 211.095758 \r\nL 80.188636 189.132121 \r\nL 118.234091 181.810909 \r\nL 156.279545 174.489697 \r\nL 194.325 28.065455 \r\nL 232.370455 17.083636 \r\nL 270.415909 137.883636 \r\nL 308.461364 170.829091 \r\nL 346.506818 214.756364 \r\n\" style=\"fill:none;stroke:#1f77b4;stroke-linecap:square;stroke-width:1.5;\"/>\r\n   </g>\r\n   <g id=\"patch_3\">\r\n    <path d=\"M 26.925 224.64 \r\nL 26.925 7.2 \r\n\" style=\"fill:none;stroke:#000000;stroke-linecap:square;stroke-linejoin:miter;stroke-width:0.8;\"/>\r\n   </g>\r\n   <g id=\"patch_4\">\r\n    <path d=\"M 361.725 224.64 \r\nL 361.725 7.2 \r\n\" style=\"fill:none;stroke:#000000;stroke-linecap:square;stroke-linejoin:miter;stroke-width:0.8;\"/>\r\n   </g>\r\n   <g id=\"patch_5\">\r\n    <path d=\"M 26.925 224.64 \r\nL 361.725 224.64 \r\n\" style=\"fill:none;stroke:#000000;stroke-linecap:square;stroke-linejoin:miter;stroke-width:0.8;\"/>\r\n   </g>\r\n   <g id=\"patch_6\">\r\n    <path d=\"M 26.925 7.2 \r\nL 361.725 7.2 \r\n\" style=\"fill:none;stroke:#000000;stroke-linecap:square;stroke-linejoin:miter;stroke-width:0.8;\"/>\r\n   </g>\r\n   <g id=\"legend_1\">\r\n    <g id=\"patch_7\">\r\n     <path d=\"M 84.425 219.64 \r\nL 304.225 219.64 \r\nQ 306.225 219.64 306.225 217.64 \r\nL 306.225 203.961875 \r\nQ 306.225 201.961875 304.225 201.961875 \r\nL 84.425 201.961875 \r\nQ 82.425 201.961875 82.425 203.961875 \r\nL 82.425 217.64 \r\nQ 82.425 219.64 84.425 219.64 \r\nz\r\n\" style=\"fill:#ffffff;opacity:0.8;stroke:#cccccc;stroke-linejoin:miter;\"/>\r\n    </g>\r\n    <g id=\"line2d_17\">\r\n     <path d=\"M 86.425 210.060313 \r\nL 106.425 210.060313 \r\n\" style=\"fill:none;stroke:#1f77b4;stroke-linecap:square;stroke-width:1.5;\"/>\r\n    </g>\r\n    <g id=\"line2d_18\"/>\r\n    <g id=\"text_16\">\r\n     <!-- number of paths per number of steps -->\r\n     <defs>\r\n      <path d=\"M 54.890625 33.015625 \r\nL 54.890625 0 \r\nL 45.90625 0 \r\nL 45.90625 32.71875 \r\nQ 45.90625 40.484375 42.875 44.328125 \r\nQ 39.84375 48.1875 33.796875 48.1875 \r\nQ 26.515625 48.1875 22.3125 43.546875 \r\nQ 18.109375 38.921875 18.109375 30.90625 \r\nL 18.109375 0 \r\nL 9.078125 0 \r\nL 9.078125 54.6875 \r\nL 18.109375 54.6875 \r\nL 18.109375 46.1875 \r\nQ 21.34375 51.125 25.703125 53.5625 \r\nQ 30.078125 56 35.796875 56 \r\nQ 45.21875 56 50.046875 50.171875 \r\nQ 54.890625 44.34375 54.890625 33.015625 \r\nz\r\n\" id=\"DejaVuSans-110\"/>\r\n      <path d=\"M 8.5 21.578125 \r\nL 8.5 54.6875 \r\nL 17.484375 54.6875 \r\nL 17.484375 21.921875 \r\nQ 17.484375 14.15625 20.5 10.265625 \r\nQ 23.53125 6.390625 29.59375 6.390625 \r\nQ 36.859375 6.390625 41.078125 11.03125 \r\nQ 45.3125 15.671875 45.3125 23.6875 \r\nL 45.3125 54.6875 \r\nL 54.296875 54.6875 \r\nL 54.296875 0 \r\nL 45.3125 0 \r\nL 45.3125 8.40625 \r\nQ 42.046875 3.421875 37.71875 1 \r\nQ 33.40625 -1.421875 27.6875 -1.421875 \r\nQ 18.265625 -1.421875 13.375 4.4375 \r\nQ 8.5 10.296875 8.5 21.578125 \r\nz\r\nM 31.109375 56 \r\nz\r\n\" id=\"DejaVuSans-117\"/>\r\n      <path d=\"M 52 44.1875 \r\nQ 55.375 50.25 60.0625 53.125 \r\nQ 64.75 56 71.09375 56 \r\nQ 79.640625 56 84.28125 50.015625 \r\nQ 88.921875 44.046875 88.921875 33.015625 \r\nL 88.921875 0 \r\nL 79.890625 0 \r\nL 79.890625 32.71875 \r\nQ 79.890625 40.578125 77.09375 44.375 \r\nQ 74.3125 48.1875 68.609375 48.1875 \r\nQ 61.625 48.1875 57.5625 43.546875 \r\nQ 53.515625 38.921875 53.515625 30.90625 \r\nL 53.515625 0 \r\nL 44.484375 0 \r\nL 44.484375 32.71875 \r\nQ 44.484375 40.625 41.703125 44.40625 \r\nQ 38.921875 48.1875 33.109375 48.1875 \r\nQ 26.21875 48.1875 22.15625 43.53125 \r\nQ 18.109375 38.875 18.109375 30.90625 \r\nL 18.109375 0 \r\nL 9.078125 0 \r\nL 9.078125 54.6875 \r\nL 18.109375 54.6875 \r\nL 18.109375 46.1875 \r\nQ 21.1875 51.21875 25.484375 53.609375 \r\nQ 29.78125 56 35.6875 56 \r\nQ 41.65625 56 45.828125 52.96875 \r\nQ 50 49.953125 52 44.1875 \r\nz\r\n\" id=\"DejaVuSans-109\"/>\r\n      <path d=\"M 48.6875 27.296875 \r\nQ 48.6875 37.203125 44.609375 42.84375 \r\nQ 40.53125 48.484375 33.40625 48.484375 \r\nQ 26.265625 48.484375 22.1875 42.84375 \r\nQ 18.109375 37.203125 18.109375 27.296875 \r\nQ 18.109375 17.390625 22.1875 11.75 \r\nQ 26.265625 6.109375 33.40625 6.109375 \r\nQ 40.53125 6.109375 44.609375 11.75 \r\nQ 48.6875 17.390625 48.6875 27.296875 \r\nz\r\nM 18.109375 46.390625 \r\nQ 20.953125 51.265625 25.265625 53.625 \r\nQ 29.59375 56 35.59375 56 \r\nQ 45.5625 56 51.78125 48.09375 \r\nQ 58.015625 40.1875 58.015625 27.296875 \r\nQ 58.015625 14.40625 51.78125 6.484375 \r\nQ 45.5625 -1.421875 35.59375 -1.421875 \r\nQ 29.59375 -1.421875 25.265625 0.953125 \r\nQ 20.953125 3.328125 18.109375 8.203125 \r\nL 18.109375 0 \r\nL 9.078125 0 \r\nL 9.078125 75.984375 \r\nL 18.109375 75.984375 \r\nz\r\n\" id=\"DejaVuSans-98\"/>\r\n      <path d=\"M 56.203125 29.59375 \r\nL 56.203125 25.203125 \r\nL 14.890625 25.203125 \r\nQ 15.484375 15.921875 20.484375 11.0625 \r\nQ 25.484375 6.203125 34.421875 6.203125 \r\nQ 39.59375 6.203125 44.453125 7.46875 \r\nQ 49.3125 8.734375 54.109375 11.28125 \r\nL 54.109375 2.78125 \r\nQ 49.265625 0.734375 44.1875 -0.34375 \r\nQ 39.109375 -1.421875 33.890625 -1.421875 \r\nQ 20.796875 -1.421875 13.15625 6.1875 \r\nQ 5.515625 13.8125 5.515625 26.8125 \r\nQ 5.515625 40.234375 12.765625 48.109375 \r\nQ 20.015625 56 32.328125 56 \r\nQ 43.359375 56 49.78125 48.890625 \r\nQ 56.203125 41.796875 56.203125 29.59375 \r\nz\r\nM 47.21875 32.234375 \r\nQ 47.125 39.59375 43.09375 43.984375 \r\nQ 39.0625 48.390625 32.421875 48.390625 \r\nQ 24.90625 48.390625 20.390625 44.140625 \r\nQ 15.875 39.890625 15.1875 32.171875 \r\nz\r\n\" id=\"DejaVuSans-101\"/>\r\n      <path d=\"M 41.109375 46.296875 \r\nQ 39.59375 47.171875 37.8125 47.578125 \r\nQ 36.03125 48 33.890625 48 \r\nQ 26.265625 48 22.1875 43.046875 \r\nQ 18.109375 38.09375 18.109375 28.8125 \r\nL 18.109375 0 \r\nL 9.078125 0 \r\nL 9.078125 54.6875 \r\nL 18.109375 54.6875 \r\nL 18.109375 46.1875 \r\nQ 20.953125 51.171875 25.484375 53.578125 \r\nQ 30.03125 56 36.53125 56 \r\nQ 37.453125 56 38.578125 55.875 \r\nQ 39.703125 55.765625 41.0625 55.515625 \r\nz\r\n\" id=\"DejaVuSans-114\"/>\r\n      <path id=\"DejaVuSans-32\"/>\r\n      <path d=\"M 30.609375 48.390625 \r\nQ 23.390625 48.390625 19.1875 42.75 \r\nQ 14.984375 37.109375 14.984375 27.296875 \r\nQ 14.984375 17.484375 19.15625 11.84375 \r\nQ 23.34375 6.203125 30.609375 6.203125 \r\nQ 37.796875 6.203125 41.984375 11.859375 \r\nQ 46.1875 17.53125 46.1875 27.296875 \r\nQ 46.1875 37.015625 41.984375 42.703125 \r\nQ 37.796875 48.390625 30.609375 48.390625 \r\nz\r\nM 30.609375 56 \r\nQ 42.328125 56 49.015625 48.375 \r\nQ 55.71875 40.765625 55.71875 27.296875 \r\nQ 55.71875 13.875 49.015625 6.21875 \r\nQ 42.328125 -1.421875 30.609375 -1.421875 \r\nQ 18.84375 -1.421875 12.171875 6.21875 \r\nQ 5.515625 13.875 5.515625 27.296875 \r\nQ 5.515625 40.765625 12.171875 48.375 \r\nQ 18.84375 56 30.609375 56 \r\nz\r\n\" id=\"DejaVuSans-111\"/>\r\n      <path d=\"M 37.109375 75.984375 \r\nL 37.109375 68.5 \r\nL 28.515625 68.5 \r\nQ 23.6875 68.5 21.796875 66.546875 \r\nQ 19.921875 64.59375 19.921875 59.515625 \r\nL 19.921875 54.6875 \r\nL 34.71875 54.6875 \r\nL 34.71875 47.703125 \r\nL 19.921875 47.703125 \r\nL 19.921875 0 \r\nL 10.890625 0 \r\nL 10.890625 47.703125 \r\nL 2.296875 47.703125 \r\nL 2.296875 54.6875 \r\nL 10.890625 54.6875 \r\nL 10.890625 58.5 \r\nQ 10.890625 67.625 15.140625 71.796875 \r\nQ 19.390625 75.984375 28.609375 75.984375 \r\nz\r\n\" id=\"DejaVuSans-102\"/>\r\n      <path d=\"M 18.109375 8.203125 \r\nL 18.109375 -20.796875 \r\nL 9.078125 -20.796875 \r\nL 9.078125 54.6875 \r\nL 18.109375 54.6875 \r\nL 18.109375 46.390625 \r\nQ 20.953125 51.265625 25.265625 53.625 \r\nQ 29.59375 56 35.59375 56 \r\nQ 45.5625 56 51.78125 48.09375 \r\nQ 58.015625 40.1875 58.015625 27.296875 \r\nQ 58.015625 14.40625 51.78125 6.484375 \r\nQ 45.5625 -1.421875 35.59375 -1.421875 \r\nQ 29.59375 -1.421875 25.265625 0.953125 \r\nQ 20.953125 3.328125 18.109375 8.203125 \r\nz\r\nM 48.6875 27.296875 \r\nQ 48.6875 37.203125 44.609375 42.84375 \r\nQ 40.53125 48.484375 33.40625 48.484375 \r\nQ 26.265625 48.484375 22.1875 42.84375 \r\nQ 18.109375 37.203125 18.109375 27.296875 \r\nQ 18.109375 17.390625 22.1875 11.75 \r\nQ 26.265625 6.109375 33.40625 6.109375 \r\nQ 40.53125 6.109375 44.609375 11.75 \r\nQ 48.6875 17.390625 48.6875 27.296875 \r\nz\r\n\" id=\"DejaVuSans-112\"/>\r\n      <path d=\"M 34.28125 27.484375 \r\nQ 23.390625 27.484375 19.1875 25 \r\nQ 14.984375 22.515625 14.984375 16.5 \r\nQ 14.984375 11.71875 18.140625 8.90625 \r\nQ 21.296875 6.109375 26.703125 6.109375 \r\nQ 34.1875 6.109375 38.703125 11.40625 \r\nQ 43.21875 16.703125 43.21875 25.484375 \r\nL 43.21875 27.484375 \r\nz\r\nM 52.203125 31.203125 \r\nL 52.203125 0 \r\nL 43.21875 0 \r\nL 43.21875 8.296875 \r\nQ 40.140625 3.328125 35.546875 0.953125 \r\nQ 30.953125 -1.421875 24.3125 -1.421875 \r\nQ 15.921875 -1.421875 10.953125 3.296875 \r\nQ 6 8.015625 6 15.921875 \r\nQ 6 25.140625 12.171875 29.828125 \r\nQ 18.359375 34.515625 30.609375 34.515625 \r\nL 43.21875 34.515625 \r\nL 43.21875 35.40625 \r\nQ 43.21875 41.609375 39.140625 45 \r\nQ 35.0625 48.390625 27.6875 48.390625 \r\nQ 23 48.390625 18.546875 47.265625 \r\nQ 14.109375 46.140625 10.015625 43.890625 \r\nL 10.015625 52.203125 \r\nQ 14.9375 54.109375 19.578125 55.046875 \r\nQ 24.21875 56 28.609375 56 \r\nQ 40.484375 56 46.34375 49.84375 \r\nQ 52.203125 43.703125 52.203125 31.203125 \r\nz\r\n\" id=\"DejaVuSans-97\"/>\r\n      <path d=\"M 18.3125 70.21875 \r\nL 18.3125 54.6875 \r\nL 36.8125 54.6875 \r\nL 36.8125 47.703125 \r\nL 18.3125 47.703125 \r\nL 18.3125 18.015625 \r\nQ 18.3125 11.328125 20.140625 9.421875 \r\nQ 21.96875 7.515625 27.59375 7.515625 \r\nL 36.8125 7.515625 \r\nL 36.8125 0 \r\nL 27.59375 0 \r\nQ 17.1875 0 13.234375 3.875 \r\nQ 9.28125 7.765625 9.28125 18.015625 \r\nL 9.28125 47.703125 \r\nL 2.6875 47.703125 \r\nL 2.6875 54.6875 \r\nL 9.28125 54.6875 \r\nL 9.28125 70.21875 \r\nz\r\n\" id=\"DejaVuSans-116\"/>\r\n      <path d=\"M 54.890625 33.015625 \r\nL 54.890625 0 \r\nL 45.90625 0 \r\nL 45.90625 32.71875 \r\nQ 45.90625 40.484375 42.875 44.328125 \r\nQ 39.84375 48.1875 33.796875 48.1875 \r\nQ 26.515625 48.1875 22.3125 43.546875 \r\nQ 18.109375 38.921875 18.109375 30.90625 \r\nL 18.109375 0 \r\nL 9.078125 0 \r\nL 9.078125 75.984375 \r\nL 18.109375 75.984375 \r\nL 18.109375 46.1875 \r\nQ 21.34375 51.125 25.703125 53.5625 \r\nQ 30.078125 56 35.796875 56 \r\nQ 45.21875 56 50.046875 50.171875 \r\nQ 54.890625 44.34375 54.890625 33.015625 \r\nz\r\n\" id=\"DejaVuSans-104\"/>\r\n      <path d=\"M 44.28125 53.078125 \r\nL 44.28125 44.578125 \r\nQ 40.484375 46.53125 36.375 47.5 \r\nQ 32.28125 48.484375 27.875 48.484375 \r\nQ 21.1875 48.484375 17.84375 46.4375 \r\nQ 14.5 44.390625 14.5 40.28125 \r\nQ 14.5 37.15625 16.890625 35.375 \r\nQ 19.28125 33.59375 26.515625 31.984375 \r\nL 29.59375 31.296875 \r\nQ 39.15625 29.25 43.1875 25.515625 \r\nQ 47.21875 21.78125 47.21875 15.09375 \r\nQ 47.21875 7.46875 41.1875 3.015625 \r\nQ 35.15625 -1.421875 24.609375 -1.421875 \r\nQ 20.21875 -1.421875 15.453125 -0.5625 \r\nQ 10.6875 0.296875 5.421875 2 \r\nL 5.421875 11.28125 \r\nQ 10.40625 8.6875 15.234375 7.390625 \r\nQ 20.0625 6.109375 24.8125 6.109375 \r\nQ 31.15625 6.109375 34.5625 8.28125 \r\nQ 37.984375 10.453125 37.984375 14.40625 \r\nQ 37.984375 18.0625 35.515625 20.015625 \r\nQ 33.0625 21.96875 24.703125 23.78125 \r\nL 21.578125 24.515625 \r\nQ 13.234375 26.265625 9.515625 29.90625 \r\nQ 5.8125 33.546875 5.8125 39.890625 \r\nQ 5.8125 47.609375 11.28125 51.796875 \r\nQ 16.75 56 26.8125 56 \r\nQ 31.78125 56 36.171875 55.265625 \r\nQ 40.578125 54.546875 44.28125 53.078125 \r\nz\r\n\" id=\"DejaVuSans-115\"/>\r\n     </defs>\r\n     <g transform=\"translate(114.425 213.560313)scale(0.1 -0.1)\">\r\n      <use xlink:href=\"#DejaVuSans-110\"/>\r\n      <use x=\"63.378906\" xlink:href=\"#DejaVuSans-117\"/>\r\n      <use x=\"126.757812\" xlink:href=\"#DejaVuSans-109\"/>\r\n      <use x=\"224.169922\" xlink:href=\"#DejaVuSans-98\"/>\r\n      <use x=\"287.646484\" xlink:href=\"#DejaVuSans-101\"/>\r\n      <use x=\"349.169922\" xlink:href=\"#DejaVuSans-114\"/>\r\n      <use x=\"390.283203\" xlink:href=\"#DejaVuSans-32\"/>\r\n      <use x=\"422.070312\" xlink:href=\"#DejaVuSans-111\"/>\r\n      <use x=\"483.251953\" xlink:href=\"#DejaVuSans-102\"/>\r\n      <use x=\"518.457031\" xlink:href=\"#DejaVuSans-32\"/>\r\n      <use x=\"550.244141\" xlink:href=\"#DejaVuSans-112\"/>\r\n      <use x=\"613.720703\" xlink:href=\"#DejaVuSans-97\"/>\r\n      <use x=\"675\" xlink:href=\"#DejaVuSans-116\"/>\r\n      <use x=\"714.208984\" xlink:href=\"#DejaVuSans-104\"/>\r\n      <use x=\"777.587891\" xlink:href=\"#DejaVuSans-115\"/>\r\n      <use x=\"829.6875\" xlink:href=\"#DejaVuSans-32\"/>\r\n      <use x=\"861.474609\" xlink:href=\"#DejaVuSans-112\"/>\r\n      <use x=\"924.951172\" xlink:href=\"#DejaVuSans-101\"/>\r\n      <use x=\"986.474609\" xlink:href=\"#DejaVuSans-114\"/>\r\n      <use x=\"1027.587891\" xlink:href=\"#DejaVuSans-32\"/>\r\n      <use x=\"1059.375\" xlink:href=\"#DejaVuSans-110\"/>\r\n      <use x=\"1122.753906\" xlink:href=\"#DejaVuSans-117\"/>\r\n      <use x=\"1186.132812\" xlink:href=\"#DejaVuSans-109\"/>\r\n      <use x=\"1283.544922\" xlink:href=\"#DejaVuSans-98\"/>\r\n      <use x=\"1347.021484\" xlink:href=\"#DejaVuSans-101\"/>\r\n      <use x=\"1408.544922\" xlink:href=\"#DejaVuSans-114\"/>\r\n      <use x=\"1449.658203\" xlink:href=\"#DejaVuSans-32\"/>\r\n      <use x=\"1481.445312\" xlink:href=\"#DejaVuSans-111\"/>\r\n      <use x=\"1542.626953\" xlink:href=\"#DejaVuSans-102\"/>\r\n      <use x=\"1577.832031\" xlink:href=\"#DejaVuSans-32\"/>\r\n      <use x=\"1609.619141\" xlink:href=\"#DejaVuSans-115\"/>\r\n      <use x=\"1661.71875\" xlink:href=\"#DejaVuSans-116\"/>\r\n      <use x=\"1700.927734\" xlink:href=\"#DejaVuSans-101\"/>\r\n      <use x=\"1762.451172\" xlink:href=\"#DejaVuSans-112\"/>\r\n      <use x=\"1825.927734\" xlink:href=\"#DejaVuSans-115\"/>\r\n     </g>\r\n    </g>\r\n   </g>\r\n  </g>\r\n </g>\r\n <defs>\r\n  <clipPath id=\"pd178204d8e\">\r\n   <rect height=\"217.44\" width=\"334.8\" x=\"26.925\" y=\"7.2\"/>\r\n  </clipPath>\r\n </defs>\r\n</svg>\r\n",
      "image/png": "[encoded data removed]"
     },
     "metadata": {
      "needs_background": "light"
     }
    }
   ],
   "source": [
    "len_stat = dataset.groupby([\"id_camino\"]).size().reset_index(name='counts')\n",
    "plt.plot(len_stat.groupby([\"counts\"]).size(), label =\"number of paths per number of steps\")\n",
    "plt.legend()"
   ]
  },
  {
   "cell_type": "markdown",
   "metadata": {},
   "source": [
    "We will cut at 4 steps (n=5) and remove the path with less than 4 steps"
   ]
  },
  {
   "cell_type": "code",
   "execution_count": 27,
   "metadata": {},
   "outputs": [
    {
     "output_type": "execute_result",
     "data": {
      "text/plain": "    id_camino  id_in_seq                                      current_state  \\\n20          8          0                                 [0, 0, 1, 0, 0, 0]   \n21          8          1  [557.2873618367145, -88.35404417578944, 1.9044...   \n22          8          2  [1114.996313868046, -148.75498736770038, 1.794...   \n23          8          3  [1676.8499244084107, -212.92073093890662, 1.78...   \n24          8          4  [2237.5875630469245, -276.99235127691014, 1.79...   \n\n                                           goal_state  out_action   timesteps  \n20  [3355.2520452554118, -366.8261847192736, 1.151...           2  315.345581  \n21  [3355.2520452554118, -366.8261847192736, 1.151...           2  315.345581  \n22  [3355.2520452554118, -366.8261847192736, 1.151...           2  315.345581  \n23  [3355.2520452554118, -366.8261847192736, 1.151...           2  315.345581  \n24  [3355.2520452554118, -366.8261847192736, 1.151...           3  315.345581  ",
      "text/html": "<div>\n<style scoped>\n    .dataframe tbody tr th:only-of-type {\n        vertical-align: middle;\n    }\n\n    .dataframe tbody tr th {\n        vertical-align: top;\n    }\n\n    .dataframe thead th {\n        text-align: right;\n    }\n</style>\n<table border=\"1\" class=\"dataframe\">\n  <thead>\n    <tr style=\"text-align: right;\">\n      <th></th>\n      <th>id_camino</th>\n      <th>id_in_seq</th>\n      <th>current_state</th>\n      <th>goal_state</th>\n      <th>out_action</th>\n      <th>timesteps</th>\n    </tr>\n  </thead>\n  <tbody>\n    <tr>\n      <th>20</th>\n      <td>8</td>\n      <td>0</td>\n      <td>[0, 0, 1, 0, 0, 0]</td>\n      <td>[3355.2520452554118, -366.8261847192736, 1.151...</td>\n      <td>2</td>\n      <td>315.345581</td>\n    </tr>\n    <tr>\n      <th>21</th>\n      <td>8</td>\n      <td>1</td>\n      <td>[557.2873618367145, -88.35404417578944, 1.9044...</td>\n      <td>[3355.2520452554118, -366.8261847192736, 1.151...</td>\n      <td>2</td>\n      <td>315.345581</td>\n    </tr>\n    <tr>\n      <th>22</th>\n      <td>8</td>\n      <td>2</td>\n      <td>[1114.996313868046, -148.75498736770038, 1.794...</td>\n      <td>[3355.2520452554118, -366.8261847192736, 1.151...</td>\n      <td>2</td>\n      <td>315.345581</td>\n    </tr>\n    <tr>\n      <th>23</th>\n      <td>8</td>\n      <td>3</td>\n      <td>[1676.8499244084107, -212.92073093890662, 1.78...</td>\n      <td>[3355.2520452554118, -366.8261847192736, 1.151...</td>\n      <td>2</td>\n      <td>315.345581</td>\n    </tr>\n    <tr>\n      <th>24</th>\n      <td>8</td>\n      <td>4</td>\n      <td>[2237.5875630469245, -276.99235127691014, 1.79...</td>\n      <td>[3355.2520452554118, -366.8261847192736, 1.151...</td>\n      <td>3</td>\n      <td>315.345581</td>\n    </tr>\n  </tbody>\n</table>\n</div>"
     },
     "metadata": {},
     "execution_count": 27
    }
   ],
   "source": [
    "long_paths = len_stat[len_stat.counts>4]\n",
    "red_dataset = dataset.loc[dataset[\"id_camino\"].isin(long_paths[\"id_camino\"])]\n",
    "reg_dataset= red_dataset[red_dataset.id_in_seq<5] \n",
    "reg_dataset.head()"
   ]
  },
  {
   "cell_type": "markdown",
   "metadata": {},
   "source": [
    "Finaly, the new goal state is the last state of each path\n",
    "goal state = Path[4] "
   ]
  },
  {
   "cell_type": "code",
   "execution_count": 28,
   "metadata": {
    "tags": [
     "outputPrepend",
     "outputPrepend",
     "outputPrepend",
     "outputPrepend",
     "outputPrepend",
     "outputPrepend",
     "outputPrepend",
     "outputPrepend",
     "outputPrepend",
     "outputPrepend",
     "outputPrepend",
     "outputPrepend",
     "outputPrepend",
     "outputPrepend",
     "outputPrepend",
     "outputPrepend",
     "outputPrepend",
     "outputPrepend",
     "outputPrepend",
     "outputPrepend",
     "outputPrepend",
     "outputPrepend",
     "outputPrepend",
     "outputPrepend",
     "outputPrepend",
     "outputPrepend",
     "outputPrepend",
     "outputPrepend",
     "outputPrepend",
     "outputPrepend",
     "outputPrepend",
     "outputPrepend",
     "outputPrepend",
     "outputPrepend",
     "outputPrepend",
     "outputPrepend",
     "outputPrepend",
     "outputPrepend",
     "outputPrepend",
     "outputPrepend",
     "outputPrepend",
     "outputPrepend",
     "outputPrepend",
     "outputPrepend",
     "outputPrepend",
     "outputPrepend",
     "outputPrepend",
     "outputPrepend",
     "outputPrepend",
     "outputPrepend",
     "outputPrepend",
     "outputPrepend",
     "outputPrepend",
     "outputPrepend",
     "outputPrepend",
     "outputPrepend",
     "outputPrepend",
     "outputPrepend",
     "outputPrepend",
     "outputPrepend",
     "outputPrepend",
     "outputPrepend",
     "outputPrepend",
     "outputPrepend",
     "outputPrepend",
     "outputPrepend",
     "outputPrepend",
     "outputPrepend",
     "outputPrepend",
     "outputPrepend",
     "outputPrepend",
     "outputPrepend",
     "outputPrepend",
     "outputPrepend",
     "outputPrepend",
     "outputPrepend",
     "outputPrepend",
     "outputPrepend",
     "outputPrepend",
     "outputPrepend",
     "outputPrepend",
     "outputPrepend",
     "outputPrepend",
     "outputPrepend",
     "outputPrepend",
     "outputPrepend",
     "outputPrepend",
     "outputPrepend",
     "outputPrepend",
     "outputPrepend",
     "outputPrepend",
     "outputPrepend",
     "outputPrepend",
     "outputPrepend",
     "outputPrepend",
     "outputPrepend",
     "outputPrepend",
     "outputPrepend",
     "outputPrepend",
     "outputPrepend",
     "outputPrepend",
     "outputPrepend",
     "outputPrepend",
     "outputPrepend",
     "outputPrepend",
     "outputPrepend",
     "outputPrepend",
     "outputPrepend",
     "outputPrepend",
     "outputPrepend",
     "outputPrepend",
     "outputPrepend",
     "outputPrepend",
     "outputPrepend",
     "outputPrepend",
     "outputPrepend",
     "outputPrepend",
     "outputPrepend",
     "outputPrepend",
     "outputPrepend",
     "outputPrepend",
     "outputPrepend",
     "outputPrepend",
     "outputPrepend",
     "outputPrepend",
     "outputPrepend",
     "outputPrepend",
     "outputPrepend",
     "outputPrepend",
     "outputPrepend",
     "outputPrepend",
     "outputPrepend",
     "outputPrepend",
     "outputPrepend",
     "outputPrepend",
     "outputPrepend",
     "outputPrepend",
     "outputPrepend",
     "outputPrepend",
     "outputPrepend",
     "outputPrepend",
     "outputPrepend",
     "outputPrepend",
     "outputPrepend",
     "outputPrepend",
     "outputPrepend",
     "outputPrepend",
     "outputPrepend",
     "outputPrepend",
     "outputPrepend",
     "outputPrepend",
     "outputPrepend",
     "outputPrepend",
     "outputPrepend",
     "outputPrepend",
     "outputPrepend",
     "outputPrepend"
    ]
   },
   "outputs": [
    {
     "output_type": "execute_result",
     "data": {
      "text/plain": "    id_camino  id_in_seq                                      current_state  \\\n20          8          0                                 [0, 0, 1, 0, 0, 0]   \n21          8          1  [557.2873618367145, -88.35404417578944, 1.9044...   \n22          8          2  [1114.996313868046, -148.75498736770038, 1.794...   \n23          8          3  [1676.8499244084107, -212.92073093890662, 1.78...   \n24          8          4  [2237.5875630469245, -276.99235127691014, 1.79...   \n\n                                           goal_state  out_action   timesteps  \n20  [3355.2520452554118, -366.8261847192736, 1.151...           2  315.345581  \n21  [3355.2520452554118, -366.8261847192736, 1.151...           2  315.345581  \n22  [3355.2520452554118, -366.8261847192736, 1.151...           2  315.345581  \n23  [3355.2520452554118, -366.8261847192736, 1.151...           2  315.345581  \n24  [3355.2520452554118, -366.8261847192736, 1.151...           3  315.345581  ",
      "text/html": "<div>\n<style scoped>\n    .dataframe tbody tr th:only-of-type {\n        vertical-align: middle;\n    }\n\n    .dataframe tbody tr th {\n        vertical-align: top;\n    }\n\n    .dataframe thead th {\n        text-align: right;\n    }\n</style>\n<table border=\"1\" class=\"dataframe\">\n  <thead>\n    <tr style=\"text-align: right;\">\n      <th></th>\n      <th>id_camino</th>\n      <th>id_in_seq</th>\n      <th>current_state</th>\n      <th>goal_state</th>\n      <th>out_action</th>\n      <th>timesteps</th>\n    </tr>\n  </thead>\n  <tbody>\n    <tr>\n      <th>20</th>\n      <td>8</td>\n      <td>0</td>\n      <td>[0, 0, 1, 0, 0, 0]</td>\n      <td>[3355.2520452554118, -366.8261847192736, 1.151...</td>\n      <td>2</td>\n      <td>315.345581</td>\n    </tr>\n    <tr>\n      <th>21</th>\n      <td>8</td>\n      <td>1</td>\n      <td>[557.2873618367145, -88.35404417578944, 1.9044...</td>\n      <td>[3355.2520452554118, -366.8261847192736, 1.151...</td>\n      <td>2</td>\n      <td>315.345581</td>\n    </tr>\n    <tr>\n      <th>22</th>\n      <td>8</td>\n      <td>2</td>\n      <td>[1114.996313868046, -148.75498736770038, 1.794...</td>\n      <td>[3355.2520452554118, -366.8261847192736, 1.151...</td>\n      <td>2</td>\n      <td>315.345581</td>\n    </tr>\n    <tr>\n      <th>23</th>\n      <td>8</td>\n      <td>3</td>\n      <td>[1676.8499244084107, -212.92073093890662, 1.78...</td>\n      <td>[3355.2520452554118, -366.8261847192736, 1.151...</td>\n      <td>2</td>\n      <td>315.345581</td>\n    </tr>\n    <tr>\n      <th>24</th>\n      <td>8</td>\n      <td>4</td>\n      <td>[2237.5875630469245, -276.99235127691014, 1.79...</td>\n      <td>[3355.2520452554118, -366.8261847192736, 1.151...</td>\n      <td>3</td>\n      <td>315.345581</td>\n    </tr>\n  </tbody>\n</table>\n</div>"
     },
     "metadata": {},
     "execution_count": 28
    }
   ],
   "source": [
    "for id in reg_dataset[\"id_camino\"]:\n",
    "     dummy = \"a\"\n",
    "     dummy = reg_dataset.loc[(reg_dataset[\"id_camino\"] == id) & (reg_dataset[\"id_in_seq\"] == 4)].current_state\n",
    "     for index in reg_dataset[reg_dataset[\"id_camino\"] == id]:\n",
    "         reg_dataset[\"goal_state\"][index] = dummy\n",
    "\n",
    "reg_dataset.head()"
   ]
  },
  {
   "cell_type": "code",
   "execution_count": 8,
   "metadata": {},
   "outputs": [
    {
     "output_type": "execute_result",
     "data": {
      "text/plain": "20               [3355.2520452554118, -366.8261847192736, 1.151...\n21               [3355.2520452554118, -366.8261847192736, 1.151...\n22               [3355.2520452554118, -366.8261847192736, 1.151...\n23               [3355.2520452554118, -366.8261847192736, 1.151...\n24               [3355.2520452554118, -366.8261847192736, 1.151...\n                                       ...                        \nid_in_seq        996    [2145.6242327499517, -258.8787869368321...\ncurrent_state    996    [2145.6242327499517, -258.8787869368321...\ngoal_state       996    [2145.6242327499517, -258.8787869368321...\nout_action       996    [2145.6242327499517, -258.8787869368321...\ntimesteps        996    [2145.6242327499517, -258.8787869368321...\nName: goal_state, Length: 746, dtype: object"
     },
     "metadata": {},
     "execution_count": 8
    }
   ],
   "source": [
    "reg_dataset[\"goal_state\"]"
   ]
  },
  {
   "cell_type": "code",
   "execution_count": 29,
   "metadata": {},
   "outputs": [],
   "source": [
    "\n",
    "dataset = reg_dataset\n",
    "\n",
    "for index, row in dataset.iterrows():\n",
    "    CS_array =np.array(eval(row[\"current_state\"]))\n",
    "    dataset[\"current_state\"][index] = CS_array\n",
    "    GS_array =np.array(eval(row[\"goal_state\"]))\n",
    "    dataset[\"goal_state\"][index] = GS_array\n",
    "    dataset[\"out_action\"][index] = int(dataset[\"out_action\"][index])\n",
    "\n",
    "dataset[\"Difference\"] =   dataset[\"goal_state\"]-dataset[\"current_state\"]\n",
    "\n",
    "dataset[[\"C0\",'C1',\"C2\",\"C3\",'C4',\"C5\"]] = pd.DataFrame(dataset.current_state.values.tolist(), index= dataset.index)\n",
    "dataset[[\"D0\",'D1',\"D2\",\"D3\",'D4',\"D5\"]] = pd.DataFrame(dataset.Difference.values.tolist(), index= dataset.index)\n",
    ""
   ]
  },
  {
   "cell_type": "code",
   "execution_count": 30,
   "metadata": {},
   "outputs": [
    {
     "output_type": "execute_result",
     "data": {
      "text/plain": "    id_camino  id_in_seq                                      current_state  \\\n20          8          0                                 [0, 0, 1, 0, 0, 0]   \n21          8          1  [557.2873618367145, -88.35404417578944, 1.9044...   \n22          8          2  [1114.996313868046, -148.75498736770038, 1.794...   \n23          8          3  [1676.8499244084107, -212.92073093890662, 1.78...   \n24          8          4  [2237.5875630469245, -276.99235127691014, 1.79...   \n27          9          0                                 [0, 0, 1, 0, 0, 0]   \n28          9          1  [467.51084210168455, -52.85735936140974, 1.396...   \n29          9          2  [881.3909271559311, -87.82787195861813, 1.3092...   \n30          9          3  [1293.8754807566058, -124.08675633965926, 1.30...   \n31          9          4  [1706.6741019079343, -160.4873748066237, 1.309...   \n\n                                           goal_state  out_action   timesteps  \\\n20  [3355.2520452554118, -366.8261847192736, 1.151...           2  315.345581   \n21  [3355.2520452554118, -366.8261847192736, 1.151...           2  315.345581   \n22  [3355.2520452554118, -366.8261847192736, 1.151...           2  315.345581   \n23  [3355.2520452554118, -366.8261847192736, 1.151...           2  315.345581   \n24  [3355.2520452554118, -366.8261847192736, 1.151...           3  315.345581   \n27  [2907.0542848353966, -263.57882736991, 1.16306...           3  315.345581   \n28  [2907.0542848353966, -263.57882736991, 1.16306...           4  315.345581   \n29  [2907.0542848353966, -263.57882736991, 1.16306...           4  315.345581   \n30  [2907.0542848353966, -263.57882736991, 1.16306...           4  315.345581   \n31  [2907.0542848353966, -263.57882736991, 1.16306...           4  315.345581   \n\n                                           Difference           C0  \\\n20  [3355.2520452554118, -366.8261847192736, 0.151...     0.000000   \n21  [2797.9646834186974, -278.47214054348416, -0.7...   557.287362   \n22  [2240.255731387366, -218.07119735157323, -0.64...  1114.996314   \n23  [1678.402120847001, -153.905453780367, -0.6384...  1676.849924   \n24  [1117.6644822084872, -89.83383344236347, -0.64...  2237.587563   \n27  [2907.0542848353966, -263.57882736991, 0.16306...     0.000000   \n28  [2439.5434427337123, -210.72146800850027, -0.2...   467.510842   \n29  [2025.6633576794657, -175.7509554112919, -0.14...   881.390927   \n30  [1613.1788040787908, -139.49207103025077, -0.1...  1293.875481   \n31  [1200.3801829274623, -103.09145256328631, -0.1...  1706.674102   \n\n            C1        C2        C3        C4        C5           D0  \\\n20    0.000000  1.000000  0.000000  0.000000  0.000000  3355.252045   \n21  -88.354044  1.904406  0.117667 -0.007043  0.001597  2797.964683   \n22 -148.754987  1.794546  0.119579 -0.059903  0.000014  2240.255731   \n23 -212.920731  1.789949  0.119717 -0.045089 -0.000059  1678.402121   \n24 -276.992351  1.794838  0.119611 -0.047056  0.000015  1117.664482   \n27    0.000000  1.000000  0.000000  0.000000  0.000000  2907.054285   \n28  -52.857359  1.396266  0.147218  0.014904 -0.002213  2439.543443   \n29  -87.827872  1.309273  0.164303  0.046378  0.000011  2025.663358   \n30 -124.086756  1.306958  0.164448  0.036881 -0.000074  1613.178804   \n31 -160.487375  1.309686  0.164356  0.036761  0.000006  1200.380183   \n\n            D1        D2        D3        D4        D5  \n20 -366.826185  0.151482  0.183113  0.052711 -0.001145  \n21 -278.472141 -0.752924  0.065446  0.059754 -0.002742  \n22 -218.071197 -0.643064  0.063534  0.112614 -0.001159  \n23 -153.905454 -0.638468  0.063397  0.097800 -0.001086  \n24  -89.833833 -0.643357  0.063503  0.099767 -0.001159  \n27 -263.578827  0.163066  0.182490  0.065083 -0.000678  \n28 -210.721468 -0.233200  0.035272  0.050179  0.001535  \n29 -175.750955 -0.146207  0.018187  0.018705 -0.000689  \n30 -139.492071 -0.143892  0.018042  0.028202 -0.000604  \n31 -103.091453 -0.146620  0.018134  0.028322 -0.000683  ",
      "text/html": "<div>\n<style scoped>\n    .dataframe tbody tr th:only-of-type {\n        vertical-align: middle;\n    }\n\n    .dataframe tbody tr th {\n        vertical-align: top;\n    }\n\n    .dataframe thead th {\n        text-align: right;\n    }\n</style>\n<table border=\"1\" class=\"dataframe\">\n  <thead>\n    <tr style=\"text-align: right;\">\n      <th></th>\n      <th>id_camino</th>\n      <th>id_in_seq</th>\n      <th>current_state</th>\n      <th>goal_state</th>\n      <th>out_action</th>\n      <th>timesteps</th>\n      <th>Difference</th>\n      <th>C0</th>\n      <th>C1</th>\n      <th>C2</th>\n      <th>C3</th>\n      <th>C4</th>\n      <th>C5</th>\n      <th>D0</th>\n      <th>D1</th>\n      <th>D2</th>\n      <th>D3</th>\n      <th>D4</th>\n      <th>D5</th>\n    </tr>\n  </thead>\n  <tbody>\n    <tr>\n      <th>20</th>\n      <td>8</td>\n      <td>0</td>\n      <td>[0, 0, 1, 0, 0, 0]</td>\n      <td>[3355.2520452554118, -366.8261847192736, 1.151...</td>\n      <td>2</td>\n      <td>315.345581</td>\n      <td>[3355.2520452554118, -366.8261847192736, 0.151...</td>\n      <td>0.000000</td>\n      <td>0.000000</td>\n      <td>1.000000</td>\n      <td>0.000000</td>\n      <td>0.000000</td>\n      <td>0.000000</td>\n      <td>3355.252045</td>\n      <td>-366.826185</td>\n      <td>0.151482</td>\n      <td>0.183113</td>\n      <td>0.052711</td>\n      <td>-0.001145</td>\n    </tr>\n    <tr>\n      <th>21</th>\n      <td>8</td>\n      <td>1</td>\n      <td>[557.2873618367145, -88.35404417578944, 1.9044...</td>\n      <td>[3355.2520452554118, -366.8261847192736, 1.151...</td>\n      <td>2</td>\n      <td>315.345581</td>\n      <td>[2797.9646834186974, -278.47214054348416, -0.7...</td>\n      <td>557.287362</td>\n      <td>-88.354044</td>\n      <td>1.904406</td>\n      <td>0.117667</td>\n      <td>-0.007043</td>\n      <td>0.001597</td>\n      <td>2797.964683</td>\n      <td>-278.472141</td>\n      <td>-0.752924</td>\n      <td>0.065446</td>\n      <td>0.059754</td>\n      <td>-0.002742</td>\n    </tr>\n    <tr>\n      <th>22</th>\n      <td>8</td>\n      <td>2</td>\n      <td>[1114.996313868046, -148.75498736770038, 1.794...</td>\n      <td>[3355.2520452554118, -366.8261847192736, 1.151...</td>\n      <td>2</td>\n      <td>315.345581</td>\n      <td>[2240.255731387366, -218.07119735157323, -0.64...</td>\n      <td>1114.996314</td>\n      <td>-148.754987</td>\n      <td>1.794546</td>\n      <td>0.119579</td>\n      <td>-0.059903</td>\n      <td>0.000014</td>\n      <td>2240.255731</td>\n      <td>-218.071197</td>\n      <td>-0.643064</td>\n      <td>0.063534</td>\n      <td>0.112614</td>\n      <td>-0.001159</td>\n    </tr>\n    <tr>\n      <th>23</th>\n      <td>8</td>\n      <td>3</td>\n      <td>[1676.8499244084107, -212.92073093890662, 1.78...</td>\n      <td>[3355.2520452554118, -366.8261847192736, 1.151...</td>\n      <td>2</td>\n      <td>315.345581</td>\n      <td>[1678.402120847001, -153.905453780367, -0.6384...</td>\n      <td>1676.849924</td>\n      <td>-212.920731</td>\n      <td>1.789949</td>\n      <td>0.119717</td>\n      <td>-0.045089</td>\n      <td>-0.000059</td>\n      <td>1678.402121</td>\n      <td>-153.905454</td>\n      <td>-0.638468</td>\n      <td>0.063397</td>\n      <td>0.097800</td>\n      <td>-0.001086</td>\n    </tr>\n    <tr>\n      <th>24</th>\n      <td>8</td>\n      <td>4</td>\n      <td>[2237.5875630469245, -276.99235127691014, 1.79...</td>\n      <td>[3355.2520452554118, -366.8261847192736, 1.151...</td>\n      <td>3</td>\n      <td>315.345581</td>\n      <td>[1117.6644822084872, -89.83383344236347, -0.64...</td>\n      <td>2237.587563</td>\n      <td>-276.992351</td>\n      <td>1.794838</td>\n      <td>0.119611</td>\n      <td>-0.047056</td>\n      <td>0.000015</td>\n      <td>1117.664482</td>\n      <td>-89.833833</td>\n      <td>-0.643357</td>\n      <td>0.063503</td>\n      <td>0.099767</td>\n      <td>-0.001159</td>\n    </tr>\n    <tr>\n      <th>27</th>\n      <td>9</td>\n      <td>0</td>\n      <td>[0, 0, 1, 0, 0, 0]</td>\n      <td>[2907.0542848353966, -263.57882736991, 1.16306...</td>\n      <td>3</td>\n      <td>315.345581</td>\n      <td>[2907.0542848353966, -263.57882736991, 0.16306...</td>\n      <td>0.000000</td>\n      <td>0.000000</td>\n      <td>1.000000</td>\n      <td>0.000000</td>\n      <td>0.000000</td>\n      <td>0.000000</td>\n      <td>2907.054285</td>\n      <td>-263.578827</td>\n      <td>0.163066</td>\n      <td>0.182490</td>\n      <td>0.065083</td>\n      <td>-0.000678</td>\n    </tr>\n    <tr>\n      <th>28</th>\n      <td>9</td>\n      <td>1</td>\n      <td>[467.51084210168455, -52.85735936140974, 1.396...</td>\n      <td>[2907.0542848353966, -263.57882736991, 1.16306...</td>\n      <td>4</td>\n      <td>315.345581</td>\n      <td>[2439.5434427337123, -210.72146800850027, -0.2...</td>\n      <td>467.510842</td>\n      <td>-52.857359</td>\n      <td>1.396266</td>\n      <td>0.147218</td>\n      <td>0.014904</td>\n      <td>-0.002213</td>\n      <td>2439.543443</td>\n      <td>-210.721468</td>\n      <td>-0.233200</td>\n      <td>0.035272</td>\n      <td>0.050179</td>\n      <td>0.001535</td>\n    </tr>\n    <tr>\n      <th>29</th>\n      <td>9</td>\n      <td>2</td>\n      <td>[881.3909271559311, -87.82787195861813, 1.3092...</td>\n      <td>[2907.0542848353966, -263.57882736991, 1.16306...</td>\n      <td>4</td>\n      <td>315.345581</td>\n      <td>[2025.6633576794657, -175.7509554112919, -0.14...</td>\n      <td>881.390927</td>\n      <td>-87.827872</td>\n      <td>1.309273</td>\n      <td>0.164303</td>\n      <td>0.046378</td>\n      <td>0.000011</td>\n      <td>2025.663358</td>\n      <td>-175.750955</td>\n      <td>-0.146207</td>\n      <td>0.018187</td>\n      <td>0.018705</td>\n      <td>-0.000689</td>\n    </tr>\n    <tr>\n      <th>30</th>\n      <td>9</td>\n      <td>3</td>\n      <td>[1293.8754807566058, -124.08675633965926, 1.30...</td>\n      <td>[2907.0542848353966, -263.57882736991, 1.16306...</td>\n      <td>4</td>\n      <td>315.345581</td>\n      <td>[1613.1788040787908, -139.49207103025077, -0.1...</td>\n      <td>1293.875481</td>\n      <td>-124.086756</td>\n      <td>1.306958</td>\n      <td>0.164448</td>\n      <td>0.036881</td>\n      <td>-0.000074</td>\n      <td>1613.178804</td>\n      <td>-139.492071</td>\n      <td>-0.143892</td>\n      <td>0.018042</td>\n      <td>0.028202</td>\n      <td>-0.000604</td>\n    </tr>\n    <tr>\n      <th>31</th>\n      <td>9</td>\n      <td>4</td>\n      <td>[1706.6741019079343, -160.4873748066237, 1.309...</td>\n      <td>[2907.0542848353966, -263.57882736991, 1.16306...</td>\n      <td>4</td>\n      <td>315.345581</td>\n      <td>[1200.3801829274623, -103.09145256328631, -0.1...</td>\n      <td>1706.674102</td>\n      <td>-160.487375</td>\n      <td>1.309686</td>\n      <td>0.164356</td>\n      <td>0.036761</td>\n      <td>0.000006</td>\n      <td>1200.380183</td>\n      <td>-103.091453</td>\n      <td>-0.146620</td>\n      <td>0.018134</td>\n      <td>0.028322</td>\n      <td>-0.000683</td>\n    </tr>\n  </tbody>\n</table>\n</div>"
     },
     "metadata": {},
     "execution_count": 30
    }
   ],
   "source": [
    "dataset[0:10]"
   ]
  },
  {
   "cell_type": "markdown",
   "metadata": {
    "colab_type": "text",
    "id": "3MWuJTKEDM-f"
   },
   "source": [
    "### Clean the data\n",
    "\n",
    "\n",
    "check if the data contains unknown values."
   ]
  },
  {
   "cell_type": "code",
   "execution_count": 10,
   "metadata": {},
   "outputs": [
    {
     "output_type": "execute_result",
     "data": {
      "text/plain": "id_camino        0\nid_in_seq        0\ncurrent_state    0\ngoal_state       0\nout_action       0\ntimesteps        0\nDifference       0\nC0               0\nC1               0\nC2               0\nC3               0\nC4               0\nC5               0\nD0               0\nD1               0\nD2               0\nD3               0\nD4               0\nD5               0\ndtype: int64"
     },
     "metadata": {},
     "execution_count": 10
    }
   ],
   "source": [
    "dataset.isna().sum()"
   ]
  },
  {
   "cell_type": "markdown",
   "metadata": {
    "colab_type": "text",
    "id": "9UPN0KBHa_WI"
   },
   "source": [
    "To keep this initial tutorial simple drop those rows."
   ]
  },
  {
   "cell_type": "code",
   "execution_count": 11,
   "metadata": {},
   "outputs": [],
   "source": [
    "dataset = dataset.dropna()"
   ]
  },
  {
   "cell_type": "markdown",
   "metadata": {
    "colab_type": "text",
    "id": "Cuym4yvk76vU"
   },
   "source": [
    "### Split the data into train and test\n",
    "\n",
    "Now split the dataset into a training set and a test set.\n",
    "\n",
    "We will use the test set in the final evaluation of our model."
   ]
  },
  {
   "cell_type": "code",
   "execution_count": 12,
   "metadata": {},
   "outputs": [],
   "source": [
    "train_dataset = dataset.sample(frac=0.8,random_state=0)\n",
    "test_dataset = dataset.drop(train_dataset.index)"
   ]
  },
  {
   "cell_type": "markdown",
   "metadata": {
    "colab_type": "text",
    "id": "Db7Auq1yXUvh"
   },
   "source": [
    "### Split features from labels\n",
    "\n",
    "Separate the target value, or \"label\", from the features. This label is the value that you will train the model to predict."
   ]
  },
  {
   "cell_type": "code",
   "execution_count": 31,
   "metadata": {},
   "outputs": [],
   "source": [
    "train_labels = train_dataset[[\"out_action\"]]\n",
    "test_labels = test_dataset[[\"out_action\"]]\n",
    "\n",
    "normed_train_data  = train_dataset[[\"D0\",'D1',\"D2\",\"D3\",'D4',\"D5\"]]\n",
    "normed_test_data = test_dataset[[\"D0\",'D1',\"D2\",\"D3\",'D4',\"D5\"]]\n",
    ""
   ]
  },
  {
   "cell_type": "markdown",
   "metadata": {
    "colab_type": "text",
    "id": "-ywmerQ6dSox"
   },
   "source": [
    "It is good practice to normalize features that use different scales and ranges. Although the model *might* converge without feature normalization, it makes training more difficult, and it makes the resulting model dependent on the choice of units used in the input.\n",
    "\n",
    "Note: Although we intentionally generate these statistics from only the training dataset, these statistics will also be used to normalize the test dataset. We need to do that to project the test dataset into the same distribution that the model has been trained on."
   ]
  },
  {
   "cell_type": "code",
   "execution_count": 10,
   "metadata": {},
   "outputs": [],
   "source": [
    "def norm(x):\n",
    "  return (x - train_stats['mean']) / train_stats['std']\n",
    "# normed_train_data = norm(train_dataset)\n",
    "# normed_test_data = norm(test_dataset)\n",
    ""
   ]
  },
  {
   "cell_type": "markdown",
   "metadata": {
    "colab_type": "text",
    "id": "BuiClDk45eS4"
   },
   "source": [
    "This normalized data is what we will use to train the model.\n",
    "\n",
    "Caution: The statistics used to normalize the inputs here (mean and standard deviation) need to be applied to any other data that is fed to the model, along with the one-hot encoding that we did earlier.  That includes the test set as well as live data when the model is used in production."
   ]
  },
  {
   "cell_type": "markdown",
   "metadata": {
    "colab_type": "text",
    "id": "SmjdzxKzEu1-"
   },
   "source": [
    "## The model"
   ]
  },
  {
   "cell_type": "markdown",
   "metadata": {
    "colab_type": "text",
    "id": "6SWtkIjhrZwa"
   },
   "source": [
    "### Build the model\n",
    "\n",
    "Let's build our model. Here, we'll use a `Sequential` model with two densely connected hidden layers, and an output layer that returns a single, continuous value. The model building steps are wrapped in a function, `build_model`, since we'll create a second model, later on."
   ]
  },
  {
   "cell_type": "code",
   "execution_count": 32,
   "metadata": {},
   "outputs": [
    {
     "output_type": "execute_result",
     "data": {
      "text/plain": "     out_action\n303           3\n290           2\n40            5\n68            2\n921           1\n..          ...\n60            2\n175           2\n221           4\n225           1\n736           4\n\n[592 rows x 1 columns]",
      "text/html": "<div>\n<style scoped>\n    .dataframe tbody tr th:only-of-type {\n        vertical-align: middle;\n    }\n\n    .dataframe tbody tr th {\n        vertical-align: top;\n    }\n\n    .dataframe thead th {\n        text-align: right;\n    }\n</style>\n<table border=\"1\" class=\"dataframe\">\n  <thead>\n    <tr style=\"text-align: right;\">\n      <th></th>\n      <th>out_action</th>\n    </tr>\n  </thead>\n  <tbody>\n    <tr>\n      <th>303</th>\n      <td>3</td>\n    </tr>\n    <tr>\n      <th>290</th>\n      <td>2</td>\n    </tr>\n    <tr>\n      <th>40</th>\n      <td>5</td>\n    </tr>\n    <tr>\n      <th>68</th>\n      <td>2</td>\n    </tr>\n    <tr>\n      <th>921</th>\n      <td>1</td>\n    </tr>\n    <tr>\n      <th>...</th>\n      <td>...</td>\n    </tr>\n    <tr>\n      <th>60</th>\n      <td>2</td>\n    </tr>\n    <tr>\n      <th>175</th>\n      <td>2</td>\n    </tr>\n    <tr>\n      <th>221</th>\n      <td>4</td>\n    </tr>\n    <tr>\n      <th>225</th>\n      <td>1</td>\n    </tr>\n    <tr>\n      <th>736</th>\n      <td>4</td>\n    </tr>\n  </tbody>\n</table>\n<p>592 rows × 1 columns</p>\n</div>"
     },
     "metadata": {},
     "execution_count": 32
    }
   ],
   "source": [
    "train_labels"
   ]
  },
  {
   "cell_type": "code",
   "execution_count": 33,
   "metadata": {},
   "outputs": [
    {
     "output_type": "error",
     "ename": "ValueError",
     "evalue": "Can't convert non-rectangular Python sequence to Tensor.",
     "traceback": [
      "\u001b[1;31m---------------------------------------------------------------------------\u001b[0m",
      "\u001b[1;31mTypeError\u001b[0m                                 Traceback (most recent call last)",
      "\u001b[1;32m~\\Anaconda3\\lib\\site-packages\\tensorflow_core\\python\\data\\util\\structure.py\u001b[0m in \u001b[0;36mnormalize_element\u001b[1;34m(element)\u001b[0m\n\u001b[0;32m     92\u001b[0m       \u001b[1;32mtry\u001b[0m\u001b[1;33m:\u001b[0m\u001b[1;33m\u001b[0m\u001b[1;33m\u001b[0m\u001b[0m\n\u001b[1;32m---> 93\u001b[1;33m         \u001b[0mspec\u001b[0m \u001b[1;33m=\u001b[0m \u001b[0mtype_spec_from_value\u001b[0m\u001b[1;33m(\u001b[0m\u001b[0mt\u001b[0m\u001b[1;33m,\u001b[0m \u001b[0muse_fallback\u001b[0m\u001b[1;33m=\u001b[0m\u001b[1;32mFalse\u001b[0m\u001b[1;33m)\u001b[0m\u001b[1;33m\u001b[0m\u001b[1;33m\u001b[0m\u001b[0m\n\u001b[0m\u001b[0;32m     94\u001b[0m       \u001b[1;32mexcept\u001b[0m \u001b[0mTypeError\u001b[0m\u001b[1;33m:\u001b[0m\u001b[1;33m\u001b[0m\u001b[1;33m\u001b[0m\u001b[0m\n",
      "\u001b[1;32m~\\Anaconda3\\lib\\site-packages\\tensorflow_core\\python\\data\\util\\structure.py\u001b[0m in \u001b[0;36mtype_spec_from_value\u001b[1;34m(element, use_fallback)\u001b[0m\n\u001b[0;32m    463\u001b[0m   raise TypeError(\"Could not build a TypeSpec for %r with type %s\" %\n\u001b[1;32m--> 464\u001b[1;33m                   (element, type(element).__name__))\n\u001b[0m",
      "\u001b[1;31mTypeError\u001b[0m: Could not build a TypeSpec for               D0          D1        D2        D3        D4            D5\n303  1670.768078 -147.647996 -0.163611  0.018529  0.063917 -1.121607e-03\n290  1472.547998 -211.969088 -0.775982  0.037347  0.284617 -2.937462e-03\n40   1285.117771 -112.498865  0.015488 -0.000665  0.004614  5.792998e-04\n68   2921.654305 -416.218555 -0.562246  0.045420  0.074861 -6.000293e-04\n921  1775.192291 -332.587767  0.112622 -0.001134  0.038631  8.552824e-04\n..           ...         ...       ...       ...       ...           ...\n60   3133.922473 -335.821013  0.168056  0.182688  0.017441 -6.096900e-04\n175  2790.787627 -273.801860  0.181559  0.181746  0.065596  4.929202e-07\n221   607.756810  -44.916417 -0.502968  0.041923  0.116207 -4.308955e-03\n225  1643.094624 -304.665590  0.038698 -0.018003  0.102886 -3.994465e-03\n736  1239.733850 -106.090091 -0.177491  0.020023  0.033772  1.467463e-04\n\n[592 rows x 6 columns] with type DataFrame",
      "\nDuring handling of the above exception, another exception occurred:\n",
      "\u001b[1;31mValueError\u001b[0m                                Traceback (most recent call last)",
      "\u001b[1;32m<ipython-input-33-f04b1e33ef1a>\u001b[0m in \u001b[0;36m<module>\u001b[1;34m\u001b[0m\n\u001b[0;32m      2\u001b[0m \u001b[0mBUFFER_SIZE\u001b[0m \u001b[1;33m=\u001b[0m \u001b[1;36m10000\u001b[0m\u001b[1;33m\u001b[0m\u001b[1;33m\u001b[0m\u001b[0m\n\u001b[0;32m      3\u001b[0m \u001b[1;33m\u001b[0m\u001b[0m\n\u001b[1;32m----> 4\u001b[1;33m \u001b[0mtrain_data_single\u001b[0m \u001b[1;33m=\u001b[0m \u001b[0mtf\u001b[0m\u001b[1;33m.\u001b[0m\u001b[0mdata\u001b[0m\u001b[1;33m.\u001b[0m\u001b[0mDataset\u001b[0m\u001b[1;33m.\u001b[0m\u001b[0mfrom_tensor_slices\u001b[0m\u001b[1;33m(\u001b[0m\u001b[1;33m(\u001b[0m\u001b[0mnormed_train_data\u001b[0m\u001b[1;33m,\u001b[0m \u001b[0mtrain_labels\u001b[0m\u001b[1;33m)\u001b[0m\u001b[1;33m)\u001b[0m\u001b[1;33m\u001b[0m\u001b[1;33m\u001b[0m\u001b[0m\n\u001b[0m\u001b[0;32m      5\u001b[0m \u001b[0mtrain_data_single\u001b[0m \u001b[1;33m=\u001b[0m \u001b[0mtrain_data_single\u001b[0m\u001b[1;33m.\u001b[0m\u001b[0mcache\u001b[0m\u001b[1;33m(\u001b[0m\u001b[1;33m)\u001b[0m\u001b[1;33m.\u001b[0m\u001b[0mshuffle\u001b[0m\u001b[1;33m(\u001b[0m\u001b[0mBUFFER_SIZE\u001b[0m\u001b[1;33m)\u001b[0m\u001b[1;33m.\u001b[0m\u001b[0mbatch\u001b[0m\u001b[1;33m(\u001b[0m\u001b[0mBATCH_SIZE\u001b[0m\u001b[1;33m)\u001b[0m\u001b[1;33m.\u001b[0m\u001b[0mrepeat\u001b[0m\u001b[1;33m(\u001b[0m\u001b[1;33m)\u001b[0m\u001b[1;33m\u001b[0m\u001b[1;33m\u001b[0m\u001b[0m\n\u001b[0;32m      6\u001b[0m \u001b[1;33m\u001b[0m\u001b[0m\n",
      "\u001b[1;32m~\\Anaconda3\\lib\\site-packages\\tensorflow_core\\python\\data\\ops\\dataset_ops.py\u001b[0m in \u001b[0;36mfrom_tensor_slices\u001b[1;34m(tensors)\u001b[0m\n\u001b[0;32m    642\u001b[0m       \u001b[0mDataset\u001b[0m\u001b[1;33m:\u001b[0m \u001b[0mA\u001b[0m\u001b[0;31m \u001b[0m\u001b[0;31m`\u001b[0m\u001b[0mDataset\u001b[0m\u001b[0;31m`\u001b[0m\u001b[1;33m.\u001b[0m\u001b[1;33m\u001b[0m\u001b[1;33m\u001b[0m\u001b[0m\n\u001b[0;32m    643\u001b[0m     \"\"\"\n\u001b[1;32m--> 644\u001b[1;33m     \u001b[1;32mreturn\u001b[0m \u001b[0mTensorSliceDataset\u001b[0m\u001b[1;33m(\u001b[0m\u001b[0mtensors\u001b[0m\u001b[1;33m)\u001b[0m\u001b[1;33m\u001b[0m\u001b[1;33m\u001b[0m\u001b[0m\n\u001b[0m\u001b[0;32m    645\u001b[0m \u001b[1;33m\u001b[0m\u001b[0m\n\u001b[0;32m    646\u001b[0m   \u001b[1;32mclass\u001b[0m \u001b[0m_GeneratorState\u001b[0m\u001b[1;33m(\u001b[0m\u001b[0mobject\u001b[0m\u001b[1;33m)\u001b[0m\u001b[1;33m:\u001b[0m\u001b[1;33m\u001b[0m\u001b[1;33m\u001b[0m\u001b[0m\n",
      "\u001b[1;32m~\\Anaconda3\\lib\\site-packages\\tensorflow_core\\python\\data\\ops\\dataset_ops.py\u001b[0m in \u001b[0;36m__init__\u001b[1;34m(self, element)\u001b[0m\n\u001b[0;32m   2782\u001b[0m   \u001b[1;32mdef\u001b[0m \u001b[0m__init__\u001b[0m\u001b[1;33m(\u001b[0m\u001b[0mself\u001b[0m\u001b[1;33m,\u001b[0m \u001b[0melement\u001b[0m\u001b[1;33m)\u001b[0m\u001b[1;33m:\u001b[0m\u001b[1;33m\u001b[0m\u001b[1;33m\u001b[0m\u001b[0m\n\u001b[0;32m   2783\u001b[0m     \u001b[1;34m\"\"\"See `Dataset.from_tensor_slices()` for details.\"\"\"\u001b[0m\u001b[1;33m\u001b[0m\u001b[1;33m\u001b[0m\u001b[0m\n\u001b[1;32m-> 2784\u001b[1;33m     \u001b[0melement\u001b[0m \u001b[1;33m=\u001b[0m \u001b[0mstructure\u001b[0m\u001b[1;33m.\u001b[0m\u001b[0mnormalize_element\u001b[0m\u001b[1;33m(\u001b[0m\u001b[0melement\u001b[0m\u001b[1;33m)\u001b[0m\u001b[1;33m\u001b[0m\u001b[1;33m\u001b[0m\u001b[0m\n\u001b[0m\u001b[0;32m   2785\u001b[0m     \u001b[0mbatched_spec\u001b[0m \u001b[1;33m=\u001b[0m \u001b[0mstructure\u001b[0m\u001b[1;33m.\u001b[0m\u001b[0mtype_spec_from_value\u001b[0m\u001b[1;33m(\u001b[0m\u001b[0melement\u001b[0m\u001b[1;33m)\u001b[0m\u001b[1;33m\u001b[0m\u001b[1;33m\u001b[0m\u001b[0m\n\u001b[0;32m   2786\u001b[0m     \u001b[0mself\u001b[0m\u001b[1;33m.\u001b[0m\u001b[0m_tensors\u001b[0m \u001b[1;33m=\u001b[0m \u001b[0mstructure\u001b[0m\u001b[1;33m.\u001b[0m\u001b[0mto_batched_tensor_list\u001b[0m\u001b[1;33m(\u001b[0m\u001b[0mbatched_spec\u001b[0m\u001b[1;33m,\u001b[0m \u001b[0melement\u001b[0m\u001b[1;33m)\u001b[0m\u001b[1;33m\u001b[0m\u001b[1;33m\u001b[0m\u001b[0m\n",
      "\u001b[1;32m~\\Anaconda3\\lib\\site-packages\\tensorflow_core\\python\\data\\util\\structure.py\u001b[0m in \u001b[0;36mnormalize_element\u001b[1;34m(element)\u001b[0m\n\u001b[0;32m     96\u001b[0m         \u001b[1;31m# the value. As a fallback try converting the value to a tensor.\u001b[0m\u001b[1;33m\u001b[0m\u001b[1;33m\u001b[0m\u001b[1;33m\u001b[0m\u001b[0m\n\u001b[0;32m     97\u001b[0m         normalized_components.append(\n\u001b[1;32m---> 98\u001b[1;33m             ops.convert_to_tensor(t, name=\"component_%d\" % i))\n\u001b[0m\u001b[0;32m     99\u001b[0m       \u001b[1;32melse\u001b[0m\u001b[1;33m:\u001b[0m\u001b[1;33m\u001b[0m\u001b[1;33m\u001b[0m\u001b[0m\n\u001b[0;32m    100\u001b[0m         \u001b[1;32mif\u001b[0m \u001b[0misinstance\u001b[0m\u001b[1;33m(\u001b[0m\u001b[0mspec\u001b[0m\u001b[1;33m,\u001b[0m \u001b[0msparse_tensor\u001b[0m\u001b[1;33m.\u001b[0m\u001b[0mSparseTensorSpec\u001b[0m\u001b[1;33m)\u001b[0m\u001b[1;33m:\u001b[0m\u001b[1;33m\u001b[0m\u001b[1;33m\u001b[0m\u001b[0m\n",
      "\u001b[1;32m~\\Anaconda3\\lib\\site-packages\\tensorflow_core\\python\\framework\\ops.py\u001b[0m in \u001b[0;36mconvert_to_tensor\u001b[1;34m(value, dtype, name, as_ref, preferred_dtype, dtype_hint, ctx, accepted_result_types)\u001b[0m\n\u001b[0;32m   1312\u001b[0m \u001b[1;33m\u001b[0m\u001b[0m\n\u001b[0;32m   1313\u001b[0m     \u001b[1;32mif\u001b[0m \u001b[0mret\u001b[0m \u001b[1;32mis\u001b[0m \u001b[1;32mNone\u001b[0m\u001b[1;33m:\u001b[0m\u001b[1;33m\u001b[0m\u001b[1;33m\u001b[0m\u001b[0m\n\u001b[1;32m-> 1314\u001b[1;33m       \u001b[0mret\u001b[0m \u001b[1;33m=\u001b[0m \u001b[0mconversion_func\u001b[0m\u001b[1;33m(\u001b[0m\u001b[0mvalue\u001b[0m\u001b[1;33m,\u001b[0m \u001b[0mdtype\u001b[0m\u001b[1;33m=\u001b[0m\u001b[0mdtype\u001b[0m\u001b[1;33m,\u001b[0m \u001b[0mname\u001b[0m\u001b[1;33m=\u001b[0m\u001b[0mname\u001b[0m\u001b[1;33m,\u001b[0m \u001b[0mas_ref\u001b[0m\u001b[1;33m=\u001b[0m\u001b[0mas_ref\u001b[0m\u001b[1;33m)\u001b[0m\u001b[1;33m\u001b[0m\u001b[1;33m\u001b[0m\u001b[0m\n\u001b[0m\u001b[0;32m   1315\u001b[0m \u001b[1;33m\u001b[0m\u001b[0m\n\u001b[0;32m   1316\u001b[0m     \u001b[1;32mif\u001b[0m \u001b[0mret\u001b[0m \u001b[1;32mis\u001b[0m \u001b[0mNotImplemented\u001b[0m\u001b[1;33m:\u001b[0m\u001b[1;33m\u001b[0m\u001b[1;33m\u001b[0m\u001b[0m\n",
      "\u001b[1;32m~\\Anaconda3\\lib\\site-packages\\tensorflow_core\\python\\framework\\constant_op.py\u001b[0m in \u001b[0;36m_constant_tensor_conversion_function\u001b[1;34m(v, dtype, name, as_ref)\u001b[0m\n\u001b[0;32m    315\u001b[0m                                          as_ref=False):\n\u001b[0;32m    316\u001b[0m   \u001b[0m_\u001b[0m \u001b[1;33m=\u001b[0m \u001b[0mas_ref\u001b[0m\u001b[1;33m\u001b[0m\u001b[1;33m\u001b[0m\u001b[0m\n\u001b[1;32m--> 317\u001b[1;33m   \u001b[1;32mreturn\u001b[0m \u001b[0mconstant\u001b[0m\u001b[1;33m(\u001b[0m\u001b[0mv\u001b[0m\u001b[1;33m,\u001b[0m \u001b[0mdtype\u001b[0m\u001b[1;33m=\u001b[0m\u001b[0mdtype\u001b[0m\u001b[1;33m,\u001b[0m \u001b[0mname\u001b[0m\u001b[1;33m=\u001b[0m\u001b[0mname\u001b[0m\u001b[1;33m)\u001b[0m\u001b[1;33m\u001b[0m\u001b[1;33m\u001b[0m\u001b[0m\n\u001b[0m\u001b[0;32m    318\u001b[0m \u001b[1;33m\u001b[0m\u001b[0m\n\u001b[0;32m    319\u001b[0m \u001b[1;33m\u001b[0m\u001b[0m\n",
      "\u001b[1;32m~\\Anaconda3\\lib\\site-packages\\tensorflow_core\\python\\framework\\constant_op.py\u001b[0m in \u001b[0;36mconstant\u001b[1;34m(value, dtype, shape, name)\u001b[0m\n\u001b[0;32m    256\u001b[0m   \"\"\"\n\u001b[0;32m    257\u001b[0m   return _constant_impl(value, dtype, shape, name, verify_shape=False,\n\u001b[1;32m--> 258\u001b[1;33m                         allow_broadcast=True)\n\u001b[0m\u001b[0;32m    259\u001b[0m \u001b[1;33m\u001b[0m\u001b[0m\n\u001b[0;32m    260\u001b[0m \u001b[1;33m\u001b[0m\u001b[0m\n",
      "\u001b[1;32m~\\Anaconda3\\lib\\site-packages\\tensorflow_core\\python\\framework\\constant_op.py\u001b[0m in \u001b[0;36m_constant_impl\u001b[1;34m(value, dtype, shape, name, verify_shape, allow_broadcast)\u001b[0m\n\u001b[0;32m    264\u001b[0m   \u001b[0mctx\u001b[0m \u001b[1;33m=\u001b[0m \u001b[0mcontext\u001b[0m\u001b[1;33m.\u001b[0m\u001b[0mcontext\u001b[0m\u001b[1;33m(\u001b[0m\u001b[1;33m)\u001b[0m\u001b[1;33m\u001b[0m\u001b[1;33m\u001b[0m\u001b[0m\n\u001b[0;32m    265\u001b[0m   \u001b[1;32mif\u001b[0m \u001b[0mctx\u001b[0m\u001b[1;33m.\u001b[0m\u001b[0mexecuting_eagerly\u001b[0m\u001b[1;33m(\u001b[0m\u001b[1;33m)\u001b[0m\u001b[1;33m:\u001b[0m\u001b[1;33m\u001b[0m\u001b[1;33m\u001b[0m\u001b[0m\n\u001b[1;32m--> 266\u001b[1;33m     \u001b[0mt\u001b[0m \u001b[1;33m=\u001b[0m \u001b[0mconvert_to_eager_tensor\u001b[0m\u001b[1;33m(\u001b[0m\u001b[0mvalue\u001b[0m\u001b[1;33m,\u001b[0m \u001b[0mctx\u001b[0m\u001b[1;33m,\u001b[0m \u001b[0mdtype\u001b[0m\u001b[1;33m)\u001b[0m\u001b[1;33m\u001b[0m\u001b[1;33m\u001b[0m\u001b[0m\n\u001b[0m\u001b[0;32m    267\u001b[0m     \u001b[1;32mif\u001b[0m \u001b[0mshape\u001b[0m \u001b[1;32mis\u001b[0m \u001b[1;32mNone\u001b[0m\u001b[1;33m:\u001b[0m\u001b[1;33m\u001b[0m\u001b[1;33m\u001b[0m\u001b[0m\n\u001b[0;32m    268\u001b[0m       \u001b[1;32mreturn\u001b[0m \u001b[0mt\u001b[0m\u001b[1;33m\u001b[0m\u001b[1;33m\u001b[0m\u001b[0m\n",
      "\u001b[1;32m~\\Anaconda3\\lib\\site-packages\\tensorflow_core\\python\\framework\\constant_op.py\u001b[0m in \u001b[0;36mconvert_to_eager_tensor\u001b[1;34m(value, ctx, dtype)\u001b[0m\n\u001b[0;32m     94\u001b[0m       \u001b[0mdtype\u001b[0m \u001b[1;33m=\u001b[0m \u001b[0mdtypes\u001b[0m\u001b[1;33m.\u001b[0m\u001b[0mas_dtype\u001b[0m\u001b[1;33m(\u001b[0m\u001b[0mdtype\u001b[0m\u001b[1;33m)\u001b[0m\u001b[1;33m.\u001b[0m\u001b[0mas_datatype_enum\u001b[0m\u001b[1;33m\u001b[0m\u001b[1;33m\u001b[0m\u001b[0m\n\u001b[0;32m     95\u001b[0m   \u001b[0mctx\u001b[0m\u001b[1;33m.\u001b[0m\u001b[0mensure_initialized\u001b[0m\u001b[1;33m(\u001b[0m\u001b[1;33m)\u001b[0m\u001b[1;33m\u001b[0m\u001b[1;33m\u001b[0m\u001b[0m\n\u001b[1;32m---> 96\u001b[1;33m   \u001b[1;32mreturn\u001b[0m \u001b[0mops\u001b[0m\u001b[1;33m.\u001b[0m\u001b[0mEagerTensor\u001b[0m\u001b[1;33m(\u001b[0m\u001b[0mvalue\u001b[0m\u001b[1;33m,\u001b[0m \u001b[0mctx\u001b[0m\u001b[1;33m.\u001b[0m\u001b[0mdevice_name\u001b[0m\u001b[1;33m,\u001b[0m \u001b[0mdtype\u001b[0m\u001b[1;33m)\u001b[0m\u001b[1;33m\u001b[0m\u001b[1;33m\u001b[0m\u001b[0m\n\u001b[0m\u001b[0;32m     97\u001b[0m \u001b[1;33m\u001b[0m\u001b[0m\n\u001b[0;32m     98\u001b[0m \u001b[1;33m\u001b[0m\u001b[0m\n",
      "\u001b[1;31mValueError\u001b[0m: Can't convert non-rectangular Python sequence to Tensor."
     ]
    }
   ],
   "source": [
    "BATCH_SIZE = 5\n",
    "BUFFER_SIZE = 10000\n",
    "\n",
    "train_data_single = tf.data.Dataset.from_tensor_slices((normed_train_data, train_labels))\n",
    "train_data_single = train_data_single.cache().shuffle(BUFFER_SIZE).batch(BATCH_SIZE).repeat()\n",
    "\n",
    "val_data_single = tf.data.Dataset.from_tensor_slices((normed_test_data, test_labels))\n",
    "val_data_single = val_data_single.batch(BATCH_SIZE).repeat()"
   ]
  },
  {
   "cell_type": "code",
   "execution_count": null,
   "metadata": {},
   "outputs": [],
   "source": [
    "single_step_model = tf.keras.models.Sequential()\n",
    "single_step_model.add(tf.keras.layers.LSTM(32,\n",
    "                                           input_shape=x_train_single.shape[-2:]))\n",
    "single_step_model.add(tf.keras.layers.Dense(1))\n",
    "\n",
    "single_step_model.compile(optimizer=tf.keras.optimizers.RMSprop(), loss='mae')"
   ]
  },
  {
   "cell_type": "markdown",
   "metadata": {
    "colab_type": "text",
    "id": "Sj49Og4YGULr"
   },
   "source": [
    "### Inspect the model\n",
    "\n",
    "Use the `.summary` method to print a simple description of the model"
   ]
  },
  {
   "cell_type": "code",
   "execution_count": 24,
   "metadata": {},
   "outputs": [
    {
     "output_type": "error",
     "ename": "ValueError",
     "evalue": "This model has not yet been built. Build the model first by calling `build()` or calling `fit()` with some data, or specify an `input_shape` argument in the first layer(s) for automatic build.",
     "traceback": [
      "\u001b[1;31m---------------------------------------------------------------------------\u001b[0m",
      "\u001b[1;31mValueError\u001b[0m                                Traceback (most recent call last)",
      "\u001b[1;32m<ipython-input-24-5f15418b3570>\u001b[0m in \u001b[0;36m<module>\u001b[1;34m\u001b[0m\n\u001b[1;32m----> 1\u001b[1;33m \u001b[0mmodel\u001b[0m\u001b[1;33m.\u001b[0m\u001b[0msummary\u001b[0m\u001b[1;33m(\u001b[0m\u001b[1;33m)\u001b[0m\u001b[1;33m\u001b[0m\u001b[1;33m\u001b[0m\u001b[0m\n\u001b[0m",
      "\u001b[1;32m~\\Anaconda3\\lib\\site-packages\\tensorflow_core\\python\\keras\\engine\\network.py\u001b[0m in \u001b[0;36msummary\u001b[1;34m(self, line_length, positions, print_fn)\u001b[0m\n\u001b[0;32m   1300\u001b[0m     \"\"\"\n\u001b[0;32m   1301\u001b[0m     \u001b[1;32mif\u001b[0m \u001b[1;32mnot\u001b[0m \u001b[0mself\u001b[0m\u001b[1;33m.\u001b[0m\u001b[0mbuilt\u001b[0m\u001b[1;33m:\u001b[0m\u001b[1;33m\u001b[0m\u001b[1;33m\u001b[0m\u001b[0m\n\u001b[1;32m-> 1302\u001b[1;33m       raise ValueError('This model has not yet been built. '\n\u001b[0m\u001b[0;32m   1303\u001b[0m                        \u001b[1;34m'Build the model first by calling `build()` or calling '\u001b[0m\u001b[1;33m\u001b[0m\u001b[1;33m\u001b[0m\u001b[0m\n\u001b[0;32m   1304\u001b[0m                        \u001b[1;34m'`fit()` with some data, or specify '\u001b[0m\u001b[1;33m\u001b[0m\u001b[1;33m\u001b[0m\u001b[0m\n",
      "\u001b[1;31mValueError\u001b[0m: This model has not yet been built. Build the model first by calling `build()` or calling `fit()` with some data, or specify an `input_shape` argument in the first layer(s) for automatic build."
     ]
    }
   ],
   "source": [
    "model.summary()"
   ]
  },
  {
   "cell_type": "markdown",
   "metadata": {
    "colab_type": "text",
    "id": "Vt6W50qGsJAL"
   },
   "source": [
    "\n",
    "Now try out the model. Take a batch of `10` examples from the training data and call `model.predict` on it."
   ]
  },
  {
   "cell_type": "code",
   "execution_count": 26,
   "metadata": {},
   "outputs": [
    {
     "data": {
      "text/plain": "array([[-200.36516 ,  -87.40591 ,  172.07886 ],\n       [-423.4718  , -200.24365 ,  379.01324 ],\n       [ -51.97265 ,  -27.54663 ,   50.85124 ],\n       [-398.12457 , -160.00687 ,  328.2099  ],\n       [-236.4733  ,  -89.440384,  190.69928 ],\n       [-321.8714  , -127.116714,  263.1602  ],\n       [-642.5829  , -237.1669  ,  513.9866  ],\n       [-264.5927  , -116.401474,  227.9678  ]], dtype=float32)"
     },
     "execution_count": 26,
     "metadata": {},
     "output_type": "execute_result"
    }
   ],
   "source": [
    "example_batch = normed_train_data[:10][0:8]\n",
    "example_result = model.predict(example_batch)\n",
    "example_result"
   ]
  },
  {
   "cell_type": "markdown",
   "metadata": {
    "colab_type": "text",
    "id": "QlM8KrSOsaYo"
   },
   "source": [
    "It seems to be working, and it produces a result of the expected shape and type."
   ]
  },
  {
   "cell_type": "markdown",
   "metadata": {
    "colab_type": "text",
    "id": "0-qWCsh6DlyH"
   },
   "source": [
    "### Train the model\n",
    "\n",
    "Train the model for 1000 epochs, and record the training and validation accuracy in the `history` object."
   ]
  },
  {
   "cell_type": "code",
   "execution_count": 27,
   "metadata": {},
   "outputs": [
    {
     "name": "stdout",
     "output_type": "stream",
     "text": "\nEpoch: 0, loss:21633.8994,  mae:85.1138,  mse:21633.9004,  val_loss:15938.0527,  val_mae:74.6532,  val_mse:15938.0537,  \n....................................................................................................\nEpoch: 100, loss:12394.3369,  mae:55.2535,  mse:12394.3379,  val_loss:12358.5990,  val_mae:54.0840,  val_mse:12358.5996,  \n....................................................................................................\nEpoch: 200, loss:8122.0882,  mae:42.8626,  mse:8122.0879,  val_loss:6567.0997,  val_mae:36.9362,  val_mse:6567.0996,  \n....................................................................................................\nEpoch: 300, loss:5521.2418,  mae:34.8475,  mse:5521.2422,  val_loss:4133.7958,  val_mae:30.8988,  val_mse:4133.7959,  \n....................................................................................................\nEpoch: 400, loss:4983.5381,  mae:33.3873,  mse:4983.5376,  val_loss:4856.4337,  val_mae:34.3563,  val_mse:4856.4336,  \n....................................................................................................\nEpoch: 500, loss:3933.1118,  mae:30.1140,  mse:3933.1116,  val_loss:3420.0579,  val_mae:28.8101,  val_mse:3420.0581,  \n....................................................................................................\nEpoch: 600, loss:3732.7005,  mae:29.4607,  mse:3732.7004,  val_loss:3172.9960,  val_mae:27.5595,  val_mse:3172.9961,  \n....................................................................................................\nEpoch: 700, loss:3432.2148,  mae:28.2072,  mse:3432.2146,  val_loss:2389.2593,  val_mae:25.2803,  val_mse:2389.2593,  \n....................................................................................................\nEpoch: 800, loss:3930.9896,  mae:30.2315,  mse:3930.9895,  val_loss:2494.0618,  val_mae:24.8551,  val_mse:2494.0618,  \n....................................................................................................\nEpoch: 900, loss:3541.9840,  mae:28.7993,  mse:3541.9836,  val_loss:2623.5845,  val_mae:25.1173,  val_mse:2623.5845,  \n...................................................................................................."
    }
   ],
   "source": [
    "EPOCHS = 1000\n",
    "\n",
    "history = model.fit(\n",
    "  normed_train_data, train_labels,\n",
    "  epochs=EPOCHS, validation_split = 0.2, verbose=0,\n",
    "  callbacks=[tfdocs.modeling.EpochDots()])"
   ]
  },
  {
   "cell_type": "markdown",
   "metadata": {
    "colab_type": "text",
    "id": "tQm3pc0FYPQB"
   },
   "source": [
    "Visualize the model's training progress using the stats stored in the `history` object."
   ]
  },
  {
   "cell_type": "code",
   "execution_count": 28,
   "metadata": {},
   "outputs": [
    {
     "data": {
      "text/html": "<div>\n<style scoped>\n    .dataframe tbody tr th:only-of-type {\n        vertical-align: middle;\n    }\n\n    .dataframe tbody tr th {\n        vertical-align: top;\n    }\n\n    .dataframe thead th {\n        text-align: right;\n    }\n</style>\n<table border=\"1\" class=\"dataframe\">\n  <thead>\n    <tr style=\"text-align: right;\">\n      <th></th>\n      <th>loss</th>\n      <th>mae</th>\n      <th>mse</th>\n      <th>val_loss</th>\n      <th>val_mae</th>\n      <th>val_mse</th>\n      <th>epoch</th>\n    </tr>\n  </thead>\n  <tbody>\n    <tr>\n      <th>995</th>\n      <td>3521.557295</td>\n      <td>28.668604</td>\n      <td>3521.557373</td>\n      <td>2902.070484</td>\n      <td>26.230659</td>\n      <td>2902.070557</td>\n      <td>995</td>\n    </tr>\n    <tr>\n      <th>996</th>\n      <td>2580.274309</td>\n      <td>24.599665</td>\n      <td>2580.274414</td>\n      <td>9061.028690</td>\n      <td>46.254494</td>\n      <td>9061.028320</td>\n      <td>996</td>\n    </tr>\n    <tr>\n      <th>997</th>\n      <td>3831.562825</td>\n      <td>29.740545</td>\n      <td>3831.562988</td>\n      <td>2535.207190</td>\n      <td>25.491159</td>\n      <td>2535.207275</td>\n      <td>997</td>\n    </tr>\n    <tr>\n      <th>998</th>\n      <td>2832.734515</td>\n      <td>25.660353</td>\n      <td>2832.734375</td>\n      <td>4470.236849</td>\n      <td>32.297901</td>\n      <td>4470.236816</td>\n      <td>998</td>\n    </tr>\n    <tr>\n      <th>999</th>\n      <td>3245.237105</td>\n      <td>27.657951</td>\n      <td>3245.237061</td>\n      <td>2338.469087</td>\n      <td>25.209881</td>\n      <td>2338.469238</td>\n      <td>999</td>\n    </tr>\n  </tbody>\n</table>\n</div>",
      "text/plain": "            loss        mae          mse     val_loss    val_mae      val_mse  \\\n995  3521.557295  28.668604  3521.557373  2902.070484  26.230659  2902.070557   \n996  2580.274309  24.599665  2580.274414  9061.028690  46.254494  9061.028320   \n997  3831.562825  29.740545  3831.562988  2535.207190  25.491159  2535.207275   \n998  2832.734515  25.660353  2832.734375  4470.236849  32.297901  4470.236816   \n999  3245.237105  27.657951  3245.237061  2338.469087  25.209881  2338.469238   \n\n     epoch  \n995    995  \n996    996  \n997    997  \n998    998  \n999    999  "
     },
     "execution_count": 28,
     "metadata": {},
     "output_type": "execute_result"
    }
   ],
   "source": [
    "hist = pd.DataFrame(history.history)\n",
    "hist['epoch'] = history.epoch\n",
    "hist.tail()"
   ]
  },
  {
   "cell_type": "code",
   "execution_count": 34,
   "metadata": {},
   "outputs": [],
   "source": [
    "plotter = tfdocs.plots.HistoryPlotter(smoothing_std=2)"
   ]
  },
  {
   "cell_type": "code",
   "execution_count": 36,
   "metadata": {},
   "outputs": [
    {
     "data": {
      "text/plain": "Text(0, 0.5, 'MAE [Action]')"
     },
     "execution_count": 36,
     "metadata": {},
     "output_type": "execute_result"
    },
    {
     "data": {
      "image/png": "[encoded data removed]",
      "image/svg+xml": "<?xml version=\"1.0\" encoding=\"utf-8\" standalone=\"no\"?>\r\n<!DOCTYPE svg PUBLIC \"-//W3C//DTD SVG 1.1//EN\"\r\n  \"http://www.w3.org/Graphics/SVG/1.1/DTD/svg11.dtd\">\r\n<!-- Created with matplotlib (https://matplotlib.org/) -->\r\n<svg height=\"262.19625pt\" version=\"1.1\" viewBox=\"0 0 382.603125 262.19625\" width=\"382.603125pt\" xmlns=\"http://www.w3.org/2000/svg\" xmlns:xlink=\"http://www.w3.org/1999/xlink\">\r\n <defs>\r\n  <style type=\"text/css\">\r\n*{stroke-linecap:butt;stroke-linejoin:round;}\r\n  </style>\r\n </defs>\r\n <g id=\"figure_1\">\r\n  <g id=\"patch_1\">\r\n   <path d=\"M 0 262.19625 \r\nL 382.603125 262.19625 \r\nL 382.603125 0 \r\nL 0 0 \r\nz\r\n\" style=\"fill:none;\"/>\r\n  </g>\r\n  <g id=\"axes_1\">\r\n   <g id=\"patch_2\">\r\n    <path d=\"M 40.603125 224.64 \r\nL 375.403125 224.64 \r\nL 375.403125 7.2 \r\nL 40.603125 7.2 \r\nz\r\n\" style=\"fill:#ffffff;\"/>\r\n   </g>\r\n   <g id=\"matplotlib.axis_1\">\r\n    <g id=\"xtick_1\">\r\n     <g id=\"line2d_1\">\r\n      <path clip-path=\"url(#p314d5a3f2d)\" d=\"M 40.603125 224.64 \r\nL 40.603125 7.2 \r\n\" style=\"fill:none;stroke:#b0b0b0;stroke-linecap:square;stroke-width:0.8;\"/>\r\n     </g>\r\n     <g id=\"line2d_2\">\r\n      <defs>\r\n       <path d=\"M 0 0 \r\nL 0 3.5 \r\n\" id=\"m88eabee800\" style=\"stroke:#000000;stroke-width:0.8;\"/>\r\n      </defs>\r\n      <g>\r\n       <use style=\"stroke:#000000;stroke-width:0.8;\" x=\"40.603125\" xlink:href=\"#m88eabee800\" y=\"224.64\"/>\r\n      </g>\r\n     </g>\r\n     <g id=\"text_1\">\r\n      <!-- 0 -->\r\n      <defs>\r\n       <path d=\"M 31.78125 66.40625 \r\nQ 24.171875 66.40625 20.328125 58.90625 \r\nQ 16.5 51.421875 16.5 36.375 \r\nQ 16.5 21.390625 20.328125 13.890625 \r\nQ 24.171875 6.390625 31.78125 6.390625 \r\nQ 39.453125 6.390625 43.28125 13.890625 \r\nQ 47.125 21.390625 47.125 36.375 \r\nQ 47.125 51.421875 43.28125 58.90625 \r\nQ 39.453125 66.40625 31.78125 66.40625 \r\nz\r\nM 31.78125 74.21875 \r\nQ 44.046875 74.21875 50.515625 64.515625 \r\nQ 56.984375 54.828125 56.984375 36.375 \r\nQ 56.984375 17.96875 50.515625 8.265625 \r\nQ 44.046875 -1.421875 31.78125 -1.421875 \r\nQ 19.53125 -1.421875 13.0625 8.265625 \r\nQ 6.59375 17.96875 6.59375 36.375 \r\nQ 6.59375 54.828125 13.0625 64.515625 \r\nQ 19.53125 74.21875 31.78125 74.21875 \r\nz\r\n\" id=\"DejaVuSans-48\"/>\r\n      </defs>\r\n      <g transform=\"translate(37.421875 239.238437)scale(0.1 -0.1)\">\r\n       <use xlink:href=\"#DejaVuSans-48\"/>\r\n      </g>\r\n     </g>\r\n    </g>\r\n    <g id=\"xtick_2\">\r\n     <g id=\"line2d_3\">\r\n      <path clip-path=\"url(#p314d5a3f2d)\" d=\"M 107.630152 224.64 \r\nL 107.630152 7.2 \r\n\" style=\"fill:none;stroke:#b0b0b0;stroke-linecap:square;stroke-width:0.8;\"/>\r\n     </g>\r\n     <g id=\"line2d_4\">\r\n      <g>\r\n       <use style=\"stroke:#000000;stroke-width:0.8;\" x=\"107.630152\" xlink:href=\"#m88eabee800\" y=\"224.64\"/>\r\n      </g>\r\n     </g>\r\n     <g id=\"text_2\">\r\n      <!-- 200 -->\r\n      <defs>\r\n       <path d=\"M 19.1875 8.296875 \r\nL 53.609375 8.296875 \r\nL 53.609375 0 \r\nL 7.328125 0 \r\nL 7.328125 8.296875 \r\nQ 12.9375 14.109375 22.625 23.890625 \r\nQ 32.328125 33.6875 34.8125 36.53125 \r\nQ 39.546875 41.84375 41.421875 45.53125 \r\nQ 43.3125 49.21875 43.3125 52.78125 \r\nQ 43.3125 58.59375 39.234375 62.25 \r\nQ 35.15625 65.921875 28.609375 65.921875 \r\nQ 23.96875 65.921875 18.8125 64.3125 \r\nQ 13.671875 62.703125 7.8125 59.421875 \r\nL 7.8125 69.390625 \r\nQ 13.765625 71.78125 18.9375 73 \r\nQ 24.125 74.21875 28.421875 74.21875 \r\nQ 39.75 74.21875 46.484375 68.546875 \r\nQ 53.21875 62.890625 53.21875 53.421875 \r\nQ 53.21875 48.921875 51.53125 44.890625 \r\nQ 49.859375 40.875 45.40625 35.40625 \r\nQ 44.1875 33.984375 37.640625 27.21875 \r\nQ 31.109375 20.453125 19.1875 8.296875 \r\nz\r\n\" id=\"DejaVuSans-50\"/>\r\n      </defs>\r\n      <g transform=\"translate(98.086402 239.238437)scale(0.1 -0.1)\">\r\n       <use xlink:href=\"#DejaVuSans-50\"/>\r\n       <use x=\"63.623047\" xlink:href=\"#DejaVuSans-48\"/>\r\n       <use x=\"127.246094\" xlink:href=\"#DejaVuSans-48\"/>\r\n      </g>\r\n     </g>\r\n    </g>\r\n    <g id=\"xtick_3\">\r\n     <g id=\"line2d_5\">\r\n      <path clip-path=\"url(#p314d5a3f2d)\" d=\"M 174.657179 224.64 \r\nL 174.657179 7.2 \r\n\" style=\"fill:none;stroke:#b0b0b0;stroke-linecap:square;stroke-width:0.8;\"/>\r\n     </g>\r\n     <g id=\"line2d_6\">\r\n      <g>\r\n       <use style=\"stroke:#000000;stroke-width:0.8;\" x=\"174.657179\" xlink:href=\"#m88eabee800\" y=\"224.64\"/>\r\n      </g>\r\n     </g>\r\n     <g id=\"text_3\">\r\n      <!-- 400 -->\r\n      <defs>\r\n       <path d=\"M 37.796875 64.3125 \r\nL 12.890625 25.390625 \r\nL 37.796875 25.390625 \r\nz\r\nM 35.203125 72.90625 \r\nL 47.609375 72.90625 \r\nL 47.609375 25.390625 \r\nL 58.015625 25.390625 \r\nL 58.015625 17.1875 \r\nL 47.609375 17.1875 \r\nL 47.609375 0 \r\nL 37.796875 0 \r\nL 37.796875 17.1875 \r\nL 4.890625 17.1875 \r\nL 4.890625 26.703125 \r\nz\r\n\" id=\"DejaVuSans-52\"/>\r\n      </defs>\r\n      <g transform=\"translate(165.113429 239.238437)scale(0.1 -0.1)\">\r\n       <use xlink:href=\"#DejaVuSans-52\"/>\r\n       <use x=\"63.623047\" xlink:href=\"#DejaVuSans-48\"/>\r\n       <use x=\"127.246094\" xlink:href=\"#DejaVuSans-48\"/>\r\n      </g>\r\n     </g>\r\n    </g>\r\n    <g id=\"xtick_4\">\r\n     <g id=\"line2d_7\">\r\n      <path clip-path=\"url(#p314d5a3f2d)\" d=\"M 241.684206 224.64 \r\nL 241.684206 7.2 \r\n\" style=\"fill:none;stroke:#b0b0b0;stroke-linecap:square;stroke-width:0.8;\"/>\r\n     </g>\r\n     <g id=\"line2d_8\">\r\n      <g>\r\n       <use style=\"stroke:#000000;stroke-width:0.8;\" x=\"241.684206\" xlink:href=\"#m88eabee800\" y=\"224.64\"/>\r\n      </g>\r\n     </g>\r\n     <g id=\"text_4\">\r\n      <!-- 600 -->\r\n      <defs>\r\n       <path d=\"M 33.015625 40.375 \r\nQ 26.375 40.375 22.484375 35.828125 \r\nQ 18.609375 31.296875 18.609375 23.390625 \r\nQ 18.609375 15.53125 22.484375 10.953125 \r\nQ 26.375 6.390625 33.015625 6.390625 \r\nQ 39.65625 6.390625 43.53125 10.953125 \r\nQ 47.40625 15.53125 47.40625 23.390625 \r\nQ 47.40625 31.296875 43.53125 35.828125 \r\nQ 39.65625 40.375 33.015625 40.375 \r\nz\r\nM 52.59375 71.296875 \r\nL 52.59375 62.3125 \r\nQ 48.875 64.0625 45.09375 64.984375 \r\nQ 41.3125 65.921875 37.59375 65.921875 \r\nQ 27.828125 65.921875 22.671875 59.328125 \r\nQ 17.53125 52.734375 16.796875 39.40625 \r\nQ 19.671875 43.65625 24.015625 45.921875 \r\nQ 28.375 48.1875 33.59375 48.1875 \r\nQ 44.578125 48.1875 50.953125 41.515625 \r\nQ 57.328125 34.859375 57.328125 23.390625 \r\nQ 57.328125 12.15625 50.6875 5.359375 \r\nQ 44.046875 -1.421875 33.015625 -1.421875 \r\nQ 20.359375 -1.421875 13.671875 8.265625 \r\nQ 6.984375 17.96875 6.984375 36.375 \r\nQ 6.984375 53.65625 15.1875 63.9375 \r\nQ 23.390625 74.21875 37.203125 74.21875 \r\nQ 40.921875 74.21875 44.703125 73.484375 \r\nQ 48.484375 72.75 52.59375 71.296875 \r\nz\r\n\" id=\"DejaVuSans-54\"/>\r\n      </defs>\r\n      <g transform=\"translate(232.140456 239.238437)scale(0.1 -0.1)\">\r\n       <use xlink:href=\"#DejaVuSans-54\"/>\r\n       <use x=\"63.623047\" xlink:href=\"#DejaVuSans-48\"/>\r\n       <use x=\"127.246094\" xlink:href=\"#DejaVuSans-48\"/>\r\n      </g>\r\n     </g>\r\n    </g>\r\n    <g id=\"xtick_5\">\r\n     <g id=\"line2d_9\">\r\n      <path clip-path=\"url(#p314d5a3f2d)\" d=\"M 308.711233 224.64 \r\nL 308.711233 7.2 \r\n\" style=\"fill:none;stroke:#b0b0b0;stroke-linecap:square;stroke-width:0.8;\"/>\r\n     </g>\r\n     <g id=\"line2d_10\">\r\n      <g>\r\n       <use style=\"stroke:#000000;stroke-width:0.8;\" x=\"308.711233\" xlink:href=\"#m88eabee800\" y=\"224.64\"/>\r\n      </g>\r\n     </g>\r\n     <g id=\"text_5\">\r\n      <!-- 800 -->\r\n      <defs>\r\n       <path d=\"M 31.78125 34.625 \r\nQ 24.75 34.625 20.71875 30.859375 \r\nQ 16.703125 27.09375 16.703125 20.515625 \r\nQ 16.703125 13.921875 20.71875 10.15625 \r\nQ 24.75 6.390625 31.78125 6.390625 \r\nQ 38.8125 6.390625 42.859375 10.171875 \r\nQ 46.921875 13.96875 46.921875 20.515625 \r\nQ 46.921875 27.09375 42.890625 30.859375 \r\nQ 38.875 34.625 31.78125 34.625 \r\nz\r\nM 21.921875 38.8125 \r\nQ 15.578125 40.375 12.03125 44.71875 \r\nQ 8.5 49.078125 8.5 55.328125 \r\nQ 8.5 64.0625 14.71875 69.140625 \r\nQ 20.953125 74.21875 31.78125 74.21875 \r\nQ 42.671875 74.21875 48.875 69.140625 \r\nQ 55.078125 64.0625 55.078125 55.328125 \r\nQ 55.078125 49.078125 51.53125 44.71875 \r\nQ 48 40.375 41.703125 38.8125 \r\nQ 48.828125 37.15625 52.796875 32.3125 \r\nQ 56.78125 27.484375 56.78125 20.515625 \r\nQ 56.78125 9.90625 50.3125 4.234375 \r\nQ 43.84375 -1.421875 31.78125 -1.421875 \r\nQ 19.734375 -1.421875 13.25 4.234375 \r\nQ 6.78125 9.90625 6.78125 20.515625 \r\nQ 6.78125 27.484375 10.78125 32.3125 \r\nQ 14.796875 37.15625 21.921875 38.8125 \r\nz\r\nM 18.3125 54.390625 \r\nQ 18.3125 48.734375 21.84375 45.5625 \r\nQ 25.390625 42.390625 31.78125 42.390625 \r\nQ 38.140625 42.390625 41.71875 45.5625 \r\nQ 45.3125 48.734375 45.3125 54.390625 \r\nQ 45.3125 60.0625 41.71875 63.234375 \r\nQ 38.140625 66.40625 31.78125 66.40625 \r\nQ 25.390625 66.40625 21.84375 63.234375 \r\nQ 18.3125 60.0625 18.3125 54.390625 \r\nz\r\n\" id=\"DejaVuSans-56\"/>\r\n      </defs>\r\n      <g transform=\"translate(299.167483 239.238437)scale(0.1 -0.1)\">\r\n       <use xlink:href=\"#DejaVuSans-56\"/>\r\n       <use x=\"63.623047\" xlink:href=\"#DejaVuSans-48\"/>\r\n       <use x=\"127.246094\" xlink:href=\"#DejaVuSans-48\"/>\r\n      </g>\r\n     </g>\r\n    </g>\r\n    <g id=\"text_6\">\r\n     <!-- Epochs -->\r\n     <defs>\r\n      <path d=\"M 9.8125 72.90625 \r\nL 55.90625 72.90625 \r\nL 55.90625 64.59375 \r\nL 19.671875 64.59375 \r\nL 19.671875 43.015625 \r\nL 54.390625 43.015625 \r\nL 54.390625 34.71875 \r\nL 19.671875 34.71875 \r\nL 19.671875 8.296875 \r\nL 56.78125 8.296875 \r\nL 56.78125 0 \r\nL 9.8125 0 \r\nz\r\n\" id=\"DejaVuSans-69\"/>\r\n      <path d=\"M 18.109375 8.203125 \r\nL 18.109375 -20.796875 \r\nL 9.078125 -20.796875 \r\nL 9.078125 54.6875 \r\nL 18.109375 54.6875 \r\nL 18.109375 46.390625 \r\nQ 20.953125 51.265625 25.265625 53.625 \r\nQ 29.59375 56 35.59375 56 \r\nQ 45.5625 56 51.78125 48.09375 \r\nQ 58.015625 40.1875 58.015625 27.296875 \r\nQ 58.015625 14.40625 51.78125 6.484375 \r\nQ 45.5625 -1.421875 35.59375 -1.421875 \r\nQ 29.59375 -1.421875 25.265625 0.953125 \r\nQ 20.953125 3.328125 18.109375 8.203125 \r\nz\r\nM 48.6875 27.296875 \r\nQ 48.6875 37.203125 44.609375 42.84375 \r\nQ 40.53125 48.484375 33.40625 48.484375 \r\nQ 26.265625 48.484375 22.1875 42.84375 \r\nQ 18.109375 37.203125 18.109375 27.296875 \r\nQ 18.109375 17.390625 22.1875 11.75 \r\nQ 26.265625 6.109375 33.40625 6.109375 \r\nQ 40.53125 6.109375 44.609375 11.75 \r\nQ 48.6875 17.390625 48.6875 27.296875 \r\nz\r\n\" id=\"DejaVuSans-112\"/>\r\n      <path d=\"M 30.609375 48.390625 \r\nQ 23.390625 48.390625 19.1875 42.75 \r\nQ 14.984375 37.109375 14.984375 27.296875 \r\nQ 14.984375 17.484375 19.15625 11.84375 \r\nQ 23.34375 6.203125 30.609375 6.203125 \r\nQ 37.796875 6.203125 41.984375 11.859375 \r\nQ 46.1875 17.53125 46.1875 27.296875 \r\nQ 46.1875 37.015625 41.984375 42.703125 \r\nQ 37.796875 48.390625 30.609375 48.390625 \r\nz\r\nM 30.609375 56 \r\nQ 42.328125 56 49.015625 48.375 \r\nQ 55.71875 40.765625 55.71875 27.296875 \r\nQ 55.71875 13.875 49.015625 6.21875 \r\nQ 42.328125 -1.421875 30.609375 -1.421875 \r\nQ 18.84375 -1.421875 12.171875 6.21875 \r\nQ 5.515625 13.875 5.515625 27.296875 \r\nQ 5.515625 40.765625 12.171875 48.375 \r\nQ 18.84375 56 30.609375 56 \r\nz\r\n\" id=\"DejaVuSans-111\"/>\r\n      <path d=\"M 48.78125 52.59375 \r\nL 48.78125 44.1875 \r\nQ 44.96875 46.296875 41.140625 47.34375 \r\nQ 37.3125 48.390625 33.40625 48.390625 \r\nQ 24.65625 48.390625 19.8125 42.84375 \r\nQ 14.984375 37.3125 14.984375 27.296875 \r\nQ 14.984375 17.28125 19.8125 11.734375 \r\nQ 24.65625 6.203125 33.40625 6.203125 \r\nQ 37.3125 6.203125 41.140625 7.25 \r\nQ 44.96875 8.296875 48.78125 10.40625 \r\nL 48.78125 2.09375 \r\nQ 45.015625 0.34375 40.984375 -0.53125 \r\nQ 36.96875 -1.421875 32.421875 -1.421875 \r\nQ 20.0625 -1.421875 12.78125 6.34375 \r\nQ 5.515625 14.109375 5.515625 27.296875 \r\nQ 5.515625 40.671875 12.859375 48.328125 \r\nQ 20.21875 56 33.015625 56 \r\nQ 37.15625 56 41.109375 55.140625 \r\nQ 45.0625 54.296875 48.78125 52.59375 \r\nz\r\n\" id=\"DejaVuSans-99\"/>\r\n      <path d=\"M 54.890625 33.015625 \r\nL 54.890625 0 \r\nL 45.90625 0 \r\nL 45.90625 32.71875 \r\nQ 45.90625 40.484375 42.875 44.328125 \r\nQ 39.84375 48.1875 33.796875 48.1875 \r\nQ 26.515625 48.1875 22.3125 43.546875 \r\nQ 18.109375 38.921875 18.109375 30.90625 \r\nL 18.109375 0 \r\nL 9.078125 0 \r\nL 9.078125 75.984375 \r\nL 18.109375 75.984375 \r\nL 18.109375 46.1875 \r\nQ 21.34375 51.125 25.703125 53.5625 \r\nQ 30.078125 56 35.796875 56 \r\nQ 45.21875 56 50.046875 50.171875 \r\nQ 54.890625 44.34375 54.890625 33.015625 \r\nz\r\n\" id=\"DejaVuSans-104\"/>\r\n      <path d=\"M 44.28125 53.078125 \r\nL 44.28125 44.578125 \r\nQ 40.484375 46.53125 36.375 47.5 \r\nQ 32.28125 48.484375 27.875 48.484375 \r\nQ 21.1875 48.484375 17.84375 46.4375 \r\nQ 14.5 44.390625 14.5 40.28125 \r\nQ 14.5 37.15625 16.890625 35.375 \r\nQ 19.28125 33.59375 26.515625 31.984375 \r\nL 29.59375 31.296875 \r\nQ 39.15625 29.25 43.1875 25.515625 \r\nQ 47.21875 21.78125 47.21875 15.09375 \r\nQ 47.21875 7.46875 41.1875 3.015625 \r\nQ 35.15625 -1.421875 24.609375 -1.421875 \r\nQ 20.21875 -1.421875 15.453125 -0.5625 \r\nQ 10.6875 0.296875 5.421875 2 \r\nL 5.421875 11.28125 \r\nQ 10.40625 8.6875 15.234375 7.390625 \r\nQ 20.0625 6.109375 24.8125 6.109375 \r\nQ 31.15625 6.109375 34.5625 8.28125 \r\nQ 37.984375 10.453125 37.984375 14.40625 \r\nQ 37.984375 18.0625 35.515625 20.015625 \r\nQ 33.0625 21.96875 24.703125 23.78125 \r\nL 21.578125 24.515625 \r\nQ 13.234375 26.265625 9.515625 29.90625 \r\nQ 5.8125 33.546875 5.8125 39.890625 \r\nQ 5.8125 47.609375 11.28125 51.796875 \r\nQ 16.75 56 26.8125 56 \r\nQ 31.78125 56 36.171875 55.265625 \r\nQ 40.578125 54.546875 44.28125 53.078125 \r\nz\r\n\" id=\"DejaVuSans-115\"/>\r\n     </defs>\r\n     <g transform=\"translate(190.0875 252.916562)scale(0.1 -0.1)\">\r\n      <use xlink:href=\"#DejaVuSans-69\"/>\r\n      <use x=\"63.183594\" xlink:href=\"#DejaVuSans-112\"/>\r\n      <use x=\"126.660156\" xlink:href=\"#DejaVuSans-111\"/>\r\n      <use x=\"187.841797\" xlink:href=\"#DejaVuSans-99\"/>\r\n      <use x=\"242.822266\" xlink:href=\"#DejaVuSans-104\"/>\r\n      <use x=\"306.201172\" xlink:href=\"#DejaVuSans-115\"/>\r\n     </g>\r\n    </g>\r\n   </g>\r\n   <g id=\"matplotlib.axis_2\">\r\n    <g id=\"ytick_1\">\r\n     <g id=\"line2d_11\">\r\n      <path clip-path=\"url(#p314d5a3f2d)\" d=\"M 40.603125 197.456473 \r\nL 375.403125 197.456473 \r\n\" style=\"fill:none;stroke:#b0b0b0;stroke-linecap:square;stroke-width:0.8;\"/>\r\n     </g>\r\n     <g id=\"line2d_12\">\r\n      <defs>\r\n       <path d=\"M 0 0 \r\nL -3.5 0 \r\n\" id=\"m48c8e10097\" style=\"stroke:#000000;stroke-width:0.8;\"/>\r\n      </defs>\r\n      <g>\r\n       <use style=\"stroke:#000000;stroke-width:0.8;\" x=\"40.603125\" xlink:href=\"#m48c8e10097\" y=\"197.456473\"/>\r\n      </g>\r\n     </g>\r\n     <g id=\"text_7\">\r\n      <!-- 30 -->\r\n      <defs>\r\n       <path d=\"M 40.578125 39.3125 \r\nQ 47.65625 37.796875 51.625 33 \r\nQ 55.609375 28.21875 55.609375 21.1875 \r\nQ 55.609375 10.40625 48.1875 4.484375 \r\nQ 40.765625 -1.421875 27.09375 -1.421875 \r\nQ 22.515625 -1.421875 17.65625 -0.515625 \r\nQ 12.796875 0.390625 7.625 2.203125 \r\nL 7.625 11.71875 \r\nQ 11.71875 9.328125 16.59375 8.109375 \r\nQ 21.484375 6.890625 26.8125 6.890625 \r\nQ 36.078125 6.890625 40.9375 10.546875 \r\nQ 45.796875 14.203125 45.796875 21.1875 \r\nQ 45.796875 27.640625 41.28125 31.265625 \r\nQ 36.765625 34.90625 28.71875 34.90625 \r\nL 20.21875 34.90625 \r\nL 20.21875 43.015625 \r\nL 29.109375 43.015625 \r\nQ 36.375 43.015625 40.234375 45.921875 \r\nQ 44.09375 48.828125 44.09375 54.296875 \r\nQ 44.09375 59.90625 40.109375 62.90625 \r\nQ 36.140625 65.921875 28.71875 65.921875 \r\nQ 24.65625 65.921875 20.015625 65.03125 \r\nQ 15.375 64.15625 9.8125 62.3125 \r\nL 9.8125 71.09375 \r\nQ 15.4375 72.65625 20.34375 73.4375 \r\nQ 25.25 74.21875 29.59375 74.21875 \r\nQ 40.828125 74.21875 47.359375 69.109375 \r\nQ 53.90625 64.015625 53.90625 55.328125 \r\nQ 53.90625 49.265625 50.4375 45.09375 \r\nQ 46.96875 40.921875 40.578125 39.3125 \r\nz\r\n\" id=\"DejaVuSans-51\"/>\r\n      </defs>\r\n      <g transform=\"translate(20.878125 201.255691)scale(0.1 -0.1)\">\r\n       <use xlink:href=\"#DejaVuSans-51\"/>\r\n       <use x=\"63.623047\" xlink:href=\"#DejaVuSans-48\"/>\r\n      </g>\r\n     </g>\r\n    </g>\r\n    <g id=\"ytick_2\">\r\n     <g id=\"line2d_13\">\r\n      <path clip-path=\"url(#p314d5a3f2d)\" d=\"M 40.603125 156.673125 \r\nL 375.403125 156.673125 \r\n\" style=\"fill:none;stroke:#b0b0b0;stroke-linecap:square;stroke-width:0.8;\"/>\r\n     </g>\r\n     <g id=\"line2d_14\">\r\n      <g>\r\n       <use style=\"stroke:#000000;stroke-width:0.8;\" x=\"40.603125\" xlink:href=\"#m48c8e10097\" y=\"156.673125\"/>\r\n      </g>\r\n     </g>\r\n     <g id=\"text_8\">\r\n      <!-- 40 -->\r\n      <g transform=\"translate(20.878125 160.472343)scale(0.1 -0.1)\">\r\n       <use xlink:href=\"#DejaVuSans-52\"/>\r\n       <use x=\"63.623047\" xlink:href=\"#DejaVuSans-48\"/>\r\n      </g>\r\n     </g>\r\n    </g>\r\n    <g id=\"ytick_3\">\r\n     <g id=\"line2d_15\">\r\n      <path clip-path=\"url(#p314d5a3f2d)\" d=\"M 40.603125 115.889776 \r\nL 375.403125 115.889776 \r\n\" style=\"fill:none;stroke:#b0b0b0;stroke-linecap:square;stroke-width:0.8;\"/>\r\n     </g>\r\n     <g id=\"line2d_16\">\r\n      <g>\r\n       <use style=\"stroke:#000000;stroke-width:0.8;\" x=\"40.603125\" xlink:href=\"#m48c8e10097\" y=\"115.889776\"/>\r\n      </g>\r\n     </g>\r\n     <g id=\"text_9\">\r\n      <!-- 50 -->\r\n      <defs>\r\n       <path d=\"M 10.796875 72.90625 \r\nL 49.515625 72.90625 \r\nL 49.515625 64.59375 \r\nL 19.828125 64.59375 \r\nL 19.828125 46.734375 \r\nQ 21.96875 47.46875 24.109375 47.828125 \r\nQ 26.265625 48.1875 28.421875 48.1875 \r\nQ 40.625 48.1875 47.75 41.5 \r\nQ 54.890625 34.8125 54.890625 23.390625 \r\nQ 54.890625 11.625 47.5625 5.09375 \r\nQ 40.234375 -1.421875 26.90625 -1.421875 \r\nQ 22.3125 -1.421875 17.546875 -0.640625 \r\nQ 12.796875 0.140625 7.71875 1.703125 \r\nL 7.71875 11.625 \r\nQ 12.109375 9.234375 16.796875 8.0625 \r\nQ 21.484375 6.890625 26.703125 6.890625 \r\nQ 35.15625 6.890625 40.078125 11.328125 \r\nQ 45.015625 15.765625 45.015625 23.390625 \r\nQ 45.015625 31 40.078125 35.4375 \r\nQ 35.15625 39.890625 26.703125 39.890625 \r\nQ 22.75 39.890625 18.8125 39.015625 \r\nQ 14.890625 38.140625 10.796875 36.28125 \r\nz\r\n\" id=\"DejaVuSans-53\"/>\r\n      </defs>\r\n      <g transform=\"translate(20.878125 119.688995)scale(0.1 -0.1)\">\r\n       <use xlink:href=\"#DejaVuSans-53\"/>\r\n       <use x=\"63.623047\" xlink:href=\"#DejaVuSans-48\"/>\r\n      </g>\r\n     </g>\r\n    </g>\r\n    <g id=\"ytick_4\">\r\n     <g id=\"line2d_17\">\r\n      <path clip-path=\"url(#p314d5a3f2d)\" d=\"M 40.603125 75.106428 \r\nL 375.403125 75.106428 \r\n\" style=\"fill:none;stroke:#b0b0b0;stroke-linecap:square;stroke-width:0.8;\"/>\r\n     </g>\r\n     <g id=\"line2d_18\">\r\n      <g>\r\n       <use style=\"stroke:#000000;stroke-width:0.8;\" x=\"40.603125\" xlink:href=\"#m48c8e10097\" y=\"75.106428\"/>\r\n      </g>\r\n     </g>\r\n     <g id=\"text_10\">\r\n      <!-- 60 -->\r\n      <g transform=\"translate(20.878125 78.905647)scale(0.1 -0.1)\">\r\n       <use xlink:href=\"#DejaVuSans-54\"/>\r\n       <use x=\"63.623047\" xlink:href=\"#DejaVuSans-48\"/>\r\n      </g>\r\n     </g>\r\n    </g>\r\n    <g id=\"ytick_5\">\r\n     <g id=\"line2d_19\">\r\n      <path clip-path=\"url(#p314d5a3f2d)\" d=\"M 40.603125 34.32308 \r\nL 375.403125 34.32308 \r\n\" style=\"fill:none;stroke:#b0b0b0;stroke-linecap:square;stroke-width:0.8;\"/>\r\n     </g>\r\n     <g id=\"line2d_20\">\r\n      <g>\r\n       <use style=\"stroke:#000000;stroke-width:0.8;\" x=\"40.603125\" xlink:href=\"#m48c8e10097\" y=\"34.32308\"/>\r\n      </g>\r\n     </g>\r\n     <g id=\"text_11\">\r\n      <!-- 70 -->\r\n      <defs>\r\n       <path d=\"M 8.203125 72.90625 \r\nL 55.078125 72.90625 \r\nL 55.078125 68.703125 \r\nL 28.609375 0 \r\nL 18.3125 0 \r\nL 43.21875 64.59375 \r\nL 8.203125 64.59375 \r\nz\r\n\" id=\"DejaVuSans-55\"/>\r\n      </defs>\r\n      <g transform=\"translate(20.878125 38.122299)scale(0.1 -0.1)\">\r\n       <use xlink:href=\"#DejaVuSans-55\"/>\r\n       <use x=\"63.623047\" xlink:href=\"#DejaVuSans-48\"/>\r\n      </g>\r\n     </g>\r\n    </g>\r\n    <g id=\"text_12\">\r\n     <!-- MAE [Action] -->\r\n     <defs>\r\n      <path d=\"M 9.8125 72.90625 \r\nL 24.515625 72.90625 \r\nL 43.109375 23.296875 \r\nL 61.8125 72.90625 \r\nL 76.515625 72.90625 \r\nL 76.515625 0 \r\nL 66.890625 0 \r\nL 66.890625 64.015625 \r\nL 48.09375 14.015625 \r\nL 38.1875 14.015625 \r\nL 19.390625 64.015625 \r\nL 19.390625 0 \r\nL 9.8125 0 \r\nz\r\n\" id=\"DejaVuSans-77\"/>\r\n      <path d=\"M 34.1875 63.1875 \r\nL 20.796875 26.90625 \r\nL 47.609375 26.90625 \r\nz\r\nM 28.609375 72.90625 \r\nL 39.796875 72.90625 \r\nL 67.578125 0 \r\nL 57.328125 0 \r\nL 50.6875 18.703125 \r\nL 17.828125 18.703125 \r\nL 11.1875 0 \r\nL 0.78125 0 \r\nz\r\n\" id=\"DejaVuSans-65\"/>\r\n      <path id=\"DejaVuSans-32\"/>\r\n      <path d=\"M 8.59375 75.984375 \r\nL 29.296875 75.984375 \r\nL 29.296875 69 \r\nL 17.578125 69 \r\nL 17.578125 -6.203125 \r\nL 29.296875 -6.203125 \r\nL 29.296875 -13.1875 \r\nL 8.59375 -13.1875 \r\nz\r\n\" id=\"DejaVuSans-91\"/>\r\n      <path d=\"M 18.3125 70.21875 \r\nL 18.3125 54.6875 \r\nL 36.8125 54.6875 \r\nL 36.8125 47.703125 \r\nL 18.3125 47.703125 \r\nL 18.3125 18.015625 \r\nQ 18.3125 11.328125 20.140625 9.421875 \r\nQ 21.96875 7.515625 27.59375 7.515625 \r\nL 36.8125 7.515625 \r\nL 36.8125 0 \r\nL 27.59375 0 \r\nQ 17.1875 0 13.234375 3.875 \r\nQ 9.28125 7.765625 9.28125 18.015625 \r\nL 9.28125 47.703125 \r\nL 2.6875 47.703125 \r\nL 2.6875 54.6875 \r\nL 9.28125 54.6875 \r\nL 9.28125 70.21875 \r\nz\r\n\" id=\"DejaVuSans-116\"/>\r\n      <path d=\"M 9.421875 54.6875 \r\nL 18.40625 54.6875 \r\nL 18.40625 0 \r\nL 9.421875 0 \r\nz\r\nM 9.421875 75.984375 \r\nL 18.40625 75.984375 \r\nL 18.40625 64.59375 \r\nL 9.421875 64.59375 \r\nz\r\n\" id=\"DejaVuSans-105\"/>\r\n      <path d=\"M 54.890625 33.015625 \r\nL 54.890625 0 \r\nL 45.90625 0 \r\nL 45.90625 32.71875 \r\nQ 45.90625 40.484375 42.875 44.328125 \r\nQ 39.84375 48.1875 33.796875 48.1875 \r\nQ 26.515625 48.1875 22.3125 43.546875 \r\nQ 18.109375 38.921875 18.109375 30.90625 \r\nL 18.109375 0 \r\nL 9.078125 0 \r\nL 9.078125 54.6875 \r\nL 18.109375 54.6875 \r\nL 18.109375 46.1875 \r\nQ 21.34375 51.125 25.703125 53.5625 \r\nQ 30.078125 56 35.796875 56 \r\nQ 45.21875 56 50.046875 50.171875 \r\nQ 54.890625 44.34375 54.890625 33.015625 \r\nz\r\n\" id=\"DejaVuSans-110\"/>\r\n      <path d=\"M 30.421875 75.984375 \r\nL 30.421875 -13.1875 \r\nL 9.71875 -13.1875 \r\nL 9.71875 -6.203125 \r\nL 21.390625 -6.203125 \r\nL 21.390625 69 \r\nL 9.71875 69 \r\nL 9.71875 75.984375 \r\nz\r\n\" id=\"DejaVuSans-93\"/>\r\n     </defs>\r\n     <g transform=\"translate(14.798438 148.050469)rotate(-90)scale(0.1 -0.1)\">\r\n      <use xlink:href=\"#DejaVuSans-77\"/>\r\n      <use x=\"86.279297\" xlink:href=\"#DejaVuSans-65\"/>\r\n      <use x=\"154.6875\" xlink:href=\"#DejaVuSans-69\"/>\r\n      <use x=\"217.871094\" xlink:href=\"#DejaVuSans-32\"/>\r\n      <use x=\"249.658203\" xlink:href=\"#DejaVuSans-91\"/>\r\n      <use x=\"288.671875\" xlink:href=\"#DejaVuSans-65\"/>\r\n      <use x=\"357.064453\" xlink:href=\"#DejaVuSans-99\"/>\r\n      <use x=\"412.044922\" xlink:href=\"#DejaVuSans-116\"/>\r\n      <use x=\"451.253906\" xlink:href=\"#DejaVuSans-105\"/>\r\n      <use x=\"479.037109\" xlink:href=\"#DejaVuSans-111\"/>\r\n      <use x=\"540.21875\" xlink:href=\"#DejaVuSans-110\"/>\r\n      <use x=\"603.597656\" xlink:href=\"#DejaVuSans-93\"/>\r\n     </g>\r\n    </g>\r\n   </g>\r\n   <g id=\"line2d_21\">\r\n    <path clip-path=\"url(#p314d5a3f2d)\" d=\"M 40.603125 17.083636 \r\nL 41.60853 22.605194 \r\nL 42.278801 25.32775 \r\nL 42.949071 27.286258 \r\nL 48.311233 41.512543 \r\nL 48.981503 42.831781 \r\nL 50.322044 45.173685 \r\nL 50.992314 46.888796 \r\nL 53.003125 52.586175 \r\nL 55.013936 56.551724 \r\nL 56.019341 57.955268 \r\nL 58.365287 60.51119 \r\nL 59.705828 61.778649 \r\nL 60.376098 62.655642 \r\nL 61.381503 64.748555 \r\nL 65.403125 74.401464 \r\nL 68.084206 79.415943 \r\nL 69.424747 81.45233 \r\nL 71.100422 84.15917 \r\nL 73.446368 89.63038 \r\nL 74.116639 91.021421 \r\nL 75.122044 92.69803 \r\nL 76.127449 94.427552 \r\nL 78.13826 98.423281 \r\nL 79.478801 101.380755 \r\nL 81.154476 105.714709 \r\nL 85.176098 114.573181 \r\nL 88.862584 121.407867 \r\nL 90.203125 123.953567 \r\nL 92.213936 128.977916 \r\nL 92.884206 130.230604 \r\nL 95.230152 133.509451 \r\nL 96.235557 135.060024 \r\nL 96.905828 136.070377 \r\nL 98.916639 139.641254 \r\nL 101.59772 144.730705 \r\nL 104.278801 150.589324 \r\nL 104.949071 151.644955 \r\nL 106.624747 153.485312 \r\nL 108.970693 156.645426 \r\nL 110.646368 157.510855 \r\nL 111.316639 158.164911 \r\nL 111.651774 158.582732 \r\nL 112.992314 160.997142 \r\nL 115.673395 164.880694 \r\nL 116.678801 165.539594 \r\nL 118.019341 166.017806 \r\nL 119.024747 166.396324 \r\nL 119.695017 166.806 \r\nL 120.030152 167.163477 \r\nL 121.705828 169.582365 \r\nL 124.722044 173.144594 \r\nL 125.392314 173.313259 \r\nL 125.727449 173.055725 \r\nL 126.39772 172.884037 \r\nL 127.06799 173.18057 \r\nL 127.403125 173.533575 \r\nL 129.078801 176.359841 \r\nL 129.413936 176.788345 \r\nL 129.749071 176.983382 \r\nL 130.419341 176.988616 \r\nL 131.424747 176.475771 \r\nL 131.759882 176.237357 \r\nL 132.430152 176.205043 \r\nL 132.765287 176.418996 \r\nL 134.440963 178.063043 \r\nL 134.776098 178.181722 \r\nL 137.457179 177.69417 \r\nL 138.79772 177.860336 \r\nL 140.473395 179.156437 \r\nL 141.143666 180.043555 \r\nL 142.149071 181.418678 \r\nL 142.484206 181.743501 \r\nL 143.489611 182.130615 \r\nL 144.495017 182.349675 \r\nL 146.505828 182.036633 \r\nL 146.840963 181.95947 \r\nL 147.176098 182.125182 \r\nL 147.511233 182.433913 \r\nL 149.186909 184.595928 \r\nL 149.857179 184.673433 \r\nL 150.862584 184.078832 \r\nL 151.19772 183.973282 \r\nL 152.203125 184.229235 \r\nL 153.878801 185.480163 \r\nL 154.884206 185.543821 \r\nL 156.895017 185.623329 \r\nL 157.230152 185.683603 \r\nL 157.565287 185.88312 \r\nL 158.905828 186.005632 \r\nL 159.576098 186.123883 \r\nL 161.251774 185.947145 \r\nL 161.922044 185.861519 \r\nL 162.257179 185.942258 \r\nL 162.592314 185.876664 \r\nL 163.59772 186.222591 \r\nL 164.93826 187.141409 \r\nL 165.273395 187.329431 \r\nL 165.943666 187.951938 \r\nL 166.278801 188.047635 \r\nL 167.619341 189.068551 \r\nL 168.959882 189.188401 \r\nL 169.295017 189.059537 \r\nL 169.965287 188.643628 \r\nL 170.970693 188.302513 \r\nL 171.305828 188.285781 \r\nL 172.646368 188.589767 \r\nL 172.981503 188.659488 \r\nL 173.986909 188.399233 \r\nL 174.322044 188.25423 \r\nL 174.992314 188.453098 \r\nL 175.327449 188.582656 \r\nL 176.332855 189.270971 \r\nL 176.66799 189.415844 \r\nL 179.013936 189.011782 \r\nL 179.684206 189.256462 \r\nL 180.354476 189.749291 \r\nL 181.359882 190.993648 \r\nL 182.030152 191.588913 \r\nL 182.700422 191.965896 \r\nL 183.370693 192.03964 \r\nL 185.046368 192.316647 \r\nL 185.716639 192.429288 \r\nL 186.722044 192.279229 \r\nL 187.057179 192.081579 \r\nL 187.392314 192.078149 \r\nL 188.062584 192.354923 \r\nL 189.06799 193.173049 \r\nL 189.73826 193.470205 \r\nL 190.743666 193.077981 \r\nL 191.413936 192.839884 \r\nL 191.749071 192.804936 \r\nL 192.419341 192.957024 \r\nL 193.424747 193.588913 \r\nL 195.435557 194.229786 \r\nL 196.105828 194.229218 \r\nL 196.776098 193.836295 \r\nL 197.781503 192.901873 \r\nL 198.786909 192.541467 \r\nL 199.122044 192.56237 \r\nL 200.79772 193.499302 \r\nL 201.803125 193.652607 \r\nL 202.473395 193.569489 \r\nL 203.143666 193.36805 \r\nL 204.149071 193.482651 \r\nL 205.824747 194.096224 \r\nL 206.495017 194.244681 \r\nL 207.500422 194.852478 \r\nL 208.505828 195.189047 \r\nL 210.516639 194.794446 \r\nL 211.186909 195.076126 \r\nL 212.862584 196.018738 \r\nL 213.532855 196.021427 \r\nL 214.203125 196.102099 \r\nL 215.878801 196.257385 \r\nL 217.554476 195.591509 \r\nL 218.559882 195.784087 \r\nL 219.230152 196.026963 \r\nL 220.235557 196.37843 \r\nL 222.246368 196.652064 \r\nL 224.257179 197.02863 \r\nL 224.927449 197.013798 \r\nL 225.932855 197.113951 \r\nL 227.273395 197.431372 \r\nL 227.943666 197.6508 \r\nL 228.949071 197.976064 \r\nL 229.954476 198.242863 \r\nL 230.289611 198.360445 \r\nL 230.959882 198.23671 \r\nL 231.295017 198.138574 \r\nL 232.300422 197.588895 \r\nL 233.305828 197.394394 \r\nL 234.981503 198.430407 \r\nL 235.986909 198.290249 \r\nL 236.657179 198.007815 \r\nL 236.992314 197.986364 \r\nL 237.327449 198.083293 \r\nL 237.662584 198.30941 \r\nL 238.66799 199.574395 \r\nL 239.33826 200.289828 \r\nL 239.673395 200.53807 \r\nL 240.343666 200.668154 \r\nL 241.013936 200.524495 \r\nL 241.684206 200.419447 \r\nL 242.689611 200.631933 \r\nL 243.024747 200.70711 \r\nL 244.365287 200.602466 \r\nL 245.370693 200.775343 \r\nL 246.376098 200.948062 \r\nL 248.722044 200.593868 \r\nL 249.727449 200.673523 \r\nL 250.39772 200.756399 \r\nL 252.40853 199.940109 \r\nL 252.743666 199.944767 \r\nL 253.078801 200.117656 \r\nL 253.413936 200.140938 \r\nL 254.419341 200.602475 \r\nL 255.424747 200.930368 \r\nL 256.095017 201.042645 \r\nL 256.765287 201.332923 \r\nL 258.105828 201.323239 \r\nL 258.776098 201.197738 \r\nL 259.781503 201.458393 \r\nL 261.122044 202.453085 \r\nL 261.792314 202.804078 \r\nL 262.462584 202.859863 \r\nL 263.132855 202.708583 \r\nL 263.803125 202.574401 \r\nL 265.143666 202.690052 \r\nL 267.824747 202.213491 \r\nL 269.500422 202.831948 \r\nL 270.170693 202.72949 \r\nL 270.840963 202.407576 \r\nL 271.511233 202.22039 \r\nL 273.522044 202.211228 \r\nL 274.527449 202.254079 \r\nL 275.19772 202.2891 \r\nL 275.86799 202.692374 \r\nL 276.873395 203.885364 \r\nL 277.543666 204.742081 \r\nL 277.878801 205.100912 \r\nL 278.549071 205.322866 \r\nL 278.884206 205.183003 \r\nL 279.554476 204.458901 \r\nL 281.230152 202.785859 \r\nL 281.900422 202.661452 \r\nL 282.235557 202.725408 \r\nL 283.240963 203.338145 \r\nL 284.581503 204.517087 \r\nL 285.251774 204.919067 \r\nL 285.922044 205.050323 \r\nL 286.927449 204.846242 \r\nL 287.932855 204.592502 \r\nL 288.603125 204.780014 \r\nL 289.943666 205.262736 \r\nL 292.289611 205.184387 \r\nL 293.630152 205.620734 \r\nL 294.635557 205.424673 \r\nL 295.640963 205.182312 \r\nL 296.981503 205.678716 \r\nL 297.986909 206.239094 \r\nL 298.657179 206.382297 \r\nL 299.327449 206.078092 \r\nL 300.66799 205.115169 \r\nL 301.33826 204.883524 \r\nL 303.013936 204.898096 \r\nL 303.684206 205.045216 \r\nL 304.354476 205.430477 \r\nL 305.695017 206.645327 \r\nL 306.365287 206.531038 \r\nL 307.035557 205.716108 \r\nL 308.040963 204.265608 \r\nL 308.711233 203.821032 \r\nL 309.381503 203.851826 \r\nL 311.392314 204.79238 \r\nL 313.403125 206.291906 \r\nL 314.073395 206.362504 \r\nL 315.078801 206.138478 \r\nL 315.749071 205.853947 \r\nL 317.089611 205.511444 \r\nL 317.759882 205.181713 \r\nL 318.430152 205.030755 \r\nL 318.765287 205.095737 \r\nL 319.435557 205.605847 \r\nL 320.776098 207.179263 \r\nL 321.111233 207.473282 \r\nL 321.446368 207.56545 \r\nL 322.116639 207.429607 \r\nL 323.122044 207.022034 \r\nL 323.792314 207.121029 \r\nL 324.462584 207.476801 \r\nL 326.13826 207.939647 \r\nL 328.484206 207.725555 \r\nL 330.495017 208.09919 \r\nL 331.500422 208.132272 \r\nL 332.840963 207.794184 \r\nL 333.846368 207.108826 \r\nL 334.516639 206.645855 \r\nL 335.186909 206.563813 \r\nL 335.522044 206.76716 \r\nL 337.532855 209.078201 \r\nL 337.86799 209.238373 \r\nL 338.203125 209.218635 \r\nL 338.873395 208.768378 \r\nL 339.878801 208.006282 \r\nL 340.549071 207.833634 \r\nL 341.554476 207.969319 \r\nL 344.235557 208.543291 \r\nL 345.240963 208.493788 \r\nL 345.911233 208.359599 \r\nL 347.586909 208.817314 \r\nL 347.922044 208.949426 \r\nL 349.59772 208.84823 \r\nL 350.26799 208.607025 \r\nL 353.619341 208.522792 \r\nL 354.959882 208.294405 \r\nL 355.630152 208.528519 \r\nL 355.965287 208.781475 \r\nL 356.970693 208.987406 \r\nL 358.646368 208.796132 \r\nL 359.651774 208.8539 \r\nL 361.327449 208.846726 \r\nL 362.332855 209.053991 \r\nL 363.003125 209.177014 \r\nL 364.00853 209.175975 \r\nL 365.013936 209.192557 \r\nL 365.684206 209.340267 \r\nL 366.354476 209.608336 \r\nL 368.030152 210.475055 \r\nL 368.700422 210.371431 \r\nL 371.046368 209.228422 \r\nL 371.381503 209.17845 \r\nL 371.716639 209.317448 \r\nL 372.386909 209.419478 \r\nL 373.057179 209.442354 \r\nL 375.403125 208.997045 \r\nL 375.403125 208.997045 \r\n\" style=\"fill:none;stroke:#1f77b4;stroke-linecap:square;stroke-width:1.5;\"/>\r\n   </g>\r\n   <g id=\"line2d_22\">\r\n    <path clip-path=\"url(#p314d5a3f2d)\" d=\"M 40.603125 24.595231 \r\nL 40.93826 24.047873 \r\nL 41.273395 23.214217 \r\nL 41.60853 23.05795 \r\nL 41.943666 23.129114 \r\nL 42.278801 23.757926 \r\nL 42.613936 25.000017 \r\nL 43.284206 29.402564 \r\nL 43.954476 34.41693 \r\nL 44.289611 36.015204 \r\nL 44.624747 36.979408 \r\nL 44.959882 36.567078 \r\nL 45.295017 35.288732 \r\nL 45.630152 33.156695 \r\nL 46.300422 27.781149 \r\nL 46.635557 26.108692 \r\nL 46.970693 25.888976 \r\nL 47.305828 26.209163 \r\nL 47.640963 27.913469 \r\nL 48.981503 37.862375 \r\nL 50.322044 49.132013 \r\nL 50.992314 52.075177 \r\nL 51.662584 54.438661 \r\nL 53.33826 57.161031 \r\nL 54.678801 61.308957 \r\nL 55.013936 61.633674 \r\nL 55.349071 61.720736 \r\nL 55.684206 61.528173 \r\nL 56.019341 61.14849 \r\nL 56.689611 61.109221 \r\nL 57.024747 61.732889 \r\nL 57.359882 62.80167 \r\nL 58.030152 66.078678 \r\nL 59.035557 71.531737 \r\nL 59.705828 73.617984 \r\nL 60.040963 74.193308 \r\nL 60.376098 74.385115 \r\nL 61.046368 74.290113 \r\nL 62.051774 71.657765 \r\nL 62.386909 70.635736 \r\nL 62.722044 69.240766 \r\nL 63.392314 67.673664 \r\nL 63.727449 67.76456 \r\nL 64.062584 68.565898 \r\nL 64.39772 70.125736 \r\nL 66.073395 81.523976 \r\nL 66.40853 82.600697 \r\nL 66.743666 82.90656 \r\nL 67.078801 83.011408 \r\nL 68.084206 81.682602 \r\nL 68.419341 81.81878 \r\nL 68.754476 82.422009 \r\nL 69.424747 84.941306 \r\nL 70.430152 89.694118 \r\nL 71.100422 92.026886 \r\nL 71.435557 92.749245 \r\nL 71.770693 93.19474 \r\nL 72.105828 93.025541 \r\nL 72.776098 91.947949 \r\nL 73.111233 91.194507 \r\nL 73.781503 90.565087 \r\nL 74.451774 92.228879 \r\nL 75.792314 96.497592 \r\nL 76.79772 98.914081 \r\nL 77.132855 99.952427 \r\nL 78.13826 104.908261 \r\nL 79.478801 112.950004 \r\nL 80.484206 115.515573 \r\nL 81.154476 115.254269 \r\nL 82.495017 113.050278 \r\nL 82.830152 113.137764 \r\nL 83.165287 113.465952 \r\nL 83.500422 114.799443 \r\nL 84.170693 118.294836 \r\nL 84.840963 121.407145 \r\nL 85.511233 123.279372 \r\nL 86.181503 124.282077 \r\nL 87.186909 127.327414 \r\nL 88.862584 135.536828 \r\nL 89.19772 136.032025 \r\nL 89.532855 135.947677 \r\nL 89.86799 135.700297 \r\nL 90.203125 135.12516 \r\nL 90.53826 134.18781 \r\nL 90.873395 134.075594 \r\nL 91.543666 134.61332 \r\nL 92.549071 135.88842 \r\nL 92.884206 136.058801 \r\nL 93.219341 136.42308 \r\nL 93.889611 138.236184 \r\nL 95.230152 141.594192 \r\nL 95.565287 141.957262 \r\nL 95.900422 142.143628 \r\nL 96.235557 142.046441 \r\nL 96.905828 141.354106 \r\nL 97.240963 141.491134 \r\nL 97.576098 142.136194 \r\nL 98.246368 144.811965 \r\nL 98.916639 147.817724 \r\nL 99.586909 149.733738 \r\nL 100.257179 150.477174 \r\nL 100.927449 151.86252 \r\nL 101.262584 153.233445 \r\nL 102.93826 162.419836 \r\nL 103.273395 163.278058 \r\nL 103.943666 163.804416 \r\nL 104.613936 163.555204 \r\nL 104.949071 163.687023 \r\nL 105.619341 164.723896 \r\nL 105.954476 165.387831 \r\nL 106.289611 165.448181 \r\nL 106.624747 165.333264 \r\nL 106.959882 164.583441 \r\nL 107.295017 163.423486 \r\nL 107.965287 159.501346 \r\nL 108.635557 155.216862 \r\nL 108.970693 153.556306 \r\nL 109.305828 153.061001 \r\nL 109.640963 153.484551 \r\nL 110.311233 155.795643 \r\nL 110.981503 158.614518 \r\nL 111.316639 159.429546 \r\nL 111.986909 160.599879 \r\nL 112.657179 160.332382 \r\nL 112.992314 160.395279 \r\nL 113.327449 160.322134 \r\nL 113.99772 158.466484 \r\nL 115.673395 149.240532 \r\nL 116.00853 149.17348 \r\nL 116.343666 150.028405 \r\nL 116.678801 151.842051 \r\nL 118.019341 164.944586 \r\nL 118.354476 166.774032 \r\nL 118.689611 167.309234 \r\nL 119.024747 167.190172 \r\nL 119.359882 166.627797 \r\nL 119.695017 165.472241 \r\nL 120.365287 163.836458 \r\nL 120.700422 162.911091 \r\nL 121.035557 162.731207 \r\nL 121.370693 163.022328 \r\nL 121.705828 163.618596 \r\nL 122.040963 164.666421 \r\nL 122.376098 166.136519 \r\nL 122.711233 166.732543 \r\nL 123.046368 167.599195 \r\nL 124.386909 168.262592 \r\nL 124.722044 167.951513 \r\nL 125.057179 167.982835 \r\nL 125.392314 167.260311 \r\nL 126.39772 165.865721 \r\nL 127.06799 163.492095 \r\nL 127.403125 163.013388 \r\nL 127.73826 162.961952 \r\nL 128.073395 163.111443 \r\nL 129.078801 167.662888 \r\nL 129.413936 168.61032 \r\nL 129.749071 168.931994 \r\nL 130.084206 168.412524 \r\nL 130.419341 168.118926 \r\nL 131.089611 166.789827 \r\nL 131.424747 166.2453 \r\nL 132.095017 165.883472 \r\nL 132.430152 165.561576 \r\nL 132.765287 165.47131 \r\nL 133.435557 163.283624 \r\nL 133.770693 162.311068 \r\nL 134.440963 159.12399 \r\nL 134.776098 158.127912 \r\nL 135.111233 158.02717 \r\nL 135.446368 158.606396 \r\nL 135.781503 159.761307 \r\nL 136.116639 161.687943 \r\nL 136.786909 163.028501 \r\nL 137.122044 161.176702 \r\nL 137.792314 154.013345 \r\nL 138.462584 145.465713 \r\nL 138.79772 143.38053 \r\nL 139.132855 142.630543 \r\nL 139.46799 144.531513 \r\nL 139.803125 148.641208 \r\nL 140.473395 160.868993 \r\nL 141.143666 173.972368 \r\nL 141.478801 178.732267 \r\nL 142.149071 182.84231 \r\nL 142.484206 182.521461 \r\nL 142.819341 181.523288 \r\nL 143.489611 177.219515 \r\nL 143.824747 174.879771 \r\nL 144.159882 173.697137 \r\nL 144.495017 173.499335 \r\nL 144.830152 173.940769 \r\nL 145.500422 176.504142 \r\nL 146.170693 178.808886 \r\nL 146.840963 180.83059 \r\nL 147.176098 182.492677 \r\nL 149.186909 196.528415 \r\nL 149.522044 197.848768 \r\nL 149.857179 198.07484 \r\nL 150.192314 197.949774 \r\nL 150.527449 197.540938 \r\nL 150.862584 196.925161 \r\nL 151.19772 196.006529 \r\nL 152.53826 193.780369 \r\nL 153.543666 190.13751 \r\nL 154.213936 188.00075 \r\nL 154.549071 187.214948 \r\nL 154.884206 186.945874 \r\nL 155.219341 187.026819 \r\nL 155.554476 187.388901 \r\nL 156.559882 189.532856 \r\nL 156.895017 189.26692 \r\nL 157.230152 188.603715 \r\nL 157.565287 187.535807 \r\nL 158.235557 183.988736 \r\nL 158.905828 178.877643 \r\nL 159.911233 173.72489 \r\nL 160.581503 172.368921 \r\nL 160.916639 172.409502 \r\nL 161.251774 172.813909 \r\nL 161.922044 174.389983 \r\nL 162.257179 175.685186 \r\nL 163.262584 181.343038 \r\nL 164.603125 189.744266 \r\nL 164.93826 190.492983 \r\nL 165.273395 191.854109 \r\nL 165.60853 192.095321 \r\nL 165.943666 191.822329 \r\nL 166.278801 191.181446 \r\nL 166.613936 189.425839 \r\nL 167.284206 185.286124 \r\nL 167.619341 183.357155 \r\nL 168.289611 181.179414 \r\nL 168.959882 180.029128 \r\nL 169.295017 179.907497 \r\nL 169.630152 180.296824 \r\nL 169.965287 181.488281 \r\nL 170.300422 183.658876 \r\nL 171.305828 193.215027 \r\nL 171.976098 198.030246 \r\nL 172.311233 198.867427 \r\nL 172.646368 199.172687 \r\nL 173.316639 195.973523 \r\nL 174.322044 188.146782 \r\nL 174.657179 186.473479 \r\nL 174.992314 185.549808 \r\nL 175.327449 185.386445 \r\nL 175.662584 185.830386 \r\nL 176.66799 189.457424 \r\nL 177.003125 190.446645 \r\nL 177.33826 190.583961 \r\nL 177.673395 190.445949 \r\nL 178.00853 189.718183 \r\nL 178.343666 188.718159 \r\nL 178.678801 188.261013 \r\nL 179.013936 188.068837 \r\nL 179.349071 188.14613 \r\nL 180.019341 189.02581 \r\nL 180.354476 189.472008 \r\nL 180.689611 189.631577 \r\nL 181.695017 191.604038 \r\nL 182.365287 193.442174 \r\nL 183.705828 195.343204 \r\nL 184.040963 195.079002 \r\nL 184.711233 193.463228 \r\nL 185.716639 189.595525 \r\nL 186.051774 188.75562 \r\nL 186.386909 188.441663 \r\nL 186.722044 188.651395 \r\nL 187.057179 188.726827 \r\nL 187.727449 189.855137 \r\nL 188.062584 189.768114 \r\nL 188.39772 189.064327 \r\nL 189.06799 185.742925 \r\nL 189.73826 182.693109 \r\nL 190.073395 182.008137 \r\nL 190.40853 182.132983 \r\nL 191.078801 184.132638 \r\nL 192.084206 187.974155 \r\nL 192.419341 188.844516 \r\nL 192.754476 190.10174 \r\nL 193.424747 191.477589 \r\nL 194.095017 193.748348 \r\nL 194.430152 193.89242 \r\nL 194.765287 193.718564 \r\nL 195.100422 193.160045 \r\nL 195.435557 191.880503 \r\nL 196.105828 186.880347 \r\nL 196.776098 181.989284 \r\nL 197.111233 180.943656 \r\nL 197.446368 180.954378 \r\nL 198.116639 184.412407 \r\nL 198.786909 188.47375 \r\nL 199.122044 189.745137 \r\nL 199.457179 190.143848 \r\nL 200.127449 189.57585 \r\nL 200.462584 188.645609 \r\nL 201.132855 184.836269 \r\nL 201.803125 181.24451 \r\nL 202.80853 175.721384 \r\nL 203.143666 175.481649 \r\nL 203.478801 175.634251 \r\nL 204.819341 183.76882 \r\nL 205.154476 184.524157 \r\nL 205.489611 184.750184 \r\nL 205.824747 184.562788 \r\nL 206.159882 184.217354 \r\nL 206.495017 184.90426 \r\nL 206.830152 184.698511 \r\nL 207.165287 185.441834 \r\nL 207.835557 188.684703 \r\nL 209.176098 195.875988 \r\nL 210.851774 201.801165 \r\nL 211.186909 201.932584 \r\nL 211.522044 201.370372 \r\nL 212.192314 197.445492 \r\nL 213.19772 191.025274 \r\nL 213.532855 190.082583 \r\nL 213.86799 190.127622 \r\nL 214.203125 191.059223 \r\nL 214.53826 192.740439 \r\nL 215.878801 201.17417 \r\nL 216.213936 202.145736 \r\nL 216.549071 201.904306 \r\nL 216.884206 200.578254 \r\nL 217.554476 195.808485 \r\nL 218.559882 186.422246 \r\nL 218.895017 184.646978 \r\nL 219.230152 183.942566 \r\nL 219.565287 184.521095 \r\nL 219.900422 185.997248 \r\nL 220.570693 190.651678 \r\nL 221.240963 192.135233 \r\nL 221.576098 191.808806 \r\nL 221.911233 189.96289 \r\nL 222.916639 181.611519 \r\nL 223.251774 180.115144 \r\nL 223.586909 180.060136 \r\nL 223.922044 181.696921 \r\nL 224.592314 188.766606 \r\nL 225.262584 195.58538 \r\nL 225.59772 197.882137 \r\nL 225.932855 199.141008 \r\nL 226.26799 199.825338 \r\nL 226.603125 200.018799 \r\nL 227.60853 196.651326 \r\nL 227.943666 195.970261 \r\nL 228.613936 195.385938 \r\nL 228.949071 195.585304 \r\nL 229.284206 196.169834 \r\nL 229.619341 196.465127 \r\nL 229.954476 196.417939 \r\nL 230.289611 196.178237 \r\nL 230.624747 196.089333 \r\nL 230.959882 196.176875 \r\nL 231.295017 195.769583 \r\nL 231.630152 195.591914 \r\nL 231.965287 195.741064 \r\nL 232.300422 196.622929 \r\nL 232.635557 196.797123 \r\nL 233.305828 198.617661 \r\nL 233.640963 198.718437 \r\nL 233.976098 198.589461 \r\nL 234.311233 198.005851 \r\nL 235.316639 193.525601 \r\nL 235.651774 193.049667 \r\nL 235.986909 193.531415 \r\nL 236.322044 194.842627 \r\nL 236.992314 199.547042 \r\nL 237.662584 204.245879 \r\nL 237.99772 205.605203 \r\nL 238.332855 206.103878 \r\nL 238.66799 205.544526 \r\nL 240.00853 201.549547 \r\nL 241.013936 193.540676 \r\nL 241.684206 184.221051 \r\nL 242.689611 166.24809 \r\nL 243.024747 162.296492 \r\nL 243.359882 160.755574 \r\nL 243.695017 161.964813 \r\nL 244.365287 169.590185 \r\nL 245.370693 183.665309 \r\nL 246.040963 189.150756 \r\nL 246.711233 190.063799 \r\nL 247.381503 188.350074 \r\nL 248.051774 185.690766 \r\nL 248.722044 183.688801 \r\nL 249.057179 183.443847 \r\nL 249.392314 183.671683 \r\nL 250.062584 185.233361 \r\nL 250.39772 185.387953 \r\nL 250.732855 186.053913 \r\nL 251.403125 188.141011 \r\nL 252.073395 190.943185 \r\nL 253.078801 195.216769 \r\nL 254.084206 201.124541 \r\nL 254.754476 203.458842 \r\nL 255.089611 203.608681 \r\nL 255.424747 203.564296 \r\nL 256.095017 202.874303 \r\nL 257.100422 199.706004 \r\nL 257.770693 198.758576 \r\nL 258.105828 198.922018 \r\nL 258.776098 199.541314 \r\nL 259.446368 199.82159 \r\nL 259.781503 199.640465 \r\nL 260.116639 199.025462 \r\nL 260.451774 198.036227 \r\nL 260.786909 197.489198 \r\nL 261.457179 194.739295 \r\nL 262.462584 189.273543 \r\nL 262.79772 188.649198 \r\nL 263.132855 188.390258 \r\nL 263.803125 189.860478 \r\nL 266.484206 201.134415 \r\nL 267.154476 202.561104 \r\nL 267.824747 204.013816 \r\nL 268.159882 204.082999 \r\nL 269.165287 203.272989 \r\nL 269.500422 203.056763 \r\nL 270.505828 201.992451 \r\nL 270.840963 201.92344 \r\nL 271.511233 202.307008 \r\nL 272.181503 202.997212 \r\nL 272.516639 203.765628 \r\nL 272.851774 204.218118 \r\nL 273.857179 205.995697 \r\nL 274.192314 206.380062 \r\nL 274.527449 206.344889 \r\nL 275.19772 205.61846 \r\nL 275.86799 204.272856 \r\nL 276.203125 203.928611 \r\nL 276.53826 203.825797 \r\nL 276.873395 204.323048 \r\nL 277.20853 205.28413 \r\nL 277.878801 207.793385 \r\nL 278.213936 208.755044 \r\nL 278.549071 209.336948 \r\nL 278.884206 209.272066 \r\nL 279.554476 207.657071 \r\nL 280.895017 201.548556 \r\nL 281.230152 200.824567 \r\nL 281.565287 200.764307 \r\nL 281.900422 201.377916 \r\nL 282.570693 204.051623 \r\nL 283.576098 208.424281 \r\nL 283.911233 209.154408 \r\nL 284.581503 209.222279 \r\nL 284.916639 208.557318 \r\nL 285.586909 206.234131 \r\nL 286.927449 199.087938 \r\nL 287.262584 197.978132 \r\nL 287.932855 197.510958 \r\nL 288.603125 198.922772 \r\nL 288.93826 199.80129 \r\nL 289.273395 200.349556 \r\nL 289.60853 200.539412 \r\nL 289.943666 200.375107 \r\nL 290.278801 199.524287 \r\nL 290.613936 199.157319 \r\nL 291.284206 197.123002 \r\nL 291.619341 196.628291 \r\nL 292.959882 193.730789 \r\nL 293.295017 193.645372 \r\nL 293.630152 194.747707 \r\nL 294.300422 198.288762 \r\nL 295.305828 204.43439 \r\nL 295.640963 205.953138 \r\nL 295.976098 206.666227 \r\nL 296.311233 206.845905 \r\nL 296.646368 207.176583 \r\nL 296.981503 206.904091 \r\nL 297.986909 205.041795 \r\nL 298.657179 203.396134 \r\nL 299.327449 201.91432 \r\nL 299.99772 200.779293 \r\nL 300.66799 199.815865 \r\nL 301.003125 199.630794 \r\nL 301.33826 199.910466 \r\nL 301.673395 200.606525 \r\nL 303.013936 205.269748 \r\nL 303.349071 205.648613 \r\nL 303.684206 205.312114 \r\nL 304.019341 204.439561 \r\nL 304.689611 201.383331 \r\nL 305.695017 194.553194 \r\nL 306.030152 193.035601 \r\nL 306.365287 192.250206 \r\nL 306.700422 192.430284 \r\nL 307.035557 193.532773 \r\nL 307.705828 198.23866 \r\nL 308.711233 206.073724 \r\nL 309.046368 207.634431 \r\nL 309.381503 208.437209 \r\nL 309.716639 208.308515 \r\nL 310.051774 207.117758 \r\nL 310.722044 203.976254 \r\nL 311.392314 201.933426 \r\nL 311.727449 201.842749 \r\nL 312.062584 202.363746 \r\nL 313.403125 205.988718 \r\nL 313.73826 206.705912 \r\nL 314.073395 206.708567 \r\nL 314.743666 205.965103 \r\nL 315.413936 204.134355 \r\nL 315.749071 203.591118 \r\nL 316.084206 203.546566 \r\nL 316.419341 203.73233 \r\nL 316.754476 204.550168 \r\nL 317.424747 207.040004 \r\nL 318.430152 211.102736 \r\nL 318.765287 211.580041 \r\nL 319.100422 211.683396 \r\nL 319.770693 211.419412 \r\nL 320.440963 210.648613 \r\nL 320.776098 210.624996 \r\nL 321.111233 210.029986 \r\nL 321.446368 209.729849 \r\nL 321.781503 209.161775 \r\nL 322.116639 208.296926 \r\nL 322.786909 205.242786 \r\nL 323.457179 202.092673 \r\nL 323.792314 201.168954 \r\nL 324.127449 200.893434 \r\nL 324.462584 201.241383 \r\nL 324.79772 202.049526 \r\nL 325.132855 203.28525 \r\nL 325.803125 204.437855 \r\nL 326.13826 204.418562 \r\nL 326.473395 203.823877 \r\nL 326.80853 202.471279 \r\nL 327.478801 196.598065 \r\nL 328.149071 189.063538 \r\nL 328.819341 183.740995 \r\nL 329.154476 181.294303 \r\nL 329.489611 179.984155 \r\nL 329.824747 179.395754 \r\nL 330.159882 179.792193 \r\nL 330.495017 180.714293 \r\nL 330.830152 182.413415 \r\nL 333.176098 202.356114 \r\nL 333.846368 207.9006 \r\nL 334.851774 212.694394 \r\nL 335.186909 213.114407 \r\nL 335.522044 213.179955 \r\nL 336.527449 211.721933 \r\nL 337.19772 210.840011 \r\nL 337.532855 210.764471 \r\nL 338.203125 208.643919 \r\nL 338.53826 207.1108 \r\nL 338.873395 204.875989 \r\nL 340.549071 187.189327 \r\nL 340.884206 185.944763 \r\nL 341.219341 186.372981 \r\nL 341.554476 187.98491 \r\nL 342.224747 193.970796 \r\nL 343.230152 202.456404 \r\nL 343.565287 204.90713 \r\nL 345.911233 213.825863 \r\nL 346.246368 214.574308 \r\nL 346.581503 214.756364 \r\nL 346.916639 213.948377 \r\nL 347.251774 212.439858 \r\nL 347.586909 210.238842 \r\nL 349.262584 196.179238 \r\nL 349.59772 195.372512 \r\nL 349.932855 195.690983 \r\nL 350.26799 197.012949 \r\nL 351.273395 203.320412 \r\nL 351.943666 207.040224 \r\nL 352.278801 208.194188 \r\nL 352.613936 208.937329 \r\nL 352.949071 209.301787 \r\nL 354.289611 207.924509 \r\nL 354.959882 207.262839 \r\nL 355.295017 206.783392 \r\nL 355.630152 206.535981 \r\nL 355.965287 206.571431 \r\nL 356.970693 205.92981 \r\nL 357.640963 204.936819 \r\nL 357.976098 203.76381 \r\nL 358.646368 202.483976 \r\nL 359.316639 201.972976 \r\nL 359.986909 202.017831 \r\nL 360.322044 202.429776 \r\nL 360.657179 203.099322 \r\nL 360.992314 202.302135 \r\nL 361.327449 201.960662 \r\nL 361.662584 200.939596 \r\nL 361.99772 199.265218 \r\nL 363.33826 186.93014 \r\nL 363.673395 185.953661 \r\nL 364.00853 185.872634 \r\nL 364.343666 187.381443 \r\nL 365.013936 192.934703 \r\nL 365.684206 198.777804 \r\nL 366.354476 202.770961 \r\nL 366.689611 204.544373 \r\nL 367.024747 204.562855 \r\nL 367.695017 203.363566 \r\nL 368.365287 200.709465 \r\nL 369.035557 198.102943 \r\nL 369.370693 197.118845 \r\nL 369.705828 196.848909 \r\nL 370.040963 197.417951 \r\nL 370.711233 200.586284 \r\nL 371.381503 204.802608 \r\nL 371.716639 205.607068 \r\nL 372.051774 206.073655 \r\nL 372.386909 205.73196 \r\nL 373.057179 202.946158 \r\nL 374.062584 197.460288 \r\nL 374.39772 196.312572 \r\nL 374.732855 195.684262 \r\nL 375.06799 195.560407 \r\nL 375.403125 195.938636 \r\nL 375.403125 195.938636 \r\n\" style=\"fill:none;stroke:#1f77b4;stroke-dasharray:5.55,2.4;stroke-dashoffset:0;stroke-width:1.5;\"/>\r\n   </g>\r\n   <g id=\"patch_3\">\r\n    <path d=\"M 40.603125 224.64 \r\nL 40.603125 7.2 \r\n\" style=\"fill:none;stroke:#000000;stroke-linecap:square;stroke-linejoin:miter;stroke-width:0.8;\"/>\r\n   </g>\r\n   <g id=\"patch_4\">\r\n    <path d=\"M 375.403125 224.64 \r\nL 375.403125 7.2 \r\n\" style=\"fill:none;stroke:#000000;stroke-linecap:square;stroke-linejoin:miter;stroke-width:0.8;\"/>\r\n   </g>\r\n   <g id=\"patch_5\">\r\n    <path d=\"M 40.603125 224.64 \r\nL 375.403125 224.64 \r\n\" style=\"fill:none;stroke:#000000;stroke-linecap:square;stroke-linejoin:miter;stroke-width:0.8;\"/>\r\n   </g>\r\n   <g id=\"patch_6\">\r\n    <path d=\"M 40.603125 7.2 \r\nL 375.403125 7.2 \r\n\" style=\"fill:none;stroke:#000000;stroke-linecap:square;stroke-linejoin:miter;stroke-width:0.8;\"/>\r\n   </g>\r\n   <g id=\"legend_1\">\r\n    <g id=\"patch_7\">\r\n     <path d=\"M 281.309375 44.55625 \r\nL 368.403125 44.55625 \r\nQ 370.403125 44.55625 370.403125 42.55625 \r\nL 370.403125 14.2 \r\nQ 370.403125 12.2 368.403125 12.2 \r\nL 281.309375 12.2 \r\nQ 279.309375 12.2 279.309375 14.2 \r\nL 279.309375 42.55625 \r\nQ 279.309375 44.55625 281.309375 44.55625 \r\nz\r\n\" style=\"fill:#ffffff;opacity:0.8;stroke:#cccccc;stroke-linejoin:miter;\"/>\r\n    </g>\r\n    <g id=\"line2d_23\">\r\n     <path d=\"M 283.309375 20.298437 \r\nL 303.309375 20.298437 \r\n\" style=\"fill:none;stroke:#1f77b4;stroke-linecap:square;stroke-width:1.5;\"/>\r\n    </g>\r\n    <g id=\"line2d_24\"/>\r\n    <g id=\"text_13\">\r\n     <!-- Basic Train -->\r\n     <defs>\r\n      <path d=\"M 19.671875 34.8125 \r\nL 19.671875 8.109375 \r\nL 35.5 8.109375 \r\nQ 43.453125 8.109375 47.28125 11.40625 \r\nQ 51.125 14.703125 51.125 21.484375 \r\nQ 51.125 28.328125 47.28125 31.5625 \r\nQ 43.453125 34.8125 35.5 34.8125 \r\nz\r\nM 19.671875 64.796875 \r\nL 19.671875 42.828125 \r\nL 34.28125 42.828125 \r\nQ 41.5 42.828125 45.03125 45.53125 \r\nQ 48.578125 48.25 48.578125 53.8125 \r\nQ 48.578125 59.328125 45.03125 62.0625 \r\nQ 41.5 64.796875 34.28125 64.796875 \r\nz\r\nM 9.8125 72.90625 \r\nL 35.015625 72.90625 \r\nQ 46.296875 72.90625 52.390625 68.21875 \r\nQ 58.5 63.53125 58.5 54.890625 \r\nQ 58.5 48.1875 55.375 44.234375 \r\nQ 52.25 40.28125 46.1875 39.3125 \r\nQ 53.46875 37.75 57.5 32.78125 \r\nQ 61.53125 27.828125 61.53125 20.40625 \r\nQ 61.53125 10.640625 54.890625 5.3125 \r\nQ 48.25 0 35.984375 0 \r\nL 9.8125 0 \r\nz\r\n\" id=\"DejaVuSans-66\"/>\r\n      <path d=\"M 34.28125 27.484375 \r\nQ 23.390625 27.484375 19.1875 25 \r\nQ 14.984375 22.515625 14.984375 16.5 \r\nQ 14.984375 11.71875 18.140625 8.90625 \r\nQ 21.296875 6.109375 26.703125 6.109375 \r\nQ 34.1875 6.109375 38.703125 11.40625 \r\nQ 43.21875 16.703125 43.21875 25.484375 \r\nL 43.21875 27.484375 \r\nz\r\nM 52.203125 31.203125 \r\nL 52.203125 0 \r\nL 43.21875 0 \r\nL 43.21875 8.296875 \r\nQ 40.140625 3.328125 35.546875 0.953125 \r\nQ 30.953125 -1.421875 24.3125 -1.421875 \r\nQ 15.921875 -1.421875 10.953125 3.296875 \r\nQ 6 8.015625 6 15.921875 \r\nQ 6 25.140625 12.171875 29.828125 \r\nQ 18.359375 34.515625 30.609375 34.515625 \r\nL 43.21875 34.515625 \r\nL 43.21875 35.40625 \r\nQ 43.21875 41.609375 39.140625 45 \r\nQ 35.0625 48.390625 27.6875 48.390625 \r\nQ 23 48.390625 18.546875 47.265625 \r\nQ 14.109375 46.140625 10.015625 43.890625 \r\nL 10.015625 52.203125 \r\nQ 14.9375 54.109375 19.578125 55.046875 \r\nQ 24.21875 56 28.609375 56 \r\nQ 40.484375 56 46.34375 49.84375 \r\nQ 52.203125 43.703125 52.203125 31.203125 \r\nz\r\n\" id=\"DejaVuSans-97\"/>\r\n      <path d=\"M -0.296875 72.90625 \r\nL 61.375 72.90625 \r\nL 61.375 64.59375 \r\nL 35.5 64.59375 \r\nL 35.5 0 \r\nL 25.59375 0 \r\nL 25.59375 64.59375 \r\nL -0.296875 64.59375 \r\nz\r\n\" id=\"DejaVuSans-84\"/>\r\n      <path d=\"M 41.109375 46.296875 \r\nQ 39.59375 47.171875 37.8125 47.578125 \r\nQ 36.03125 48 33.890625 48 \r\nQ 26.265625 48 22.1875 43.046875 \r\nQ 18.109375 38.09375 18.109375 28.8125 \r\nL 18.109375 0 \r\nL 9.078125 0 \r\nL 9.078125 54.6875 \r\nL 18.109375 54.6875 \r\nL 18.109375 46.1875 \r\nQ 20.953125 51.171875 25.484375 53.578125 \r\nQ 30.03125 56 36.53125 56 \r\nQ 37.453125 56 38.578125 55.875 \r\nQ 39.703125 55.765625 41.0625 55.515625 \r\nz\r\n\" id=\"DejaVuSans-114\"/>\r\n     </defs>\r\n     <g transform=\"translate(311.309375 23.798437)scale(0.1 -0.1)\">\r\n      <use xlink:href=\"#DejaVuSans-66\"/>\r\n      <use x=\"68.603516\" xlink:href=\"#DejaVuSans-97\"/>\r\n      <use x=\"129.882812\" xlink:href=\"#DejaVuSans-115\"/>\r\n      <use x=\"181.982422\" xlink:href=\"#DejaVuSans-105\"/>\r\n      <use x=\"209.765625\" xlink:href=\"#DejaVuSans-99\"/>\r\n      <use x=\"264.746094\" xlink:href=\"#DejaVuSans-32\"/>\r\n      <use x=\"296.533203\" xlink:href=\"#DejaVuSans-84\"/>\r\n      <use x=\"357.398438\" xlink:href=\"#DejaVuSans-114\"/>\r\n      <use x=\"398.511719\" xlink:href=\"#DejaVuSans-97\"/>\r\n      <use x=\"459.791016\" xlink:href=\"#DejaVuSans-105\"/>\r\n      <use x=\"487.574219\" xlink:href=\"#DejaVuSans-110\"/>\r\n     </g>\r\n    </g>\r\n    <g id=\"line2d_25\">\r\n     <path d=\"M 283.309375 34.976562 \r\nL 303.309375 34.976562 \r\n\" style=\"fill:none;stroke:#1f77b4;stroke-dasharray:5.55,2.4;stroke-dashoffset:0;stroke-width:1.5;\"/>\r\n    </g>\r\n    <g id=\"line2d_26\"/>\r\n    <g id=\"text_14\">\r\n     <!-- Basic Val -->\r\n     <defs>\r\n      <path d=\"M 28.609375 0 \r\nL 0.78125 72.90625 \r\nL 11.078125 72.90625 \r\nL 34.1875 11.53125 \r\nL 57.328125 72.90625 \r\nL 67.578125 72.90625 \r\nL 39.796875 0 \r\nz\r\n\" id=\"DejaVuSans-86\"/>\r\n      <path d=\"M 9.421875 75.984375 \r\nL 18.40625 75.984375 \r\nL 18.40625 0 \r\nL 9.421875 0 \r\nz\r\n\" id=\"DejaVuSans-108\"/>\r\n     </defs>\r\n     <g transform=\"translate(311.309375 38.476562)scale(0.1 -0.1)\">\r\n      <use xlink:href=\"#DejaVuSans-66\"/>\r\n      <use x=\"68.603516\" xlink:href=\"#DejaVuSans-97\"/>\r\n      <use x=\"129.882812\" xlink:href=\"#DejaVuSans-115\"/>\r\n      <use x=\"181.982422\" xlink:href=\"#DejaVuSans-105\"/>\r\n      <use x=\"209.765625\" xlink:href=\"#DejaVuSans-99\"/>\r\n      <use x=\"264.746094\" xlink:href=\"#DejaVuSans-32\"/>\r\n      <use x=\"296.533203\" xlink:href=\"#DejaVuSans-86\"/>\r\n      <use x=\"364.832031\" xlink:href=\"#DejaVuSans-97\"/>\r\n      <use x=\"426.111328\" xlink:href=\"#DejaVuSans-108\"/>\r\n     </g>\r\n    </g>\r\n   </g>\r\n  </g>\r\n </g>\r\n <defs>\r\n  <clipPath id=\"p314d5a3f2d\">\r\n   <rect height=\"217.44\" width=\"334.8\" x=\"40.603125\" y=\"7.2\"/>\r\n  </clipPath>\r\n </defs>\r\n</svg>\r\n",
      "text/plain": "<Figure size 432x288 with 1 Axes>"
     },
     "metadata": {
      "needs_background": "light"
     },
     "output_type": "display_data"
    }
   ],
   "source": [
    "plotter.plot({'Basic': history}, metric = \"mae\")\n",
    "plt.ylabel('MAE [Action]')"
   ]
  },
  {
   "cell_type": "code",
   "execution_count": 1,
   "metadata": {},
   "outputs": [
    {
     "output_type": "error",
     "ename": "NameError",
     "evalue": "name 'plotter' is not defined",
     "traceback": [
      "\u001b[1;31m---------------------------------------------------------------------------\u001b[0m",
      "\u001b[1;31mNameError\u001b[0m                                 Traceback (most recent call last)",
      "\u001b[1;32m<ipython-input-1-98d36cc51469>\u001b[0m in \u001b[0;36m<module>\u001b[1;34m\u001b[0m\n\u001b[1;32m----> 1\u001b[1;33m \u001b[0mplotter\u001b[0m\u001b[1;33m.\u001b[0m\u001b[0mplot\u001b[0m\u001b[1;33m(\u001b[0m\u001b[1;33m{\u001b[0m\u001b[1;34m'Basic'\u001b[0m\u001b[1;33m:\u001b[0m \u001b[0mhistory\u001b[0m\u001b[1;33m}\u001b[0m\u001b[1;33m,\u001b[0m \u001b[0mmetric\u001b[0m \u001b[1;33m=\u001b[0m \u001b[1;34m\"mse\"\u001b[0m\u001b[1;33m)\u001b[0m\u001b[1;33m\u001b[0m\u001b[1;33m\u001b[0m\u001b[0m\n\u001b[0m\u001b[0;32m      2\u001b[0m \u001b[0mplt\u001b[0m\u001b[1;33m.\u001b[0m\u001b[0mylabel\u001b[0m\u001b[1;33m(\u001b[0m\u001b[1;34m'MSE'\u001b[0m\u001b[1;33m)\u001b[0m\u001b[1;33m\u001b[0m\u001b[1;33m\u001b[0m\u001b[0m\n",
      "\u001b[1;31mNameError\u001b[0m: name 'plotter' is not defined"
     ]
    }
   ],
   "source": [
    "plotter.plot({'Basic': history}, metric = \"mse\")\n",
    "plt.ylabel('MSE')"
   ]
  },
  {
   "cell_type": "markdown",
   "metadata": {
    "colab_type": "text",
    "id": "AqsuANc11FYv"
   },
   "source": [
    "This graph shows little improvement, or even degradation in the validation error after about 100 epochs. Let's update the `model.fit` call to automatically stop training when the validation score doesn't improve. We'll use an *EarlyStopping callback* that tests a training condition for  every epoch. If a set amount of epochs elapses without showing improvement, then automatically stop the training.\n",
    "\n",
    "You can learn more about this callback [here](https://www.tensorflow.org/api_docs/python/tf/keras/callbacks/EarlyStopping)."
   ]
  },
  {
   "cell_type": "code",
   "execution_count": 67,
   "metadata": {},
   "outputs": [
    {
     "name": "stdout",
     "output_type": "stream",
     "text": "\nEpoch: 0, loss:553.0348,  mae:22.2684,  mse:553.0349,  val_loss:536.8481,  val_mae:21.8744,  val_mse:536.8481,  \n............................................."
    }
   ],
   "source": [
    "model = build_model()\n",
    "\n",
    "# The patience parameter is the amount of epochs to check for improvement\n",
    "early_stop = keras.callbacks.EarlyStopping(monitor='val_loss', patience=10)\n",
    "\n",
    "early_history = model.fit(normed_train_data, train_labels, \n",
    "                    epochs=EPOCHS, validation_split = 0.2, verbose=0, \n",
    "                    callbacks=[early_stop, tfdocs.modeling.EpochDots()])"
   ]
  },
  {
   "cell_type": "code",
   "execution_count": null,
   "metadata": {},
   "outputs": [],
   "source": [
    "plotter.plot({'Early Stopping': early_history}, metric = \"mae\")\n",
    "plt.ylim([0, 10])\n",
    "plt.ylabel('MAE [MPG]')"
   ]
  },
  {
   "cell_type": "markdown",
   "metadata": {
    "colab_type": "text",
    "id": "3St8-DmrX8P4"
   },
   "source": [
    "The graph shows that on the validation set, the average error is usually around +/- 2 MPG. Is this good? We'll leave that decision up to you.\n",
    "\n",
    "Let's see how well the model generalizes by using the **test** set, which we did not use when training the model.  This tells us how well we can expect the model to predict when we use it in the real world."
   ]
  },
  {
   "cell_type": "code",
   "execution_count": null,
   "metadata": {},
   "outputs": [],
   "source": [
    "loss, mae, mse = model.evaluate(normed_test_data, test_labels, verbose=2)\n",
    "\n",
    "print(\"Testing set Mean Abs Error: {:5.2f} Action\".format(mae))"
   ]
  },
  {
   "cell_type": "markdown",
   "metadata": {
    "colab_type": "text",
    "id": "ft603OzXuEZC"
   },
   "source": [
    "### Make predictions\n",
    "\n",
    "Finally, predict MPG values using data in the testing set:"
   ]
  },
  {
   "cell_type": "code",
   "execution_count": 1,
   "metadata": {},
   "outputs": [
    {
     "output_type": "error",
     "ename": "NameError",
     "evalue": "name 'model' is not defined",
     "traceback": [
      "\u001b[1;31m---------------------------------------------------------------------------\u001b[0m",
      "\u001b[1;31mNameError\u001b[0m                                 Traceback (most recent call last)",
      "\u001b[1;32m<ipython-input-1-c48b64c0c059>\u001b[0m in \u001b[0;36m<module>\u001b[1;34m\u001b[0m\n\u001b[1;32m----> 1\u001b[1;33m \u001b[0mtest_predictions\u001b[0m \u001b[1;33m=\u001b[0m \u001b[0mmodel\u001b[0m\u001b[1;33m.\u001b[0m\u001b[0mpredict\u001b[0m\u001b[1;33m(\u001b[0m\u001b[0mnormed_test_data\u001b[0m\u001b[1;33m)\u001b[0m\u001b[1;33m.\u001b[0m\u001b[0mflatten\u001b[0m\u001b[1;33m(\u001b[0m\u001b[1;33m)\u001b[0m\u001b[1;33m\u001b[0m\u001b[1;33m\u001b[0m\u001b[0m\n\u001b[0m\u001b[0;32m      2\u001b[0m \u001b[1;33m\u001b[0m\u001b[0m\n\u001b[0;32m      3\u001b[0m \u001b[0mplt\u001b[0m\u001b[1;33m.\u001b[0m\u001b[0mscatter\u001b[0m\u001b[1;33m(\u001b[0m\u001b[0mtest_labels\u001b[0m\u001b[1;33m,\u001b[0m \u001b[0mtest_predictions\u001b[0m\u001b[1;33m)\u001b[0m\u001b[1;33m\u001b[0m\u001b[1;33m\u001b[0m\u001b[0m\n\u001b[0;32m      4\u001b[0m \u001b[0mplt\u001b[0m\u001b[1;33m.\u001b[0m\u001b[0mxlabel\u001b[0m\u001b[1;33m(\u001b[0m\u001b[1;34m'True Values [Action]'\u001b[0m\u001b[1;33m)\u001b[0m\u001b[1;33m\u001b[0m\u001b[1;33m\u001b[0m\u001b[0m\n\u001b[0;32m      5\u001b[0m \u001b[0mplt\u001b[0m\u001b[1;33m.\u001b[0m\u001b[0mylabel\u001b[0m\u001b[1;33m(\u001b[0m\u001b[1;34m'Predictions [Action]'\u001b[0m\u001b[1;33m)\u001b[0m\u001b[1;33m\u001b[0m\u001b[1;33m\u001b[0m\u001b[0m\n",
      "\u001b[1;31mNameError\u001b[0m: name 'model' is not defined"
     ]
    }
   ],
   "source": [
    "test_predictions = model.predict(normed_test_data).flatten()\n",
    "\n",
    "plt.scatter(test_labels, test_predictions)\n",
    "plt.xlabel('True Values [Action]')\n",
    "plt.ylabel('Predictions [Action]')\n",
    "plt.xlim(lims)\n",
    "plt.ylim(lims)\n",
    "_ = plt.plot(lims, lims)\n",
    ""
   ]
  },
  {
   "cell_type": "markdown",
   "metadata": {
    "colab_type": "text",
    "id": "19wyogbOSU5t"
   },
   "source": [
    "It looks like our model predicts reasonably well. Let's take a look at the error distribution."
   ]
  },
  {
   "cell_type": "code",
   "execution_count": null,
   "metadata": {},
   "outputs": [],
   "source": [
    "error = test_predictions - test_labels\n",
    "plt.hist(error, bins = 25)\n",
    "plt.xlabel(\"Prediction Error [Action]\")\n",
    "_ = plt.ylabel(\"Count\")"
   ]
  },
  {
   "cell_type": "markdown",
   "metadata": {
    "colab_type": "text",
    "id": "m0CB5tBjSU5w"
   },
   "source": [
    "It's not quite gaussian, but we might expect that because the number of samples is very small."
   ]
  },
  {
   "cell_type": "markdown",
   "metadata": {
    "colab_type": "text",
    "id": "vgGQuV-yqYZH"
   },
   "source": [
    "## Conclusion\n",
    "\n",
    "This notebook introduced a few techniques to handle a regression problem.\n",
    "\n",
    "* Mean Squared Error (MSE) is a common loss function used for regression problems (different loss functions are used for classification problems).\n",
    "* Similarly, evaluation metrics used for regression differ from classification. A common regression metric is Mean Absolute Error (MAE).\n",
    "* When numeric input data features have values with different ranges, each feature should be scaled independently to the same range.\n",
    "* If there is not much training data, one technique is to prefer a small network with few hidden layers to avoid overfitting.\n",
    "* Early stopping is a useful technique to prevent overfitting."
   ]
  }
 ],
 "metadata": {
  "colab": {
   "collapsed_sections": [],
   "name": "regression.ipynb",
   "private_outputs": true,
   "provenance": [],
   "toc_visible": true
  },
  "kernelspec": {
   "display_name": "Python 3",
   "name": "python3"
  },
  "language_info": {
   "codemirror_mode": {
    "name": "ipython",
    "version": 3
   },
   "file_extension": ".py",
   "mimetype": "text/x-python",
   "name": "python",
   "nbconvert_exporter": "python",
   "pygments_lexer": "ipython3",
   "version": "3.7.5-final"
  }
 },
 "nbformat": 4,
 "nbformat_minor": 0
}