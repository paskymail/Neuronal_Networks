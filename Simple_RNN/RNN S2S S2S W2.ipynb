{
 "cells": [
  {
   "cell_type": "markdown",
   "metadata": {
    "colab_type": "text",
    "id": "EIdT9iu_Z4Rb"
   },
   "source": [
    "# S2S RNN to predict next state"
   ]
  },
  {
   "cell_type": "markdown",
   "metadata": {
    "colab_type": "text",
    "id": "AHp3M9ZmrIxj"
   },
   "source": [
    "We aim to predict the next steps on time series"
   ]
  },
  {
   "cell_type": "code",
   "execution_count": 1,
   "metadata": {},
   "outputs": [],
   "source": [
    "from __future__ import absolute_import, division, print_function, unicode_literals\n",
    "import pathlib\n",
    "import matplotlib.pyplot as plt\n",
    "import numpy as np\n",
    "import pandas as pd\n",
    "import seaborn as sns\n",
    "import pprint as pprint\n",
    "import math\n",
    "import time"
   ]
  },
  {
   "cell_type": "code",
   "execution_count": 2,
   "metadata": {
    "tags": []
   },
   "outputs": [
    {
     "output_type": "stream",
     "name": "stdout",
     "text": [
      "2.1.0\n"
     ]
    }
   ],
   "source": [
    "try:\n",
    "  # %tensorflow_version only exists in Colab.\n",
    "  %tensorflow_version 2.x\n",
    "except Exception:\n",
    "  pass\n",
    "import tensorflow as tf\n",
    "\n",
    "from tensorflow import keras\n",
    "from tensorflow.keras import layers\n",
    "\n",
    "print(tf.__version__)"
   ]
  },
  {
   "cell_type": "code",
   "execution_count": 3,
   "metadata": {},
   "outputs": [],
   "source": [
    "import tensorflow_docs as tfdocs\n",
    "import tensorflow_docs.plots\n",
    "import tensorflow_docs.modeling\n",
    "import os\n",
    "import json\n",
    "import pickle\n",
    "import sklearn\n",
    "from sklearn import neighbors"
   ]
  },
  {
   "cell_type": "code",
   "execution_count": 4,
   "metadata": {
    "tags": []
   },
   "outputs": [
    {
     "output_type": "stream",
     "name": "stdout",
     "text": [
      "importing Jupyter notebook from Process_Training_Data_2.ipynb\n"
     ]
    }
   ],
   "source": [
    "import import_ipynb\n",
    "\n",
    "import Process_Training_Data_2\n",
    "\n",
    "from Process_Training_Data_2 import norm\n",
    "from Process_Training_Data_2 import denorm\n",
    "from Process_Training_Data_2 import class_to_action\n",
    "from Process_Training_Data_2 import closest_category\n",
    "from Process_Training_Data_2 import extend_dataset\n",
    "from Process_Training_Data_2 import normalize_data"
   ]
  },
  {
   "cell_type": "markdown",
   "metadata": {
    "colab_type": "text",
    "id": "gFh9ne3FZ-On"
   },
   "source": [
    "### Get the data\n",
    "First Import it using pandas"
   ]
  },
  {
   "cell_type": "code",
   "execution_count": 5,
   "metadata": {},
   "outputs": [],
   "source": [
    "N_STEPS = 10\n",
    "\n",
    "dataset_short = Process_Training_Data_2.get_data(\"./data/OSPA_training_data 2.csv\")\n",
    "\n",
    "\n",
    "exteneded_dataset = Process_Training_Data_2.extend_dataset(dataset_short,N_STEPS)\n",
    "\n",
    "action_vector = [\"A0\",\"A1\"]\n",
    "normed_dataset = Process_Training_Data_2.normalize_data(exteneded_dataset, action_vector)\n",
    "\n",
    "position = \"post\"\n",
    "dataset2 = Process_Training_Data_2.padding(normed_dataset,N_STEPS,position)"
   ]
  },
  {
   "cell_type": "code",
   "execution_count": 6,
   "metadata": {},
   "outputs": [
    {
     "output_type": "execute_result",
     "data": {
      "text/plain": [
       "0    0.0\n",
       "1    0.0\n",
       "2    0.0\n",
       "3    0.0\n",
       "4    0.0\n",
       "5    0.0\n",
       "Name: std, dtype: float64"
      ]
     },
     "metadata": {},
     "execution_count": 6
    }
   ],
   "source": [
    "Zero_Target= [0,0,0,0,0,0]\n",
    "data_stats=pd.read_csv(\"./data/data_stats2.csv\")\n",
    "ZT_norm = norm(Zero_Target, data_stats)\n",
    "ZT_norm "
   ]
  },
  {
   "cell_type": "markdown",
   "metadata": {
    "colab_type": "text",
    "id": "Cuym4yvk76vU"
   },
   "source": [
    "### Split the data into train and test\n",
    "\n",
    "Now split the dataset into a training set and a test set.\n",
    "\n",
    "We take the first TRAIN_SPLIT values as train data\n",
    "\n",
    "We will use the test set in the final evaluation of our model."
   ]
  },
  {
   "cell_type": "markdown",
   "metadata": {
    "colab_type": "text",
    "id": "Db7Auq1yXUvh"
   },
   "source": [
    "### Split features from labels\n",
    "\n",
    "Separate the target value, or \"label\", from the features. This label is the value that you will train the model to predict."
   ]
  },
  {
   "cell_type": "code",
   "execution_count": 7,
   "metadata": {},
   "outputs": [],
   "source": [
    "def multivariate_data(dataset, target, start_index, end_index, history_size,\n",
    "                      target_size, step, prediction_type):\n",
    "  data = []\n",
    "  labels = []\n",
    "\n",
    "  if end_index is None:\n",
    "    end_index = len(dataset)\n",
    "\n",
    "  for i in range(start_index, end_index):\n",
    "    indices = range(0, history_size)\n",
    "    data.append(dataset[i,indices,:])\n",
    "\n",
    "    if prediction_type is \"single_step\":\n",
    "      labels.append(target[i,history_size + target_size])\n",
    "    elif prediction_type is \"multiple_step\":\n",
    "      labels.append(target[i,history_size:history_size+target_size])\n",
    "    elif prediction_type  is \"sequence\":\n",
    "      labels.append(target[i, 1:history_size + 1])   \n",
    "\n",
    "  return np.array(data), np.array(labels)"
   ]
  },
  {
   "cell_type": "markdown",
   "metadata": {},
   "source": [
    "## single step model using sequential output\n",
    "Given a sequence of actions, the model should predict the same sequency one step in the future"
   ]
  },
  {
   "cell_type": "markdown",
   "metadata": {},
   "source": [
    "### Split features from labels"
   ]
  },
  {
   "cell_type": "code",
   "execution_count": 8,
   "metadata": {},
   "outputs": [],
   "source": [
    "np.random.shuffle(dataset2)"
   ]
  },
  {
   "cell_type": "code",
   "execution_count": 9,
   "metadata": {},
   "outputs": [],
   "source": [
    "TRAIN_SPLIT = int(len(dataset2)*0.8)\n",
    "past_history = N_STEPS\n",
    "future_target = 0\n",
    "STEP = N_STEPS+1\n",
    "prediction_type =\"sequence\"\n",
    "features_dataset = dataset2[:,:STEP,:6]\n",
    "target_dataset = dataset2[:,0:,:6]\n",
    "\n",
    "x_train_single_sequential, y_train_single_sequential = multivariate_data(features_dataset, target_dataset,0, TRAIN_SPLIT, past_history, future_target, STEP, prediction_type)\n",
    "\n",
    "x_val_single_sequential, y_val_single_sequential = multivariate_data(features_dataset, target_dataset, TRAIN_SPLIT, None, past_history, future_target, STEP, prediction_type)"
   ]
  },
  {
   "cell_type": "code",
   "execution_count": 10,
   "metadata": {
    "tags": []
   },
   "outputs": [
    {
     "output_type": "stream",
     "name": "stdout",
     "text": [
      "Single window of past history : (10, 6)\n"
     ]
    }
   ],
   "source": [
    "print ('Single window of past history : {}'.format(x_train_single_sequential[0].shape))"
   ]
  },
  {
   "cell_type": "code",
   "execution_count": 11,
   "metadata": {},
   "outputs": [],
   "source": [
    "BATCH_SIZE = 1\n",
    "# BUFFER_SIZE = 10000\n",
    "\n",
    "train_data_single_sequential = tf.data.Dataset.from_tensor_slices((x_train_single_sequential, y_train_single_sequential))\n",
    "train_data_single_sequential = train_data_single_sequential.cache().batch(BATCH_SIZE).repeat()\n",
    "\n",
    "val_data_single_sequential = tf.data.Dataset.from_tensor_slices((x_val_single_sequential, y_val_single_sequential))\n",
    "val_data_single_sequential = val_data_single_sequential.batch(BATCH_SIZE).repeat()"
   ]
  },
  {
   "cell_type": "markdown",
   "metadata": {},
   "source": [
    "### Build the model"
   ]
  },
  {
   "source": [
    "sample_weight"
   ],
   "cell_type": "markdown",
   "metadata": {}
  },
  {
   "cell_type": "code",
   "execution_count": 12,
   "metadata": {},
   "outputs": [
    {
     "output_type": "execute_result",
     "data": {
      "text/plain": [
       "<tf.Tensor: shape=(1, 8, 6), dtype=int32, numpy=\n",
       "array([[[1, 1, 1, 1, 1, 1],\n",
       "        [2, 2, 2, 2, 2, 2],\n",
       "        [3, 3, 3, 3, 3, 3],\n",
       "        [3, 3, 3, 3, 3, 3],\n",
       "        [3, 3, 3, 3, 3, 3],\n",
       "        [3, 3, 3, 3, 3, 3],\n",
       "        [3, 3, 3, 3, 3, 3],\n",
       "        [3, 3, 3, 3, 3, 3]]])>"
      ]
     },
     "metadata": {},
     "execution_count": 12
    }
   ],
   "source": [
    "\n",
    "sample_weight= tf.constant([[[1,1,1,1,1,1],[2,2,2,2,2,2],[3,3,3,3,3,3],[3,3,3,3,3,3],[3,3,3,3,3,3],[3,3,3,3,3,3],[3,3,3,3,3,3],[3,3,3,3,3,3]]])\n",
    "sample_weight"
   ]
  },
  {
   "cell_type": "code",
   "execution_count": 13,
   "metadata": {},
   "outputs": [],
   "source": [
    "single_step_sequential_model = tf.keras.models.Sequential()\n",
    "single_step_sequential_model.add(tf.keras.layers.LSTM(11,return_sequences=True, input_shape=(None, 6)))\n",
    "single_step_sequential_model.add(tf.keras.layers.Dense(6, activation='linear'))\n",
    "\n",
    "loss_fn = tf.keras.losses.MeanSquaredError(reduction='sum_over_batch_size')\n",
    "\n",
    "single_step_sequential_model.compile(optimizer=tf.keras.optimizers.RMSprop(), loss=loss_fn, metrics=['mse','mae'])"
   ]
  },
  {
   "cell_type": "markdown",
   "metadata": {},
   "source": [
    "### Inspect the model"
   ]
  },
  {
   "cell_type": "code",
   "execution_count": 14,
   "metadata": {
    "tags": []
   },
   "outputs": [
    {
     "output_type": "stream",
     "name": "stdout",
     "text": [
      "Model: \"sequential\"\n_________________________________________________________________\nLayer (type)                 Output Shape              Param #   \n=================================================================\nlstm (LSTM)                  (None, None, 11)          792       \n_________________________________________________________________\ndense (Dense)                (None, None, 6)           72        \n=================================================================\nTotal params: 864\nTrainable params: 864\nNon-trainable params: 0\n_________________________________________________________________\n"
     ]
    }
   ],
   "source": [
    "single_step_sequential_model.summary()"
   ]
  },
  {
   "cell_type": "markdown",
   "metadata": {},
   "source": [
    "### Train the model"
   ]
  },
  {
   "cell_type": "code",
   "execution_count": 15,
   "metadata": {
    "tags": []
   },
   "outputs": [
    {
     "output_type": "stream",
     "name": "stdout",
     "text": [
      "Train for 228.0 steps, validate for 50 steps\n",
      "Epoch 1/100\n",
      "228/228 [==============================] - 9s 38ms/step - loss: 1.1778 - mse: 1.1778 - mae: 0.7840 - val_loss: 0.7953 - val_mse: 0.7953 - val_mae: 0.6137\n",
      "Epoch 2/100\n",
      "228/228 [==============================] - 3s 11ms/step - loss: 0.5452 - mse: 0.5452 - mae: 0.5116 - val_loss: 0.5347 - val_mse: 0.5347 - val_mae: 0.4627\n",
      "Epoch 3/100\n",
      "228/228 [==============================] - 3s 11ms/step - loss: 0.3915 - mse: 0.3915 - mae: 0.4189 - val_loss: 0.4241 - val_mse: 0.4241 - val_mae: 0.4049\n",
      "Epoch 4/100\n",
      "228/228 [==============================] - 3s 13ms/step - loss: 0.3163 - mse: 0.3163 - mae: 0.3682 - val_loss: 0.3698 - val_mse: 0.3698 - val_mae: 0.3691\n",
      "Epoch 5/100\n",
      "228/228 [==============================] - 2s 11ms/step - loss: 0.2795 - mse: 0.2795 - mae: 0.3386 - val_loss: 0.3439 - val_mse: 0.3439 - val_mae: 0.3503\n",
      "Epoch 6/100\n",
      "228/228 [==============================] - 3s 12ms/step - loss: 0.2600 - mse: 0.2600 - mae: 0.3221 - val_loss: 0.3296 - val_mse: 0.3296 - val_mae: 0.3398\n",
      "Epoch 7/100\n",
      "228/228 [==============================] - 3s 12ms/step - loss: 0.2478 - mse: 0.2478 - mae: 0.3118 - val_loss: 0.3194 - val_mse: 0.3194 - val_mae: 0.3319\n",
      "Epoch 8/100\n",
      "228/228 [==============================] - 2s 11ms/step - loss: 0.2389 - mse: 0.2389 - mae: 0.3040 - val_loss: 0.3110 - val_mse: 0.3110 - val_mae: 0.3251\n",
      "Epoch 9/100\n",
      "228/228 [==============================] - 3s 11ms/step - loss: 0.2317 - mse: 0.2317 - mae: 0.2978 - val_loss: 0.3036 - val_mse: 0.3036 - val_mae: 0.3193\n",
      "Epoch 10/100\n",
      "228/228 [==============================] - 3s 12ms/step - loss: 0.2255 - mse: 0.2255 - mae: 0.2925 - val_loss: 0.2967 - val_mse: 0.2967 - val_mae: 0.3139\n",
      "Epoch 11/100\n",
      "228/228 [==============================] - 3s 11ms/step - loss: 0.2200 - mse: 0.2200 - mae: 0.2877 - val_loss: 0.2903 - val_mse: 0.2903 - val_mae: 0.3089\n",
      "Epoch 12/100\n",
      "228/228 [==============================] - 3s 11ms/step - loss: 0.2150 - mse: 0.2150 - mae: 0.2834 - val_loss: 0.2842 - val_mse: 0.2842 - val_mae: 0.3042\n",
      "Epoch 13/100\n",
      "228/228 [==============================] - 3s 13ms/step - loss: 0.2104 - mse: 0.2104 - mae: 0.2794 - val_loss: 0.2784 - val_mse: 0.2784 - val_mae: 0.2998\n",
      "Epoch 14/100\n",
      "228/228 [==============================] - 3s 11ms/step - loss: 0.2061 - mse: 0.2061 - mae: 0.2757 - val_loss: 0.2729 - val_mse: 0.2729 - val_mae: 0.2959\n",
      "Epoch 15/100\n",
      "228/228 [==============================] - 3s 12ms/step - loss: 0.2020 - mse: 0.2020 - mae: 0.2724 - val_loss: 0.2677 - val_mse: 0.2677 - val_mae: 0.2923\n",
      "Epoch 16/100\n",
      "228/228 [==============================] - 3s 12ms/step - loss: 0.1983 - mse: 0.1983 - mae: 0.2692 - val_loss: 0.2628 - val_mse: 0.2628 - val_mae: 0.2889\n",
      "Epoch 17/100\n",
      "228/228 [==============================] - 2s 11ms/step - loss: 0.1948 - mse: 0.1948 - mae: 0.2663 - val_loss: 0.2582 - val_mse: 0.2582 - val_mae: 0.2858\n",
      "Epoch 18/100\n",
      "228/228 [==============================] - 3s 12ms/step - loss: 0.1915 - mse: 0.1915 - mae: 0.2635 - val_loss: 0.2539 - val_mse: 0.2539 - val_mae: 0.2831\n",
      "Epoch 19/100\n",
      "228/228 [==============================] - 3s 12ms/step - loss: 0.1884 - mse: 0.1884 - mae: 0.2610 - val_loss: 0.2498 - val_mse: 0.2498 - val_mae: 0.2805\n",
      "Epoch 20/100\n",
      "228/228 [==============================] - 3s 12ms/step - loss: 0.1855 - mse: 0.1855 - mae: 0.2587 - val_loss: 0.2460 - val_mse: 0.2460 - val_mae: 0.2781\n",
      "Epoch 21/100\n",
      "228/228 [==============================] - 4s 15ms/step - loss: 0.1828 - mse: 0.1828 - mae: 0.2565 - val_loss: 0.2424 - val_mse: 0.2424 - val_mae: 0.2759\n",
      "Epoch 22/100\n",
      "228/228 [==============================] - 3s 15ms/step - loss: 0.1803 - mse: 0.1803 - mae: 0.2545 - val_loss: 0.2390 - val_mse: 0.2390 - val_mae: 0.2738\n",
      "Epoch 23/100\n",
      "228/228 [==============================] - 3s 12ms/step - loss: 0.1779 - mse: 0.1779 - mae: 0.2526 - val_loss: 0.2359 - val_mse: 0.2359 - val_mae: 0.2719\n",
      "Epoch 24/100\n",
      "228/228 [==============================] - 3s 14ms/step - loss: 0.1757 - mse: 0.1757 - mae: 0.2509 - val_loss: 0.2330 - val_mse: 0.2330 - val_mae: 0.2701\n",
      "Epoch 25/100\n",
      "228/228 [==============================] - 3s 13ms/step - loss: 0.1736 - mse: 0.1736 - mae: 0.2493 - val_loss: 0.2302 - val_mse: 0.2302 - val_mae: 0.2685\n",
      "Epoch 26/100\n",
      "228/228 [==============================] - 3s 12ms/step - loss: 0.1716 - mse: 0.1716 - mae: 0.2479 - val_loss: 0.2276 - val_mse: 0.2276 - val_mae: 0.2669\n",
      "Epoch 27/100\n",
      "228/228 [==============================] - 2s 10ms/step - loss: 0.1698 - mse: 0.1698 - mae: 0.2465 - val_loss: 0.2252 - val_mse: 0.2252 - val_mae: 0.2654\n",
      "Epoch 28/100\n",
      "228/228 [==============================] - 2s 10ms/step - loss: 0.1681 - mse: 0.1681 - mae: 0.2452 - val_loss: 0.2229 - val_mse: 0.2229 - val_mae: 0.2640\n",
      "Epoch 29/100\n",
      "228/228 [==============================] - 3s 11ms/step - loss: 0.1665 - mse: 0.1665 - mae: 0.2440 - val_loss: 0.2207 - val_mse: 0.2207 - val_mae: 0.2626\n",
      "Epoch 30/100\n",
      "228/228 [==============================] - 3s 11ms/step - loss: 0.1650 - mse: 0.1650 - mae: 0.2429 - val_loss: 0.2187 - val_mse: 0.2187 - val_mae: 0.2614\n",
      "Epoch 31/100\n",
      "228/228 [==============================] - 3s 11ms/step - loss: 0.1636 - mse: 0.1636 - mae: 0.2419 - val_loss: 0.2169 - val_mse: 0.2169 - val_mae: 0.2602\n",
      "Epoch 32/100\n",
      "228/228 [==============================] - 3s 13ms/step - loss: 0.1622 - mse: 0.1622 - mae: 0.2409 - val_loss: 0.2151 - val_mse: 0.2151 - val_mae: 0.2591\n",
      "Epoch 33/100\n",
      "228/228 [==============================] - 3s 13ms/step - loss: 0.1610 - mse: 0.1610 - mae: 0.2400 - val_loss: 0.2134 - val_mse: 0.2134 - val_mae: 0.2581\n",
      "Epoch 34/100\n",
      "228/228 [==============================] - 3s 12ms/step - loss: 0.1598 - mse: 0.1598 - mae: 0.2392 - val_loss: 0.2119 - val_mse: 0.2119 - val_mae: 0.2571\n",
      "Epoch 35/100\n",
      "228/228 [==============================] - 3s 13ms/step - loss: 0.1587 - mse: 0.1587 - mae: 0.2383 - val_loss: 0.2104 - val_mse: 0.2104 - val_mae: 0.2561\n",
      "Epoch 36/100\n",
      "228/228 [==============================] - 2s 11ms/step - loss: 0.1576 - mse: 0.1576 - mae: 0.2375 - val_loss: 0.2090 - val_mse: 0.2090 - val_mae: 0.2553\n",
      "Epoch 37/100\n",
      "228/228 [==============================] - 3s 14ms/step - loss: 0.1566 - mse: 0.1566 - mae: 0.2368 - val_loss: 0.2076 - val_mse: 0.2076 - val_mae: 0.2544\n",
      "Epoch 38/100\n",
      "228/228 [==============================] - 3s 13ms/step - loss: 0.1556 - mse: 0.1556 - mae: 0.2360 - val_loss: 0.2064 - val_mse: 0.2064 - val_mae: 0.2536\n",
      "Epoch 39/100\n",
      "228/228 [==============================] - 3s 11ms/step - loss: 0.1547 - mse: 0.1547 - mae: 0.2353 - val_loss: 0.2052 - val_mse: 0.2052 - val_mae: 0.2528\n",
      "Epoch 40/100\n",
      "228/228 [==============================] - 3s 13ms/step - loss: 0.1537 - mse: 0.1537 - mae: 0.2346 - val_loss: 0.2040 - val_mse: 0.2040 - val_mae: 0.2521\n",
      "Epoch 41/100\n",
      "228/228 [==============================] - 3s 13ms/step - loss: 0.1529 - mse: 0.1529 - mae: 0.2339 - val_loss: 0.2029 - val_mse: 0.2029 - val_mae: 0.2513\n",
      "Epoch 42/100\n",
      "228/228 [==============================] - 3s 11ms/step - loss: 0.1520 - mse: 0.1520 - mae: 0.2332 - val_loss: 0.2019 - val_mse: 0.2019 - val_mae: 0.2506\n",
      "Epoch 43/100\n",
      "228/228 [==============================] - 3s 12ms/step - loss: 0.1512 - mse: 0.1512 - mae: 0.2326 - val_loss: 0.2009 - val_mse: 0.2009 - val_mae: 0.2499\n",
      "Epoch 44/100\n",
      "228/228 [==============================] - 3s 12ms/step - loss: 0.1504 - mse: 0.1504 - mae: 0.2320 - val_loss: 0.1999 - val_mse: 0.1999 - val_mae: 0.2493\n",
      "Epoch 45/100\n",
      "228/228 [==============================] - 2s 11ms/step - loss: 0.1496 - mse: 0.1496 - mae: 0.2314 - val_loss: 0.1990 - val_mse: 0.1990 - val_mae: 0.2487\n",
      "Epoch 46/100\n",
      "228/228 [==============================] - 3s 13ms/step - loss: 0.1488 - mse: 0.1488 - mae: 0.2308 - val_loss: 0.1981 - val_mse: 0.1981 - val_mae: 0.2481\n",
      "Epoch 47/100\n",
      "228/228 [==============================] - 3s 12ms/step - loss: 0.1481 - mse: 0.1481 - mae: 0.2302 - val_loss: 0.1973 - val_mse: 0.1973 - val_mae: 0.2475\n",
      "Epoch 48/100\n",
      "228/228 [==============================] - 3s 11ms/step - loss: 0.1474 - mse: 0.1474 - mae: 0.2297 - val_loss: 0.1964 - val_mse: 0.1964 - val_mae: 0.2469\n",
      "Epoch 49/100\n",
      "228/228 [==============================] - 3s 13ms/step - loss: 0.1467 - mse: 0.1467 - mae: 0.2291 - val_loss: 0.1956 - val_mse: 0.1956 - val_mae: 0.2464\n",
      "Epoch 50/100\n",
      "228/228 [==============================] - 2s 11ms/step - loss: 0.1460 - mse: 0.1460 - mae: 0.2286 - val_loss: 0.1949 - val_mse: 0.1949 - val_mae: 0.2459\n",
      "Epoch 51/100\n",
      "228/228 [==============================] - 3s 12ms/step - loss: 0.1454 - mse: 0.1454 - mae: 0.2281 - val_loss: 0.1941 - val_mse: 0.1941 - val_mae: 0.2454\n",
      "Epoch 52/100\n",
      "228/228 [==============================] - 3s 13ms/step - loss: 0.1447 - mse: 0.1447 - mae: 0.2276 - val_loss: 0.1934 - val_mse: 0.1934 - val_mae: 0.2449\n",
      "Epoch 53/100\n",
      "228/228 [==============================] - 3s 11ms/step - loss: 0.1441 - mse: 0.1441 - mae: 0.2271 - val_loss: 0.1927 - val_mse: 0.1927 - val_mae: 0.2445\n",
      "Epoch 54/100\n",
      "228/228 [==============================] - 3s 15ms/step - loss: 0.1435 - mse: 0.1435 - mae: 0.2266 - val_loss: 0.1920 - val_mse: 0.1920 - val_mae: 0.2440\n",
      "Epoch 55/100\n",
      "228/228 [==============================] - 3s 15ms/step - loss: 0.1429 - mse: 0.1429 - mae: 0.2262 - val_loss: 0.1914 - val_mse: 0.1914 - val_mae: 0.2436\n",
      "Epoch 56/100\n",
      "228/228 [==============================] - 3s 12ms/step - loss: 0.1423 - mse: 0.1423 - mae: 0.2257 - val_loss: 0.1907 - val_mse: 0.1907 - val_mae: 0.2432\n",
      "Epoch 57/100\n",
      "228/228 [==============================] - 3s 13ms/step - loss: 0.1418 - mse: 0.1418 - mae: 0.2252 - val_loss: 0.1901 - val_mse: 0.1901 - val_mae: 0.2428\n",
      "Epoch 58/100\n",
      "228/228 [==============================] - 3s 13ms/step - loss: 0.1413 - mse: 0.1413 - mae: 0.2248 - val_loss: 0.1895 - val_mse: 0.1895 - val_mae: 0.2424\n",
      "Epoch 59/100\n",
      "228/228 [==============================] - 3s 12ms/step - loss: 0.1407 - mse: 0.1407 - mae: 0.2243 - val_loss: 0.1889 - val_mse: 0.1889 - val_mae: 0.2421\n",
      "Epoch 60/100\n",
      "228/228 [==============================] - 3s 14ms/step - loss: 0.1402 - mse: 0.1402 - mae: 0.2239 - val_loss: 0.1883 - val_mse: 0.1883 - val_mae: 0.2417\n",
      "Epoch 61/100\n",
      "228/228 [==============================] - 3s 12ms/step - loss: 0.1398 - mse: 0.1398 - mae: 0.2235 - val_loss: 0.1878 - val_mse: 0.1878 - val_mae: 0.2413\n",
      "Epoch 62/100\n",
      "228/228 [==============================] - 3s 11ms/step - loss: 0.1393 - mse: 0.1393 - mae: 0.2231 - val_loss: 0.1872 - val_mse: 0.1872 - val_mae: 0.2410\n",
      "Epoch 63/100\n",
      "228/228 [==============================] - 3s 13ms/step - loss: 0.1388 - mse: 0.1388 - mae: 0.2227 - val_loss: 0.1867 - val_mse: 0.1867 - val_mae: 0.2406\n",
      "Epoch 64/100\n",
      "228/228 [==============================] - 3s 11ms/step - loss: 0.1384 - mse: 0.1384 - mae: 0.2223 - val_loss: 0.1862 - val_mse: 0.1862 - val_mae: 0.2403\n",
      "Epoch 65/100\n",
      "228/228 [==============================] - 3s 11ms/step - loss: 0.1379 - mse: 0.1379 - mae: 0.2219 - val_loss: 0.1857 - val_mse: 0.1857 - val_mae: 0.2400\n",
      "Epoch 66/100\n",
      "228/228 [==============================] - 3s 13ms/step - loss: 0.1375 - mse: 0.1375 - mae: 0.2216 - val_loss: 0.1852 - val_mse: 0.1852 - val_mae: 0.2397\n",
      "Epoch 67/100\n",
      "228/228 [==============================] - 3s 13ms/step - loss: 0.1371 - mse: 0.1371 - mae: 0.2212 - val_loss: 0.1848 - val_mse: 0.1848 - val_mae: 0.2393\n",
      "Epoch 68/100\n",
      "228/228 [==============================] - 3s 12ms/step - loss: 0.1367 - mse: 0.1367 - mae: 0.2209 - val_loss: 0.1843 - val_mse: 0.1843 - val_mae: 0.2390\n",
      "Epoch 69/100\n",
      "228/228 [==============================] - 3s 13ms/step - loss: 0.1363 - mse: 0.1363 - mae: 0.2205 - val_loss: 0.1838 - val_mse: 0.1838 - val_mae: 0.2388\n",
      "Epoch 70/100\n",
      "228/228 [==============================] - 3s 12ms/step - loss: 0.1359 - mse: 0.1359 - mae: 0.2202 - val_loss: 0.1834 - val_mse: 0.1834 - val_mae: 0.2385\n",
      "Epoch 71/100\n",
      "228/228 [==============================] - 3s 13ms/step - loss: 0.1355 - mse: 0.1355 - mae: 0.2199 - val_loss: 0.1830 - val_mse: 0.1830 - val_mae: 0.2382\n",
      "Epoch 72/100\n",
      "228/228 [==============================] - 3s 12ms/step - loss: 0.1352 - mse: 0.1352 - mae: 0.2196 - val_loss: 0.1826 - val_mse: 0.1826 - val_mae: 0.2379\n",
      "Epoch 73/100\n",
      "228/228 [==============================] - 3s 12ms/step - loss: 0.1348 - mse: 0.1348 - mae: 0.2193 - val_loss: 0.1822 - val_mse: 0.1822 - val_mae: 0.2377\n",
      "Epoch 74/100\n",
      "228/228 [==============================] - 3s 13ms/step - loss: 0.1345 - mse: 0.1345 - mae: 0.2190 - val_loss: 0.1818 - val_mse: 0.1818 - val_mae: 0.2374\n",
      "Epoch 75/100\n",
      "228/228 [==============================] - 3s 11ms/step - loss: 0.1341 - mse: 0.1341 - mae: 0.2187 - val_loss: 0.1814 - val_mse: 0.1814 - val_mae: 0.2372\n",
      "Epoch 76/100\n",
      "228/228 [==============================] - 3s 12ms/step - loss: 0.1338 - mse: 0.1338 - mae: 0.2185 - val_loss: 0.1810 - val_mse: 0.1810 - val_mae: 0.2370\n",
      "Epoch 77/100\n",
      "228/228 [==============================] - 3s 12ms/step - loss: 0.1335 - mse: 0.1335 - mae: 0.2182 - val_loss: 0.1806 - val_mse: 0.1806 - val_mae: 0.2368\n",
      "Epoch 78/100\n",
      "228/228 [==============================] - 3s 11ms/step - loss: 0.1332 - mse: 0.1332 - mae: 0.2180 - val_loss: 0.1802 - val_mse: 0.1802 - val_mae: 0.2366\n",
      "Epoch 79/100\n",
      "228/228 [==============================] - 3s 13ms/step - loss: 0.1329 - mse: 0.1329 - mae: 0.2177 - val_loss: 0.1799 - val_mse: 0.1799 - val_mae: 0.2364\n",
      "Epoch 80/100\n",
      "228/228 [==============================] - 3s 13ms/step - loss: 0.1326 - mse: 0.1326 - mae: 0.2175 - val_loss: 0.1795 - val_mse: 0.1795 - val_mae: 0.2362\n",
      "Epoch 81/100\n",
      "228/228 [==============================] - 3s 11ms/step - loss: 0.1323 - mse: 0.1323 - mae: 0.2173 - val_loss: 0.1792 - val_mse: 0.1792 - val_mae: 0.2360\n",
      "Epoch 82/100\n",
      "228/228 [==============================] - 3s 12ms/step - loss: 0.1320 - mse: 0.1320 - mae: 0.2170 - val_loss: 0.1788 - val_mse: 0.1788 - val_mae: 0.2358\n",
      "Epoch 83/100\n",
      "228/228 [==============================] - 3s 12ms/step - loss: 0.1317 - mse: 0.1317 - mae: 0.2168 - val_loss: 0.1785 - val_mse: 0.1785 - val_mae: 0.2356\n",
      "Epoch 84/100\n",
      "228/228 [==============================] - 3s 12ms/step - loss: 0.1314 - mse: 0.1314 - mae: 0.2166 - val_loss: 0.1782 - val_mse: 0.1782 - val_mae: 0.2354\n",
      "Epoch 85/100\n",
      "228/228 [==============================] - 3s 13ms/step - loss: 0.1312 - mse: 0.1312 - mae: 0.2164 - val_loss: 0.1778 - val_mse: 0.1778 - val_mae: 0.2353\n",
      "Epoch 86/100\n",
      "228/228 [==============================] - 3s 12ms/step - loss: 0.1309 - mse: 0.1309 - mae: 0.2162 - val_loss: 0.1775 - val_mse: 0.1775 - val_mae: 0.2351\n",
      "Epoch 87/100\n",
      "228/228 [==============================] - 3s 13ms/step - loss: 0.1306 - mse: 0.1306 - mae: 0.2160 - val_loss: 0.1772 - val_mse: 0.1772 - val_mae: 0.2349\n",
      "Epoch 88/100\n",
      "228/228 [==============================] - 3s 14ms/step - loss: 0.1304 - mse: 0.1304 - mae: 0.2158 - val_loss: 0.1769 - val_mse: 0.1769 - val_mae: 0.2348\n",
      "Epoch 89/100\n",
      "228/228 [==============================] - 3s 11ms/step - loss: 0.1301 - mse: 0.1301 - mae: 0.2156 - val_loss: 0.1765 - val_mse: 0.1765 - val_mae: 0.2346\n",
      "Epoch 90/100\n",
      "228/228 [==============================] - 3s 12ms/step - loss: 0.1299 - mse: 0.1299 - mae: 0.2154 - val_loss: 0.1762 - val_mse: 0.1762 - val_mae: 0.2344\n",
      "Epoch 91/100\n",
      "228/228 [==============================] - 3s 13ms/step - loss: 0.1296 - mse: 0.1296 - mae: 0.2152 - val_loss: 0.1759 - val_mse: 0.1759 - val_mae: 0.2343\n",
      "Epoch 92/100\n",
      "228/228 [==============================] - 3s 11ms/step - loss: 0.1294 - mse: 0.1294 - mae: 0.2150 - val_loss: 0.1756 - val_mse: 0.1756 - val_mae: 0.2341\n",
      "Epoch 93/100\n",
      "228/228 [==============================] - 3s 12ms/step - loss: 0.1291 - mse: 0.1291 - mae: 0.2148 - val_loss: 0.1753 - val_mse: 0.1753 - val_mae: 0.2340\n",
      "Epoch 94/100\n",
      "228/228 [==============================] - 3s 13ms/step - loss: 0.1289 - mse: 0.1289 - mae: 0.2146 - val_loss: 0.1750 - val_mse: 0.1750 - val_mae: 0.2339\n",
      "Epoch 95/100\n",
      "228/228 [==============================] - 3s 12ms/step - loss: 0.1286 - mse: 0.1286 - mae: 0.2144 - val_loss: 0.1746 - val_mse: 0.1746 - val_mae: 0.2337\n",
      "Epoch 96/100\n",
      "228/228 [==============================] - 3s 13ms/step - loss: 0.1284 - mse: 0.1284 - mae: 0.2143 - val_loss: 0.1743 - val_mse: 0.1743 - val_mae: 0.2336\n",
      "Epoch 97/100\n",
      "228/228 [==============================] - 3s 12ms/step - loss: 0.1282 - mse: 0.1282 - mae: 0.2141 - val_loss: 0.1740 - val_mse: 0.1740 - val_mae: 0.2335\n",
      "Epoch 98/100\n",
      "228/228 [==============================] - 3s 11ms/step - loss: 0.1280 - mse: 0.1280 - mae: 0.2139 - val_loss: 0.1737 - val_mse: 0.1737 - val_mae: 0.2334\n",
      "Epoch 99/100\n",
      "228/228 [==============================] - 3s 13ms/step - loss: 0.1277 - mse: 0.1277 - mae: 0.2138 - val_loss: 0.1734 - val_mse: 0.1734 - val_mae: 0.2332\n",
      "Epoch 100/100\n",
      "228/228 [==============================] - 3s 12ms/step - loss: 0.1275 - mse: 0.1275 - mae: 0.2136 - val_loss: 0.1731 - val_mse: 0.1731 - val_mae: 0.2331\n"
     ]
    }
   ],
   "source": [
    "STEPS_PER_EPOCH = TRAIN_SPLIT / BATCH_SIZE\n",
    "EPOCHS = 100\n",
    "\n",
    "single_step_sequential_history = single_step_sequential_model.fit(train_data_single_sequential, epochs=EPOCHS, steps_per_epoch=STEPS_PER_EPOCH, validation_data=val_data_single_sequential, validation_steps=50)"
   ]
  },
  {
   "cell_type": "code",
   "execution_count": 16,
   "metadata": {},
   "outputs": [],
   "source": [
    "N_CATEGORIES = 28\n",
    "X = pd.DataFrame(columns=[\"A0\", \"A1\"], dtype=np.float64, index=range(N_CATEGORIES))\n",
    "\n",
    "for i in range(N_CATEGORIES):\n",
    "    X[\"A0\"][i] = class_to_action(str(i))[0]\n",
    "    X[\"A1\"][i] = class_to_action(str(i))[1]\n"
   ]
  },
  {
   "cell_type": "code",
   "execution_count": 17,
   "metadata": {
    "tags": []
   },
   "outputs": [
    {
     "output_type": "stream",
     "name": "stdout",
     "text": [
      "57/57 - 3s - loss: 0.1592 - mse: 0.1592 - mae: 0.2238\n"
     ]
    }
   ],
   "source": [
    "test_loss, test_mse, test_mae = single_step_sequential_model.evaluate(x_val_single_sequential,  y_val_single_sequential, verbose=2)"
   ]
  },
  {
   "cell_type": "markdown",
   "metadata": {},
   "source": [
    "Visualize the model's training progress."
   ]
  },
  {
   "cell_type": "code",
   "execution_count": 18,
   "metadata": {},
   "outputs": [],
   "source": [
    "def plot_train_history(history, title):\n",
    "  loss = history.history['loss']\n",
    "  val_loss = history.history['val_loss']\n",
    "\n",
    "  epochs = range(len(loss))\n",
    "\n",
    "  plt.figure()\n",
    "\n",
    "  plt.plot(epochs, loss, 'b', label='Training loss')\n",
    "  plt.plot(epochs, val_loss, 'r', label='Validation loss')\n",
    "  plt.title(title)\n",
    "  plt.legend()\n",
    "\n",
    "  plt.show()"
   ]
  },
  {
   "cell_type": "code",
   "execution_count": 19,
   "metadata": {},
   "outputs": [
    {
     "output_type": "display_data",
     "data": {
      "text/plain": "<Figure size 432x288 with 1 Axes>",
      "image/svg+xml": "<?xml version=\"1.0\" encoding=\"utf-8\" standalone=\"no\"?>\r\n<!DOCTYPE svg PUBLIC \"-//W3C//DTD SVG 1.1//EN\"\r\n  \"http://www.w3.org/Graphics/SVG/1.1/DTD/svg11.dtd\">\r\n<!-- Created with matplotlib (https://matplotlib.org/) -->\r\n<svg height=\"263.63625pt\" version=\"1.1\" viewBox=\"0 0 372.103125 263.63625\" width=\"372.103125pt\" xmlns=\"http://www.w3.org/2000/svg\" xmlns:xlink=\"http://www.w3.org/1999/xlink\">\r\n <defs>\r\n  <style type=\"text/css\">\r\n*{stroke-linecap:butt;stroke-linejoin:round;}\r\n  </style>\r\n </defs>\r\n <g id=\"figure_1\">\r\n  <g id=\"patch_1\">\r\n   <path d=\"M 0 263.63625 \r\nL 372.103125 263.63625 \r\nL 372.103125 0 \r\nL 0 0 \r\nz\r\n\" style=\"fill:none;\"/>\r\n  </g>\r\n  <g id=\"axes_1\">\r\n   <g id=\"patch_2\">\r\n    <path d=\"M 30.103125 239.758125 \r\nL 364.903125 239.758125 \r\nL 364.903125 22.318125 \r\nL 30.103125 22.318125 \r\nz\r\n\" style=\"fill:#ffffff;\"/>\r\n   </g>\r\n   <g id=\"matplotlib.axis_1\">\r\n    <g id=\"xtick_1\">\r\n     <g id=\"line2d_1\">\r\n      <defs>\r\n       <path d=\"M 0 0 \r\nL 0 3.5 \r\n\" id=\"m51735fcf63\" style=\"stroke:#000000;stroke-width:0.8;\"/>\r\n      </defs>\r\n      <g>\r\n       <use style=\"stroke:#000000;stroke-width:0.8;\" x=\"45.321307\" xlink:href=\"#m51735fcf63\" y=\"239.758125\"/>\r\n      </g>\r\n     </g>\r\n     <g id=\"text_1\">\r\n      <!-- 0 -->\r\n      <defs>\r\n       <path d=\"M 31.78125 66.40625 \r\nQ 24.171875 66.40625 20.328125 58.90625 \r\nQ 16.5 51.421875 16.5 36.375 \r\nQ 16.5 21.390625 20.328125 13.890625 \r\nQ 24.171875 6.390625 31.78125 6.390625 \r\nQ 39.453125 6.390625 43.28125 13.890625 \r\nQ 47.125 21.390625 47.125 36.375 \r\nQ 47.125 51.421875 43.28125 58.90625 \r\nQ 39.453125 66.40625 31.78125 66.40625 \r\nz\r\nM 31.78125 74.21875 \r\nQ 44.046875 74.21875 50.515625 64.515625 \r\nQ 56.984375 54.828125 56.984375 36.375 \r\nQ 56.984375 17.96875 50.515625 8.265625 \r\nQ 44.046875 -1.421875 31.78125 -1.421875 \r\nQ 19.53125 -1.421875 13.0625 8.265625 \r\nQ 6.59375 17.96875 6.59375 36.375 \r\nQ 6.59375 54.828125 13.0625 64.515625 \r\nQ 19.53125 74.21875 31.78125 74.21875 \r\nz\r\n\" id=\"DejaVuSans-48\"/>\r\n      </defs>\r\n      <g transform=\"translate(42.140057 254.356563)scale(0.1 -0.1)\">\r\n       <use xlink:href=\"#DejaVuSans-48\"/>\r\n      </g>\r\n     </g>\r\n    </g>\r\n    <g id=\"xtick_2\">\r\n     <g id=\"line2d_2\">\r\n      <g>\r\n       <use style=\"stroke:#000000;stroke-width:0.8;\" x=\"106.80891\" xlink:href=\"#m51735fcf63\" y=\"239.758125\"/>\r\n      </g>\r\n     </g>\r\n     <g id=\"text_2\">\r\n      <!-- 20 -->\r\n      <defs>\r\n       <path d=\"M 19.1875 8.296875 \r\nL 53.609375 8.296875 \r\nL 53.609375 0 \r\nL 7.328125 0 \r\nL 7.328125 8.296875 \r\nQ 12.9375 14.109375 22.625 23.890625 \r\nQ 32.328125 33.6875 34.8125 36.53125 \r\nQ 39.546875 41.84375 41.421875 45.53125 \r\nQ 43.3125 49.21875 43.3125 52.78125 \r\nQ 43.3125 58.59375 39.234375 62.25 \r\nQ 35.15625 65.921875 28.609375 65.921875 \r\nQ 23.96875 65.921875 18.8125 64.3125 \r\nQ 13.671875 62.703125 7.8125 59.421875 \r\nL 7.8125 69.390625 \r\nQ 13.765625 71.78125 18.9375 73 \r\nQ 24.125 74.21875 28.421875 74.21875 \r\nQ 39.75 74.21875 46.484375 68.546875 \r\nQ 53.21875 62.890625 53.21875 53.421875 \r\nQ 53.21875 48.921875 51.53125 44.890625 \r\nQ 49.859375 40.875 45.40625 35.40625 \r\nQ 44.1875 33.984375 37.640625 27.21875 \r\nQ 31.109375 20.453125 19.1875 8.296875 \r\nz\r\n\" id=\"DejaVuSans-50\"/>\r\n      </defs>\r\n      <g transform=\"translate(100.44641 254.356563)scale(0.1 -0.1)\">\r\n       <use xlink:href=\"#DejaVuSans-50\"/>\r\n       <use x=\"63.623047\" xlink:href=\"#DejaVuSans-48\"/>\r\n      </g>\r\n     </g>\r\n    </g>\r\n    <g id=\"xtick_3\">\r\n     <g id=\"line2d_3\">\r\n      <g>\r\n       <use style=\"stroke:#000000;stroke-width:0.8;\" x=\"168.296513\" xlink:href=\"#m51735fcf63\" y=\"239.758125\"/>\r\n      </g>\r\n     </g>\r\n     <g id=\"text_3\">\r\n      <!-- 40 -->\r\n      <defs>\r\n       <path d=\"M 37.796875 64.3125 \r\nL 12.890625 25.390625 \r\nL 37.796875 25.390625 \r\nz\r\nM 35.203125 72.90625 \r\nL 47.609375 72.90625 \r\nL 47.609375 25.390625 \r\nL 58.015625 25.390625 \r\nL 58.015625 17.1875 \r\nL 47.609375 17.1875 \r\nL 47.609375 0 \r\nL 37.796875 0 \r\nL 37.796875 17.1875 \r\nL 4.890625 17.1875 \r\nL 4.890625 26.703125 \r\nz\r\n\" id=\"DejaVuSans-52\"/>\r\n      </defs>\r\n      <g transform=\"translate(161.934013 254.356563)scale(0.1 -0.1)\">\r\n       <use xlink:href=\"#DejaVuSans-52\"/>\r\n       <use x=\"63.623047\" xlink:href=\"#DejaVuSans-48\"/>\r\n      </g>\r\n     </g>\r\n    </g>\r\n    <g id=\"xtick_4\">\r\n     <g id=\"line2d_4\">\r\n      <g>\r\n       <use style=\"stroke:#000000;stroke-width:0.8;\" x=\"229.784117\" xlink:href=\"#m51735fcf63\" y=\"239.758125\"/>\r\n      </g>\r\n     </g>\r\n     <g id=\"text_4\">\r\n      <!-- 60 -->\r\n      <defs>\r\n       <path d=\"M 33.015625 40.375 \r\nQ 26.375 40.375 22.484375 35.828125 \r\nQ 18.609375 31.296875 18.609375 23.390625 \r\nQ 18.609375 15.53125 22.484375 10.953125 \r\nQ 26.375 6.390625 33.015625 6.390625 \r\nQ 39.65625 6.390625 43.53125 10.953125 \r\nQ 47.40625 15.53125 47.40625 23.390625 \r\nQ 47.40625 31.296875 43.53125 35.828125 \r\nQ 39.65625 40.375 33.015625 40.375 \r\nz\r\nM 52.59375 71.296875 \r\nL 52.59375 62.3125 \r\nQ 48.875 64.0625 45.09375 64.984375 \r\nQ 41.3125 65.921875 37.59375 65.921875 \r\nQ 27.828125 65.921875 22.671875 59.328125 \r\nQ 17.53125 52.734375 16.796875 39.40625 \r\nQ 19.671875 43.65625 24.015625 45.921875 \r\nQ 28.375 48.1875 33.59375 48.1875 \r\nQ 44.578125 48.1875 50.953125 41.515625 \r\nQ 57.328125 34.859375 57.328125 23.390625 \r\nQ 57.328125 12.15625 50.6875 5.359375 \r\nQ 44.046875 -1.421875 33.015625 -1.421875 \r\nQ 20.359375 -1.421875 13.671875 8.265625 \r\nQ 6.984375 17.96875 6.984375 36.375 \r\nQ 6.984375 53.65625 15.1875 63.9375 \r\nQ 23.390625 74.21875 37.203125 74.21875 \r\nQ 40.921875 74.21875 44.703125 73.484375 \r\nQ 48.484375 72.75 52.59375 71.296875 \r\nz\r\n\" id=\"DejaVuSans-54\"/>\r\n      </defs>\r\n      <g transform=\"translate(223.421617 254.356563)scale(0.1 -0.1)\">\r\n       <use xlink:href=\"#DejaVuSans-54\"/>\r\n       <use x=\"63.623047\" xlink:href=\"#DejaVuSans-48\"/>\r\n      </g>\r\n     </g>\r\n    </g>\r\n    <g id=\"xtick_5\">\r\n     <g id=\"line2d_5\">\r\n      <g>\r\n       <use style=\"stroke:#000000;stroke-width:0.8;\" x=\"291.27172\" xlink:href=\"#m51735fcf63\" y=\"239.758125\"/>\r\n      </g>\r\n     </g>\r\n     <g id=\"text_5\">\r\n      <!-- 80 -->\r\n      <defs>\r\n       <path d=\"M 31.78125 34.625 \r\nQ 24.75 34.625 20.71875 30.859375 \r\nQ 16.703125 27.09375 16.703125 20.515625 \r\nQ 16.703125 13.921875 20.71875 10.15625 \r\nQ 24.75 6.390625 31.78125 6.390625 \r\nQ 38.8125 6.390625 42.859375 10.171875 \r\nQ 46.921875 13.96875 46.921875 20.515625 \r\nQ 46.921875 27.09375 42.890625 30.859375 \r\nQ 38.875 34.625 31.78125 34.625 \r\nz\r\nM 21.921875 38.8125 \r\nQ 15.578125 40.375 12.03125 44.71875 \r\nQ 8.5 49.078125 8.5 55.328125 \r\nQ 8.5 64.0625 14.71875 69.140625 \r\nQ 20.953125 74.21875 31.78125 74.21875 \r\nQ 42.671875 74.21875 48.875 69.140625 \r\nQ 55.078125 64.0625 55.078125 55.328125 \r\nQ 55.078125 49.078125 51.53125 44.71875 \r\nQ 48 40.375 41.703125 38.8125 \r\nQ 48.828125 37.15625 52.796875 32.3125 \r\nQ 56.78125 27.484375 56.78125 20.515625 \r\nQ 56.78125 9.90625 50.3125 4.234375 \r\nQ 43.84375 -1.421875 31.78125 -1.421875 \r\nQ 19.734375 -1.421875 13.25 4.234375 \r\nQ 6.78125 9.90625 6.78125 20.515625 \r\nQ 6.78125 27.484375 10.78125 32.3125 \r\nQ 14.796875 37.15625 21.921875 38.8125 \r\nz\r\nM 18.3125 54.390625 \r\nQ 18.3125 48.734375 21.84375 45.5625 \r\nQ 25.390625 42.390625 31.78125 42.390625 \r\nQ 38.140625 42.390625 41.71875 45.5625 \r\nQ 45.3125 48.734375 45.3125 54.390625 \r\nQ 45.3125 60.0625 41.71875 63.234375 \r\nQ 38.140625 66.40625 31.78125 66.40625 \r\nQ 25.390625 66.40625 21.84375 63.234375 \r\nQ 18.3125 60.0625 18.3125 54.390625 \r\nz\r\n\" id=\"DejaVuSans-56\"/>\r\n      </defs>\r\n      <g transform=\"translate(284.90922 254.356563)scale(0.1 -0.1)\">\r\n       <use xlink:href=\"#DejaVuSans-56\"/>\r\n       <use x=\"63.623047\" xlink:href=\"#DejaVuSans-48\"/>\r\n      </g>\r\n     </g>\r\n    </g>\r\n    <g id=\"xtick_6\">\r\n     <g id=\"line2d_6\">\r\n      <g>\r\n       <use style=\"stroke:#000000;stroke-width:0.8;\" x=\"352.759323\" xlink:href=\"#m51735fcf63\" y=\"239.758125\"/>\r\n      </g>\r\n     </g>\r\n     <g id=\"text_6\">\r\n      <!-- 100 -->\r\n      <defs>\r\n       <path d=\"M 12.40625 8.296875 \r\nL 28.515625 8.296875 \r\nL 28.515625 63.921875 \r\nL 10.984375 60.40625 \r\nL 10.984375 69.390625 \r\nL 28.421875 72.90625 \r\nL 38.28125 72.90625 \r\nL 38.28125 8.296875 \r\nL 54.390625 8.296875 \r\nL 54.390625 0 \r\nL 12.40625 0 \r\nz\r\n\" id=\"DejaVuSans-49\"/>\r\n      </defs>\r\n      <g transform=\"translate(343.215573 254.356563)scale(0.1 -0.1)\">\r\n       <use xlink:href=\"#DejaVuSans-49\"/>\r\n       <use x=\"63.623047\" xlink:href=\"#DejaVuSans-48\"/>\r\n       <use x=\"127.246094\" xlink:href=\"#DejaVuSans-48\"/>\r\n      </g>\r\n     </g>\r\n    </g>\r\n   </g>\r\n   <g id=\"matplotlib.axis_2\">\r\n    <g id=\"ytick_1\">\r\n     <g id=\"line2d_7\">\r\n      <defs>\r\n       <path d=\"M 0 0 \r\nL -3.5 0 \r\n\" id=\"me17756e00c\" style=\"stroke:#000000;stroke-width:0.8;\"/>\r\n      </defs>\r\n      <g>\r\n       <use style=\"stroke:#000000;stroke-width:0.8;\" x=\"30.103125\" xlink:href=\"#me17756e00c\" y=\"216.234027\"/>\r\n      </g>\r\n     </g>\r\n     <g id=\"text_7\">\r\n      <!-- 0.2 -->\r\n      <defs>\r\n       <path d=\"M 10.6875 12.40625 \r\nL 21 12.40625 \r\nL 21 0 \r\nL 10.6875 0 \r\nz\r\n\" id=\"DejaVuSans-46\"/>\r\n      </defs>\r\n      <g transform=\"translate(7.2 220.033246)scale(0.1 -0.1)\">\r\n       <use xlink:href=\"#DejaVuSans-48\"/>\r\n       <use x=\"63.623047\" xlink:href=\"#DejaVuSans-46\"/>\r\n       <use x=\"95.410156\" xlink:href=\"#DejaVuSans-50\"/>\r\n      </g>\r\n     </g>\r\n    </g>\r\n    <g id=\"ytick_2\">\r\n     <g id=\"line2d_8\">\r\n      <g>\r\n       <use style=\"stroke:#000000;stroke-width:0.8;\" x=\"30.103125\" xlink:href=\"#me17756e00c\" y=\"178.593396\"/>\r\n      </g>\r\n     </g>\r\n     <g id=\"text_8\">\r\n      <!-- 0.4 -->\r\n      <g transform=\"translate(7.2 182.392615)scale(0.1 -0.1)\">\r\n       <use xlink:href=\"#DejaVuSans-48\"/>\r\n       <use x=\"63.623047\" xlink:href=\"#DejaVuSans-46\"/>\r\n       <use x=\"95.410156\" xlink:href=\"#DejaVuSans-52\"/>\r\n      </g>\r\n     </g>\r\n    </g>\r\n    <g id=\"ytick_3\">\r\n     <g id=\"line2d_9\">\r\n      <g>\r\n       <use style=\"stroke:#000000;stroke-width:0.8;\" x=\"30.103125\" xlink:href=\"#me17756e00c\" y=\"140.952765\"/>\r\n      </g>\r\n     </g>\r\n     <g id=\"text_9\">\r\n      <!-- 0.6 -->\r\n      <g transform=\"translate(7.2 144.751983)scale(0.1 -0.1)\">\r\n       <use xlink:href=\"#DejaVuSans-48\"/>\r\n       <use x=\"63.623047\" xlink:href=\"#DejaVuSans-46\"/>\r\n       <use x=\"95.410156\" xlink:href=\"#DejaVuSans-54\"/>\r\n      </g>\r\n     </g>\r\n    </g>\r\n    <g id=\"ytick_4\">\r\n     <g id=\"line2d_10\">\r\n      <g>\r\n       <use style=\"stroke:#000000;stroke-width:0.8;\" x=\"30.103125\" xlink:href=\"#me17756e00c\" y=\"103.312134\"/>\r\n      </g>\r\n     </g>\r\n     <g id=\"text_10\">\r\n      <!-- 0.8 -->\r\n      <g transform=\"translate(7.2 107.111352)scale(0.1 -0.1)\">\r\n       <use xlink:href=\"#DejaVuSans-48\"/>\r\n       <use x=\"63.623047\" xlink:href=\"#DejaVuSans-46\"/>\r\n       <use x=\"95.410156\" xlink:href=\"#DejaVuSans-56\"/>\r\n      </g>\r\n     </g>\r\n    </g>\r\n    <g id=\"ytick_5\">\r\n     <g id=\"line2d_11\">\r\n      <g>\r\n       <use style=\"stroke:#000000;stroke-width:0.8;\" x=\"30.103125\" xlink:href=\"#me17756e00c\" y=\"65.671503\"/>\r\n      </g>\r\n     </g>\r\n     <g id=\"text_11\">\r\n      <!-- 1.0 -->\r\n      <g transform=\"translate(7.2 69.470721)scale(0.1 -0.1)\">\r\n       <use xlink:href=\"#DejaVuSans-49\"/>\r\n       <use x=\"63.623047\" xlink:href=\"#DejaVuSans-46\"/>\r\n       <use x=\"95.410156\" xlink:href=\"#DejaVuSans-48\"/>\r\n      </g>\r\n     </g>\r\n    </g>\r\n    <g id=\"ytick_6\">\r\n     <g id=\"line2d_12\">\r\n      <g>\r\n       <use style=\"stroke:#000000;stroke-width:0.8;\" x=\"30.103125\" xlink:href=\"#me17756e00c\" y=\"28.030871\"/>\r\n      </g>\r\n     </g>\r\n     <g id=\"text_12\">\r\n      <!-- 1.2 -->\r\n      <g transform=\"translate(7.2 31.83009)scale(0.1 -0.1)\">\r\n       <use xlink:href=\"#DejaVuSans-49\"/>\r\n       <use x=\"63.623047\" xlink:href=\"#DejaVuSans-46\"/>\r\n       <use x=\"95.410156\" xlink:href=\"#DejaVuSans-50\"/>\r\n      </g>\r\n     </g>\r\n    </g>\r\n   </g>\r\n   <g id=\"line2d_13\">\r\n    <path clip-path=\"url(#pda8b03b5dc)\" d=\"M 45.321307 32.201761 \r\nL 48.395687 151.268729 \r\nL 51.470067 180.186072 \r\nL 54.544447 194.340475 \r\nL 57.618827 201.26949 \r\nL 60.693208 204.950231 \r\nL 63.767588 207.237315 \r\nL 66.841968 208.909444 \r\nL 69.916348 210.266068 \r\nL 72.990728 211.430742 \r\nL 76.065108 212.466391 \r\nL 79.139489 213.409133 \r\nL 82.213869 214.28016 \r\nL 85.288249 215.091191 \r\nL 88.362629 215.848788 \r\nL 91.437009 216.557104 \r\nL 94.511389 217.219442 \r\nL 97.58577 217.838856 \r\nL 100.66015 218.418388 \r\nL 103.73453 218.960928 \r\nL 106.80891 219.469142 \r\nL 109.88329 219.945493 \r\nL 112.95767 220.391985 \r\nL 116.032051 220.810491 \r\nL 119.106431 221.202875 \r\nL 122.180811 221.570753 \r\nL 125.255191 221.915414 \r\nL 128.329571 222.23812 \r\nL 131.403951 222.540281 \r\nL 134.478332 222.823406 \r\nL 137.552712 223.089103 \r\nL 140.627092 223.339038 \r\nL 143.701472 223.574841 \r\nL 146.775852 223.798031 \r\nL 149.850232 224.009998 \r\nL 152.924613 224.211984 \r\nL 155.998993 224.405084 \r\nL 159.073373 224.590252 \r\nL 162.147753 224.768315 \r\nL 165.222133 224.939983 \r\nL 168.296513 225.105874 \r\nL 171.370894 225.266502 \r\nL 174.445274 225.422287 \r\nL 177.519654 225.573548 \r\nL 180.594034 225.720495 \r\nL 183.668414 225.86327 \r\nL 186.742794 226.001979 \r\nL 189.817175 226.136728 \r\nL 192.891555 226.267627 \r\nL 195.965935 226.394781 \r\nL 199.040315 226.518289 \r\nL 202.114695 226.638247 \r\nL 205.189075 226.754747 \r\nL 208.263456 226.867873 \r\nL 211.337836 226.977709 \r\nL 214.412216 227.084341 \r\nL 217.486596 227.187855 \r\nL 220.560976 227.288351 \r\nL 223.635356 227.385941 \r\nL 226.709737 227.480758 \r\nL 229.784117 227.57293 \r\nL 232.858497 227.662564 \r\nL 235.932877 227.749742 \r\nL 239.007257 227.834532 \r\nL 242.081637 227.917012 \r\nL 245.156018 227.997274 \r\nL 248.230398 228.075424 \r\nL 251.304778 228.151536 \r\nL 254.379158 228.225667 \r\nL 257.453538 228.29787 \r\nL 260.527918 228.368196 \r\nL 263.602299 228.43669 \r\nL 266.676679 228.503407 \r\nL 269.751059 228.568409 \r\nL 272.825439 228.631763 \r\nL 275.899819 228.693542 \r\nL 278.974199 228.753822 \r\nL 282.04858 228.812683 \r\nL 285.12296 228.870206 \r\nL 288.19734 228.926475 \r\nL 291.27172 228.981565 \r\nL 294.3461 229.035553 \r\nL 297.42048 229.08851 \r\nL 300.494861 229.140505 \r\nL 303.569241 229.191599 \r\nL 306.643621 229.241851 \r\nL 309.718001 229.291313 \r\nL 312.792381 229.340031 \r\nL 315.866761 229.388047 \r\nL 318.941142 229.435392 \r\nL 322.015522 229.482098 \r\nL 325.089902 229.528183 \r\nL 328.164282 229.573665 \r\nL 331.238662 229.618549 \r\nL 334.313042 229.662832 \r\nL 337.387423 229.706503 \r\nL 340.461803 229.749537 \r\nL 343.536183 229.791898 \r\nL 346.610563 229.833553 \r\nL 349.684943 229.874489 \r\n\" style=\"fill:none;stroke:#0000ff;stroke-linecap:square;stroke-width:1.5;\"/>\r\n   </g>\r\n   <g id=\"line2d_14\">\r\n    <path clip-path=\"url(#pda8b03b5dc)\" d=\"M 45.321307 104.197225 \r\nL 48.395687 153.247025 \r\nL 51.470067 174.051988 \r\nL 54.544447 184.28156 \r\nL 57.618827 189.145082 \r\nL 60.693208 191.847834 \r\nL 63.767588 193.761471 \r\nL 66.841968 195.344393 \r\nL 69.916348 196.745314 \r\nL 72.990728 198.032468 \r\nL 76.065108 199.240732 \r\nL 79.139489 200.385378 \r\nL 82.213869 201.472568 \r\nL 85.288249 202.505396 \r\nL 88.362629 203.483979 \r\nL 91.437009 204.408064 \r\nL 94.511389 205.278376 \r\nL 97.58577 206.096694 \r\nL 100.66015 206.865177 \r\nL 103.73453 207.585269 \r\nL 106.80891 208.258636 \r\nL 109.88329 208.888311 \r\nL 112.95767 209.477828 \r\nL 116.032051 210.031172 \r\nL 119.106431 210.551245 \r\nL 122.180811 211.039792 \r\nL 125.255191 211.498087 \r\nL 128.329571 211.927494 \r\nL 131.403951 212.329677 \r\nL 134.478332 212.706697 \r\nL 137.552712 213.060603 \r\nL 140.627092 213.393148 \r\nL 143.701472 213.706057 \r\nL 146.775852 214.001059 \r\nL 149.850232 214.279836 \r\nL 152.924613 214.543867 \r\nL 155.998993 214.794378 \r\nL 159.073373 215.032418 \r\nL 162.147753 215.258934 \r\nL 165.222133 215.474794 \r\nL 168.296513 215.680809 \r\nL 171.370894 215.87772 \r\nL 174.445274 216.066204 \r\nL 177.519654 216.246915 \r\nL 180.594034 216.420453 \r\nL 183.668414 216.587363 \r\nL 186.742794 216.748121 \r\nL 189.817175 216.903172 \r\nL 192.891555 217.052906 \r\nL 195.965935 217.197697 \r\nL 199.040315 217.337871 \r\nL 202.114695 217.473739 \r\nL 205.189075 217.605547 \r\nL 208.263456 217.733517 \r\nL 211.337836 217.857809 \r\nL 214.412216 217.978573 \r\nL 217.486596 218.095945 \r\nL 220.560976 218.210071 \r\nL 223.635356 218.32111 \r\nL 226.709737 218.429157 \r\nL 229.784117 218.534219 \r\nL 232.858497 218.636283 \r\nL 235.932877 218.735381 \r\nL 239.007257 218.831561 \r\nL 242.081637 218.92491 \r\nL 245.156018 219.015572 \r\nL 248.230398 219.103805 \r\nL 251.304778 219.189807 \r\nL 254.379158 219.273753 \r\nL 257.453538 219.355768 \r\nL 260.527918 219.435944 \r\nL 263.602299 219.514355 \r\nL 266.676679 219.591067 \r\nL 269.751059 219.666128 \r\nL 272.825439 219.739612 \r\nL 275.899819 219.811576 \r\nL 278.974199 219.882108 \r\nL 282.04858 219.951272 \r\nL 285.12296 220.019163 \r\nL 288.19734 220.085877 \r\nL 291.27172 220.151495 \r\nL 294.3461 220.216125 \r\nL 297.42048 220.27986 \r\nL 300.494861 220.342795 \r\nL 303.569241 220.40503 \r\nL 306.643621 220.466652 \r\nL 309.718001 220.527754 \r\nL 312.792381 220.588416 \r\nL 315.866761 220.648703 \r\nL 318.941142 220.70869 \r\nL 322.015522 220.768421 \r\nL 325.089902 220.827936 \r\nL 328.164282 220.887266 \r\nL 331.238662 220.946406 \r\nL 334.313042 221.00535 \r\nL 337.387423 221.064058 \r\nL 340.461803 221.12246 \r\nL 343.536183 221.180487 \r\nL 346.610563 221.238107 \r\nL 349.684943 221.295393 \r\n\" style=\"fill:none;stroke:#ff0000;stroke-linecap:square;stroke-width:1.5;\"/>\r\n   </g>\r\n   <g id=\"patch_3\">\r\n    <path d=\"M 30.103125 239.758125 \r\nL 30.103125 22.318125 \r\n\" style=\"fill:none;stroke:#000000;stroke-linecap:square;stroke-linejoin:miter;stroke-width:0.8;\"/>\r\n   </g>\r\n   <g id=\"patch_4\">\r\n    <path d=\"M 364.903125 239.758125 \r\nL 364.903125 22.318125 \r\n\" style=\"fill:none;stroke:#000000;stroke-linecap:square;stroke-linejoin:miter;stroke-width:0.8;\"/>\r\n   </g>\r\n   <g id=\"patch_5\">\r\n    <path d=\"M 30.103125 239.758125 \r\nL 364.903125 239.758125 \r\n\" style=\"fill:none;stroke:#000000;stroke-linecap:square;stroke-linejoin:miter;stroke-width:0.8;\"/>\r\n   </g>\r\n   <g id=\"patch_6\">\r\n    <path d=\"M 30.103125 22.318125 \r\nL 364.903125 22.318125 \r\n\" style=\"fill:none;stroke:#000000;stroke-linecap:square;stroke-linejoin:miter;stroke-width:0.8;\"/>\r\n   </g>\r\n   <g id=\"text_13\">\r\n    <!-- Mean Square Error during training -->\r\n    <defs>\r\n     <path d=\"M 9.8125 72.90625 \r\nL 24.515625 72.90625 \r\nL 43.109375 23.296875 \r\nL 61.8125 72.90625 \r\nL 76.515625 72.90625 \r\nL 76.515625 0 \r\nL 66.890625 0 \r\nL 66.890625 64.015625 \r\nL 48.09375 14.015625 \r\nL 38.1875 14.015625 \r\nL 19.390625 64.015625 \r\nL 19.390625 0 \r\nL 9.8125 0 \r\nz\r\n\" id=\"DejaVuSans-77\"/>\r\n     <path d=\"M 56.203125 29.59375 \r\nL 56.203125 25.203125 \r\nL 14.890625 25.203125 \r\nQ 15.484375 15.921875 20.484375 11.0625 \r\nQ 25.484375 6.203125 34.421875 6.203125 \r\nQ 39.59375 6.203125 44.453125 7.46875 \r\nQ 49.3125 8.734375 54.109375 11.28125 \r\nL 54.109375 2.78125 \r\nQ 49.265625 0.734375 44.1875 -0.34375 \r\nQ 39.109375 -1.421875 33.890625 -1.421875 \r\nQ 20.796875 -1.421875 13.15625 6.1875 \r\nQ 5.515625 13.8125 5.515625 26.8125 \r\nQ 5.515625 40.234375 12.765625 48.109375 \r\nQ 20.015625 56 32.328125 56 \r\nQ 43.359375 56 49.78125 48.890625 \r\nQ 56.203125 41.796875 56.203125 29.59375 \r\nz\r\nM 47.21875 32.234375 \r\nQ 47.125 39.59375 43.09375 43.984375 \r\nQ 39.0625 48.390625 32.421875 48.390625 \r\nQ 24.90625 48.390625 20.390625 44.140625 \r\nQ 15.875 39.890625 15.1875 32.171875 \r\nz\r\n\" id=\"DejaVuSans-101\"/>\r\n     <path d=\"M 34.28125 27.484375 \r\nQ 23.390625 27.484375 19.1875 25 \r\nQ 14.984375 22.515625 14.984375 16.5 \r\nQ 14.984375 11.71875 18.140625 8.90625 \r\nQ 21.296875 6.109375 26.703125 6.109375 \r\nQ 34.1875 6.109375 38.703125 11.40625 \r\nQ 43.21875 16.703125 43.21875 25.484375 \r\nL 43.21875 27.484375 \r\nz\r\nM 52.203125 31.203125 \r\nL 52.203125 0 \r\nL 43.21875 0 \r\nL 43.21875 8.296875 \r\nQ 40.140625 3.328125 35.546875 0.953125 \r\nQ 30.953125 -1.421875 24.3125 -1.421875 \r\nQ 15.921875 -1.421875 10.953125 3.296875 \r\nQ 6 8.015625 6 15.921875 \r\nQ 6 25.140625 12.171875 29.828125 \r\nQ 18.359375 34.515625 30.609375 34.515625 \r\nL 43.21875 34.515625 \r\nL 43.21875 35.40625 \r\nQ 43.21875 41.609375 39.140625 45 \r\nQ 35.0625 48.390625 27.6875 48.390625 \r\nQ 23 48.390625 18.546875 47.265625 \r\nQ 14.109375 46.140625 10.015625 43.890625 \r\nL 10.015625 52.203125 \r\nQ 14.9375 54.109375 19.578125 55.046875 \r\nQ 24.21875 56 28.609375 56 \r\nQ 40.484375 56 46.34375 49.84375 \r\nQ 52.203125 43.703125 52.203125 31.203125 \r\nz\r\n\" id=\"DejaVuSans-97\"/>\r\n     <path d=\"M 54.890625 33.015625 \r\nL 54.890625 0 \r\nL 45.90625 0 \r\nL 45.90625 32.71875 \r\nQ 45.90625 40.484375 42.875 44.328125 \r\nQ 39.84375 48.1875 33.796875 48.1875 \r\nQ 26.515625 48.1875 22.3125 43.546875 \r\nQ 18.109375 38.921875 18.109375 30.90625 \r\nL 18.109375 0 \r\nL 9.078125 0 \r\nL 9.078125 54.6875 \r\nL 18.109375 54.6875 \r\nL 18.109375 46.1875 \r\nQ 21.34375 51.125 25.703125 53.5625 \r\nQ 30.078125 56 35.796875 56 \r\nQ 45.21875 56 50.046875 50.171875 \r\nQ 54.890625 44.34375 54.890625 33.015625 \r\nz\r\n\" id=\"DejaVuSans-110\"/>\r\n     <path id=\"DejaVuSans-32\"/>\r\n     <path d=\"M 53.515625 70.515625 \r\nL 53.515625 60.890625 \r\nQ 47.90625 63.578125 42.921875 64.890625 \r\nQ 37.9375 66.21875 33.296875 66.21875 \r\nQ 25.25 66.21875 20.875 63.09375 \r\nQ 16.5 59.96875 16.5 54.203125 \r\nQ 16.5 49.359375 19.40625 46.890625 \r\nQ 22.3125 44.4375 30.421875 42.921875 \r\nL 36.375 41.703125 \r\nQ 47.40625 39.59375 52.65625 34.296875 \r\nQ 57.90625 29 57.90625 20.125 \r\nQ 57.90625 9.515625 50.796875 4.046875 \r\nQ 43.703125 -1.421875 29.984375 -1.421875 \r\nQ 24.8125 -1.421875 18.96875 -0.25 \r\nQ 13.140625 0.921875 6.890625 3.21875 \r\nL 6.890625 13.375 \r\nQ 12.890625 10.015625 18.65625 8.296875 \r\nQ 24.421875 6.59375 29.984375 6.59375 \r\nQ 38.421875 6.59375 43.015625 9.90625 \r\nQ 47.609375 13.234375 47.609375 19.390625 \r\nQ 47.609375 24.75 44.3125 27.78125 \r\nQ 41.015625 30.8125 33.5 32.328125 \r\nL 27.484375 33.5 \r\nQ 16.453125 35.6875 11.515625 40.375 \r\nQ 6.59375 45.0625 6.59375 53.421875 \r\nQ 6.59375 63.09375 13.40625 68.65625 \r\nQ 20.21875 74.21875 32.171875 74.21875 \r\nQ 37.3125 74.21875 42.625 73.28125 \r\nQ 47.953125 72.359375 53.515625 70.515625 \r\nz\r\n\" id=\"DejaVuSans-83\"/>\r\n     <path d=\"M 14.796875 27.296875 \r\nQ 14.796875 17.390625 18.875 11.75 \r\nQ 22.953125 6.109375 30.078125 6.109375 \r\nQ 37.203125 6.109375 41.296875 11.75 \r\nQ 45.40625 17.390625 45.40625 27.296875 \r\nQ 45.40625 37.203125 41.296875 42.84375 \r\nQ 37.203125 48.484375 30.078125 48.484375 \r\nQ 22.953125 48.484375 18.875 42.84375 \r\nQ 14.796875 37.203125 14.796875 27.296875 \r\nz\r\nM 45.40625 8.203125 \r\nQ 42.578125 3.328125 38.25 0.953125 \r\nQ 33.9375 -1.421875 27.875 -1.421875 \r\nQ 17.96875 -1.421875 11.734375 6.484375 \r\nQ 5.515625 14.40625 5.515625 27.296875 \r\nQ 5.515625 40.1875 11.734375 48.09375 \r\nQ 17.96875 56 27.875 56 \r\nQ 33.9375 56 38.25 53.625 \r\nQ 42.578125 51.265625 45.40625 46.390625 \r\nL 45.40625 54.6875 \r\nL 54.390625 54.6875 \r\nL 54.390625 -20.796875 \r\nL 45.40625 -20.796875 \r\nz\r\n\" id=\"DejaVuSans-113\"/>\r\n     <path d=\"M 8.5 21.578125 \r\nL 8.5 54.6875 \r\nL 17.484375 54.6875 \r\nL 17.484375 21.921875 \r\nQ 17.484375 14.15625 20.5 10.265625 \r\nQ 23.53125 6.390625 29.59375 6.390625 \r\nQ 36.859375 6.390625 41.078125 11.03125 \r\nQ 45.3125 15.671875 45.3125 23.6875 \r\nL 45.3125 54.6875 \r\nL 54.296875 54.6875 \r\nL 54.296875 0 \r\nL 45.3125 0 \r\nL 45.3125 8.40625 \r\nQ 42.046875 3.421875 37.71875 1 \r\nQ 33.40625 -1.421875 27.6875 -1.421875 \r\nQ 18.265625 -1.421875 13.375 4.4375 \r\nQ 8.5 10.296875 8.5 21.578125 \r\nz\r\nM 31.109375 56 \r\nz\r\n\" id=\"DejaVuSans-117\"/>\r\n     <path d=\"M 41.109375 46.296875 \r\nQ 39.59375 47.171875 37.8125 47.578125 \r\nQ 36.03125 48 33.890625 48 \r\nQ 26.265625 48 22.1875 43.046875 \r\nQ 18.109375 38.09375 18.109375 28.8125 \r\nL 18.109375 0 \r\nL 9.078125 0 \r\nL 9.078125 54.6875 \r\nL 18.109375 54.6875 \r\nL 18.109375 46.1875 \r\nQ 20.953125 51.171875 25.484375 53.578125 \r\nQ 30.03125 56 36.53125 56 \r\nQ 37.453125 56 38.578125 55.875 \r\nQ 39.703125 55.765625 41.0625 55.515625 \r\nz\r\n\" id=\"DejaVuSans-114\"/>\r\n     <path d=\"M 9.8125 72.90625 \r\nL 55.90625 72.90625 \r\nL 55.90625 64.59375 \r\nL 19.671875 64.59375 \r\nL 19.671875 43.015625 \r\nL 54.390625 43.015625 \r\nL 54.390625 34.71875 \r\nL 19.671875 34.71875 \r\nL 19.671875 8.296875 \r\nL 56.78125 8.296875 \r\nL 56.78125 0 \r\nL 9.8125 0 \r\nz\r\n\" id=\"DejaVuSans-69\"/>\r\n     <path d=\"M 30.609375 48.390625 \r\nQ 23.390625 48.390625 19.1875 42.75 \r\nQ 14.984375 37.109375 14.984375 27.296875 \r\nQ 14.984375 17.484375 19.15625 11.84375 \r\nQ 23.34375 6.203125 30.609375 6.203125 \r\nQ 37.796875 6.203125 41.984375 11.859375 \r\nQ 46.1875 17.53125 46.1875 27.296875 \r\nQ 46.1875 37.015625 41.984375 42.703125 \r\nQ 37.796875 48.390625 30.609375 48.390625 \r\nz\r\nM 30.609375 56 \r\nQ 42.328125 56 49.015625 48.375 \r\nQ 55.71875 40.765625 55.71875 27.296875 \r\nQ 55.71875 13.875 49.015625 6.21875 \r\nQ 42.328125 -1.421875 30.609375 -1.421875 \r\nQ 18.84375 -1.421875 12.171875 6.21875 \r\nQ 5.515625 13.875 5.515625 27.296875 \r\nQ 5.515625 40.765625 12.171875 48.375 \r\nQ 18.84375 56 30.609375 56 \r\nz\r\n\" id=\"DejaVuSans-111\"/>\r\n     <path d=\"M 45.40625 46.390625 \r\nL 45.40625 75.984375 \r\nL 54.390625 75.984375 \r\nL 54.390625 0 \r\nL 45.40625 0 \r\nL 45.40625 8.203125 \r\nQ 42.578125 3.328125 38.25 0.953125 \r\nQ 33.9375 -1.421875 27.875 -1.421875 \r\nQ 17.96875 -1.421875 11.734375 6.484375 \r\nQ 5.515625 14.40625 5.515625 27.296875 \r\nQ 5.515625 40.1875 11.734375 48.09375 \r\nQ 17.96875 56 27.875 56 \r\nQ 33.9375 56 38.25 53.625 \r\nQ 42.578125 51.265625 45.40625 46.390625 \r\nz\r\nM 14.796875 27.296875 \r\nQ 14.796875 17.390625 18.875 11.75 \r\nQ 22.953125 6.109375 30.078125 6.109375 \r\nQ 37.203125 6.109375 41.296875 11.75 \r\nQ 45.40625 17.390625 45.40625 27.296875 \r\nQ 45.40625 37.203125 41.296875 42.84375 \r\nQ 37.203125 48.484375 30.078125 48.484375 \r\nQ 22.953125 48.484375 18.875 42.84375 \r\nQ 14.796875 37.203125 14.796875 27.296875 \r\nz\r\n\" id=\"DejaVuSans-100\"/>\r\n     <path d=\"M 9.421875 54.6875 \r\nL 18.40625 54.6875 \r\nL 18.40625 0 \r\nL 9.421875 0 \r\nz\r\nM 9.421875 75.984375 \r\nL 18.40625 75.984375 \r\nL 18.40625 64.59375 \r\nL 9.421875 64.59375 \r\nz\r\n\" id=\"DejaVuSans-105\"/>\r\n     <path d=\"M 45.40625 27.984375 \r\nQ 45.40625 37.75 41.375 43.109375 \r\nQ 37.359375 48.484375 30.078125 48.484375 \r\nQ 22.859375 48.484375 18.828125 43.109375 \r\nQ 14.796875 37.75 14.796875 27.984375 \r\nQ 14.796875 18.265625 18.828125 12.890625 \r\nQ 22.859375 7.515625 30.078125 7.515625 \r\nQ 37.359375 7.515625 41.375 12.890625 \r\nQ 45.40625 18.265625 45.40625 27.984375 \r\nz\r\nM 54.390625 6.78125 \r\nQ 54.390625 -7.171875 48.1875 -13.984375 \r\nQ 42 -20.796875 29.203125 -20.796875 \r\nQ 24.46875 -20.796875 20.265625 -20.09375 \r\nQ 16.0625 -19.390625 12.109375 -17.921875 \r\nL 12.109375 -9.1875 \r\nQ 16.0625 -11.328125 19.921875 -12.34375 \r\nQ 23.78125 -13.375 27.78125 -13.375 \r\nQ 36.625 -13.375 41.015625 -8.765625 \r\nQ 45.40625 -4.15625 45.40625 5.171875 \r\nL 45.40625 9.625 \r\nQ 42.625 4.78125 38.28125 2.390625 \r\nQ 33.9375 0 27.875 0 \r\nQ 17.828125 0 11.671875 7.65625 \r\nQ 5.515625 15.328125 5.515625 27.984375 \r\nQ 5.515625 40.671875 11.671875 48.328125 \r\nQ 17.828125 56 27.875 56 \r\nQ 33.9375 56 38.28125 53.609375 \r\nQ 42.625 51.21875 45.40625 46.390625 \r\nL 45.40625 54.6875 \r\nL 54.390625 54.6875 \r\nz\r\n\" id=\"DejaVuSans-103\"/>\r\n     <path d=\"M 18.3125 70.21875 \r\nL 18.3125 54.6875 \r\nL 36.8125 54.6875 \r\nL 36.8125 47.703125 \r\nL 18.3125 47.703125 \r\nL 18.3125 18.015625 \r\nQ 18.3125 11.328125 20.140625 9.421875 \r\nQ 21.96875 7.515625 27.59375 7.515625 \r\nL 36.8125 7.515625 \r\nL 36.8125 0 \r\nL 27.59375 0 \r\nQ 17.1875 0 13.234375 3.875 \r\nQ 9.28125 7.765625 9.28125 18.015625 \r\nL 9.28125 47.703125 \r\nL 2.6875 47.703125 \r\nL 2.6875 54.6875 \r\nL 9.28125 54.6875 \r\nL 9.28125 70.21875 \r\nz\r\n\" id=\"DejaVuSans-116\"/>\r\n    </defs>\r\n    <g transform=\"translate(94.814063 16.318125)scale(0.12 -0.12)\">\r\n     <use xlink:href=\"#DejaVuSans-77\"/>\r\n     <use x=\"86.279297\" xlink:href=\"#DejaVuSans-101\"/>\r\n     <use x=\"147.802734\" xlink:href=\"#DejaVuSans-97\"/>\r\n     <use x=\"209.082031\" xlink:href=\"#DejaVuSans-110\"/>\r\n     <use x=\"272.460938\" xlink:href=\"#DejaVuSans-32\"/>\r\n     <use x=\"304.248047\" xlink:href=\"#DejaVuSans-83\"/>\r\n     <use x=\"367.724609\" xlink:href=\"#DejaVuSans-113\"/>\r\n     <use x=\"431.201172\" xlink:href=\"#DejaVuSans-117\"/>\r\n     <use x=\"494.580078\" xlink:href=\"#DejaVuSans-97\"/>\r\n     <use x=\"555.859375\" xlink:href=\"#DejaVuSans-114\"/>\r\n     <use x=\"596.941406\" xlink:href=\"#DejaVuSans-101\"/>\r\n     <use x=\"658.464844\" xlink:href=\"#DejaVuSans-32\"/>\r\n     <use x=\"690.251953\" xlink:href=\"#DejaVuSans-69\"/>\r\n     <use x=\"753.435547\" xlink:href=\"#DejaVuSans-114\"/>\r\n     <use x=\"794.533203\" xlink:href=\"#DejaVuSans-114\"/>\r\n     <use x=\"835.615234\" xlink:href=\"#DejaVuSans-111\"/>\r\n     <use x=\"896.796875\" xlink:href=\"#DejaVuSans-114\"/>\r\n     <use x=\"937.910156\" xlink:href=\"#DejaVuSans-32\"/>\r\n     <use x=\"969.697266\" xlink:href=\"#DejaVuSans-100\"/>\r\n     <use x=\"1033.173828\" xlink:href=\"#DejaVuSans-117\"/>\r\n     <use x=\"1096.552734\" xlink:href=\"#DejaVuSans-114\"/>\r\n     <use x=\"1137.666016\" xlink:href=\"#DejaVuSans-105\"/>\r\n     <use x=\"1165.449219\" xlink:href=\"#DejaVuSans-110\"/>\r\n     <use x=\"1228.828125\" xlink:href=\"#DejaVuSans-103\"/>\r\n     <use x=\"1292.304688\" xlink:href=\"#DejaVuSans-32\"/>\r\n     <use x=\"1324.091797\" xlink:href=\"#DejaVuSans-116\"/>\r\n     <use x=\"1363.300781\" xlink:href=\"#DejaVuSans-114\"/>\r\n     <use x=\"1404.414062\" xlink:href=\"#DejaVuSans-97\"/>\r\n     <use x=\"1465.693359\" xlink:href=\"#DejaVuSans-105\"/>\r\n     <use x=\"1493.476562\" xlink:href=\"#DejaVuSans-110\"/>\r\n     <use x=\"1556.855469\" xlink:href=\"#DejaVuSans-105\"/>\r\n     <use x=\"1584.638672\" xlink:href=\"#DejaVuSans-110\"/>\r\n     <use x=\"1648.017578\" xlink:href=\"#DejaVuSans-103\"/>\r\n    </g>\r\n   </g>\r\n   <g id=\"legend_1\">\r\n    <g id=\"patch_7\">\r\n     <path d=\"M 253.264063 59.674375 \r\nL 357.903125 59.674375 \r\nQ 359.903125 59.674375 359.903125 57.674375 \r\nL 359.903125 29.318125 \r\nQ 359.903125 27.318125 357.903125 27.318125 \r\nL 253.264063 27.318125 \r\nQ 251.264063 27.318125 251.264063 29.318125 \r\nL 251.264063 57.674375 \r\nQ 251.264063 59.674375 253.264063 59.674375 \r\nz\r\n\" style=\"fill:#ffffff;opacity:0.8;stroke:#cccccc;stroke-linejoin:miter;\"/>\r\n    </g>\r\n    <g id=\"line2d_15\">\r\n     <path d=\"M 255.264063 35.416562 \r\nL 275.264063 35.416562 \r\n\" style=\"fill:none;stroke:#0000ff;stroke-linecap:square;stroke-width:1.5;\"/>\r\n    </g>\r\n    <g id=\"line2d_16\"/>\r\n    <g id=\"text_14\">\r\n     <!-- Training loss -->\r\n     <defs>\r\n      <path d=\"M -0.296875 72.90625 \r\nL 61.375 72.90625 \r\nL 61.375 64.59375 \r\nL 35.5 64.59375 \r\nL 35.5 0 \r\nL 25.59375 0 \r\nL 25.59375 64.59375 \r\nL -0.296875 64.59375 \r\nz\r\n\" id=\"DejaVuSans-84\"/>\r\n      <path d=\"M 9.421875 75.984375 \r\nL 18.40625 75.984375 \r\nL 18.40625 0 \r\nL 9.421875 0 \r\nz\r\n\" id=\"DejaVuSans-108\"/>\r\n      <path d=\"M 44.28125 53.078125 \r\nL 44.28125 44.578125 \r\nQ 40.484375 46.53125 36.375 47.5 \r\nQ 32.28125 48.484375 27.875 48.484375 \r\nQ 21.1875 48.484375 17.84375 46.4375 \r\nQ 14.5 44.390625 14.5 40.28125 \r\nQ 14.5 37.15625 16.890625 35.375 \r\nQ 19.28125 33.59375 26.515625 31.984375 \r\nL 29.59375 31.296875 \r\nQ 39.15625 29.25 43.1875 25.515625 \r\nQ 47.21875 21.78125 47.21875 15.09375 \r\nQ 47.21875 7.46875 41.1875 3.015625 \r\nQ 35.15625 -1.421875 24.609375 -1.421875 \r\nQ 20.21875 -1.421875 15.453125 -0.5625 \r\nQ 10.6875 0.296875 5.421875 2 \r\nL 5.421875 11.28125 \r\nQ 10.40625 8.6875 15.234375 7.390625 \r\nQ 20.0625 6.109375 24.8125 6.109375 \r\nQ 31.15625 6.109375 34.5625 8.28125 \r\nQ 37.984375 10.453125 37.984375 14.40625 \r\nQ 37.984375 18.0625 35.515625 20.015625 \r\nQ 33.0625 21.96875 24.703125 23.78125 \r\nL 21.578125 24.515625 \r\nQ 13.234375 26.265625 9.515625 29.90625 \r\nQ 5.8125 33.546875 5.8125 39.890625 \r\nQ 5.8125 47.609375 11.28125 51.796875 \r\nQ 16.75 56 26.8125 56 \r\nQ 31.78125 56 36.171875 55.265625 \r\nQ 40.578125 54.546875 44.28125 53.078125 \r\nz\r\n\" id=\"DejaVuSans-115\"/>\r\n     </defs>\r\n     <g transform=\"translate(283.264063 38.916562)scale(0.1 -0.1)\">\r\n      <use xlink:href=\"#DejaVuSans-84\"/>\r\n      <use x=\"60.865234\" xlink:href=\"#DejaVuSans-114\"/>\r\n      <use x=\"101.978516\" xlink:href=\"#DejaVuSans-97\"/>\r\n      <use x=\"163.257812\" xlink:href=\"#DejaVuSans-105\"/>\r\n      <use x=\"191.041016\" xlink:href=\"#DejaVuSans-110\"/>\r\n      <use x=\"254.419922\" xlink:href=\"#DejaVuSans-105\"/>\r\n      <use x=\"282.203125\" xlink:href=\"#DejaVuSans-110\"/>\r\n      <use x=\"345.582031\" xlink:href=\"#DejaVuSans-103\"/>\r\n      <use x=\"409.058594\" xlink:href=\"#DejaVuSans-32\"/>\r\n      <use x=\"440.845703\" xlink:href=\"#DejaVuSans-108\"/>\r\n      <use x=\"468.628906\" xlink:href=\"#DejaVuSans-111\"/>\r\n      <use x=\"529.810547\" xlink:href=\"#DejaVuSans-115\"/>\r\n      <use x=\"581.910156\" xlink:href=\"#DejaVuSans-115\"/>\r\n     </g>\r\n    </g>\r\n    <g id=\"line2d_17\">\r\n     <path d=\"M 255.264063 50.094687 \r\nL 275.264063 50.094687 \r\n\" style=\"fill:none;stroke:#ff0000;stroke-linecap:square;stroke-width:1.5;\"/>\r\n    </g>\r\n    <g id=\"line2d_18\"/>\r\n    <g id=\"text_15\">\r\n     <!-- Validation loss -->\r\n     <defs>\r\n      <path d=\"M 28.609375 0 \r\nL 0.78125 72.90625 \r\nL 11.078125 72.90625 \r\nL 34.1875 11.53125 \r\nL 57.328125 72.90625 \r\nL 67.578125 72.90625 \r\nL 39.796875 0 \r\nz\r\n\" id=\"DejaVuSans-86\"/>\r\n     </defs>\r\n     <g transform=\"translate(283.264063 53.594687)scale(0.1 -0.1)\">\r\n      <use xlink:href=\"#DejaVuSans-86\"/>\r\n      <use x=\"68.298828\" xlink:href=\"#DejaVuSans-97\"/>\r\n      <use x=\"129.578125\" xlink:href=\"#DejaVuSans-108\"/>\r\n      <use x=\"157.361328\" xlink:href=\"#DejaVuSans-105\"/>\r\n      <use x=\"185.144531\" xlink:href=\"#DejaVuSans-100\"/>\r\n      <use x=\"248.621094\" xlink:href=\"#DejaVuSans-97\"/>\r\n      <use x=\"309.900391\" xlink:href=\"#DejaVuSans-116\"/>\r\n      <use x=\"349.109375\" xlink:href=\"#DejaVuSans-105\"/>\r\n      <use x=\"376.892578\" xlink:href=\"#DejaVuSans-111\"/>\r\n      <use x=\"438.074219\" xlink:href=\"#DejaVuSans-110\"/>\r\n      <use x=\"501.453125\" xlink:href=\"#DejaVuSans-32\"/>\r\n      <use x=\"533.240234\" xlink:href=\"#DejaVuSans-108\"/>\r\n      <use x=\"561.023438\" xlink:href=\"#DejaVuSans-111\"/>\r\n      <use x=\"622.205078\" xlink:href=\"#DejaVuSans-115\"/>\r\n      <use x=\"674.304688\" xlink:href=\"#DejaVuSans-115\"/>\r\n     </g>\r\n    </g>\r\n   </g>\r\n  </g>\r\n </g>\r\n <defs>\r\n  <clipPath id=\"pda8b03b5dc\">\r\n   <rect height=\"217.44\" width=\"334.8\" x=\"30.103125\" y=\"22.318125\"/>\r\n  </clipPath>\r\n </defs>\r\n</svg>\r\n",
      "image/png": "[encoded data removed]"
     },
     "metadata": {
      "needs_background": "light"
     }
    }
   ],
   "source": [
    "plot_train_history(single_step_sequential_history,\n",
    "                   'Mean Square Error during training')"
   ]
  },
  {
   "source": [
    "Compare trajectory"
   ],
   "cell_type": "markdown",
   "metadata": {}
  },
  {
   "source": [
    "Trajectory component vs steps"
   ],
   "cell_type": "markdown",
   "metadata": {}
  },
  {
   "cell_type": "code",
   "execution_count": null,
   "metadata": {},
   "outputs": [],
   "source": []
  },
  {
   "cell_type": "code",
   "execution_count": 49,
   "metadata": {},
   "outputs": [
    {
     "output_type": "display_data",
     "data": {
      "text/plain": "<Figure size 432x288 with 1 Axes>",
      "image/svg+xml": "<?xml version=\"1.0\" encoding=\"utf-8\" standalone=\"no\"?>\r\n<!DOCTYPE svg PUBLIC \"-//W3C//DTD SVG 1.1//EN\"\r\n  \"http://www.w3.org/Graphics/SVG/1.1/DTD/svg11.dtd\">\r\n<!-- Created with matplotlib (https://matplotlib.org/) -->\r\n<svg height=\"263.63625pt\" version=\"1.1\" viewBox=\"0 0 380.482812 263.63625\" width=\"380.482812pt\" xmlns=\"http://www.w3.org/2000/svg\" xmlns:xlink=\"http://www.w3.org/1999/xlink\">\r\n <defs>\r\n  <style type=\"text/css\">\r\n*{stroke-linecap:butt;stroke-linejoin:round;}\r\n  </style>\r\n </defs>\r\n <g id=\"figure_1\">\r\n  <g id=\"patch_1\">\r\n   <path d=\"M -0 263.63625 \r\nL 380.482812 263.63625 \r\nL 380.482812 0 \r\nL -0 0 \r\nz\r\n\" style=\"fill:none;\"/>\r\n  </g>\r\n  <g id=\"axes_1\">\r\n   <g id=\"patch_2\">\r\n    <path d=\"M 38.482813 239.758125 \r\nL 373.282813 239.758125 \r\nL 373.282813 22.318125 \r\nL 38.482813 22.318125 \r\nz\r\n\" style=\"fill:#ffffff;\"/>\r\n   </g>\r\n   <g id=\"PathCollection_1\">\r\n    <defs>\r\n     <path d=\"M 0 3 \r\nC 0.795609 3 1.55874 2.683901 2.12132 2.12132 \r\nC 2.683901 1.55874 3 0.795609 3 0 \r\nC 3 -0.795609 2.683901 -1.55874 2.12132 -2.12132 \r\nC 1.55874 -2.683901 0.795609 -3 0 -3 \r\nC -0.795609 -3 -1.55874 -2.683901 -2.12132 -2.12132 \r\nC -2.683901 -1.55874 -3 -0.795609 -3 0 \r\nC -3 0.795609 -2.683901 1.55874 -2.12132 2.12132 \r\nC -1.55874 2.683901 -0.795609 3 0 3 \r\nz\r\n\" id=\"m0a6ffa13bf\" style=\"stroke:#008000;\"/>\r\n    </defs>\r\n    <g clip-path=\"url(#pcfda9064ff)\">\r\n     <use style=\"fill:#008000;stroke:#008000;\" x=\"355.122907\" xlink:href=\"#m0a6ffa13bf\" y=\"35.201081\"/>\r\n    </g>\r\n   </g>\r\n   <g id=\"PathCollection_2\">\r\n    <defs>\r\n     <path d=\"M 0 3 \r\nC 0.795609 3 1.55874 2.683901 2.12132 2.12132 \r\nC 2.683901 1.55874 3 0.795609 3 0 \r\nC 3 -0.795609 2.683901 -1.55874 2.12132 -2.12132 \r\nC 1.55874 -2.683901 0.795609 -3 0 -3 \r\nC -0.795609 -3 -1.55874 -2.683901 -2.12132 -2.12132 \r\nC -2.683901 -1.55874 -3 -0.795609 -3 0 \r\nC -3 0.795609 -2.683901 1.55874 -2.12132 2.12132 \r\nC -1.55874 2.683901 -0.795609 3 0 3 \r\nz\r\n\" id=\"mca8313f7dd\" style=\"stroke:#bfbf00;\"/>\r\n    </defs>\r\n    <g clip-path=\"url(#pcfda9064ff)\">\r\n     <use style=\"fill:#bfbf00;stroke:#bfbf00;\" x=\"56.671713\" xlink:href=\"#mca8313f7dd\" y=\"35.201081\"/>\r\n    </g>\r\n   </g>\r\n   <g id=\"matplotlib.axis_1\">\r\n    <g id=\"xtick_1\">\r\n     <g id=\"line2d_1\">\r\n      <defs>\r\n       <path d=\"M 0 0 \r\nL 0 3.5 \r\n\" id=\"mf168257890\" style=\"stroke:#000000;stroke-width:0.8;\"/>\r\n      </defs>\r\n      <g>\r\n       <use style=\"stroke:#000000;stroke-width:0.8;\" x=\"56.671713\" xlink:href=\"#mf168257890\" y=\"239.758125\"/>\r\n      </g>\r\n     </g>\r\n     <g id=\"text_1\">\r\n      <!-- 0 -->\r\n      <defs>\r\n       <path d=\"M 31.78125 66.40625 \r\nQ 24.171875 66.40625 20.328125 58.90625 \r\nQ 16.5 51.421875 16.5 36.375 \r\nQ 16.5 21.390625 20.328125 13.890625 \r\nQ 24.171875 6.390625 31.78125 6.390625 \r\nQ 39.453125 6.390625 43.28125 13.890625 \r\nQ 47.125 21.390625 47.125 36.375 \r\nQ 47.125 51.421875 43.28125 58.90625 \r\nQ 39.453125 66.40625 31.78125 66.40625 \r\nz\r\nM 31.78125 74.21875 \r\nQ 44.046875 74.21875 50.515625 64.515625 \r\nQ 56.984375 54.828125 56.984375 36.375 \r\nQ 56.984375 17.96875 50.515625 8.265625 \r\nQ 44.046875 -1.421875 31.78125 -1.421875 \r\nQ 19.53125 -1.421875 13.0625 8.265625 \r\nQ 6.59375 17.96875 6.59375 36.375 \r\nQ 6.59375 54.828125 13.0625 64.515625 \r\nQ 19.53125 74.21875 31.78125 74.21875 \r\nz\r\n\" id=\"DejaVuSans-48\"/>\r\n      </defs>\r\n      <g transform=\"translate(53.490463 254.356563)scale(0.1 -0.1)\">\r\n       <use xlink:href=\"#DejaVuSans-48\"/>\r\n      </g>\r\n     </g>\r\n    </g>\r\n    <g id=\"xtick_2\">\r\n     <g id=\"line2d_2\">\r\n      <g>\r\n       <use style=\"stroke:#000000;stroke-width:0.8;\" x=\"122.994201\" xlink:href=\"#mf168257890\" y=\"239.758125\"/>\r\n      </g>\r\n     </g>\r\n     <g id=\"text_2\">\r\n      <!-- 2 -->\r\n      <defs>\r\n       <path d=\"M 19.1875 8.296875 \r\nL 53.609375 8.296875 \r\nL 53.609375 0 \r\nL 7.328125 0 \r\nL 7.328125 8.296875 \r\nQ 12.9375 14.109375 22.625 23.890625 \r\nQ 32.328125 33.6875 34.8125 36.53125 \r\nQ 39.546875 41.84375 41.421875 45.53125 \r\nQ 43.3125 49.21875 43.3125 52.78125 \r\nQ 43.3125 58.59375 39.234375 62.25 \r\nQ 35.15625 65.921875 28.609375 65.921875 \r\nQ 23.96875 65.921875 18.8125 64.3125 \r\nQ 13.671875 62.703125 7.8125 59.421875 \r\nL 7.8125 69.390625 \r\nQ 13.765625 71.78125 18.9375 73 \r\nQ 24.125 74.21875 28.421875 74.21875 \r\nQ 39.75 74.21875 46.484375 68.546875 \r\nQ 53.21875 62.890625 53.21875 53.421875 \r\nQ 53.21875 48.921875 51.53125 44.890625 \r\nQ 49.859375 40.875 45.40625 35.40625 \r\nQ 44.1875 33.984375 37.640625 27.21875 \r\nQ 31.109375 20.453125 19.1875 8.296875 \r\nz\r\n\" id=\"DejaVuSans-50\"/>\r\n      </defs>\r\n      <g transform=\"translate(119.812951 254.356563)scale(0.1 -0.1)\">\r\n       <use xlink:href=\"#DejaVuSans-50\"/>\r\n      </g>\r\n     </g>\r\n    </g>\r\n    <g id=\"xtick_3\">\r\n     <g id=\"line2d_3\">\r\n      <g>\r\n       <use style=\"stroke:#000000;stroke-width:0.8;\" x=\"189.316688\" xlink:href=\"#mf168257890\" y=\"239.758125\"/>\r\n      </g>\r\n     </g>\r\n     <g id=\"text_3\">\r\n      <!-- 4 -->\r\n      <defs>\r\n       <path d=\"M 37.796875 64.3125 \r\nL 12.890625 25.390625 \r\nL 37.796875 25.390625 \r\nz\r\nM 35.203125 72.90625 \r\nL 47.609375 72.90625 \r\nL 47.609375 25.390625 \r\nL 58.015625 25.390625 \r\nL 58.015625 17.1875 \r\nL 47.609375 17.1875 \r\nL 47.609375 0 \r\nL 37.796875 0 \r\nL 37.796875 17.1875 \r\nL 4.890625 17.1875 \r\nL 4.890625 26.703125 \r\nz\r\n\" id=\"DejaVuSans-52\"/>\r\n      </defs>\r\n      <g transform=\"translate(186.135438 254.356563)scale(0.1 -0.1)\">\r\n       <use xlink:href=\"#DejaVuSans-52\"/>\r\n      </g>\r\n     </g>\r\n    </g>\r\n    <g id=\"xtick_4\">\r\n     <g id=\"line2d_4\">\r\n      <g>\r\n       <use style=\"stroke:#000000;stroke-width:0.8;\" x=\"255.639176\" xlink:href=\"#mf168257890\" y=\"239.758125\"/>\r\n      </g>\r\n     </g>\r\n     <g id=\"text_4\">\r\n      <!-- 6 -->\r\n      <defs>\r\n       <path d=\"M 33.015625 40.375 \r\nQ 26.375 40.375 22.484375 35.828125 \r\nQ 18.609375 31.296875 18.609375 23.390625 \r\nQ 18.609375 15.53125 22.484375 10.953125 \r\nQ 26.375 6.390625 33.015625 6.390625 \r\nQ 39.65625 6.390625 43.53125 10.953125 \r\nQ 47.40625 15.53125 47.40625 23.390625 \r\nQ 47.40625 31.296875 43.53125 35.828125 \r\nQ 39.65625 40.375 33.015625 40.375 \r\nz\r\nM 52.59375 71.296875 \r\nL 52.59375 62.3125 \r\nQ 48.875 64.0625 45.09375 64.984375 \r\nQ 41.3125 65.921875 37.59375 65.921875 \r\nQ 27.828125 65.921875 22.671875 59.328125 \r\nQ 17.53125 52.734375 16.796875 39.40625 \r\nQ 19.671875 43.65625 24.015625 45.921875 \r\nQ 28.375 48.1875 33.59375 48.1875 \r\nQ 44.578125 48.1875 50.953125 41.515625 \r\nQ 57.328125 34.859375 57.328125 23.390625 \r\nQ 57.328125 12.15625 50.6875 5.359375 \r\nQ 44.046875 -1.421875 33.015625 -1.421875 \r\nQ 20.359375 -1.421875 13.671875 8.265625 \r\nQ 6.984375 17.96875 6.984375 36.375 \r\nQ 6.984375 53.65625 15.1875 63.9375 \r\nQ 23.390625 74.21875 37.203125 74.21875 \r\nQ 40.921875 74.21875 44.703125 73.484375 \r\nQ 48.484375 72.75 52.59375 71.296875 \r\nz\r\n\" id=\"DejaVuSans-54\"/>\r\n      </defs>\r\n      <g transform=\"translate(252.457926 254.356563)scale(0.1 -0.1)\">\r\n       <use xlink:href=\"#DejaVuSans-54\"/>\r\n      </g>\r\n     </g>\r\n    </g>\r\n    <g id=\"xtick_5\">\r\n     <g id=\"line2d_5\">\r\n      <g>\r\n       <use style=\"stroke:#000000;stroke-width:0.8;\" x=\"321.961664\" xlink:href=\"#mf168257890\" y=\"239.758125\"/>\r\n      </g>\r\n     </g>\r\n     <g id=\"text_5\">\r\n      <!-- 8 -->\r\n      <defs>\r\n       <path d=\"M 31.78125 34.625 \r\nQ 24.75 34.625 20.71875 30.859375 \r\nQ 16.703125 27.09375 16.703125 20.515625 \r\nQ 16.703125 13.921875 20.71875 10.15625 \r\nQ 24.75 6.390625 31.78125 6.390625 \r\nQ 38.8125 6.390625 42.859375 10.171875 \r\nQ 46.921875 13.96875 46.921875 20.515625 \r\nQ 46.921875 27.09375 42.890625 30.859375 \r\nQ 38.875 34.625 31.78125 34.625 \r\nz\r\nM 21.921875 38.8125 \r\nQ 15.578125 40.375 12.03125 44.71875 \r\nQ 8.5 49.078125 8.5 55.328125 \r\nQ 8.5 64.0625 14.71875 69.140625 \r\nQ 20.953125 74.21875 31.78125 74.21875 \r\nQ 42.671875 74.21875 48.875 69.140625 \r\nQ 55.078125 64.0625 55.078125 55.328125 \r\nQ 55.078125 49.078125 51.53125 44.71875 \r\nQ 48 40.375 41.703125 38.8125 \r\nQ 48.828125 37.15625 52.796875 32.3125 \r\nQ 56.78125 27.484375 56.78125 20.515625 \r\nQ 56.78125 9.90625 50.3125 4.234375 \r\nQ 43.84375 -1.421875 31.78125 -1.421875 \r\nQ 19.734375 -1.421875 13.25 4.234375 \r\nQ 6.78125 9.90625 6.78125 20.515625 \r\nQ 6.78125 27.484375 10.78125 32.3125 \r\nQ 14.796875 37.15625 21.921875 38.8125 \r\nz\r\nM 18.3125 54.390625 \r\nQ 18.3125 48.734375 21.84375 45.5625 \r\nQ 25.390625 42.390625 31.78125 42.390625 \r\nQ 38.140625 42.390625 41.71875 45.5625 \r\nQ 45.3125 48.734375 45.3125 54.390625 \r\nQ 45.3125 60.0625 41.71875 63.234375 \r\nQ 38.140625 66.40625 31.78125 66.40625 \r\nQ 25.390625 66.40625 21.84375 63.234375 \r\nQ 18.3125 60.0625 18.3125 54.390625 \r\nz\r\n\" id=\"DejaVuSans-56\"/>\r\n      </defs>\r\n      <g transform=\"translate(318.780414 254.356563)scale(0.1 -0.1)\">\r\n       <use xlink:href=\"#DejaVuSans-56\"/>\r\n      </g>\r\n     </g>\r\n    </g>\r\n   </g>\r\n   <g id=\"matplotlib.axis_2\">\r\n    <g id=\"ytick_1\">\r\n     <g id=\"line2d_6\">\r\n      <defs>\r\n       <path d=\"M 0 0 \r\nL -3.5 0 \r\n\" id=\"m28f35010b6\" style=\"stroke:#000000;stroke-width:0.8;\"/>\r\n      </defs>\r\n      <g>\r\n       <use style=\"stroke:#000000;stroke-width:0.8;\" x=\"38.482813\" xlink:href=\"#m28f35010b6\" y=\"234.714756\"/>\r\n      </g>\r\n     </g>\r\n     <g id=\"text_6\">\r\n      <!-- −2.5 -->\r\n      <defs>\r\n       <path d=\"M 10.59375 35.5 \r\nL 73.1875 35.5 \r\nL 73.1875 27.203125 \r\nL 10.59375 27.203125 \r\nz\r\n\" id=\"DejaVuSans-8722\"/>\r\n       <path d=\"M 10.6875 12.40625 \r\nL 21 12.40625 \r\nL 21 0 \r\nL 10.6875 0 \r\nz\r\n\" id=\"DejaVuSans-46\"/>\r\n       <path d=\"M 10.796875 72.90625 \r\nL 49.515625 72.90625 \r\nL 49.515625 64.59375 \r\nL 19.828125 64.59375 \r\nL 19.828125 46.734375 \r\nQ 21.96875 47.46875 24.109375 47.828125 \r\nQ 26.265625 48.1875 28.421875 48.1875 \r\nQ 40.625 48.1875 47.75 41.5 \r\nQ 54.890625 34.8125 54.890625 23.390625 \r\nQ 54.890625 11.625 47.5625 5.09375 \r\nQ 40.234375 -1.421875 26.90625 -1.421875 \r\nQ 22.3125 -1.421875 17.546875 -0.640625 \r\nQ 12.796875 0.140625 7.71875 1.703125 \r\nL 7.71875 11.625 \r\nQ 12.109375 9.234375 16.796875 8.0625 \r\nQ 21.484375 6.890625 26.703125 6.890625 \r\nQ 35.15625 6.890625 40.078125 11.328125 \r\nQ 45.015625 15.765625 45.015625 23.390625 \r\nQ 45.015625 31 40.078125 35.4375 \r\nQ 35.15625 39.890625 26.703125 39.890625 \r\nQ 22.75 39.890625 18.8125 39.015625 \r\nQ 14.890625 38.140625 10.796875 36.28125 \r\nz\r\n\" id=\"DejaVuSans-53\"/>\r\n      </defs>\r\n      <g transform=\"translate(7.2 238.513975)scale(0.1 -0.1)\">\r\n       <use xlink:href=\"#DejaVuSans-8722\"/>\r\n       <use x=\"83.789062\" xlink:href=\"#DejaVuSans-50\"/>\r\n       <use x=\"147.412109\" xlink:href=\"#DejaVuSans-46\"/>\r\n       <use x=\"179.199219\" xlink:href=\"#DejaVuSans-53\"/>\r\n      </g>\r\n     </g>\r\n    </g>\r\n    <g id=\"ytick_2\">\r\n     <g id=\"line2d_7\">\r\n      <g>\r\n       <use style=\"stroke:#000000;stroke-width:0.8;\" x=\"38.482813\" xlink:href=\"#m28f35010b6\" y=\"194.812021\"/>\r\n      </g>\r\n     </g>\r\n     <g id=\"text_7\">\r\n      <!-- −2.0 -->\r\n      <g transform=\"translate(7.2 198.61124)scale(0.1 -0.1)\">\r\n       <use xlink:href=\"#DejaVuSans-8722\"/>\r\n       <use x=\"83.789062\" xlink:href=\"#DejaVuSans-50\"/>\r\n       <use x=\"147.412109\" xlink:href=\"#DejaVuSans-46\"/>\r\n       <use x=\"179.199219\" xlink:href=\"#DejaVuSans-48\"/>\r\n      </g>\r\n     </g>\r\n    </g>\r\n    <g id=\"ytick_3\">\r\n     <g id=\"line2d_8\">\r\n      <g>\r\n       <use style=\"stroke:#000000;stroke-width:0.8;\" x=\"38.482813\" xlink:href=\"#m28f35010b6\" y=\"154.909286\"/>\r\n      </g>\r\n     </g>\r\n     <g id=\"text_8\">\r\n      <!-- −1.5 -->\r\n      <defs>\r\n       <path d=\"M 12.40625 8.296875 \r\nL 28.515625 8.296875 \r\nL 28.515625 63.921875 \r\nL 10.984375 60.40625 \r\nL 10.984375 69.390625 \r\nL 28.421875 72.90625 \r\nL 38.28125 72.90625 \r\nL 38.28125 8.296875 \r\nL 54.390625 8.296875 \r\nL 54.390625 0 \r\nL 12.40625 0 \r\nz\r\n\" id=\"DejaVuSans-49\"/>\r\n      </defs>\r\n      <g transform=\"translate(7.2 158.708505)scale(0.1 -0.1)\">\r\n       <use xlink:href=\"#DejaVuSans-8722\"/>\r\n       <use x=\"83.789062\" xlink:href=\"#DejaVuSans-49\"/>\r\n       <use x=\"147.412109\" xlink:href=\"#DejaVuSans-46\"/>\r\n       <use x=\"179.199219\" xlink:href=\"#DejaVuSans-53\"/>\r\n      </g>\r\n     </g>\r\n    </g>\r\n    <g id=\"ytick_4\">\r\n     <g id=\"line2d_9\">\r\n      <g>\r\n       <use style=\"stroke:#000000;stroke-width:0.8;\" x=\"38.482813\" xlink:href=\"#m28f35010b6\" y=\"115.006551\"/>\r\n      </g>\r\n     </g>\r\n     <g id=\"text_9\">\r\n      <!-- −1.0 -->\r\n      <g transform=\"translate(7.2 118.80577)scale(0.1 -0.1)\">\r\n       <use xlink:href=\"#DejaVuSans-8722\"/>\r\n       <use x=\"83.789062\" xlink:href=\"#DejaVuSans-49\"/>\r\n       <use x=\"147.412109\" xlink:href=\"#DejaVuSans-46\"/>\r\n       <use x=\"179.199219\" xlink:href=\"#DejaVuSans-48\"/>\r\n      </g>\r\n     </g>\r\n    </g>\r\n    <g id=\"ytick_5\">\r\n     <g id=\"line2d_10\">\r\n      <g>\r\n       <use style=\"stroke:#000000;stroke-width:0.8;\" x=\"38.482813\" xlink:href=\"#m28f35010b6\" y=\"75.103816\"/>\r\n      </g>\r\n     </g>\r\n     <g id=\"text_10\">\r\n      <!-- −0.5 -->\r\n      <g transform=\"translate(7.2 78.903035)scale(0.1 -0.1)\">\r\n       <use xlink:href=\"#DejaVuSans-8722\"/>\r\n       <use x=\"83.789062\" xlink:href=\"#DejaVuSans-48\"/>\r\n       <use x=\"147.412109\" xlink:href=\"#DejaVuSans-46\"/>\r\n       <use x=\"179.199219\" xlink:href=\"#DejaVuSans-53\"/>\r\n      </g>\r\n     </g>\r\n    </g>\r\n    <g id=\"ytick_6\">\r\n     <g id=\"line2d_11\">\r\n      <g>\r\n       <use style=\"stroke:#000000;stroke-width:0.8;\" x=\"38.482813\" xlink:href=\"#m28f35010b6\" y=\"35.201081\"/>\r\n      </g>\r\n     </g>\r\n     <g id=\"text_11\">\r\n      <!-- 0.0 -->\r\n      <g transform=\"translate(15.579688 39.0003)scale(0.1 -0.1)\">\r\n       <use xlink:href=\"#DejaVuSans-48\"/>\r\n       <use x=\"63.623047\" xlink:href=\"#DejaVuSans-46\"/>\r\n       <use x=\"95.410156\" xlink:href=\"#DejaVuSans-48\"/>\r\n      </g>\r\n     </g>\r\n    </g>\r\n   </g>\r\n   <g id=\"line2d_12\">\r\n    <path clip-path=\"url(#pcfda9064ff)\" d=\"M 56.671713 188.91887 \r\nL 89.832957 194.968101 \r\nL 122.994201 160.116472 \r\nL 156.155445 195.560395 \r\nL 189.316688 229.874489 \r\nL 222.477932 63.601454 \r\nL 255.639176 41.77594 \r\nL 288.80042 41.440535 \r\nL 321.961664 39.05954 \r\nL 355.122907 37.844284 \r\n\" style=\"fill:none;stroke:#ff0000;stroke-linecap:square;stroke-width:1.5;\"/>\r\n   </g>\r\n   <g id=\"line2d_13\">\r\n    <path clip-path=\"url(#pcfda9064ff)\" d=\"M 56.671713 140.522709 \r\nL 89.832957 182.910707 \r\nL 122.994201 145.639624 \r\nL 156.155445 188.643811 \r\nL 189.316688 226.61991 \r\nL 222.477932 35.201081 \r\nL 255.639176 35.201081 \r\nL 288.80042 35.201081 \r\nL 321.961664 35.201081 \r\nL 355.122907 35.201081 \r\n\" style=\"fill:none;stroke:#0000ff;stroke-linecap:square;stroke-width:1.5;\"/>\r\n   </g>\r\n   <g id=\"patch_3\">\r\n    <path d=\"M 38.482813 239.758125 \r\nL 38.482813 22.318125 \r\n\" style=\"fill:none;stroke:#000000;stroke-linecap:square;stroke-linejoin:miter;stroke-width:0.8;\"/>\r\n   </g>\r\n   <g id=\"patch_4\">\r\n    <path d=\"M 373.282813 239.758125 \r\nL 373.282813 22.318125 \r\n\" style=\"fill:none;stroke:#000000;stroke-linecap:square;stroke-linejoin:miter;stroke-width:0.8;\"/>\r\n   </g>\r\n   <g id=\"patch_5\">\r\n    <path d=\"M 38.482813 239.758125 \r\nL 373.282812 239.758125 \r\n\" style=\"fill:none;stroke:#000000;stroke-linecap:square;stroke-linejoin:miter;stroke-width:0.8;\"/>\r\n   </g>\r\n   <g id=\"patch_6\">\r\n    <path d=\"M 38.482813 22.318125 \r\nL 373.282812 22.318125 \r\n\" style=\"fill:none;stroke:#000000;stroke-linecap:square;stroke-linejoin:miter;stroke-width:0.8;\"/>\r\n   </g>\r\n   <g id=\"text_12\">\r\n    <!-- trajectories -->\r\n    <defs>\r\n     <path d=\"M 18.3125 70.21875 \r\nL 18.3125 54.6875 \r\nL 36.8125 54.6875 \r\nL 36.8125 47.703125 \r\nL 18.3125 47.703125 \r\nL 18.3125 18.015625 \r\nQ 18.3125 11.328125 20.140625 9.421875 \r\nQ 21.96875 7.515625 27.59375 7.515625 \r\nL 36.8125 7.515625 \r\nL 36.8125 0 \r\nL 27.59375 0 \r\nQ 17.1875 0 13.234375 3.875 \r\nQ 9.28125 7.765625 9.28125 18.015625 \r\nL 9.28125 47.703125 \r\nL 2.6875 47.703125 \r\nL 2.6875 54.6875 \r\nL 9.28125 54.6875 \r\nL 9.28125 70.21875 \r\nz\r\n\" id=\"DejaVuSans-116\"/>\r\n     <path d=\"M 41.109375 46.296875 \r\nQ 39.59375 47.171875 37.8125 47.578125 \r\nQ 36.03125 48 33.890625 48 \r\nQ 26.265625 48 22.1875 43.046875 \r\nQ 18.109375 38.09375 18.109375 28.8125 \r\nL 18.109375 0 \r\nL 9.078125 0 \r\nL 9.078125 54.6875 \r\nL 18.109375 54.6875 \r\nL 18.109375 46.1875 \r\nQ 20.953125 51.171875 25.484375 53.578125 \r\nQ 30.03125 56 36.53125 56 \r\nQ 37.453125 56 38.578125 55.875 \r\nQ 39.703125 55.765625 41.0625 55.515625 \r\nz\r\n\" id=\"DejaVuSans-114\"/>\r\n     <path d=\"M 34.28125 27.484375 \r\nQ 23.390625 27.484375 19.1875 25 \r\nQ 14.984375 22.515625 14.984375 16.5 \r\nQ 14.984375 11.71875 18.140625 8.90625 \r\nQ 21.296875 6.109375 26.703125 6.109375 \r\nQ 34.1875 6.109375 38.703125 11.40625 \r\nQ 43.21875 16.703125 43.21875 25.484375 \r\nL 43.21875 27.484375 \r\nz\r\nM 52.203125 31.203125 \r\nL 52.203125 0 \r\nL 43.21875 0 \r\nL 43.21875 8.296875 \r\nQ 40.140625 3.328125 35.546875 0.953125 \r\nQ 30.953125 -1.421875 24.3125 -1.421875 \r\nQ 15.921875 -1.421875 10.953125 3.296875 \r\nQ 6 8.015625 6 15.921875 \r\nQ 6 25.140625 12.171875 29.828125 \r\nQ 18.359375 34.515625 30.609375 34.515625 \r\nL 43.21875 34.515625 \r\nL 43.21875 35.40625 \r\nQ 43.21875 41.609375 39.140625 45 \r\nQ 35.0625 48.390625 27.6875 48.390625 \r\nQ 23 48.390625 18.546875 47.265625 \r\nQ 14.109375 46.140625 10.015625 43.890625 \r\nL 10.015625 52.203125 \r\nQ 14.9375 54.109375 19.578125 55.046875 \r\nQ 24.21875 56 28.609375 56 \r\nQ 40.484375 56 46.34375 49.84375 \r\nQ 52.203125 43.703125 52.203125 31.203125 \r\nz\r\n\" id=\"DejaVuSans-97\"/>\r\n     <path d=\"M 9.421875 54.6875 \r\nL 18.40625 54.6875 \r\nL 18.40625 -0.984375 \r\nQ 18.40625 -11.421875 14.421875 -16.109375 \r\nQ 10.453125 -20.796875 1.609375 -20.796875 \r\nL -1.8125 -20.796875 \r\nL -1.8125 -13.1875 \r\nL 0.59375 -13.1875 \r\nQ 5.71875 -13.1875 7.5625 -10.8125 \r\nQ 9.421875 -8.453125 9.421875 -0.984375 \r\nz\r\nM 9.421875 75.984375 \r\nL 18.40625 75.984375 \r\nL 18.40625 64.59375 \r\nL 9.421875 64.59375 \r\nz\r\n\" id=\"DejaVuSans-106\"/>\r\n     <path d=\"M 56.203125 29.59375 \r\nL 56.203125 25.203125 \r\nL 14.890625 25.203125 \r\nQ 15.484375 15.921875 20.484375 11.0625 \r\nQ 25.484375 6.203125 34.421875 6.203125 \r\nQ 39.59375 6.203125 44.453125 7.46875 \r\nQ 49.3125 8.734375 54.109375 11.28125 \r\nL 54.109375 2.78125 \r\nQ 49.265625 0.734375 44.1875 -0.34375 \r\nQ 39.109375 -1.421875 33.890625 -1.421875 \r\nQ 20.796875 -1.421875 13.15625 6.1875 \r\nQ 5.515625 13.8125 5.515625 26.8125 \r\nQ 5.515625 40.234375 12.765625 48.109375 \r\nQ 20.015625 56 32.328125 56 \r\nQ 43.359375 56 49.78125 48.890625 \r\nQ 56.203125 41.796875 56.203125 29.59375 \r\nz\r\nM 47.21875 32.234375 \r\nQ 47.125 39.59375 43.09375 43.984375 \r\nQ 39.0625 48.390625 32.421875 48.390625 \r\nQ 24.90625 48.390625 20.390625 44.140625 \r\nQ 15.875 39.890625 15.1875 32.171875 \r\nz\r\n\" id=\"DejaVuSans-101\"/>\r\n     <path d=\"M 48.78125 52.59375 \r\nL 48.78125 44.1875 \r\nQ 44.96875 46.296875 41.140625 47.34375 \r\nQ 37.3125 48.390625 33.40625 48.390625 \r\nQ 24.65625 48.390625 19.8125 42.84375 \r\nQ 14.984375 37.3125 14.984375 27.296875 \r\nQ 14.984375 17.28125 19.8125 11.734375 \r\nQ 24.65625 6.203125 33.40625 6.203125 \r\nQ 37.3125 6.203125 41.140625 7.25 \r\nQ 44.96875 8.296875 48.78125 10.40625 \r\nL 48.78125 2.09375 \r\nQ 45.015625 0.34375 40.984375 -0.53125 \r\nQ 36.96875 -1.421875 32.421875 -1.421875 \r\nQ 20.0625 -1.421875 12.78125 6.34375 \r\nQ 5.515625 14.109375 5.515625 27.296875 \r\nQ 5.515625 40.671875 12.859375 48.328125 \r\nQ 20.21875 56 33.015625 56 \r\nQ 37.15625 56 41.109375 55.140625 \r\nQ 45.0625 54.296875 48.78125 52.59375 \r\nz\r\n\" id=\"DejaVuSans-99\"/>\r\n     <path d=\"M 30.609375 48.390625 \r\nQ 23.390625 48.390625 19.1875 42.75 \r\nQ 14.984375 37.109375 14.984375 27.296875 \r\nQ 14.984375 17.484375 19.15625 11.84375 \r\nQ 23.34375 6.203125 30.609375 6.203125 \r\nQ 37.796875 6.203125 41.984375 11.859375 \r\nQ 46.1875 17.53125 46.1875 27.296875 \r\nQ 46.1875 37.015625 41.984375 42.703125 \r\nQ 37.796875 48.390625 30.609375 48.390625 \r\nz\r\nM 30.609375 56 \r\nQ 42.328125 56 49.015625 48.375 \r\nQ 55.71875 40.765625 55.71875 27.296875 \r\nQ 55.71875 13.875 49.015625 6.21875 \r\nQ 42.328125 -1.421875 30.609375 -1.421875 \r\nQ 18.84375 -1.421875 12.171875 6.21875 \r\nQ 5.515625 13.875 5.515625 27.296875 \r\nQ 5.515625 40.765625 12.171875 48.375 \r\nQ 18.84375 56 30.609375 56 \r\nz\r\n\" id=\"DejaVuSans-111\"/>\r\n     <path d=\"M 9.421875 54.6875 \r\nL 18.40625 54.6875 \r\nL 18.40625 0 \r\nL 9.421875 0 \r\nz\r\nM 9.421875 75.984375 \r\nL 18.40625 75.984375 \r\nL 18.40625 64.59375 \r\nL 9.421875 64.59375 \r\nz\r\n\" id=\"DejaVuSans-105\"/>\r\n     <path d=\"M 44.28125 53.078125 \r\nL 44.28125 44.578125 \r\nQ 40.484375 46.53125 36.375 47.5 \r\nQ 32.28125 48.484375 27.875 48.484375 \r\nQ 21.1875 48.484375 17.84375 46.4375 \r\nQ 14.5 44.390625 14.5 40.28125 \r\nQ 14.5 37.15625 16.890625 35.375 \r\nQ 19.28125 33.59375 26.515625 31.984375 \r\nL 29.59375 31.296875 \r\nQ 39.15625 29.25 43.1875 25.515625 \r\nQ 47.21875 21.78125 47.21875 15.09375 \r\nQ 47.21875 7.46875 41.1875 3.015625 \r\nQ 35.15625 -1.421875 24.609375 -1.421875 \r\nQ 20.21875 -1.421875 15.453125 -0.5625 \r\nQ 10.6875 0.296875 5.421875 2 \r\nL 5.421875 11.28125 \r\nQ 10.40625 8.6875 15.234375 7.390625 \r\nQ 20.0625 6.109375 24.8125 6.109375 \r\nQ 31.15625 6.109375 34.5625 8.28125 \r\nQ 37.984375 10.453125 37.984375 14.40625 \r\nQ 37.984375 18.0625 35.515625 20.015625 \r\nQ 33.0625 21.96875 24.703125 23.78125 \r\nL 21.578125 24.515625 \r\nQ 13.234375 26.265625 9.515625 29.90625 \r\nQ 5.8125 33.546875 5.8125 39.890625 \r\nQ 5.8125 47.609375 11.28125 51.796875 \r\nQ 16.75 56 26.8125 56 \r\nQ 31.78125 56 36.171875 55.265625 \r\nQ 40.578125 54.546875 44.28125 53.078125 \r\nz\r\n\" id=\"DejaVuSans-115\"/>\r\n    </defs>\r\n    <g transform=\"translate(171.755 16.318125)scale(0.12 -0.12)\">\r\n     <use xlink:href=\"#DejaVuSans-116\"/>\r\n     <use x=\"39.208984\" xlink:href=\"#DejaVuSans-114\"/>\r\n     <use x=\"80.322266\" xlink:href=\"#DejaVuSans-97\"/>\r\n     <use x=\"141.601562\" xlink:href=\"#DejaVuSans-106\"/>\r\n     <use x=\"169.384766\" xlink:href=\"#DejaVuSans-101\"/>\r\n     <use x=\"230.908203\" xlink:href=\"#DejaVuSans-99\"/>\r\n     <use x=\"285.888672\" xlink:href=\"#DejaVuSans-116\"/>\r\n     <use x=\"325.097656\" xlink:href=\"#DejaVuSans-111\"/>\r\n     <use x=\"386.279297\" xlink:href=\"#DejaVuSans-114\"/>\r\n     <use x=\"427.392578\" xlink:href=\"#DejaVuSans-105\"/>\r\n     <use x=\"455.175781\" xlink:href=\"#DejaVuSans-101\"/>\r\n     <use x=\"516.699219\" xlink:href=\"#DejaVuSans-115\"/>\r\n    </g>\r\n   </g>\r\n   <g id=\"legend_1\">\r\n    <g id=\"patch_7\">\r\n     <path d=\"M 284.214063 234.758125 \r\nL 366.282812 234.758125 \r\nQ 368.282812 234.758125 368.282812 232.758125 \r\nL 368.282812 175.045625 \r\nQ 368.282812 173.045625 366.282812 173.045625 \r\nL 284.214063 173.045625 \r\nQ 282.214063 173.045625 282.214063 175.045625 \r\nL 282.214063 232.758125 \r\nQ 282.214063 234.758125 284.214063 234.758125 \r\nz\r\n\" style=\"fill:#ffffff;opacity:0.8;stroke:#cccccc;stroke-linejoin:miter;\"/>\r\n    </g>\r\n    <g id=\"line2d_14\">\r\n     <path d=\"M 286.214063 181.144063 \r\nL 306.214063 181.144063 \r\n\" style=\"fill:none;stroke:#ff0000;stroke-linecap:square;stroke-width:1.5;\"/>\r\n    </g>\r\n    <g id=\"line2d_15\"/>\r\n    <g id=\"text_13\">\r\n     <!-- Prediction -->\r\n     <defs>\r\n      <path d=\"M 19.671875 64.796875 \r\nL 19.671875 37.40625 \r\nL 32.078125 37.40625 \r\nQ 38.96875 37.40625 42.71875 40.96875 \r\nQ 46.484375 44.53125 46.484375 51.125 \r\nQ 46.484375 57.671875 42.71875 61.234375 \r\nQ 38.96875 64.796875 32.078125 64.796875 \r\nz\r\nM 9.8125 72.90625 \r\nL 32.078125 72.90625 \r\nQ 44.34375 72.90625 50.609375 67.359375 \r\nQ 56.890625 61.8125 56.890625 51.125 \r\nQ 56.890625 40.328125 50.609375 34.8125 \r\nQ 44.34375 29.296875 32.078125 29.296875 \r\nL 19.671875 29.296875 \r\nL 19.671875 0 \r\nL 9.8125 0 \r\nz\r\n\" id=\"DejaVuSans-80\"/>\r\n      <path d=\"M 45.40625 46.390625 \r\nL 45.40625 75.984375 \r\nL 54.390625 75.984375 \r\nL 54.390625 0 \r\nL 45.40625 0 \r\nL 45.40625 8.203125 \r\nQ 42.578125 3.328125 38.25 0.953125 \r\nQ 33.9375 -1.421875 27.875 -1.421875 \r\nQ 17.96875 -1.421875 11.734375 6.484375 \r\nQ 5.515625 14.40625 5.515625 27.296875 \r\nQ 5.515625 40.1875 11.734375 48.09375 \r\nQ 17.96875 56 27.875 56 \r\nQ 33.9375 56 38.25 53.625 \r\nQ 42.578125 51.265625 45.40625 46.390625 \r\nz\r\nM 14.796875 27.296875 \r\nQ 14.796875 17.390625 18.875 11.75 \r\nQ 22.953125 6.109375 30.078125 6.109375 \r\nQ 37.203125 6.109375 41.296875 11.75 \r\nQ 45.40625 17.390625 45.40625 27.296875 \r\nQ 45.40625 37.203125 41.296875 42.84375 \r\nQ 37.203125 48.484375 30.078125 48.484375 \r\nQ 22.953125 48.484375 18.875 42.84375 \r\nQ 14.796875 37.203125 14.796875 27.296875 \r\nz\r\n\" id=\"DejaVuSans-100\"/>\r\n      <path d=\"M 54.890625 33.015625 \r\nL 54.890625 0 \r\nL 45.90625 0 \r\nL 45.90625 32.71875 \r\nQ 45.90625 40.484375 42.875 44.328125 \r\nQ 39.84375 48.1875 33.796875 48.1875 \r\nQ 26.515625 48.1875 22.3125 43.546875 \r\nQ 18.109375 38.921875 18.109375 30.90625 \r\nL 18.109375 0 \r\nL 9.078125 0 \r\nL 9.078125 54.6875 \r\nL 18.109375 54.6875 \r\nL 18.109375 46.1875 \r\nQ 21.34375 51.125 25.703125 53.5625 \r\nQ 30.078125 56 35.796875 56 \r\nQ 45.21875 56 50.046875 50.171875 \r\nQ 54.890625 44.34375 54.890625 33.015625 \r\nz\r\n\" id=\"DejaVuSans-110\"/>\r\n     </defs>\r\n     <g transform=\"translate(314.214063 184.644063)scale(0.1 -0.1)\">\r\n      <use xlink:href=\"#DejaVuSans-80\"/>\r\n      <use x=\"60.287109\" xlink:href=\"#DejaVuSans-114\"/>\r\n      <use x=\"101.369141\" xlink:href=\"#DejaVuSans-101\"/>\r\n      <use x=\"162.892578\" xlink:href=\"#DejaVuSans-100\"/>\r\n      <use x=\"226.369141\" xlink:href=\"#DejaVuSans-105\"/>\r\n      <use x=\"254.152344\" xlink:href=\"#DejaVuSans-99\"/>\r\n      <use x=\"309.132812\" xlink:href=\"#DejaVuSans-116\"/>\r\n      <use x=\"348.341797\" xlink:href=\"#DejaVuSans-105\"/>\r\n      <use x=\"376.125\" xlink:href=\"#DejaVuSans-111\"/>\r\n      <use x=\"437.306641\" xlink:href=\"#DejaVuSans-110\"/>\r\n     </g>\r\n    </g>\r\n    <g id=\"line2d_16\">\r\n     <path d=\"M 286.214063 195.822188 \r\nL 306.214063 195.822188 \r\n\" style=\"fill:none;stroke:#0000ff;stroke-linecap:square;stroke-width:1.5;\"/>\r\n    </g>\r\n    <g id=\"line2d_17\"/>\r\n    <g id=\"text_14\">\r\n     <!-- Real -->\r\n     <defs>\r\n      <path d=\"M 44.390625 34.1875 \r\nQ 47.5625 33.109375 50.5625 29.59375 \r\nQ 53.5625 26.078125 56.59375 19.921875 \r\nL 66.609375 0 \r\nL 56 0 \r\nL 46.6875 18.703125 \r\nQ 43.0625 26.03125 39.671875 28.421875 \r\nQ 36.28125 30.8125 30.421875 30.8125 \r\nL 19.671875 30.8125 \r\nL 19.671875 0 \r\nL 9.8125 0 \r\nL 9.8125 72.90625 \r\nL 32.078125 72.90625 \r\nQ 44.578125 72.90625 50.734375 67.671875 \r\nQ 56.890625 62.453125 56.890625 51.90625 \r\nQ 56.890625 45.015625 53.6875 40.46875 \r\nQ 50.484375 35.9375 44.390625 34.1875 \r\nz\r\nM 19.671875 64.796875 \r\nL 19.671875 38.921875 \r\nL 32.078125 38.921875 \r\nQ 39.203125 38.921875 42.84375 42.21875 \r\nQ 46.484375 45.515625 46.484375 51.90625 \r\nQ 46.484375 58.296875 42.84375 61.546875 \r\nQ 39.203125 64.796875 32.078125 64.796875 \r\nz\r\n\" id=\"DejaVuSans-82\"/>\r\n      <path d=\"M 9.421875 75.984375 \r\nL 18.40625 75.984375 \r\nL 18.40625 0 \r\nL 9.421875 0 \r\nz\r\n\" id=\"DejaVuSans-108\"/>\r\n     </defs>\r\n     <g transform=\"translate(314.214063 199.322188)scale(0.1 -0.1)\">\r\n      <use xlink:href=\"#DejaVuSans-82\"/>\r\n      <use x=\"69.419922\" xlink:href=\"#DejaVuSans-101\"/>\r\n      <use x=\"130.943359\" xlink:href=\"#DejaVuSans-97\"/>\r\n      <use x=\"192.222656\" xlink:href=\"#DejaVuSans-108\"/>\r\n     </g>\r\n    </g>\r\n    <g id=\"PathCollection_3\">\r\n     <g>\r\n      <use style=\"fill:#008000;stroke:#008000;\" x=\"296.214063\" xlink:href=\"#m0a6ffa13bf\" y=\"211.375313\"/>\r\n     </g>\r\n    </g>\r\n    <g id=\"text_15\">\r\n     <!-- Target -->\r\n     <defs>\r\n      <path d=\"M -0.296875 72.90625 \r\nL 61.375 72.90625 \r\nL 61.375 64.59375 \r\nL 35.5 64.59375 \r\nL 35.5 0 \r\nL 25.59375 0 \r\nL 25.59375 64.59375 \r\nL -0.296875 64.59375 \r\nz\r\n\" id=\"DejaVuSans-84\"/>\r\n      <path d=\"M 45.40625 27.984375 \r\nQ 45.40625 37.75 41.375 43.109375 \r\nQ 37.359375 48.484375 30.078125 48.484375 \r\nQ 22.859375 48.484375 18.828125 43.109375 \r\nQ 14.796875 37.75 14.796875 27.984375 \r\nQ 14.796875 18.265625 18.828125 12.890625 \r\nQ 22.859375 7.515625 30.078125 7.515625 \r\nQ 37.359375 7.515625 41.375 12.890625 \r\nQ 45.40625 18.265625 45.40625 27.984375 \r\nz\r\nM 54.390625 6.78125 \r\nQ 54.390625 -7.171875 48.1875 -13.984375 \r\nQ 42 -20.796875 29.203125 -20.796875 \r\nQ 24.46875 -20.796875 20.265625 -20.09375 \r\nQ 16.0625 -19.390625 12.109375 -17.921875 \r\nL 12.109375 -9.1875 \r\nQ 16.0625 -11.328125 19.921875 -12.34375 \r\nQ 23.78125 -13.375 27.78125 -13.375 \r\nQ 36.625 -13.375 41.015625 -8.765625 \r\nQ 45.40625 -4.15625 45.40625 5.171875 \r\nL 45.40625 9.625 \r\nQ 42.625 4.78125 38.28125 2.390625 \r\nQ 33.9375 0 27.875 0 \r\nQ 17.828125 0 11.671875 7.65625 \r\nQ 5.515625 15.328125 5.515625 27.984375 \r\nQ 5.515625 40.671875 11.671875 48.328125 \r\nQ 17.828125 56 27.875 56 \r\nQ 33.9375 56 38.28125 53.609375 \r\nQ 42.625 51.21875 45.40625 46.390625 \r\nL 45.40625 54.6875 \r\nL 54.390625 54.6875 \r\nz\r\n\" id=\"DejaVuSans-103\"/>\r\n     </defs>\r\n     <g transform=\"translate(314.214063 214.000313)scale(0.1 -0.1)\">\r\n      <use xlink:href=\"#DejaVuSans-84\"/>\r\n      <use x=\"60.833984\" xlink:href=\"#DejaVuSans-97\"/>\r\n      <use x=\"122.113281\" xlink:href=\"#DejaVuSans-114\"/>\r\n      <use x=\"163.210938\" xlink:href=\"#DejaVuSans-103\"/>\r\n      <use x=\"226.6875\" xlink:href=\"#DejaVuSans-101\"/>\r\n      <use x=\"288.210938\" xlink:href=\"#DejaVuSans-116\"/>\r\n     </g>\r\n    </g>\r\n    <g id=\"PathCollection_4\">\r\n     <g>\r\n      <use style=\"fill:#bfbf00;stroke:#bfbf00;\" x=\"296.214063\" xlink:href=\"#mca8313f7dd\" y=\"226.053438\"/>\r\n     </g>\r\n    </g>\r\n    <g id=\"text_16\">\r\n     <!-- start -->\r\n     <g transform=\"translate(314.214063 228.678438)scale(0.1 -0.1)\">\r\n      <use xlink:href=\"#DejaVuSans-115\"/>\r\n      <use x=\"52.099609\" xlink:href=\"#DejaVuSans-116\"/>\r\n      <use x=\"91.308594\" xlink:href=\"#DejaVuSans-97\"/>\r\n      <use x=\"152.587891\" xlink:href=\"#DejaVuSans-114\"/>\r\n      <use x=\"193.701172\" xlink:href=\"#DejaVuSans-116\"/>\r\n     </g>\r\n    </g>\r\n   </g>\r\n  </g>\r\n </g>\r\n <defs>\r\n  <clipPath id=\"pcfda9064ff\">\r\n   <rect height=\"217.44\" width=\"334.8\" x=\"38.482813\" y=\"22.318125\"/>\r\n  </clipPath>\r\n </defs>\r\n</svg>\r\n",
      "image/png": "[encoded data removed]"
     },
     "metadata": {
      "needs_background": "light"
     }
    }
   ],
   "source": [
    "plt.figure()\n",
    "S_Trajectory_prediction = single_step_sequential_model.predict(x_train_single_sequential)[:,:,:]\n",
    "\n",
    "t_number = 5\n",
    "\n",
    "component= 3\n",
    "\n",
    "plt.plot(S_Trajectory_prediction[t_number][:,component], c='r', label='Prediction')\n",
    "plt.plot(y_train_single_sequential[t_number][:,component], c='b', label='Real')\n",
    "plt.scatter(N_STEPS-1, ZT_norm[component],  c='g', label='Target')\n",
    "plt.scatter(0, x_train_single_sequential[t_number][0,component], c='y', label='start')\n",
    "plt.title(\"trajectories\")\n",
    "plt.legend()\n",
    "\n",
    "plt.show()"
   ]
  },
  {
   "cell_type": "code",
   "execution_count": 50,
   "metadata": {},
   "outputs": [
    {
     "output_type": "display_data",
     "data": {
      "text/plain": "<Figure size 432x288 with 1 Axes>",
      "image/svg+xml": "<?xml version=\"1.0\" encoding=\"utf-8\" standalone=\"no\"?>\r\n<!DOCTYPE svg PUBLIC \"-//W3C//DTD SVG 1.1//EN\"\r\n  \"http://www.w3.org/Graphics/SVG/1.1/DTD/svg11.dtd\">\r\n<!-- Created with matplotlib (https://matplotlib.org/) -->\r\n<svg height=\"263.63625pt\" version=\"1.1\" viewBox=\"0 0 380.482813 263.63625\" width=\"380.482813pt\" xmlns=\"http://www.w3.org/2000/svg\" xmlns:xlink=\"http://www.w3.org/1999/xlink\">\r\n <defs>\r\n  <style type=\"text/css\">\r\n*{stroke-linecap:butt;stroke-linejoin:round;}\r\n  </style>\r\n </defs>\r\n <g id=\"figure_1\">\r\n  <g id=\"patch_1\">\r\n   <path d=\"M -0 263.63625 \r\nL 380.482813 263.63625 \r\nL 380.482813 0 \r\nL -0 0 \r\nz\r\n\" style=\"fill:none;\"/>\r\n  </g>\r\n  <g id=\"axes_1\">\r\n   <g id=\"patch_2\">\r\n    <path d=\"M 38.482813 239.758125 \r\nL 373.282813 239.758125 \r\nL 373.282813 22.318125 \r\nL 38.482813 22.318125 \r\nz\r\n\" style=\"fill:#ffffff;\"/>\r\n   </g>\r\n   <g id=\"PathCollection_1\">\r\n    <defs>\r\n     <path d=\"M 0 3 \r\nC 0.795609 3 1.55874 2.683901 2.12132 2.12132 \r\nC 2.683901 1.55874 3 0.795609 3 0 \r\nC 3 -0.795609 2.683901 -1.55874 2.12132 -2.12132 \r\nC 1.55874 -2.683901 0.795609 -3 0 -3 \r\nC -0.795609 -3 -1.55874 -2.683901 -2.12132 -2.12132 \r\nC -2.683901 -1.55874 -3 -0.795609 -3 0 \r\nC -3 0.795609 -2.683901 1.55874 -2.12132 2.12132 \r\nC -1.55874 2.683901 -0.795609 3 0 3 \r\nz\r\n\" id=\"md610b80ad6\" style=\"stroke:#ff0000;\"/>\r\n    </defs>\r\n    <g clip-path=\"url(#pf82e82ee7f)\">\r\n     <use style=\"fill:#ff0000;stroke:#ff0000;\" x=\"344.672641\" xlink:href=\"#md610b80ad6\" y=\"224.450506\"/>\r\n     <use style=\"fill:#ff0000;stroke:#ff0000;\" x=\"304.524895\" xlink:href=\"#md610b80ad6\" y=\"196.68974\"/>\r\n     <use style=\"fill:#ff0000;stroke:#ff0000;\" x=\"259.664983\" xlink:href=\"#md610b80ad6\" y=\"142.915339\"/>\r\n     <use style=\"fill:#ff0000;stroke:#ff0000;\" x=\"218.22952\" xlink:href=\"#md610b80ad6\" y=\"80.48327\"/>\r\n     <use style=\"fill:#ff0000;stroke:#ff0000;\" x=\"148.065183\" xlink:href=\"#md610b80ad6\" y=\"59.487512\"/>\r\n     <use style=\"fill:#ff0000;stroke:#ff0000;\" x=\"96.480732\" xlink:href=\"#md610b80ad6\" y=\"33.32745\"/>\r\n     <use style=\"fill:#ff0000;stroke:#ff0000;\" x=\"55.790589\" xlink:href=\"#md610b80ad6\" y=\"50.951739\"/>\r\n     <use style=\"fill:#ff0000;stroke:#ff0000;\" x=\"54.681837\" xlink:href=\"#md610b80ad6\" y=\"71.448976\"/>\r\n     <use style=\"fill:#ff0000;stroke:#ff0000;\" x=\"64.282171\" xlink:href=\"#md610b80ad6\" y=\"69.586443\"/>\r\n     <use style=\"fill:#ff0000;stroke:#ff0000;\" x=\"66.372173\" xlink:href=\"#md610b80ad6\" y=\"69.511968\"/>\r\n    </g>\r\n   </g>\r\n   <g id=\"PathCollection_2\">\r\n    <defs>\r\n     <path d=\"M 0 3 \r\nC 0.795609 3 1.55874 2.683901 2.12132 2.12132 \r\nC 2.683901 1.55874 3 0.795609 3 0 \r\nC 3 -0.795609 2.683901 -1.55874 2.12132 -2.12132 \r\nC 1.55874 -2.683901 0.795609 -3 0 -3 \r\nC -0.795609 -3 -1.55874 -2.683901 -2.12132 -2.12132 \r\nC -2.683901 -1.55874 -3 -0.795609 -3 0 \r\nC -3 0.795609 -2.683901 1.55874 -2.12132 2.12132 \r\nC -1.55874 2.683901 -0.795609 3 0 3 \r\nz\r\n\" id=\"m030d4fa181\" style=\"stroke:#0000ff;\"/>\r\n    </defs>\r\n    <g clip-path=\"url(#pf82e82ee7f)\">\r\n     <use style=\"fill:#0000ff;stroke:#0000ff;\" x=\"334.006591\" xlink:href=\"#m030d4fa181\" y=\"218.452042\"/>\r\n     <use style=\"fill:#0000ff;stroke:#0000ff;\" x=\"305.743869\" xlink:href=\"#m030d4fa181\" y=\"194.491454\"/>\r\n     <use style=\"fill:#0000ff;stroke:#0000ff;\" x=\"267.859551\" xlink:href=\"#m030d4fa181\" y=\"138.470664\"/>\r\n     <use style=\"fill:#0000ff;stroke:#0000ff;\" x=\"212.417611\" xlink:href=\"#m030d4fa181\" y=\"84.687184\"/>\r\n     <use style=\"fill:#0000ff;stroke:#0000ff;\" x=\"151.627363\" xlink:href=\"#m030d4fa181\" y=\"54.016541\"/>\r\n     <use style=\"fill:#0000ff;stroke:#0000ff;\" x=\"92.357214\" xlink:href=\"#m030d4fa181\" y=\"40.381355\"/>\r\n     <use style=\"fill:#0000ff;stroke:#0000ff;\" x=\"67.259502\" xlink:href=\"#m030d4fa181\" y=\"59.16828\"/>\r\n     <use style=\"fill:#0000ff;stroke:#0000ff;\" x=\"67.24487\" xlink:href=\"#m030d4fa181\" y=\"66.540409\"/>\r\n     <use style=\"fill:#0000ff;stroke:#0000ff;\" x=\"67.24487\" xlink:href=\"#m030d4fa181\" y=\"66.540409\"/>\r\n     <use style=\"fill:#0000ff;stroke:#0000ff;\" x=\"67.24487\" xlink:href=\"#m030d4fa181\" y=\"66.540409\"/>\r\n    </g>\r\n   </g>\r\n   <g id=\"PathCollection_3\">\r\n    <defs>\r\n     <path d=\"M 0 3 \r\nC 0.795609 3 1.55874 2.683901 2.12132 2.12132 \r\nC 2.683901 1.55874 3 0.795609 3 0 \r\nC 3 -0.795609 2.683901 -1.55874 2.12132 -2.12132 \r\nC 1.55874 -2.683901 0.795609 -3 0 -3 \r\nC -0.795609 -3 -1.55874 -2.683901 -2.12132 -2.12132 \r\nC -2.683901 -1.55874 -3 -0.795609 -3 0 \r\nC -3 0.795609 -2.683901 1.55874 -2.12132 2.12132 \r\nC -1.55874 2.683901 -0.795609 3 0 3 \r\nz\r\n\" id=\"mc4089bc84f\" style=\"stroke:#008000;\"/>\r\n    </defs>\r\n    <g clip-path=\"url(#pf82e82ee7f)\">\r\n     <use style=\"fill:#008000;stroke:#008000;\" x=\"67.24487\" xlink:href=\"#mc4089bc84f\" y=\"66.540409\"/>\r\n    </g>\r\n   </g>\r\n   <g id=\"PathCollection_4\">\r\n    <defs>\r\n     <path d=\"M 0 3 \r\nC 0.795609 3 1.55874 2.683901 2.12132 2.12132 \r\nC 2.683901 1.55874 3 0.795609 3 0 \r\nC 3 -0.795609 2.683901 -1.55874 2.12132 -2.12132 \r\nC 1.55874 -2.683901 0.795609 -3 0 -3 \r\nC -0.795609 -3 -1.55874 -2.683901 -2.12132 -2.12132 \r\nC -2.683901 -1.55874 -3 -0.795609 -3 0 \r\nC -3 0.795609 -2.683901 1.55874 -2.12132 2.12132 \r\nC -1.55874 2.683901 -0.795609 3 0 3 \r\nz\r\n\" id=\"ma1d67f7d7d\" style=\"stroke:#bfbf00;\"/>\r\n    </defs>\r\n    <g clip-path=\"url(#pf82e82ee7f)\">\r\n     <use style=\"fill:#bfbf00;stroke:#bfbf00;\" x=\"355.186963\" xlink:href=\"#ma1d67f7d7d\" y=\"226.939722\"/>\r\n    </g>\r\n   </g>\r\n   <g id=\"matplotlib.axis_1\">\r\n    <g id=\"xtick_1\">\r\n     <g id=\"line2d_1\">\r\n      <defs>\r\n       <path d=\"M 0 0 \r\nL 0 3.5 \r\n\" id=\"m0587af44e4\" style=\"stroke:#000000;stroke-width:0.8;\"/>\r\n      </defs>\r\n      <g>\r\n       <use style=\"stroke:#000000;stroke-width:0.8;\" x=\"67.24487\" xlink:href=\"#m0587af44e4\" y=\"239.758125\"/>\r\n      </g>\r\n     </g>\r\n     <g id=\"text_1\">\r\n      <!-- 0.0 -->\r\n      <defs>\r\n       <path d=\"M 31.78125 66.40625 \r\nQ 24.171875 66.40625 20.328125 58.90625 \r\nQ 16.5 51.421875 16.5 36.375 \r\nQ 16.5 21.390625 20.328125 13.890625 \r\nQ 24.171875 6.390625 31.78125 6.390625 \r\nQ 39.453125 6.390625 43.28125 13.890625 \r\nQ 47.125 21.390625 47.125 36.375 \r\nQ 47.125 51.421875 43.28125 58.90625 \r\nQ 39.453125 66.40625 31.78125 66.40625 \r\nz\r\nM 31.78125 74.21875 \r\nQ 44.046875 74.21875 50.515625 64.515625 \r\nQ 56.984375 54.828125 56.984375 36.375 \r\nQ 56.984375 17.96875 50.515625 8.265625 \r\nQ 44.046875 -1.421875 31.78125 -1.421875 \r\nQ 19.53125 -1.421875 13.0625 8.265625 \r\nQ 6.59375 17.96875 6.59375 36.375 \r\nQ 6.59375 54.828125 13.0625 64.515625 \r\nQ 19.53125 74.21875 31.78125 74.21875 \r\nz\r\n\" id=\"DejaVuSans-48\"/>\r\n       <path d=\"M 10.6875 12.40625 \r\nL 21 12.40625 \r\nL 21 0 \r\nL 10.6875 0 \r\nz\r\n\" id=\"DejaVuSans-46\"/>\r\n      </defs>\r\n      <g transform=\"translate(59.293308 254.356563)scale(0.1 -0.1)\">\r\n       <use xlink:href=\"#DejaVuSans-48\"/>\r\n       <use x=\"63.623047\" xlink:href=\"#DejaVuSans-46\"/>\r\n       <use x=\"95.410156\" xlink:href=\"#DejaVuSans-48\"/>\r\n      </g>\r\n     </g>\r\n    </g>\r\n    <g id=\"xtick_2\">\r\n     <g id=\"line2d_2\">\r\n      <g>\r\n       <use style=\"stroke:#000000;stroke-width:0.8;\" x=\"121.975906\" xlink:href=\"#m0587af44e4\" y=\"239.758125\"/>\r\n      </g>\r\n     </g>\r\n     <g id=\"text_2\">\r\n      <!-- 0.5 -->\r\n      <defs>\r\n       <path d=\"M 10.796875 72.90625 \r\nL 49.515625 72.90625 \r\nL 49.515625 64.59375 \r\nL 19.828125 64.59375 \r\nL 19.828125 46.734375 \r\nQ 21.96875 47.46875 24.109375 47.828125 \r\nQ 26.265625 48.1875 28.421875 48.1875 \r\nQ 40.625 48.1875 47.75 41.5 \r\nQ 54.890625 34.8125 54.890625 23.390625 \r\nQ 54.890625 11.625 47.5625 5.09375 \r\nQ 40.234375 -1.421875 26.90625 -1.421875 \r\nQ 22.3125 -1.421875 17.546875 -0.640625 \r\nQ 12.796875 0.140625 7.71875 1.703125 \r\nL 7.71875 11.625 \r\nQ 12.109375 9.234375 16.796875 8.0625 \r\nQ 21.484375 6.890625 26.703125 6.890625 \r\nQ 35.15625 6.890625 40.078125 11.328125 \r\nQ 45.015625 15.765625 45.015625 23.390625 \r\nQ 45.015625 31 40.078125 35.4375 \r\nQ 35.15625 39.890625 26.703125 39.890625 \r\nQ 22.75 39.890625 18.8125 39.015625 \r\nQ 14.890625 38.140625 10.796875 36.28125 \r\nz\r\n\" id=\"DejaVuSans-53\"/>\r\n      </defs>\r\n      <g transform=\"translate(114.024344 254.356563)scale(0.1 -0.1)\">\r\n       <use xlink:href=\"#DejaVuSans-48\"/>\r\n       <use x=\"63.623047\" xlink:href=\"#DejaVuSans-46\"/>\r\n       <use x=\"95.410156\" xlink:href=\"#DejaVuSans-53\"/>\r\n      </g>\r\n     </g>\r\n    </g>\r\n    <g id=\"xtick_3\">\r\n     <g id=\"line2d_3\">\r\n      <g>\r\n       <use style=\"stroke:#000000;stroke-width:0.8;\" x=\"176.706942\" xlink:href=\"#m0587af44e4\" y=\"239.758125\"/>\r\n      </g>\r\n     </g>\r\n     <g id=\"text_3\">\r\n      <!-- 1.0 -->\r\n      <defs>\r\n       <path d=\"M 12.40625 8.296875 \r\nL 28.515625 8.296875 \r\nL 28.515625 63.921875 \r\nL 10.984375 60.40625 \r\nL 10.984375 69.390625 \r\nL 28.421875 72.90625 \r\nL 38.28125 72.90625 \r\nL 38.28125 8.296875 \r\nL 54.390625 8.296875 \r\nL 54.390625 0 \r\nL 12.40625 0 \r\nz\r\n\" id=\"DejaVuSans-49\"/>\r\n      </defs>\r\n      <g transform=\"translate(168.755379 254.356563)scale(0.1 -0.1)\">\r\n       <use xlink:href=\"#DejaVuSans-49\"/>\r\n       <use x=\"63.623047\" xlink:href=\"#DejaVuSans-46\"/>\r\n       <use x=\"95.410156\" xlink:href=\"#DejaVuSans-48\"/>\r\n      </g>\r\n     </g>\r\n    </g>\r\n    <g id=\"xtick_4\">\r\n     <g id=\"line2d_4\">\r\n      <g>\r\n       <use style=\"stroke:#000000;stroke-width:0.8;\" x=\"231.437977\" xlink:href=\"#m0587af44e4\" y=\"239.758125\"/>\r\n      </g>\r\n     </g>\r\n     <g id=\"text_4\">\r\n      <!-- 1.5 -->\r\n      <g transform=\"translate(223.486415 254.356563)scale(0.1 -0.1)\">\r\n       <use xlink:href=\"#DejaVuSans-49\"/>\r\n       <use x=\"63.623047\" xlink:href=\"#DejaVuSans-46\"/>\r\n       <use x=\"95.410156\" xlink:href=\"#DejaVuSans-53\"/>\r\n      </g>\r\n     </g>\r\n    </g>\r\n    <g id=\"xtick_5\">\r\n     <g id=\"line2d_5\">\r\n      <g>\r\n       <use style=\"stroke:#000000;stroke-width:0.8;\" x=\"286.169013\" xlink:href=\"#m0587af44e4\" y=\"239.758125\"/>\r\n      </g>\r\n     </g>\r\n     <g id=\"text_5\">\r\n      <!-- 2.0 -->\r\n      <defs>\r\n       <path d=\"M 19.1875 8.296875 \r\nL 53.609375 8.296875 \r\nL 53.609375 0 \r\nL 7.328125 0 \r\nL 7.328125 8.296875 \r\nQ 12.9375 14.109375 22.625 23.890625 \r\nQ 32.328125 33.6875 34.8125 36.53125 \r\nQ 39.546875 41.84375 41.421875 45.53125 \r\nQ 43.3125 49.21875 43.3125 52.78125 \r\nQ 43.3125 58.59375 39.234375 62.25 \r\nQ 35.15625 65.921875 28.609375 65.921875 \r\nQ 23.96875 65.921875 18.8125 64.3125 \r\nQ 13.671875 62.703125 7.8125 59.421875 \r\nL 7.8125 69.390625 \r\nQ 13.765625 71.78125 18.9375 73 \r\nQ 24.125 74.21875 28.421875 74.21875 \r\nQ 39.75 74.21875 46.484375 68.546875 \r\nQ 53.21875 62.890625 53.21875 53.421875 \r\nQ 53.21875 48.921875 51.53125 44.890625 \r\nQ 49.859375 40.875 45.40625 35.40625 \r\nQ 44.1875 33.984375 37.640625 27.21875 \r\nQ 31.109375 20.453125 19.1875 8.296875 \r\nz\r\n\" id=\"DejaVuSans-50\"/>\r\n      </defs>\r\n      <g transform=\"translate(278.217451 254.356563)scale(0.1 -0.1)\">\r\n       <use xlink:href=\"#DejaVuSans-50\"/>\r\n       <use x=\"63.623047\" xlink:href=\"#DejaVuSans-46\"/>\r\n       <use x=\"95.410156\" xlink:href=\"#DejaVuSans-48\"/>\r\n      </g>\r\n     </g>\r\n    </g>\r\n    <g id=\"xtick_6\">\r\n     <g id=\"line2d_6\">\r\n      <g>\r\n       <use style=\"stroke:#000000;stroke-width:0.8;\" x=\"340.900049\" xlink:href=\"#m0587af44e4\" y=\"239.758125\"/>\r\n      </g>\r\n     </g>\r\n     <g id=\"text_6\">\r\n      <!-- 2.5 -->\r\n      <g transform=\"translate(332.948486 254.356563)scale(0.1 -0.1)\">\r\n       <use xlink:href=\"#DejaVuSans-50\"/>\r\n       <use x=\"63.623047\" xlink:href=\"#DejaVuSans-46\"/>\r\n       <use x=\"95.410156\" xlink:href=\"#DejaVuSans-53\"/>\r\n      </g>\r\n     </g>\r\n    </g>\r\n   </g>\r\n   <g id=\"matplotlib.axis_2\">\r\n    <g id=\"ytick_1\">\r\n     <g id=\"line2d_7\">\r\n      <defs>\r\n       <path d=\"M 0 0 \r\nL -3.5 0 \r\n\" id=\"mb44b6db732\" style=\"stroke:#000000;stroke-width:0.8;\"/>\r\n      </defs>\r\n      <g>\r\n       <use style=\"stroke:#000000;stroke-width:0.8;\" x=\"38.482813\" xlink:href=\"#mb44b6db732\" y=\"229.720241\"/>\r\n      </g>\r\n     </g>\r\n     <g id=\"text_7\">\r\n      <!-- −2.0 -->\r\n      <defs>\r\n       <path d=\"M 10.59375 35.5 \r\nL 73.1875 35.5 \r\nL 73.1875 27.203125 \r\nL 10.59375 27.203125 \r\nz\r\n\" id=\"DejaVuSans-8722\"/>\r\n      </defs>\r\n      <g transform=\"translate(7.2 233.519459)scale(0.1 -0.1)\">\r\n       <use xlink:href=\"#DejaVuSans-8722\"/>\r\n       <use x=\"83.789062\" xlink:href=\"#DejaVuSans-50\"/>\r\n       <use x=\"147.412109\" xlink:href=\"#DejaVuSans-46\"/>\r\n       <use x=\"179.199219\" xlink:href=\"#DejaVuSans-48\"/>\r\n      </g>\r\n     </g>\r\n    </g>\r\n    <g id=\"ytick_2\">\r\n     <g id=\"line2d_8\">\r\n      <g>\r\n       <use style=\"stroke:#000000;stroke-width:0.8;\" x=\"38.482813\" xlink:href=\"#mb44b6db732\" y=\"188.925283\"/>\r\n      </g>\r\n     </g>\r\n     <g id=\"text_8\">\r\n      <!-- −1.5 -->\r\n      <g transform=\"translate(7.2 192.724501)scale(0.1 -0.1)\">\r\n       <use xlink:href=\"#DejaVuSans-8722\"/>\r\n       <use x=\"83.789062\" xlink:href=\"#DejaVuSans-49\"/>\r\n       <use x=\"147.412109\" xlink:href=\"#DejaVuSans-46\"/>\r\n       <use x=\"179.199219\" xlink:href=\"#DejaVuSans-53\"/>\r\n      </g>\r\n     </g>\r\n    </g>\r\n    <g id=\"ytick_3\">\r\n     <g id=\"line2d_9\">\r\n      <g>\r\n       <use style=\"stroke:#000000;stroke-width:0.8;\" x=\"38.482813\" xlink:href=\"#mb44b6db732\" y=\"148.130325\"/>\r\n      </g>\r\n     </g>\r\n     <g id=\"text_9\">\r\n      <!-- −1.0 -->\r\n      <g transform=\"translate(7.2 151.929543)scale(0.1 -0.1)\">\r\n       <use xlink:href=\"#DejaVuSans-8722\"/>\r\n       <use x=\"83.789062\" xlink:href=\"#DejaVuSans-49\"/>\r\n       <use x=\"147.412109\" xlink:href=\"#DejaVuSans-46\"/>\r\n       <use x=\"179.199219\" xlink:href=\"#DejaVuSans-48\"/>\r\n      </g>\r\n     </g>\r\n    </g>\r\n    <g id=\"ytick_4\">\r\n     <g id=\"line2d_10\">\r\n      <g>\r\n       <use style=\"stroke:#000000;stroke-width:0.8;\" x=\"38.482813\" xlink:href=\"#mb44b6db732\" y=\"107.335367\"/>\r\n      </g>\r\n     </g>\r\n     <g id=\"text_10\">\r\n      <!-- −0.5 -->\r\n      <g transform=\"translate(7.2 111.134586)scale(0.1 -0.1)\">\r\n       <use xlink:href=\"#DejaVuSans-8722\"/>\r\n       <use x=\"83.789062\" xlink:href=\"#DejaVuSans-48\"/>\r\n       <use x=\"147.412109\" xlink:href=\"#DejaVuSans-46\"/>\r\n       <use x=\"179.199219\" xlink:href=\"#DejaVuSans-53\"/>\r\n      </g>\r\n     </g>\r\n    </g>\r\n    <g id=\"ytick_5\">\r\n     <g id=\"line2d_11\">\r\n      <g>\r\n       <use style=\"stroke:#000000;stroke-width:0.8;\" x=\"38.482813\" xlink:href=\"#mb44b6db732\" y=\"66.540409\"/>\r\n      </g>\r\n     </g>\r\n     <g id=\"text_11\">\r\n      <!-- 0.0 -->\r\n      <g transform=\"translate(15.579688 70.339628)scale(0.1 -0.1)\">\r\n       <use xlink:href=\"#DejaVuSans-48\"/>\r\n       <use x=\"63.623047\" xlink:href=\"#DejaVuSans-46\"/>\r\n       <use x=\"95.410156\" xlink:href=\"#DejaVuSans-48\"/>\r\n      </g>\r\n     </g>\r\n    </g>\r\n    <g id=\"ytick_6\">\r\n     <g id=\"line2d_12\">\r\n      <g>\r\n       <use style=\"stroke:#000000;stroke-width:0.8;\" x=\"38.482813\" xlink:href=\"#mb44b6db732\" y=\"25.745451\"/>\r\n      </g>\r\n     </g>\r\n     <g id=\"text_12\">\r\n      <!-- 0.5 -->\r\n      <g transform=\"translate(15.579688 29.54467)scale(0.1 -0.1)\">\r\n       <use xlink:href=\"#DejaVuSans-48\"/>\r\n       <use x=\"63.623047\" xlink:href=\"#DejaVuSans-46\"/>\r\n       <use x=\"95.410156\" xlink:href=\"#DejaVuSans-53\"/>\r\n      </g>\r\n     </g>\r\n    </g>\r\n   </g>\r\n   <g id=\"patch_3\">\r\n    <path d=\"M 38.482813 239.758125 \r\nL 38.482813 22.318125 \r\n\" style=\"fill:none;stroke:#000000;stroke-linecap:square;stroke-linejoin:miter;stroke-width:0.8;\"/>\r\n   </g>\r\n   <g id=\"patch_4\">\r\n    <path d=\"M 373.282813 239.758125 \r\nL 373.282813 22.318125 \r\n\" style=\"fill:none;stroke:#000000;stroke-linecap:square;stroke-linejoin:miter;stroke-width:0.8;\"/>\r\n   </g>\r\n   <g id=\"patch_5\">\r\n    <path d=\"M 38.482812 239.758125 \r\nL 373.282813 239.758125 \r\n\" style=\"fill:none;stroke:#000000;stroke-linecap:square;stroke-linejoin:miter;stroke-width:0.8;\"/>\r\n   </g>\r\n   <g id=\"patch_6\">\r\n    <path d=\"M 38.482812 22.318125 \r\nL 373.282813 22.318125 \r\n\" style=\"fill:none;stroke:#000000;stroke-linecap:square;stroke-linejoin:miter;stroke-width:0.8;\"/>\r\n   </g>\r\n   <g id=\"text_13\">\r\n    <!-- trajectories -->\r\n    <defs>\r\n     <path d=\"M 18.3125 70.21875 \r\nL 18.3125 54.6875 \r\nL 36.8125 54.6875 \r\nL 36.8125 47.703125 \r\nL 18.3125 47.703125 \r\nL 18.3125 18.015625 \r\nQ 18.3125 11.328125 20.140625 9.421875 \r\nQ 21.96875 7.515625 27.59375 7.515625 \r\nL 36.8125 7.515625 \r\nL 36.8125 0 \r\nL 27.59375 0 \r\nQ 17.1875 0 13.234375 3.875 \r\nQ 9.28125 7.765625 9.28125 18.015625 \r\nL 9.28125 47.703125 \r\nL 2.6875 47.703125 \r\nL 2.6875 54.6875 \r\nL 9.28125 54.6875 \r\nL 9.28125 70.21875 \r\nz\r\n\" id=\"DejaVuSans-116\"/>\r\n     <path d=\"M 41.109375 46.296875 \r\nQ 39.59375 47.171875 37.8125 47.578125 \r\nQ 36.03125 48 33.890625 48 \r\nQ 26.265625 48 22.1875 43.046875 \r\nQ 18.109375 38.09375 18.109375 28.8125 \r\nL 18.109375 0 \r\nL 9.078125 0 \r\nL 9.078125 54.6875 \r\nL 18.109375 54.6875 \r\nL 18.109375 46.1875 \r\nQ 20.953125 51.171875 25.484375 53.578125 \r\nQ 30.03125 56 36.53125 56 \r\nQ 37.453125 56 38.578125 55.875 \r\nQ 39.703125 55.765625 41.0625 55.515625 \r\nz\r\n\" id=\"DejaVuSans-114\"/>\r\n     <path d=\"M 34.28125 27.484375 \r\nQ 23.390625 27.484375 19.1875 25 \r\nQ 14.984375 22.515625 14.984375 16.5 \r\nQ 14.984375 11.71875 18.140625 8.90625 \r\nQ 21.296875 6.109375 26.703125 6.109375 \r\nQ 34.1875 6.109375 38.703125 11.40625 \r\nQ 43.21875 16.703125 43.21875 25.484375 \r\nL 43.21875 27.484375 \r\nz\r\nM 52.203125 31.203125 \r\nL 52.203125 0 \r\nL 43.21875 0 \r\nL 43.21875 8.296875 \r\nQ 40.140625 3.328125 35.546875 0.953125 \r\nQ 30.953125 -1.421875 24.3125 -1.421875 \r\nQ 15.921875 -1.421875 10.953125 3.296875 \r\nQ 6 8.015625 6 15.921875 \r\nQ 6 25.140625 12.171875 29.828125 \r\nQ 18.359375 34.515625 30.609375 34.515625 \r\nL 43.21875 34.515625 \r\nL 43.21875 35.40625 \r\nQ 43.21875 41.609375 39.140625 45 \r\nQ 35.0625 48.390625 27.6875 48.390625 \r\nQ 23 48.390625 18.546875 47.265625 \r\nQ 14.109375 46.140625 10.015625 43.890625 \r\nL 10.015625 52.203125 \r\nQ 14.9375 54.109375 19.578125 55.046875 \r\nQ 24.21875 56 28.609375 56 \r\nQ 40.484375 56 46.34375 49.84375 \r\nQ 52.203125 43.703125 52.203125 31.203125 \r\nz\r\n\" id=\"DejaVuSans-97\"/>\r\n     <path d=\"M 9.421875 54.6875 \r\nL 18.40625 54.6875 \r\nL 18.40625 -0.984375 \r\nQ 18.40625 -11.421875 14.421875 -16.109375 \r\nQ 10.453125 -20.796875 1.609375 -20.796875 \r\nL -1.8125 -20.796875 \r\nL -1.8125 -13.1875 \r\nL 0.59375 -13.1875 \r\nQ 5.71875 -13.1875 7.5625 -10.8125 \r\nQ 9.421875 -8.453125 9.421875 -0.984375 \r\nz\r\nM 9.421875 75.984375 \r\nL 18.40625 75.984375 \r\nL 18.40625 64.59375 \r\nL 9.421875 64.59375 \r\nz\r\n\" id=\"DejaVuSans-106\"/>\r\n     <path d=\"M 56.203125 29.59375 \r\nL 56.203125 25.203125 \r\nL 14.890625 25.203125 \r\nQ 15.484375 15.921875 20.484375 11.0625 \r\nQ 25.484375 6.203125 34.421875 6.203125 \r\nQ 39.59375 6.203125 44.453125 7.46875 \r\nQ 49.3125 8.734375 54.109375 11.28125 \r\nL 54.109375 2.78125 \r\nQ 49.265625 0.734375 44.1875 -0.34375 \r\nQ 39.109375 -1.421875 33.890625 -1.421875 \r\nQ 20.796875 -1.421875 13.15625 6.1875 \r\nQ 5.515625 13.8125 5.515625 26.8125 \r\nQ 5.515625 40.234375 12.765625 48.109375 \r\nQ 20.015625 56 32.328125 56 \r\nQ 43.359375 56 49.78125 48.890625 \r\nQ 56.203125 41.796875 56.203125 29.59375 \r\nz\r\nM 47.21875 32.234375 \r\nQ 47.125 39.59375 43.09375 43.984375 \r\nQ 39.0625 48.390625 32.421875 48.390625 \r\nQ 24.90625 48.390625 20.390625 44.140625 \r\nQ 15.875 39.890625 15.1875 32.171875 \r\nz\r\n\" id=\"DejaVuSans-101\"/>\r\n     <path d=\"M 48.78125 52.59375 \r\nL 48.78125 44.1875 \r\nQ 44.96875 46.296875 41.140625 47.34375 \r\nQ 37.3125 48.390625 33.40625 48.390625 \r\nQ 24.65625 48.390625 19.8125 42.84375 \r\nQ 14.984375 37.3125 14.984375 27.296875 \r\nQ 14.984375 17.28125 19.8125 11.734375 \r\nQ 24.65625 6.203125 33.40625 6.203125 \r\nQ 37.3125 6.203125 41.140625 7.25 \r\nQ 44.96875 8.296875 48.78125 10.40625 \r\nL 48.78125 2.09375 \r\nQ 45.015625 0.34375 40.984375 -0.53125 \r\nQ 36.96875 -1.421875 32.421875 -1.421875 \r\nQ 20.0625 -1.421875 12.78125 6.34375 \r\nQ 5.515625 14.109375 5.515625 27.296875 \r\nQ 5.515625 40.671875 12.859375 48.328125 \r\nQ 20.21875 56 33.015625 56 \r\nQ 37.15625 56 41.109375 55.140625 \r\nQ 45.0625 54.296875 48.78125 52.59375 \r\nz\r\n\" id=\"DejaVuSans-99\"/>\r\n     <path d=\"M 30.609375 48.390625 \r\nQ 23.390625 48.390625 19.1875 42.75 \r\nQ 14.984375 37.109375 14.984375 27.296875 \r\nQ 14.984375 17.484375 19.15625 11.84375 \r\nQ 23.34375 6.203125 30.609375 6.203125 \r\nQ 37.796875 6.203125 41.984375 11.859375 \r\nQ 46.1875 17.53125 46.1875 27.296875 \r\nQ 46.1875 37.015625 41.984375 42.703125 \r\nQ 37.796875 48.390625 30.609375 48.390625 \r\nz\r\nM 30.609375 56 \r\nQ 42.328125 56 49.015625 48.375 \r\nQ 55.71875 40.765625 55.71875 27.296875 \r\nQ 55.71875 13.875 49.015625 6.21875 \r\nQ 42.328125 -1.421875 30.609375 -1.421875 \r\nQ 18.84375 -1.421875 12.171875 6.21875 \r\nQ 5.515625 13.875 5.515625 27.296875 \r\nQ 5.515625 40.765625 12.171875 48.375 \r\nQ 18.84375 56 30.609375 56 \r\nz\r\n\" id=\"DejaVuSans-111\"/>\r\n     <path d=\"M 9.421875 54.6875 \r\nL 18.40625 54.6875 \r\nL 18.40625 0 \r\nL 9.421875 0 \r\nz\r\nM 9.421875 75.984375 \r\nL 18.40625 75.984375 \r\nL 18.40625 64.59375 \r\nL 9.421875 64.59375 \r\nz\r\n\" id=\"DejaVuSans-105\"/>\r\n     <path d=\"M 44.28125 53.078125 \r\nL 44.28125 44.578125 \r\nQ 40.484375 46.53125 36.375 47.5 \r\nQ 32.28125 48.484375 27.875 48.484375 \r\nQ 21.1875 48.484375 17.84375 46.4375 \r\nQ 14.5 44.390625 14.5 40.28125 \r\nQ 14.5 37.15625 16.890625 35.375 \r\nQ 19.28125 33.59375 26.515625 31.984375 \r\nL 29.59375 31.296875 \r\nQ 39.15625 29.25 43.1875 25.515625 \r\nQ 47.21875 21.78125 47.21875 15.09375 \r\nQ 47.21875 7.46875 41.1875 3.015625 \r\nQ 35.15625 -1.421875 24.609375 -1.421875 \r\nQ 20.21875 -1.421875 15.453125 -0.5625 \r\nQ 10.6875 0.296875 5.421875 2 \r\nL 5.421875 11.28125 \r\nQ 10.40625 8.6875 15.234375 7.390625 \r\nQ 20.0625 6.109375 24.8125 6.109375 \r\nQ 31.15625 6.109375 34.5625 8.28125 \r\nQ 37.984375 10.453125 37.984375 14.40625 \r\nQ 37.984375 18.0625 35.515625 20.015625 \r\nQ 33.0625 21.96875 24.703125 23.78125 \r\nL 21.578125 24.515625 \r\nQ 13.234375 26.265625 9.515625 29.90625 \r\nQ 5.8125 33.546875 5.8125 39.890625 \r\nQ 5.8125 47.609375 11.28125 51.796875 \r\nQ 16.75 56 26.8125 56 \r\nQ 31.78125 56 36.171875 55.265625 \r\nQ 40.578125 54.546875 44.28125 53.078125 \r\nz\r\n\" id=\"DejaVuSans-115\"/>\r\n    </defs>\r\n    <g transform=\"translate(171.755 16.318125)scale(0.12 -0.12)\">\r\n     <use xlink:href=\"#DejaVuSans-116\"/>\r\n     <use x=\"39.208984\" xlink:href=\"#DejaVuSans-114\"/>\r\n     <use x=\"80.322266\" xlink:href=\"#DejaVuSans-97\"/>\r\n     <use x=\"141.601562\" xlink:href=\"#DejaVuSans-106\"/>\r\n     <use x=\"169.384766\" xlink:href=\"#DejaVuSans-101\"/>\r\n     <use x=\"230.908203\" xlink:href=\"#DejaVuSans-99\"/>\r\n     <use x=\"285.888672\" xlink:href=\"#DejaVuSans-116\"/>\r\n     <use x=\"325.097656\" xlink:href=\"#DejaVuSans-111\"/>\r\n     <use x=\"386.279297\" xlink:href=\"#DejaVuSans-114\"/>\r\n     <use x=\"427.392578\" xlink:href=\"#DejaVuSans-105\"/>\r\n     <use x=\"455.175781\" xlink:href=\"#DejaVuSans-101\"/>\r\n     <use x=\"516.699219\" xlink:href=\"#DejaVuSans-115\"/>\r\n    </g>\r\n   </g>\r\n   <g id=\"legend_1\">\r\n    <g id=\"patch_7\">\r\n     <path d=\"M 284.214063 89.030625 \r\nL 366.282812 89.030625 \r\nQ 368.282812 89.030625 368.282812 87.030625 \r\nL 368.282812 29.318125 \r\nQ 368.282812 27.318125 366.282812 27.318125 \r\nL 284.214063 27.318125 \r\nQ 282.214063 27.318125 282.214063 29.318125 \r\nL 282.214063 87.030625 \r\nQ 282.214063 89.030625 284.214063 89.030625 \r\nz\r\n\" style=\"fill:#ffffff;opacity:0.8;stroke:#cccccc;stroke-linejoin:miter;\"/>\r\n    </g>\r\n    <g id=\"PathCollection_5\">\r\n     <g>\r\n      <use style=\"fill:#ff0000;stroke:#ff0000;\" x=\"296.214063\" xlink:href=\"#md610b80ad6\" y=\"36.291562\"/>\r\n     </g>\r\n    </g>\r\n    <g id=\"text_14\">\r\n     <!-- Prediction -->\r\n     <defs>\r\n      <path d=\"M 19.671875 64.796875 \r\nL 19.671875 37.40625 \r\nL 32.078125 37.40625 \r\nQ 38.96875 37.40625 42.71875 40.96875 \r\nQ 46.484375 44.53125 46.484375 51.125 \r\nQ 46.484375 57.671875 42.71875 61.234375 \r\nQ 38.96875 64.796875 32.078125 64.796875 \r\nz\r\nM 9.8125 72.90625 \r\nL 32.078125 72.90625 \r\nQ 44.34375 72.90625 50.609375 67.359375 \r\nQ 56.890625 61.8125 56.890625 51.125 \r\nQ 56.890625 40.328125 50.609375 34.8125 \r\nQ 44.34375 29.296875 32.078125 29.296875 \r\nL 19.671875 29.296875 \r\nL 19.671875 0 \r\nL 9.8125 0 \r\nz\r\n\" id=\"DejaVuSans-80\"/>\r\n      <path d=\"M 45.40625 46.390625 \r\nL 45.40625 75.984375 \r\nL 54.390625 75.984375 \r\nL 54.390625 0 \r\nL 45.40625 0 \r\nL 45.40625 8.203125 \r\nQ 42.578125 3.328125 38.25 0.953125 \r\nQ 33.9375 -1.421875 27.875 -1.421875 \r\nQ 17.96875 -1.421875 11.734375 6.484375 \r\nQ 5.515625 14.40625 5.515625 27.296875 \r\nQ 5.515625 40.1875 11.734375 48.09375 \r\nQ 17.96875 56 27.875 56 \r\nQ 33.9375 56 38.25 53.625 \r\nQ 42.578125 51.265625 45.40625 46.390625 \r\nz\r\nM 14.796875 27.296875 \r\nQ 14.796875 17.390625 18.875 11.75 \r\nQ 22.953125 6.109375 30.078125 6.109375 \r\nQ 37.203125 6.109375 41.296875 11.75 \r\nQ 45.40625 17.390625 45.40625 27.296875 \r\nQ 45.40625 37.203125 41.296875 42.84375 \r\nQ 37.203125 48.484375 30.078125 48.484375 \r\nQ 22.953125 48.484375 18.875 42.84375 \r\nQ 14.796875 37.203125 14.796875 27.296875 \r\nz\r\n\" id=\"DejaVuSans-100\"/>\r\n      <path d=\"M 54.890625 33.015625 \r\nL 54.890625 0 \r\nL 45.90625 0 \r\nL 45.90625 32.71875 \r\nQ 45.90625 40.484375 42.875 44.328125 \r\nQ 39.84375 48.1875 33.796875 48.1875 \r\nQ 26.515625 48.1875 22.3125 43.546875 \r\nQ 18.109375 38.921875 18.109375 30.90625 \r\nL 18.109375 0 \r\nL 9.078125 0 \r\nL 9.078125 54.6875 \r\nL 18.109375 54.6875 \r\nL 18.109375 46.1875 \r\nQ 21.34375 51.125 25.703125 53.5625 \r\nQ 30.078125 56 35.796875 56 \r\nQ 45.21875 56 50.046875 50.171875 \r\nQ 54.890625 44.34375 54.890625 33.015625 \r\nz\r\n\" id=\"DejaVuSans-110\"/>\r\n     </defs>\r\n     <g transform=\"translate(314.214063 38.916562)scale(0.1 -0.1)\">\r\n      <use xlink:href=\"#DejaVuSans-80\"/>\r\n      <use x=\"60.287109\" xlink:href=\"#DejaVuSans-114\"/>\r\n      <use x=\"101.369141\" xlink:href=\"#DejaVuSans-101\"/>\r\n      <use x=\"162.892578\" xlink:href=\"#DejaVuSans-100\"/>\r\n      <use x=\"226.369141\" xlink:href=\"#DejaVuSans-105\"/>\r\n      <use x=\"254.152344\" xlink:href=\"#DejaVuSans-99\"/>\r\n      <use x=\"309.132812\" xlink:href=\"#DejaVuSans-116\"/>\r\n      <use x=\"348.341797\" xlink:href=\"#DejaVuSans-105\"/>\r\n      <use x=\"376.125\" xlink:href=\"#DejaVuSans-111\"/>\r\n      <use x=\"437.306641\" xlink:href=\"#DejaVuSans-110\"/>\r\n     </g>\r\n    </g>\r\n    <g id=\"PathCollection_6\">\r\n     <g>\r\n      <use style=\"fill:#0000ff;stroke:#0000ff;\" x=\"296.214063\" xlink:href=\"#m030d4fa181\" y=\"50.969687\"/>\r\n     </g>\r\n    </g>\r\n    <g id=\"text_15\">\r\n     <!-- Real -->\r\n     <defs>\r\n      <path d=\"M 44.390625 34.1875 \r\nQ 47.5625 33.109375 50.5625 29.59375 \r\nQ 53.5625 26.078125 56.59375 19.921875 \r\nL 66.609375 0 \r\nL 56 0 \r\nL 46.6875 18.703125 \r\nQ 43.0625 26.03125 39.671875 28.421875 \r\nQ 36.28125 30.8125 30.421875 30.8125 \r\nL 19.671875 30.8125 \r\nL 19.671875 0 \r\nL 9.8125 0 \r\nL 9.8125 72.90625 \r\nL 32.078125 72.90625 \r\nQ 44.578125 72.90625 50.734375 67.671875 \r\nQ 56.890625 62.453125 56.890625 51.90625 \r\nQ 56.890625 45.015625 53.6875 40.46875 \r\nQ 50.484375 35.9375 44.390625 34.1875 \r\nz\r\nM 19.671875 64.796875 \r\nL 19.671875 38.921875 \r\nL 32.078125 38.921875 \r\nQ 39.203125 38.921875 42.84375 42.21875 \r\nQ 46.484375 45.515625 46.484375 51.90625 \r\nQ 46.484375 58.296875 42.84375 61.546875 \r\nQ 39.203125 64.796875 32.078125 64.796875 \r\nz\r\n\" id=\"DejaVuSans-82\"/>\r\n      <path d=\"M 9.421875 75.984375 \r\nL 18.40625 75.984375 \r\nL 18.40625 0 \r\nL 9.421875 0 \r\nz\r\n\" id=\"DejaVuSans-108\"/>\r\n     </defs>\r\n     <g transform=\"translate(314.214063 53.594687)scale(0.1 -0.1)\">\r\n      <use xlink:href=\"#DejaVuSans-82\"/>\r\n      <use x=\"69.419922\" xlink:href=\"#DejaVuSans-101\"/>\r\n      <use x=\"130.943359\" xlink:href=\"#DejaVuSans-97\"/>\r\n      <use x=\"192.222656\" xlink:href=\"#DejaVuSans-108\"/>\r\n     </g>\r\n    </g>\r\n    <g id=\"PathCollection_7\">\r\n     <g>\r\n      <use style=\"fill:#008000;stroke:#008000;\" x=\"296.214063\" xlink:href=\"#mc4089bc84f\" y=\"65.647812\"/>\r\n     </g>\r\n    </g>\r\n    <g id=\"text_16\">\r\n     <!-- Target -->\r\n     <defs>\r\n      <path d=\"M -0.296875 72.90625 \r\nL 61.375 72.90625 \r\nL 61.375 64.59375 \r\nL 35.5 64.59375 \r\nL 35.5 0 \r\nL 25.59375 0 \r\nL 25.59375 64.59375 \r\nL -0.296875 64.59375 \r\nz\r\n\" id=\"DejaVuSans-84\"/>\r\n      <path d=\"M 45.40625 27.984375 \r\nQ 45.40625 37.75 41.375 43.109375 \r\nQ 37.359375 48.484375 30.078125 48.484375 \r\nQ 22.859375 48.484375 18.828125 43.109375 \r\nQ 14.796875 37.75 14.796875 27.984375 \r\nQ 14.796875 18.265625 18.828125 12.890625 \r\nQ 22.859375 7.515625 30.078125 7.515625 \r\nQ 37.359375 7.515625 41.375 12.890625 \r\nQ 45.40625 18.265625 45.40625 27.984375 \r\nz\r\nM 54.390625 6.78125 \r\nQ 54.390625 -7.171875 48.1875 -13.984375 \r\nQ 42 -20.796875 29.203125 -20.796875 \r\nQ 24.46875 -20.796875 20.265625 -20.09375 \r\nQ 16.0625 -19.390625 12.109375 -17.921875 \r\nL 12.109375 -9.1875 \r\nQ 16.0625 -11.328125 19.921875 -12.34375 \r\nQ 23.78125 -13.375 27.78125 -13.375 \r\nQ 36.625 -13.375 41.015625 -8.765625 \r\nQ 45.40625 -4.15625 45.40625 5.171875 \r\nL 45.40625 9.625 \r\nQ 42.625 4.78125 38.28125 2.390625 \r\nQ 33.9375 0 27.875 0 \r\nQ 17.828125 0 11.671875 7.65625 \r\nQ 5.515625 15.328125 5.515625 27.984375 \r\nQ 5.515625 40.671875 11.671875 48.328125 \r\nQ 17.828125 56 27.875 56 \r\nQ 33.9375 56 38.28125 53.609375 \r\nQ 42.625 51.21875 45.40625 46.390625 \r\nL 45.40625 54.6875 \r\nL 54.390625 54.6875 \r\nz\r\n\" id=\"DejaVuSans-103\"/>\r\n     </defs>\r\n     <g transform=\"translate(314.214063 68.272812)scale(0.1 -0.1)\">\r\n      <use xlink:href=\"#DejaVuSans-84\"/>\r\n      <use x=\"60.833984\" xlink:href=\"#DejaVuSans-97\"/>\r\n      <use x=\"122.113281\" xlink:href=\"#DejaVuSans-114\"/>\r\n      <use x=\"163.210938\" xlink:href=\"#DejaVuSans-103\"/>\r\n      <use x=\"226.6875\" xlink:href=\"#DejaVuSans-101\"/>\r\n      <use x=\"288.210938\" xlink:href=\"#DejaVuSans-116\"/>\r\n     </g>\r\n    </g>\r\n    <g id=\"PathCollection_8\">\r\n     <g>\r\n      <use style=\"fill:#bfbf00;stroke:#bfbf00;\" x=\"296.214063\" xlink:href=\"#ma1d67f7d7d\" y=\"80.325938\"/>\r\n     </g>\r\n    </g>\r\n    <g id=\"text_17\">\r\n     <!-- start -->\r\n     <g transform=\"translate(314.214063 82.950938)scale(0.1 -0.1)\">\r\n      <use xlink:href=\"#DejaVuSans-115\"/>\r\n      <use x=\"52.099609\" xlink:href=\"#DejaVuSans-116\"/>\r\n      <use x=\"91.308594\" xlink:href=\"#DejaVuSans-97\"/>\r\n      <use x=\"152.587891\" xlink:href=\"#DejaVuSans-114\"/>\r\n      <use x=\"193.701172\" xlink:href=\"#DejaVuSans-116\"/>\r\n     </g>\r\n    </g>\r\n   </g>\r\n  </g>\r\n </g>\r\n <defs>\r\n  <clipPath id=\"pf82e82ee7f\">\r\n   <rect height=\"217.44\" width=\"334.8\" x=\"38.482813\" y=\"22.318125\"/>\r\n  </clipPath>\r\n </defs>\r\n</svg>\r\n",
      "image/png": "[encoded data removed]"
     },
     "metadata": {
      "needs_background": "light"
     }
    }
   ],
   "source": [
    "plt.figure()\n",
    "S_Trajectory_prediction = single_step_sequential_model.predict(x_val_single_sequential)[:,:,0:2]\n",
    "\n",
    "t_number = 10\n",
    "\n",
    "plt.scatter(S_Trajectory_prediction[t_number][:,0], S_Trajectory_prediction[t_number][:,1], c='r', label='Prediction')\n",
    "plt.scatter(y_val_single_sequential[t_number][:,0], y_val_single_sequential[t_number][:,1], c='b', label='Real')\n",
    "plt.scatter(ZT_norm[0],ZT_norm[1], c='g', label='Target')\n",
    "plt.scatter(x_val_single_sequential[t_number][0,0], x_val_single_sequential[t_number][0,1], c='y', label='start')\n",
    "plt.title(\"trajectories\")\n",
    "plt.legend()\n",
    "\n",
    "plt.show()"
   ]
  },
  {
   "source": [
    "## Decoder Mode"
   ],
   "cell_type": "markdown",
   "metadata": {}
  },
  {
   "cell_type": "code",
   "execution_count": 56,
   "metadata": {},
   "outputs": [
    {
     "output_type": "stream",
     "name": "stdout",
     "text": [
      "1.4749993369726768\n"
     ]
    },
    {
     "output_type": "display_data",
     "data": {
      "text/plain": "<Figure size 432x288 with 1 Axes>",
      "image/svg+xml": "<?xml version=\"1.0\" encoding=\"utf-8\" standalone=\"no\"?>\r\n<!DOCTYPE svg PUBLIC \"-//W3C//DTD SVG 1.1//EN\"\r\n  \"http://www.w3.org/Graphics/SVG/1.1/DTD/svg11.dtd\">\r\n<!-- Created with matplotlib (https://matplotlib.org/) -->\r\n<svg height=\"263.63625pt\" version=\"1.1\" viewBox=\"0 0 377.304687 263.63625\" width=\"377.304687pt\" xmlns=\"http://www.w3.org/2000/svg\" xmlns:xlink=\"http://www.w3.org/1999/xlink\">\r\n <defs>\r\n  <style type=\"text/css\">\r\n*{stroke-linecap:butt;stroke-linejoin:round;}\r\n  </style>\r\n </defs>\r\n <g id=\"figure_1\">\r\n  <g id=\"patch_1\">\r\n   <path d=\"M 0 263.63625 \r\nL 377.304687 263.63625 \r\nL 377.304687 0 \r\nL 0 0 \r\nz\r\n\" style=\"fill:none;\"/>\r\n  </g>\r\n  <g id=\"axes_1\">\r\n   <g id=\"patch_2\">\r\n    <path d=\"M 35.304688 239.758125 \r\nL 370.104688 239.758125 \r\nL 370.104688 22.318125 \r\nL 35.304688 22.318125 \r\nz\r\n\" style=\"fill:#ffffff;\"/>\r\n   </g>\r\n   <g id=\"PathCollection_1\">\r\n    <defs>\r\n     <path d=\"M 0 3 \r\nC 0.795609 3 1.55874 2.683901 2.12132 2.12132 \r\nC 2.683901 1.55874 3 0.795609 3 0 \r\nC 3 -0.795609 2.683901 -1.55874 2.12132 -2.12132 \r\nC 1.55874 -2.683901 0.795609 -3 0 -3 \r\nC -0.795609 -3 -1.55874 -2.683901 -2.12132 -2.12132 \r\nC -2.683901 -1.55874 -3 -0.795609 -3 0 \r\nC -3 0.795609 -2.683901 1.55874 -2.12132 2.12132 \r\nC -1.55874 2.683901 -0.795609 3 0 3 \r\nz\r\n\" id=\"m1007ea07a6\" style=\"stroke:#ff0000;\"/>\r\n    </defs>\r\n    <g clip-path=\"url(#pad442c5a97)\">\r\n     <use style=\"fill:#ff0000;stroke:#ff0000;\" x=\"341.117052\" xlink:href=\"#m1007ea07a6\" y=\"224.396173\"/>\r\n     <use style=\"fill:#ff0000;stroke:#ff0000;\" x=\"311.377993\" xlink:href=\"#m1007ea07a6\" y=\"193.162559\"/>\r\n     <use style=\"fill:#ff0000;stroke:#ff0000;\" x=\"254.232772\" xlink:href=\"#m1007ea07a6\" y=\"141.388915\"/>\r\n     <use style=\"fill:#ff0000;stroke:#ff0000;\" x=\"201.502623\" xlink:href=\"#m1007ea07a6\" y=\"90.712279\"/>\r\n     <use style=\"fill:#ff0000;stroke:#ff0000;\" x=\"137.103268\" xlink:href=\"#m1007ea07a6\" y=\"51.036234\"/>\r\n     <use style=\"fill:#ff0000;stroke:#ff0000;\" x=\"74.26177\" xlink:href=\"#m1007ea07a6\" y=\"32.747506\"/>\r\n     <use style=\"fill:#ff0000;stroke:#ff0000;\" x=\"53.387292\" xlink:href=\"#m1007ea07a6\" y=\"40.347886\"/>\r\n    </g>\r\n   </g>\r\n   <g id=\"PathCollection_2\">\r\n    <defs>\r\n     <path d=\"M 0 3 \r\nC 0.795609 3 1.55874 2.683901 2.12132 2.12132 \r\nC 2.683901 1.55874 3 0.795609 3 0 \r\nC 3 -0.795609 2.683901 -1.55874 2.12132 -2.12132 \r\nC 1.55874 -2.683901 0.795609 -3 0 -3 \r\nC -0.795609 -3 -1.55874 -2.683901 -2.12132 -2.12132 \r\nC -2.683901 -1.55874 -3 -0.795609 -3 0 \r\nC -3 0.795609 -2.683901 1.55874 -2.12132 2.12132 \r\nC -1.55874 2.683901 -0.795609 3 0 3 \r\nz\r\n\" id=\"m77886ad1fb\" style=\"stroke:#0000ff;\"/>\r\n    </defs>\r\n    <g clip-path=\"url(#pad442c5a97)\">\r\n     <use style=\"fill:#0000ff;stroke:#0000ff;\" x=\"330.054929\" xlink:href=\"#m77886ad1fb\" y=\"218.227821\"/>\r\n     <use style=\"fill:#0000ff;stroke:#0000ff;\" x=\"300.742701\" xlink:href=\"#m77886ad1fb\" y=\"193.588622\"/>\r\n     <use style=\"fill:#0000ff;stroke:#0000ff;\" x=\"261.451588\" xlink:href=\"#m77886ad1fb\" y=\"135.981212\"/>\r\n     <use style=\"fill:#0000ff;stroke:#0000ff;\" x=\"203.95087\" xlink:href=\"#m77886ad1fb\" y=\"80.674478\"/>\r\n     <use style=\"fill:#0000ff;stroke:#0000ff;\" x=\"140.90324\" xlink:href=\"#m77886ad1fb\" y=\"49.135181\"/>\r\n     <use style=\"fill:#0000ff;stroke:#0000ff;\" x=\"79.432156\" xlink:href=\"#m77886ad1fb\" y=\"35.113819\"/>\r\n     <use style=\"fill:#0000ff;stroke:#0000ff;\" x=\"53.402466\" xlink:href=\"#m77886ad1fb\" y=\"54.432827\"/>\r\n     <use style=\"fill:#0000ff;stroke:#0000ff;\" x=\"53.387292\" xlink:href=\"#m77886ad1fb\" y=\"62.01375\"/>\r\n     <use style=\"fill:#0000ff;stroke:#0000ff;\" x=\"53.387292\" xlink:href=\"#m77886ad1fb\" y=\"62.01375\"/>\r\n     <use style=\"fill:#0000ff;stroke:#0000ff;\" x=\"53.387292\" xlink:href=\"#m77886ad1fb\" y=\"62.01375\"/>\r\n    </g>\r\n   </g>\r\n   <g id=\"PathCollection_3\">\r\n    <defs>\r\n     <path d=\"M 0 3 \r\nC 0.795609 3 1.55874 2.683901 2.12132 2.12132 \r\nC 2.683901 1.55874 3 0.795609 3 0 \r\nC 3 -0.795609 2.683901 -1.55874 2.12132 -2.12132 \r\nC 1.55874 -2.683901 0.795609 -3 0 -3 \r\nC -0.795609 -3 -1.55874 -2.683901 -2.12132 -2.12132 \r\nC -2.683901 -1.55874 -3 -0.795609 -3 0 \r\nC -3 0.795609 -2.683901 1.55874 -2.12132 2.12132 \r\nC -1.55874 2.683901 -0.795609 3 0 3 \r\nz\r\n\" id=\"m3587ba0aa6\" style=\"stroke:#008000;\"/>\r\n    </defs>\r\n    <g clip-path=\"url(#pad442c5a97)\">\r\n     <use style=\"fill:#008000;stroke:#008000;\" x=\"53.387292\" xlink:href=\"#m3587ba0aa6\" y=\"62.01375\"/>\r\n    </g>\r\n   </g>\r\n   <g id=\"PathCollection_4\">\r\n    <defs>\r\n     <path d=\"M 0 3 \r\nC 0.795609 3 1.55874 2.683901 2.12132 2.12132 \r\nC 2.683901 1.55874 3 0.795609 3 0 \r\nC 3 -0.795609 2.683901 -1.55874 2.12132 -2.12132 \r\nC 1.55874 -2.683901 0.795609 -3 0 -3 \r\nC -0.795609 -3 -1.55874 -2.683901 -2.12132 -2.12132 \r\nC -2.683901 -1.55874 -3 -0.795609 -3 0 \r\nC -3 0.795609 -2.683901 1.55874 -2.12132 2.12132 \r\nC -1.55874 2.683901 -0.795609 3 0 3 \r\nz\r\n\" id=\"mfd6dda9629\" style=\"stroke:#bfbf00;\"/>\r\n    </defs>\r\n    <g clip-path=\"url(#pad442c5a97)\">\r\n     <use style=\"fill:#bfbf00;stroke:#bfbf00;\" x=\"352.021812\" xlink:href=\"#mfd6dda9629\" y=\"226.955889\"/>\r\n    </g>\r\n   </g>\r\n   <g id=\"matplotlib.axis_1\">\r\n    <g id=\"xtick_1\">\r\n     <g id=\"line2d_1\">\r\n      <defs>\r\n       <path d=\"M 0 0 \r\nL 0 3.5 \r\n\" id=\"me2a2da65bc\" style=\"stroke:#000000;stroke-width:0.8;\"/>\r\n      </defs>\r\n      <g>\r\n       <use style=\"stroke:#000000;stroke-width:0.8;\" x=\"53.387292\" xlink:href=\"#me2a2da65bc\" y=\"239.758125\"/>\r\n      </g>\r\n     </g>\r\n     <g id=\"text_1\">\r\n      <!-- 0 -->\r\n      <defs>\r\n       <path d=\"M 31.78125 66.40625 \r\nQ 24.171875 66.40625 20.328125 58.90625 \r\nQ 16.5 51.421875 16.5 36.375 \r\nQ 16.5 21.390625 20.328125 13.890625 \r\nQ 24.171875 6.390625 31.78125 6.390625 \r\nQ 39.453125 6.390625 43.28125 13.890625 \r\nQ 47.125 21.390625 47.125 36.375 \r\nQ 47.125 51.421875 43.28125 58.90625 \r\nQ 39.453125 66.40625 31.78125 66.40625 \r\nz\r\nM 31.78125 74.21875 \r\nQ 44.046875 74.21875 50.515625 64.515625 \r\nQ 56.984375 54.828125 56.984375 36.375 \r\nQ 56.984375 17.96875 50.515625 8.265625 \r\nQ 44.046875 -1.421875 31.78125 -1.421875 \r\nQ 19.53125 -1.421875 13.0625 8.265625 \r\nQ 6.59375 17.96875 6.59375 36.375 \r\nQ 6.59375 54.828125 13.0625 64.515625 \r\nQ 19.53125 74.21875 31.78125 74.21875 \r\nz\r\n\" id=\"DejaVuSans-48\"/>\r\n      </defs>\r\n      <g transform=\"translate(50.206042 254.356563)scale(0.1 -0.1)\">\r\n       <use xlink:href=\"#DejaVuSans-48\"/>\r\n      </g>\r\n     </g>\r\n    </g>\r\n    <g id=\"xtick_2\">\r\n     <g id=\"line2d_2\">\r\n      <g>\r\n       <use style=\"stroke:#000000;stroke-width:0.8;\" x=\"100.291261\" xlink:href=\"#me2a2da65bc\" y=\"239.758125\"/>\r\n      </g>\r\n     </g>\r\n     <g id=\"text_2\">\r\n      <!-- 10 -->\r\n      <defs>\r\n       <path d=\"M 12.40625 8.296875 \r\nL 28.515625 8.296875 \r\nL 28.515625 63.921875 \r\nL 10.984375 60.40625 \r\nL 10.984375 69.390625 \r\nL 28.421875 72.90625 \r\nL 38.28125 72.90625 \r\nL 38.28125 8.296875 \r\nL 54.390625 8.296875 \r\nL 54.390625 0 \r\nL 12.40625 0 \r\nz\r\n\" id=\"DejaVuSans-49\"/>\r\n      </defs>\r\n      <g transform=\"translate(93.928761 254.356563)scale(0.1 -0.1)\">\r\n       <use xlink:href=\"#DejaVuSans-49\"/>\r\n       <use x=\"63.623047\" xlink:href=\"#DejaVuSans-48\"/>\r\n      </g>\r\n     </g>\r\n    </g>\r\n    <g id=\"xtick_3\">\r\n     <g id=\"line2d_3\">\r\n      <g>\r\n       <use style=\"stroke:#000000;stroke-width:0.8;\" x=\"147.19523\" xlink:href=\"#me2a2da65bc\" y=\"239.758125\"/>\r\n      </g>\r\n     </g>\r\n     <g id=\"text_3\">\r\n      <!-- 20 -->\r\n      <defs>\r\n       <path d=\"M 19.1875 8.296875 \r\nL 53.609375 8.296875 \r\nL 53.609375 0 \r\nL 7.328125 0 \r\nL 7.328125 8.296875 \r\nQ 12.9375 14.109375 22.625 23.890625 \r\nQ 32.328125 33.6875 34.8125 36.53125 \r\nQ 39.546875 41.84375 41.421875 45.53125 \r\nQ 43.3125 49.21875 43.3125 52.78125 \r\nQ 43.3125 58.59375 39.234375 62.25 \r\nQ 35.15625 65.921875 28.609375 65.921875 \r\nQ 23.96875 65.921875 18.8125 64.3125 \r\nQ 13.671875 62.703125 7.8125 59.421875 \r\nL 7.8125 69.390625 \r\nQ 13.765625 71.78125 18.9375 73 \r\nQ 24.125 74.21875 28.421875 74.21875 \r\nQ 39.75 74.21875 46.484375 68.546875 \r\nQ 53.21875 62.890625 53.21875 53.421875 \r\nQ 53.21875 48.921875 51.53125 44.890625 \r\nQ 49.859375 40.875 45.40625 35.40625 \r\nQ 44.1875 33.984375 37.640625 27.21875 \r\nQ 31.109375 20.453125 19.1875 8.296875 \r\nz\r\n\" id=\"DejaVuSans-50\"/>\r\n      </defs>\r\n      <g transform=\"translate(140.83273 254.356563)scale(0.1 -0.1)\">\r\n       <use xlink:href=\"#DejaVuSans-50\"/>\r\n       <use x=\"63.623047\" xlink:href=\"#DejaVuSans-48\"/>\r\n      </g>\r\n     </g>\r\n    </g>\r\n    <g id=\"xtick_4\">\r\n     <g id=\"line2d_4\">\r\n      <g>\r\n       <use style=\"stroke:#000000;stroke-width:0.8;\" x=\"194.099199\" xlink:href=\"#me2a2da65bc\" y=\"239.758125\"/>\r\n      </g>\r\n     </g>\r\n     <g id=\"text_4\">\r\n      <!-- 30 -->\r\n      <defs>\r\n       <path d=\"M 40.578125 39.3125 \r\nQ 47.65625 37.796875 51.625 33 \r\nQ 55.609375 28.21875 55.609375 21.1875 \r\nQ 55.609375 10.40625 48.1875 4.484375 \r\nQ 40.765625 -1.421875 27.09375 -1.421875 \r\nQ 22.515625 -1.421875 17.65625 -0.515625 \r\nQ 12.796875 0.390625 7.625 2.203125 \r\nL 7.625 11.71875 \r\nQ 11.71875 9.328125 16.59375 8.109375 \r\nQ 21.484375 6.890625 26.8125 6.890625 \r\nQ 36.078125 6.890625 40.9375 10.546875 \r\nQ 45.796875 14.203125 45.796875 21.1875 \r\nQ 45.796875 27.640625 41.28125 31.265625 \r\nQ 36.765625 34.90625 28.71875 34.90625 \r\nL 20.21875 34.90625 \r\nL 20.21875 43.015625 \r\nL 29.109375 43.015625 \r\nQ 36.375 43.015625 40.234375 45.921875 \r\nQ 44.09375 48.828125 44.09375 54.296875 \r\nQ 44.09375 59.90625 40.109375 62.90625 \r\nQ 36.140625 65.921875 28.71875 65.921875 \r\nQ 24.65625 65.921875 20.015625 65.03125 \r\nQ 15.375 64.15625 9.8125 62.3125 \r\nL 9.8125 71.09375 \r\nQ 15.4375 72.65625 20.34375 73.4375 \r\nQ 25.25 74.21875 29.59375 74.21875 \r\nQ 40.828125 74.21875 47.359375 69.109375 \r\nQ 53.90625 64.015625 53.90625 55.328125 \r\nQ 53.90625 49.265625 50.4375 45.09375 \r\nQ 46.96875 40.921875 40.578125 39.3125 \r\nz\r\n\" id=\"DejaVuSans-51\"/>\r\n      </defs>\r\n      <g transform=\"translate(187.736699 254.356563)scale(0.1 -0.1)\">\r\n       <use xlink:href=\"#DejaVuSans-51\"/>\r\n       <use x=\"63.623047\" xlink:href=\"#DejaVuSans-48\"/>\r\n      </g>\r\n     </g>\r\n    </g>\r\n    <g id=\"xtick_5\">\r\n     <g id=\"line2d_5\">\r\n      <g>\r\n       <use style=\"stroke:#000000;stroke-width:0.8;\" x=\"241.003168\" xlink:href=\"#me2a2da65bc\" y=\"239.758125\"/>\r\n      </g>\r\n     </g>\r\n     <g id=\"text_5\">\r\n      <!-- 40 -->\r\n      <defs>\r\n       <path d=\"M 37.796875 64.3125 \r\nL 12.890625 25.390625 \r\nL 37.796875 25.390625 \r\nz\r\nM 35.203125 72.90625 \r\nL 47.609375 72.90625 \r\nL 47.609375 25.390625 \r\nL 58.015625 25.390625 \r\nL 58.015625 17.1875 \r\nL 47.609375 17.1875 \r\nL 47.609375 0 \r\nL 37.796875 0 \r\nL 37.796875 17.1875 \r\nL 4.890625 17.1875 \r\nL 4.890625 26.703125 \r\nz\r\n\" id=\"DejaVuSans-52\"/>\r\n      </defs>\r\n      <g transform=\"translate(234.640668 254.356563)scale(0.1 -0.1)\">\r\n       <use xlink:href=\"#DejaVuSans-52\"/>\r\n       <use x=\"63.623047\" xlink:href=\"#DejaVuSans-48\"/>\r\n      </g>\r\n     </g>\r\n    </g>\r\n    <g id=\"xtick_6\">\r\n     <g id=\"line2d_6\">\r\n      <g>\r\n       <use style=\"stroke:#000000;stroke-width:0.8;\" x=\"287.907137\" xlink:href=\"#me2a2da65bc\" y=\"239.758125\"/>\r\n      </g>\r\n     </g>\r\n     <g id=\"text_6\">\r\n      <!-- 50 -->\r\n      <defs>\r\n       <path d=\"M 10.796875 72.90625 \r\nL 49.515625 72.90625 \r\nL 49.515625 64.59375 \r\nL 19.828125 64.59375 \r\nL 19.828125 46.734375 \r\nQ 21.96875 47.46875 24.109375 47.828125 \r\nQ 26.265625 48.1875 28.421875 48.1875 \r\nQ 40.625 48.1875 47.75 41.5 \r\nQ 54.890625 34.8125 54.890625 23.390625 \r\nQ 54.890625 11.625 47.5625 5.09375 \r\nQ 40.234375 -1.421875 26.90625 -1.421875 \r\nQ 22.3125 -1.421875 17.546875 -0.640625 \r\nQ 12.796875 0.140625 7.71875 1.703125 \r\nL 7.71875 11.625 \r\nQ 12.109375 9.234375 16.796875 8.0625 \r\nQ 21.484375 6.890625 26.703125 6.890625 \r\nQ 35.15625 6.890625 40.078125 11.328125 \r\nQ 45.015625 15.765625 45.015625 23.390625 \r\nQ 45.015625 31 40.078125 35.4375 \r\nQ 35.15625 39.890625 26.703125 39.890625 \r\nQ 22.75 39.890625 18.8125 39.015625 \r\nQ 14.890625 38.140625 10.796875 36.28125 \r\nz\r\n\" id=\"DejaVuSans-53\"/>\r\n      </defs>\r\n      <g transform=\"translate(281.544637 254.356563)scale(0.1 -0.1)\">\r\n       <use xlink:href=\"#DejaVuSans-53\"/>\r\n       <use x=\"63.623047\" xlink:href=\"#DejaVuSans-48\"/>\r\n      </g>\r\n     </g>\r\n    </g>\r\n    <g id=\"xtick_7\">\r\n     <g id=\"line2d_7\">\r\n      <g>\r\n       <use style=\"stroke:#000000;stroke-width:0.8;\" x=\"334.811106\" xlink:href=\"#me2a2da65bc\" y=\"239.758125\"/>\r\n      </g>\r\n     </g>\r\n     <g id=\"text_7\">\r\n      <!-- 60 -->\r\n      <defs>\r\n       <path d=\"M 33.015625 40.375 \r\nQ 26.375 40.375 22.484375 35.828125 \r\nQ 18.609375 31.296875 18.609375 23.390625 \r\nQ 18.609375 15.53125 22.484375 10.953125 \r\nQ 26.375 6.390625 33.015625 6.390625 \r\nQ 39.65625 6.390625 43.53125 10.953125 \r\nQ 47.40625 15.53125 47.40625 23.390625 \r\nQ 47.40625 31.296875 43.53125 35.828125 \r\nQ 39.65625 40.375 33.015625 40.375 \r\nz\r\nM 52.59375 71.296875 \r\nL 52.59375 62.3125 \r\nQ 48.875 64.0625 45.09375 64.984375 \r\nQ 41.3125 65.921875 37.59375 65.921875 \r\nQ 27.828125 65.921875 22.671875 59.328125 \r\nQ 17.53125 52.734375 16.796875 39.40625 \r\nQ 19.671875 43.65625 24.015625 45.921875 \r\nQ 28.375 48.1875 33.59375 48.1875 \r\nQ 44.578125 48.1875 50.953125 41.515625 \r\nQ 57.328125 34.859375 57.328125 23.390625 \r\nQ 57.328125 12.15625 50.6875 5.359375 \r\nQ 44.046875 -1.421875 33.015625 -1.421875 \r\nQ 20.359375 -1.421875 13.671875 8.265625 \r\nQ 6.984375 17.96875 6.984375 36.375 \r\nQ 6.984375 53.65625 15.1875 63.9375 \r\nQ 23.390625 74.21875 37.203125 74.21875 \r\nQ 40.921875 74.21875 44.703125 73.484375 \r\nQ 48.484375 72.75 52.59375 71.296875 \r\nz\r\n\" id=\"DejaVuSans-54\"/>\r\n      </defs>\r\n      <g transform=\"translate(328.448606 254.356563)scale(0.1 -0.1)\">\r\n       <use xlink:href=\"#DejaVuSans-54\"/>\r\n       <use x=\"63.623047\" xlink:href=\"#DejaVuSans-48\"/>\r\n      </g>\r\n     </g>\r\n    </g>\r\n   </g>\r\n   <g id=\"matplotlib.axis_2\">\r\n    <g id=\"ytick_1\">\r\n     <g id=\"line2d_8\">\r\n      <defs>\r\n       <path d=\"M 0 0 \r\nL -3.5 0 \r\n\" id=\"mde0a764193\" style=\"stroke:#000000;stroke-width:0.8;\"/>\r\n      </defs>\r\n      <g>\r\n       <use style=\"stroke:#000000;stroke-width:0.8;\" x=\"35.304688\" xlink:href=\"#mde0a764193\" y=\"228.348189\"/>\r\n      </g>\r\n     </g>\r\n     <g id=\"text_8\">\r\n      <!-- −20 -->\r\n      <defs>\r\n       <path d=\"M 10.59375 35.5 \r\nL 73.1875 35.5 \r\nL 73.1875 27.203125 \r\nL 10.59375 27.203125 \r\nz\r\n\" id=\"DejaVuSans-8722\"/>\r\n      </defs>\r\n      <g transform=\"translate(7.2 232.147408)scale(0.1 -0.1)\">\r\n       <use xlink:href=\"#DejaVuSans-8722\"/>\r\n       <use x=\"83.789062\" xlink:href=\"#DejaVuSans-50\"/>\r\n       <use x=\"147.412109\" xlink:href=\"#DejaVuSans-48\"/>\r\n      </g>\r\n     </g>\r\n    </g>\r\n    <g id=\"ytick_2\">\r\n     <g id=\"line2d_9\">\r\n      <g>\r\n       <use style=\"stroke:#000000;stroke-width:0.8;\" x=\"35.304688\" xlink:href=\"#mde0a764193\" y=\"186.764579\"/>\r\n      </g>\r\n     </g>\r\n     <g id=\"text_9\">\r\n      <!-- −15 -->\r\n      <g transform=\"translate(7.2 190.563798)scale(0.1 -0.1)\">\r\n       <use xlink:href=\"#DejaVuSans-8722\"/>\r\n       <use x=\"83.789062\" xlink:href=\"#DejaVuSans-49\"/>\r\n       <use x=\"147.412109\" xlink:href=\"#DejaVuSans-53\"/>\r\n      </g>\r\n     </g>\r\n    </g>\r\n    <g id=\"ytick_3\">\r\n     <g id=\"line2d_10\">\r\n      <g>\r\n       <use style=\"stroke:#000000;stroke-width:0.8;\" x=\"35.304688\" xlink:href=\"#mde0a764193\" y=\"145.180969\"/>\r\n      </g>\r\n     </g>\r\n     <g id=\"text_10\">\r\n      <!-- −10 -->\r\n      <g transform=\"translate(7.2 148.980188)scale(0.1 -0.1)\">\r\n       <use xlink:href=\"#DejaVuSans-8722\"/>\r\n       <use x=\"83.789062\" xlink:href=\"#DejaVuSans-49\"/>\r\n       <use x=\"147.412109\" xlink:href=\"#DejaVuSans-48\"/>\r\n      </g>\r\n     </g>\r\n    </g>\r\n    <g id=\"ytick_4\">\r\n     <g id=\"line2d_11\">\r\n      <g>\r\n       <use style=\"stroke:#000000;stroke-width:0.8;\" x=\"35.304688\" xlink:href=\"#mde0a764193\" y=\"103.597359\"/>\r\n      </g>\r\n     </g>\r\n     <g id=\"text_11\">\r\n      <!-- −5 -->\r\n      <g transform=\"translate(13.5625 107.396578)scale(0.1 -0.1)\">\r\n       <use xlink:href=\"#DejaVuSans-8722\"/>\r\n       <use x=\"83.789062\" xlink:href=\"#DejaVuSans-53\"/>\r\n      </g>\r\n     </g>\r\n    </g>\r\n    <g id=\"ytick_5\">\r\n     <g id=\"line2d_12\">\r\n      <g>\r\n       <use style=\"stroke:#000000;stroke-width:0.8;\" x=\"35.304688\" xlink:href=\"#mde0a764193\" y=\"62.01375\"/>\r\n      </g>\r\n     </g>\r\n     <g id=\"text_12\">\r\n      <!-- 0 -->\r\n      <g transform=\"translate(21.942188 65.812968)scale(0.1 -0.1)\">\r\n       <use xlink:href=\"#DejaVuSans-48\"/>\r\n      </g>\r\n     </g>\r\n    </g>\r\n   </g>\r\n   <g id=\"patch_3\">\r\n    <path d=\"M 35.304688 239.758125 \r\nL 35.304688 22.318125 \r\n\" style=\"fill:none;stroke:#000000;stroke-linecap:square;stroke-linejoin:miter;stroke-width:0.8;\"/>\r\n   </g>\r\n   <g id=\"patch_4\">\r\n    <path d=\"M 370.104688 239.758125 \r\nL 370.104688 22.318125 \r\n\" style=\"fill:none;stroke:#000000;stroke-linecap:square;stroke-linejoin:miter;stroke-width:0.8;\"/>\r\n   </g>\r\n   <g id=\"patch_5\">\r\n    <path d=\"M 35.304688 239.758125 \r\nL 370.104688 239.758125 \r\n\" style=\"fill:none;stroke:#000000;stroke-linecap:square;stroke-linejoin:miter;stroke-width:0.8;\"/>\r\n   </g>\r\n   <g id=\"patch_6\">\r\n    <path d=\"M 35.304688 22.318125 \r\nL 370.104688 22.318125 \r\n\" style=\"fill:none;stroke:#000000;stroke-linecap:square;stroke-linejoin:miter;stroke-width:0.8;\"/>\r\n   </g>\r\n   <g id=\"text_13\">\r\n    <!-- trajectories -->\r\n    <defs>\r\n     <path d=\"M 18.3125 70.21875 \r\nL 18.3125 54.6875 \r\nL 36.8125 54.6875 \r\nL 36.8125 47.703125 \r\nL 18.3125 47.703125 \r\nL 18.3125 18.015625 \r\nQ 18.3125 11.328125 20.140625 9.421875 \r\nQ 21.96875 7.515625 27.59375 7.515625 \r\nL 36.8125 7.515625 \r\nL 36.8125 0 \r\nL 27.59375 0 \r\nQ 17.1875 0 13.234375 3.875 \r\nQ 9.28125 7.765625 9.28125 18.015625 \r\nL 9.28125 47.703125 \r\nL 2.6875 47.703125 \r\nL 2.6875 54.6875 \r\nL 9.28125 54.6875 \r\nL 9.28125 70.21875 \r\nz\r\n\" id=\"DejaVuSans-116\"/>\r\n     <path d=\"M 41.109375 46.296875 \r\nQ 39.59375 47.171875 37.8125 47.578125 \r\nQ 36.03125 48 33.890625 48 \r\nQ 26.265625 48 22.1875 43.046875 \r\nQ 18.109375 38.09375 18.109375 28.8125 \r\nL 18.109375 0 \r\nL 9.078125 0 \r\nL 9.078125 54.6875 \r\nL 18.109375 54.6875 \r\nL 18.109375 46.1875 \r\nQ 20.953125 51.171875 25.484375 53.578125 \r\nQ 30.03125 56 36.53125 56 \r\nQ 37.453125 56 38.578125 55.875 \r\nQ 39.703125 55.765625 41.0625 55.515625 \r\nz\r\n\" id=\"DejaVuSans-114\"/>\r\n     <path d=\"M 34.28125 27.484375 \r\nQ 23.390625 27.484375 19.1875 25 \r\nQ 14.984375 22.515625 14.984375 16.5 \r\nQ 14.984375 11.71875 18.140625 8.90625 \r\nQ 21.296875 6.109375 26.703125 6.109375 \r\nQ 34.1875 6.109375 38.703125 11.40625 \r\nQ 43.21875 16.703125 43.21875 25.484375 \r\nL 43.21875 27.484375 \r\nz\r\nM 52.203125 31.203125 \r\nL 52.203125 0 \r\nL 43.21875 0 \r\nL 43.21875 8.296875 \r\nQ 40.140625 3.328125 35.546875 0.953125 \r\nQ 30.953125 -1.421875 24.3125 -1.421875 \r\nQ 15.921875 -1.421875 10.953125 3.296875 \r\nQ 6 8.015625 6 15.921875 \r\nQ 6 25.140625 12.171875 29.828125 \r\nQ 18.359375 34.515625 30.609375 34.515625 \r\nL 43.21875 34.515625 \r\nL 43.21875 35.40625 \r\nQ 43.21875 41.609375 39.140625 45 \r\nQ 35.0625 48.390625 27.6875 48.390625 \r\nQ 23 48.390625 18.546875 47.265625 \r\nQ 14.109375 46.140625 10.015625 43.890625 \r\nL 10.015625 52.203125 \r\nQ 14.9375 54.109375 19.578125 55.046875 \r\nQ 24.21875 56 28.609375 56 \r\nQ 40.484375 56 46.34375 49.84375 \r\nQ 52.203125 43.703125 52.203125 31.203125 \r\nz\r\n\" id=\"DejaVuSans-97\"/>\r\n     <path d=\"M 9.421875 54.6875 \r\nL 18.40625 54.6875 \r\nL 18.40625 -0.984375 \r\nQ 18.40625 -11.421875 14.421875 -16.109375 \r\nQ 10.453125 -20.796875 1.609375 -20.796875 \r\nL -1.8125 -20.796875 \r\nL -1.8125 -13.1875 \r\nL 0.59375 -13.1875 \r\nQ 5.71875 -13.1875 7.5625 -10.8125 \r\nQ 9.421875 -8.453125 9.421875 -0.984375 \r\nz\r\nM 9.421875 75.984375 \r\nL 18.40625 75.984375 \r\nL 18.40625 64.59375 \r\nL 9.421875 64.59375 \r\nz\r\n\" id=\"DejaVuSans-106\"/>\r\n     <path d=\"M 56.203125 29.59375 \r\nL 56.203125 25.203125 \r\nL 14.890625 25.203125 \r\nQ 15.484375 15.921875 20.484375 11.0625 \r\nQ 25.484375 6.203125 34.421875 6.203125 \r\nQ 39.59375 6.203125 44.453125 7.46875 \r\nQ 49.3125 8.734375 54.109375 11.28125 \r\nL 54.109375 2.78125 \r\nQ 49.265625 0.734375 44.1875 -0.34375 \r\nQ 39.109375 -1.421875 33.890625 -1.421875 \r\nQ 20.796875 -1.421875 13.15625 6.1875 \r\nQ 5.515625 13.8125 5.515625 26.8125 \r\nQ 5.515625 40.234375 12.765625 48.109375 \r\nQ 20.015625 56 32.328125 56 \r\nQ 43.359375 56 49.78125 48.890625 \r\nQ 56.203125 41.796875 56.203125 29.59375 \r\nz\r\nM 47.21875 32.234375 \r\nQ 47.125 39.59375 43.09375 43.984375 \r\nQ 39.0625 48.390625 32.421875 48.390625 \r\nQ 24.90625 48.390625 20.390625 44.140625 \r\nQ 15.875 39.890625 15.1875 32.171875 \r\nz\r\n\" id=\"DejaVuSans-101\"/>\r\n     <path d=\"M 48.78125 52.59375 \r\nL 48.78125 44.1875 \r\nQ 44.96875 46.296875 41.140625 47.34375 \r\nQ 37.3125 48.390625 33.40625 48.390625 \r\nQ 24.65625 48.390625 19.8125 42.84375 \r\nQ 14.984375 37.3125 14.984375 27.296875 \r\nQ 14.984375 17.28125 19.8125 11.734375 \r\nQ 24.65625 6.203125 33.40625 6.203125 \r\nQ 37.3125 6.203125 41.140625 7.25 \r\nQ 44.96875 8.296875 48.78125 10.40625 \r\nL 48.78125 2.09375 \r\nQ 45.015625 0.34375 40.984375 -0.53125 \r\nQ 36.96875 -1.421875 32.421875 -1.421875 \r\nQ 20.0625 -1.421875 12.78125 6.34375 \r\nQ 5.515625 14.109375 5.515625 27.296875 \r\nQ 5.515625 40.671875 12.859375 48.328125 \r\nQ 20.21875 56 33.015625 56 \r\nQ 37.15625 56 41.109375 55.140625 \r\nQ 45.0625 54.296875 48.78125 52.59375 \r\nz\r\n\" id=\"DejaVuSans-99\"/>\r\n     <path d=\"M 30.609375 48.390625 \r\nQ 23.390625 48.390625 19.1875 42.75 \r\nQ 14.984375 37.109375 14.984375 27.296875 \r\nQ 14.984375 17.484375 19.15625 11.84375 \r\nQ 23.34375 6.203125 30.609375 6.203125 \r\nQ 37.796875 6.203125 41.984375 11.859375 \r\nQ 46.1875 17.53125 46.1875 27.296875 \r\nQ 46.1875 37.015625 41.984375 42.703125 \r\nQ 37.796875 48.390625 30.609375 48.390625 \r\nz\r\nM 30.609375 56 \r\nQ 42.328125 56 49.015625 48.375 \r\nQ 55.71875 40.765625 55.71875 27.296875 \r\nQ 55.71875 13.875 49.015625 6.21875 \r\nQ 42.328125 -1.421875 30.609375 -1.421875 \r\nQ 18.84375 -1.421875 12.171875 6.21875 \r\nQ 5.515625 13.875 5.515625 27.296875 \r\nQ 5.515625 40.765625 12.171875 48.375 \r\nQ 18.84375 56 30.609375 56 \r\nz\r\n\" id=\"DejaVuSans-111\"/>\r\n     <path d=\"M 9.421875 54.6875 \r\nL 18.40625 54.6875 \r\nL 18.40625 0 \r\nL 9.421875 0 \r\nz\r\nM 9.421875 75.984375 \r\nL 18.40625 75.984375 \r\nL 18.40625 64.59375 \r\nL 9.421875 64.59375 \r\nz\r\n\" id=\"DejaVuSans-105\"/>\r\n     <path d=\"M 44.28125 53.078125 \r\nL 44.28125 44.578125 \r\nQ 40.484375 46.53125 36.375 47.5 \r\nQ 32.28125 48.484375 27.875 48.484375 \r\nQ 21.1875 48.484375 17.84375 46.4375 \r\nQ 14.5 44.390625 14.5 40.28125 \r\nQ 14.5 37.15625 16.890625 35.375 \r\nQ 19.28125 33.59375 26.515625 31.984375 \r\nL 29.59375 31.296875 \r\nQ 39.15625 29.25 43.1875 25.515625 \r\nQ 47.21875 21.78125 47.21875 15.09375 \r\nQ 47.21875 7.46875 41.1875 3.015625 \r\nQ 35.15625 -1.421875 24.609375 -1.421875 \r\nQ 20.21875 -1.421875 15.453125 -0.5625 \r\nQ 10.6875 0.296875 5.421875 2 \r\nL 5.421875 11.28125 \r\nQ 10.40625 8.6875 15.234375 7.390625 \r\nQ 20.0625 6.109375 24.8125 6.109375 \r\nQ 31.15625 6.109375 34.5625 8.28125 \r\nQ 37.984375 10.453125 37.984375 14.40625 \r\nQ 37.984375 18.0625 35.515625 20.015625 \r\nQ 33.0625 21.96875 24.703125 23.78125 \r\nL 21.578125 24.515625 \r\nQ 13.234375 26.265625 9.515625 29.90625 \r\nQ 5.8125 33.546875 5.8125 39.890625 \r\nQ 5.8125 47.609375 11.28125 51.796875 \r\nQ 16.75 56 26.8125 56 \r\nQ 31.78125 56 36.171875 55.265625 \r\nQ 40.578125 54.546875 44.28125 53.078125 \r\nz\r\n\" id=\"DejaVuSans-115\"/>\r\n    </defs>\r\n    <g transform=\"translate(168.576875 16.318125)scale(0.12 -0.12)\">\r\n     <use xlink:href=\"#DejaVuSans-116\"/>\r\n     <use x=\"39.208984\" xlink:href=\"#DejaVuSans-114\"/>\r\n     <use x=\"80.322266\" xlink:href=\"#DejaVuSans-97\"/>\r\n     <use x=\"141.601562\" xlink:href=\"#DejaVuSans-106\"/>\r\n     <use x=\"169.384766\" xlink:href=\"#DejaVuSans-101\"/>\r\n     <use x=\"230.908203\" xlink:href=\"#DejaVuSans-99\"/>\r\n     <use x=\"285.888672\" xlink:href=\"#DejaVuSans-116\"/>\r\n     <use x=\"325.097656\" xlink:href=\"#DejaVuSans-111\"/>\r\n     <use x=\"386.279297\" xlink:href=\"#DejaVuSans-114\"/>\r\n     <use x=\"427.392578\" xlink:href=\"#DejaVuSans-105\"/>\r\n     <use x=\"455.175781\" xlink:href=\"#DejaVuSans-101\"/>\r\n     <use x=\"516.699219\" xlink:href=\"#DejaVuSans-115\"/>\r\n    </g>\r\n   </g>\r\n   <g id=\"legend_1\">\r\n    <g id=\"patch_7\">\r\n     <path d=\"M 281.035938 89.030625 \r\nL 363.104688 89.030625 \r\nQ 365.104688 89.030625 365.104688 87.030625 \r\nL 365.104688 29.318125 \r\nQ 365.104688 27.318125 363.104688 27.318125 \r\nL 281.035938 27.318125 \r\nQ 279.035938 27.318125 279.035938 29.318125 \r\nL 279.035938 87.030625 \r\nQ 279.035938 89.030625 281.035938 89.030625 \r\nz\r\n\" style=\"fill:#ffffff;opacity:0.8;stroke:#cccccc;stroke-linejoin:miter;\"/>\r\n    </g>\r\n    <g id=\"PathCollection_5\">\r\n     <g>\r\n      <use style=\"fill:#ff0000;stroke:#ff0000;\" x=\"293.035938\" xlink:href=\"#m1007ea07a6\" y=\"36.291562\"/>\r\n     </g>\r\n    </g>\r\n    <g id=\"text_14\">\r\n     <!-- Prediction -->\r\n     <defs>\r\n      <path d=\"M 19.671875 64.796875 \r\nL 19.671875 37.40625 \r\nL 32.078125 37.40625 \r\nQ 38.96875 37.40625 42.71875 40.96875 \r\nQ 46.484375 44.53125 46.484375 51.125 \r\nQ 46.484375 57.671875 42.71875 61.234375 \r\nQ 38.96875 64.796875 32.078125 64.796875 \r\nz\r\nM 9.8125 72.90625 \r\nL 32.078125 72.90625 \r\nQ 44.34375 72.90625 50.609375 67.359375 \r\nQ 56.890625 61.8125 56.890625 51.125 \r\nQ 56.890625 40.328125 50.609375 34.8125 \r\nQ 44.34375 29.296875 32.078125 29.296875 \r\nL 19.671875 29.296875 \r\nL 19.671875 0 \r\nL 9.8125 0 \r\nz\r\n\" id=\"DejaVuSans-80\"/>\r\n      <path d=\"M 45.40625 46.390625 \r\nL 45.40625 75.984375 \r\nL 54.390625 75.984375 \r\nL 54.390625 0 \r\nL 45.40625 0 \r\nL 45.40625 8.203125 \r\nQ 42.578125 3.328125 38.25 0.953125 \r\nQ 33.9375 -1.421875 27.875 -1.421875 \r\nQ 17.96875 -1.421875 11.734375 6.484375 \r\nQ 5.515625 14.40625 5.515625 27.296875 \r\nQ 5.515625 40.1875 11.734375 48.09375 \r\nQ 17.96875 56 27.875 56 \r\nQ 33.9375 56 38.25 53.625 \r\nQ 42.578125 51.265625 45.40625 46.390625 \r\nz\r\nM 14.796875 27.296875 \r\nQ 14.796875 17.390625 18.875 11.75 \r\nQ 22.953125 6.109375 30.078125 6.109375 \r\nQ 37.203125 6.109375 41.296875 11.75 \r\nQ 45.40625 17.390625 45.40625 27.296875 \r\nQ 45.40625 37.203125 41.296875 42.84375 \r\nQ 37.203125 48.484375 30.078125 48.484375 \r\nQ 22.953125 48.484375 18.875 42.84375 \r\nQ 14.796875 37.203125 14.796875 27.296875 \r\nz\r\n\" id=\"DejaVuSans-100\"/>\r\n      <path d=\"M 54.890625 33.015625 \r\nL 54.890625 0 \r\nL 45.90625 0 \r\nL 45.90625 32.71875 \r\nQ 45.90625 40.484375 42.875 44.328125 \r\nQ 39.84375 48.1875 33.796875 48.1875 \r\nQ 26.515625 48.1875 22.3125 43.546875 \r\nQ 18.109375 38.921875 18.109375 30.90625 \r\nL 18.109375 0 \r\nL 9.078125 0 \r\nL 9.078125 54.6875 \r\nL 18.109375 54.6875 \r\nL 18.109375 46.1875 \r\nQ 21.34375 51.125 25.703125 53.5625 \r\nQ 30.078125 56 35.796875 56 \r\nQ 45.21875 56 50.046875 50.171875 \r\nQ 54.890625 44.34375 54.890625 33.015625 \r\nz\r\n\" id=\"DejaVuSans-110\"/>\r\n     </defs>\r\n     <g transform=\"translate(311.035938 38.916562)scale(0.1 -0.1)\">\r\n      <use xlink:href=\"#DejaVuSans-80\"/>\r\n      <use x=\"60.287109\" xlink:href=\"#DejaVuSans-114\"/>\r\n      <use x=\"101.369141\" xlink:href=\"#DejaVuSans-101\"/>\r\n      <use x=\"162.892578\" xlink:href=\"#DejaVuSans-100\"/>\r\n      <use x=\"226.369141\" xlink:href=\"#DejaVuSans-105\"/>\r\n      <use x=\"254.152344\" xlink:href=\"#DejaVuSans-99\"/>\r\n      <use x=\"309.132812\" xlink:href=\"#DejaVuSans-116\"/>\r\n      <use x=\"348.341797\" xlink:href=\"#DejaVuSans-105\"/>\r\n      <use x=\"376.125\" xlink:href=\"#DejaVuSans-111\"/>\r\n      <use x=\"437.306641\" xlink:href=\"#DejaVuSans-110\"/>\r\n     </g>\r\n    </g>\r\n    <g id=\"PathCollection_6\">\r\n     <g>\r\n      <use style=\"fill:#0000ff;stroke:#0000ff;\" x=\"293.035938\" xlink:href=\"#m77886ad1fb\" y=\"50.969687\"/>\r\n     </g>\r\n    </g>\r\n    <g id=\"text_15\">\r\n     <!-- Real -->\r\n     <defs>\r\n      <path d=\"M 44.390625 34.1875 \r\nQ 47.5625 33.109375 50.5625 29.59375 \r\nQ 53.5625 26.078125 56.59375 19.921875 \r\nL 66.609375 0 \r\nL 56 0 \r\nL 46.6875 18.703125 \r\nQ 43.0625 26.03125 39.671875 28.421875 \r\nQ 36.28125 30.8125 30.421875 30.8125 \r\nL 19.671875 30.8125 \r\nL 19.671875 0 \r\nL 9.8125 0 \r\nL 9.8125 72.90625 \r\nL 32.078125 72.90625 \r\nQ 44.578125 72.90625 50.734375 67.671875 \r\nQ 56.890625 62.453125 56.890625 51.90625 \r\nQ 56.890625 45.015625 53.6875 40.46875 \r\nQ 50.484375 35.9375 44.390625 34.1875 \r\nz\r\nM 19.671875 64.796875 \r\nL 19.671875 38.921875 \r\nL 32.078125 38.921875 \r\nQ 39.203125 38.921875 42.84375 42.21875 \r\nQ 46.484375 45.515625 46.484375 51.90625 \r\nQ 46.484375 58.296875 42.84375 61.546875 \r\nQ 39.203125 64.796875 32.078125 64.796875 \r\nz\r\n\" id=\"DejaVuSans-82\"/>\r\n      <path d=\"M 9.421875 75.984375 \r\nL 18.40625 75.984375 \r\nL 18.40625 0 \r\nL 9.421875 0 \r\nz\r\n\" id=\"DejaVuSans-108\"/>\r\n     </defs>\r\n     <g transform=\"translate(311.035938 53.594687)scale(0.1 -0.1)\">\r\n      <use xlink:href=\"#DejaVuSans-82\"/>\r\n      <use x=\"69.419922\" xlink:href=\"#DejaVuSans-101\"/>\r\n      <use x=\"130.943359\" xlink:href=\"#DejaVuSans-97\"/>\r\n      <use x=\"192.222656\" xlink:href=\"#DejaVuSans-108\"/>\r\n     </g>\r\n    </g>\r\n    <g id=\"PathCollection_7\">\r\n     <g>\r\n      <use style=\"fill:#008000;stroke:#008000;\" x=\"293.035938\" xlink:href=\"#m3587ba0aa6\" y=\"65.647812\"/>\r\n     </g>\r\n    </g>\r\n    <g id=\"text_16\">\r\n     <!-- Target -->\r\n     <defs>\r\n      <path d=\"M -0.296875 72.90625 \r\nL 61.375 72.90625 \r\nL 61.375 64.59375 \r\nL 35.5 64.59375 \r\nL 35.5 0 \r\nL 25.59375 0 \r\nL 25.59375 64.59375 \r\nL -0.296875 64.59375 \r\nz\r\n\" id=\"DejaVuSans-84\"/>\r\n      <path d=\"M 45.40625 27.984375 \r\nQ 45.40625 37.75 41.375 43.109375 \r\nQ 37.359375 48.484375 30.078125 48.484375 \r\nQ 22.859375 48.484375 18.828125 43.109375 \r\nQ 14.796875 37.75 14.796875 27.984375 \r\nQ 14.796875 18.265625 18.828125 12.890625 \r\nQ 22.859375 7.515625 30.078125 7.515625 \r\nQ 37.359375 7.515625 41.375 12.890625 \r\nQ 45.40625 18.265625 45.40625 27.984375 \r\nz\r\nM 54.390625 6.78125 \r\nQ 54.390625 -7.171875 48.1875 -13.984375 \r\nQ 42 -20.796875 29.203125 -20.796875 \r\nQ 24.46875 -20.796875 20.265625 -20.09375 \r\nQ 16.0625 -19.390625 12.109375 -17.921875 \r\nL 12.109375 -9.1875 \r\nQ 16.0625 -11.328125 19.921875 -12.34375 \r\nQ 23.78125 -13.375 27.78125 -13.375 \r\nQ 36.625 -13.375 41.015625 -8.765625 \r\nQ 45.40625 -4.15625 45.40625 5.171875 \r\nL 45.40625 9.625 \r\nQ 42.625 4.78125 38.28125 2.390625 \r\nQ 33.9375 0 27.875 0 \r\nQ 17.828125 0 11.671875 7.65625 \r\nQ 5.515625 15.328125 5.515625 27.984375 \r\nQ 5.515625 40.671875 11.671875 48.328125 \r\nQ 17.828125 56 27.875 56 \r\nQ 33.9375 56 38.28125 53.609375 \r\nQ 42.625 51.21875 45.40625 46.390625 \r\nL 45.40625 54.6875 \r\nL 54.390625 54.6875 \r\nz\r\n\" id=\"DejaVuSans-103\"/>\r\n     </defs>\r\n     <g transform=\"translate(311.035938 68.272812)scale(0.1 -0.1)\">\r\n      <use xlink:href=\"#DejaVuSans-84\"/>\r\n      <use x=\"60.833984\" xlink:href=\"#DejaVuSans-97\"/>\r\n      <use x=\"122.113281\" xlink:href=\"#DejaVuSans-114\"/>\r\n      <use x=\"163.210938\" xlink:href=\"#DejaVuSans-103\"/>\r\n      <use x=\"226.6875\" xlink:href=\"#DejaVuSans-101\"/>\r\n      <use x=\"288.210938\" xlink:href=\"#DejaVuSans-116\"/>\r\n     </g>\r\n    </g>\r\n    <g id=\"PathCollection_8\">\r\n     <g>\r\n      <use style=\"fill:#bfbf00;stroke:#bfbf00;\" x=\"293.035938\" xlink:href=\"#mfd6dda9629\" y=\"80.325938\"/>\r\n     </g>\r\n    </g>\r\n    <g id=\"text_17\">\r\n     <!-- start -->\r\n     <g transform=\"translate(311.035938 82.950938)scale(0.1 -0.1)\">\r\n      <use xlink:href=\"#DejaVuSans-115\"/>\r\n      <use x=\"52.099609\" xlink:href=\"#DejaVuSans-116\"/>\r\n      <use x=\"91.308594\" xlink:href=\"#DejaVuSans-97\"/>\r\n      <use x=\"152.587891\" xlink:href=\"#DejaVuSans-114\"/>\r\n      <use x=\"193.701172\" xlink:href=\"#DejaVuSans-116\"/>\r\n     </g>\r\n    </g>\r\n   </g>\r\n  </g>\r\n </g>\r\n <defs>\r\n  <clipPath id=\"pad442c5a97\">\r\n   <rect height=\"217.44\" width=\"334.8\" x=\"35.304688\" y=\"22.318125\"/>\r\n  </clipPath>\r\n </defs>\r\n</svg>\r\n",
      "image/png": "[encoded data removed]"
     },
     "metadata": {
      "needs_background": "light"
     }
    }
   ],
   "source": [
    "t_number = 10\n",
    "S_Trajectory_prediction=x_val_single_sequential[t_number,0,:]\n",
    "S_Trajectory_prediction = np.reshape(S_Trajectory_prediction, (1,1,6))\n",
    "\n",
    "for i in range(20):\n",
    "\n",
    "    dummy_trajectory=single_step_sequential_model.predict(S_Trajectory_prediction)\n",
    "    last_step = np.reshape(dummy_trajectory[:,-1,:],(1,1,6))\n",
    "\n",
    "    if  (last_step[0,0,0] <= 0.01):\n",
    "        last_step[0,0,0] = 0\n",
    "        S_Trajectory_prediction=np.append(S_Trajectory_prediction, last_step, axis=1)\n",
    "        break\n",
    "    S_Trajectory_prediction=np.append(S_Trajectory_prediction, last_step, axis=1)\n",
    "\n",
    "New_trajectory = np.squeeze(S_Trajectory_prediction)\n",
    "\n",
    "Trajectory_prediction_denorm = np.apply_along_axis(denorm,1,New_trajectory,data_stats)\n",
    "\n",
    "y_val_denorm = np.apply_along_axis(denorm,1,y_val_single_sequential[t_number],data_stats)\n",
    "\n",
    "x_val_denorm = np.apply_along_axis(denorm,1,x_val_single_sequential[t_number],data_stats)\n",
    "\n",
    "min_len = min(len(y_val_denorm),len(Trajectory_prediction_denorm[1:]))\n",
    "\n",
    "mse =sklearn.metrics.mean_squared_error(y_val_denorm[:min_len,0:2], Trajectory_prediction_denorm[1:min_len+1,0:2])\n",
    "\n",
    "print(mse)\n",
    "\n",
    "\n",
    "plt.figure()\n",
    "\n",
    "plt.scatter(Trajectory_prediction_denorm[1:,0], Trajectory_prediction_denorm[1:,1], c='r', label='Prediction')\n",
    "plt.scatter(y_val_denorm[:,0], y_val_denorm[:,1], c='b', label='Real')\n",
    "plt.scatter(ZT_norm[0],ZT_norm[1], c='g', label='Target')\n",
    "plt.scatter(x_val_denorm[0,0], x_val_denorm[0,1], c='y', label='start')\n",
    "plt.title(\"trajectories\")\n",
    "plt.legend()\n",
    "\n",
    "plt.show()\n"
   ]
  },
  {
   "cell_type": "code",
   "execution_count": 23,
   "metadata": {},
   "outputs": [],
   "source": [
    "def generate_trajectory_Decoder(model, start, target, initial_action, data_stats):\n",
    "\n",
    "    model.reset_states()\n",
    "\n",
    "    # initialize cost\n",
    "    cost = 0\n",
    "\n",
    "    # Empty vector to store the actions\n",
    "    actions = []\n",
    "\n",
    "    #initialize action vector\n",
    "    actions.append(initial_action)\n",
    "\n",
    "    # First point is the initial distance\n",
    "\n",
    "    # Compute the initial distance\n",
    "    distance_long = target - start\n",
    "    \n",
    "    # normalize to get the Neuronal Network input\n",
    "    distance = norm(distance_long[0:6], data_stats)\n",
    "    trajectory_generated = tf.expand_dims([distance], 0)\n",
    "\n",
    "\n",
    "    for i in range(15):\n",
    "\n",
    "        dummy_trajectory=model.predict(trajectory_generated)\n",
    "        last_step = np.reshape(dummy_trajectory[:,-1,:],(1,1,6))\n",
    "\n",
    "        if  (last_step[0,0,0] <= 0.02):\n",
    "            last_step[0,0,0] = 0\n",
    "            trajectory_generated=np.append(trajectory_generated, last_step, axis=1)\n",
    "            end_message = \"End\"\n",
    "            break\n",
    "\n",
    "        trajectory_generated=np.append(trajectory_generated, last_step, axis=1)\n",
    "        end_message = \"Error\"\n",
    "    \n",
    "    print(end_message)\n",
    "\n",
    "    New_trajectory = np.squeeze(trajectory_generated)\n",
    "\n",
    "    trajectory_generated_denorm = np.apply_along_axis(denorm,1,New_trajectory,data_stats)\n",
    "\n",
    "    return trajectory_generated_denorm, cost, actions, end_message\n"
   ]
  },
  {
   "source": [
    "#### Adding early stop"
   ],
   "cell_type": "markdown",
   "metadata": {}
  },
  {
   "cell_type": "code",
   "execution_count": 24,
   "metadata": {
    "tags": []
   },
   "outputs": [
    {
     "output_type": "stream",
     "name": "stdout",
     "text": [
      "\n",
      "Epoch: 0, loss:0.1273,  mae:0.2134,  mse:0.1273,  val_loss:0.1728,  val_mae:0.2330,  val_mse:0.1728,  \n",
      "...................................................................................................."
     ]
    }
   ],
   "source": [
    "early_stop = keras.callbacks.EarlyStopping(monitor='val_loss', patience=10)\n",
    "\n",
    "early_history_sequential = single_step_sequential_model.fit(train_data_single_sequential, epochs=EPOCHS,\n",
    "                                          steps_per_epoch=STEPS_PER_EPOCH,\n",
    "                                          validation_data=val_data_single_sequential,\n",
    "                                          validation_steps=50, verbose=0, \n",
    "                    callbacks=[early_stop, tfdocs.modeling.EpochDots()])"
   ]
  },
  {
   "cell_type": "code",
   "execution_count": 25,
   "metadata": {},
   "outputs": [],
   "source": [
    "single_step_sequential_model.save('./data/S2S_S2S_model_2.h5') "
   ]
  },
  {
   "source": [
    "## Get validation statistics"
   ],
   "cell_type": "markdown",
   "metadata": {}
  },
  {
   "cell_type": "code",
   "execution_count": 26,
   "metadata": {},
   "outputs": [],
   "source": [
    "model = tf.keras.models.load_model('./data/S2S_S2S_model_2.h5')"
   ]
  },
  {
   "cell_type": "code",
   "execution_count": 27,
   "metadata": {},
   "outputs": [],
   "source": [
    "def distance_error(x, z):\n",
    "    distancia = math.sqrt(x**2 + z**2)\n",
    "    return distancia"
   ]
  },
  {
   "cell_type": "code",
   "execution_count": 28,
   "metadata": {},
   "outputs": [
    {
     "output_type": "stream",
     "name": "stdout",
     "text": [
      "WARNING:tensorflow:5 out of the last 5 calls to <function _make_execution_function.<locals>.distributed_function at 0x00000237B15BB168> triggered tf.function retracing. Tracing is expensive and the excessive number of tracings is likely due to passing python objects instead of tensors. Also, tf.function has experimental_relax_shapes=True option that relaxes argument shapes that can avoid unnecessary retracing. Please refer to https://www.tensorflow.org/tutorials/customization/performance#python_or_tensor_args and https://www.tensorflow.org/api_docs/python/tf/function for more details.\n",
      "WARNING:tensorflow:6 out of the last 6 calls to <function _make_execution_function.<locals>.distributed_function at 0x00000237B15BB168> triggered tf.function retracing. Tracing is expensive and the excessive number of tracings is likely due to passing python objects instead of tensors. Also, tf.function has experimental_relax_shapes=True option that relaxes argument shapes that can avoid unnecessary retracing. Please refer to https://www.tensorflow.org/tutorials/customization/performance#python_or_tensor_args and https://www.tensorflow.org/api_docs/python/tf/function for more details.\n",
      "WARNING:tensorflow:7 out of the last 7 calls to <function _make_execution_function.<locals>.distributed_function at 0x00000237B15BB168> triggered tf.function retracing. Tracing is expensive and the excessive number of tracings is likely due to passing python objects instead of tensors. Also, tf.function has experimental_relax_shapes=True option that relaxes argument shapes that can avoid unnecessary retracing. Please refer to https://www.tensorflow.org/tutorials/customization/performance#python_or_tensor_args and https://www.tensorflow.org/api_docs/python/tf/function for more details.\n",
      "End\n",
      "End\n",
      "End\n",
      "End\n",
      "End\n",
      "End\n",
      "End\n",
      "End\n",
      "End\n",
      "End\n",
      "End\n",
      "End\n",
      "End\n",
      "End\n",
      "End\n",
      "End\n",
      "End\n",
      "End\n",
      "End\n",
      "End\n",
      "End\n",
      "End\n",
      "End\n",
      "End\n",
      "End\n",
      "End\n",
      "End\n",
      "End\n",
      "End\n",
      "End\n",
      "End\n",
      "End\n",
      "End\n",
      "End\n",
      "End\n",
      "End\n",
      "End\n",
      "End\n",
      "End\n",
      "End\n",
      "End\n",
      "End\n",
      "End\n",
      "End\n",
      "End\n",
      "End\n",
      "End\n",
      "End\n",
      "End\n",
      "End\n",
      "End\n",
      "End\n",
      "End\n",
      "End\n",
      "End\n",
      "End\n",
      "End\n"
     ]
    }
   ],
   "source": [
    "val_results = pd.DataFrame(columns = [\"path\", \"actions\", \"distance\", \"cost\", \"end_message\"])\n",
    "\n",
    "for t_number in range(len(y_val_single_sequential)):\n",
    "\n",
    "    x_val_denorm = np.apply_along_axis(denorm,1,x_val_single_sequential[t_number],data_stats)\n",
    "\n",
    "    y_val_denorm = np.apply_along_axis(denorm,1,y_val_single_sequential[t_number],data_stats)\n",
    "\n",
    "    initial_action = [0,0]\n",
    "    start = [0.0, 0.0, 4.257165346815115, 0.0, 0, 0]\n",
    "    target = x_val_denorm[0] + start\n",
    "\n",
    "    start_time = time.time()\n",
    "\n",
    "    trajectory, cost, actions, end_message = generate_trajectory_Decoder(model, start, target, initial_action, data_stats)\n",
    "\n",
    "    min_len = min(len(y_val_denorm),len(trajectory[1:]))\n",
    "\n",
    "    mse =sklearn.metrics.mean_squared_error(y_val_denorm[:min_len,0:2], trajectory[1:min_len+1,0:2])\n",
    "\n",
    "    val_results.at[t_number, \"time\"] = time.time() - start_time\n",
    "    val_results.at[t_number, \"actions\"] = np.array(actions)\n",
    "    val_results.at[t_number, \"path\"] = np.array(trajectory)\n",
    "    val_results.at[t_number, \"sqrt(Trajectory MSE)\"] = math.sqrt(mse)\n",
    "    val_results.at[t_number, \"cost\"] = cost\n",
    "    val_results.at[t_number, 'distance'] = distance_error(*trajectory[-1,0:2])\n",
    "    val_results.at[t_number, 'end_message'] = end_message\n",
    "\n"
   ]
  },
  {
   "cell_type": "code",
   "execution_count": 30,
   "metadata": {},
   "outputs": [
    {
     "output_type": "display_data",
     "data": {
      "text/plain": "<Figure size 432x288 with 1 Axes>",
      "image/svg+xml": "<?xml version=\"1.0\" encoding=\"utf-8\" standalone=\"no\"?>\r\n<!DOCTYPE svg PUBLIC \"-//W3C//DTD SVG 1.1//EN\"\r\n  \"http://www.w3.org/Graphics/SVG/1.1/DTD/svg11.dtd\">\r\n<!-- Created with matplotlib (https://matplotlib.org/) -->\r\n<svg height=\"248.518125pt\" version=\"1.1\" viewBox=\"0 0 378.465625 248.518125\" width=\"378.465625pt\" xmlns=\"http://www.w3.org/2000/svg\" xmlns:xlink=\"http://www.w3.org/1999/xlink\">\r\n <defs>\r\n  <style type=\"text/css\">\r\n*{stroke-linecap:butt;stroke-linejoin:round;}\r\n  </style>\r\n </defs>\r\n <g id=\"figure_1\">\r\n  <g id=\"patch_1\">\r\n   <path d=\"M 0 248.518125 \r\nL 378.465625 248.518125 \r\nL 378.465625 0 \r\nL 0 0 \r\nz\r\n\" style=\"fill:none;\"/>\r\n  </g>\r\n  <g id=\"axes_1\">\r\n   <g id=\"patch_2\">\r\n    <path d=\"M 36.465625 224.64 \r\nL 371.265625 224.64 \r\nL 371.265625 7.2 \r\nL 36.465625 7.2 \r\nz\r\n\" style=\"fill:#ffffff;\"/>\r\n   </g>\r\n   <g id=\"patch_3\">\r\n    <path clip-path=\"url(#pcacd4014ee)\" d=\"M 51.683807 224.64 \r\nL 75.527963 224.64 \r\nL 75.527963 76.721633 \r\nL 51.683807 76.721633 \r\nz\r\n\" style=\"fill:#0504aa;opacity:0.7;\"/>\r\n   </g>\r\n   <g id=\"patch_4\">\r\n    <path clip-path=\"url(#pcacd4014ee)\" d=\"M 79.735755 224.64 \r\nL 103.579911 224.64 \r\nL 103.579911 17.554286 \r\nL 79.735755 17.554286 \r\nz\r\n\" style=\"fill:#0504aa;opacity:0.7;\"/>\r\n   </g>\r\n   <g id=\"patch_5\">\r\n    <path clip-path=\"url(#pcacd4014ee)\" d=\"M 107.787703 224.64 \r\nL 131.631859 224.64 \r\nL 131.631859 145.750204 \r\nL 107.787703 145.750204 \r\nz\r\n\" style=\"fill:#0504aa;opacity:0.7;\"/>\r\n   </g>\r\n   <g id=\"patch_6\">\r\n    <path clip-path=\"url(#pcacd4014ee)\" d=\"M 135.839651 224.64 \r\nL 159.683807 224.64 \r\nL 159.683807 185.195102 \r\nL 135.839651 185.195102 \r\nz\r\n\" style=\"fill:#0504aa;opacity:0.7;\"/>\r\n   </g>\r\n   <g id=\"patch_7\">\r\n    <path clip-path=\"url(#pcacd4014ee)\" d=\"M 163.891599 224.64 \r\nL 187.735755 224.64 \r\nL 187.735755 195.056327 \r\nL 163.891599 195.056327 \r\nz\r\n\" style=\"fill:#0504aa;opacity:0.7;\"/>\r\n   </g>\r\n   <g id=\"patch_8\">\r\n    <path clip-path=\"url(#pcacd4014ee)\" d=\"M 191.943547 224.64 \r\nL 215.787703 224.64 \r\nL 215.787703 214.778776 \r\nL 191.943547 214.778776 \r\nz\r\n\" style=\"fill:#0504aa;opacity:0.7;\"/>\r\n   </g>\r\n   <g id=\"patch_9\">\r\n    <path clip-path=\"url(#pcacd4014ee)\" d=\"M 219.995495 224.64 \r\nL 243.839651 224.64 \r\nL 243.839651 214.778776 \r\nL 219.995495 214.778776 \r\nz\r\n\" style=\"fill:#0504aa;opacity:0.7;\"/>\r\n   </g>\r\n   <g id=\"patch_10\">\r\n    <path clip-path=\"url(#pcacd4014ee)\" d=\"M 248.047443 224.64 \r\nL 271.891599 224.64 \r\nL 271.891599 204.917551 \r\nL 248.047443 204.917551 \r\nz\r\n\" style=\"fill:#0504aa;opacity:0.7;\"/>\r\n   </g>\r\n   <g id=\"patch_11\">\r\n    <path clip-path=\"url(#pcacd4014ee)\" d=\"M 276.099391 224.64 \r\nL 299.943547 224.64 \r\nL 299.943547 224.64 \r\nL 276.099391 224.64 \r\nz\r\n\" style=\"fill:#0504aa;opacity:0.7;\"/>\r\n   </g>\r\n   <g id=\"patch_12\">\r\n    <path clip-path=\"url(#pcacd4014ee)\" d=\"M 304.151339 224.64 \r\nL 327.995495 224.64 \r\nL 327.995495 214.778776 \r\nL 304.151339 214.778776 \r\nz\r\n\" style=\"fill:#0504aa;opacity:0.7;\"/>\r\n   </g>\r\n   <g id=\"patch_13\">\r\n    <path clip-path=\"url(#pcacd4014ee)\" d=\"M 332.203287 224.64 \r\nL 356.047443 224.64 \r\nL 356.047443 214.778776 \r\nL 332.203287 214.778776 \r\nz\r\n\" style=\"fill:#0504aa;opacity:0.7;\"/>\r\n   </g>\r\n   <g id=\"matplotlib.axis_1\">\r\n    <g id=\"xtick_1\">\r\n     <g id=\"line2d_1\">\r\n      <defs>\r\n       <path d=\"M 0 0 \r\nL 0 3.5 \r\n\" id=\"mcd696c8cad\" style=\"stroke:#000000;stroke-width:0.8;\"/>\r\n      </defs>\r\n      <g>\r\n       <use style=\"stroke:#000000;stroke-width:0.8;\" x=\"74.330075\" xlink:href=\"#mcd696c8cad\" y=\"224.64\"/>\r\n      </g>\r\n     </g>\r\n     <g id=\"text_1\">\r\n      <!-- 2.5 -->\r\n      <defs>\r\n       <path d=\"M 19.1875 8.296875 \r\nL 53.609375 8.296875 \r\nL 53.609375 0 \r\nL 7.328125 0 \r\nL 7.328125 8.296875 \r\nQ 12.9375 14.109375 22.625 23.890625 \r\nQ 32.328125 33.6875 34.8125 36.53125 \r\nQ 39.546875 41.84375 41.421875 45.53125 \r\nQ 43.3125 49.21875 43.3125 52.78125 \r\nQ 43.3125 58.59375 39.234375 62.25 \r\nQ 35.15625 65.921875 28.609375 65.921875 \r\nQ 23.96875 65.921875 18.8125 64.3125 \r\nQ 13.671875 62.703125 7.8125 59.421875 \r\nL 7.8125 69.390625 \r\nQ 13.765625 71.78125 18.9375 73 \r\nQ 24.125 74.21875 28.421875 74.21875 \r\nQ 39.75 74.21875 46.484375 68.546875 \r\nQ 53.21875 62.890625 53.21875 53.421875 \r\nQ 53.21875 48.921875 51.53125 44.890625 \r\nQ 49.859375 40.875 45.40625 35.40625 \r\nQ 44.1875 33.984375 37.640625 27.21875 \r\nQ 31.109375 20.453125 19.1875 8.296875 \r\nz\r\n\" id=\"DejaVuSans-50\"/>\r\n       <path d=\"M 10.6875 12.40625 \r\nL 21 12.40625 \r\nL 21 0 \r\nL 10.6875 0 \r\nz\r\n\" id=\"DejaVuSans-46\"/>\r\n       <path d=\"M 10.796875 72.90625 \r\nL 49.515625 72.90625 \r\nL 49.515625 64.59375 \r\nL 19.828125 64.59375 \r\nL 19.828125 46.734375 \r\nQ 21.96875 47.46875 24.109375 47.828125 \r\nQ 26.265625 48.1875 28.421875 48.1875 \r\nQ 40.625 48.1875 47.75 41.5 \r\nQ 54.890625 34.8125 54.890625 23.390625 \r\nQ 54.890625 11.625 47.5625 5.09375 \r\nQ 40.234375 -1.421875 26.90625 -1.421875 \r\nQ 22.3125 -1.421875 17.546875 -0.640625 \r\nQ 12.796875 0.140625 7.71875 1.703125 \r\nL 7.71875 11.625 \r\nQ 12.109375 9.234375 16.796875 8.0625 \r\nQ 21.484375 6.890625 26.703125 6.890625 \r\nQ 35.15625 6.890625 40.078125 11.328125 \r\nQ 45.015625 15.765625 45.015625 23.390625 \r\nQ 45.015625 31 40.078125 35.4375 \r\nQ 35.15625 39.890625 26.703125 39.890625 \r\nQ 22.75 39.890625 18.8125 39.015625 \r\nQ 14.890625 38.140625 10.796875 36.28125 \r\nz\r\n\" id=\"DejaVuSans-53\"/>\r\n      </defs>\r\n      <g transform=\"translate(66.378513 239.238437)scale(0.1 -0.1)\">\r\n       <use xlink:href=\"#DejaVuSans-50\"/>\r\n       <use x=\"63.623047\" xlink:href=\"#DejaVuSans-46\"/>\r\n       <use x=\"95.410156\" xlink:href=\"#DejaVuSans-53\"/>\r\n      </g>\r\n     </g>\r\n    </g>\r\n    <g id=\"xtick_2\">\r\n     <g id=\"line2d_2\">\r\n      <g>\r\n       <use style=\"stroke:#000000;stroke-width:0.8;\" x=\"117.336537\" xlink:href=\"#mcd696c8cad\" y=\"224.64\"/>\r\n      </g>\r\n     </g>\r\n     <g id=\"text_2\">\r\n      <!-- 5.0 -->\r\n      <defs>\r\n       <path d=\"M 31.78125 66.40625 \r\nQ 24.171875 66.40625 20.328125 58.90625 \r\nQ 16.5 51.421875 16.5 36.375 \r\nQ 16.5 21.390625 20.328125 13.890625 \r\nQ 24.171875 6.390625 31.78125 6.390625 \r\nQ 39.453125 6.390625 43.28125 13.890625 \r\nQ 47.125 21.390625 47.125 36.375 \r\nQ 47.125 51.421875 43.28125 58.90625 \r\nQ 39.453125 66.40625 31.78125 66.40625 \r\nz\r\nM 31.78125 74.21875 \r\nQ 44.046875 74.21875 50.515625 64.515625 \r\nQ 56.984375 54.828125 56.984375 36.375 \r\nQ 56.984375 17.96875 50.515625 8.265625 \r\nQ 44.046875 -1.421875 31.78125 -1.421875 \r\nQ 19.53125 -1.421875 13.0625 8.265625 \r\nQ 6.59375 17.96875 6.59375 36.375 \r\nQ 6.59375 54.828125 13.0625 64.515625 \r\nQ 19.53125 74.21875 31.78125 74.21875 \r\nz\r\n\" id=\"DejaVuSans-48\"/>\r\n      </defs>\r\n      <g transform=\"translate(109.384975 239.238437)scale(0.1 -0.1)\">\r\n       <use xlink:href=\"#DejaVuSans-53\"/>\r\n       <use x=\"63.623047\" xlink:href=\"#DejaVuSans-46\"/>\r\n       <use x=\"95.410156\" xlink:href=\"#DejaVuSans-48\"/>\r\n      </g>\r\n     </g>\r\n    </g>\r\n    <g id=\"xtick_3\">\r\n     <g id=\"line2d_3\">\r\n      <g>\r\n       <use style=\"stroke:#000000;stroke-width:0.8;\" x=\"160.342999\" xlink:href=\"#mcd696c8cad\" y=\"224.64\"/>\r\n      </g>\r\n     </g>\r\n     <g id=\"text_3\">\r\n      <!-- 7.5 -->\r\n      <defs>\r\n       <path d=\"M 8.203125 72.90625 \r\nL 55.078125 72.90625 \r\nL 55.078125 68.703125 \r\nL 28.609375 0 \r\nL 18.3125 0 \r\nL 43.21875 64.59375 \r\nL 8.203125 64.59375 \r\nz\r\n\" id=\"DejaVuSans-55\"/>\r\n      </defs>\r\n      <g transform=\"translate(152.391437 239.238437)scale(0.1 -0.1)\">\r\n       <use xlink:href=\"#DejaVuSans-55\"/>\r\n       <use x=\"63.623047\" xlink:href=\"#DejaVuSans-46\"/>\r\n       <use x=\"95.410156\" xlink:href=\"#DejaVuSans-53\"/>\r\n      </g>\r\n     </g>\r\n    </g>\r\n    <g id=\"xtick_4\">\r\n     <g id=\"line2d_4\">\r\n      <g>\r\n       <use style=\"stroke:#000000;stroke-width:0.8;\" x=\"203.349461\" xlink:href=\"#mcd696c8cad\" y=\"224.64\"/>\r\n      </g>\r\n     </g>\r\n     <g id=\"text_4\">\r\n      <!-- 10.0 -->\r\n      <defs>\r\n       <path d=\"M 12.40625 8.296875 \r\nL 28.515625 8.296875 \r\nL 28.515625 63.921875 \r\nL 10.984375 60.40625 \r\nL 10.984375 69.390625 \r\nL 28.421875 72.90625 \r\nL 38.28125 72.90625 \r\nL 38.28125 8.296875 \r\nL 54.390625 8.296875 \r\nL 54.390625 0 \r\nL 12.40625 0 \r\nz\r\n\" id=\"DejaVuSans-49\"/>\r\n      </defs>\r\n      <g transform=\"translate(192.216649 239.238437)scale(0.1 -0.1)\">\r\n       <use xlink:href=\"#DejaVuSans-49\"/>\r\n       <use x=\"63.623047\" xlink:href=\"#DejaVuSans-48\"/>\r\n       <use x=\"127.246094\" xlink:href=\"#DejaVuSans-46\"/>\r\n       <use x=\"159.033203\" xlink:href=\"#DejaVuSans-48\"/>\r\n      </g>\r\n     </g>\r\n    </g>\r\n    <g id=\"xtick_5\">\r\n     <g id=\"line2d_5\">\r\n      <g>\r\n       <use style=\"stroke:#000000;stroke-width:0.8;\" x=\"246.355923\" xlink:href=\"#mcd696c8cad\" y=\"224.64\"/>\r\n      </g>\r\n     </g>\r\n     <g id=\"text_5\">\r\n      <!-- 12.5 -->\r\n      <g transform=\"translate(235.223111 239.238437)scale(0.1 -0.1)\">\r\n       <use xlink:href=\"#DejaVuSans-49\"/>\r\n       <use x=\"63.623047\" xlink:href=\"#DejaVuSans-50\"/>\r\n       <use x=\"127.246094\" xlink:href=\"#DejaVuSans-46\"/>\r\n       <use x=\"159.033203\" xlink:href=\"#DejaVuSans-53\"/>\r\n      </g>\r\n     </g>\r\n    </g>\r\n    <g id=\"xtick_6\">\r\n     <g id=\"line2d_6\">\r\n      <g>\r\n       <use style=\"stroke:#000000;stroke-width:0.8;\" x=\"289.362385\" xlink:href=\"#mcd696c8cad\" y=\"224.64\"/>\r\n      </g>\r\n     </g>\r\n     <g id=\"text_6\">\r\n      <!-- 15.0 -->\r\n      <g transform=\"translate(278.229573 239.238437)scale(0.1 -0.1)\">\r\n       <use xlink:href=\"#DejaVuSans-49\"/>\r\n       <use x=\"63.623047\" xlink:href=\"#DejaVuSans-53\"/>\r\n       <use x=\"127.246094\" xlink:href=\"#DejaVuSans-46\"/>\r\n       <use x=\"159.033203\" xlink:href=\"#DejaVuSans-48\"/>\r\n      </g>\r\n     </g>\r\n    </g>\r\n    <g id=\"xtick_7\">\r\n     <g id=\"line2d_7\">\r\n      <g>\r\n       <use style=\"stroke:#000000;stroke-width:0.8;\" x=\"332.368847\" xlink:href=\"#mcd696c8cad\" y=\"224.64\"/>\r\n      </g>\r\n     </g>\r\n     <g id=\"text_7\">\r\n      <!-- 17.5 -->\r\n      <g transform=\"translate(321.236035 239.238437)scale(0.1 -0.1)\">\r\n       <use xlink:href=\"#DejaVuSans-49\"/>\r\n       <use x=\"63.623047\" xlink:href=\"#DejaVuSans-55\"/>\r\n       <use x=\"127.246094\" xlink:href=\"#DejaVuSans-46\"/>\r\n       <use x=\"159.033203\" xlink:href=\"#DejaVuSans-53\"/>\r\n      </g>\r\n     </g>\r\n    </g>\r\n   </g>\r\n   <g id=\"matplotlib.axis_2\">\r\n    <g id=\"ytick_1\">\r\n     <g id=\"line2d_8\">\r\n      <defs>\r\n       <path d=\"M 0 0 \r\nL -3.5 0 \r\n\" id=\"m619808f5c8\" style=\"stroke:#000000;stroke-width:0.8;\"/>\r\n      </defs>\r\n      <g>\r\n       <use style=\"stroke:#000000;stroke-width:0.8;\" x=\"36.465625\" xlink:href=\"#m619808f5c8\" y=\"224.64\"/>\r\n      </g>\r\n     </g>\r\n     <g id=\"text_8\">\r\n      <!-- 0.0 -->\r\n      <g transform=\"translate(13.5625 228.439219)scale(0.1 -0.1)\">\r\n       <use xlink:href=\"#DejaVuSans-48\"/>\r\n       <use x=\"63.623047\" xlink:href=\"#DejaVuSans-46\"/>\r\n       <use x=\"95.410156\" xlink:href=\"#DejaVuSans-48\"/>\r\n      </g>\r\n     </g>\r\n    </g>\r\n    <g id=\"ytick_2\">\r\n     <g id=\"line2d_9\">\r\n      <g>\r\n       <use style=\"stroke:#000000;stroke-width:0.8;\" x=\"36.465625\" xlink:href=\"#m619808f5c8\" y=\"199.986939\"/>\r\n      </g>\r\n     </g>\r\n     <g id=\"text_9\">\r\n      <!-- 2.5 -->\r\n      <g transform=\"translate(13.5625 203.786158)scale(0.1 -0.1)\">\r\n       <use xlink:href=\"#DejaVuSans-50\"/>\r\n       <use x=\"63.623047\" xlink:href=\"#DejaVuSans-46\"/>\r\n       <use x=\"95.410156\" xlink:href=\"#DejaVuSans-53\"/>\r\n      </g>\r\n     </g>\r\n    </g>\r\n    <g id=\"ytick_3\">\r\n     <g id=\"line2d_10\">\r\n      <g>\r\n       <use style=\"stroke:#000000;stroke-width:0.8;\" x=\"36.465625\" xlink:href=\"#m619808f5c8\" y=\"175.333878\"/>\r\n      </g>\r\n     </g>\r\n     <g id=\"text_10\">\r\n      <!-- 5.0 -->\r\n      <g transform=\"translate(13.5625 179.133096)scale(0.1 -0.1)\">\r\n       <use xlink:href=\"#DejaVuSans-53\"/>\r\n       <use x=\"63.623047\" xlink:href=\"#DejaVuSans-46\"/>\r\n       <use x=\"95.410156\" xlink:href=\"#DejaVuSans-48\"/>\r\n      </g>\r\n     </g>\r\n    </g>\r\n    <g id=\"ytick_4\">\r\n     <g id=\"line2d_11\">\r\n      <g>\r\n       <use style=\"stroke:#000000;stroke-width:0.8;\" x=\"36.465625\" xlink:href=\"#m619808f5c8\" y=\"150.680816\"/>\r\n      </g>\r\n     </g>\r\n     <g id=\"text_11\">\r\n      <!-- 7.5 -->\r\n      <g transform=\"translate(13.5625 154.480035)scale(0.1 -0.1)\">\r\n       <use xlink:href=\"#DejaVuSans-55\"/>\r\n       <use x=\"63.623047\" xlink:href=\"#DejaVuSans-46\"/>\r\n       <use x=\"95.410156\" xlink:href=\"#DejaVuSans-53\"/>\r\n      </g>\r\n     </g>\r\n    </g>\r\n    <g id=\"ytick_5\">\r\n     <g id=\"line2d_12\">\r\n      <g>\r\n       <use style=\"stroke:#000000;stroke-width:0.8;\" x=\"36.465625\" xlink:href=\"#m619808f5c8\" y=\"126.027755\"/>\r\n      </g>\r\n     </g>\r\n     <g id=\"text_12\">\r\n      <!-- 10.0 -->\r\n      <g transform=\"translate(7.2 129.826974)scale(0.1 -0.1)\">\r\n       <use xlink:href=\"#DejaVuSans-49\"/>\r\n       <use x=\"63.623047\" xlink:href=\"#DejaVuSans-48\"/>\r\n       <use x=\"127.246094\" xlink:href=\"#DejaVuSans-46\"/>\r\n       <use x=\"159.033203\" xlink:href=\"#DejaVuSans-48\"/>\r\n      </g>\r\n     </g>\r\n    </g>\r\n    <g id=\"ytick_6\">\r\n     <g id=\"line2d_13\">\r\n      <g>\r\n       <use style=\"stroke:#000000;stroke-width:0.8;\" x=\"36.465625\" xlink:href=\"#m619808f5c8\" y=\"101.374694\"/>\r\n      </g>\r\n     </g>\r\n     <g id=\"text_13\">\r\n      <!-- 12.5 -->\r\n      <g transform=\"translate(7.2 105.173913)scale(0.1 -0.1)\">\r\n       <use xlink:href=\"#DejaVuSans-49\"/>\r\n       <use x=\"63.623047\" xlink:href=\"#DejaVuSans-50\"/>\r\n       <use x=\"127.246094\" xlink:href=\"#DejaVuSans-46\"/>\r\n       <use x=\"159.033203\" xlink:href=\"#DejaVuSans-53\"/>\r\n      </g>\r\n     </g>\r\n    </g>\r\n    <g id=\"ytick_7\">\r\n     <g id=\"line2d_14\">\r\n      <g>\r\n       <use style=\"stroke:#000000;stroke-width:0.8;\" x=\"36.465625\" xlink:href=\"#m619808f5c8\" y=\"76.721633\"/>\r\n      </g>\r\n     </g>\r\n     <g id=\"text_14\">\r\n      <!-- 15.0 -->\r\n      <g transform=\"translate(7.2 80.520851)scale(0.1 -0.1)\">\r\n       <use xlink:href=\"#DejaVuSans-49\"/>\r\n       <use x=\"63.623047\" xlink:href=\"#DejaVuSans-53\"/>\r\n       <use x=\"127.246094\" xlink:href=\"#DejaVuSans-46\"/>\r\n       <use x=\"159.033203\" xlink:href=\"#DejaVuSans-48\"/>\r\n      </g>\r\n     </g>\r\n    </g>\r\n    <g id=\"ytick_8\">\r\n     <g id=\"line2d_15\">\r\n      <g>\r\n       <use style=\"stroke:#000000;stroke-width:0.8;\" x=\"36.465625\" xlink:href=\"#m619808f5c8\" y=\"52.068571\"/>\r\n      </g>\r\n     </g>\r\n     <g id=\"text_15\">\r\n      <!-- 17.5 -->\r\n      <g transform=\"translate(7.2 55.86779)scale(0.1 -0.1)\">\r\n       <use xlink:href=\"#DejaVuSans-49\"/>\r\n       <use x=\"63.623047\" xlink:href=\"#DejaVuSans-55\"/>\r\n       <use x=\"127.246094\" xlink:href=\"#DejaVuSans-46\"/>\r\n       <use x=\"159.033203\" xlink:href=\"#DejaVuSans-53\"/>\r\n      </g>\r\n     </g>\r\n    </g>\r\n    <g id=\"ytick_9\">\r\n     <g id=\"line2d_16\">\r\n      <g>\r\n       <use style=\"stroke:#000000;stroke-width:0.8;\" x=\"36.465625\" xlink:href=\"#m619808f5c8\" y=\"27.41551\"/>\r\n      </g>\r\n     </g>\r\n     <g id=\"text_16\">\r\n      <!-- 20.0 -->\r\n      <g transform=\"translate(7.2 31.214729)scale(0.1 -0.1)\">\r\n       <use xlink:href=\"#DejaVuSans-50\"/>\r\n       <use x=\"63.623047\" xlink:href=\"#DejaVuSans-48\"/>\r\n       <use x=\"127.246094\" xlink:href=\"#DejaVuSans-46\"/>\r\n       <use x=\"159.033203\" xlink:href=\"#DejaVuSans-48\"/>\r\n      </g>\r\n     </g>\r\n    </g>\r\n   </g>\r\n   <g id=\"patch_14\">\r\n    <path d=\"M 36.465625 224.64 \r\nL 36.465625 7.2 \r\n\" style=\"fill:none;stroke:#000000;stroke-linecap:square;stroke-linejoin:miter;stroke-width:0.8;\"/>\r\n   </g>\r\n   <g id=\"patch_15\">\r\n    <path d=\"M 371.265625 224.64 \r\nL 371.265625 7.2 \r\n\" style=\"fill:none;stroke:#000000;stroke-linecap:square;stroke-linejoin:miter;stroke-width:0.8;\"/>\r\n   </g>\r\n   <g id=\"patch_16\">\r\n    <path d=\"M 36.465625 224.64 \r\nL 371.265625 224.64 \r\n\" style=\"fill:none;stroke:#000000;stroke-linecap:square;stroke-linejoin:miter;stroke-width:0.8;\"/>\r\n   </g>\r\n   <g id=\"patch_17\">\r\n    <path d=\"M 36.465625 7.2 \r\nL 371.265625 7.2 \r\n\" style=\"fill:none;stroke:#000000;stroke-linecap:square;stroke-linejoin:miter;stroke-width:0.8;\"/>\r\n   </g>\r\n  </g>\r\n </g>\r\n <defs>\r\n  <clipPath id=\"pcacd4014ee\">\r\n   <rect height=\"217.44\" width=\"334.8\" x=\"36.465625\" y=\"7.2\"/>\r\n  </clipPath>\r\n </defs>\r\n</svg>\r\n",
      "image/png": "[encoded data removed]"
     },
     "metadata": {
      "needs_background": "light"
     }
    }
   ],
   "source": [
    "\n",
    "n, bins, patches = plt.hist(x=val_results[\"sqrt(Trajectory MSE)\"], bins='auto', color='#0504aa', alpha=0.7, rwidth=0.85)"
   ]
  },
  {
   "cell_type": "code",
   "execution_count": 42,
   "metadata": {},
   "outputs": [
    {
     "output_type": "execute_result",
     "data": {
      "text/plain": [
       "                                                 path   actions   distance  \\\n",
       "0   [[64.69557687480884, -24.668550566250047, -4.2...  [[0, 0]]    1.78879   \n",
       "1   [[54.42096134109004, -3.4496578404607905, -9.7...  [[0, 0]]   0.444115   \n",
       "2   [[40.4996559948789, -14.92417224791055, -4.257...  [[0, 0]]   0.825878   \n",
       "3   [[65.74579444260509, -9.195766226540025, -4.25...  [[0, 0]]    2.19269   \n",
       "4   [[65.52624348092672, -7.184196010265939, -4.25...  [[0, 0]]   0.171503   \n",
       "5   [[71.28862292384198, -38.76622828237414, -4.25...  [[0, 0]]    1.20462   \n",
       "6   [[79.2256928022242, -37.93434064873508, -4.257...  [[0, 0]]    2.21109   \n",
       "7   [[55.8569955779998, -20.13360376810903, -4.257...  [[0, 0]]     0.5717   \n",
       "8   [[58.088820922479634, -38.353023207456154, -4....  [[0, 0]]   0.341862   \n",
       "9   [[84.24260625729205, -16.081232467875704, -4.2...  [[0, 0]]    2.64872   \n",
       "10  [[63.66934951699338, -19.832590293734828, -4.2...  [[0, 0]]     2.6051   \n",
       "11  [[48.81121560345746, -17.34657703438651, -4.25...  [[0, 0]]    1.73496   \n",
       "12  [[68.25785435408115, -19.58727699235044, -4.25...  [[0, 0]]     2.2995   \n",
       "13  [[91.87427570547013, -43.34944073101827, -4.25...  [[0, 0]]    2.39533   \n",
       "14  [[83.14551648978318, -10.54597706188949, -4.25...  [[0, 0]]  0.0799502   \n",
       "15  [[43.19160292610301, -19.34421714215422, -4.25...  [[0, 0]]    1.24435   \n",
       "16  [[61.72639643337546, -10.165040612813746, -5.3...  [[0, 0]]    3.91587   \n",
       "17  [[59.439621061448555, -13.395678470930761, -4....  [[0, 0]]    3.48603   \n",
       "18  [[53.09127669443061, -21.570956304378214, -4.2...  [[0, 0]]   0.948164   \n",
       "19  [[89.38301954752995, -22.563108493782064, -4.2...  [[0, 0]]    2.71364   \n",
       "20  [[51.22513323241413, -20.895740892540697, -4.2...  [[0, 0]]   0.671212   \n",
       "21  [[65.56259184933506, -16.18398431245977, -4.25...  [[0, 0]]     2.5973   \n",
       "22  [[69.79178292480607, -31.305605778750586, -4.2...  [[0, 0]]     0.9436   \n",
       "23  [[98.04349982601174, -37.77935805593801, -4.25...  [[0, 0]]    2.23196   \n",
       "24  [[99.86737608766383, -43.5171079414584, -4.257...  [[0, 0]]    1.90242   \n",
       "25  [[56.23893196868956, -5.964884923987491, -8.96...  [[0, 0]]  0.0894947   \n",
       "26  [[34.07572390852646, -33.80723266673584, -4.25...  [[0, 0]]  0.0571902   \n",
       "27  [[59.81932467877115, -5.766505116623483, -8.89...  [[0, 0]]   0.268408   \n",
       "28  [[44.3561393326663, -32.090719567781925, -4.25...  [[0, 0]]  0.0345755   \n",
       "29  [[52.68486071329857, -8.060745519438427, -4.25...  [[0, 0]]   0.307713   \n",
       "30  [[61.417009469893465, -11.806810866827826, -4....  [[0, 0]]    0.97428   \n",
       "31  [[57.25181043811608, -7.718718629976075, -7.71...  [[0, 0]]    1.27056   \n",
       "32  [[77.51683363141898, -24.280119601952613, -4.2...  [[0, 0]]    2.84891   \n",
       "33  [[43.99459542396629, -6.311346368795468, -4.25...  [[0, 0]]   0.331276   \n",
       "34  [[63.87027729697391, -32.6500169008924, -4.257...  [[0, 0]]   0.689917   \n",
       "35  [[38.72962920635996, -32.03401339870723, -4.25...  [[0, 0]]    1.37612   \n",
       "36  [[78.55782629843164, -31.65045253000362, -4.25...  [[0, 0]]    1.95441   \n",
       "37  [[94.77725567222727, -21.313141751680714, -4.2...  [[0, 0]]    3.81853   \n",
       "38  [[71.4520377651449, -20.82358623843433, -4.257...  [[0, 0]]    0.40134   \n",
       "39  [[83.87652662896289, -9.328049475317625, -4.25...  [[0, 0]]   0.224273   \n",
       "40  [[64.36871589275914, -17.22736927419683, -4.25...  [[0, 0]]     2.4812   \n",
       "41  [[38.781894362838656, -31.920369325068904, -4....  [[0, 0]]    1.36753   \n",
       "42  [[77.96030810811304, -23.275286441596784, -4.2...  [[0, 0]]    3.05765   \n",
       "43  [[48.59678522238235, -24.368744521066883, -4.2...  [[0, 0]]   0.299487   \n",
       "44  [[30.847009640863412, -22.836169364646018, -4....  [[0, 0]]   0.356827   \n",
       "45  [[57.67065279186473, -30.687143874021636, -4.2...  [[0, 0]]    1.14775   \n",
       "46  [[67.89263742765152, -14.111452701769752, -4.2...  [[0, 0]]     2.8522   \n",
       "47  [[48.21493949098814, -19.801490657199164, -4.2...  [[0, 0]]    1.01332   \n",
       "48  [[65.8211261296951, -15.834188618904157, -4.25...  [[0, 0]]    2.61695   \n",
       "49  [[84.15440807374223, -28.77111002906937, -4.25...  [[0, 0]]    3.29317   \n",
       "50  [[69.81911015202114, -20.57107653206401, -4.25...  [[0, 0]]    1.49929   \n",
       "51  [[61.52014879034221, -30.43324370329272, -4.25...  [[0, 0]]    1.18962   \n",
       "52  [[54.8408994487374, -27.69239622366861, -4.257...  [[0, 0]]    1.61904   \n",
       "53  [[69.33072335376679, -26.774158569011753, -4.2...  [[0, 0]]    1.25755   \n",
       "54  [[56.36825784966673, -3.7762682157132117, -9.7...  [[0, 0]]   0.589061   \n",
       "55  [[58.48081799916057, -30.38332464980472, -4.25...  [[0, 0]]    1.25776   \n",
       "56  [[61.88482727539857, -22.157337506389933, -4.2...  [[0, 0]]    2.40445   \n",
       "\n",
       "   cost end_message      time  sqrt(Trajectory MSE)  \n",
       "0     0         End  4.063459              2.042116  \n",
       "1     0         End  1.033919              8.013153  \n",
       "2     0         End  0.227995              2.970733  \n",
       "3     0         End  0.810794              3.482077  \n",
       "4     0         End  0.848574              3.369962  \n",
       "5     0         End  0.334214              2.403448  \n",
       "6     0         End  0.375409              3.392681  \n",
       "7     0         End  0.344453              3.276151  \n",
       "8     0         End  0.447932              4.827337  \n",
       "9     0         End  0.564947             16.990772  \n",
       "10    0         End  0.467384              1.214496  \n",
       "11    0         End  0.329581              3.285722  \n",
       "12    0         End  0.347200              1.184260  \n",
       "13    0         End  0.387715              9.885193  \n",
       "14    0         End  1.400719              2.726025  \n",
       "15    0         End  0.329717              3.767550  \n",
       "16    0         End  0.381158              3.604508  \n",
       "17    0         End  0.338401              7.277608  \n",
       "18    0         End  0.280470              3.443924  \n",
       "19    0         End  0.427127              3.259368  \n",
       "20    0         End  0.295213              3.058140  \n",
       "21    0         End  0.340146              2.168230  \n",
       "22    0         End  0.415296              2.504449  \n",
       "23    0         End  0.517183             12.141720  \n",
       "24    0         End  0.547962             13.425867  \n",
       "25    0         End  0.456894              8.725762  \n",
       "26    0         End  0.398025              6.516039  \n",
       "27    0         End  0.469933              2.628842  \n",
       "28    0         End  0.293736              5.842094  \n",
       "29    0         End  0.284024              4.749367  \n",
       "30    0         End  0.334699              2.768427  \n",
       "31    0         End  0.337335              4.490196  \n",
       "32    0         End  0.390515              1.668279  \n",
       "33    0         End  0.283182              2.378769  \n",
       "34    0         End  0.382060              3.344327  \n",
       "35    0         End  0.341896              5.970683  \n",
       "36    0         End  0.455924              7.360415  \n",
       "37    0         End  0.537894             18.998757  \n",
       "38    0         End  0.626060              1.928743  \n",
       "39    0         End  3.117822              3.551888  \n",
       "40    0         End  0.579022              1.383147  \n",
       "41    0         End  0.481209              5.940910  \n",
       "42    0         End  0.633225              2.129078  \n",
       "43    0         End  0.419249              4.940235  \n",
       "44    0         End  0.251999              5.061965  \n",
       "45    0         End  0.418717              4.195273  \n",
       "46    0         End  0.373135             13.844410  \n",
       "47    0         End  0.304980              3.805188  \n",
       "48    0         End  0.441930              2.042955  \n",
       "49    0         End  0.613811              2.995016  \n",
       "50    0         End  0.553023              1.061253  \n",
       "51    0         End  0.577266              3.594046  \n",
       "52    0         End  0.513885              4.554357  \n",
       "53    0         End  0.343311              1.759785  \n",
       "54    0         End  0.447129              8.759968  \n",
       "55    0         End  0.350466              3.990509  \n",
       "56    0         End  0.395332              3.005295  "
      ],
      "text/html": "<div>\n<style scoped>\n    .dataframe tbody tr th:only-of-type {\n        vertical-align: middle;\n    }\n\n    .dataframe tbody tr th {\n        vertical-align: top;\n    }\n\n    .dataframe thead th {\n        text-align: right;\n    }\n</style>\n<table border=\"1\" class=\"dataframe\">\n  <thead>\n    <tr style=\"text-align: right;\">\n      <th></th>\n      <th>path</th>\n      <th>actions</th>\n      <th>distance</th>\n      <th>cost</th>\n      <th>end_message</th>\n      <th>time</th>\n      <th>sqrt(Trajectory MSE)</th>\n    </tr>\n  </thead>\n  <tbody>\n    <tr>\n      <th>0</th>\n      <td>[[64.69557687480884, -24.668550566250047, -4.2...</td>\n      <td>[[0, 0]]</td>\n      <td>1.78879</td>\n      <td>0</td>\n      <td>End</td>\n      <td>4.063459</td>\n      <td>2.042116</td>\n    </tr>\n    <tr>\n      <th>1</th>\n      <td>[[54.42096134109004, -3.4496578404607905, -9.7...</td>\n      <td>[[0, 0]]</td>\n      <td>0.444115</td>\n      <td>0</td>\n      <td>End</td>\n      <td>1.033919</td>\n      <td>8.013153</td>\n    </tr>\n    <tr>\n      <th>2</th>\n      <td>[[40.4996559948789, -14.92417224791055, -4.257...</td>\n      <td>[[0, 0]]</td>\n      <td>0.825878</td>\n      <td>0</td>\n      <td>End</td>\n      <td>0.227995</td>\n      <td>2.970733</td>\n    </tr>\n    <tr>\n      <th>3</th>\n      <td>[[65.74579444260509, -9.195766226540025, -4.25...</td>\n      <td>[[0, 0]]</td>\n      <td>2.19269</td>\n      <td>0</td>\n      <td>End</td>\n      <td>0.810794</td>\n      <td>3.482077</td>\n    </tr>\n    <tr>\n      <th>4</th>\n      <td>[[65.52624348092672, -7.184196010265939, -4.25...</td>\n      <td>[[0, 0]]</td>\n      <td>0.171503</td>\n      <td>0</td>\n      <td>End</td>\n      <td>0.848574</td>\n      <td>3.369962</td>\n    </tr>\n    <tr>\n      <th>5</th>\n      <td>[[71.28862292384198, -38.76622828237414, -4.25...</td>\n      <td>[[0, 0]]</td>\n      <td>1.20462</td>\n      <td>0</td>\n      <td>End</td>\n      <td>0.334214</td>\n      <td>2.403448</td>\n    </tr>\n    <tr>\n      <th>6</th>\n      <td>[[79.2256928022242, -37.93434064873508, -4.257...</td>\n      <td>[[0, 0]]</td>\n      <td>2.21109</td>\n      <td>0</td>\n      <td>End</td>\n      <td>0.375409</td>\n      <td>3.392681</td>\n    </tr>\n    <tr>\n      <th>7</th>\n      <td>[[55.8569955779998, -20.13360376810903, -4.257...</td>\n      <td>[[0, 0]]</td>\n      <td>0.5717</td>\n      <td>0</td>\n      <td>End</td>\n      <td>0.344453</td>\n      <td>3.276151</td>\n    </tr>\n    <tr>\n      <th>8</th>\n      <td>[[58.088820922479634, -38.353023207456154, -4....</td>\n      <td>[[0, 0]]</td>\n      <td>0.341862</td>\n      <td>0</td>\n      <td>End</td>\n      <td>0.447932</td>\n      <td>4.827337</td>\n    </tr>\n    <tr>\n      <th>9</th>\n      <td>[[84.24260625729205, -16.081232467875704, -4.2...</td>\n      <td>[[0, 0]]</td>\n      <td>2.64872</td>\n      <td>0</td>\n      <td>End</td>\n      <td>0.564947</td>\n      <td>16.990772</td>\n    </tr>\n    <tr>\n      <th>10</th>\n      <td>[[63.66934951699338, -19.832590293734828, -4.2...</td>\n      <td>[[0, 0]]</td>\n      <td>2.6051</td>\n      <td>0</td>\n      <td>End</td>\n      <td>0.467384</td>\n      <td>1.214496</td>\n    </tr>\n    <tr>\n      <th>11</th>\n      <td>[[48.81121560345746, -17.34657703438651, -4.25...</td>\n      <td>[[0, 0]]</td>\n      <td>1.73496</td>\n      <td>0</td>\n      <td>End</td>\n      <td>0.329581</td>\n      <td>3.285722</td>\n    </tr>\n    <tr>\n      <th>12</th>\n      <td>[[68.25785435408115, -19.58727699235044, -4.25...</td>\n      <td>[[0, 0]]</td>\n      <td>2.2995</td>\n      <td>0</td>\n      <td>End</td>\n      <td>0.347200</td>\n      <td>1.184260</td>\n    </tr>\n    <tr>\n      <th>13</th>\n      <td>[[91.87427570547013, -43.34944073101827, -4.25...</td>\n      <td>[[0, 0]]</td>\n      <td>2.39533</td>\n      <td>0</td>\n      <td>End</td>\n      <td>0.387715</td>\n      <td>9.885193</td>\n    </tr>\n    <tr>\n      <th>14</th>\n      <td>[[83.14551648978318, -10.54597706188949, -4.25...</td>\n      <td>[[0, 0]]</td>\n      <td>0.0799502</td>\n      <td>0</td>\n      <td>End</td>\n      <td>1.400719</td>\n      <td>2.726025</td>\n    </tr>\n    <tr>\n      <th>15</th>\n      <td>[[43.19160292610301, -19.34421714215422, -4.25...</td>\n      <td>[[0, 0]]</td>\n      <td>1.24435</td>\n      <td>0</td>\n      <td>End</td>\n      <td>0.329717</td>\n      <td>3.767550</td>\n    </tr>\n    <tr>\n      <th>16</th>\n      <td>[[61.72639643337546, -10.165040612813746, -5.3...</td>\n      <td>[[0, 0]]</td>\n      <td>3.91587</td>\n      <td>0</td>\n      <td>End</td>\n      <td>0.381158</td>\n      <td>3.604508</td>\n    </tr>\n    <tr>\n      <th>17</th>\n      <td>[[59.439621061448555, -13.395678470930761, -4....</td>\n      <td>[[0, 0]]</td>\n      <td>3.48603</td>\n      <td>0</td>\n      <td>End</td>\n      <td>0.338401</td>\n      <td>7.277608</td>\n    </tr>\n    <tr>\n      <th>18</th>\n      <td>[[53.09127669443061, -21.570956304378214, -4.2...</td>\n      <td>[[0, 0]]</td>\n      <td>0.948164</td>\n      <td>0</td>\n      <td>End</td>\n      <td>0.280470</td>\n      <td>3.443924</td>\n    </tr>\n    <tr>\n      <th>19</th>\n      <td>[[89.38301954752995, -22.563108493782064, -4.2...</td>\n      <td>[[0, 0]]</td>\n      <td>2.71364</td>\n      <td>0</td>\n      <td>End</td>\n      <td>0.427127</td>\n      <td>3.259368</td>\n    </tr>\n    <tr>\n      <th>20</th>\n      <td>[[51.22513323241413, -20.895740892540697, -4.2...</td>\n      <td>[[0, 0]]</td>\n      <td>0.671212</td>\n      <td>0</td>\n      <td>End</td>\n      <td>0.295213</td>\n      <td>3.058140</td>\n    </tr>\n    <tr>\n      <th>21</th>\n      <td>[[65.56259184933506, -16.18398431245977, -4.25...</td>\n      <td>[[0, 0]]</td>\n      <td>2.5973</td>\n      <td>0</td>\n      <td>End</td>\n      <td>0.340146</td>\n      <td>2.168230</td>\n    </tr>\n    <tr>\n      <th>22</th>\n      <td>[[69.79178292480607, -31.305605778750586, -4.2...</td>\n      <td>[[0, 0]]</td>\n      <td>0.9436</td>\n      <td>0</td>\n      <td>End</td>\n      <td>0.415296</td>\n      <td>2.504449</td>\n    </tr>\n    <tr>\n      <th>23</th>\n      <td>[[98.04349982601174, -37.77935805593801, -4.25...</td>\n      <td>[[0, 0]]</td>\n      <td>2.23196</td>\n      <td>0</td>\n      <td>End</td>\n      <td>0.517183</td>\n      <td>12.141720</td>\n    </tr>\n    <tr>\n      <th>24</th>\n      <td>[[99.86737608766383, -43.5171079414584, -4.257...</td>\n      <td>[[0, 0]]</td>\n      <td>1.90242</td>\n      <td>0</td>\n      <td>End</td>\n      <td>0.547962</td>\n      <td>13.425867</td>\n    </tr>\n    <tr>\n      <th>25</th>\n      <td>[[56.23893196868956, -5.964884923987491, -8.96...</td>\n      <td>[[0, 0]]</td>\n      <td>0.0894947</td>\n      <td>0</td>\n      <td>End</td>\n      <td>0.456894</td>\n      <td>8.725762</td>\n    </tr>\n    <tr>\n      <th>26</th>\n      <td>[[34.07572390852646, -33.80723266673584, -4.25...</td>\n      <td>[[0, 0]]</td>\n      <td>0.0571902</td>\n      <td>0</td>\n      <td>End</td>\n      <td>0.398025</td>\n      <td>6.516039</td>\n    </tr>\n    <tr>\n      <th>27</th>\n      <td>[[59.81932467877115, -5.766505116623483, -8.89...</td>\n      <td>[[0, 0]]</td>\n      <td>0.268408</td>\n      <td>0</td>\n      <td>End</td>\n      <td>0.469933</td>\n      <td>2.628842</td>\n    </tr>\n    <tr>\n      <th>28</th>\n      <td>[[44.3561393326663, -32.090719567781925, -4.25...</td>\n      <td>[[0, 0]]</td>\n      <td>0.0345755</td>\n      <td>0</td>\n      <td>End</td>\n      <td>0.293736</td>\n      <td>5.842094</td>\n    </tr>\n    <tr>\n      <th>29</th>\n      <td>[[52.68486071329857, -8.060745519438427, -4.25...</td>\n      <td>[[0, 0]]</td>\n      <td>0.307713</td>\n      <td>0</td>\n      <td>End</td>\n      <td>0.284024</td>\n      <td>4.749367</td>\n    </tr>\n    <tr>\n      <th>30</th>\n      <td>[[61.417009469893465, -11.806810866827826, -4....</td>\n      <td>[[0, 0]]</td>\n      <td>0.97428</td>\n      <td>0</td>\n      <td>End</td>\n      <td>0.334699</td>\n      <td>2.768427</td>\n    </tr>\n    <tr>\n      <th>31</th>\n      <td>[[57.25181043811608, -7.718718629976075, -7.71...</td>\n      <td>[[0, 0]]</td>\n      <td>1.27056</td>\n      <td>0</td>\n      <td>End</td>\n      <td>0.337335</td>\n      <td>4.490196</td>\n    </tr>\n    <tr>\n      <th>32</th>\n      <td>[[77.51683363141898, -24.280119601952613, -4.2...</td>\n      <td>[[0, 0]]</td>\n      <td>2.84891</td>\n      <td>0</td>\n      <td>End</td>\n      <td>0.390515</td>\n      <td>1.668279</td>\n    </tr>\n    <tr>\n      <th>33</th>\n      <td>[[43.99459542396629, -6.311346368795468, -4.25...</td>\n      <td>[[0, 0]]</td>\n      <td>0.331276</td>\n      <td>0</td>\n      <td>End</td>\n      <td>0.283182</td>\n      <td>2.378769</td>\n    </tr>\n    <tr>\n      <th>34</th>\n      <td>[[63.87027729697391, -32.6500169008924, -4.257...</td>\n      <td>[[0, 0]]</td>\n      <td>0.689917</td>\n      <td>0</td>\n      <td>End</td>\n      <td>0.382060</td>\n      <td>3.344327</td>\n    </tr>\n    <tr>\n      <th>35</th>\n      <td>[[38.72962920635996, -32.03401339870723, -4.25...</td>\n      <td>[[0, 0]]</td>\n      <td>1.37612</td>\n      <td>0</td>\n      <td>End</td>\n      <td>0.341896</td>\n      <td>5.970683</td>\n    </tr>\n    <tr>\n      <th>36</th>\n      <td>[[78.55782629843164, -31.65045253000362, -4.25...</td>\n      <td>[[0, 0]]</td>\n      <td>1.95441</td>\n      <td>0</td>\n      <td>End</td>\n      <td>0.455924</td>\n      <td>7.360415</td>\n    </tr>\n    <tr>\n      <th>37</th>\n      <td>[[94.77725567222727, -21.313141751680714, -4.2...</td>\n      <td>[[0, 0]]</td>\n      <td>3.81853</td>\n      <td>0</td>\n      <td>End</td>\n      <td>0.537894</td>\n      <td>18.998757</td>\n    </tr>\n    <tr>\n      <th>38</th>\n      <td>[[71.4520377651449, -20.82358623843433, -4.257...</td>\n      <td>[[0, 0]]</td>\n      <td>0.40134</td>\n      <td>0</td>\n      <td>End</td>\n      <td>0.626060</td>\n      <td>1.928743</td>\n    </tr>\n    <tr>\n      <th>39</th>\n      <td>[[83.87652662896289, -9.328049475317625, -4.25...</td>\n      <td>[[0, 0]]</td>\n      <td>0.224273</td>\n      <td>0</td>\n      <td>End</td>\n      <td>3.117822</td>\n      <td>3.551888</td>\n    </tr>\n    <tr>\n      <th>40</th>\n      <td>[[64.36871589275914, -17.22736927419683, -4.25...</td>\n      <td>[[0, 0]]</td>\n      <td>2.4812</td>\n      <td>0</td>\n      <td>End</td>\n      <td>0.579022</td>\n      <td>1.383147</td>\n    </tr>\n    <tr>\n      <th>41</th>\n      <td>[[38.781894362838656, -31.920369325068904, -4....</td>\n      <td>[[0, 0]]</td>\n      <td>1.36753</td>\n      <td>0</td>\n      <td>End</td>\n      <td>0.481209</td>\n      <td>5.940910</td>\n    </tr>\n    <tr>\n      <th>42</th>\n      <td>[[77.96030810811304, -23.275286441596784, -4.2...</td>\n      <td>[[0, 0]]</td>\n      <td>3.05765</td>\n      <td>0</td>\n      <td>End</td>\n      <td>0.633225</td>\n      <td>2.129078</td>\n    </tr>\n    <tr>\n      <th>43</th>\n      <td>[[48.59678522238235, -24.368744521066883, -4.2...</td>\n      <td>[[0, 0]]</td>\n      <td>0.299487</td>\n      <td>0</td>\n      <td>End</td>\n      <td>0.419249</td>\n      <td>4.940235</td>\n    </tr>\n    <tr>\n      <th>44</th>\n      <td>[[30.847009640863412, -22.836169364646018, -4....</td>\n      <td>[[0, 0]]</td>\n      <td>0.356827</td>\n      <td>0</td>\n      <td>End</td>\n      <td>0.251999</td>\n      <td>5.061965</td>\n    </tr>\n    <tr>\n      <th>45</th>\n      <td>[[57.67065279186473, -30.687143874021636, -4.2...</td>\n      <td>[[0, 0]]</td>\n      <td>1.14775</td>\n      <td>0</td>\n      <td>End</td>\n      <td>0.418717</td>\n      <td>4.195273</td>\n    </tr>\n    <tr>\n      <th>46</th>\n      <td>[[67.89263742765152, -14.111452701769752, -4.2...</td>\n      <td>[[0, 0]]</td>\n      <td>2.8522</td>\n      <td>0</td>\n      <td>End</td>\n      <td>0.373135</td>\n      <td>13.844410</td>\n    </tr>\n    <tr>\n      <th>47</th>\n      <td>[[48.21493949098814, -19.801490657199164, -4.2...</td>\n      <td>[[0, 0]]</td>\n      <td>1.01332</td>\n      <td>0</td>\n      <td>End</td>\n      <td>0.304980</td>\n      <td>3.805188</td>\n    </tr>\n    <tr>\n      <th>48</th>\n      <td>[[65.8211261296951, -15.834188618904157, -4.25...</td>\n      <td>[[0, 0]]</td>\n      <td>2.61695</td>\n      <td>0</td>\n      <td>End</td>\n      <td>0.441930</td>\n      <td>2.042955</td>\n    </tr>\n    <tr>\n      <th>49</th>\n      <td>[[84.15440807374223, -28.77111002906937, -4.25...</td>\n      <td>[[0, 0]]</td>\n      <td>3.29317</td>\n      <td>0</td>\n      <td>End</td>\n      <td>0.613811</td>\n      <td>2.995016</td>\n    </tr>\n    <tr>\n      <th>50</th>\n      <td>[[69.81911015202114, -20.57107653206401, -4.25...</td>\n      <td>[[0, 0]]</td>\n      <td>1.49929</td>\n      <td>0</td>\n      <td>End</td>\n      <td>0.553023</td>\n      <td>1.061253</td>\n    </tr>\n    <tr>\n      <th>51</th>\n      <td>[[61.52014879034221, -30.43324370329272, -4.25...</td>\n      <td>[[0, 0]]</td>\n      <td>1.18962</td>\n      <td>0</td>\n      <td>End</td>\n      <td>0.577266</td>\n      <td>3.594046</td>\n    </tr>\n    <tr>\n      <th>52</th>\n      <td>[[54.8408994487374, -27.69239622366861, -4.257...</td>\n      <td>[[0, 0]]</td>\n      <td>1.61904</td>\n      <td>0</td>\n      <td>End</td>\n      <td>0.513885</td>\n      <td>4.554357</td>\n    </tr>\n    <tr>\n      <th>53</th>\n      <td>[[69.33072335376679, -26.774158569011753, -4.2...</td>\n      <td>[[0, 0]]</td>\n      <td>1.25755</td>\n      <td>0</td>\n      <td>End</td>\n      <td>0.343311</td>\n      <td>1.759785</td>\n    </tr>\n    <tr>\n      <th>54</th>\n      <td>[[56.36825784966673, -3.7762682157132117, -9.7...</td>\n      <td>[[0, 0]]</td>\n      <td>0.589061</td>\n      <td>0</td>\n      <td>End</td>\n      <td>0.447129</td>\n      <td>8.759968</td>\n    </tr>\n    <tr>\n      <th>55</th>\n      <td>[[58.48081799916057, -30.38332464980472, -4.25...</td>\n      <td>[[0, 0]]</td>\n      <td>1.25776</td>\n      <td>0</td>\n      <td>End</td>\n      <td>0.350466</td>\n      <td>3.990509</td>\n    </tr>\n    <tr>\n      <th>56</th>\n      <td>[[61.88482727539857, -22.157337506389933, -4.2...</td>\n      <td>[[0, 0]]</td>\n      <td>2.40445</td>\n      <td>0</td>\n      <td>End</td>\n      <td>0.395332</td>\n      <td>3.005295</td>\n    </tr>\n  </tbody>\n</table>\n</div>"
     },
     "metadata": {},
     "execution_count": 42
    }
   ],
   "source": [
    "val_results"
   ]
  },
  {
   "cell_type": "code",
   "execution_count": 32,
   "metadata": {},
   "outputs": [
    {
     "output_type": "stream",
     "name": "stdout",
     "text": [
      "0.0\n"
     ]
    },
    {
     "output_type": "execute_result",
     "data": {
      "text/plain": [
       "                           all result_end result_error\n",
       "distance               1.49334    1.49334          NaN\n",
       "time                  0.566047   0.566047          NaN\n",
       "sqrt(Trajectory MSE)   4.87196    4.87196          NaN"
      ],
      "text/html": "<div>\n<style scoped>\n    .dataframe tbody tr th:only-of-type {\n        vertical-align: middle;\n    }\n\n    .dataframe tbody tr th {\n        vertical-align: top;\n    }\n\n    .dataframe thead th {\n        text-align: right;\n    }\n</style>\n<table border=\"1\" class=\"dataframe\">\n  <thead>\n    <tr style=\"text-align: right;\">\n      <th></th>\n      <th>all</th>\n      <th>result_end</th>\n      <th>result_error</th>\n    </tr>\n  </thead>\n  <tbody>\n    <tr>\n      <th>distance</th>\n      <td>1.49334</td>\n      <td>1.49334</td>\n      <td>NaN</td>\n    </tr>\n    <tr>\n      <th>time</th>\n      <td>0.566047</td>\n      <td>0.566047</td>\n      <td>NaN</td>\n    </tr>\n    <tr>\n      <th>sqrt(Trajectory MSE)</th>\n      <td>4.87196</td>\n      <td>4.87196</td>\n      <td>NaN</td>\n    </tr>\n  </tbody>\n</table>\n</div>"
     },
     "metadata": {},
     "execution_count": 32
    }
   ],
   "source": [
    "val_table = pd.DataFrame(columns = [\"all\",\"result_end\", \"result_error\"])\n",
    "\n",
    "val_table.at['distance', \"result_end\"] = val_results['distance'].loc[val_results['end_message'] == \"End\"].mean()\n",
    "val_table.at['distance', \"result_error\"] = val_results['distance'].loc[val_results['end_message'] == \"Error\"].mean()\n",
    "val_table.at['distance', \"all\"] = val_results['distance'].mean()\n",
    "\n",
    "val_table.at[\"time\", \"result_end\"] = val_results[\"time\"].loc[val_results['end_message'] == \"End\"].mean()\n",
    "val_table.at[\"time\", \"result_error\"] = val_results[\"time\"].loc[val_results['end_message'] == \"Error\"].mean()\n",
    "val_table.at[\"time\", \"all\"] = val_results[\"time\"].mean()\n",
    "\n",
    "val_table.at[\"sqrt(Trajectory MSE)\", \"result_end\"] = val_results[\"sqrt(Trajectory MSE)\"].loc[val_results['end_message'] == \"End\"].mean()\n",
    "val_table.at[\"sqrt(Trajectory MSE)\", \"result_error\"] = val_results[\"sqrt(Trajectory MSE)\"].loc[val_results['end_message'] == \"Error\"].mean()\n",
    "val_table.at[\"sqrt(Trajectory MSE)\", \"all\"] = val_results[\"sqrt(Trajectory MSE)\"].mean()\n",
    "\n",
    "print(val_results[\"time\"].loc[val_results['end_message'] == \"Error\"].count()/len(y_val_single_sequential))\n",
    "val_table\n"
   ]
  },
  {
   "source": [
    "## Compare with heuristic results"
   ],
   "cell_type": "markdown",
   "metadata": {}
  },
  {
   "cell_type": "code",
   "execution_count": 35,
   "metadata": {},
   "outputs": [],
   "source": [
    "from ast import literal_eval\n",
    "samples = pd.read_csv(\"./data/heuristic_samples_metric.csv\", converters={'initial_state': literal_eval, 'final_state': literal_eval, 'h_actions': literal_eval, 'h_path': literal_eval})"
   ]
  },
  {
   "cell_type": "code",
   "execution_count": 36,
   "metadata": {},
   "outputs": [],
   "source": [
    "results= samples.copy()"
   ]
  },
  {
   "cell_type": "code",
   "execution_count": 37,
   "metadata": {
    "tags": []
   },
   "outputs": [
    {
     "output_type": "execute_result",
     "data": {
      "text/plain": [
       "    count         mean         std         min         25%          50%  \\\n",
       "D0  464.0  1037.949465  779.981979    0.001143  238.099339  1084.927422   \n",
       "D1  464.0  -109.969042  186.497363 -664.286328 -219.767671   -33.544771   \n",
       "D2  464.0    -0.690586    0.913037   -4.333594   -1.082213    -0.339180   \n",
       "D3  464.0    -0.110996    0.075754   -0.272563   -0.175906    -0.134497   \n",
       "D4  464.0    -0.015846    0.361746   -1.047180   -0.122068     0.000000   \n",
       "D5  464.0     0.004774    0.023279   -0.113255   -0.000477     0.000002   \n",
       "\n",
       "            75%          max  \n",
       "D0  1671.724701  2292.599315  \n",
       "D1     0.406538   249.233041  \n",
       "D2    -0.003143     0.998591  \n",
       "D3    -0.029880     0.085473  \n",
       "D4     0.038481     1.047196  \n",
       "D5     0.021459     0.058682  "
      ],
      "text/html": "<div>\n<style scoped>\n    .dataframe tbody tr th:only-of-type {\n        vertical-align: middle;\n    }\n\n    .dataframe tbody tr th {\n        vertical-align: top;\n    }\n\n    .dataframe thead th {\n        text-align: right;\n    }\n</style>\n<table border=\"1\" class=\"dataframe\">\n  <thead>\n    <tr style=\"text-align: right;\">\n      <th></th>\n      <th>count</th>\n      <th>mean</th>\n      <th>std</th>\n      <th>min</th>\n      <th>25%</th>\n      <th>50%</th>\n      <th>75%</th>\n      <th>max</th>\n    </tr>\n  </thead>\n  <tbody>\n    <tr>\n      <th>D0</th>\n      <td>464.0</td>\n      <td>1037.949465</td>\n      <td>779.981979</td>\n      <td>0.001143</td>\n      <td>238.099339</td>\n      <td>1084.927422</td>\n      <td>1671.724701</td>\n      <td>2292.599315</td>\n    </tr>\n    <tr>\n      <th>D1</th>\n      <td>464.0</td>\n      <td>-109.969042</td>\n      <td>186.497363</td>\n      <td>-664.286328</td>\n      <td>-219.767671</td>\n      <td>-33.544771</td>\n      <td>0.406538</td>\n      <td>249.233041</td>\n    </tr>\n    <tr>\n      <th>D2</th>\n      <td>464.0</td>\n      <td>-0.690586</td>\n      <td>0.913037</td>\n      <td>-4.333594</td>\n      <td>-1.082213</td>\n      <td>-0.339180</td>\n      <td>-0.003143</td>\n      <td>0.998591</td>\n    </tr>\n    <tr>\n      <th>D3</th>\n      <td>464.0</td>\n      <td>-0.110996</td>\n      <td>0.075754</td>\n      <td>-0.272563</td>\n      <td>-0.175906</td>\n      <td>-0.134497</td>\n      <td>-0.029880</td>\n      <td>0.085473</td>\n    </tr>\n    <tr>\n      <th>D4</th>\n      <td>464.0</td>\n      <td>-0.015846</td>\n      <td>0.361746</td>\n      <td>-1.047180</td>\n      <td>-0.122068</td>\n      <td>0.000000</td>\n      <td>0.038481</td>\n      <td>1.047196</td>\n    </tr>\n    <tr>\n      <th>D5</th>\n      <td>464.0</td>\n      <td>0.004774</td>\n      <td>0.023279</td>\n      <td>-0.113255</td>\n      <td>-0.000477</td>\n      <td>0.000002</td>\n      <td>0.021459</td>\n      <td>0.058682</td>\n    </tr>\n  </tbody>\n</table>\n</div>"
     },
     "metadata": {},
     "execution_count": 37
    }
   ],
   "source": [
    "col = ['D0','D1','D2','D3','D4','D5']\n",
    "distances = []\n",
    "for sample_id, row in samples.iterrows():\n",
    "    target = np.array(results['final_state'][sample_id])\n",
    "    for sample in  samples['h_path'][sample_id]:\n",
    "        distances.append(target[0:6]-sample[0:6])\n",
    "distances = np.array(distances)\n",
    "df = pd.DataFrame (distances, columns = col)\n",
    "data_stats_T = df.describe()\n",
    "data_stats_T = data_stats_T.transpose()\n",
    "data_stats_T"
   ]
  },
  {
   "cell_type": "code",
   "execution_count": 38,
   "metadata": {},
   "outputs": [
    {
     "output_type": "stream",
     "name": "stdout",
     "text": [
      "0\n",
      "End\n",
      "1\n",
      "End\n",
      "2\n",
      "End\n",
      "3\n",
      "End\n",
      "4\n",
      "Error\n",
      "5\n",
      "End\n",
      "6\n",
      "End\n",
      "7\n",
      "End\n",
      "8\n",
      "End\n",
      "9\n",
      "End\n",
      "10\n",
      "End\n",
      "11\n",
      "End\n",
      "12\n",
      "End\n",
      "13\n",
      "End\n",
      "14\n",
      "End\n",
      "15\n",
      "Error\n",
      "16\n",
      "End\n",
      "17\n",
      "End\n",
      "18\n",
      "End\n",
      "19\n",
      "Error\n",
      "20\n",
      "End\n",
      "21\n",
      "End\n",
      "22\n",
      "End\n",
      "23\n",
      "End\n",
      "24\n",
      "End\n",
      "25\n",
      "End\n",
      "26\n",
      "End\n",
      "27\n",
      "End\n",
      "28\n",
      "Error\n",
      "29\n",
      "End\n",
      "30\n",
      "End\n",
      "31\n",
      "End\n",
      "32\n",
      "End\n",
      "33\n",
      "End\n",
      "34\n",
      "End\n",
      "35\n",
      "End\n",
      "36\n",
      "End\n",
      "37\n",
      "End\n",
      "38\n",
      "End\n",
      "39\n",
      "End\n",
      "40\n",
      "End\n",
      "41\n",
      "End\n",
      "42\n",
      "End\n",
      "43\n",
      "End\n",
      "44\n",
      "End\n",
      "45\n",
      "End\n",
      "46\n",
      "End\n",
      "47\n",
      "End\n",
      "48\n",
      "Error\n",
      "49\n",
      "End\n",
      "50\n",
      "Error\n",
      "51\n",
      "End\n",
      "52\n",
      "End\n",
      "53\n",
      "Error\n",
      "54\n",
      "End\n",
      "55\n",
      "End\n",
      "56\n",
      "End\n",
      "57\n",
      "End\n",
      "58\n",
      "Error\n",
      "59\n",
      "End\n",
      "60\n",
      "End\n",
      "61\n",
      "End\n",
      "62\n",
      "End\n",
      "63\n",
      "End\n",
      "64\n",
      "Error\n",
      "65\n",
      "End\n",
      "66\n",
      "End\n",
      "67\n",
      "End\n",
      "68\n",
      "End\n",
      "69\n",
      "End\n",
      "70\n",
      "Error\n",
      "71\n",
      "End\n",
      "72\n",
      "End\n",
      "73\n",
      "Error\n",
      "74\n",
      "End\n",
      "75\n",
      "End\n",
      "76\n",
      "End\n",
      "77\n",
      "End\n",
      "78\n",
      "End\n",
      "79\n",
      "Error\n",
      "80\n",
      "End\n",
      "81\n",
      "Error\n",
      "82\n",
      "Error\n",
      "83\n",
      "End\n",
      "84\n",
      "End\n",
      "85\n",
      "Error\n",
      "86\n",
      "End\n",
      "87\n",
      "End\n",
      "88\n",
      "End\n",
      "89\n",
      "End\n",
      "90\n",
      "End\n",
      "91\n",
      "End\n",
      "92\n",
      "End\n",
      "93\n",
      "End\n",
      "94\n",
      "End\n",
      "95\n",
      "Error\n",
      "96\n",
      "End\n",
      "97\n",
      "End\n",
      "98\n",
      "End\n",
      "99\n",
      "End\n"
     ]
    }
   ],
   "source": [
    "results= samples.copy()\n",
    "for sample_id, row in results.iterrows():\n",
    "    print(sample_id)\n",
    "    initial_action = np.array(results['h_actions'][sample_id][0])\n",
    "    start = np.array(results['initial_state'][sample_id])\n",
    "    target = np.array(results['final_state'][sample_id])\n",
    "    start_time = time.time()\n",
    "    trajectory, cost, actions, end_message = generate_trajectory_Decoder(model, start, target, initial_action, data_stats_T)\n",
    "    results.at[sample_id, \"h_time\"] = time.time() - start_time\n",
    "    results.at[sample_id, \"h_actions\"] = np.array(actions)\n",
    "    results.at[sample_id, \"h_path\"] = np.array(trajectory)\n",
    "    results.at[sample_id, \"h_cost\"] = cost\n",
    "    results.at[sample_id, 'h_distance'] = distance_error(*trajectory[-1,0:2])\n",
    "    results.at[sample_id, 'end_message'] = end_message"
   ]
  },
  {
   "cell_type": "code",
   "execution_count": 39,
   "metadata": {},
   "outputs": [
    {
     "output_type": "stream",
     "name": "stdout",
     "text": [
      "16\n"
     ]
    },
    {
     "output_type": "execute_result",
     "data": {
      "text/plain": [
       "             sample result_end result_error all results\n",
       "h_cost      5215.39          0            0         NaN\n",
       "h_distance  3.95573    42.5784      99.4293     51.6745\n",
       "h_time      388.612   0.501624     0.818508    0.552326"
      ],
      "text/html": "<div>\n<style scoped>\n    .dataframe tbody tr th:only-of-type {\n        vertical-align: middle;\n    }\n\n    .dataframe tbody tr th {\n        vertical-align: top;\n    }\n\n    .dataframe thead th {\n        text-align: right;\n    }\n</style>\n<table border=\"1\" class=\"dataframe\">\n  <thead>\n    <tr style=\"text-align: right;\">\n      <th></th>\n      <th>sample</th>\n      <th>result_end</th>\n      <th>result_error</th>\n      <th>all results</th>\n    </tr>\n  </thead>\n  <tbody>\n    <tr>\n      <th>h_cost</th>\n      <td>5215.39</td>\n      <td>0</td>\n      <td>0</td>\n      <td>NaN</td>\n    </tr>\n    <tr>\n      <th>h_distance</th>\n      <td>3.95573</td>\n      <td>42.5784</td>\n      <td>99.4293</td>\n      <td>51.6745</td>\n    </tr>\n    <tr>\n      <th>h_time</th>\n      <td>388.612</td>\n      <td>0.501624</td>\n      <td>0.818508</td>\n      <td>0.552326</td>\n    </tr>\n  </tbody>\n</table>\n</div>"
     },
     "metadata": {},
     "execution_count": 39
    }
   ],
   "source": [
    "comparsion_table = pd.DataFrame(columns = [\"sample\", \"result_end\", \"result_error\", \"all results\"])\n",
    "comparsion_table.at[\"h_cost\", \"sample\"] = samples[\"h_cost\"].mean()\n",
    "comparsion_table.at[\"h_cost\", \"result_end\"] = results[\"h_cost\"].loc[results['end_message'] == \"End\"].mean()\n",
    "comparsion_table.at[\"h_cost\", \"result_error\"] = results[\"h_cost\"].loc[results['end_message'] == \"Error\"].mean()\n",
    "\n",
    "comparsion_table.at['h_distance', \"sample\"] = samples['h_distance'].mean()\n",
    "comparsion_table.at['h_distance', \"result_end\"] = results['h_distance'].loc[results['end_message'] == \"End\"].mean()\n",
    "comparsion_table.at['h_distance', \"result_error\"] = results['h_distance'].loc[results['end_message'] == \"Error\"].mean()\n",
    "comparsion_table.at['h_distance', \"all results\"] = results['h_distance'].mean()\n",
    "\n",
    "comparsion_table.at['h_time', \"sample\"] = samples[\"h_time\"].mean()\n",
    "comparsion_table.at[\"h_time\", \"result_end\"] = results[\"h_time\"].loc[results['end_message'] == \"End\"].mean()\n",
    "comparsion_table.at[\"h_time\", \"result_error\"] = results[\"h_time\"].loc[results['end_message'] == \"Error\"].mean()\n",
    "comparsion_table.at[\"h_time\", \"all results\"] = results[\"h_time\"].mean()\n",
    "print(results[\"h_time\"].loc[results['end_message'] == \"Error\"].count())\n",
    "comparsion_table\n",
    "\n"
   ]
  },
  {
   "source": [
    "## Plot one single trajectory"
   ],
   "cell_type": "markdown",
   "metadata": {}
  },
  {
   "cell_type": "code",
   "execution_count": 40,
   "metadata": {},
   "outputs": [
    {
     "output_type": "stream",
     "name": "stdout",
     "text": [
      "End\n[2048.80449952 2015.341674   1785.19448922 1537.26513441 1021.22980556\n  561.08997058  118.75871224    0.        ]\n"
     ]
    },
    {
     "output_type": "display_data",
     "data": {
      "text/plain": "<Figure size 432x288 with 1 Axes>",
      "image/svg+xml": "<?xml version=\"1.0\" encoding=\"utf-8\" standalone=\"no\"?>\r\n<!DOCTYPE svg PUBLIC \"-//W3C//DTD SVG 1.1//EN\"\r\n  \"http://www.w3.org/Graphics/SVG/1.1/DTD/svg11.dtd\">\r\n<!-- Created with matplotlib (https://matplotlib.org/) -->\r\n<svg height=\"263.63625pt\" version=\"1.1\" viewBox=\"0 0 383.667188 263.63625\" width=\"383.667188pt\" xmlns=\"http://www.w3.org/2000/svg\" xmlns:xlink=\"http://www.w3.org/1999/xlink\">\r\n <defs>\r\n  <style type=\"text/css\">\r\n*{stroke-linecap:butt;stroke-linejoin:round;}\r\n  </style>\r\n </defs>\r\n <g id=\"figure_1\">\r\n  <g id=\"patch_1\">\r\n   <path d=\"M 0 263.63625 \r\nL 383.667188 263.63625 \r\nL 383.667188 0 \r\nL 0 0 \r\nz\r\n\" style=\"fill:none;\"/>\r\n  </g>\r\n  <g id=\"axes_1\">\r\n   <g id=\"patch_2\">\r\n    <path d=\"M 41.667188 239.758125 \r\nL 376.467188 239.758125 \r\nL 376.467188 22.318125 \r\nL 41.667188 22.318125 \r\nz\r\n\" style=\"fill:#ffffff;\"/>\r\n   </g>\r\n   <g id=\"PathCollection_1\">\r\n    <defs>\r\n     <path d=\"M 0 3 \r\nC 0.795609 3 1.55874 2.683901 2.12132 2.12132 \r\nC 2.683901 1.55874 3 0.795609 3 0 \r\nC 3 -0.795609 2.683901 -1.55874 2.12132 -2.12132 \r\nC 1.55874 -2.683901 0.795609 -3 0 -3 \r\nC -0.795609 -3 -1.55874 -2.683901 -2.12132 -2.12132 \r\nC -2.683901 -1.55874 -3 -0.795609 -3 0 \r\nC -3 0.795609 -2.683901 1.55874 -2.12132 2.12132 \r\nC -1.55874 2.683901 -0.795609 3 0 3 \r\nz\r\n\" id=\"maa6bd11b6c\" style=\"stroke:#ff0000;\"/>\r\n    </defs>\r\n    <g clip-path=\"url(#pe1aa8b94d1)\">\r\n     <use style=\"fill:#ff0000;stroke:#ff0000;\" x=\"358.249612\" xlink:href=\"#maa6bd11b6c\" y=\"215.056464\"/>\r\n     <use style=\"fill:#ff0000;stroke:#ff0000;\" x=\"353.376453\" xlink:href=\"#maa6bd11b6c\" y=\"229.868789\"/>\r\n     <use style=\"fill:#ff0000;stroke:#ff0000;\" x=\"319.860341\" xlink:href=\"#maa6bd11b6c\" y=\"193.866232\"/>\r\n     <use style=\"fill:#ff0000;stroke:#ff0000;\" x=\"283.754629\" xlink:href=\"#maa6bd11b6c\" y=\"123.668813\"/>\r\n     <use style=\"fill:#ff0000;stroke:#ff0000;\" x=\"208.604902\" xlink:href=\"#maa6bd11b6c\" y=\"79.099419\"/>\r\n     <use style=\"fill:#ff0000;stroke:#ff0000;\" x=\"141.595182\" xlink:href=\"#maa6bd11b6c\" y=\"49.10286\"/>\r\n     <use style=\"fill:#ff0000;stroke:#ff0000;\" x=\"77.178908\" xlink:href=\"#maa6bd11b6c\" y=\"32.207461\"/>\r\n     <use style=\"fill:#ff0000;stroke:#ff0000;\" x=\"59.884192\" xlink:href=\"#maa6bd11b6c\" y=\"36.324349\"/>\r\n    </g>\r\n   </g>\r\n   <g id=\"PathCollection_2\">\r\n    <defs>\r\n     <path d=\"M 0 3 \r\nC 0.795609 3 1.55874 2.683901 2.12132 2.12132 \r\nC 2.683901 1.55874 3 0.795609 3 0 \r\nC 3 -0.795609 2.683901 -1.55874 2.12132 -2.12132 \r\nC 1.55874 -2.683901 0.795609 -3 0 -3 \r\nC -0.795609 -3 -1.55874 -2.683901 -2.12132 -2.12132 \r\nC -2.683901 -1.55874 -3 -0.795609 -3 0 \r\nC -3 0.795609 -2.683901 1.55874 -2.12132 2.12132 \r\nC -1.55874 2.683901 -0.795609 3 0 3 \r\nz\r\n\" id=\"m5d7ab6b28e\" style=\"stroke:#0000ff;\"/>\r\n    </defs>\r\n    <g clip-path=\"url(#pe1aa8b94d1)\">\r\n     <use style=\"fill:#0000ff;stroke:#0000ff;\" x=\"59.884192\" xlink:href=\"#m5d7ab6b28e\" y=\"59.693389\"/>\r\n     <use style=\"fill:#0000ff;stroke:#0000ff;\" x=\"125.551459\" xlink:href=\"#m5d7ab6b28e\" y=\"77.143489\"/>\r\n     <use style=\"fill:#0000ff;stroke:#0000ff;\" x=\"191.212695\" xlink:href=\"#m5d7ab6b28e\" y=\"93.555757\"/>\r\n     <use style=\"fill:#0000ff;stroke:#0000ff;\" x=\"219.539768\" xlink:href=\"#m5d7ab6b28e\" y=\"174.54583\"/>\r\n     <use style=\"fill:#0000ff;stroke:#0000ff;\" x=\"332.160492\" xlink:href=\"#m5d7ab6b28e\" y=\"221.458281\"/>\r\n     <use style=\"fill:#0000ff;stroke:#0000ff;\" x=\"358.246548\" xlink:href=\"#m5d7ab6b28e\" y=\"214.954339\"/>\r\n    </g>\r\n   </g>\r\n   <g id=\"PathCollection_3\">\r\n    <defs>\r\n     <path d=\"M 0 3 \r\nC 0.795609 3 1.55874 2.683901 2.12132 2.12132 \r\nC 2.683901 1.55874 3 0.795609 3 0 \r\nC 3 -0.795609 2.683901 -1.55874 2.12132 -2.12132 \r\nC 1.55874 -2.683901 0.795609 -3 0 -3 \r\nC -0.795609 -3 -1.55874 -2.683901 -2.12132 -2.12132 \r\nC -2.683901 -1.55874 -3 -0.795609 -3 0 \r\nC -3 0.795609 -2.683901 1.55874 -2.12132 2.12132 \r\nC -1.55874 2.683901 -0.795609 3 0 3 \r\nz\r\n\" id=\"m8a6629a2f8\" style=\"stroke:#008000;\"/>\r\n    </defs>\r\n    <g clip-path=\"url(#pe1aa8b94d1)\">\r\n     <use style=\"fill:#008000;stroke:#008000;\" x=\"59.884192\" xlink:href=\"#m8a6629a2f8\" y=\"59.693389\"/>\r\n    </g>\r\n   </g>\r\n   <g id=\"PathCollection_4\">\r\n    <defs>\r\n     <path d=\"M 0 3 \r\nC 0.795609 3 1.55874 2.683901 2.12132 2.12132 \r\nC 2.683901 1.55874 3 0.795609 3 0 \r\nC 3 -0.795609 2.683901 -1.55874 2.12132 -2.12132 \r\nC 1.55874 -2.683901 0.795609 -3 0 -3 \r\nC -0.795609 -3 -1.55874 -2.683901 -2.12132 -2.12132 \r\nC -2.683901 -1.55874 -3 -0.795609 -3 0 \r\nC -3 0.795609 -2.683901 1.55874 -2.12132 2.12132 \r\nC -1.55874 2.683901 -0.795609 3 0 3 \r\nz\r\n\" id=\"me13f663a7c\" style=\"stroke:#bfbf00;\"/>\r\n    </defs>\r\n    <g clip-path=\"url(#pe1aa8b94d1)\">\r\n     <use style=\"fill:#bfbf00;stroke:#bfbf00;\" x=\"358.249612\" xlink:href=\"#me13f663a7c\" y=\"215.056464\"/>\r\n    </g>\r\n   </g>\r\n   <g id=\"matplotlib.axis_1\">\r\n    <g id=\"xtick_1\">\r\n     <g id=\"line2d_1\">\r\n      <defs>\r\n       <path d=\"M 0 0 \r\nL 0 3.5 \r\n\" id=\"mb8c2d2ecb2\" style=\"stroke:#000000;stroke-width:0.8;\"/>\r\n      </defs>\r\n      <g>\r\n       <use style=\"stroke:#000000;stroke-width:0.8;\" x=\"59.884192\" xlink:href=\"#mb8c2d2ecb2\" y=\"239.758125\"/>\r\n      </g>\r\n     </g>\r\n     <g id=\"text_1\">\r\n      <!-- 0 -->\r\n      <defs>\r\n       <path d=\"M 31.78125 66.40625 \r\nQ 24.171875 66.40625 20.328125 58.90625 \r\nQ 16.5 51.421875 16.5 36.375 \r\nQ 16.5 21.390625 20.328125 13.890625 \r\nQ 24.171875 6.390625 31.78125 6.390625 \r\nQ 39.453125 6.390625 43.28125 13.890625 \r\nQ 47.125 21.390625 47.125 36.375 \r\nQ 47.125 51.421875 43.28125 58.90625 \r\nQ 39.453125 66.40625 31.78125 66.40625 \r\nz\r\nM 31.78125 74.21875 \r\nQ 44.046875 74.21875 50.515625 64.515625 \r\nQ 56.984375 54.828125 56.984375 36.375 \r\nQ 56.984375 17.96875 50.515625 8.265625 \r\nQ 44.046875 -1.421875 31.78125 -1.421875 \r\nQ 19.53125 -1.421875 13.0625 8.265625 \r\nQ 6.59375 17.96875 6.59375 36.375 \r\nQ 6.59375 54.828125 13.0625 64.515625 \r\nQ 19.53125 74.21875 31.78125 74.21875 \r\nz\r\n\" id=\"DejaVuSans-48\"/>\r\n      </defs>\r\n      <g transform=\"translate(56.702942 254.356563)scale(0.1 -0.1)\">\r\n       <use xlink:href=\"#DejaVuSans-48\"/>\r\n      </g>\r\n     </g>\r\n    </g>\r\n    <g id=\"xtick_2\">\r\n     <g id=\"line2d_2\">\r\n      <g>\r\n       <use style=\"stroke:#000000;stroke-width:0.8;\" x=\"132.698709\" xlink:href=\"#mb8c2d2ecb2\" y=\"239.758125\"/>\r\n      </g>\r\n     </g>\r\n     <g id=\"text_2\">\r\n      <!-- 500 -->\r\n      <defs>\r\n       <path d=\"M 10.796875 72.90625 \r\nL 49.515625 72.90625 \r\nL 49.515625 64.59375 \r\nL 19.828125 64.59375 \r\nL 19.828125 46.734375 \r\nQ 21.96875 47.46875 24.109375 47.828125 \r\nQ 26.265625 48.1875 28.421875 48.1875 \r\nQ 40.625 48.1875 47.75 41.5 \r\nQ 54.890625 34.8125 54.890625 23.390625 \r\nQ 54.890625 11.625 47.5625 5.09375 \r\nQ 40.234375 -1.421875 26.90625 -1.421875 \r\nQ 22.3125 -1.421875 17.546875 -0.640625 \r\nQ 12.796875 0.140625 7.71875 1.703125 \r\nL 7.71875 11.625 \r\nQ 12.109375 9.234375 16.796875 8.0625 \r\nQ 21.484375 6.890625 26.703125 6.890625 \r\nQ 35.15625 6.890625 40.078125 11.328125 \r\nQ 45.015625 15.765625 45.015625 23.390625 \r\nQ 45.015625 31 40.078125 35.4375 \r\nQ 35.15625 39.890625 26.703125 39.890625 \r\nQ 22.75 39.890625 18.8125 39.015625 \r\nQ 14.890625 38.140625 10.796875 36.28125 \r\nz\r\n\" id=\"DejaVuSans-53\"/>\r\n      </defs>\r\n      <g transform=\"translate(123.154959 254.356563)scale(0.1 -0.1)\">\r\n       <use xlink:href=\"#DejaVuSans-53\"/>\r\n       <use x=\"63.623047\" xlink:href=\"#DejaVuSans-48\"/>\r\n       <use x=\"127.246094\" xlink:href=\"#DejaVuSans-48\"/>\r\n      </g>\r\n     </g>\r\n    </g>\r\n    <g id=\"xtick_3\">\r\n     <g id=\"line2d_3\">\r\n      <g>\r\n       <use style=\"stroke:#000000;stroke-width:0.8;\" x=\"205.513226\" xlink:href=\"#mb8c2d2ecb2\" y=\"239.758125\"/>\r\n      </g>\r\n     </g>\r\n     <g id=\"text_3\">\r\n      <!-- 1000 -->\r\n      <defs>\r\n       <path d=\"M 12.40625 8.296875 \r\nL 28.515625 8.296875 \r\nL 28.515625 63.921875 \r\nL 10.984375 60.40625 \r\nL 10.984375 69.390625 \r\nL 28.421875 72.90625 \r\nL 38.28125 72.90625 \r\nL 38.28125 8.296875 \r\nL 54.390625 8.296875 \r\nL 54.390625 0 \r\nL 12.40625 0 \r\nz\r\n\" id=\"DejaVuSans-49\"/>\r\n      </defs>\r\n      <g transform=\"translate(192.788226 254.356563)scale(0.1 -0.1)\">\r\n       <use xlink:href=\"#DejaVuSans-49\"/>\r\n       <use x=\"63.623047\" xlink:href=\"#DejaVuSans-48\"/>\r\n       <use x=\"127.246094\" xlink:href=\"#DejaVuSans-48\"/>\r\n       <use x=\"190.869141\" xlink:href=\"#DejaVuSans-48\"/>\r\n      </g>\r\n     </g>\r\n    </g>\r\n    <g id=\"xtick_4\">\r\n     <g id=\"line2d_4\">\r\n      <g>\r\n       <use style=\"stroke:#000000;stroke-width:0.8;\" x=\"278.327743\" xlink:href=\"#mb8c2d2ecb2\" y=\"239.758125\"/>\r\n      </g>\r\n     </g>\r\n     <g id=\"text_4\">\r\n      <!-- 1500 -->\r\n      <g transform=\"translate(265.602743 254.356563)scale(0.1 -0.1)\">\r\n       <use xlink:href=\"#DejaVuSans-49\"/>\r\n       <use x=\"63.623047\" xlink:href=\"#DejaVuSans-53\"/>\r\n       <use x=\"127.246094\" xlink:href=\"#DejaVuSans-48\"/>\r\n       <use x=\"190.869141\" xlink:href=\"#DejaVuSans-48\"/>\r\n      </g>\r\n     </g>\r\n    </g>\r\n    <g id=\"xtick_5\">\r\n     <g id=\"line2d_5\">\r\n      <g>\r\n       <use style=\"stroke:#000000;stroke-width:0.8;\" x=\"351.14226\" xlink:href=\"#mb8c2d2ecb2\" y=\"239.758125\"/>\r\n      </g>\r\n     </g>\r\n     <g id=\"text_5\">\r\n      <!-- 2000 -->\r\n      <defs>\r\n       <path d=\"M 19.1875 8.296875 \r\nL 53.609375 8.296875 \r\nL 53.609375 0 \r\nL 7.328125 0 \r\nL 7.328125 8.296875 \r\nQ 12.9375 14.109375 22.625 23.890625 \r\nQ 32.328125 33.6875 34.8125 36.53125 \r\nQ 39.546875 41.84375 41.421875 45.53125 \r\nQ 43.3125 49.21875 43.3125 52.78125 \r\nQ 43.3125 58.59375 39.234375 62.25 \r\nQ 35.15625 65.921875 28.609375 65.921875 \r\nQ 23.96875 65.921875 18.8125 64.3125 \r\nQ 13.671875 62.703125 7.8125 59.421875 \r\nL 7.8125 69.390625 \r\nQ 13.765625 71.78125 18.9375 73 \r\nQ 24.125 74.21875 28.421875 74.21875 \r\nQ 39.75 74.21875 46.484375 68.546875 \r\nQ 53.21875 62.890625 53.21875 53.421875 \r\nQ 53.21875 48.921875 51.53125 44.890625 \r\nQ 49.859375 40.875 45.40625 35.40625 \r\nQ 44.1875 33.984375 37.640625 27.21875 \r\nQ 31.109375 20.453125 19.1875 8.296875 \r\nz\r\n\" id=\"DejaVuSans-50\"/>\r\n      </defs>\r\n      <g transform=\"translate(338.41726 254.356563)scale(0.1 -0.1)\">\r\n       <use xlink:href=\"#DejaVuSans-50\"/>\r\n       <use x=\"63.623047\" xlink:href=\"#DejaVuSans-48\"/>\r\n       <use x=\"127.246094\" xlink:href=\"#DejaVuSans-48\"/>\r\n       <use x=\"190.869141\" xlink:href=\"#DejaVuSans-48\"/>\r\n      </g>\r\n     </g>\r\n    </g>\r\n   </g>\r\n   <g id=\"matplotlib.axis_2\">\r\n    <g id=\"ytick_1\">\r\n     <g id=\"line2d_6\">\r\n      <defs>\r\n       <path d=\"M 0 0 \r\nL -3.5 0 \r\n\" id=\"mcca6728813\" style=\"stroke:#000000;stroke-width:0.8;\"/>\r\n      </defs>\r\n      <g>\r\n       <use style=\"stroke:#000000;stroke-width:0.8;\" x=\"41.667188\" xlink:href=\"#mcca6728813\" y=\"224.934731\"/>\r\n      </g>\r\n     </g>\r\n     <g id=\"text_6\">\r\n      <!-- −400 -->\r\n      <defs>\r\n       <path d=\"M 10.59375 35.5 \r\nL 73.1875 35.5 \r\nL 73.1875 27.203125 \r\nL 10.59375 27.203125 \r\nz\r\n\" id=\"DejaVuSans-8722\"/>\r\n       <path d=\"M 37.796875 64.3125 \r\nL 12.890625 25.390625 \r\nL 37.796875 25.390625 \r\nz\r\nM 35.203125 72.90625 \r\nL 47.609375 72.90625 \r\nL 47.609375 25.390625 \r\nL 58.015625 25.390625 \r\nL 58.015625 17.1875 \r\nL 47.609375 17.1875 \r\nL 47.609375 0 \r\nL 37.796875 0 \r\nL 37.796875 17.1875 \r\nL 4.890625 17.1875 \r\nL 4.890625 26.703125 \r\nz\r\n\" id=\"DejaVuSans-52\"/>\r\n      </defs>\r\n      <g transform=\"translate(7.2 228.73395)scale(0.1 -0.1)\">\r\n       <use xlink:href=\"#DejaVuSans-8722\"/>\r\n       <use x=\"83.789062\" xlink:href=\"#DejaVuSans-52\"/>\r\n       <use x=\"147.412109\" xlink:href=\"#DejaVuSans-48\"/>\r\n       <use x=\"211.035156\" xlink:href=\"#DejaVuSans-48\"/>\r\n      </g>\r\n     </g>\r\n    </g>\r\n    <g id=\"ytick_2\">\r\n     <g id=\"line2d_7\">\r\n      <g>\r\n       <use style=\"stroke:#000000;stroke-width:0.8;\" x=\"41.667188\" xlink:href=\"#mcca6728813\" y=\"183.624395\"/>\r\n      </g>\r\n     </g>\r\n     <g id=\"text_7\">\r\n      <!-- −300 -->\r\n      <defs>\r\n       <path d=\"M 40.578125 39.3125 \r\nQ 47.65625 37.796875 51.625 33 \r\nQ 55.609375 28.21875 55.609375 21.1875 \r\nQ 55.609375 10.40625 48.1875 4.484375 \r\nQ 40.765625 -1.421875 27.09375 -1.421875 \r\nQ 22.515625 -1.421875 17.65625 -0.515625 \r\nQ 12.796875 0.390625 7.625 2.203125 \r\nL 7.625 11.71875 \r\nQ 11.71875 9.328125 16.59375 8.109375 \r\nQ 21.484375 6.890625 26.8125 6.890625 \r\nQ 36.078125 6.890625 40.9375 10.546875 \r\nQ 45.796875 14.203125 45.796875 21.1875 \r\nQ 45.796875 27.640625 41.28125 31.265625 \r\nQ 36.765625 34.90625 28.71875 34.90625 \r\nL 20.21875 34.90625 \r\nL 20.21875 43.015625 \r\nL 29.109375 43.015625 \r\nQ 36.375 43.015625 40.234375 45.921875 \r\nQ 44.09375 48.828125 44.09375 54.296875 \r\nQ 44.09375 59.90625 40.109375 62.90625 \r\nQ 36.140625 65.921875 28.71875 65.921875 \r\nQ 24.65625 65.921875 20.015625 65.03125 \r\nQ 15.375 64.15625 9.8125 62.3125 \r\nL 9.8125 71.09375 \r\nQ 15.4375 72.65625 20.34375 73.4375 \r\nQ 25.25 74.21875 29.59375 74.21875 \r\nQ 40.828125 74.21875 47.359375 69.109375 \r\nQ 53.90625 64.015625 53.90625 55.328125 \r\nQ 53.90625 49.265625 50.4375 45.09375 \r\nQ 46.96875 40.921875 40.578125 39.3125 \r\nz\r\n\" id=\"DejaVuSans-51\"/>\r\n      </defs>\r\n      <g transform=\"translate(7.2 187.423614)scale(0.1 -0.1)\">\r\n       <use xlink:href=\"#DejaVuSans-8722\"/>\r\n       <use x=\"83.789062\" xlink:href=\"#DejaVuSans-51\"/>\r\n       <use x=\"147.412109\" xlink:href=\"#DejaVuSans-48\"/>\r\n       <use x=\"211.035156\" xlink:href=\"#DejaVuSans-48\"/>\r\n      </g>\r\n     </g>\r\n    </g>\r\n    <g id=\"ytick_3\">\r\n     <g id=\"line2d_8\">\r\n      <g>\r\n       <use style=\"stroke:#000000;stroke-width:0.8;\" x=\"41.667188\" xlink:href=\"#mcca6728813\" y=\"142.31406\"/>\r\n      </g>\r\n     </g>\r\n     <g id=\"text_8\">\r\n      <!-- −200 -->\r\n      <g transform=\"translate(7.2 146.113278)scale(0.1 -0.1)\">\r\n       <use xlink:href=\"#DejaVuSans-8722\"/>\r\n       <use x=\"83.789062\" xlink:href=\"#DejaVuSans-50\"/>\r\n       <use x=\"147.412109\" xlink:href=\"#DejaVuSans-48\"/>\r\n       <use x=\"211.035156\" xlink:href=\"#DejaVuSans-48\"/>\r\n      </g>\r\n     </g>\r\n    </g>\r\n    <g id=\"ytick_4\">\r\n     <g id=\"line2d_9\">\r\n      <g>\r\n       <use style=\"stroke:#000000;stroke-width:0.8;\" x=\"41.667188\" xlink:href=\"#mcca6728813\" y=\"101.003724\"/>\r\n      </g>\r\n     </g>\r\n     <g id=\"text_9\">\r\n      <!-- −100 -->\r\n      <g transform=\"translate(7.2 104.802943)scale(0.1 -0.1)\">\r\n       <use xlink:href=\"#DejaVuSans-8722\"/>\r\n       <use x=\"83.789062\" xlink:href=\"#DejaVuSans-49\"/>\r\n       <use x=\"147.412109\" xlink:href=\"#DejaVuSans-48\"/>\r\n       <use x=\"211.035156\" xlink:href=\"#DejaVuSans-48\"/>\r\n      </g>\r\n     </g>\r\n    </g>\r\n    <g id=\"ytick_5\">\r\n     <g id=\"line2d_10\">\r\n      <g>\r\n       <use style=\"stroke:#000000;stroke-width:0.8;\" x=\"41.667188\" xlink:href=\"#mcca6728813\" y=\"59.693389\"/>\r\n      </g>\r\n     </g>\r\n     <g id=\"text_10\">\r\n      <!-- 0 -->\r\n      <g transform=\"translate(28.304688 63.492607)scale(0.1 -0.1)\">\r\n       <use xlink:href=\"#DejaVuSans-48\"/>\r\n      </g>\r\n     </g>\r\n    </g>\r\n   </g>\r\n   <g id=\"patch_3\">\r\n    <path d=\"M 41.667188 239.758125 \r\nL 41.667188 22.318125 \r\n\" style=\"fill:none;stroke:#000000;stroke-linecap:square;stroke-linejoin:miter;stroke-width:0.8;\"/>\r\n   </g>\r\n   <g id=\"patch_4\">\r\n    <path d=\"M 376.467188 239.758125 \r\nL 376.467188 22.318125 \r\n\" style=\"fill:none;stroke:#000000;stroke-linecap:square;stroke-linejoin:miter;stroke-width:0.8;\"/>\r\n   </g>\r\n   <g id=\"patch_5\">\r\n    <path d=\"M 41.667187 239.758125 \r\nL 376.467188 239.758125 \r\n\" style=\"fill:none;stroke:#000000;stroke-linecap:square;stroke-linejoin:miter;stroke-width:0.8;\"/>\r\n   </g>\r\n   <g id=\"patch_6\">\r\n    <path d=\"M 41.667187 22.318125 \r\nL 376.467188 22.318125 \r\n\" style=\"fill:none;stroke:#000000;stroke-linecap:square;stroke-linejoin:miter;stroke-width:0.8;\"/>\r\n   </g>\r\n   <g id=\"text_11\">\r\n    <!-- trajectories -->\r\n    <defs>\r\n     <path d=\"M 18.3125 70.21875 \r\nL 18.3125 54.6875 \r\nL 36.8125 54.6875 \r\nL 36.8125 47.703125 \r\nL 18.3125 47.703125 \r\nL 18.3125 18.015625 \r\nQ 18.3125 11.328125 20.140625 9.421875 \r\nQ 21.96875 7.515625 27.59375 7.515625 \r\nL 36.8125 7.515625 \r\nL 36.8125 0 \r\nL 27.59375 0 \r\nQ 17.1875 0 13.234375 3.875 \r\nQ 9.28125 7.765625 9.28125 18.015625 \r\nL 9.28125 47.703125 \r\nL 2.6875 47.703125 \r\nL 2.6875 54.6875 \r\nL 9.28125 54.6875 \r\nL 9.28125 70.21875 \r\nz\r\n\" id=\"DejaVuSans-116\"/>\r\n     <path d=\"M 41.109375 46.296875 \r\nQ 39.59375 47.171875 37.8125 47.578125 \r\nQ 36.03125 48 33.890625 48 \r\nQ 26.265625 48 22.1875 43.046875 \r\nQ 18.109375 38.09375 18.109375 28.8125 \r\nL 18.109375 0 \r\nL 9.078125 0 \r\nL 9.078125 54.6875 \r\nL 18.109375 54.6875 \r\nL 18.109375 46.1875 \r\nQ 20.953125 51.171875 25.484375 53.578125 \r\nQ 30.03125 56 36.53125 56 \r\nQ 37.453125 56 38.578125 55.875 \r\nQ 39.703125 55.765625 41.0625 55.515625 \r\nz\r\n\" id=\"DejaVuSans-114\"/>\r\n     <path d=\"M 34.28125 27.484375 \r\nQ 23.390625 27.484375 19.1875 25 \r\nQ 14.984375 22.515625 14.984375 16.5 \r\nQ 14.984375 11.71875 18.140625 8.90625 \r\nQ 21.296875 6.109375 26.703125 6.109375 \r\nQ 34.1875 6.109375 38.703125 11.40625 \r\nQ 43.21875 16.703125 43.21875 25.484375 \r\nL 43.21875 27.484375 \r\nz\r\nM 52.203125 31.203125 \r\nL 52.203125 0 \r\nL 43.21875 0 \r\nL 43.21875 8.296875 \r\nQ 40.140625 3.328125 35.546875 0.953125 \r\nQ 30.953125 -1.421875 24.3125 -1.421875 \r\nQ 15.921875 -1.421875 10.953125 3.296875 \r\nQ 6 8.015625 6 15.921875 \r\nQ 6 25.140625 12.171875 29.828125 \r\nQ 18.359375 34.515625 30.609375 34.515625 \r\nL 43.21875 34.515625 \r\nL 43.21875 35.40625 \r\nQ 43.21875 41.609375 39.140625 45 \r\nQ 35.0625 48.390625 27.6875 48.390625 \r\nQ 23 48.390625 18.546875 47.265625 \r\nQ 14.109375 46.140625 10.015625 43.890625 \r\nL 10.015625 52.203125 \r\nQ 14.9375 54.109375 19.578125 55.046875 \r\nQ 24.21875 56 28.609375 56 \r\nQ 40.484375 56 46.34375 49.84375 \r\nQ 52.203125 43.703125 52.203125 31.203125 \r\nz\r\n\" id=\"DejaVuSans-97\"/>\r\n     <path d=\"M 9.421875 54.6875 \r\nL 18.40625 54.6875 \r\nL 18.40625 -0.984375 \r\nQ 18.40625 -11.421875 14.421875 -16.109375 \r\nQ 10.453125 -20.796875 1.609375 -20.796875 \r\nL -1.8125 -20.796875 \r\nL -1.8125 -13.1875 \r\nL 0.59375 -13.1875 \r\nQ 5.71875 -13.1875 7.5625 -10.8125 \r\nQ 9.421875 -8.453125 9.421875 -0.984375 \r\nz\r\nM 9.421875 75.984375 \r\nL 18.40625 75.984375 \r\nL 18.40625 64.59375 \r\nL 9.421875 64.59375 \r\nz\r\n\" id=\"DejaVuSans-106\"/>\r\n     <path d=\"M 56.203125 29.59375 \r\nL 56.203125 25.203125 \r\nL 14.890625 25.203125 \r\nQ 15.484375 15.921875 20.484375 11.0625 \r\nQ 25.484375 6.203125 34.421875 6.203125 \r\nQ 39.59375 6.203125 44.453125 7.46875 \r\nQ 49.3125 8.734375 54.109375 11.28125 \r\nL 54.109375 2.78125 \r\nQ 49.265625 0.734375 44.1875 -0.34375 \r\nQ 39.109375 -1.421875 33.890625 -1.421875 \r\nQ 20.796875 -1.421875 13.15625 6.1875 \r\nQ 5.515625 13.8125 5.515625 26.8125 \r\nQ 5.515625 40.234375 12.765625 48.109375 \r\nQ 20.015625 56 32.328125 56 \r\nQ 43.359375 56 49.78125 48.890625 \r\nQ 56.203125 41.796875 56.203125 29.59375 \r\nz\r\nM 47.21875 32.234375 \r\nQ 47.125 39.59375 43.09375 43.984375 \r\nQ 39.0625 48.390625 32.421875 48.390625 \r\nQ 24.90625 48.390625 20.390625 44.140625 \r\nQ 15.875 39.890625 15.1875 32.171875 \r\nz\r\n\" id=\"DejaVuSans-101\"/>\r\n     <path d=\"M 48.78125 52.59375 \r\nL 48.78125 44.1875 \r\nQ 44.96875 46.296875 41.140625 47.34375 \r\nQ 37.3125 48.390625 33.40625 48.390625 \r\nQ 24.65625 48.390625 19.8125 42.84375 \r\nQ 14.984375 37.3125 14.984375 27.296875 \r\nQ 14.984375 17.28125 19.8125 11.734375 \r\nQ 24.65625 6.203125 33.40625 6.203125 \r\nQ 37.3125 6.203125 41.140625 7.25 \r\nQ 44.96875 8.296875 48.78125 10.40625 \r\nL 48.78125 2.09375 \r\nQ 45.015625 0.34375 40.984375 -0.53125 \r\nQ 36.96875 -1.421875 32.421875 -1.421875 \r\nQ 20.0625 -1.421875 12.78125 6.34375 \r\nQ 5.515625 14.109375 5.515625 27.296875 \r\nQ 5.515625 40.671875 12.859375 48.328125 \r\nQ 20.21875 56 33.015625 56 \r\nQ 37.15625 56 41.109375 55.140625 \r\nQ 45.0625 54.296875 48.78125 52.59375 \r\nz\r\n\" id=\"DejaVuSans-99\"/>\r\n     <path d=\"M 30.609375 48.390625 \r\nQ 23.390625 48.390625 19.1875 42.75 \r\nQ 14.984375 37.109375 14.984375 27.296875 \r\nQ 14.984375 17.484375 19.15625 11.84375 \r\nQ 23.34375 6.203125 30.609375 6.203125 \r\nQ 37.796875 6.203125 41.984375 11.859375 \r\nQ 46.1875 17.53125 46.1875 27.296875 \r\nQ 46.1875 37.015625 41.984375 42.703125 \r\nQ 37.796875 48.390625 30.609375 48.390625 \r\nz\r\nM 30.609375 56 \r\nQ 42.328125 56 49.015625 48.375 \r\nQ 55.71875 40.765625 55.71875 27.296875 \r\nQ 55.71875 13.875 49.015625 6.21875 \r\nQ 42.328125 -1.421875 30.609375 -1.421875 \r\nQ 18.84375 -1.421875 12.171875 6.21875 \r\nQ 5.515625 13.875 5.515625 27.296875 \r\nQ 5.515625 40.765625 12.171875 48.375 \r\nQ 18.84375 56 30.609375 56 \r\nz\r\n\" id=\"DejaVuSans-111\"/>\r\n     <path d=\"M 9.421875 54.6875 \r\nL 18.40625 54.6875 \r\nL 18.40625 0 \r\nL 9.421875 0 \r\nz\r\nM 9.421875 75.984375 \r\nL 18.40625 75.984375 \r\nL 18.40625 64.59375 \r\nL 9.421875 64.59375 \r\nz\r\n\" id=\"DejaVuSans-105\"/>\r\n     <path d=\"M 44.28125 53.078125 \r\nL 44.28125 44.578125 \r\nQ 40.484375 46.53125 36.375 47.5 \r\nQ 32.28125 48.484375 27.875 48.484375 \r\nQ 21.1875 48.484375 17.84375 46.4375 \r\nQ 14.5 44.390625 14.5 40.28125 \r\nQ 14.5 37.15625 16.890625 35.375 \r\nQ 19.28125 33.59375 26.515625 31.984375 \r\nL 29.59375 31.296875 \r\nQ 39.15625 29.25 43.1875 25.515625 \r\nQ 47.21875 21.78125 47.21875 15.09375 \r\nQ 47.21875 7.46875 41.1875 3.015625 \r\nQ 35.15625 -1.421875 24.609375 -1.421875 \r\nQ 20.21875 -1.421875 15.453125 -0.5625 \r\nQ 10.6875 0.296875 5.421875 2 \r\nL 5.421875 11.28125 \r\nQ 10.40625 8.6875 15.234375 7.390625 \r\nQ 20.0625 6.109375 24.8125 6.109375 \r\nQ 31.15625 6.109375 34.5625 8.28125 \r\nQ 37.984375 10.453125 37.984375 14.40625 \r\nQ 37.984375 18.0625 35.515625 20.015625 \r\nQ 33.0625 21.96875 24.703125 23.78125 \r\nL 21.578125 24.515625 \r\nQ 13.234375 26.265625 9.515625 29.90625 \r\nQ 5.8125 33.546875 5.8125 39.890625 \r\nQ 5.8125 47.609375 11.28125 51.796875 \r\nQ 16.75 56 26.8125 56 \r\nQ 31.78125 56 36.171875 55.265625 \r\nQ 40.578125 54.546875 44.28125 53.078125 \r\nz\r\n\" id=\"DejaVuSans-115\"/>\r\n    </defs>\r\n    <g transform=\"translate(174.939375 16.318125)scale(0.12 -0.12)\">\r\n     <use xlink:href=\"#DejaVuSans-116\"/>\r\n     <use x=\"39.208984\" xlink:href=\"#DejaVuSans-114\"/>\r\n     <use x=\"80.322266\" xlink:href=\"#DejaVuSans-97\"/>\r\n     <use x=\"141.601562\" xlink:href=\"#DejaVuSans-106\"/>\r\n     <use x=\"169.384766\" xlink:href=\"#DejaVuSans-101\"/>\r\n     <use x=\"230.908203\" xlink:href=\"#DejaVuSans-99\"/>\r\n     <use x=\"285.888672\" xlink:href=\"#DejaVuSans-116\"/>\r\n     <use x=\"325.097656\" xlink:href=\"#DejaVuSans-111\"/>\r\n     <use x=\"386.279297\" xlink:href=\"#DejaVuSans-114\"/>\r\n     <use x=\"427.392578\" xlink:href=\"#DejaVuSans-105\"/>\r\n     <use x=\"455.175781\" xlink:href=\"#DejaVuSans-101\"/>\r\n     <use x=\"516.699219\" xlink:href=\"#DejaVuSans-115\"/>\r\n    </g>\r\n   </g>\r\n   <g id=\"legend_1\">\r\n    <g id=\"patch_7\">\r\n     <path d=\"M 287.398438 89.030625 \r\nL 369.467188 89.030625 \r\nQ 371.467188 89.030625 371.467188 87.030625 \r\nL 371.467188 29.318125 \r\nQ 371.467188 27.318125 369.467188 27.318125 \r\nL 287.398438 27.318125 \r\nQ 285.398438 27.318125 285.398438 29.318125 \r\nL 285.398438 87.030625 \r\nQ 285.398438 89.030625 287.398438 89.030625 \r\nz\r\n\" style=\"fill:#ffffff;opacity:0.8;stroke:#cccccc;stroke-linejoin:miter;\"/>\r\n    </g>\r\n    <g id=\"PathCollection_5\">\r\n     <g>\r\n      <use style=\"fill:#ff0000;stroke:#ff0000;\" x=\"299.398438\" xlink:href=\"#maa6bd11b6c\" y=\"36.291562\"/>\r\n     </g>\r\n    </g>\r\n    <g id=\"text_12\">\r\n     <!-- Prediction -->\r\n     <defs>\r\n      <path d=\"M 19.671875 64.796875 \r\nL 19.671875 37.40625 \r\nL 32.078125 37.40625 \r\nQ 38.96875 37.40625 42.71875 40.96875 \r\nQ 46.484375 44.53125 46.484375 51.125 \r\nQ 46.484375 57.671875 42.71875 61.234375 \r\nQ 38.96875 64.796875 32.078125 64.796875 \r\nz\r\nM 9.8125 72.90625 \r\nL 32.078125 72.90625 \r\nQ 44.34375 72.90625 50.609375 67.359375 \r\nQ 56.890625 61.8125 56.890625 51.125 \r\nQ 56.890625 40.328125 50.609375 34.8125 \r\nQ 44.34375 29.296875 32.078125 29.296875 \r\nL 19.671875 29.296875 \r\nL 19.671875 0 \r\nL 9.8125 0 \r\nz\r\n\" id=\"DejaVuSans-80\"/>\r\n      <path d=\"M 45.40625 46.390625 \r\nL 45.40625 75.984375 \r\nL 54.390625 75.984375 \r\nL 54.390625 0 \r\nL 45.40625 0 \r\nL 45.40625 8.203125 \r\nQ 42.578125 3.328125 38.25 0.953125 \r\nQ 33.9375 -1.421875 27.875 -1.421875 \r\nQ 17.96875 -1.421875 11.734375 6.484375 \r\nQ 5.515625 14.40625 5.515625 27.296875 \r\nQ 5.515625 40.1875 11.734375 48.09375 \r\nQ 17.96875 56 27.875 56 \r\nQ 33.9375 56 38.25 53.625 \r\nQ 42.578125 51.265625 45.40625 46.390625 \r\nz\r\nM 14.796875 27.296875 \r\nQ 14.796875 17.390625 18.875 11.75 \r\nQ 22.953125 6.109375 30.078125 6.109375 \r\nQ 37.203125 6.109375 41.296875 11.75 \r\nQ 45.40625 17.390625 45.40625 27.296875 \r\nQ 45.40625 37.203125 41.296875 42.84375 \r\nQ 37.203125 48.484375 30.078125 48.484375 \r\nQ 22.953125 48.484375 18.875 42.84375 \r\nQ 14.796875 37.203125 14.796875 27.296875 \r\nz\r\n\" id=\"DejaVuSans-100\"/>\r\n      <path d=\"M 54.890625 33.015625 \r\nL 54.890625 0 \r\nL 45.90625 0 \r\nL 45.90625 32.71875 \r\nQ 45.90625 40.484375 42.875 44.328125 \r\nQ 39.84375 48.1875 33.796875 48.1875 \r\nQ 26.515625 48.1875 22.3125 43.546875 \r\nQ 18.109375 38.921875 18.109375 30.90625 \r\nL 18.109375 0 \r\nL 9.078125 0 \r\nL 9.078125 54.6875 \r\nL 18.109375 54.6875 \r\nL 18.109375 46.1875 \r\nQ 21.34375 51.125 25.703125 53.5625 \r\nQ 30.078125 56 35.796875 56 \r\nQ 45.21875 56 50.046875 50.171875 \r\nQ 54.890625 44.34375 54.890625 33.015625 \r\nz\r\n\" id=\"DejaVuSans-110\"/>\r\n     </defs>\r\n     <g transform=\"translate(317.398438 38.916562)scale(0.1 -0.1)\">\r\n      <use xlink:href=\"#DejaVuSans-80\"/>\r\n      <use x=\"60.287109\" xlink:href=\"#DejaVuSans-114\"/>\r\n      <use x=\"101.369141\" xlink:href=\"#DejaVuSans-101\"/>\r\n      <use x=\"162.892578\" xlink:href=\"#DejaVuSans-100\"/>\r\n      <use x=\"226.369141\" xlink:href=\"#DejaVuSans-105\"/>\r\n      <use x=\"254.152344\" xlink:href=\"#DejaVuSans-99\"/>\r\n      <use x=\"309.132812\" xlink:href=\"#DejaVuSans-116\"/>\r\n      <use x=\"348.341797\" xlink:href=\"#DejaVuSans-105\"/>\r\n      <use x=\"376.125\" xlink:href=\"#DejaVuSans-111\"/>\r\n      <use x=\"437.306641\" xlink:href=\"#DejaVuSans-110\"/>\r\n     </g>\r\n    </g>\r\n    <g id=\"PathCollection_6\">\r\n     <g>\r\n      <use style=\"fill:#0000ff;stroke:#0000ff;\" x=\"299.398438\" xlink:href=\"#m5d7ab6b28e\" y=\"50.969687\"/>\r\n     </g>\r\n    </g>\r\n    <g id=\"text_13\">\r\n     <!-- Real -->\r\n     <defs>\r\n      <path d=\"M 44.390625 34.1875 \r\nQ 47.5625 33.109375 50.5625 29.59375 \r\nQ 53.5625 26.078125 56.59375 19.921875 \r\nL 66.609375 0 \r\nL 56 0 \r\nL 46.6875 18.703125 \r\nQ 43.0625 26.03125 39.671875 28.421875 \r\nQ 36.28125 30.8125 30.421875 30.8125 \r\nL 19.671875 30.8125 \r\nL 19.671875 0 \r\nL 9.8125 0 \r\nL 9.8125 72.90625 \r\nL 32.078125 72.90625 \r\nQ 44.578125 72.90625 50.734375 67.671875 \r\nQ 56.890625 62.453125 56.890625 51.90625 \r\nQ 56.890625 45.015625 53.6875 40.46875 \r\nQ 50.484375 35.9375 44.390625 34.1875 \r\nz\r\nM 19.671875 64.796875 \r\nL 19.671875 38.921875 \r\nL 32.078125 38.921875 \r\nQ 39.203125 38.921875 42.84375 42.21875 \r\nQ 46.484375 45.515625 46.484375 51.90625 \r\nQ 46.484375 58.296875 42.84375 61.546875 \r\nQ 39.203125 64.796875 32.078125 64.796875 \r\nz\r\n\" id=\"DejaVuSans-82\"/>\r\n      <path d=\"M 9.421875 75.984375 \r\nL 18.40625 75.984375 \r\nL 18.40625 0 \r\nL 9.421875 0 \r\nz\r\n\" id=\"DejaVuSans-108\"/>\r\n     </defs>\r\n     <g transform=\"translate(317.398438 53.594687)scale(0.1 -0.1)\">\r\n      <use xlink:href=\"#DejaVuSans-82\"/>\r\n      <use x=\"69.419922\" xlink:href=\"#DejaVuSans-101\"/>\r\n      <use x=\"130.943359\" xlink:href=\"#DejaVuSans-97\"/>\r\n      <use x=\"192.222656\" xlink:href=\"#DejaVuSans-108\"/>\r\n     </g>\r\n    </g>\r\n    <g id=\"PathCollection_7\">\r\n     <g>\r\n      <use style=\"fill:#008000;stroke:#008000;\" x=\"299.398438\" xlink:href=\"#m8a6629a2f8\" y=\"65.647812\"/>\r\n     </g>\r\n    </g>\r\n    <g id=\"text_14\">\r\n     <!-- Target -->\r\n     <defs>\r\n      <path d=\"M -0.296875 72.90625 \r\nL 61.375 72.90625 \r\nL 61.375 64.59375 \r\nL 35.5 64.59375 \r\nL 35.5 0 \r\nL 25.59375 0 \r\nL 25.59375 64.59375 \r\nL -0.296875 64.59375 \r\nz\r\n\" id=\"DejaVuSans-84\"/>\r\n      <path d=\"M 45.40625 27.984375 \r\nQ 45.40625 37.75 41.375 43.109375 \r\nQ 37.359375 48.484375 30.078125 48.484375 \r\nQ 22.859375 48.484375 18.828125 43.109375 \r\nQ 14.796875 37.75 14.796875 27.984375 \r\nQ 14.796875 18.265625 18.828125 12.890625 \r\nQ 22.859375 7.515625 30.078125 7.515625 \r\nQ 37.359375 7.515625 41.375 12.890625 \r\nQ 45.40625 18.265625 45.40625 27.984375 \r\nz\r\nM 54.390625 6.78125 \r\nQ 54.390625 -7.171875 48.1875 -13.984375 \r\nQ 42 -20.796875 29.203125 -20.796875 \r\nQ 24.46875 -20.796875 20.265625 -20.09375 \r\nQ 16.0625 -19.390625 12.109375 -17.921875 \r\nL 12.109375 -9.1875 \r\nQ 16.0625 -11.328125 19.921875 -12.34375 \r\nQ 23.78125 -13.375 27.78125 -13.375 \r\nQ 36.625 -13.375 41.015625 -8.765625 \r\nQ 45.40625 -4.15625 45.40625 5.171875 \r\nL 45.40625 9.625 \r\nQ 42.625 4.78125 38.28125 2.390625 \r\nQ 33.9375 0 27.875 0 \r\nQ 17.828125 0 11.671875 7.65625 \r\nQ 5.515625 15.328125 5.515625 27.984375 \r\nQ 5.515625 40.671875 11.671875 48.328125 \r\nQ 17.828125 56 27.875 56 \r\nQ 33.9375 56 38.28125 53.609375 \r\nQ 42.625 51.21875 45.40625 46.390625 \r\nL 45.40625 54.6875 \r\nL 54.390625 54.6875 \r\nz\r\n\" id=\"DejaVuSans-103\"/>\r\n     </defs>\r\n     <g transform=\"translate(317.398438 68.272812)scale(0.1 -0.1)\">\r\n      <use xlink:href=\"#DejaVuSans-84\"/>\r\n      <use x=\"60.833984\" xlink:href=\"#DejaVuSans-97\"/>\r\n      <use x=\"122.113281\" xlink:href=\"#DejaVuSans-114\"/>\r\n      <use x=\"163.210938\" xlink:href=\"#DejaVuSans-103\"/>\r\n      <use x=\"226.6875\" xlink:href=\"#DejaVuSans-101\"/>\r\n      <use x=\"288.210938\" xlink:href=\"#DejaVuSans-116\"/>\r\n     </g>\r\n    </g>\r\n    <g id=\"PathCollection_8\">\r\n     <g>\r\n      <use style=\"fill:#bfbf00;stroke:#bfbf00;\" x=\"299.398438\" xlink:href=\"#me13f663a7c\" y=\"80.325938\"/>\r\n     </g>\r\n    </g>\r\n    <g id=\"text_15\">\r\n     <!-- Start -->\r\n     <defs>\r\n      <path d=\"M 53.515625 70.515625 \r\nL 53.515625 60.890625 \r\nQ 47.90625 63.578125 42.921875 64.890625 \r\nQ 37.9375 66.21875 33.296875 66.21875 \r\nQ 25.25 66.21875 20.875 63.09375 \r\nQ 16.5 59.96875 16.5 54.203125 \r\nQ 16.5 49.359375 19.40625 46.890625 \r\nQ 22.3125 44.4375 30.421875 42.921875 \r\nL 36.375 41.703125 \r\nQ 47.40625 39.59375 52.65625 34.296875 \r\nQ 57.90625 29 57.90625 20.125 \r\nQ 57.90625 9.515625 50.796875 4.046875 \r\nQ 43.703125 -1.421875 29.984375 -1.421875 \r\nQ 24.8125 -1.421875 18.96875 -0.25 \r\nQ 13.140625 0.921875 6.890625 3.21875 \r\nL 6.890625 13.375 \r\nQ 12.890625 10.015625 18.65625 8.296875 \r\nQ 24.421875 6.59375 29.984375 6.59375 \r\nQ 38.421875 6.59375 43.015625 9.90625 \r\nQ 47.609375 13.234375 47.609375 19.390625 \r\nQ 47.609375 24.75 44.3125 27.78125 \r\nQ 41.015625 30.8125 33.5 32.328125 \r\nL 27.484375 33.5 \r\nQ 16.453125 35.6875 11.515625 40.375 \r\nQ 6.59375 45.0625 6.59375 53.421875 \r\nQ 6.59375 63.09375 13.40625 68.65625 \r\nQ 20.21875 74.21875 32.171875 74.21875 \r\nQ 37.3125 74.21875 42.625 73.28125 \r\nQ 47.953125 72.359375 53.515625 70.515625 \r\nz\r\n\" id=\"DejaVuSans-83\"/>\r\n     </defs>\r\n     <g transform=\"translate(317.398438 82.950938)scale(0.1 -0.1)\">\r\n      <use xlink:href=\"#DejaVuSans-83\"/>\r\n      <use x=\"63.476562\" xlink:href=\"#DejaVuSans-116\"/>\r\n      <use x=\"102.685547\" xlink:href=\"#DejaVuSans-97\"/>\r\n      <use x=\"163.964844\" xlink:href=\"#DejaVuSans-114\"/>\r\n      <use x=\"205.078125\" xlink:href=\"#DejaVuSans-116\"/>\r\n     </g>\r\n    </g>\r\n   </g>\r\n  </g>\r\n </g>\r\n <defs>\r\n  <clipPath id=\"pe1aa8b94d1\">\r\n   <rect height=\"217.44\" width=\"334.8\" x=\"41.667188\" y=\"22.318125\"/>\r\n  </clipPath>\r\n </defs>\r\n</svg>\r\n",
      "image/png": "[encoded data removed]"
     },
     "metadata": {
      "needs_background": "light"
     }
    }
   ],
   "source": [
    "sample_id = 7\n",
    "initial_action = np.array(samples['initial_state'][sample_id][6:8])\n",
    "start = np.array(samples['initial_state'][sample_id][0:6])\n",
    "target = np.array(samples['final_state'][sample_id][0:6])\n",
    "distancia_inicial = target - start\n",
    "teorico = []\n",
    "for sample in  samples['h_path'][sample_id]:\n",
    "    teorico.append(sample[0:6])\n",
    "teorico = np.array(teorico)\n",
    "\n",
    "trajectory, cost, actions, end_message= generate_trajectory_Decoder(model, start, target, initial_action, data_stats_T)\n",
    "trajectory = np.array(trajectory)\n",
    "print(trajectory[:,0])\n",
    "\n",
    "plt.figure()\n",
    "\n",
    "plt.scatter(trajectory[:,0], trajectory[:,1], c='r', label='Prediction')\n",
    "plt.scatter(teorico[:,0], teorico[:,1], c='b', label='Real')\n",
    "plt.scatter(ZT_norm[0],ZT_norm[1], c='g', label='Target')\n",
    "plt.scatter(distancia_inicial[0],distancia_inicial[1], c='y', label='Start')\n",
    "plt.title(\"trajectories\")\n",
    "plt.legend()\n",
    "\n",
    "plt.show()\n",
    "\n"
   ]
  }
 ],
 "metadata": {
  "colab": {
   "collapsed_sections": [],
   "name": "regression.ipynb",
   "private_outputs": true,
   "provenance": [],
   "toc_visible": true
  },
  "kernelspec": {
   "display_name": "Python 3.7.5 64-bit ('pasky': virtualenv)",
   "name": "python37564bitpaskyvirtualenvdb13efe5d4c0467fbbb744965ba97dd5"
  },
  "language_info": {
   "codemirror_mode": {
    "name": "ipython",
    "version": 3
   },
   "file_extension": ".py",
   "mimetype": "text/x-python",
   "name": "python",
   "nbconvert_exporter": "python",
   "pygments_lexer": "ipython3",
   "version": "3.7.5-final"
  }
 },
 "nbformat": 4,
 "nbformat_minor": 0
}