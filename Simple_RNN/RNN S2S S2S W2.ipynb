{
 "cells": [
  {
   "cell_type": "markdown",
   "metadata": {
    "colab_type": "text",
    "id": "EIdT9iu_Z4Rb"
   },
   "source": [
    "# S2S RNN to predict next state"
   ]
  },
  {
   "cell_type": "markdown",
   "metadata": {
    "colab_type": "text",
    "id": "AHp3M9ZmrIxj"
   },
   "source": [
    "We aim to predict the next steps on time series"
   ]
  },
  {
   "cell_type": "code",
   "execution_count": 1,
   "metadata": {},
   "outputs": [],
   "source": [
    "from __future__ import absolute_import, division, print_function, unicode_literals\n",
    "import pathlib\n",
    "import matplotlib.pyplot as plt\n",
    "import numpy as np\n",
    "import pandas as pd\n",
    "import seaborn as sns\n",
    "import pprint as pprint\n",
    "import math\n",
    "import time"
   ]
  },
  {
   "cell_type": "code",
   "execution_count": 2,
   "metadata": {
    "tags": []
   },
   "outputs": [
    {
     "output_type": "stream",
     "name": "stdout",
     "text": [
      "2.1.0\n"
     ]
    }
   ],
   "source": [
    "try:\n",
    "  # %tensorflow_version only exists in Colab.\n",
    "  %tensorflow_version 2.x\n",
    "except Exception:\n",
    "  pass\n",
    "import tensorflow as tf\n",
    "\n",
    "from tensorflow import keras\n",
    "from tensorflow.keras import layers\n",
    "\n",
    "print(tf.__version__)"
   ]
  },
  {
   "cell_type": "code",
   "execution_count": 3,
   "metadata": {},
   "outputs": [],
   "source": [
    "import tensorflow_docs as tfdocs\n",
    "import tensorflow_docs.plots\n",
    "import tensorflow_docs.modeling\n",
    "import os\n",
    "import json\n",
    "import pickle\n",
    "import sklearn\n",
    "from sklearn import neighbors"
   ]
  },
  {
   "cell_type": "code",
   "execution_count": 4,
   "metadata": {
    "tags": []
   },
   "outputs": [
    {
     "output_type": "stream",
     "name": "stdout",
     "text": [
      "importing Jupyter notebook from Process_Training_Data_2.ipynb\n",
      "      id_camino         D0         D1        D2   D3   D4   D5       A0   A1\n",
      "0             0  85.591116  -9.250073 -4.257165  0.0  0.0  0.0 -0.05236  0.0\n",
      "15            1  98.043500 -37.779358 -4.257165  0.0  0.0  0.0 -0.03491  0.0\n",
      "25            2  91.272922 -36.852284 -4.257165  0.0  0.0  0.0 -0.00000  0.0\n",
      "34            3  94.839433  -8.007799 -4.257165  0.0  0.0  0.0 -0.05236  0.0\n",
      "52            4  69.791783 -31.305606 -4.257165  0.0  0.0  0.0 -0.00000  0.0\n",
      "...         ...        ...        ...       ...  ...  ...  ...      ...  ...\n",
      "2042        235  41.074009 -34.144254 -4.257165  0.0  0.0  0.0 -0.00000  0.0\n",
      "2048        236  40.754941 -11.474966 -4.257165  0.0  0.0  0.0 -0.00000  0.0\n",
      "2054        237  36.542365 -20.220654 -4.257165  0.0  0.0  0.0 -0.00000  0.0\n",
      "2059        238  77.290122 -11.950868 -4.257165  0.0  0.0  0.0 -0.03491  0.0\n",
      "2072        239  38.729629 -32.034013 -4.257165  0.0  0.0  0.0 -0.00000  0.0\n",
      "\n",
      "[240 rows x 9 columns]\n"
     ]
    }
   ],
   "source": [
    "import import_ipynb\n",
    "\n",
    "import Process_Training_Data_2\n",
    "\n",
    "from Process_Training_Data_2 import norm\n",
    "from Process_Training_Data_2 import denorm\n",
    "from Process_Training_Data_2 import class_to_action\n",
    "from Process_Training_Data_2 import closest_category"
   ]
  },
  {
   "cell_type": "markdown",
   "metadata": {
    "colab_type": "text",
    "id": "gFh9ne3FZ-On"
   },
   "source": [
    "### Get the data\n",
    "First Import it using pandas"
   ]
  },
  {
   "cell_type": "code",
   "execution_count": 5,
   "metadata": {},
   "outputs": [],
   "source": [
    "dataset_short = Process_Training_Data_2.get_data(\"./data/OSPA_training_data 2.csv\")\n",
    "\n",
    "action_vector = [\"A0\",\"A1\"]\n",
    "normed_dataset = Process_Training_Data_2.normalize_data(dataset_short,action_vector)\n",
    "\n",
    "N_STEPS = 10\n",
    "position = \"post\"\n",
    "dataset2 = Process_Training_Data_2.padding(normed_dataset,N_STEPS,position)"
   ]
  },
  {
   "cell_type": "code",
   "execution_count": 6,
   "metadata": {},
   "outputs": [
    {
     "output_type": "execute_result",
     "data": {
      "text/plain": [
       "0    0.0\n",
       "1    0.0\n",
       "2    0.0\n",
       "3    0.0\n",
       "4    0.0\n",
       "5    0.0\n",
       "Name: std, dtype: float64"
      ]
     },
     "metadata": {},
     "execution_count": 6
    }
   ],
   "source": [
    "Zero_Target= [0,0,0,0,0,0]\n",
    "data_stats=pd.read_csv(\"./data/data_stats2.csv\")\n",
    "ZT_norm = norm(Zero_Target, data_stats)\n",
    "ZT_norm "
   ]
  },
  {
   "cell_type": "markdown",
   "metadata": {
    "colab_type": "text",
    "id": "Cuym4yvk76vU"
   },
   "source": [
    "### Split the data into train and test\n",
    "\n",
    "Now split the dataset into a training set and a test set.\n",
    "\n",
    "We take the first TRAIN_SPLIT values as train data\n",
    "\n",
    "We will use the test set in the final evaluation of our model."
   ]
  },
  {
   "cell_type": "markdown",
   "metadata": {
    "colab_type": "text",
    "id": "Db7Auq1yXUvh"
   },
   "source": [
    "### Split features from labels\n",
    "\n",
    "Separate the target value, or \"label\", from the features. This label is the value that you will train the model to predict."
   ]
  },
  {
   "cell_type": "code",
   "execution_count": 7,
   "metadata": {},
   "outputs": [],
   "source": [
    "def multivariate_data(dataset, target, start_index, end_index, history_size,\n",
    "                      target_size, step, prediction_type):\n",
    "  data = []\n",
    "  labels = []\n",
    "\n",
    "  if end_index is None:\n",
    "    end_index = len(dataset)\n",
    "\n",
    "  for i in range(start_index, end_index):\n",
    "    indices = range(0, history_size)\n",
    "    data.append(dataset[i,indices,:])\n",
    "\n",
    "    if prediction_type is \"single_step\":\n",
    "      labels.append(target[i,history_size + target_size])\n",
    "    elif prediction_type is \"multiple_step\":\n",
    "      labels.append(target[i,history_size:history_size+target_size])\n",
    "    elif prediction_type  is \"sequence\":\n",
    "      labels.append(target[i, 1:history_size + 1])   \n",
    "\n",
    "  return np.array(data), np.array(labels)"
   ]
  },
  {
   "cell_type": "markdown",
   "metadata": {},
   "source": [
    "## single step model using sequential output\n",
    "Given a sequence of actions, the model should predict the same sequency one step in the future"
   ]
  },
  {
   "cell_type": "markdown",
   "metadata": {},
   "source": [
    "### Split features from labels"
   ]
  },
  {
   "cell_type": "code",
   "execution_count": 8,
   "metadata": {},
   "outputs": [],
   "source": [
    "np.random.shuffle(dataset2)"
   ]
  },
  {
   "cell_type": "code",
   "execution_count": 9,
   "metadata": {},
   "outputs": [],
   "source": [
    "TRAIN_SPLIT = int(len(dataset2)*0.8)\n",
    "past_history = N_STEPS\n",
    "future_target = 0\n",
    "STEP = N_STEPS+1\n",
    "prediction_type =\"sequence\"\n",
    "features_dataset = dataset2[:,:STEP,:6]\n",
    "target_dataset = dataset2[:,0:,:6]\n",
    "\n",
    "x_train_single_sequential, y_train_single_sequential = multivariate_data(features_dataset, target_dataset,0, TRAIN_SPLIT, past_history, future_target, STEP, prediction_type)\n",
    "\n",
    "x_val_single_sequential, y_val_single_sequential = multivariate_data(features_dataset, target_dataset, TRAIN_SPLIT, None, past_history, future_target, STEP, prediction_type)"
   ]
  },
  {
   "cell_type": "code",
   "execution_count": 10,
   "metadata": {
    "tags": []
   },
   "outputs": [
    {
     "output_type": "stream",
     "name": "stdout",
     "text": [
      "Single window of past history : (10, 6)\n"
     ]
    }
   ],
   "source": [
    "print ('Single window of past history : {}'.format(x_train_single_sequential[0].shape))"
   ]
  },
  {
   "cell_type": "code",
   "execution_count": 11,
   "metadata": {},
   "outputs": [],
   "source": [
    "BATCH_SIZE = 1\n",
    "# BUFFER_SIZE = 10000\n",
    "\n",
    "train_data_single_sequential = tf.data.Dataset.from_tensor_slices((x_train_single_sequential, y_train_single_sequential))\n",
    "train_data_single_sequential = train_data_single_sequential.cache().batch(BATCH_SIZE).repeat()\n",
    "\n",
    "val_data_single_sequential = tf.data.Dataset.from_tensor_slices((x_val_single_sequential, y_val_single_sequential))\n",
    "val_data_single_sequential = val_data_single_sequential.batch(BATCH_SIZE).repeat()"
   ]
  },
  {
   "cell_type": "markdown",
   "metadata": {},
   "source": [
    "### Build the model"
   ]
  },
  {
   "source": [
    "sample_weight"
   ],
   "cell_type": "markdown",
   "metadata": {}
  },
  {
   "cell_type": "code",
   "execution_count": 12,
   "metadata": {},
   "outputs": [
    {
     "output_type": "execute_result",
     "data": {
      "text/plain": [
       "<tf.Tensor: shape=(1, 8, 6), dtype=int32, numpy=\n",
       "array([[[1, 1, 1, 1, 1, 1],\n",
       "        [2, 2, 2, 2, 2, 2],\n",
       "        [3, 3, 3, 3, 3, 3],\n",
       "        [3, 3, 3, 3, 3, 3],\n",
       "        [3, 3, 3, 3, 3, 3],\n",
       "        [3, 3, 3, 3, 3, 3],\n",
       "        [3, 3, 3, 3, 3, 3],\n",
       "        [3, 3, 3, 3, 3, 3]]])>"
      ]
     },
     "metadata": {},
     "execution_count": 12
    }
   ],
   "source": [
    "\n",
    "sample_weight= tf.constant([[[1,1,1,1,1,1],[2,2,2,2,2,2],[3,3,3,3,3,3],[3,3,3,3,3,3],[3,3,3,3,3,3],[3,3,3,3,3,3],[3,3,3,3,3,3],[3,3,3,3,3,3]]])\n",
    "sample_weight"
   ]
  },
  {
   "cell_type": "code",
   "execution_count": 13,
   "metadata": {},
   "outputs": [],
   "source": [
    "single_step_sequential_model = tf.keras.models.Sequential()\n",
    "single_step_sequential_model.add(tf.keras.layers.LSTM(11,return_sequences=True, input_shape=(None, 6)))\n",
    "single_step_sequential_model.add(tf.keras.layers.Dense(6, activation='linear'))\n",
    "\n",
    "loss_fn = tf.keras.losses.MeanSquaredError(reduction='sum_over_batch_size')\n",
    "\n",
    "single_step_sequential_model.compile(optimizer=tf.keras.optimizers.RMSprop(), loss=loss_fn, metrics=['mse','mae'])"
   ]
  },
  {
   "cell_type": "markdown",
   "metadata": {},
   "source": [
    "### Inspect the model"
   ]
  },
  {
   "cell_type": "code",
   "execution_count": 14,
   "metadata": {
    "tags": []
   },
   "outputs": [
    {
     "output_type": "stream",
     "name": "stdout",
     "text": [
      "Model: \"sequential\"\n_________________________________________________________________\nLayer (type)                 Output Shape              Param #   \n=================================================================\nlstm (LSTM)                  (None, None, 11)          792       \n_________________________________________________________________\ndense (Dense)                (None, None, 6)           72        \n=================================================================\nTotal params: 864\nTrainable params: 864\nNon-trainable params: 0\n_________________________________________________________________\n"
     ]
    }
   ],
   "source": [
    "single_step_sequential_model.summary()"
   ]
  },
  {
   "cell_type": "markdown",
   "metadata": {},
   "source": [
    "### Train the model"
   ]
  },
  {
   "cell_type": "code",
   "execution_count": 15,
   "metadata": {
    "tags": []
   },
   "outputs": [
    {
     "output_type": "stream",
     "name": "stdout",
     "text": [
      "Train for 192.0 steps, validate for 50 steps\n",
      "Epoch 1/100\n",
      "192/192 [==============================] - 11s 55ms/step - loss: 1.1302 - mse: 1.1302 - mae: 0.7674 - val_loss: 0.6442 - val_mse: 0.6442 - val_mae: 0.5890\n",
      "Epoch 2/100\n",
      "192/192 [==============================] - 3s 14ms/step - loss: 0.5068 - mse: 0.5068 - mae: 0.4904 - val_loss: 0.4273 - val_mse: 0.4273 - val_mae: 0.4462\n",
      "Epoch 3/100\n",
      "192/192 [==============================] - 2s 11ms/step - loss: 0.3831 - mse: 0.3831 - mae: 0.4099 - val_loss: 0.3514 - val_mse: 0.3514 - val_mae: 0.3859\n",
      "Epoch 4/100\n",
      "192/192 [==============================] - 2s 11ms/step - loss: 0.3331 - mse: 0.3331 - mae: 0.3693 - val_loss: 0.3156 - val_mse: 0.3156 - val_mae: 0.3545\n",
      "Epoch 5/100\n",
      "192/192 [==============================] - 2s 12ms/step - loss: 0.3062 - mse: 0.3062 - mae: 0.3470 - val_loss: 0.2930 - val_mse: 0.2930 - val_mae: 0.3349\n",
      "Epoch 6/100\n",
      "192/192 [==============================] - 3s 16ms/step - loss: 0.2877 - mse: 0.2877 - mae: 0.3320 - val_loss: 0.2767 - val_mse: 0.2767 - val_mae: 0.3213\n",
      "Epoch 7/100\n",
      "192/192 [==============================] - 2s 10ms/step - loss: 0.2736 - mse: 0.2736 - mae: 0.3206 - val_loss: 0.2641 - val_mse: 0.2641 - val_mae: 0.3109\n",
      "Epoch 8/100\n",
      "192/192 [==============================] - 2s 12ms/step - loss: 0.2623 - mse: 0.2623 - mae: 0.3111 - val_loss: 0.2541 - val_mse: 0.2541 - val_mae: 0.3016\n",
      "Epoch 9/100\n",
      "192/192 [==============================] - 3s 16ms/step - loss: 0.2531 - mse: 0.2531 - mae: 0.3031 - val_loss: 0.2458 - val_mse: 0.2458 - val_mae: 0.2934\n",
      "Epoch 10/100\n",
      "192/192 [==============================] - 2s 10ms/step - loss: 0.2453 - mse: 0.2453 - mae: 0.2963 - val_loss: 0.2386 - val_mse: 0.2386 - val_mae: 0.2864\n",
      "Epoch 11/100\n",
      "192/192 [==============================] - 2s 10ms/step - loss: 0.2387 - mse: 0.2387 - mae: 0.2906 - val_loss: 0.2324 - val_mse: 0.2324 - val_mae: 0.2805\n",
      "Epoch 12/100\n",
      "192/192 [==============================] - 2s 11ms/step - loss: 0.2330 - mse: 0.2330 - mae: 0.2857 - val_loss: 0.2269 - val_mse: 0.2269 - val_mae: 0.2760\n",
      "Epoch 13/100\n",
      "192/192 [==============================] - 2s 10ms/step - loss: 0.2278 - mse: 0.2278 - mae: 0.2816 - val_loss: 0.2219 - val_mse: 0.2219 - val_mae: 0.2725\n",
      "Epoch 14/100\n",
      "192/192 [==============================] - 2s 9ms/step - loss: 0.2232 - mse: 0.2232 - mae: 0.2781 - val_loss: 0.2173 - val_mse: 0.2173 - val_mae: 0.2697\n",
      "Epoch 15/100\n",
      "192/192 [==============================] - 2s 11ms/step - loss: 0.2188 - mse: 0.2188 - mae: 0.2751 - val_loss: 0.2132 - val_mse: 0.2132 - val_mae: 0.2673\n",
      "Epoch 16/100\n",
      "192/192 [==============================] - 2s 10ms/step - loss: 0.2147 - mse: 0.2147 - mae: 0.2723 - val_loss: 0.2094 - val_mse: 0.2094 - val_mae: 0.2654\n",
      "Epoch 17/100\n",
      "192/192 [==============================] - 2s 11ms/step - loss: 0.2107 - mse: 0.2107 - mae: 0.2696 - val_loss: 0.2057 - val_mse: 0.2057 - val_mae: 0.2636\n",
      "Epoch 18/100\n",
      "192/192 [==============================] - 3s 14ms/step - loss: 0.2068 - mse: 0.2068 - mae: 0.2671 - val_loss: 0.2021 - val_mse: 0.2021 - val_mae: 0.2618\n",
      "Epoch 19/100\n",
      "192/192 [==============================] - 3s 13ms/step - loss: 0.2029 - mse: 0.2029 - mae: 0.2648 - val_loss: 0.1986 - val_mse: 0.1986 - val_mae: 0.2600\n",
      "Epoch 20/100\n",
      "192/192 [==============================] - 2s 10ms/step - loss: 0.1992 - mse: 0.1992 - mae: 0.2625 - val_loss: 0.1953 - val_mse: 0.1953 - val_mae: 0.2583\n",
      "Epoch 21/100\n",
      "192/192 [==============================] - 2s 13ms/step - loss: 0.1955 - mse: 0.1955 - mae: 0.2604 - val_loss: 0.1921 - val_mse: 0.1921 - val_mae: 0.2566\n",
      "Epoch 22/100\n",
      "192/192 [==============================] - 2s 12ms/step - loss: 0.1921 - mse: 0.1921 - mae: 0.2583 - val_loss: 0.1891 - val_mse: 0.1891 - val_mae: 0.2548\n",
      "Epoch 23/100\n",
      "192/192 [==============================] - 2s 12ms/step - loss: 0.1888 - mse: 0.1888 - mae: 0.2563 - val_loss: 0.1862 - val_mse: 0.1862 - val_mae: 0.2529\n",
      "Epoch 24/100\n",
      "192/192 [==============================] - 3s 13ms/step - loss: 0.1856 - mse: 0.1856 - mae: 0.2544 - val_loss: 0.1836 - val_mse: 0.1836 - val_mae: 0.2511\n",
      "Epoch 25/100\n",
      "192/192 [==============================] - 2s 11ms/step - loss: 0.1827 - mse: 0.1827 - mae: 0.2525 - val_loss: 0.1811 - val_mse: 0.1811 - val_mae: 0.2494\n",
      "Epoch 26/100\n",
      "192/192 [==============================] - 2s 13ms/step - loss: 0.1800 - mse: 0.1800 - mae: 0.2507 - val_loss: 0.1788 - val_mse: 0.1788 - val_mae: 0.2479\n",
      "Epoch 27/100\n",
      "192/192 [==============================] - 2s 11ms/step - loss: 0.1775 - mse: 0.1775 - mae: 0.2490 - val_loss: 0.1766 - val_mse: 0.1766 - val_mae: 0.2464\n",
      "Epoch 28/100\n",
      "192/192 [==============================] - 2s 11ms/step - loss: 0.1751 - mse: 0.1751 - mae: 0.2473 - val_loss: 0.1746 - val_mse: 0.1746 - val_mae: 0.2449\n",
      "Epoch 29/100\n",
      "192/192 [==============================] - 3s 13ms/step - loss: 0.1729 - mse: 0.1729 - mae: 0.2457 - val_loss: 0.1727 - val_mse: 0.1727 - val_mae: 0.2435\n",
      "Epoch 30/100\n",
      "192/192 [==============================] - 2s 13ms/step - loss: 0.1708 - mse: 0.1708 - mae: 0.2441 - val_loss: 0.1709 - val_mse: 0.1709 - val_mae: 0.2421\n",
      "Epoch 31/100\n",
      "192/192 [==============================] - 2s 12ms/step - loss: 0.1689 - mse: 0.1689 - mae: 0.2426 - val_loss: 0.1692 - val_mse: 0.1692 - val_mae: 0.2408\n",
      "Epoch 32/100\n",
      "192/192 [==============================] - 2s 13ms/step - loss: 0.1670 - mse: 0.1670 - mae: 0.2412 - val_loss: 0.1676 - val_mse: 0.1676 - val_mae: 0.2395\n",
      "Epoch 33/100\n",
      "192/192 [==============================] - 2s 11ms/step - loss: 0.1653 - mse: 0.1653 - mae: 0.2397 - val_loss: 0.1660 - val_mse: 0.1660 - val_mae: 0.2382\n",
      "Epoch 34/100\n",
      "192/192 [==============================] - 2s 13ms/step - loss: 0.1636 - mse: 0.1636 - mae: 0.2382 - val_loss: 0.1646 - val_mse: 0.1646 - val_mae: 0.2369\n",
      "Epoch 35/100\n",
      "192/192 [==============================] - 2s 13ms/step - loss: 0.1620 - mse: 0.1620 - mae: 0.2368 - val_loss: 0.1632 - val_mse: 0.1632 - val_mae: 0.2356\n",
      "Epoch 36/100\n",
      "192/192 [==============================] - 2s 13ms/step - loss: 0.1605 - mse: 0.1605 - mae: 0.2353 - val_loss: 0.1619 - val_mse: 0.1619 - val_mae: 0.2343\n",
      "Epoch 37/100\n",
      "192/192 [==============================] - 3s 14ms/step - loss: 0.1590 - mse: 0.1590 - mae: 0.2339 - val_loss: 0.1606 - val_mse: 0.1606 - val_mae: 0.2329\n",
      "Epoch 38/100\n",
      "192/192 [==============================] - 2s 13ms/step - loss: 0.1576 - mse: 0.1576 - mae: 0.2325 - val_loss: 0.1594 - val_mse: 0.1594 - val_mae: 0.2316\n",
      "Epoch 39/100\n",
      "192/192 [==============================] - 2s 13ms/step - loss: 0.1562 - mse: 0.1562 - mae: 0.2311 - val_loss: 0.1583 - val_mse: 0.1583 - val_mae: 0.2302\n",
      "Epoch 40/100\n",
      "192/192 [==============================] - 3s 13ms/step - loss: 0.1549 - mse: 0.1549 - mae: 0.2298 - val_loss: 0.1571 - val_mse: 0.1571 - val_mae: 0.2289\n",
      "Epoch 41/100\n",
      "192/192 [==============================] - 2s 12ms/step - loss: 0.1536 - mse: 0.1536 - mae: 0.2285 - val_loss: 0.1561 - val_mse: 0.1561 - val_mae: 0.2275\n",
      "Epoch 42/100\n",
      "192/192 [==============================] - 3s 13ms/step - loss: 0.1524 - mse: 0.1524 - mae: 0.2272 - val_loss: 0.1550 - val_mse: 0.1550 - val_mae: 0.2262\n",
      "Epoch 43/100\n",
      "192/192 [==============================] - 3s 15ms/step - loss: 0.1512 - mse: 0.1512 - mae: 0.2259 - val_loss: 0.1540 - val_mse: 0.1540 - val_mae: 0.2250\n",
      "Epoch 44/100\n",
      "192/192 [==============================] - 3s 15ms/step - loss: 0.1501 - mse: 0.1501 - mae: 0.2248 - val_loss: 0.1531 - val_mse: 0.1531 - val_mae: 0.2238\n",
      "Epoch 45/100\n",
      "192/192 [==============================] - 3s 15ms/step - loss: 0.1490 - mse: 0.1490 - mae: 0.2236 - val_loss: 0.1522 - val_mse: 0.1522 - val_mae: 0.2227\n",
      "Epoch 46/100\n",
      "192/192 [==============================] - 3s 13ms/step - loss: 0.1479 - mse: 0.1479 - mae: 0.2225 - val_loss: 0.1513 - val_mse: 0.1513 - val_mae: 0.2217\n",
      "Epoch 47/100\n",
      "192/192 [==============================] - 3s 13ms/step - loss: 0.1469 - mse: 0.1469 - mae: 0.2215 - val_loss: 0.1505 - val_mse: 0.1505 - val_mae: 0.2207\n",
      "Epoch 48/100\n",
      "192/192 [==============================] - 3s 13ms/step - loss: 0.1459 - mse: 0.1459 - mae: 0.2205 - val_loss: 0.1497 - val_mse: 0.1497 - val_mae: 0.2197\n",
      "Epoch 49/100\n",
      "192/192 [==============================] - 2s 11ms/step - loss: 0.1449 - mse: 0.1449 - mae: 0.2196 - val_loss: 0.1490 - val_mse: 0.1490 - val_mae: 0.2188\n",
      "Epoch 50/100\n",
      "192/192 [==============================] - 3s 14ms/step - loss: 0.1440 - mse: 0.1440 - mae: 0.2187 - val_loss: 0.1483 - val_mse: 0.1483 - val_mae: 0.2180\n",
      "Epoch 51/100\n",
      "192/192 [==============================] - 2s 12ms/step - loss: 0.1431 - mse: 0.1431 - mae: 0.2178 - val_loss: 0.1476 - val_mse: 0.1476 - val_mae: 0.2172\n",
      "Epoch 52/100\n",
      "192/192 [==============================] - 3s 13ms/step - loss: 0.1422 - mse: 0.1422 - mae: 0.2170 - val_loss: 0.1469 - val_mse: 0.1469 - val_mae: 0.2165\n",
      "Epoch 53/100\n",
      "192/192 [==============================] - 3s 13ms/step - loss: 0.1414 - mse: 0.1414 - mae: 0.2161 - val_loss: 0.1463 - val_mse: 0.1463 - val_mae: 0.2158\n",
      "Epoch 54/100\n",
      "192/192 [==============================] - 2s 13ms/step - loss: 0.1406 - mse: 0.1406 - mae: 0.2154 - val_loss: 0.1458 - val_mse: 0.1458 - val_mae: 0.2151\n",
      "Epoch 55/100\n",
      "192/192 [==============================] - 3s 13ms/step - loss: 0.1398 - mse: 0.1398 - mae: 0.2146 - val_loss: 0.1452 - val_mse: 0.1452 - val_mae: 0.2145\n",
      "Epoch 56/100\n",
      "192/192 [==============================] - 3s 13ms/step - loss: 0.1391 - mse: 0.1391 - mae: 0.2138 - val_loss: 0.1447 - val_mse: 0.1447 - val_mae: 0.2139\n",
      "Epoch 57/100\n",
      "192/192 [==============================] - 3s 13ms/step - loss: 0.1383 - mse: 0.1383 - mae: 0.2131 - val_loss: 0.1442 - val_mse: 0.1442 - val_mae: 0.2133\n",
      "Epoch 58/100\n",
      "192/192 [==============================] - 3s 13ms/step - loss: 0.1376 - mse: 0.1376 - mae: 0.2124 - val_loss: 0.1437 - val_mse: 0.1437 - val_mae: 0.2127\n",
      "Epoch 59/100\n",
      "192/192 [==============================] - 2s 12ms/step - loss: 0.1369 - mse: 0.1369 - mae: 0.2117 - val_loss: 0.1432 - val_mse: 0.1432 - val_mae: 0.2121\n",
      "Epoch 60/100\n",
      "192/192 [==============================] - 2s 10ms/step - loss: 0.1362 - mse: 0.1362 - mae: 0.2111 - val_loss: 0.1428 - val_mse: 0.1428 - val_mae: 0.2115\n",
      "Epoch 61/100\n",
      "192/192 [==============================] - 3s 14ms/step - loss: 0.1356 - mse: 0.1356 - mae: 0.2104 - val_loss: 0.1424 - val_mse: 0.1424 - val_mae: 0.2109\n",
      "Epoch 62/100\n",
      "192/192 [==============================] - 2s 12ms/step - loss: 0.1350 - mse: 0.1350 - mae: 0.2098 - val_loss: 0.1419 - val_mse: 0.1419 - val_mae: 0.2104\n",
      "Epoch 63/100\n",
      "192/192 [==============================] - 3s 13ms/step - loss: 0.1343 - mse: 0.1343 - mae: 0.2092 - val_loss: 0.1415 - val_mse: 0.1415 - val_mae: 0.2098\n",
      "Epoch 64/100\n",
      "192/192 [==============================] - 3s 13ms/step - loss: 0.1337 - mse: 0.1337 - mae: 0.2085 - val_loss: 0.1411 - val_mse: 0.1411 - val_mae: 0.2092\n",
      "Epoch 65/100\n",
      "192/192 [==============================] - 3s 16ms/step - loss: 0.1331 - mse: 0.1331 - mae: 0.2079 - val_loss: 0.1407 - val_mse: 0.1407 - val_mae: 0.2086\n",
      "Epoch 66/100\n",
      "192/192 [==============================] - 3s 15ms/step - loss: 0.1325 - mse: 0.1325 - mae: 0.2074 - val_loss: 0.1403 - val_mse: 0.1403 - val_mae: 0.2080\n",
      "Epoch 67/100\n",
      "192/192 [==============================] - 3s 13ms/step - loss: 0.1320 - mse: 0.1320 - mae: 0.2068 - val_loss: 0.1400 - val_mse: 0.1400 - val_mae: 0.2075\n",
      "Epoch 68/100\n",
      "192/192 [==============================] - 2s 13ms/step - loss: 0.1314 - mse: 0.1314 - mae: 0.2062 - val_loss: 0.1396 - val_mse: 0.1396 - val_mae: 0.2070\n",
      "Epoch 69/100\n",
      "192/192 [==============================] - 3s 14ms/step - loss: 0.1309 - mse: 0.1309 - mae: 0.2057 - val_loss: 0.1392 - val_mse: 0.1392 - val_mae: 0.2064\n",
      "Epoch 70/100\n",
      "192/192 [==============================] - 3s 14ms/step - loss: 0.1304 - mse: 0.1304 - mae: 0.2052 - val_loss: 0.1389 - val_mse: 0.1389 - val_mae: 0.2059\n",
      "Epoch 71/100\n",
      "192/192 [==============================] - 3s 14ms/step - loss: 0.1299 - mse: 0.1299 - mae: 0.2047 - val_loss: 0.1385 - val_mse: 0.1385 - val_mae: 0.2054\n",
      "Epoch 72/100\n",
      "192/192 [==============================] - 3s 14ms/step - loss: 0.1294 - mse: 0.1294 - mae: 0.2042 - val_loss: 0.1382 - val_mse: 0.1382 - val_mae: 0.2050\n",
      "Epoch 73/100\n",
      "192/192 [==============================] - 2s 13ms/step - loss: 0.1289 - mse: 0.1289 - mae: 0.2037 - val_loss: 0.1378 - val_mse: 0.1378 - val_mae: 0.2045\n",
      "Epoch 74/100\n",
      "192/192 [==============================] - 3s 13ms/step - loss: 0.1284 - mse: 0.1284 - mae: 0.2033 - val_loss: 0.1375 - val_mse: 0.1375 - val_mae: 0.2041\n",
      "Epoch 75/100\n",
      "192/192 [==============================] - 2s 12ms/step - loss: 0.1279 - mse: 0.1279 - mae: 0.2028 - val_loss: 0.1372 - val_mse: 0.1372 - val_mae: 0.2036\n",
      "Epoch 76/100\n",
      "192/192 [==============================] - 2s 12ms/step - loss: 0.1275 - mse: 0.1275 - mae: 0.2024 - val_loss: 0.1368 - val_mse: 0.1368 - val_mae: 0.2032\n",
      "Epoch 77/100\n",
      "192/192 [==============================] - 3s 18ms/step - loss: 0.1271 - mse: 0.1271 - mae: 0.2019 - val_loss: 0.1365 - val_mse: 0.1365 - val_mae: 0.2028\n",
      "Epoch 78/100\n",
      "192/192 [==============================] - 3s 14ms/step - loss: 0.1266 - mse: 0.1266 - mae: 0.2015 - val_loss: 0.1362 - val_mse: 0.1362 - val_mae: 0.2025\n",
      "Epoch 79/100\n",
      "192/192 [==============================] - 3s 15ms/step - loss: 0.1262 - mse: 0.1262 - mae: 0.2011 - val_loss: 0.1359 - val_mse: 0.1359 - val_mae: 0.2021\n",
      "Epoch 80/100\n",
      "192/192 [==============================] - 3s 18ms/step - loss: 0.1258 - mse: 0.1258 - mae: 0.2007 - val_loss: 0.1357 - val_mse: 0.1357 - val_mae: 0.2017\n",
      "Epoch 81/100\n",
      "192/192 [==============================] - 3s 14ms/step - loss: 0.1254 - mse: 0.1254 - mae: 0.2003 - val_loss: 0.1354 - val_mse: 0.1354 - val_mae: 0.2013\n",
      "Epoch 82/100\n",
      "192/192 [==============================] - 3s 16ms/step - loss: 0.1250 - mse: 0.1250 - mae: 0.1999 - val_loss: 0.1351 - val_mse: 0.1351 - val_mae: 0.2010\n",
      "Epoch 83/100\n",
      "192/192 [==============================] - 2s 12ms/step - loss: 0.1247 - mse: 0.1247 - mae: 0.1996 - val_loss: 0.1349 - val_mse: 0.1349 - val_mae: 0.2006\n",
      "Epoch 84/100\n",
      "192/192 [==============================] - 3s 13ms/step - loss: 0.1243 - mse: 0.1243 - mae: 0.1992 - val_loss: 0.1346 - val_mse: 0.1346 - val_mae: 0.2003\n",
      "Epoch 85/100\n",
      "192/192 [==============================] - 3s 14ms/step - loss: 0.1239 - mse: 0.1239 - mae: 0.1988 - val_loss: 0.1344 - val_mse: 0.1344 - val_mae: 0.2000\n",
      "Epoch 86/100\n",
      "192/192 [==============================] - 2s 12ms/step - loss: 0.1236 - mse: 0.1236 - mae: 0.1985 - val_loss: 0.1341 - val_mse: 0.1341 - val_mae: 0.1996\n",
      "Epoch 87/100\n",
      "192/192 [==============================] - 2s 13ms/step - loss: 0.1232 - mse: 0.1232 - mae: 0.1981 - val_loss: 0.1339 - val_mse: 0.1339 - val_mae: 0.1993\n",
      "Epoch 88/100\n",
      "192/192 [==============================] - 3s 15ms/step - loss: 0.1229 - mse: 0.1229 - mae: 0.1978 - val_loss: 0.1337 - val_mse: 0.1337 - val_mae: 0.1990\n",
      "Epoch 89/100\n",
      "192/192 [==============================] - 3s 14ms/step - loss: 0.1226 - mse: 0.1226 - mae: 0.1975 - val_loss: 0.1335 - val_mse: 0.1335 - val_mae: 0.1987\n",
      "Epoch 90/100\n",
      "192/192 [==============================] - 3s 14ms/step - loss: 0.1222 - mse: 0.1222 - mae: 0.1972 - val_loss: 0.1333 - val_mse: 0.1333 - val_mae: 0.1983\n",
      "Epoch 91/100\n",
      "192/192 [==============================] - 3s 13ms/step - loss: 0.1219 - mse: 0.1219 - mae: 0.1969 - val_loss: 0.1331 - val_mse: 0.1331 - val_mae: 0.1980\n",
      "Epoch 92/100\n",
      "192/192 [==============================] - 3s 13ms/step - loss: 0.1216 - mse: 0.1216 - mae: 0.1965 - val_loss: 0.1329 - val_mse: 0.1329 - val_mae: 0.1977\n",
      "Epoch 93/100\n",
      "192/192 [==============================] - 3s 14ms/step - loss: 0.1213 - mse: 0.1213 - mae: 0.1962 - val_loss: 0.1327 - val_mse: 0.1327 - val_mae: 0.1974\n",
      "Epoch 94/100\n",
      "192/192 [==============================] - 3s 15ms/step - loss: 0.1210 - mse: 0.1210 - mae: 0.1960 - val_loss: 0.1326 - val_mse: 0.1326 - val_mae: 0.1971\n",
      "Epoch 95/100\n",
      "192/192 [==============================] - 3s 14ms/step - loss: 0.1207 - mse: 0.1207 - mae: 0.1957 - val_loss: 0.1324 - val_mse: 0.1324 - val_mae: 0.1969\n",
      "Epoch 96/100\n",
      "192/192 [==============================] - 3s 13ms/step - loss: 0.1204 - mse: 0.1204 - mae: 0.1954 - val_loss: 0.1322 - val_mse: 0.1322 - val_mae: 0.1966\n",
      "Epoch 97/100\n",
      "192/192 [==============================] - 3s 13ms/step - loss: 0.1201 - mse: 0.1201 - mae: 0.1951 - val_loss: 0.1321 - val_mse: 0.1321 - val_mae: 0.1963\n",
      "Epoch 98/100\n",
      "192/192 [==============================] - 3s 16ms/step - loss: 0.1198 - mse: 0.1198 - mae: 0.1948 - val_loss: 0.1319 - val_mse: 0.1319 - val_mae: 0.1960\n",
      "Epoch 99/100\n",
      "192/192 [==============================] - 3s 13ms/step - loss: 0.1196 - mse: 0.1196 - mae: 0.1946 - val_loss: 0.1318 - val_mse: 0.1318 - val_mae: 0.1957\n",
      "Epoch 100/100\n",
      "192/192 [==============================] - 3s 14ms/step - loss: 0.1193 - mse: 0.1193 - mae: 0.1943 - val_loss: 0.1317 - val_mse: 0.1317 - val_mae: 0.1955\n"
     ]
    }
   ],
   "source": [
    "STEPS_PER_EPOCH = TRAIN_SPLIT / BATCH_SIZE\n",
    "EPOCHS = 100\n",
    "\n",
    "single_step_sequential_history = single_step_sequential_model.fit(train_data_single_sequential, epochs=EPOCHS, steps_per_epoch=STEPS_PER_EPOCH, validation_data=val_data_single_sequential, validation_steps=50)"
   ]
  },
  {
   "cell_type": "code",
   "execution_count": 16,
   "metadata": {},
   "outputs": [],
   "source": [
    "N_CATEGORIES = 28\n",
    "X = pd.DataFrame(columns=[\"A0\", \"A1\"], dtype=np.float64, index=range(N_CATEGORIES))\n",
    "\n",
    "for i in range(N_CATEGORIES):\n",
    "    X[\"A0\"][i] = class_to_action(str(i))[0]\n",
    "    X[\"A1\"][i] = class_to_action(str(i))[1]\n"
   ]
  },
  {
   "cell_type": "code",
   "execution_count": 17,
   "metadata": {
    "tags": []
   },
   "outputs": [
    {
     "output_type": "stream",
     "name": "stdout",
     "text": [
      "48/48 - 1s - loss: 0.1358 - mse: 0.1358 - mae: 0.1990\n"
     ]
    }
   ],
   "source": [
    "test_loss, test_mse, test_mae = single_step_sequential_model.evaluate(x_val_single_sequential,  y_val_single_sequential, verbose=2)"
   ]
  },
  {
   "cell_type": "markdown",
   "metadata": {},
   "source": [
    "Visualize the model's training progress."
   ]
  },
  {
   "cell_type": "code",
   "execution_count": 18,
   "metadata": {},
   "outputs": [],
   "source": [
    "def plot_train_history(history, title):\n",
    "  loss = history.history['loss']\n",
    "  val_loss = history.history['val_loss']\n",
    "\n",
    "  epochs = range(len(loss))\n",
    "\n",
    "  plt.figure()\n",
    "\n",
    "  plt.plot(epochs, loss, 'b', label='Training loss')\n",
    "  plt.plot(epochs, val_loss, 'r', label='Validation loss')\n",
    "  plt.title(title)\n",
    "  plt.legend()\n",
    "\n",
    "  plt.show()"
   ]
  },
  {
   "cell_type": "code",
   "execution_count": 19,
   "metadata": {},
   "outputs": [
    {
     "output_type": "display_data",
     "data": {
      "text/plain": "<Figure size 432x288 with 1 Axes>",
      "image/svg+xml": "<?xml version=\"1.0\" encoding=\"utf-8\" standalone=\"no\"?>\r\n<!DOCTYPE svg PUBLIC \"-//W3C//DTD SVG 1.1//EN\"\r\n  \"http://www.w3.org/Graphics/SVG/1.1/DTD/svg11.dtd\">\r\n<!-- Created with matplotlib (https://matplotlib.org/) -->\r\n<svg height=\"263.63625pt\" version=\"1.1\" viewBox=\"0 0 372.103125 263.63625\" width=\"372.103125pt\" xmlns=\"http://www.w3.org/2000/svg\" xmlns:xlink=\"http://www.w3.org/1999/xlink\">\r\n <defs>\r\n  <style type=\"text/css\">\r\n*{stroke-linecap:butt;stroke-linejoin:round;}\r\n  </style>\r\n </defs>\r\n <g id=\"figure_1\">\r\n  <g id=\"patch_1\">\r\n   <path d=\"M 0 263.63625 \r\nL 372.103125 263.63625 \r\nL 372.103125 0 \r\nL 0 0 \r\nz\r\n\" style=\"fill:none;\"/>\r\n  </g>\r\n  <g id=\"axes_1\">\r\n   <g id=\"patch_2\">\r\n    <path d=\"M 30.103125 239.758125 \r\nL 364.903125 239.758125 \r\nL 364.903125 22.318125 \r\nL 30.103125 22.318125 \r\nz\r\n\" style=\"fill:#ffffff;\"/>\r\n   </g>\r\n   <g id=\"matplotlib.axis_1\">\r\n    <g id=\"xtick_1\">\r\n     <g id=\"line2d_1\">\r\n      <defs>\r\n       <path d=\"M 0 0 \r\nL 0 3.5 \r\n\" id=\"md4c44d1dcc\" style=\"stroke:#000000;stroke-width:0.8;\"/>\r\n      </defs>\r\n      <g>\r\n       <use style=\"stroke:#000000;stroke-width:0.8;\" x=\"45.321307\" xlink:href=\"#md4c44d1dcc\" y=\"239.758125\"/>\r\n      </g>\r\n     </g>\r\n     <g id=\"text_1\">\r\n      <!-- 0 -->\r\n      <defs>\r\n       <path d=\"M 31.78125 66.40625 \r\nQ 24.171875 66.40625 20.328125 58.90625 \r\nQ 16.5 51.421875 16.5 36.375 \r\nQ 16.5 21.390625 20.328125 13.890625 \r\nQ 24.171875 6.390625 31.78125 6.390625 \r\nQ 39.453125 6.390625 43.28125 13.890625 \r\nQ 47.125 21.390625 47.125 36.375 \r\nQ 47.125 51.421875 43.28125 58.90625 \r\nQ 39.453125 66.40625 31.78125 66.40625 \r\nz\r\nM 31.78125 74.21875 \r\nQ 44.046875 74.21875 50.515625 64.515625 \r\nQ 56.984375 54.828125 56.984375 36.375 \r\nQ 56.984375 17.96875 50.515625 8.265625 \r\nQ 44.046875 -1.421875 31.78125 -1.421875 \r\nQ 19.53125 -1.421875 13.0625 8.265625 \r\nQ 6.59375 17.96875 6.59375 36.375 \r\nQ 6.59375 54.828125 13.0625 64.515625 \r\nQ 19.53125 74.21875 31.78125 74.21875 \r\nz\r\n\" id=\"DejaVuSans-48\"/>\r\n      </defs>\r\n      <g transform=\"translate(42.140057 254.356563)scale(0.1 -0.1)\">\r\n       <use xlink:href=\"#DejaVuSans-48\"/>\r\n      </g>\r\n     </g>\r\n    </g>\r\n    <g id=\"xtick_2\">\r\n     <g id=\"line2d_2\">\r\n      <g>\r\n       <use style=\"stroke:#000000;stroke-width:0.8;\" x=\"106.80891\" xlink:href=\"#md4c44d1dcc\" y=\"239.758125\"/>\r\n      </g>\r\n     </g>\r\n     <g id=\"text_2\">\r\n      <!-- 20 -->\r\n      <defs>\r\n       <path d=\"M 19.1875 8.296875 \r\nL 53.609375 8.296875 \r\nL 53.609375 0 \r\nL 7.328125 0 \r\nL 7.328125 8.296875 \r\nQ 12.9375 14.109375 22.625 23.890625 \r\nQ 32.328125 33.6875 34.8125 36.53125 \r\nQ 39.546875 41.84375 41.421875 45.53125 \r\nQ 43.3125 49.21875 43.3125 52.78125 \r\nQ 43.3125 58.59375 39.234375 62.25 \r\nQ 35.15625 65.921875 28.609375 65.921875 \r\nQ 23.96875 65.921875 18.8125 64.3125 \r\nQ 13.671875 62.703125 7.8125 59.421875 \r\nL 7.8125 69.390625 \r\nQ 13.765625 71.78125 18.9375 73 \r\nQ 24.125 74.21875 28.421875 74.21875 \r\nQ 39.75 74.21875 46.484375 68.546875 \r\nQ 53.21875 62.890625 53.21875 53.421875 \r\nQ 53.21875 48.921875 51.53125 44.890625 \r\nQ 49.859375 40.875 45.40625 35.40625 \r\nQ 44.1875 33.984375 37.640625 27.21875 \r\nQ 31.109375 20.453125 19.1875 8.296875 \r\nz\r\n\" id=\"DejaVuSans-50\"/>\r\n      </defs>\r\n      <g transform=\"translate(100.44641 254.356563)scale(0.1 -0.1)\">\r\n       <use xlink:href=\"#DejaVuSans-50\"/>\r\n       <use x=\"63.623047\" xlink:href=\"#DejaVuSans-48\"/>\r\n      </g>\r\n     </g>\r\n    </g>\r\n    <g id=\"xtick_3\">\r\n     <g id=\"line2d_3\">\r\n      <g>\r\n       <use style=\"stroke:#000000;stroke-width:0.8;\" x=\"168.296513\" xlink:href=\"#md4c44d1dcc\" y=\"239.758125\"/>\r\n      </g>\r\n     </g>\r\n     <g id=\"text_3\">\r\n      <!-- 40 -->\r\n      <defs>\r\n       <path d=\"M 37.796875 64.3125 \r\nL 12.890625 25.390625 \r\nL 37.796875 25.390625 \r\nz\r\nM 35.203125 72.90625 \r\nL 47.609375 72.90625 \r\nL 47.609375 25.390625 \r\nL 58.015625 25.390625 \r\nL 58.015625 17.1875 \r\nL 47.609375 17.1875 \r\nL 47.609375 0 \r\nL 37.796875 0 \r\nL 37.796875 17.1875 \r\nL 4.890625 17.1875 \r\nL 4.890625 26.703125 \r\nz\r\n\" id=\"DejaVuSans-52\"/>\r\n      </defs>\r\n      <g transform=\"translate(161.934013 254.356563)scale(0.1 -0.1)\">\r\n       <use xlink:href=\"#DejaVuSans-52\"/>\r\n       <use x=\"63.623047\" xlink:href=\"#DejaVuSans-48\"/>\r\n      </g>\r\n     </g>\r\n    </g>\r\n    <g id=\"xtick_4\">\r\n     <g id=\"line2d_4\">\r\n      <g>\r\n       <use style=\"stroke:#000000;stroke-width:0.8;\" x=\"229.784117\" xlink:href=\"#md4c44d1dcc\" y=\"239.758125\"/>\r\n      </g>\r\n     </g>\r\n     <g id=\"text_4\">\r\n      <!-- 60 -->\r\n      <defs>\r\n       <path d=\"M 33.015625 40.375 \r\nQ 26.375 40.375 22.484375 35.828125 \r\nQ 18.609375 31.296875 18.609375 23.390625 \r\nQ 18.609375 15.53125 22.484375 10.953125 \r\nQ 26.375 6.390625 33.015625 6.390625 \r\nQ 39.65625 6.390625 43.53125 10.953125 \r\nQ 47.40625 15.53125 47.40625 23.390625 \r\nQ 47.40625 31.296875 43.53125 35.828125 \r\nQ 39.65625 40.375 33.015625 40.375 \r\nz\r\nM 52.59375 71.296875 \r\nL 52.59375 62.3125 \r\nQ 48.875 64.0625 45.09375 64.984375 \r\nQ 41.3125 65.921875 37.59375 65.921875 \r\nQ 27.828125 65.921875 22.671875 59.328125 \r\nQ 17.53125 52.734375 16.796875 39.40625 \r\nQ 19.671875 43.65625 24.015625 45.921875 \r\nQ 28.375 48.1875 33.59375 48.1875 \r\nQ 44.578125 48.1875 50.953125 41.515625 \r\nQ 57.328125 34.859375 57.328125 23.390625 \r\nQ 57.328125 12.15625 50.6875 5.359375 \r\nQ 44.046875 -1.421875 33.015625 -1.421875 \r\nQ 20.359375 -1.421875 13.671875 8.265625 \r\nQ 6.984375 17.96875 6.984375 36.375 \r\nQ 6.984375 53.65625 15.1875 63.9375 \r\nQ 23.390625 74.21875 37.203125 74.21875 \r\nQ 40.921875 74.21875 44.703125 73.484375 \r\nQ 48.484375 72.75 52.59375 71.296875 \r\nz\r\n\" id=\"DejaVuSans-54\"/>\r\n      </defs>\r\n      <g transform=\"translate(223.421617 254.356563)scale(0.1 -0.1)\">\r\n       <use xlink:href=\"#DejaVuSans-54\"/>\r\n       <use x=\"63.623047\" xlink:href=\"#DejaVuSans-48\"/>\r\n      </g>\r\n     </g>\r\n    </g>\r\n    <g id=\"xtick_5\">\r\n     <g id=\"line2d_5\">\r\n      <g>\r\n       <use style=\"stroke:#000000;stroke-width:0.8;\" x=\"291.27172\" xlink:href=\"#md4c44d1dcc\" y=\"239.758125\"/>\r\n      </g>\r\n     </g>\r\n     <g id=\"text_5\">\r\n      <!-- 80 -->\r\n      <defs>\r\n       <path d=\"M 31.78125 34.625 \r\nQ 24.75 34.625 20.71875 30.859375 \r\nQ 16.703125 27.09375 16.703125 20.515625 \r\nQ 16.703125 13.921875 20.71875 10.15625 \r\nQ 24.75 6.390625 31.78125 6.390625 \r\nQ 38.8125 6.390625 42.859375 10.171875 \r\nQ 46.921875 13.96875 46.921875 20.515625 \r\nQ 46.921875 27.09375 42.890625 30.859375 \r\nQ 38.875 34.625 31.78125 34.625 \r\nz\r\nM 21.921875 38.8125 \r\nQ 15.578125 40.375 12.03125 44.71875 \r\nQ 8.5 49.078125 8.5 55.328125 \r\nQ 8.5 64.0625 14.71875 69.140625 \r\nQ 20.953125 74.21875 31.78125 74.21875 \r\nQ 42.671875 74.21875 48.875 69.140625 \r\nQ 55.078125 64.0625 55.078125 55.328125 \r\nQ 55.078125 49.078125 51.53125 44.71875 \r\nQ 48 40.375 41.703125 38.8125 \r\nQ 48.828125 37.15625 52.796875 32.3125 \r\nQ 56.78125 27.484375 56.78125 20.515625 \r\nQ 56.78125 9.90625 50.3125 4.234375 \r\nQ 43.84375 -1.421875 31.78125 -1.421875 \r\nQ 19.734375 -1.421875 13.25 4.234375 \r\nQ 6.78125 9.90625 6.78125 20.515625 \r\nQ 6.78125 27.484375 10.78125 32.3125 \r\nQ 14.796875 37.15625 21.921875 38.8125 \r\nz\r\nM 18.3125 54.390625 \r\nQ 18.3125 48.734375 21.84375 45.5625 \r\nQ 25.390625 42.390625 31.78125 42.390625 \r\nQ 38.140625 42.390625 41.71875 45.5625 \r\nQ 45.3125 48.734375 45.3125 54.390625 \r\nQ 45.3125 60.0625 41.71875 63.234375 \r\nQ 38.140625 66.40625 31.78125 66.40625 \r\nQ 25.390625 66.40625 21.84375 63.234375 \r\nQ 18.3125 60.0625 18.3125 54.390625 \r\nz\r\n\" id=\"DejaVuSans-56\"/>\r\n      </defs>\r\n      <g transform=\"translate(284.90922 254.356563)scale(0.1 -0.1)\">\r\n       <use xlink:href=\"#DejaVuSans-56\"/>\r\n       <use x=\"63.623047\" xlink:href=\"#DejaVuSans-48\"/>\r\n      </g>\r\n     </g>\r\n    </g>\r\n    <g id=\"xtick_6\">\r\n     <g id=\"line2d_6\">\r\n      <g>\r\n       <use style=\"stroke:#000000;stroke-width:0.8;\" x=\"352.759323\" xlink:href=\"#md4c44d1dcc\" y=\"239.758125\"/>\r\n      </g>\r\n     </g>\r\n     <g id=\"text_6\">\r\n      <!-- 100 -->\r\n      <defs>\r\n       <path d=\"M 12.40625 8.296875 \r\nL 28.515625 8.296875 \r\nL 28.515625 63.921875 \r\nL 10.984375 60.40625 \r\nL 10.984375 69.390625 \r\nL 28.421875 72.90625 \r\nL 38.28125 72.90625 \r\nL 38.28125 8.296875 \r\nL 54.390625 8.296875 \r\nL 54.390625 0 \r\nL 12.40625 0 \r\nz\r\n\" id=\"DejaVuSans-49\"/>\r\n      </defs>\r\n      <g transform=\"translate(343.215573 254.356563)scale(0.1 -0.1)\">\r\n       <use xlink:href=\"#DejaVuSans-49\"/>\r\n       <use x=\"63.623047\" xlink:href=\"#DejaVuSans-48\"/>\r\n       <use x=\"127.246094\" xlink:href=\"#DejaVuSans-48\"/>\r\n      </g>\r\n     </g>\r\n    </g>\r\n   </g>\r\n   <g id=\"matplotlib.axis_2\">\r\n    <g id=\"ytick_1\">\r\n     <g id=\"line2d_7\">\r\n      <defs>\r\n       <path d=\"M 0 0 \r\nL -3.5 0 \r\n\" id=\"mb19e30b2a9\" style=\"stroke:#000000;stroke-width:0.8;\"/>\r\n      </defs>\r\n      <g>\r\n       <use style=\"stroke:#000000;stroke-width:0.8;\" x=\"30.103125\" xlink:href=\"#mb19e30b2a9\" y=\"214.091163\"/>\r\n      </g>\r\n     </g>\r\n     <g id=\"text_7\">\r\n      <!-- 0.2 -->\r\n      <defs>\r\n       <path d=\"M 10.6875 12.40625 \r\nL 21 12.40625 \r\nL 21 0 \r\nL 10.6875 0 \r\nz\r\n\" id=\"DejaVuSans-46\"/>\r\n      </defs>\r\n      <g transform=\"translate(7.2 217.890382)scale(0.1 -0.1)\">\r\n       <use xlink:href=\"#DejaVuSans-48\"/>\r\n       <use x=\"63.623047\" xlink:href=\"#DejaVuSans-46\"/>\r\n       <use x=\"95.410156\" xlink:href=\"#DejaVuSans-50\"/>\r\n      </g>\r\n     </g>\r\n    </g>\r\n    <g id=\"ytick_2\">\r\n     <g id=\"line2d_8\">\r\n      <g>\r\n       <use style=\"stroke:#000000;stroke-width:0.8;\" x=\"30.103125\" xlink:href=\"#mb19e30b2a9\" y=\"174.983867\"/>\r\n      </g>\r\n     </g>\r\n     <g id=\"text_8\">\r\n      <!-- 0.4 -->\r\n      <g transform=\"translate(7.2 178.783086)scale(0.1 -0.1)\">\r\n       <use xlink:href=\"#DejaVuSans-48\"/>\r\n       <use x=\"63.623047\" xlink:href=\"#DejaVuSans-46\"/>\r\n       <use x=\"95.410156\" xlink:href=\"#DejaVuSans-52\"/>\r\n      </g>\r\n     </g>\r\n    </g>\r\n    <g id=\"ytick_3\">\r\n     <g id=\"line2d_9\">\r\n      <g>\r\n       <use style=\"stroke:#000000;stroke-width:0.8;\" x=\"30.103125\" xlink:href=\"#mb19e30b2a9\" y=\"135.876572\"/>\r\n      </g>\r\n     </g>\r\n     <g id=\"text_9\">\r\n      <!-- 0.6 -->\r\n      <g transform=\"translate(7.2 139.67579)scale(0.1 -0.1)\">\r\n       <use xlink:href=\"#DejaVuSans-48\"/>\r\n       <use x=\"63.623047\" xlink:href=\"#DejaVuSans-46\"/>\r\n       <use x=\"95.410156\" xlink:href=\"#DejaVuSans-54\"/>\r\n      </g>\r\n     </g>\r\n    </g>\r\n    <g id=\"ytick_4\">\r\n     <g id=\"line2d_10\">\r\n      <g>\r\n       <use style=\"stroke:#000000;stroke-width:0.8;\" x=\"30.103125\" xlink:href=\"#mb19e30b2a9\" y=\"96.769276\"/>\r\n      </g>\r\n     </g>\r\n     <g id=\"text_10\">\r\n      <!-- 0.8 -->\r\n      <g transform=\"translate(7.2 100.568495)scale(0.1 -0.1)\">\r\n       <use xlink:href=\"#DejaVuSans-48\"/>\r\n       <use x=\"63.623047\" xlink:href=\"#DejaVuSans-46\"/>\r\n       <use x=\"95.410156\" xlink:href=\"#DejaVuSans-56\"/>\r\n      </g>\r\n     </g>\r\n    </g>\r\n    <g id=\"ytick_5\">\r\n     <g id=\"line2d_11\">\r\n      <g>\r\n       <use style=\"stroke:#000000;stroke-width:0.8;\" x=\"30.103125\" xlink:href=\"#mb19e30b2a9\" y=\"57.66198\"/>\r\n      </g>\r\n     </g>\r\n     <g id=\"text_11\">\r\n      <!-- 1.0 -->\r\n      <g transform=\"translate(7.2 61.461199)scale(0.1 -0.1)\">\r\n       <use xlink:href=\"#DejaVuSans-49\"/>\r\n       <use x=\"63.623047\" xlink:href=\"#DejaVuSans-46\"/>\r\n       <use x=\"95.410156\" xlink:href=\"#DejaVuSans-48\"/>\r\n      </g>\r\n     </g>\r\n    </g>\r\n   </g>\r\n   <g id=\"line2d_12\">\r\n    <path clip-path=\"url(#p7bf549a4aa)\" d=\"M 45.321307 32.201761 \r\nL 48.395687 154.095775 \r\nL 51.470067 178.279717 \r\nL 54.544447 188.063506 \r\nL 57.618827 193.317729 \r\nL 60.693208 196.94212 \r\nL 63.767588 199.704581 \r\nL 66.841968 201.909807 \r\nL 69.916348 203.716236 \r\nL 72.990728 205.227722 \r\nL 76.065108 206.520981 \r\nL 79.139489 207.647557 \r\nL 82.213869 208.648666 \r\nL 85.288249 209.560174 \r\nL 88.362629 210.408209 \r\nL 91.437009 211.215268 \r\nL 94.511389 211.998475 \r\nL 97.58577 212.766244 \r\nL 100.66015 213.518895 \r\nL 103.73453 214.252548 \r\nL 106.80891 214.962121 \r\nL 109.88329 215.64232 \r\nL 112.95767 216.288639 \r\nL 116.032051 216.897981 \r\nL 119.106431 217.468858 \r\nL 122.180811 218.001447 \r\nL 125.255191 218.497445 \r\nL 128.329571 218.95972 \r\nL 131.403951 219.39173 \r\nL 134.478332 219.797073 \r\nL 137.552712 220.178872 \r\nL 140.627092 220.539876 \r\nL 143.701472 220.882589 \r\nL 146.775852 221.209235 \r\nL 149.850232 221.521786 \r\nL 152.924613 221.821629 \r\nL 155.998993 222.109647 \r\nL 159.073373 222.386605 \r\nL 162.147753 222.653177 \r\nL 165.222133 222.909982 \r\nL 168.296513 223.157674 \r\nL 171.370894 223.397043 \r\nL 174.445274 223.628458 \r\nL 177.519654 223.852082 \r\nL 180.594034 224.068032 \r\nL 183.668414 224.276375 \r\nL 186.742794 224.477298 \r\nL 189.817175 224.671195 \r\nL 192.891555 224.858483 \r\nL 195.965935 225.039512 \r\nL 199.040315 225.214573 \r\nL 202.114695 225.383908 \r\nL 205.189075 225.547712 \r\nL 208.263456 225.706165 \r\nL 211.337836 225.859445 \r\nL 214.412216 226.00776 \r\nL 217.486596 226.151359 \r\nL 220.560976 226.290533 \r\nL 223.635356 226.425623 \r\nL 226.709737 226.557013 \r\nL 229.784117 226.685074 \r\nL 232.858497 226.810055 \r\nL 235.932877 226.932081 \r\nL 239.007257 227.051199 \r\nL 242.081637 227.167428 \r\nL 245.156018 227.280812 \r\nL 248.230398 227.391398 \r\nL 251.304778 227.499215 \r\nL 254.379158 227.60428 \r\nL 257.453538 227.706612 \r\nL 260.527918 227.806265 \r\nL 263.602299 227.90331 \r\nL 266.676679 227.99784 \r\nL 269.751059 228.089942 \r\nL 272.825439 228.179703 \r\nL 275.899819 228.267204 \r\nL 278.974199 228.352515 \r\nL 282.04858 228.435713 \r\nL 285.12296 228.51687 \r\nL 288.19734 228.596059 \r\nL 291.27172 228.673358 \r\nL 294.3461 228.748839 \r\nL 297.42048 228.822579 \r\nL 300.494861 228.894653 \r\nL 303.569241 228.965135 \r\nL 306.643621 229.034099 \r\nL 309.718001 229.101612 \r\nL 312.792381 229.16774 \r\nL 315.866761 229.232554 \r\nL 318.941142 229.296112 \r\nL 322.015522 229.358477 \r\nL 325.089902 229.419703 \r\nL 328.164282 229.479847 \r\nL 331.238662 229.53896 \r\nL 334.313042 229.597092 \r\nL 337.387423 229.654285 \r\nL 340.461803 229.710582 \r\nL 343.536183 229.766023 \r\nL 346.610563 229.820648 \r\nL 349.684943 229.874489 \r\n\" style=\"fill:none;stroke:#0000ff;stroke-linecap:square;stroke-width:1.5;\"/>\r\n   </g>\r\n   <g id=\"line2d_13\">\r\n    <path clip-path=\"url(#p7bf549a4aa)\" d=\"M 45.321307 127.226831 \r\nL 48.395687 169.647232 \r\nL 51.470067 184.491665 \r\nL 54.544447 191.495772 \r\nL 57.618827 195.900503 \r\nL 60.693208 199.093185 \r\nL 63.767588 201.553655 \r\nL 66.841968 203.51592 \r\nL 69.916348 205.143669 \r\nL 72.990728 206.535247 \r\nL 76.065108 207.755577 \r\nL 79.139489 208.840716 \r\nL 82.213869 209.81655 \r\nL 85.288249 210.698895 \r\nL 88.362629 211.505275 \r\nL 91.437009 212.25934 \r\nL 94.511389 212.981176 \r\nL 97.58577 213.681059 \r\nL 100.66015 214.359377 \r\nL 103.73453 215.012383 \r\nL 106.80891 215.635632 \r\nL 109.88329 216.225516 \r\nL 112.95767 216.779933 \r\nL 116.032051 217.298695 \r\nL 119.106431 217.783338 \r\nL 122.180811 218.23637 \r\nL 125.255191 218.660546 \r\nL 128.329571 219.058597 \r\nL 131.403951 219.433165 \r\nL 134.478332 219.786408 \r\nL 137.552712 220.119367 \r\nL 140.627092 220.433865 \r\nL 143.701472 220.731778 \r\nL 146.775852 221.014907 \r\nL 149.850232 221.284723 \r\nL 152.924613 221.54236 \r\nL 155.998993 221.788913 \r\nL 159.073373 222.025417 \r\nL 162.147753 222.252749 \r\nL 165.222133 222.471472 \r\nL 168.296513 222.681804 \r\nL 171.370894 222.883693 \r\nL 174.445274 223.077334 \r\nL 177.519654 223.262943 \r\nL 180.594034 223.440495 \r\nL 183.668414 223.609996 \r\nL 186.742794 223.771525 \r\nL 189.817175 223.925201 \r\nL 192.891555 224.07122 \r\nL 195.965935 224.209854 \r\nL 199.040315 224.341446 \r\nL 202.114695 224.466374 \r\nL 205.189075 224.585045 \r\nL 208.263456 224.697865 \r\nL 211.337836 224.805276 \r\nL 214.412216 224.907732 \r\nL 217.486596 225.005726 \r\nL 220.560976 225.099747 \r\nL 223.635356 225.19026 \r\nL 226.709737 225.277678 \r\nL 229.784117 225.362395 \r\nL 232.858497 225.444805 \r\nL 235.932877 225.525268 \r\nL 239.007257 225.604057 \r\nL 242.081637 225.681361 \r\nL 245.156018 225.757282 \r\nL 248.230398 225.831887 \r\nL 251.304778 225.90518 \r\nL 254.379158 225.977141 \r\nL 257.453538 226.047745 \r\nL 260.527918 226.116956 \r\nL 263.602299 226.184775 \r\nL 266.676679 226.251179 \r\nL 269.751059 226.316143 \r\nL 272.825439 226.379626 \r\nL 275.899819 226.441577 \r\nL 278.974199 226.501944 \r\nL 282.04858 226.560684 \r\nL 285.12296 226.61775 \r\nL 288.19734 226.673118 \r\nL 291.27172 226.726759 \r\nL 294.3461 226.778666 \r\nL 297.42048 226.828846 \r\nL 300.494861 226.877298 \r\nL 303.569241 226.924049 \r\nL 306.643621 226.969117 \r\nL 309.718001 227.012552 \r\nL 312.792381 227.054402 \r\nL 315.866761 227.094711 \r\nL 318.941142 227.133554 \r\nL 322.015522 227.170983 \r\nL 325.089902 227.207074 \r\nL 328.164282 227.241878 \r\nL 331.238662 227.275483 \r\nL 334.313042 227.307943 \r\nL 337.387423 227.33934 \r\nL 340.461803 227.36974 \r\nL 343.536183 227.399215 \r\nL 346.610563 227.427845 \r\nL 349.684943 227.455704 \r\n\" style=\"fill:none;stroke:#ff0000;stroke-linecap:square;stroke-width:1.5;\"/>\r\n   </g>\r\n   <g id=\"patch_3\">\r\n    <path d=\"M 30.103125 239.758125 \r\nL 30.103125 22.318125 \r\n\" style=\"fill:none;stroke:#000000;stroke-linecap:square;stroke-linejoin:miter;stroke-width:0.8;\"/>\r\n   </g>\r\n   <g id=\"patch_4\">\r\n    <path d=\"M 364.903125 239.758125 \r\nL 364.903125 22.318125 \r\n\" style=\"fill:none;stroke:#000000;stroke-linecap:square;stroke-linejoin:miter;stroke-width:0.8;\"/>\r\n   </g>\r\n   <g id=\"patch_5\">\r\n    <path d=\"M 30.103125 239.758125 \r\nL 364.903125 239.758125 \r\n\" style=\"fill:none;stroke:#000000;stroke-linecap:square;stroke-linejoin:miter;stroke-width:0.8;\"/>\r\n   </g>\r\n   <g id=\"patch_6\">\r\n    <path d=\"M 30.103125 22.318125 \r\nL 364.903125 22.318125 \r\n\" style=\"fill:none;stroke:#000000;stroke-linecap:square;stroke-linejoin:miter;stroke-width:0.8;\"/>\r\n   </g>\r\n   <g id=\"text_12\">\r\n    <!-- Single StepSequential Training and validation loss -->\r\n    <defs>\r\n     <path d=\"M 53.515625 70.515625 \r\nL 53.515625 60.890625 \r\nQ 47.90625 63.578125 42.921875 64.890625 \r\nQ 37.9375 66.21875 33.296875 66.21875 \r\nQ 25.25 66.21875 20.875 63.09375 \r\nQ 16.5 59.96875 16.5 54.203125 \r\nQ 16.5 49.359375 19.40625 46.890625 \r\nQ 22.3125 44.4375 30.421875 42.921875 \r\nL 36.375 41.703125 \r\nQ 47.40625 39.59375 52.65625 34.296875 \r\nQ 57.90625 29 57.90625 20.125 \r\nQ 57.90625 9.515625 50.796875 4.046875 \r\nQ 43.703125 -1.421875 29.984375 -1.421875 \r\nQ 24.8125 -1.421875 18.96875 -0.25 \r\nQ 13.140625 0.921875 6.890625 3.21875 \r\nL 6.890625 13.375 \r\nQ 12.890625 10.015625 18.65625 8.296875 \r\nQ 24.421875 6.59375 29.984375 6.59375 \r\nQ 38.421875 6.59375 43.015625 9.90625 \r\nQ 47.609375 13.234375 47.609375 19.390625 \r\nQ 47.609375 24.75 44.3125 27.78125 \r\nQ 41.015625 30.8125 33.5 32.328125 \r\nL 27.484375 33.5 \r\nQ 16.453125 35.6875 11.515625 40.375 \r\nQ 6.59375 45.0625 6.59375 53.421875 \r\nQ 6.59375 63.09375 13.40625 68.65625 \r\nQ 20.21875 74.21875 32.171875 74.21875 \r\nQ 37.3125 74.21875 42.625 73.28125 \r\nQ 47.953125 72.359375 53.515625 70.515625 \r\nz\r\n\" id=\"DejaVuSans-83\"/>\r\n     <path d=\"M 9.421875 54.6875 \r\nL 18.40625 54.6875 \r\nL 18.40625 0 \r\nL 9.421875 0 \r\nz\r\nM 9.421875 75.984375 \r\nL 18.40625 75.984375 \r\nL 18.40625 64.59375 \r\nL 9.421875 64.59375 \r\nz\r\n\" id=\"DejaVuSans-105\"/>\r\n     <path d=\"M 54.890625 33.015625 \r\nL 54.890625 0 \r\nL 45.90625 0 \r\nL 45.90625 32.71875 \r\nQ 45.90625 40.484375 42.875 44.328125 \r\nQ 39.84375 48.1875 33.796875 48.1875 \r\nQ 26.515625 48.1875 22.3125 43.546875 \r\nQ 18.109375 38.921875 18.109375 30.90625 \r\nL 18.109375 0 \r\nL 9.078125 0 \r\nL 9.078125 54.6875 \r\nL 18.109375 54.6875 \r\nL 18.109375 46.1875 \r\nQ 21.34375 51.125 25.703125 53.5625 \r\nQ 30.078125 56 35.796875 56 \r\nQ 45.21875 56 50.046875 50.171875 \r\nQ 54.890625 44.34375 54.890625 33.015625 \r\nz\r\n\" id=\"DejaVuSans-110\"/>\r\n     <path d=\"M 45.40625 27.984375 \r\nQ 45.40625 37.75 41.375 43.109375 \r\nQ 37.359375 48.484375 30.078125 48.484375 \r\nQ 22.859375 48.484375 18.828125 43.109375 \r\nQ 14.796875 37.75 14.796875 27.984375 \r\nQ 14.796875 18.265625 18.828125 12.890625 \r\nQ 22.859375 7.515625 30.078125 7.515625 \r\nQ 37.359375 7.515625 41.375 12.890625 \r\nQ 45.40625 18.265625 45.40625 27.984375 \r\nz\r\nM 54.390625 6.78125 \r\nQ 54.390625 -7.171875 48.1875 -13.984375 \r\nQ 42 -20.796875 29.203125 -20.796875 \r\nQ 24.46875 -20.796875 20.265625 -20.09375 \r\nQ 16.0625 -19.390625 12.109375 -17.921875 \r\nL 12.109375 -9.1875 \r\nQ 16.0625 -11.328125 19.921875 -12.34375 \r\nQ 23.78125 -13.375 27.78125 -13.375 \r\nQ 36.625 -13.375 41.015625 -8.765625 \r\nQ 45.40625 -4.15625 45.40625 5.171875 \r\nL 45.40625 9.625 \r\nQ 42.625 4.78125 38.28125 2.390625 \r\nQ 33.9375 0 27.875 0 \r\nQ 17.828125 0 11.671875 7.65625 \r\nQ 5.515625 15.328125 5.515625 27.984375 \r\nQ 5.515625 40.671875 11.671875 48.328125 \r\nQ 17.828125 56 27.875 56 \r\nQ 33.9375 56 38.28125 53.609375 \r\nQ 42.625 51.21875 45.40625 46.390625 \r\nL 45.40625 54.6875 \r\nL 54.390625 54.6875 \r\nz\r\n\" id=\"DejaVuSans-103\"/>\r\n     <path d=\"M 9.421875 75.984375 \r\nL 18.40625 75.984375 \r\nL 18.40625 0 \r\nL 9.421875 0 \r\nz\r\n\" id=\"DejaVuSans-108\"/>\r\n     <path d=\"M 56.203125 29.59375 \r\nL 56.203125 25.203125 \r\nL 14.890625 25.203125 \r\nQ 15.484375 15.921875 20.484375 11.0625 \r\nQ 25.484375 6.203125 34.421875 6.203125 \r\nQ 39.59375 6.203125 44.453125 7.46875 \r\nQ 49.3125 8.734375 54.109375 11.28125 \r\nL 54.109375 2.78125 \r\nQ 49.265625 0.734375 44.1875 -0.34375 \r\nQ 39.109375 -1.421875 33.890625 -1.421875 \r\nQ 20.796875 -1.421875 13.15625 6.1875 \r\nQ 5.515625 13.8125 5.515625 26.8125 \r\nQ 5.515625 40.234375 12.765625 48.109375 \r\nQ 20.015625 56 32.328125 56 \r\nQ 43.359375 56 49.78125 48.890625 \r\nQ 56.203125 41.796875 56.203125 29.59375 \r\nz\r\nM 47.21875 32.234375 \r\nQ 47.125 39.59375 43.09375 43.984375 \r\nQ 39.0625 48.390625 32.421875 48.390625 \r\nQ 24.90625 48.390625 20.390625 44.140625 \r\nQ 15.875 39.890625 15.1875 32.171875 \r\nz\r\n\" id=\"DejaVuSans-101\"/>\r\n     <path id=\"DejaVuSans-32\"/>\r\n     <path d=\"M 18.3125 70.21875 \r\nL 18.3125 54.6875 \r\nL 36.8125 54.6875 \r\nL 36.8125 47.703125 \r\nL 18.3125 47.703125 \r\nL 18.3125 18.015625 \r\nQ 18.3125 11.328125 20.140625 9.421875 \r\nQ 21.96875 7.515625 27.59375 7.515625 \r\nL 36.8125 7.515625 \r\nL 36.8125 0 \r\nL 27.59375 0 \r\nQ 17.1875 0 13.234375 3.875 \r\nQ 9.28125 7.765625 9.28125 18.015625 \r\nL 9.28125 47.703125 \r\nL 2.6875 47.703125 \r\nL 2.6875 54.6875 \r\nL 9.28125 54.6875 \r\nL 9.28125 70.21875 \r\nz\r\n\" id=\"DejaVuSans-116\"/>\r\n     <path d=\"M 18.109375 8.203125 \r\nL 18.109375 -20.796875 \r\nL 9.078125 -20.796875 \r\nL 9.078125 54.6875 \r\nL 18.109375 54.6875 \r\nL 18.109375 46.390625 \r\nQ 20.953125 51.265625 25.265625 53.625 \r\nQ 29.59375 56 35.59375 56 \r\nQ 45.5625 56 51.78125 48.09375 \r\nQ 58.015625 40.1875 58.015625 27.296875 \r\nQ 58.015625 14.40625 51.78125 6.484375 \r\nQ 45.5625 -1.421875 35.59375 -1.421875 \r\nQ 29.59375 -1.421875 25.265625 0.953125 \r\nQ 20.953125 3.328125 18.109375 8.203125 \r\nz\r\nM 48.6875 27.296875 \r\nQ 48.6875 37.203125 44.609375 42.84375 \r\nQ 40.53125 48.484375 33.40625 48.484375 \r\nQ 26.265625 48.484375 22.1875 42.84375 \r\nQ 18.109375 37.203125 18.109375 27.296875 \r\nQ 18.109375 17.390625 22.1875 11.75 \r\nQ 26.265625 6.109375 33.40625 6.109375 \r\nQ 40.53125 6.109375 44.609375 11.75 \r\nQ 48.6875 17.390625 48.6875 27.296875 \r\nz\r\n\" id=\"DejaVuSans-112\"/>\r\n     <path d=\"M 14.796875 27.296875 \r\nQ 14.796875 17.390625 18.875 11.75 \r\nQ 22.953125 6.109375 30.078125 6.109375 \r\nQ 37.203125 6.109375 41.296875 11.75 \r\nQ 45.40625 17.390625 45.40625 27.296875 \r\nQ 45.40625 37.203125 41.296875 42.84375 \r\nQ 37.203125 48.484375 30.078125 48.484375 \r\nQ 22.953125 48.484375 18.875 42.84375 \r\nQ 14.796875 37.203125 14.796875 27.296875 \r\nz\r\nM 45.40625 8.203125 \r\nQ 42.578125 3.328125 38.25 0.953125 \r\nQ 33.9375 -1.421875 27.875 -1.421875 \r\nQ 17.96875 -1.421875 11.734375 6.484375 \r\nQ 5.515625 14.40625 5.515625 27.296875 \r\nQ 5.515625 40.1875 11.734375 48.09375 \r\nQ 17.96875 56 27.875 56 \r\nQ 33.9375 56 38.25 53.625 \r\nQ 42.578125 51.265625 45.40625 46.390625 \r\nL 45.40625 54.6875 \r\nL 54.390625 54.6875 \r\nL 54.390625 -20.796875 \r\nL 45.40625 -20.796875 \r\nz\r\n\" id=\"DejaVuSans-113\"/>\r\n     <path d=\"M 8.5 21.578125 \r\nL 8.5 54.6875 \r\nL 17.484375 54.6875 \r\nL 17.484375 21.921875 \r\nQ 17.484375 14.15625 20.5 10.265625 \r\nQ 23.53125 6.390625 29.59375 6.390625 \r\nQ 36.859375 6.390625 41.078125 11.03125 \r\nQ 45.3125 15.671875 45.3125 23.6875 \r\nL 45.3125 54.6875 \r\nL 54.296875 54.6875 \r\nL 54.296875 0 \r\nL 45.3125 0 \r\nL 45.3125 8.40625 \r\nQ 42.046875 3.421875 37.71875 1 \r\nQ 33.40625 -1.421875 27.6875 -1.421875 \r\nQ 18.265625 -1.421875 13.375 4.4375 \r\nQ 8.5 10.296875 8.5 21.578125 \r\nz\r\nM 31.109375 56 \r\nz\r\n\" id=\"DejaVuSans-117\"/>\r\n     <path d=\"M 34.28125 27.484375 \r\nQ 23.390625 27.484375 19.1875 25 \r\nQ 14.984375 22.515625 14.984375 16.5 \r\nQ 14.984375 11.71875 18.140625 8.90625 \r\nQ 21.296875 6.109375 26.703125 6.109375 \r\nQ 34.1875 6.109375 38.703125 11.40625 \r\nQ 43.21875 16.703125 43.21875 25.484375 \r\nL 43.21875 27.484375 \r\nz\r\nM 52.203125 31.203125 \r\nL 52.203125 0 \r\nL 43.21875 0 \r\nL 43.21875 8.296875 \r\nQ 40.140625 3.328125 35.546875 0.953125 \r\nQ 30.953125 -1.421875 24.3125 -1.421875 \r\nQ 15.921875 -1.421875 10.953125 3.296875 \r\nQ 6 8.015625 6 15.921875 \r\nQ 6 25.140625 12.171875 29.828125 \r\nQ 18.359375 34.515625 30.609375 34.515625 \r\nL 43.21875 34.515625 \r\nL 43.21875 35.40625 \r\nQ 43.21875 41.609375 39.140625 45 \r\nQ 35.0625 48.390625 27.6875 48.390625 \r\nQ 23 48.390625 18.546875 47.265625 \r\nQ 14.109375 46.140625 10.015625 43.890625 \r\nL 10.015625 52.203125 \r\nQ 14.9375 54.109375 19.578125 55.046875 \r\nQ 24.21875 56 28.609375 56 \r\nQ 40.484375 56 46.34375 49.84375 \r\nQ 52.203125 43.703125 52.203125 31.203125 \r\nz\r\n\" id=\"DejaVuSans-97\"/>\r\n     <path d=\"M -0.296875 72.90625 \r\nL 61.375 72.90625 \r\nL 61.375 64.59375 \r\nL 35.5 64.59375 \r\nL 35.5 0 \r\nL 25.59375 0 \r\nL 25.59375 64.59375 \r\nL -0.296875 64.59375 \r\nz\r\n\" id=\"DejaVuSans-84\"/>\r\n     <path d=\"M 41.109375 46.296875 \r\nQ 39.59375 47.171875 37.8125 47.578125 \r\nQ 36.03125 48 33.890625 48 \r\nQ 26.265625 48 22.1875 43.046875 \r\nQ 18.109375 38.09375 18.109375 28.8125 \r\nL 18.109375 0 \r\nL 9.078125 0 \r\nL 9.078125 54.6875 \r\nL 18.109375 54.6875 \r\nL 18.109375 46.1875 \r\nQ 20.953125 51.171875 25.484375 53.578125 \r\nQ 30.03125 56 36.53125 56 \r\nQ 37.453125 56 38.578125 55.875 \r\nQ 39.703125 55.765625 41.0625 55.515625 \r\nz\r\n\" id=\"DejaVuSans-114\"/>\r\n     <path d=\"M 45.40625 46.390625 \r\nL 45.40625 75.984375 \r\nL 54.390625 75.984375 \r\nL 54.390625 0 \r\nL 45.40625 0 \r\nL 45.40625 8.203125 \r\nQ 42.578125 3.328125 38.25 0.953125 \r\nQ 33.9375 -1.421875 27.875 -1.421875 \r\nQ 17.96875 -1.421875 11.734375 6.484375 \r\nQ 5.515625 14.40625 5.515625 27.296875 \r\nQ 5.515625 40.1875 11.734375 48.09375 \r\nQ 17.96875 56 27.875 56 \r\nQ 33.9375 56 38.25 53.625 \r\nQ 42.578125 51.265625 45.40625 46.390625 \r\nz\r\nM 14.796875 27.296875 \r\nQ 14.796875 17.390625 18.875 11.75 \r\nQ 22.953125 6.109375 30.078125 6.109375 \r\nQ 37.203125 6.109375 41.296875 11.75 \r\nQ 45.40625 17.390625 45.40625 27.296875 \r\nQ 45.40625 37.203125 41.296875 42.84375 \r\nQ 37.203125 48.484375 30.078125 48.484375 \r\nQ 22.953125 48.484375 18.875 42.84375 \r\nQ 14.796875 37.203125 14.796875 27.296875 \r\nz\r\n\" id=\"DejaVuSans-100\"/>\r\n     <path d=\"M 2.984375 54.6875 \r\nL 12.5 54.6875 \r\nL 29.59375 8.796875 \r\nL 46.6875 54.6875 \r\nL 56.203125 54.6875 \r\nL 35.6875 0 \r\nL 23.484375 0 \r\nz\r\n\" id=\"DejaVuSans-118\"/>\r\n     <path d=\"M 30.609375 48.390625 \r\nQ 23.390625 48.390625 19.1875 42.75 \r\nQ 14.984375 37.109375 14.984375 27.296875 \r\nQ 14.984375 17.484375 19.15625 11.84375 \r\nQ 23.34375 6.203125 30.609375 6.203125 \r\nQ 37.796875 6.203125 41.984375 11.859375 \r\nQ 46.1875 17.53125 46.1875 27.296875 \r\nQ 46.1875 37.015625 41.984375 42.703125 \r\nQ 37.796875 48.390625 30.609375 48.390625 \r\nz\r\nM 30.609375 56 \r\nQ 42.328125 56 49.015625 48.375 \r\nQ 55.71875 40.765625 55.71875 27.296875 \r\nQ 55.71875 13.875 49.015625 6.21875 \r\nQ 42.328125 -1.421875 30.609375 -1.421875 \r\nQ 18.84375 -1.421875 12.171875 6.21875 \r\nQ 5.515625 13.875 5.515625 27.296875 \r\nQ 5.515625 40.765625 12.171875 48.375 \r\nQ 18.84375 56 30.609375 56 \r\nz\r\n\" id=\"DejaVuSans-111\"/>\r\n     <path d=\"M 44.28125 53.078125 \r\nL 44.28125 44.578125 \r\nQ 40.484375 46.53125 36.375 47.5 \r\nQ 32.28125 48.484375 27.875 48.484375 \r\nQ 21.1875 48.484375 17.84375 46.4375 \r\nQ 14.5 44.390625 14.5 40.28125 \r\nQ 14.5 37.15625 16.890625 35.375 \r\nQ 19.28125 33.59375 26.515625 31.984375 \r\nL 29.59375 31.296875 \r\nQ 39.15625 29.25 43.1875 25.515625 \r\nQ 47.21875 21.78125 47.21875 15.09375 \r\nQ 47.21875 7.46875 41.1875 3.015625 \r\nQ 35.15625 -1.421875 24.609375 -1.421875 \r\nQ 20.21875 -1.421875 15.453125 -0.5625 \r\nQ 10.6875 0.296875 5.421875 2 \r\nL 5.421875 11.28125 \r\nQ 10.40625 8.6875 15.234375 7.390625 \r\nQ 20.0625 6.109375 24.8125 6.109375 \r\nQ 31.15625 6.109375 34.5625 8.28125 \r\nQ 37.984375 10.453125 37.984375 14.40625 \r\nQ 37.984375 18.0625 35.515625 20.015625 \r\nQ 33.0625 21.96875 24.703125 23.78125 \r\nL 21.578125 24.515625 \r\nQ 13.234375 26.265625 9.515625 29.90625 \r\nQ 5.8125 33.546875 5.8125 39.890625 \r\nQ 5.8125 47.609375 11.28125 51.796875 \r\nQ 16.75 56 26.8125 56 \r\nQ 31.78125 56 36.171875 55.265625 \r\nQ 40.578125 54.546875 44.28125 53.078125 \r\nz\r\n\" id=\"DejaVuSans-115\"/>\r\n    </defs>\r\n    <g transform=\"translate(46.929375 16.318125)scale(0.12 -0.12)\">\r\n     <use xlink:href=\"#DejaVuSans-83\"/>\r\n     <use x=\"63.476562\" xlink:href=\"#DejaVuSans-105\"/>\r\n     <use x=\"91.259766\" xlink:href=\"#DejaVuSans-110\"/>\r\n     <use x=\"154.638672\" xlink:href=\"#DejaVuSans-103\"/>\r\n     <use x=\"218.115234\" xlink:href=\"#DejaVuSans-108\"/>\r\n     <use x=\"245.898438\" xlink:href=\"#DejaVuSans-101\"/>\r\n     <use x=\"307.421875\" xlink:href=\"#DejaVuSans-32\"/>\r\n     <use x=\"339.208984\" xlink:href=\"#DejaVuSans-83\"/>\r\n     <use x=\"402.685547\" xlink:href=\"#DejaVuSans-116\"/>\r\n     <use x=\"441.894531\" xlink:href=\"#DejaVuSans-101\"/>\r\n     <use x=\"503.417969\" xlink:href=\"#DejaVuSans-112\"/>\r\n     <use x=\"566.894531\" xlink:href=\"#DejaVuSans-83\"/>\r\n     <use x=\"630.371094\" xlink:href=\"#DejaVuSans-101\"/>\r\n     <use x=\"691.894531\" xlink:href=\"#DejaVuSans-113\"/>\r\n     <use x=\"755.371094\" xlink:href=\"#DejaVuSans-117\"/>\r\n     <use x=\"818.75\" xlink:href=\"#DejaVuSans-101\"/>\r\n     <use x=\"880.273438\" xlink:href=\"#DejaVuSans-110\"/>\r\n     <use x=\"943.652344\" xlink:href=\"#DejaVuSans-116\"/>\r\n     <use x=\"982.861328\" xlink:href=\"#DejaVuSans-105\"/>\r\n     <use x=\"1010.644531\" xlink:href=\"#DejaVuSans-97\"/>\r\n     <use x=\"1071.923828\" xlink:href=\"#DejaVuSans-108\"/>\r\n     <use x=\"1099.707031\" xlink:href=\"#DejaVuSans-32\"/>\r\n     <use x=\"1131.494141\" xlink:href=\"#DejaVuSans-84\"/>\r\n     <use x=\"1192.359375\" xlink:href=\"#DejaVuSans-114\"/>\r\n     <use x=\"1233.472656\" xlink:href=\"#DejaVuSans-97\"/>\r\n     <use x=\"1294.751953\" xlink:href=\"#DejaVuSans-105\"/>\r\n     <use x=\"1322.535156\" xlink:href=\"#DejaVuSans-110\"/>\r\n     <use x=\"1385.914062\" xlink:href=\"#DejaVuSans-105\"/>\r\n     <use x=\"1413.697266\" xlink:href=\"#DejaVuSans-110\"/>\r\n     <use x=\"1477.076172\" xlink:href=\"#DejaVuSans-103\"/>\r\n     <use x=\"1540.552734\" xlink:href=\"#DejaVuSans-32\"/>\r\n     <use x=\"1572.339844\" xlink:href=\"#DejaVuSans-97\"/>\r\n     <use x=\"1633.619141\" xlink:href=\"#DejaVuSans-110\"/>\r\n     <use x=\"1696.998047\" xlink:href=\"#DejaVuSans-100\"/>\r\n     <use x=\"1760.474609\" xlink:href=\"#DejaVuSans-32\"/>\r\n     <use x=\"1792.261719\" xlink:href=\"#DejaVuSans-118\"/>\r\n     <use x=\"1851.441406\" xlink:href=\"#DejaVuSans-97\"/>\r\n     <use x=\"1912.720703\" xlink:href=\"#DejaVuSans-108\"/>\r\n     <use x=\"1940.503906\" xlink:href=\"#DejaVuSans-105\"/>\r\n     <use x=\"1968.287109\" xlink:href=\"#DejaVuSans-100\"/>\r\n     <use x=\"2031.763672\" xlink:href=\"#DejaVuSans-97\"/>\r\n     <use x=\"2093.042969\" xlink:href=\"#DejaVuSans-116\"/>\r\n     <use x=\"2132.251953\" xlink:href=\"#DejaVuSans-105\"/>\r\n     <use x=\"2160.035156\" xlink:href=\"#DejaVuSans-111\"/>\r\n     <use x=\"2221.216797\" xlink:href=\"#DejaVuSans-110\"/>\r\n     <use x=\"2284.595703\" xlink:href=\"#DejaVuSans-32\"/>\r\n     <use x=\"2316.382812\" xlink:href=\"#DejaVuSans-108\"/>\r\n     <use x=\"2344.166016\" xlink:href=\"#DejaVuSans-111\"/>\r\n     <use x=\"2405.347656\" xlink:href=\"#DejaVuSans-115\"/>\r\n     <use x=\"2457.447266\" xlink:href=\"#DejaVuSans-115\"/>\r\n    </g>\r\n   </g>\r\n   <g id=\"legend_1\">\r\n    <g id=\"patch_7\">\r\n     <path d=\"M 253.264063 59.674375 \r\nL 357.903125 59.674375 \r\nQ 359.903125 59.674375 359.903125 57.674375 \r\nL 359.903125 29.318125 \r\nQ 359.903125 27.318125 357.903125 27.318125 \r\nL 253.264063 27.318125 \r\nQ 251.264063 27.318125 251.264063 29.318125 \r\nL 251.264063 57.674375 \r\nQ 251.264063 59.674375 253.264063 59.674375 \r\nz\r\n\" style=\"fill:#ffffff;opacity:0.8;stroke:#cccccc;stroke-linejoin:miter;\"/>\r\n    </g>\r\n    <g id=\"line2d_14\">\r\n     <path d=\"M 255.264063 35.416562 \r\nL 275.264063 35.416562 \r\n\" style=\"fill:none;stroke:#0000ff;stroke-linecap:square;stroke-width:1.5;\"/>\r\n    </g>\r\n    <g id=\"line2d_15\"/>\r\n    <g id=\"text_13\">\r\n     <!-- Training loss -->\r\n     <g transform=\"translate(283.264063 38.916562)scale(0.1 -0.1)\">\r\n      <use xlink:href=\"#DejaVuSans-84\"/>\r\n      <use x=\"60.865234\" xlink:href=\"#DejaVuSans-114\"/>\r\n      <use x=\"101.978516\" xlink:href=\"#DejaVuSans-97\"/>\r\n      <use x=\"163.257812\" xlink:href=\"#DejaVuSans-105\"/>\r\n      <use x=\"191.041016\" xlink:href=\"#DejaVuSans-110\"/>\r\n      <use x=\"254.419922\" xlink:href=\"#DejaVuSans-105\"/>\r\n      <use x=\"282.203125\" xlink:href=\"#DejaVuSans-110\"/>\r\n      <use x=\"345.582031\" xlink:href=\"#DejaVuSans-103\"/>\r\n      <use x=\"409.058594\" xlink:href=\"#DejaVuSans-32\"/>\r\n      <use x=\"440.845703\" xlink:href=\"#DejaVuSans-108\"/>\r\n      <use x=\"468.628906\" xlink:href=\"#DejaVuSans-111\"/>\r\n      <use x=\"529.810547\" xlink:href=\"#DejaVuSans-115\"/>\r\n      <use x=\"581.910156\" xlink:href=\"#DejaVuSans-115\"/>\r\n     </g>\r\n    </g>\r\n    <g id=\"line2d_16\">\r\n     <path d=\"M 255.264063 50.094687 \r\nL 275.264063 50.094687 \r\n\" style=\"fill:none;stroke:#ff0000;stroke-linecap:square;stroke-width:1.5;\"/>\r\n    </g>\r\n    <g id=\"line2d_17\"/>\r\n    <g id=\"text_14\">\r\n     <!-- Validation loss -->\r\n     <defs>\r\n      <path d=\"M 28.609375 0 \r\nL 0.78125 72.90625 \r\nL 11.078125 72.90625 \r\nL 34.1875 11.53125 \r\nL 57.328125 72.90625 \r\nL 67.578125 72.90625 \r\nL 39.796875 0 \r\nz\r\n\" id=\"DejaVuSans-86\"/>\r\n     </defs>\r\n     <g transform=\"translate(283.264063 53.594687)scale(0.1 -0.1)\">\r\n      <use xlink:href=\"#DejaVuSans-86\"/>\r\n      <use x=\"68.298828\" xlink:href=\"#DejaVuSans-97\"/>\r\n      <use x=\"129.578125\" xlink:href=\"#DejaVuSans-108\"/>\r\n      <use x=\"157.361328\" xlink:href=\"#DejaVuSans-105\"/>\r\n      <use x=\"185.144531\" xlink:href=\"#DejaVuSans-100\"/>\r\n      <use x=\"248.621094\" xlink:href=\"#DejaVuSans-97\"/>\r\n      <use x=\"309.900391\" xlink:href=\"#DejaVuSans-116\"/>\r\n      <use x=\"349.109375\" xlink:href=\"#DejaVuSans-105\"/>\r\n      <use x=\"376.892578\" xlink:href=\"#DejaVuSans-111\"/>\r\n      <use x=\"438.074219\" xlink:href=\"#DejaVuSans-110\"/>\r\n      <use x=\"501.453125\" xlink:href=\"#DejaVuSans-32\"/>\r\n      <use x=\"533.240234\" xlink:href=\"#DejaVuSans-108\"/>\r\n      <use x=\"561.023438\" xlink:href=\"#DejaVuSans-111\"/>\r\n      <use x=\"622.205078\" xlink:href=\"#DejaVuSans-115\"/>\r\n      <use x=\"674.304688\" xlink:href=\"#DejaVuSans-115\"/>\r\n     </g>\r\n    </g>\r\n   </g>\r\n  </g>\r\n </g>\r\n <defs>\r\n  <clipPath id=\"p7bf549a4aa\">\r\n   <rect height=\"217.44\" width=\"334.8\" x=\"30.103125\" y=\"22.318125\"/>\r\n  </clipPath>\r\n </defs>\r\n</svg>\r\n",
      "image/png": "[encoded data removed]"
     },
     "metadata": {
      "needs_background": "light"
     }
    }
   ],
   "source": [
    "plot_train_history(single_step_sequential_history,\n",
    "                   'Single StepSequential Training and validation loss')"
   ]
  },
  {
   "source": [
    "Compare trajectory"
   ],
   "cell_type": "markdown",
   "metadata": {}
  },
  {
   "source": [
    "Trajectory component vs steps"
   ],
   "cell_type": "markdown",
   "metadata": {}
  },
  {
   "cell_type": "code",
   "execution_count": null,
   "metadata": {},
   "outputs": [],
   "source": []
  },
  {
   "cell_type": "code",
   "execution_count": 20,
   "metadata": {},
   "outputs": [
    {
     "output_type": "display_data",
     "data": {
      "text/plain": "<Figure size 432x288 with 1 Axes>",
      "image/svg+xml": "<?xml version=\"1.0\" encoding=\"utf-8\" standalone=\"no\"?>\r\n<!DOCTYPE svg PUBLIC \"-//W3C//DTD SVG 1.1//EN\"\r\n  \"http://www.w3.org/Graphics/SVG/1.1/DTD/svg11.dtd\">\r\n<!-- Created with matplotlib (https://matplotlib.org/) -->\r\n<svg height=\"263.63625pt\" version=\"1.1\" viewBox=\"0 0 380.482812 263.63625\" width=\"380.482812pt\" xmlns=\"http://www.w3.org/2000/svg\" xmlns:xlink=\"http://www.w3.org/1999/xlink\">\r\n <defs>\r\n  <style type=\"text/css\">\r\n*{stroke-linecap:butt;stroke-linejoin:round;}\r\n  </style>\r\n </defs>\r\n <g id=\"figure_1\">\r\n  <g id=\"patch_1\">\r\n   <path d=\"M -0 263.63625 \r\nL 380.482812 263.63625 \r\nL 380.482812 0 \r\nL -0 0 \r\nz\r\n\" style=\"fill:none;\"/>\r\n  </g>\r\n  <g id=\"axes_1\">\r\n   <g id=\"patch_2\">\r\n    <path d=\"M 38.482813 239.758125 \r\nL 373.282813 239.758125 \r\nL 373.282813 22.318125 \r\nL 38.482813 22.318125 \r\nz\r\n\" style=\"fill:#ffffff;\"/>\r\n   </g>\r\n   <g id=\"PathCollection_1\">\r\n    <defs>\r\n     <path d=\"M 0 3 \r\nC 0.795609 3 1.55874 2.683901 2.12132 2.12132 \r\nC 2.683901 1.55874 3 0.795609 3 0 \r\nC 3 -0.795609 2.683901 -1.55874 2.12132 -2.12132 \r\nC 1.55874 -2.683901 0.795609 -3 0 -3 \r\nC -0.795609 -3 -1.55874 -2.683901 -2.12132 -2.12132 \r\nC -2.683901 -1.55874 -3 -0.795609 -3 0 \r\nC -3 0.795609 -2.683901 1.55874 -2.12132 2.12132 \r\nC -1.55874 2.683901 -0.795609 3 0 3 \r\nz\r\n\" id=\"mafe5d4a8e7\" style=\"stroke:#008000;\"/>\r\n    </defs>\r\n    <g clip-path=\"url(#p96d8ee4e92)\">\r\n     <use style=\"fill:#008000;stroke:#008000;\" x=\"355.122907\" xlink:href=\"#mafe5d4a8e7\" y=\"34.165285\"/>\r\n    </g>\r\n   </g>\r\n   <g id=\"PathCollection_2\">\r\n    <defs>\r\n     <path d=\"M 0 3 \r\nC 0.795609 3 1.55874 2.683901 2.12132 2.12132 \r\nC 2.683901 1.55874 3 0.795609 3 0 \r\nC 3 -0.795609 2.683901 -1.55874 2.12132 -2.12132 \r\nC 1.55874 -2.683901 0.795609 -3 0 -3 \r\nC -0.795609 -3 -1.55874 -2.683901 -2.12132 -2.12132 \r\nC -2.683901 -1.55874 -3 -0.795609 -3 0 \r\nC -3 0.795609 -2.683901 1.55874 -2.12132 2.12132 \r\nC -1.55874 2.683901 -0.795609 3 0 3 \r\nz\r\n\" id=\"mc9eb5dfaf9\" style=\"stroke:#bfbf00;\"/>\r\n    </defs>\r\n    <g clip-path=\"url(#p96d8ee4e92)\">\r\n     <use style=\"fill:#bfbf00;stroke:#bfbf00;\" x=\"56.671713\" xlink:href=\"#mc9eb5dfaf9\" y=\"227.177192\"/>\r\n    </g>\r\n   </g>\r\n   <g id=\"matplotlib.axis_1\">\r\n    <g id=\"xtick_1\">\r\n     <g id=\"line2d_1\">\r\n      <defs>\r\n       <path d=\"M 0 0 \r\nL 0 3.5 \r\n\" id=\"m2b2c73ed39\" style=\"stroke:#000000;stroke-width:0.8;\"/>\r\n      </defs>\r\n      <g>\r\n       <use style=\"stroke:#000000;stroke-width:0.8;\" x=\"56.671713\" xlink:href=\"#m2b2c73ed39\" y=\"239.758125\"/>\r\n      </g>\r\n     </g>\r\n     <g id=\"text_1\">\r\n      <!-- 0 -->\r\n      <defs>\r\n       <path d=\"M 31.78125 66.40625 \r\nQ 24.171875 66.40625 20.328125 58.90625 \r\nQ 16.5 51.421875 16.5 36.375 \r\nQ 16.5 21.390625 20.328125 13.890625 \r\nQ 24.171875 6.390625 31.78125 6.390625 \r\nQ 39.453125 6.390625 43.28125 13.890625 \r\nQ 47.125 21.390625 47.125 36.375 \r\nQ 47.125 51.421875 43.28125 58.90625 \r\nQ 39.453125 66.40625 31.78125 66.40625 \r\nz\r\nM 31.78125 74.21875 \r\nQ 44.046875 74.21875 50.515625 64.515625 \r\nQ 56.984375 54.828125 56.984375 36.375 \r\nQ 56.984375 17.96875 50.515625 8.265625 \r\nQ 44.046875 -1.421875 31.78125 -1.421875 \r\nQ 19.53125 -1.421875 13.0625 8.265625 \r\nQ 6.59375 17.96875 6.59375 36.375 \r\nQ 6.59375 54.828125 13.0625 64.515625 \r\nQ 19.53125 74.21875 31.78125 74.21875 \r\nz\r\n\" id=\"DejaVuSans-48\"/>\r\n      </defs>\r\n      <g transform=\"translate(53.490463 254.356563)scale(0.1 -0.1)\">\r\n       <use xlink:href=\"#DejaVuSans-48\"/>\r\n      </g>\r\n     </g>\r\n    </g>\r\n    <g id=\"xtick_2\">\r\n     <g id=\"line2d_2\">\r\n      <g>\r\n       <use style=\"stroke:#000000;stroke-width:0.8;\" x=\"122.994201\" xlink:href=\"#m2b2c73ed39\" y=\"239.758125\"/>\r\n      </g>\r\n     </g>\r\n     <g id=\"text_2\">\r\n      <!-- 2 -->\r\n      <defs>\r\n       <path d=\"M 19.1875 8.296875 \r\nL 53.609375 8.296875 \r\nL 53.609375 0 \r\nL 7.328125 0 \r\nL 7.328125 8.296875 \r\nQ 12.9375 14.109375 22.625 23.890625 \r\nQ 32.328125 33.6875 34.8125 36.53125 \r\nQ 39.546875 41.84375 41.421875 45.53125 \r\nQ 43.3125 49.21875 43.3125 52.78125 \r\nQ 43.3125 58.59375 39.234375 62.25 \r\nQ 35.15625 65.921875 28.609375 65.921875 \r\nQ 23.96875 65.921875 18.8125 64.3125 \r\nQ 13.671875 62.703125 7.8125 59.421875 \r\nL 7.8125 69.390625 \r\nQ 13.765625 71.78125 18.9375 73 \r\nQ 24.125 74.21875 28.421875 74.21875 \r\nQ 39.75 74.21875 46.484375 68.546875 \r\nQ 53.21875 62.890625 53.21875 53.421875 \r\nQ 53.21875 48.921875 51.53125 44.890625 \r\nQ 49.859375 40.875 45.40625 35.40625 \r\nQ 44.1875 33.984375 37.640625 27.21875 \r\nQ 31.109375 20.453125 19.1875 8.296875 \r\nz\r\n\" id=\"DejaVuSans-50\"/>\r\n      </defs>\r\n      <g transform=\"translate(119.812951 254.356563)scale(0.1 -0.1)\">\r\n       <use xlink:href=\"#DejaVuSans-50\"/>\r\n      </g>\r\n     </g>\r\n    </g>\r\n    <g id=\"xtick_3\">\r\n     <g id=\"line2d_3\">\r\n      <g>\r\n       <use style=\"stroke:#000000;stroke-width:0.8;\" x=\"189.316688\" xlink:href=\"#m2b2c73ed39\" y=\"239.758125\"/>\r\n      </g>\r\n     </g>\r\n     <g id=\"text_3\">\r\n      <!-- 4 -->\r\n      <defs>\r\n       <path d=\"M 37.796875 64.3125 \r\nL 12.890625 25.390625 \r\nL 37.796875 25.390625 \r\nz\r\nM 35.203125 72.90625 \r\nL 47.609375 72.90625 \r\nL 47.609375 25.390625 \r\nL 58.015625 25.390625 \r\nL 58.015625 17.1875 \r\nL 47.609375 17.1875 \r\nL 47.609375 0 \r\nL 37.796875 0 \r\nL 37.796875 17.1875 \r\nL 4.890625 17.1875 \r\nL 4.890625 26.703125 \r\nz\r\n\" id=\"DejaVuSans-52\"/>\r\n      </defs>\r\n      <g transform=\"translate(186.135438 254.356563)scale(0.1 -0.1)\">\r\n       <use xlink:href=\"#DejaVuSans-52\"/>\r\n      </g>\r\n     </g>\r\n    </g>\r\n    <g id=\"xtick_4\">\r\n     <g id=\"line2d_4\">\r\n      <g>\r\n       <use style=\"stroke:#000000;stroke-width:0.8;\" x=\"255.639176\" xlink:href=\"#m2b2c73ed39\" y=\"239.758125\"/>\r\n      </g>\r\n     </g>\r\n     <g id=\"text_4\">\r\n      <!-- 6 -->\r\n      <defs>\r\n       <path d=\"M 33.015625 40.375 \r\nQ 26.375 40.375 22.484375 35.828125 \r\nQ 18.609375 31.296875 18.609375 23.390625 \r\nQ 18.609375 15.53125 22.484375 10.953125 \r\nQ 26.375 6.390625 33.015625 6.390625 \r\nQ 39.65625 6.390625 43.53125 10.953125 \r\nQ 47.40625 15.53125 47.40625 23.390625 \r\nQ 47.40625 31.296875 43.53125 35.828125 \r\nQ 39.65625 40.375 33.015625 40.375 \r\nz\r\nM 52.59375 71.296875 \r\nL 52.59375 62.3125 \r\nQ 48.875 64.0625 45.09375 64.984375 \r\nQ 41.3125 65.921875 37.59375 65.921875 \r\nQ 27.828125 65.921875 22.671875 59.328125 \r\nQ 17.53125 52.734375 16.796875 39.40625 \r\nQ 19.671875 43.65625 24.015625 45.921875 \r\nQ 28.375 48.1875 33.59375 48.1875 \r\nQ 44.578125 48.1875 50.953125 41.515625 \r\nQ 57.328125 34.859375 57.328125 23.390625 \r\nQ 57.328125 12.15625 50.6875 5.359375 \r\nQ 44.046875 -1.421875 33.015625 -1.421875 \r\nQ 20.359375 -1.421875 13.671875 8.265625 \r\nQ 6.984375 17.96875 6.984375 36.375 \r\nQ 6.984375 53.65625 15.1875 63.9375 \r\nQ 23.390625 74.21875 37.203125 74.21875 \r\nQ 40.921875 74.21875 44.703125 73.484375 \r\nQ 48.484375 72.75 52.59375 71.296875 \r\nz\r\n\" id=\"DejaVuSans-54\"/>\r\n      </defs>\r\n      <g transform=\"translate(252.457926 254.356563)scale(0.1 -0.1)\">\r\n       <use xlink:href=\"#DejaVuSans-54\"/>\r\n      </g>\r\n     </g>\r\n    </g>\r\n    <g id=\"xtick_5\">\r\n     <g id=\"line2d_5\">\r\n      <g>\r\n       <use style=\"stroke:#000000;stroke-width:0.8;\" x=\"321.961664\" xlink:href=\"#m2b2c73ed39\" y=\"239.758125\"/>\r\n      </g>\r\n     </g>\r\n     <g id=\"text_5\">\r\n      <!-- 8 -->\r\n      <defs>\r\n       <path d=\"M 31.78125 34.625 \r\nQ 24.75 34.625 20.71875 30.859375 \r\nQ 16.703125 27.09375 16.703125 20.515625 \r\nQ 16.703125 13.921875 20.71875 10.15625 \r\nQ 24.75 6.390625 31.78125 6.390625 \r\nQ 38.8125 6.390625 42.859375 10.171875 \r\nQ 46.921875 13.96875 46.921875 20.515625 \r\nQ 46.921875 27.09375 42.890625 30.859375 \r\nQ 38.875 34.625 31.78125 34.625 \r\nz\r\nM 21.921875 38.8125 \r\nQ 15.578125 40.375 12.03125 44.71875 \r\nQ 8.5 49.078125 8.5 55.328125 \r\nQ 8.5 64.0625 14.71875 69.140625 \r\nQ 20.953125 74.21875 31.78125 74.21875 \r\nQ 42.671875 74.21875 48.875 69.140625 \r\nQ 55.078125 64.0625 55.078125 55.328125 \r\nQ 55.078125 49.078125 51.53125 44.71875 \r\nQ 48 40.375 41.703125 38.8125 \r\nQ 48.828125 37.15625 52.796875 32.3125 \r\nQ 56.78125 27.484375 56.78125 20.515625 \r\nQ 56.78125 9.90625 50.3125 4.234375 \r\nQ 43.84375 -1.421875 31.78125 -1.421875 \r\nQ 19.734375 -1.421875 13.25 4.234375 \r\nQ 6.78125 9.90625 6.78125 20.515625 \r\nQ 6.78125 27.484375 10.78125 32.3125 \r\nQ 14.796875 37.15625 21.921875 38.8125 \r\nz\r\nM 18.3125 54.390625 \r\nQ 18.3125 48.734375 21.84375 45.5625 \r\nQ 25.390625 42.390625 31.78125 42.390625 \r\nQ 38.140625 42.390625 41.71875 45.5625 \r\nQ 45.3125 48.734375 45.3125 54.390625 \r\nQ 45.3125 60.0625 41.71875 63.234375 \r\nQ 38.140625 66.40625 31.78125 66.40625 \r\nQ 25.390625 66.40625 21.84375 63.234375 \r\nQ 18.3125 60.0625 18.3125 54.390625 \r\nz\r\n\" id=\"DejaVuSans-56\"/>\r\n      </defs>\r\n      <g transform=\"translate(318.780414 254.356563)scale(0.1 -0.1)\">\r\n       <use xlink:href=\"#DejaVuSans-56\"/>\r\n      </g>\r\n     </g>\r\n    </g>\r\n   </g>\r\n   <g id=\"matplotlib.axis_2\">\r\n    <g id=\"ytick_1\">\r\n     <g id=\"line2d_6\">\r\n      <defs>\r\n       <path d=\"M 0 0 \r\nL -3.5 0 \r\n\" id=\"m1599c44f04\" style=\"stroke:#000000;stroke-width:0.8;\"/>\r\n      </defs>\r\n      <g>\r\n       <use style=\"stroke:#000000;stroke-width:0.8;\" x=\"38.482813\" xlink:href=\"#m1599c44f04\" y=\"213.036253\"/>\r\n      </g>\r\n     </g>\r\n     <g id=\"text_6\">\r\n      <!-- −1.2 -->\r\n      <defs>\r\n       <path d=\"M 10.59375 35.5 \r\nL 73.1875 35.5 \r\nL 73.1875 27.203125 \r\nL 10.59375 27.203125 \r\nz\r\n\" id=\"DejaVuSans-8722\"/>\r\n       <path d=\"M 12.40625 8.296875 \r\nL 28.515625 8.296875 \r\nL 28.515625 63.921875 \r\nL 10.984375 60.40625 \r\nL 10.984375 69.390625 \r\nL 28.421875 72.90625 \r\nL 38.28125 72.90625 \r\nL 38.28125 8.296875 \r\nL 54.390625 8.296875 \r\nL 54.390625 0 \r\nL 12.40625 0 \r\nz\r\n\" id=\"DejaVuSans-49\"/>\r\n       <path d=\"M 10.6875 12.40625 \r\nL 21 12.40625 \r\nL 21 0 \r\nL 10.6875 0 \r\nz\r\n\" id=\"DejaVuSans-46\"/>\r\n      </defs>\r\n      <g transform=\"translate(7.2 216.835472)scale(0.1 -0.1)\">\r\n       <use xlink:href=\"#DejaVuSans-8722\"/>\r\n       <use x=\"83.789062\" xlink:href=\"#DejaVuSans-49\"/>\r\n       <use x=\"147.412109\" xlink:href=\"#DejaVuSans-46\"/>\r\n       <use x=\"179.199219\" xlink:href=\"#DejaVuSans-50\"/>\r\n      </g>\r\n     </g>\r\n    </g>\r\n    <g id=\"ytick_2\">\r\n     <g id=\"line2d_7\">\r\n      <g>\r\n       <use style=\"stroke:#000000;stroke-width:0.8;\" x=\"38.482813\" xlink:href=\"#m1599c44f04\" y=\"183.224425\"/>\r\n      </g>\r\n     </g>\r\n     <g id=\"text_7\">\r\n      <!-- −1.0 -->\r\n      <g transform=\"translate(7.2 187.023644)scale(0.1 -0.1)\">\r\n       <use xlink:href=\"#DejaVuSans-8722\"/>\r\n       <use x=\"83.789062\" xlink:href=\"#DejaVuSans-49\"/>\r\n       <use x=\"147.412109\" xlink:href=\"#DejaVuSans-46\"/>\r\n       <use x=\"179.199219\" xlink:href=\"#DejaVuSans-48\"/>\r\n      </g>\r\n     </g>\r\n    </g>\r\n    <g id=\"ytick_3\">\r\n     <g id=\"line2d_8\">\r\n      <g>\r\n       <use style=\"stroke:#000000;stroke-width:0.8;\" x=\"38.482813\" xlink:href=\"#m1599c44f04\" y=\"153.412597\"/>\r\n      </g>\r\n     </g>\r\n     <g id=\"text_8\">\r\n      <!-- −0.8 -->\r\n      <g transform=\"translate(7.2 157.211816)scale(0.1 -0.1)\">\r\n       <use xlink:href=\"#DejaVuSans-8722\"/>\r\n       <use x=\"83.789062\" xlink:href=\"#DejaVuSans-48\"/>\r\n       <use x=\"147.412109\" xlink:href=\"#DejaVuSans-46\"/>\r\n       <use x=\"179.199219\" xlink:href=\"#DejaVuSans-56\"/>\r\n      </g>\r\n     </g>\r\n    </g>\r\n    <g id=\"ytick_4\">\r\n     <g id=\"line2d_9\">\r\n      <g>\r\n       <use style=\"stroke:#000000;stroke-width:0.8;\" x=\"38.482813\" xlink:href=\"#m1599c44f04\" y=\"123.600769\"/>\r\n      </g>\r\n     </g>\r\n     <g id=\"text_9\">\r\n      <!-- −0.6 -->\r\n      <g transform=\"translate(7.2 127.399988)scale(0.1 -0.1)\">\r\n       <use xlink:href=\"#DejaVuSans-8722\"/>\r\n       <use x=\"83.789062\" xlink:href=\"#DejaVuSans-48\"/>\r\n       <use x=\"147.412109\" xlink:href=\"#DejaVuSans-46\"/>\r\n       <use x=\"179.199219\" xlink:href=\"#DejaVuSans-54\"/>\r\n      </g>\r\n     </g>\r\n    </g>\r\n    <g id=\"ytick_5\">\r\n     <g id=\"line2d_10\">\r\n      <g>\r\n       <use style=\"stroke:#000000;stroke-width:0.8;\" x=\"38.482813\" xlink:href=\"#m1599c44f04\" y=\"93.788941\"/>\r\n      </g>\r\n     </g>\r\n     <g id=\"text_10\">\r\n      <!-- −0.4 -->\r\n      <g transform=\"translate(7.2 97.58816)scale(0.1 -0.1)\">\r\n       <use xlink:href=\"#DejaVuSans-8722\"/>\r\n       <use x=\"83.789062\" xlink:href=\"#DejaVuSans-48\"/>\r\n       <use x=\"147.412109\" xlink:href=\"#DejaVuSans-46\"/>\r\n       <use x=\"179.199219\" xlink:href=\"#DejaVuSans-52\"/>\r\n      </g>\r\n     </g>\r\n    </g>\r\n    <g id=\"ytick_6\">\r\n     <g id=\"line2d_11\">\r\n      <g>\r\n       <use style=\"stroke:#000000;stroke-width:0.8;\" x=\"38.482813\" xlink:href=\"#m1599c44f04\" y=\"63.977113\"/>\r\n      </g>\r\n     </g>\r\n     <g id=\"text_11\">\r\n      <!-- −0.2 -->\r\n      <g transform=\"translate(7.2 67.776332)scale(0.1 -0.1)\">\r\n       <use xlink:href=\"#DejaVuSans-8722\"/>\r\n       <use x=\"83.789062\" xlink:href=\"#DejaVuSans-48\"/>\r\n       <use x=\"147.412109\" xlink:href=\"#DejaVuSans-46\"/>\r\n       <use x=\"179.199219\" xlink:href=\"#DejaVuSans-50\"/>\r\n      </g>\r\n     </g>\r\n    </g>\r\n    <g id=\"ytick_7\">\r\n     <g id=\"line2d_12\">\r\n      <g>\r\n       <use style=\"stroke:#000000;stroke-width:0.8;\" x=\"38.482813\" xlink:href=\"#m1599c44f04\" y=\"34.165285\"/>\r\n      </g>\r\n     </g>\r\n     <g id=\"text_12\">\r\n      <!-- 0.0 -->\r\n      <g transform=\"translate(15.579688 37.964504)scale(0.1 -0.1)\">\r\n       <use xlink:href=\"#DejaVuSans-48\"/>\r\n       <use x=\"63.623047\" xlink:href=\"#DejaVuSans-46\"/>\r\n       <use x=\"95.410156\" xlink:href=\"#DejaVuSans-48\"/>\r\n      </g>\r\n     </g>\r\n    </g>\r\n   </g>\r\n   <g id=\"line2d_13\">\r\n    <path clip-path=\"url(#p96d8ee4e92)\" d=\"M 56.671713 201.662973 \r\nL 89.832957 174.364045 \r\nL 122.994201 94.717762 \r\nL 156.155445 135.220093 \r\nL 189.316688 163.012064 \r\nL 222.477932 134.219623 \r\nL 255.639176 80.550681 \r\nL 288.80042 88.205276 \r\nL 321.961664 90.183107 \r\nL 355.122907 100.809571 \r\n\" style=\"fill:none;stroke:#ff0000;stroke-linecap:square;stroke-width:1.5;\"/>\r\n   </g>\r\n   <g id=\"line2d_14\">\r\n    <path clip-path=\"url(#p96d8ee4e92)\" d=\"M 56.671713 209.929059 \r\nL 89.832957 160.49667 \r\nL 122.994201 123.262824 \r\nL 156.155445 145.887472 \r\nL 189.316688 163.734789 \r\nL 222.477932 141.081638 \r\nL 255.639176 120.24343 \r\nL 288.80042 128.787246 \r\nL 321.961664 120.336443 \r\nL 355.122907 83.170617 \r\n\" style=\"fill:none;stroke:#0000ff;stroke-linecap:square;stroke-width:1.5;\"/>\r\n   </g>\r\n   <g id=\"patch_3\">\r\n    <path d=\"M 38.482813 239.758125 \r\nL 38.482813 22.318125 \r\n\" style=\"fill:none;stroke:#000000;stroke-linecap:square;stroke-linejoin:miter;stroke-width:0.8;\"/>\r\n   </g>\r\n   <g id=\"patch_4\">\r\n    <path d=\"M 373.282813 239.758125 \r\nL 373.282813 22.318125 \r\n\" style=\"fill:none;stroke:#000000;stroke-linecap:square;stroke-linejoin:miter;stroke-width:0.8;\"/>\r\n   </g>\r\n   <g id=\"patch_5\">\r\n    <path d=\"M 38.482813 239.758125 \r\nL 373.282812 239.758125 \r\n\" style=\"fill:none;stroke:#000000;stroke-linecap:square;stroke-linejoin:miter;stroke-width:0.8;\"/>\r\n   </g>\r\n   <g id=\"patch_6\">\r\n    <path d=\"M 38.482813 22.318125 \r\nL 373.282812 22.318125 \r\n\" style=\"fill:none;stroke:#000000;stroke-linecap:square;stroke-linejoin:miter;stroke-width:0.8;\"/>\r\n   </g>\r\n   <g id=\"text_13\">\r\n    <!-- trajectories -->\r\n    <defs>\r\n     <path d=\"M 18.3125 70.21875 \r\nL 18.3125 54.6875 \r\nL 36.8125 54.6875 \r\nL 36.8125 47.703125 \r\nL 18.3125 47.703125 \r\nL 18.3125 18.015625 \r\nQ 18.3125 11.328125 20.140625 9.421875 \r\nQ 21.96875 7.515625 27.59375 7.515625 \r\nL 36.8125 7.515625 \r\nL 36.8125 0 \r\nL 27.59375 0 \r\nQ 17.1875 0 13.234375 3.875 \r\nQ 9.28125 7.765625 9.28125 18.015625 \r\nL 9.28125 47.703125 \r\nL 2.6875 47.703125 \r\nL 2.6875 54.6875 \r\nL 9.28125 54.6875 \r\nL 9.28125 70.21875 \r\nz\r\n\" id=\"DejaVuSans-116\"/>\r\n     <path d=\"M 41.109375 46.296875 \r\nQ 39.59375 47.171875 37.8125 47.578125 \r\nQ 36.03125 48 33.890625 48 \r\nQ 26.265625 48 22.1875 43.046875 \r\nQ 18.109375 38.09375 18.109375 28.8125 \r\nL 18.109375 0 \r\nL 9.078125 0 \r\nL 9.078125 54.6875 \r\nL 18.109375 54.6875 \r\nL 18.109375 46.1875 \r\nQ 20.953125 51.171875 25.484375 53.578125 \r\nQ 30.03125 56 36.53125 56 \r\nQ 37.453125 56 38.578125 55.875 \r\nQ 39.703125 55.765625 41.0625 55.515625 \r\nz\r\n\" id=\"DejaVuSans-114\"/>\r\n     <path d=\"M 34.28125 27.484375 \r\nQ 23.390625 27.484375 19.1875 25 \r\nQ 14.984375 22.515625 14.984375 16.5 \r\nQ 14.984375 11.71875 18.140625 8.90625 \r\nQ 21.296875 6.109375 26.703125 6.109375 \r\nQ 34.1875 6.109375 38.703125 11.40625 \r\nQ 43.21875 16.703125 43.21875 25.484375 \r\nL 43.21875 27.484375 \r\nz\r\nM 52.203125 31.203125 \r\nL 52.203125 0 \r\nL 43.21875 0 \r\nL 43.21875 8.296875 \r\nQ 40.140625 3.328125 35.546875 0.953125 \r\nQ 30.953125 -1.421875 24.3125 -1.421875 \r\nQ 15.921875 -1.421875 10.953125 3.296875 \r\nQ 6 8.015625 6 15.921875 \r\nQ 6 25.140625 12.171875 29.828125 \r\nQ 18.359375 34.515625 30.609375 34.515625 \r\nL 43.21875 34.515625 \r\nL 43.21875 35.40625 \r\nQ 43.21875 41.609375 39.140625 45 \r\nQ 35.0625 48.390625 27.6875 48.390625 \r\nQ 23 48.390625 18.546875 47.265625 \r\nQ 14.109375 46.140625 10.015625 43.890625 \r\nL 10.015625 52.203125 \r\nQ 14.9375 54.109375 19.578125 55.046875 \r\nQ 24.21875 56 28.609375 56 \r\nQ 40.484375 56 46.34375 49.84375 \r\nQ 52.203125 43.703125 52.203125 31.203125 \r\nz\r\n\" id=\"DejaVuSans-97\"/>\r\n     <path d=\"M 9.421875 54.6875 \r\nL 18.40625 54.6875 \r\nL 18.40625 -0.984375 \r\nQ 18.40625 -11.421875 14.421875 -16.109375 \r\nQ 10.453125 -20.796875 1.609375 -20.796875 \r\nL -1.8125 -20.796875 \r\nL -1.8125 -13.1875 \r\nL 0.59375 -13.1875 \r\nQ 5.71875 -13.1875 7.5625 -10.8125 \r\nQ 9.421875 -8.453125 9.421875 -0.984375 \r\nz\r\nM 9.421875 75.984375 \r\nL 18.40625 75.984375 \r\nL 18.40625 64.59375 \r\nL 9.421875 64.59375 \r\nz\r\n\" id=\"DejaVuSans-106\"/>\r\n     <path d=\"M 56.203125 29.59375 \r\nL 56.203125 25.203125 \r\nL 14.890625 25.203125 \r\nQ 15.484375 15.921875 20.484375 11.0625 \r\nQ 25.484375 6.203125 34.421875 6.203125 \r\nQ 39.59375 6.203125 44.453125 7.46875 \r\nQ 49.3125 8.734375 54.109375 11.28125 \r\nL 54.109375 2.78125 \r\nQ 49.265625 0.734375 44.1875 -0.34375 \r\nQ 39.109375 -1.421875 33.890625 -1.421875 \r\nQ 20.796875 -1.421875 13.15625 6.1875 \r\nQ 5.515625 13.8125 5.515625 26.8125 \r\nQ 5.515625 40.234375 12.765625 48.109375 \r\nQ 20.015625 56 32.328125 56 \r\nQ 43.359375 56 49.78125 48.890625 \r\nQ 56.203125 41.796875 56.203125 29.59375 \r\nz\r\nM 47.21875 32.234375 \r\nQ 47.125 39.59375 43.09375 43.984375 \r\nQ 39.0625 48.390625 32.421875 48.390625 \r\nQ 24.90625 48.390625 20.390625 44.140625 \r\nQ 15.875 39.890625 15.1875 32.171875 \r\nz\r\n\" id=\"DejaVuSans-101\"/>\r\n     <path d=\"M 48.78125 52.59375 \r\nL 48.78125 44.1875 \r\nQ 44.96875 46.296875 41.140625 47.34375 \r\nQ 37.3125 48.390625 33.40625 48.390625 \r\nQ 24.65625 48.390625 19.8125 42.84375 \r\nQ 14.984375 37.3125 14.984375 27.296875 \r\nQ 14.984375 17.28125 19.8125 11.734375 \r\nQ 24.65625 6.203125 33.40625 6.203125 \r\nQ 37.3125 6.203125 41.140625 7.25 \r\nQ 44.96875 8.296875 48.78125 10.40625 \r\nL 48.78125 2.09375 \r\nQ 45.015625 0.34375 40.984375 -0.53125 \r\nQ 36.96875 -1.421875 32.421875 -1.421875 \r\nQ 20.0625 -1.421875 12.78125 6.34375 \r\nQ 5.515625 14.109375 5.515625 27.296875 \r\nQ 5.515625 40.671875 12.859375 48.328125 \r\nQ 20.21875 56 33.015625 56 \r\nQ 37.15625 56 41.109375 55.140625 \r\nQ 45.0625 54.296875 48.78125 52.59375 \r\nz\r\n\" id=\"DejaVuSans-99\"/>\r\n     <path d=\"M 30.609375 48.390625 \r\nQ 23.390625 48.390625 19.1875 42.75 \r\nQ 14.984375 37.109375 14.984375 27.296875 \r\nQ 14.984375 17.484375 19.15625 11.84375 \r\nQ 23.34375 6.203125 30.609375 6.203125 \r\nQ 37.796875 6.203125 41.984375 11.859375 \r\nQ 46.1875 17.53125 46.1875 27.296875 \r\nQ 46.1875 37.015625 41.984375 42.703125 \r\nQ 37.796875 48.390625 30.609375 48.390625 \r\nz\r\nM 30.609375 56 \r\nQ 42.328125 56 49.015625 48.375 \r\nQ 55.71875 40.765625 55.71875 27.296875 \r\nQ 55.71875 13.875 49.015625 6.21875 \r\nQ 42.328125 -1.421875 30.609375 -1.421875 \r\nQ 18.84375 -1.421875 12.171875 6.21875 \r\nQ 5.515625 13.875 5.515625 27.296875 \r\nQ 5.515625 40.765625 12.171875 48.375 \r\nQ 18.84375 56 30.609375 56 \r\nz\r\n\" id=\"DejaVuSans-111\"/>\r\n     <path d=\"M 9.421875 54.6875 \r\nL 18.40625 54.6875 \r\nL 18.40625 0 \r\nL 9.421875 0 \r\nz\r\nM 9.421875 75.984375 \r\nL 18.40625 75.984375 \r\nL 18.40625 64.59375 \r\nL 9.421875 64.59375 \r\nz\r\n\" id=\"DejaVuSans-105\"/>\r\n     <path d=\"M 44.28125 53.078125 \r\nL 44.28125 44.578125 \r\nQ 40.484375 46.53125 36.375 47.5 \r\nQ 32.28125 48.484375 27.875 48.484375 \r\nQ 21.1875 48.484375 17.84375 46.4375 \r\nQ 14.5 44.390625 14.5 40.28125 \r\nQ 14.5 37.15625 16.890625 35.375 \r\nQ 19.28125 33.59375 26.515625 31.984375 \r\nL 29.59375 31.296875 \r\nQ 39.15625 29.25 43.1875 25.515625 \r\nQ 47.21875 21.78125 47.21875 15.09375 \r\nQ 47.21875 7.46875 41.1875 3.015625 \r\nQ 35.15625 -1.421875 24.609375 -1.421875 \r\nQ 20.21875 -1.421875 15.453125 -0.5625 \r\nQ 10.6875 0.296875 5.421875 2 \r\nL 5.421875 11.28125 \r\nQ 10.40625 8.6875 15.234375 7.390625 \r\nQ 20.0625 6.109375 24.8125 6.109375 \r\nQ 31.15625 6.109375 34.5625 8.28125 \r\nQ 37.984375 10.453125 37.984375 14.40625 \r\nQ 37.984375 18.0625 35.515625 20.015625 \r\nQ 33.0625 21.96875 24.703125 23.78125 \r\nL 21.578125 24.515625 \r\nQ 13.234375 26.265625 9.515625 29.90625 \r\nQ 5.8125 33.546875 5.8125 39.890625 \r\nQ 5.8125 47.609375 11.28125 51.796875 \r\nQ 16.75 56 26.8125 56 \r\nQ 31.78125 56 36.171875 55.265625 \r\nQ 40.578125 54.546875 44.28125 53.078125 \r\nz\r\n\" id=\"DejaVuSans-115\"/>\r\n    </defs>\r\n    <g transform=\"translate(171.755 16.318125)scale(0.12 -0.12)\">\r\n     <use xlink:href=\"#DejaVuSans-116\"/>\r\n     <use x=\"39.208984\" xlink:href=\"#DejaVuSans-114\"/>\r\n     <use x=\"80.322266\" xlink:href=\"#DejaVuSans-97\"/>\r\n     <use x=\"141.601562\" xlink:href=\"#DejaVuSans-106\"/>\r\n     <use x=\"169.384766\" xlink:href=\"#DejaVuSans-101\"/>\r\n     <use x=\"230.908203\" xlink:href=\"#DejaVuSans-99\"/>\r\n     <use x=\"285.888672\" xlink:href=\"#DejaVuSans-116\"/>\r\n     <use x=\"325.097656\" xlink:href=\"#DejaVuSans-111\"/>\r\n     <use x=\"386.279297\" xlink:href=\"#DejaVuSans-114\"/>\r\n     <use x=\"427.392578\" xlink:href=\"#DejaVuSans-105\"/>\r\n     <use x=\"455.175781\" xlink:href=\"#DejaVuSans-101\"/>\r\n     <use x=\"516.699219\" xlink:href=\"#DejaVuSans-115\"/>\r\n    </g>\r\n   </g>\r\n   <g id=\"legend_1\">\r\n    <g id=\"patch_7\">\r\n     <path d=\"M 45.482813 89.030625 \r\nL 127.551562 89.030625 \r\nQ 129.551562 89.030625 129.551562 87.030625 \r\nL 129.551562 29.318125 \r\nQ 129.551562 27.318125 127.551562 27.318125 \r\nL 45.482813 27.318125 \r\nQ 43.482813 27.318125 43.482813 29.318125 \r\nL 43.482813 87.030625 \r\nQ 43.482813 89.030625 45.482813 89.030625 \r\nz\r\n\" style=\"fill:#ffffff;opacity:0.8;stroke:#cccccc;stroke-linejoin:miter;\"/>\r\n    </g>\r\n    <g id=\"line2d_15\">\r\n     <path d=\"M 47.482813 35.416562 \r\nL 67.482812 35.416562 \r\n\" style=\"fill:none;stroke:#ff0000;stroke-linecap:square;stroke-width:1.5;\"/>\r\n    </g>\r\n    <g id=\"line2d_16\"/>\r\n    <g id=\"text_14\">\r\n     <!-- Prediction -->\r\n     <defs>\r\n      <path d=\"M 19.671875 64.796875 \r\nL 19.671875 37.40625 \r\nL 32.078125 37.40625 \r\nQ 38.96875 37.40625 42.71875 40.96875 \r\nQ 46.484375 44.53125 46.484375 51.125 \r\nQ 46.484375 57.671875 42.71875 61.234375 \r\nQ 38.96875 64.796875 32.078125 64.796875 \r\nz\r\nM 9.8125 72.90625 \r\nL 32.078125 72.90625 \r\nQ 44.34375 72.90625 50.609375 67.359375 \r\nQ 56.890625 61.8125 56.890625 51.125 \r\nQ 56.890625 40.328125 50.609375 34.8125 \r\nQ 44.34375 29.296875 32.078125 29.296875 \r\nL 19.671875 29.296875 \r\nL 19.671875 0 \r\nL 9.8125 0 \r\nz\r\n\" id=\"DejaVuSans-80\"/>\r\n      <path d=\"M 45.40625 46.390625 \r\nL 45.40625 75.984375 \r\nL 54.390625 75.984375 \r\nL 54.390625 0 \r\nL 45.40625 0 \r\nL 45.40625 8.203125 \r\nQ 42.578125 3.328125 38.25 0.953125 \r\nQ 33.9375 -1.421875 27.875 -1.421875 \r\nQ 17.96875 -1.421875 11.734375 6.484375 \r\nQ 5.515625 14.40625 5.515625 27.296875 \r\nQ 5.515625 40.1875 11.734375 48.09375 \r\nQ 17.96875 56 27.875 56 \r\nQ 33.9375 56 38.25 53.625 \r\nQ 42.578125 51.265625 45.40625 46.390625 \r\nz\r\nM 14.796875 27.296875 \r\nQ 14.796875 17.390625 18.875 11.75 \r\nQ 22.953125 6.109375 30.078125 6.109375 \r\nQ 37.203125 6.109375 41.296875 11.75 \r\nQ 45.40625 17.390625 45.40625 27.296875 \r\nQ 45.40625 37.203125 41.296875 42.84375 \r\nQ 37.203125 48.484375 30.078125 48.484375 \r\nQ 22.953125 48.484375 18.875 42.84375 \r\nQ 14.796875 37.203125 14.796875 27.296875 \r\nz\r\n\" id=\"DejaVuSans-100\"/>\r\n      <path d=\"M 54.890625 33.015625 \r\nL 54.890625 0 \r\nL 45.90625 0 \r\nL 45.90625 32.71875 \r\nQ 45.90625 40.484375 42.875 44.328125 \r\nQ 39.84375 48.1875 33.796875 48.1875 \r\nQ 26.515625 48.1875 22.3125 43.546875 \r\nQ 18.109375 38.921875 18.109375 30.90625 \r\nL 18.109375 0 \r\nL 9.078125 0 \r\nL 9.078125 54.6875 \r\nL 18.109375 54.6875 \r\nL 18.109375 46.1875 \r\nQ 21.34375 51.125 25.703125 53.5625 \r\nQ 30.078125 56 35.796875 56 \r\nQ 45.21875 56 50.046875 50.171875 \r\nQ 54.890625 44.34375 54.890625 33.015625 \r\nz\r\n\" id=\"DejaVuSans-110\"/>\r\n     </defs>\r\n     <g transform=\"translate(75.482812 38.916562)scale(0.1 -0.1)\">\r\n      <use xlink:href=\"#DejaVuSans-80\"/>\r\n      <use x=\"60.287109\" xlink:href=\"#DejaVuSans-114\"/>\r\n      <use x=\"101.369141\" xlink:href=\"#DejaVuSans-101\"/>\r\n      <use x=\"162.892578\" xlink:href=\"#DejaVuSans-100\"/>\r\n      <use x=\"226.369141\" xlink:href=\"#DejaVuSans-105\"/>\r\n      <use x=\"254.152344\" xlink:href=\"#DejaVuSans-99\"/>\r\n      <use x=\"309.132812\" xlink:href=\"#DejaVuSans-116\"/>\r\n      <use x=\"348.341797\" xlink:href=\"#DejaVuSans-105\"/>\r\n      <use x=\"376.125\" xlink:href=\"#DejaVuSans-111\"/>\r\n      <use x=\"437.306641\" xlink:href=\"#DejaVuSans-110\"/>\r\n     </g>\r\n    </g>\r\n    <g id=\"line2d_17\">\r\n     <path d=\"M 47.482813 50.094687 \r\nL 67.482812 50.094687 \r\n\" style=\"fill:none;stroke:#0000ff;stroke-linecap:square;stroke-width:1.5;\"/>\r\n    </g>\r\n    <g id=\"line2d_18\"/>\r\n    <g id=\"text_15\">\r\n     <!-- Real -->\r\n     <defs>\r\n      <path d=\"M 44.390625 34.1875 \r\nQ 47.5625 33.109375 50.5625 29.59375 \r\nQ 53.5625 26.078125 56.59375 19.921875 \r\nL 66.609375 0 \r\nL 56 0 \r\nL 46.6875 18.703125 \r\nQ 43.0625 26.03125 39.671875 28.421875 \r\nQ 36.28125 30.8125 30.421875 30.8125 \r\nL 19.671875 30.8125 \r\nL 19.671875 0 \r\nL 9.8125 0 \r\nL 9.8125 72.90625 \r\nL 32.078125 72.90625 \r\nQ 44.578125 72.90625 50.734375 67.671875 \r\nQ 56.890625 62.453125 56.890625 51.90625 \r\nQ 56.890625 45.015625 53.6875 40.46875 \r\nQ 50.484375 35.9375 44.390625 34.1875 \r\nz\r\nM 19.671875 64.796875 \r\nL 19.671875 38.921875 \r\nL 32.078125 38.921875 \r\nQ 39.203125 38.921875 42.84375 42.21875 \r\nQ 46.484375 45.515625 46.484375 51.90625 \r\nQ 46.484375 58.296875 42.84375 61.546875 \r\nQ 39.203125 64.796875 32.078125 64.796875 \r\nz\r\n\" id=\"DejaVuSans-82\"/>\r\n      <path d=\"M 9.421875 75.984375 \r\nL 18.40625 75.984375 \r\nL 18.40625 0 \r\nL 9.421875 0 \r\nz\r\n\" id=\"DejaVuSans-108\"/>\r\n     </defs>\r\n     <g transform=\"translate(75.482812 53.594687)scale(0.1 -0.1)\">\r\n      <use xlink:href=\"#DejaVuSans-82\"/>\r\n      <use x=\"69.419922\" xlink:href=\"#DejaVuSans-101\"/>\r\n      <use x=\"130.943359\" xlink:href=\"#DejaVuSans-97\"/>\r\n      <use x=\"192.222656\" xlink:href=\"#DejaVuSans-108\"/>\r\n     </g>\r\n    </g>\r\n    <g id=\"PathCollection_3\">\r\n     <g>\r\n      <use style=\"fill:#008000;stroke:#008000;\" x=\"57.482813\" xlink:href=\"#mafe5d4a8e7\" y=\"65.647812\"/>\r\n     </g>\r\n    </g>\r\n    <g id=\"text_16\">\r\n     <!-- Target -->\r\n     <defs>\r\n      <path d=\"M -0.296875 72.90625 \r\nL 61.375 72.90625 \r\nL 61.375 64.59375 \r\nL 35.5 64.59375 \r\nL 35.5 0 \r\nL 25.59375 0 \r\nL 25.59375 64.59375 \r\nL -0.296875 64.59375 \r\nz\r\n\" id=\"DejaVuSans-84\"/>\r\n      <path d=\"M 45.40625 27.984375 \r\nQ 45.40625 37.75 41.375 43.109375 \r\nQ 37.359375 48.484375 30.078125 48.484375 \r\nQ 22.859375 48.484375 18.828125 43.109375 \r\nQ 14.796875 37.75 14.796875 27.984375 \r\nQ 14.796875 18.265625 18.828125 12.890625 \r\nQ 22.859375 7.515625 30.078125 7.515625 \r\nQ 37.359375 7.515625 41.375 12.890625 \r\nQ 45.40625 18.265625 45.40625 27.984375 \r\nz\r\nM 54.390625 6.78125 \r\nQ 54.390625 -7.171875 48.1875 -13.984375 \r\nQ 42 -20.796875 29.203125 -20.796875 \r\nQ 24.46875 -20.796875 20.265625 -20.09375 \r\nQ 16.0625 -19.390625 12.109375 -17.921875 \r\nL 12.109375 -9.1875 \r\nQ 16.0625 -11.328125 19.921875 -12.34375 \r\nQ 23.78125 -13.375 27.78125 -13.375 \r\nQ 36.625 -13.375 41.015625 -8.765625 \r\nQ 45.40625 -4.15625 45.40625 5.171875 \r\nL 45.40625 9.625 \r\nQ 42.625 4.78125 38.28125 2.390625 \r\nQ 33.9375 0 27.875 0 \r\nQ 17.828125 0 11.671875 7.65625 \r\nQ 5.515625 15.328125 5.515625 27.984375 \r\nQ 5.515625 40.671875 11.671875 48.328125 \r\nQ 17.828125 56 27.875 56 \r\nQ 33.9375 56 38.28125 53.609375 \r\nQ 42.625 51.21875 45.40625 46.390625 \r\nL 45.40625 54.6875 \r\nL 54.390625 54.6875 \r\nz\r\n\" id=\"DejaVuSans-103\"/>\r\n     </defs>\r\n     <g transform=\"translate(75.482812 68.272812)scale(0.1 -0.1)\">\r\n      <use xlink:href=\"#DejaVuSans-84\"/>\r\n      <use x=\"60.833984\" xlink:href=\"#DejaVuSans-97\"/>\r\n      <use x=\"122.113281\" xlink:href=\"#DejaVuSans-114\"/>\r\n      <use x=\"163.210938\" xlink:href=\"#DejaVuSans-103\"/>\r\n      <use x=\"226.6875\" xlink:href=\"#DejaVuSans-101\"/>\r\n      <use x=\"288.210938\" xlink:href=\"#DejaVuSans-116\"/>\r\n     </g>\r\n    </g>\r\n    <g id=\"PathCollection_4\">\r\n     <g>\r\n      <use style=\"fill:#bfbf00;stroke:#bfbf00;\" x=\"57.482813\" xlink:href=\"#mc9eb5dfaf9\" y=\"80.325938\"/>\r\n     </g>\r\n    </g>\r\n    <g id=\"text_17\">\r\n     <!-- start -->\r\n     <g transform=\"translate(75.482812 82.950938)scale(0.1 -0.1)\">\r\n      <use xlink:href=\"#DejaVuSans-115\"/>\r\n      <use x=\"52.099609\" xlink:href=\"#DejaVuSans-116\"/>\r\n      <use x=\"91.308594\" xlink:href=\"#DejaVuSans-97\"/>\r\n      <use x=\"152.587891\" xlink:href=\"#DejaVuSans-114\"/>\r\n      <use x=\"193.701172\" xlink:href=\"#DejaVuSans-116\"/>\r\n     </g>\r\n    </g>\r\n   </g>\r\n  </g>\r\n </g>\r\n <defs>\r\n  <clipPath id=\"p96d8ee4e92\">\r\n   <rect height=\"217.44\" width=\"334.8\" x=\"38.482813\" y=\"22.318125\"/>\r\n  </clipPath>\r\n </defs>\r\n</svg>\r\n",
      "image/png": "[encoded data removed]"
     },
     "metadata": {
      "needs_background": "light"
     }
    }
   ],
   "source": [
    "plt.figure()\n",
    "S_Trajectory_prediction = single_step_sequential_model.predict(x_train_single_sequential)[:,:,:]\n",
    "\n",
    "t_number = 5\n",
    "\n",
    "component= 1\n",
    "\n",
    "plt.plot(S_Trajectory_prediction[t_number][:,component], c='r', label='Prediction')\n",
    "plt.plot(y_train_single_sequential[t_number][:,component], c='b', label='Real')\n",
    "plt.scatter(N_STEPS-1, ZT_norm[component],  c='g', label='Target')\n",
    "plt.scatter(0, x_train_single_sequential[t_number][0,component], c='y', label='start')\n",
    "plt.title(\"trajectories\")\n",
    "plt.legend()\n",
    "\n",
    "plt.show()"
   ]
  },
  {
   "cell_type": "code",
   "execution_count": 21,
   "metadata": {},
   "outputs": [
    {
     "output_type": "display_data",
     "data": {
      "text/plain": "<Figure size 432x288 with 1 Axes>",
      "image/svg+xml": "<?xml version=\"1.0\" encoding=\"utf-8\" standalone=\"no\"?>\r\n<!DOCTYPE svg PUBLIC \"-//W3C//DTD SVG 1.1//EN\"\r\n  \"http://www.w3.org/Graphics/SVG/1.1/DTD/svg11.dtd\">\r\n<!-- Created with matplotlib (https://matplotlib.org/) -->\r\n<svg height=\"263.63625pt\" version=\"1.1\" viewBox=\"0 0 380.482812 263.63625\" width=\"380.482812pt\" xmlns=\"http://www.w3.org/2000/svg\" xmlns:xlink=\"http://www.w3.org/1999/xlink\">\r\n <defs>\r\n  <style type=\"text/css\">\r\n*{stroke-linecap:butt;stroke-linejoin:round;}\r\n  </style>\r\n </defs>\r\n <g id=\"figure_1\">\r\n  <g id=\"patch_1\">\r\n   <path d=\"M -0 263.63625 \r\nL 380.482812 263.63625 \r\nL 380.482812 0 \r\nL -0 0 \r\nz\r\n\" style=\"fill:none;\"/>\r\n  </g>\r\n  <g id=\"axes_1\">\r\n   <g id=\"patch_2\">\r\n    <path d=\"M 38.482813 239.758125 \r\nL 373.282813 239.758125 \r\nL 373.282813 22.318125 \r\nL 38.482813 22.318125 \r\nz\r\n\" style=\"fill:#ffffff;\"/>\r\n   </g>\r\n   <g id=\"PathCollection_1\">\r\n    <defs>\r\n     <path d=\"M 0 3 \r\nC 0.795609 3 1.55874 2.683901 2.12132 2.12132 \r\nC 2.683901 1.55874 3 0.795609 3 0 \r\nC 3 -0.795609 2.683901 -1.55874 2.12132 -2.12132 \r\nC 1.55874 -2.683901 0.795609 -3 0 -3 \r\nC -0.795609 -3 -1.55874 -2.683901 -2.12132 -2.12132 \r\nC -2.683901 -1.55874 -3 -0.795609 -3 0 \r\nC -3 0.795609 -2.683901 1.55874 -2.12132 2.12132 \r\nC -1.55874 2.683901 -0.795609 3 0 3 \r\nz\r\n\" id=\"mbd0dec801d\" style=\"stroke:#ff0000;\"/>\r\n    </defs>\r\n    <g clip-path=\"url(#p8fa7ab5a56)\">\r\n     <use style=\"fill:#ff0000;stroke:#ff0000;\" x=\"340.995699\" xlink:href=\"#mbd0dec801d\" y=\"199.024789\"/>\r\n     <use style=\"fill:#ff0000;stroke:#ff0000;\" x=\"250.55891\" xlink:href=\"#mbd0dec801d\" y=\"170.062163\"/>\r\n     <use style=\"fill:#ff0000;stroke:#ff0000;\" x=\"164.396857\" xlink:href=\"#mbd0dec801d\" y=\"124.750156\"/>\r\n     <use style=\"fill:#ff0000;stroke:#ff0000;\" x=\"102.805162\" xlink:href=\"#mbd0dec801d\" y=\"75.357343\"/>\r\n     <use style=\"fill:#ff0000;stroke:#ff0000;\" x=\"57.458603\" xlink:href=\"#mbd0dec801d\" y=\"59.054417\"/>\r\n     <use style=\"fill:#ff0000;stroke:#ff0000;\" x=\"116.317088\" xlink:href=\"#mbd0dec801d\" y=\"40.240032\"/>\r\n     <use style=\"fill:#ff0000;stroke:#ff0000;\" x=\"77.604507\" xlink:href=\"#mbd0dec801d\" y=\"33.070338\"/>\r\n     <use style=\"fill:#ff0000;stroke:#ff0000;\" x=\"58.713004\" xlink:href=\"#mbd0dec801d\" y=\"44.241105\"/>\r\n     <use style=\"fill:#ff0000;stroke:#ff0000;\" x=\"60.16814\" xlink:href=\"#mbd0dec801d\" y=\"40.617146\"/>\r\n     <use style=\"fill:#ff0000;stroke:#ff0000;\" x=\"55.408715\" xlink:href=\"#mbd0dec801d\" y=\"40.127495\"/>\r\n    </g>\r\n   </g>\r\n   <g id=\"PathCollection_2\">\r\n    <defs>\r\n     <path d=\"M 0 3 \r\nC 0.795609 3 1.55874 2.683901 2.12132 2.12132 \r\nC 2.683901 1.55874 3 0.795609 3 0 \r\nC 3 -0.795609 2.683901 -1.55874 2.12132 -2.12132 \r\nC 1.55874 -2.683901 0.795609 -3 0 -3 \r\nC -0.795609 -3 -1.55874 -2.683901 -2.12132 -2.12132 \r\nC -2.683901 -1.55874 -3 -0.795609 -3 0 \r\nC -3 0.795609 -2.683901 1.55874 -2.12132 2.12132 \r\nC -1.55874 2.683901 -0.795609 3 0 3 \r\nz\r\n\" id=\"m81aac4e3d3\" style=\"stroke:#0000ff;\"/>\r\n    </defs>\r\n    <g clip-path=\"url(#p8fa7ab5a56)\">\r\n     <use style=\"fill:#0000ff;stroke:#0000ff;\" x=\"318.380328\" xlink:href=\"#m81aac4e3d3\" y=\"215.595456\"/>\r\n     <use style=\"fill:#0000ff;stroke:#0000ff;\" x=\"263.920211\" xlink:href=\"#m81aac4e3d3\" y=\"179.891223\"/>\r\n     <use style=\"fill:#0000ff;stroke:#0000ff;\" x=\"192.947792\" xlink:href=\"#m81aac4e3d3\" y=\"118.617949\"/>\r\n     <use style=\"fill:#0000ff;stroke:#0000ff;\" x=\"94.719558\" xlink:href=\"#m81aac4e3d3\" y=\"53.141793\"/>\r\n     <use style=\"fill:#0000ff;stroke:#0000ff;\" x=\"60.183117\" xlink:href=\"#m81aac4e3d3\" y=\"45.121961\"/>\r\n     <use style=\"fill:#0000ff;stroke:#0000ff;\" x=\"60.066393\" xlink:href=\"#m81aac4e3d3\" y=\"39.429744\"/>\r\n     <use style=\"fill:#0000ff;stroke:#0000ff;\" x=\"60.066393\" xlink:href=\"#m81aac4e3d3\" y=\"39.429744\"/>\r\n     <use style=\"fill:#0000ff;stroke:#0000ff;\" x=\"60.066393\" xlink:href=\"#m81aac4e3d3\" y=\"39.429744\"/>\r\n     <use style=\"fill:#0000ff;stroke:#0000ff;\" x=\"60.066393\" xlink:href=\"#m81aac4e3d3\" y=\"39.429744\"/>\r\n     <use style=\"fill:#0000ff;stroke:#0000ff;\" x=\"60.066393\" xlink:href=\"#m81aac4e3d3\" y=\"39.429744\"/>\r\n    </g>\r\n   </g>\r\n   <g id=\"PathCollection_3\">\r\n    <defs>\r\n     <path d=\"M 0 3 \r\nC 0.795609 3 1.55874 2.683901 2.12132 2.12132 \r\nC 2.683901 1.55874 3 0.795609 3 0 \r\nC 3 -0.795609 2.683901 -1.55874 2.12132 -2.12132 \r\nC 1.55874 -2.683901 0.795609 -3 0 -3 \r\nC -0.795609 -3 -1.55874 -2.683901 -2.12132 -2.12132 \r\nC -2.683901 -1.55874 -3 -0.795609 -3 0 \r\nC -3 0.795609 -2.683901 1.55874 -2.12132 2.12132 \r\nC -1.55874 2.683901 -0.795609 3 0 3 \r\nz\r\n\" id=\"mb1fdf6d248\" style=\"stroke:#008000;\"/>\r\n    </defs>\r\n    <g clip-path=\"url(#p8fa7ab5a56)\">\r\n     <use style=\"fill:#008000;stroke:#008000;\" x=\"60.066393\" xlink:href=\"#mb1fdf6d248\" y=\"39.429744\"/>\r\n    </g>\r\n   </g>\r\n   <g id=\"PathCollection_4\">\r\n    <defs>\r\n     <path d=\"M 0 3 \r\nC 0.795609 3 1.55874 2.683901 2.12132 2.12132 \r\nC 2.683901 1.55874 3 0.795609 3 0 \r\nC 3 -0.795609 2.683901 -1.55874 2.12132 -2.12132 \r\nC 1.55874 -2.683901 0.795609 -3 0 -3 \r\nC -0.795609 -3 -1.55874 -2.683901 -2.12132 -2.12132 \r\nC -2.683901 -1.55874 -3 -0.795609 -3 0 \r\nC -3 0.795609 -2.683901 1.55874 -2.12132 2.12132 \r\nC -1.55874 2.683901 -0.795609 3 0 3 \r\nz\r\n\" id=\"m47fa6c82c4\" style=\"stroke:#bfbf00;\"/>\r\n    </defs>\r\n    <g clip-path=\"url(#p8fa7ab5a56)\">\r\n     <use style=\"fill:#bfbf00;stroke:#bfbf00;\" x=\"355.21604\" xlink:href=\"#m47fa6c82c4\" y=\"227.052572\"/>\r\n    </g>\r\n   </g>\r\n   <g id=\"matplotlib.axis_1\">\r\n    <g id=\"xtick_1\">\r\n     <g id=\"line2d_1\">\r\n      <defs>\r\n       <path d=\"M 0 0 \r\nL 0 3.5 \r\n\" id=\"mb9885380f8\" style=\"stroke:#000000;stroke-width:0.8;\"/>\r\n      </defs>\r\n      <g>\r\n       <use style=\"stroke:#000000;stroke-width:0.8;\" x=\"60.066393\" xlink:href=\"#mb9885380f8\" y=\"239.758125\"/>\r\n      </g>\r\n     </g>\r\n     <g id=\"text_1\">\r\n      <!-- 0.0 -->\r\n      <defs>\r\n       <path d=\"M 31.78125 66.40625 \r\nQ 24.171875 66.40625 20.328125 58.90625 \r\nQ 16.5 51.421875 16.5 36.375 \r\nQ 16.5 21.390625 20.328125 13.890625 \r\nQ 24.171875 6.390625 31.78125 6.390625 \r\nQ 39.453125 6.390625 43.28125 13.890625 \r\nQ 47.125 21.390625 47.125 36.375 \r\nQ 47.125 51.421875 43.28125 58.90625 \r\nQ 39.453125 66.40625 31.78125 66.40625 \r\nz\r\nM 31.78125 74.21875 \r\nQ 44.046875 74.21875 50.515625 64.515625 \r\nQ 56.984375 54.828125 56.984375 36.375 \r\nQ 56.984375 17.96875 50.515625 8.265625 \r\nQ 44.046875 -1.421875 31.78125 -1.421875 \r\nQ 19.53125 -1.421875 13.0625 8.265625 \r\nQ 6.59375 17.96875 6.59375 36.375 \r\nQ 6.59375 54.828125 13.0625 64.515625 \r\nQ 19.53125 74.21875 31.78125 74.21875 \r\nz\r\n\" id=\"DejaVuSans-48\"/>\r\n       <path d=\"M 10.6875 12.40625 \r\nL 21 12.40625 \r\nL 21 0 \r\nL 10.6875 0 \r\nz\r\n\" id=\"DejaVuSans-46\"/>\r\n      </defs>\r\n      <g transform=\"translate(52.11483 254.356563)scale(0.1 -0.1)\">\r\n       <use xlink:href=\"#DejaVuSans-48\"/>\r\n       <use x=\"63.623047\" xlink:href=\"#DejaVuSans-46\"/>\r\n       <use x=\"95.410156\" xlink:href=\"#DejaVuSans-48\"/>\r\n      </g>\r\n     </g>\r\n    </g>\r\n    <g id=\"xtick_2\">\r\n     <g id=\"line2d_2\">\r\n      <g>\r\n       <use style=\"stroke:#000000;stroke-width:0.8;\" x=\"98.182724\" xlink:href=\"#mb9885380f8\" y=\"239.758125\"/>\r\n      </g>\r\n     </g>\r\n     <g id=\"text_2\">\r\n      <!-- 0.2 -->\r\n      <defs>\r\n       <path d=\"M 19.1875 8.296875 \r\nL 53.609375 8.296875 \r\nL 53.609375 0 \r\nL 7.328125 0 \r\nL 7.328125 8.296875 \r\nQ 12.9375 14.109375 22.625 23.890625 \r\nQ 32.328125 33.6875 34.8125 36.53125 \r\nQ 39.546875 41.84375 41.421875 45.53125 \r\nQ 43.3125 49.21875 43.3125 52.78125 \r\nQ 43.3125 58.59375 39.234375 62.25 \r\nQ 35.15625 65.921875 28.609375 65.921875 \r\nQ 23.96875 65.921875 18.8125 64.3125 \r\nQ 13.671875 62.703125 7.8125 59.421875 \r\nL 7.8125 69.390625 \r\nQ 13.765625 71.78125 18.9375 73 \r\nQ 24.125 74.21875 28.421875 74.21875 \r\nQ 39.75 74.21875 46.484375 68.546875 \r\nQ 53.21875 62.890625 53.21875 53.421875 \r\nQ 53.21875 48.921875 51.53125 44.890625 \r\nQ 49.859375 40.875 45.40625 35.40625 \r\nQ 44.1875 33.984375 37.640625 27.21875 \r\nQ 31.109375 20.453125 19.1875 8.296875 \r\nz\r\n\" id=\"DejaVuSans-50\"/>\r\n      </defs>\r\n      <g transform=\"translate(90.231161 254.356563)scale(0.1 -0.1)\">\r\n       <use xlink:href=\"#DejaVuSans-48\"/>\r\n       <use x=\"63.623047\" xlink:href=\"#DejaVuSans-46\"/>\r\n       <use x=\"95.410156\" xlink:href=\"#DejaVuSans-50\"/>\r\n      </g>\r\n     </g>\r\n    </g>\r\n    <g id=\"xtick_3\">\r\n     <g id=\"line2d_3\">\r\n      <g>\r\n       <use style=\"stroke:#000000;stroke-width:0.8;\" x=\"136.299055\" xlink:href=\"#mb9885380f8\" y=\"239.758125\"/>\r\n      </g>\r\n     </g>\r\n     <g id=\"text_3\">\r\n      <!-- 0.4 -->\r\n      <defs>\r\n       <path d=\"M 37.796875 64.3125 \r\nL 12.890625 25.390625 \r\nL 37.796875 25.390625 \r\nz\r\nM 35.203125 72.90625 \r\nL 47.609375 72.90625 \r\nL 47.609375 25.390625 \r\nL 58.015625 25.390625 \r\nL 58.015625 17.1875 \r\nL 47.609375 17.1875 \r\nL 47.609375 0 \r\nL 37.796875 0 \r\nL 37.796875 17.1875 \r\nL 4.890625 17.1875 \r\nL 4.890625 26.703125 \r\nz\r\n\" id=\"DejaVuSans-52\"/>\r\n      </defs>\r\n      <g transform=\"translate(128.347493 254.356563)scale(0.1 -0.1)\">\r\n       <use xlink:href=\"#DejaVuSans-48\"/>\r\n       <use x=\"63.623047\" xlink:href=\"#DejaVuSans-46\"/>\r\n       <use x=\"95.410156\" xlink:href=\"#DejaVuSans-52\"/>\r\n      </g>\r\n     </g>\r\n    </g>\r\n    <g id=\"xtick_4\">\r\n     <g id=\"line2d_4\">\r\n      <g>\r\n       <use style=\"stroke:#000000;stroke-width:0.8;\" x=\"174.415386\" xlink:href=\"#mb9885380f8\" y=\"239.758125\"/>\r\n      </g>\r\n     </g>\r\n     <g id=\"text_4\">\r\n      <!-- 0.6 -->\r\n      <defs>\r\n       <path d=\"M 33.015625 40.375 \r\nQ 26.375 40.375 22.484375 35.828125 \r\nQ 18.609375 31.296875 18.609375 23.390625 \r\nQ 18.609375 15.53125 22.484375 10.953125 \r\nQ 26.375 6.390625 33.015625 6.390625 \r\nQ 39.65625 6.390625 43.53125 10.953125 \r\nQ 47.40625 15.53125 47.40625 23.390625 \r\nQ 47.40625 31.296875 43.53125 35.828125 \r\nQ 39.65625 40.375 33.015625 40.375 \r\nz\r\nM 52.59375 71.296875 \r\nL 52.59375 62.3125 \r\nQ 48.875 64.0625 45.09375 64.984375 \r\nQ 41.3125 65.921875 37.59375 65.921875 \r\nQ 27.828125 65.921875 22.671875 59.328125 \r\nQ 17.53125 52.734375 16.796875 39.40625 \r\nQ 19.671875 43.65625 24.015625 45.921875 \r\nQ 28.375 48.1875 33.59375 48.1875 \r\nQ 44.578125 48.1875 50.953125 41.515625 \r\nQ 57.328125 34.859375 57.328125 23.390625 \r\nQ 57.328125 12.15625 50.6875 5.359375 \r\nQ 44.046875 -1.421875 33.015625 -1.421875 \r\nQ 20.359375 -1.421875 13.671875 8.265625 \r\nQ 6.984375 17.96875 6.984375 36.375 \r\nQ 6.984375 53.65625 15.1875 63.9375 \r\nQ 23.390625 74.21875 37.203125 74.21875 \r\nQ 40.921875 74.21875 44.703125 73.484375 \r\nQ 48.484375 72.75 52.59375 71.296875 \r\nz\r\n\" id=\"DejaVuSans-54\"/>\r\n      </defs>\r\n      <g transform=\"translate(166.463824 254.356563)scale(0.1 -0.1)\">\r\n       <use xlink:href=\"#DejaVuSans-48\"/>\r\n       <use x=\"63.623047\" xlink:href=\"#DejaVuSans-46\"/>\r\n       <use x=\"95.410156\" xlink:href=\"#DejaVuSans-54\"/>\r\n      </g>\r\n     </g>\r\n    </g>\r\n    <g id=\"xtick_5\">\r\n     <g id=\"line2d_5\">\r\n      <g>\r\n       <use style=\"stroke:#000000;stroke-width:0.8;\" x=\"212.531717\" xlink:href=\"#mb9885380f8\" y=\"239.758125\"/>\r\n      </g>\r\n     </g>\r\n     <g id=\"text_5\">\r\n      <!-- 0.8 -->\r\n      <defs>\r\n       <path d=\"M 31.78125 34.625 \r\nQ 24.75 34.625 20.71875 30.859375 \r\nQ 16.703125 27.09375 16.703125 20.515625 \r\nQ 16.703125 13.921875 20.71875 10.15625 \r\nQ 24.75 6.390625 31.78125 6.390625 \r\nQ 38.8125 6.390625 42.859375 10.171875 \r\nQ 46.921875 13.96875 46.921875 20.515625 \r\nQ 46.921875 27.09375 42.890625 30.859375 \r\nQ 38.875 34.625 31.78125 34.625 \r\nz\r\nM 21.921875 38.8125 \r\nQ 15.578125 40.375 12.03125 44.71875 \r\nQ 8.5 49.078125 8.5 55.328125 \r\nQ 8.5 64.0625 14.71875 69.140625 \r\nQ 20.953125 74.21875 31.78125 74.21875 \r\nQ 42.671875 74.21875 48.875 69.140625 \r\nQ 55.078125 64.0625 55.078125 55.328125 \r\nQ 55.078125 49.078125 51.53125 44.71875 \r\nQ 48 40.375 41.703125 38.8125 \r\nQ 48.828125 37.15625 52.796875 32.3125 \r\nQ 56.78125 27.484375 56.78125 20.515625 \r\nQ 56.78125 9.90625 50.3125 4.234375 \r\nQ 43.84375 -1.421875 31.78125 -1.421875 \r\nQ 19.734375 -1.421875 13.25 4.234375 \r\nQ 6.78125 9.90625 6.78125 20.515625 \r\nQ 6.78125 27.484375 10.78125 32.3125 \r\nQ 14.796875 37.15625 21.921875 38.8125 \r\nz\r\nM 18.3125 54.390625 \r\nQ 18.3125 48.734375 21.84375 45.5625 \r\nQ 25.390625 42.390625 31.78125 42.390625 \r\nQ 38.140625 42.390625 41.71875 45.5625 \r\nQ 45.3125 48.734375 45.3125 54.390625 \r\nQ 45.3125 60.0625 41.71875 63.234375 \r\nQ 38.140625 66.40625 31.78125 66.40625 \r\nQ 25.390625 66.40625 21.84375 63.234375 \r\nQ 18.3125 60.0625 18.3125 54.390625 \r\nz\r\n\" id=\"DejaVuSans-56\"/>\r\n      </defs>\r\n      <g transform=\"translate(204.580155 254.356563)scale(0.1 -0.1)\">\r\n       <use xlink:href=\"#DejaVuSans-48\"/>\r\n       <use x=\"63.623047\" xlink:href=\"#DejaVuSans-46\"/>\r\n       <use x=\"95.410156\" xlink:href=\"#DejaVuSans-56\"/>\r\n      </g>\r\n     </g>\r\n    </g>\r\n    <g id=\"xtick_6\">\r\n     <g id=\"line2d_6\">\r\n      <g>\r\n       <use style=\"stroke:#000000;stroke-width:0.8;\" x=\"250.648049\" xlink:href=\"#mb9885380f8\" y=\"239.758125\"/>\r\n      </g>\r\n     </g>\r\n     <g id=\"text_6\">\r\n      <!-- 1.0 -->\r\n      <defs>\r\n       <path d=\"M 12.40625 8.296875 \r\nL 28.515625 8.296875 \r\nL 28.515625 63.921875 \r\nL 10.984375 60.40625 \r\nL 10.984375 69.390625 \r\nL 28.421875 72.90625 \r\nL 38.28125 72.90625 \r\nL 38.28125 8.296875 \r\nL 54.390625 8.296875 \r\nL 54.390625 0 \r\nL 12.40625 0 \r\nz\r\n\" id=\"DejaVuSans-49\"/>\r\n      </defs>\r\n      <g transform=\"translate(242.696486 254.356563)scale(0.1 -0.1)\">\r\n       <use xlink:href=\"#DejaVuSans-49\"/>\r\n       <use x=\"63.623047\" xlink:href=\"#DejaVuSans-46\"/>\r\n       <use x=\"95.410156\" xlink:href=\"#DejaVuSans-48\"/>\r\n      </g>\r\n     </g>\r\n    </g>\r\n    <g id=\"xtick_7\">\r\n     <g id=\"line2d_7\">\r\n      <g>\r\n       <use style=\"stroke:#000000;stroke-width:0.8;\" x=\"288.76438\" xlink:href=\"#mb9885380f8\" y=\"239.758125\"/>\r\n      </g>\r\n     </g>\r\n     <g id=\"text_7\">\r\n      <!-- 1.2 -->\r\n      <g transform=\"translate(280.812817 254.356563)scale(0.1 -0.1)\">\r\n       <use xlink:href=\"#DejaVuSans-49\"/>\r\n       <use x=\"63.623047\" xlink:href=\"#DejaVuSans-46\"/>\r\n       <use x=\"95.410156\" xlink:href=\"#DejaVuSans-50\"/>\r\n      </g>\r\n     </g>\r\n    </g>\r\n    <g id=\"xtick_8\">\r\n     <g id=\"line2d_8\">\r\n      <g>\r\n       <use style=\"stroke:#000000;stroke-width:0.8;\" x=\"326.880711\" xlink:href=\"#mb9885380f8\" y=\"239.758125\"/>\r\n      </g>\r\n     </g>\r\n     <g id=\"text_8\">\r\n      <!-- 1.4 -->\r\n      <g transform=\"translate(318.929148 254.356563)scale(0.1 -0.1)\">\r\n       <use xlink:href=\"#DejaVuSans-49\"/>\r\n       <use x=\"63.623047\" xlink:href=\"#DejaVuSans-46\"/>\r\n       <use x=\"95.410156\" xlink:href=\"#DejaVuSans-52\"/>\r\n      </g>\r\n     </g>\r\n    </g>\r\n    <g id=\"xtick_9\">\r\n     <g id=\"line2d_9\">\r\n      <g>\r\n       <use style=\"stroke:#000000;stroke-width:0.8;\" x=\"364.997042\" xlink:href=\"#mb9885380f8\" y=\"239.758125\"/>\r\n      </g>\r\n     </g>\r\n     <g id=\"text_9\">\r\n      <!-- 1.6 -->\r\n      <g transform=\"translate(357.045479 254.356563)scale(0.1 -0.1)\">\r\n       <use xlink:href=\"#DejaVuSans-49\"/>\r\n       <use x=\"63.623047\" xlink:href=\"#DejaVuSans-46\"/>\r\n       <use x=\"95.410156\" xlink:href=\"#DejaVuSans-54\"/>\r\n      </g>\r\n     </g>\r\n    </g>\r\n   </g>\r\n   <g id=\"matplotlib.axis_2\">\r\n    <g id=\"ytick_1\">\r\n     <g id=\"line2d_10\">\r\n      <defs>\r\n       <path d=\"M 0 0 \r\nL -3.5 0 \r\n\" id=\"mea133ebb1e\" style=\"stroke:#000000;stroke-width:0.8;\"/>\r\n      </defs>\r\n      <g>\r\n       <use style=\"stroke:#000000;stroke-width:0.8;\" x=\"38.482813\" xlink:href=\"#mea133ebb1e\" y=\"228.293023\"/>\r\n      </g>\r\n     </g>\r\n     <g id=\"text_10\">\r\n      <!-- −3.0 -->\r\n      <defs>\r\n       <path d=\"M 10.59375 35.5 \r\nL 73.1875 35.5 \r\nL 73.1875 27.203125 \r\nL 10.59375 27.203125 \r\nz\r\n\" id=\"DejaVuSans-8722\"/>\r\n       <path d=\"M 40.578125 39.3125 \r\nQ 47.65625 37.796875 51.625 33 \r\nQ 55.609375 28.21875 55.609375 21.1875 \r\nQ 55.609375 10.40625 48.1875 4.484375 \r\nQ 40.765625 -1.421875 27.09375 -1.421875 \r\nQ 22.515625 -1.421875 17.65625 -0.515625 \r\nQ 12.796875 0.390625 7.625 2.203125 \r\nL 7.625 11.71875 \r\nQ 11.71875 9.328125 16.59375 8.109375 \r\nQ 21.484375 6.890625 26.8125 6.890625 \r\nQ 36.078125 6.890625 40.9375 10.546875 \r\nQ 45.796875 14.203125 45.796875 21.1875 \r\nQ 45.796875 27.640625 41.28125 31.265625 \r\nQ 36.765625 34.90625 28.71875 34.90625 \r\nL 20.21875 34.90625 \r\nL 20.21875 43.015625 \r\nL 29.109375 43.015625 \r\nQ 36.375 43.015625 40.234375 45.921875 \r\nQ 44.09375 48.828125 44.09375 54.296875 \r\nQ 44.09375 59.90625 40.109375 62.90625 \r\nQ 36.140625 65.921875 28.71875 65.921875 \r\nQ 24.65625 65.921875 20.015625 65.03125 \r\nQ 15.375 64.15625 9.8125 62.3125 \r\nL 9.8125 71.09375 \r\nQ 15.4375 72.65625 20.34375 73.4375 \r\nQ 25.25 74.21875 29.59375 74.21875 \r\nQ 40.828125 74.21875 47.359375 69.109375 \r\nQ 53.90625 64.015625 53.90625 55.328125 \r\nQ 53.90625 49.265625 50.4375 45.09375 \r\nQ 46.96875 40.921875 40.578125 39.3125 \r\nz\r\n\" id=\"DejaVuSans-51\"/>\r\n      </defs>\r\n      <g transform=\"translate(7.2 232.092242)scale(0.1 -0.1)\">\r\n       <use xlink:href=\"#DejaVuSans-8722\"/>\r\n       <use x=\"83.789062\" xlink:href=\"#DejaVuSans-51\"/>\r\n       <use x=\"147.412109\" xlink:href=\"#DejaVuSans-46\"/>\r\n       <use x=\"179.199219\" xlink:href=\"#DejaVuSans-48\"/>\r\n      </g>\r\n     </g>\r\n    </g>\r\n    <g id=\"ytick_2\">\r\n     <g id=\"line2d_11\">\r\n      <g>\r\n       <use style=\"stroke:#000000;stroke-width:0.8;\" x=\"38.482813\" xlink:href=\"#mea133ebb1e\" y=\"196.81581\"/>\r\n      </g>\r\n     </g>\r\n     <g id=\"text_11\">\r\n      <!-- −2.5 -->\r\n      <defs>\r\n       <path d=\"M 10.796875 72.90625 \r\nL 49.515625 72.90625 \r\nL 49.515625 64.59375 \r\nL 19.828125 64.59375 \r\nL 19.828125 46.734375 \r\nQ 21.96875 47.46875 24.109375 47.828125 \r\nQ 26.265625 48.1875 28.421875 48.1875 \r\nQ 40.625 48.1875 47.75 41.5 \r\nQ 54.890625 34.8125 54.890625 23.390625 \r\nQ 54.890625 11.625 47.5625 5.09375 \r\nQ 40.234375 -1.421875 26.90625 -1.421875 \r\nQ 22.3125 -1.421875 17.546875 -0.640625 \r\nQ 12.796875 0.140625 7.71875 1.703125 \r\nL 7.71875 11.625 \r\nQ 12.109375 9.234375 16.796875 8.0625 \r\nQ 21.484375 6.890625 26.703125 6.890625 \r\nQ 35.15625 6.890625 40.078125 11.328125 \r\nQ 45.015625 15.765625 45.015625 23.390625 \r\nQ 45.015625 31 40.078125 35.4375 \r\nQ 35.15625 39.890625 26.703125 39.890625 \r\nQ 22.75 39.890625 18.8125 39.015625 \r\nQ 14.890625 38.140625 10.796875 36.28125 \r\nz\r\n\" id=\"DejaVuSans-53\"/>\r\n      </defs>\r\n      <g transform=\"translate(7.2 200.615028)scale(0.1 -0.1)\">\r\n       <use xlink:href=\"#DejaVuSans-8722\"/>\r\n       <use x=\"83.789062\" xlink:href=\"#DejaVuSans-50\"/>\r\n       <use x=\"147.412109\" xlink:href=\"#DejaVuSans-46\"/>\r\n       <use x=\"179.199219\" xlink:href=\"#DejaVuSans-53\"/>\r\n      </g>\r\n     </g>\r\n    </g>\r\n    <g id=\"ytick_3\">\r\n     <g id=\"line2d_12\">\r\n      <g>\r\n       <use style=\"stroke:#000000;stroke-width:0.8;\" x=\"38.482813\" xlink:href=\"#mea133ebb1e\" y=\"165.338597\"/>\r\n      </g>\r\n     </g>\r\n     <g id=\"text_12\">\r\n      <!-- −2.0 -->\r\n      <g transform=\"translate(7.2 169.137815)scale(0.1 -0.1)\">\r\n       <use xlink:href=\"#DejaVuSans-8722\"/>\r\n       <use x=\"83.789062\" xlink:href=\"#DejaVuSans-50\"/>\r\n       <use x=\"147.412109\" xlink:href=\"#DejaVuSans-46\"/>\r\n       <use x=\"179.199219\" xlink:href=\"#DejaVuSans-48\"/>\r\n      </g>\r\n     </g>\r\n    </g>\r\n    <g id=\"ytick_4\">\r\n     <g id=\"line2d_13\">\r\n      <g>\r\n       <use style=\"stroke:#000000;stroke-width:0.8;\" x=\"38.482813\" xlink:href=\"#mea133ebb1e\" y=\"133.861383\"/>\r\n      </g>\r\n     </g>\r\n     <g id=\"text_13\">\r\n      <!-- −1.5 -->\r\n      <g transform=\"translate(7.2 137.660602)scale(0.1 -0.1)\">\r\n       <use xlink:href=\"#DejaVuSans-8722\"/>\r\n       <use x=\"83.789062\" xlink:href=\"#DejaVuSans-49\"/>\r\n       <use x=\"147.412109\" xlink:href=\"#DejaVuSans-46\"/>\r\n       <use x=\"179.199219\" xlink:href=\"#DejaVuSans-53\"/>\r\n      </g>\r\n     </g>\r\n    </g>\r\n    <g id=\"ytick_5\">\r\n     <g id=\"line2d_14\">\r\n      <g>\r\n       <use style=\"stroke:#000000;stroke-width:0.8;\" x=\"38.482813\" xlink:href=\"#mea133ebb1e\" y=\"102.38417\"/>\r\n      </g>\r\n     </g>\r\n     <g id=\"text_14\">\r\n      <!-- −1.0 -->\r\n      <g transform=\"translate(7.2 106.183389)scale(0.1 -0.1)\">\r\n       <use xlink:href=\"#DejaVuSans-8722\"/>\r\n       <use x=\"83.789062\" xlink:href=\"#DejaVuSans-49\"/>\r\n       <use x=\"147.412109\" xlink:href=\"#DejaVuSans-46\"/>\r\n       <use x=\"179.199219\" xlink:href=\"#DejaVuSans-48\"/>\r\n      </g>\r\n     </g>\r\n    </g>\r\n    <g id=\"ytick_6\">\r\n     <g id=\"line2d_15\">\r\n      <g>\r\n       <use style=\"stroke:#000000;stroke-width:0.8;\" x=\"38.482813\" xlink:href=\"#mea133ebb1e\" y=\"70.906957\"/>\r\n      </g>\r\n     </g>\r\n     <g id=\"text_15\">\r\n      <!-- −0.5 -->\r\n      <g transform=\"translate(7.2 74.706176)scale(0.1 -0.1)\">\r\n       <use xlink:href=\"#DejaVuSans-8722\"/>\r\n       <use x=\"83.789062\" xlink:href=\"#DejaVuSans-48\"/>\r\n       <use x=\"147.412109\" xlink:href=\"#DejaVuSans-46\"/>\r\n       <use x=\"179.199219\" xlink:href=\"#DejaVuSans-53\"/>\r\n      </g>\r\n     </g>\r\n    </g>\r\n    <g id=\"ytick_7\">\r\n     <g id=\"line2d_16\">\r\n      <g>\r\n       <use style=\"stroke:#000000;stroke-width:0.8;\" x=\"38.482813\" xlink:href=\"#mea133ebb1e\" y=\"39.429744\"/>\r\n      </g>\r\n     </g>\r\n     <g id=\"text_16\">\r\n      <!-- 0.0 -->\r\n      <g transform=\"translate(15.579688 43.228963)scale(0.1 -0.1)\">\r\n       <use xlink:href=\"#DejaVuSans-48\"/>\r\n       <use x=\"63.623047\" xlink:href=\"#DejaVuSans-46\"/>\r\n       <use x=\"95.410156\" xlink:href=\"#DejaVuSans-48\"/>\r\n      </g>\r\n     </g>\r\n    </g>\r\n   </g>\r\n   <g id=\"patch_3\">\r\n    <path d=\"M 38.482813 239.758125 \r\nL 38.482813 22.318125 \r\n\" style=\"fill:none;stroke:#000000;stroke-linecap:square;stroke-linejoin:miter;stroke-width:0.8;\"/>\r\n   </g>\r\n   <g id=\"patch_4\">\r\n    <path d=\"M 373.282813 239.758125 \r\nL 373.282813 22.318125 \r\n\" style=\"fill:none;stroke:#000000;stroke-linecap:square;stroke-linejoin:miter;stroke-width:0.8;\"/>\r\n   </g>\r\n   <g id=\"patch_5\">\r\n    <path d=\"M 38.482813 239.758125 \r\nL 373.282812 239.758125 \r\n\" style=\"fill:none;stroke:#000000;stroke-linecap:square;stroke-linejoin:miter;stroke-width:0.8;\"/>\r\n   </g>\r\n   <g id=\"patch_6\">\r\n    <path d=\"M 38.482813 22.318125 \r\nL 373.282812 22.318125 \r\n\" style=\"fill:none;stroke:#000000;stroke-linecap:square;stroke-linejoin:miter;stroke-width:0.8;\"/>\r\n   </g>\r\n   <g id=\"text_17\">\r\n    <!-- trajectories -->\r\n    <defs>\r\n     <path d=\"M 18.3125 70.21875 \r\nL 18.3125 54.6875 \r\nL 36.8125 54.6875 \r\nL 36.8125 47.703125 \r\nL 18.3125 47.703125 \r\nL 18.3125 18.015625 \r\nQ 18.3125 11.328125 20.140625 9.421875 \r\nQ 21.96875 7.515625 27.59375 7.515625 \r\nL 36.8125 7.515625 \r\nL 36.8125 0 \r\nL 27.59375 0 \r\nQ 17.1875 0 13.234375 3.875 \r\nQ 9.28125 7.765625 9.28125 18.015625 \r\nL 9.28125 47.703125 \r\nL 2.6875 47.703125 \r\nL 2.6875 54.6875 \r\nL 9.28125 54.6875 \r\nL 9.28125 70.21875 \r\nz\r\n\" id=\"DejaVuSans-116\"/>\r\n     <path d=\"M 41.109375 46.296875 \r\nQ 39.59375 47.171875 37.8125 47.578125 \r\nQ 36.03125 48 33.890625 48 \r\nQ 26.265625 48 22.1875 43.046875 \r\nQ 18.109375 38.09375 18.109375 28.8125 \r\nL 18.109375 0 \r\nL 9.078125 0 \r\nL 9.078125 54.6875 \r\nL 18.109375 54.6875 \r\nL 18.109375 46.1875 \r\nQ 20.953125 51.171875 25.484375 53.578125 \r\nQ 30.03125 56 36.53125 56 \r\nQ 37.453125 56 38.578125 55.875 \r\nQ 39.703125 55.765625 41.0625 55.515625 \r\nz\r\n\" id=\"DejaVuSans-114\"/>\r\n     <path d=\"M 34.28125 27.484375 \r\nQ 23.390625 27.484375 19.1875 25 \r\nQ 14.984375 22.515625 14.984375 16.5 \r\nQ 14.984375 11.71875 18.140625 8.90625 \r\nQ 21.296875 6.109375 26.703125 6.109375 \r\nQ 34.1875 6.109375 38.703125 11.40625 \r\nQ 43.21875 16.703125 43.21875 25.484375 \r\nL 43.21875 27.484375 \r\nz\r\nM 52.203125 31.203125 \r\nL 52.203125 0 \r\nL 43.21875 0 \r\nL 43.21875 8.296875 \r\nQ 40.140625 3.328125 35.546875 0.953125 \r\nQ 30.953125 -1.421875 24.3125 -1.421875 \r\nQ 15.921875 -1.421875 10.953125 3.296875 \r\nQ 6 8.015625 6 15.921875 \r\nQ 6 25.140625 12.171875 29.828125 \r\nQ 18.359375 34.515625 30.609375 34.515625 \r\nL 43.21875 34.515625 \r\nL 43.21875 35.40625 \r\nQ 43.21875 41.609375 39.140625 45 \r\nQ 35.0625 48.390625 27.6875 48.390625 \r\nQ 23 48.390625 18.546875 47.265625 \r\nQ 14.109375 46.140625 10.015625 43.890625 \r\nL 10.015625 52.203125 \r\nQ 14.9375 54.109375 19.578125 55.046875 \r\nQ 24.21875 56 28.609375 56 \r\nQ 40.484375 56 46.34375 49.84375 \r\nQ 52.203125 43.703125 52.203125 31.203125 \r\nz\r\n\" id=\"DejaVuSans-97\"/>\r\n     <path d=\"M 9.421875 54.6875 \r\nL 18.40625 54.6875 \r\nL 18.40625 -0.984375 \r\nQ 18.40625 -11.421875 14.421875 -16.109375 \r\nQ 10.453125 -20.796875 1.609375 -20.796875 \r\nL -1.8125 -20.796875 \r\nL -1.8125 -13.1875 \r\nL 0.59375 -13.1875 \r\nQ 5.71875 -13.1875 7.5625 -10.8125 \r\nQ 9.421875 -8.453125 9.421875 -0.984375 \r\nz\r\nM 9.421875 75.984375 \r\nL 18.40625 75.984375 \r\nL 18.40625 64.59375 \r\nL 9.421875 64.59375 \r\nz\r\n\" id=\"DejaVuSans-106\"/>\r\n     <path d=\"M 56.203125 29.59375 \r\nL 56.203125 25.203125 \r\nL 14.890625 25.203125 \r\nQ 15.484375 15.921875 20.484375 11.0625 \r\nQ 25.484375 6.203125 34.421875 6.203125 \r\nQ 39.59375 6.203125 44.453125 7.46875 \r\nQ 49.3125 8.734375 54.109375 11.28125 \r\nL 54.109375 2.78125 \r\nQ 49.265625 0.734375 44.1875 -0.34375 \r\nQ 39.109375 -1.421875 33.890625 -1.421875 \r\nQ 20.796875 -1.421875 13.15625 6.1875 \r\nQ 5.515625 13.8125 5.515625 26.8125 \r\nQ 5.515625 40.234375 12.765625 48.109375 \r\nQ 20.015625 56 32.328125 56 \r\nQ 43.359375 56 49.78125 48.890625 \r\nQ 56.203125 41.796875 56.203125 29.59375 \r\nz\r\nM 47.21875 32.234375 \r\nQ 47.125 39.59375 43.09375 43.984375 \r\nQ 39.0625 48.390625 32.421875 48.390625 \r\nQ 24.90625 48.390625 20.390625 44.140625 \r\nQ 15.875 39.890625 15.1875 32.171875 \r\nz\r\n\" id=\"DejaVuSans-101\"/>\r\n     <path d=\"M 48.78125 52.59375 \r\nL 48.78125 44.1875 \r\nQ 44.96875 46.296875 41.140625 47.34375 \r\nQ 37.3125 48.390625 33.40625 48.390625 \r\nQ 24.65625 48.390625 19.8125 42.84375 \r\nQ 14.984375 37.3125 14.984375 27.296875 \r\nQ 14.984375 17.28125 19.8125 11.734375 \r\nQ 24.65625 6.203125 33.40625 6.203125 \r\nQ 37.3125 6.203125 41.140625 7.25 \r\nQ 44.96875 8.296875 48.78125 10.40625 \r\nL 48.78125 2.09375 \r\nQ 45.015625 0.34375 40.984375 -0.53125 \r\nQ 36.96875 -1.421875 32.421875 -1.421875 \r\nQ 20.0625 -1.421875 12.78125 6.34375 \r\nQ 5.515625 14.109375 5.515625 27.296875 \r\nQ 5.515625 40.671875 12.859375 48.328125 \r\nQ 20.21875 56 33.015625 56 \r\nQ 37.15625 56 41.109375 55.140625 \r\nQ 45.0625 54.296875 48.78125 52.59375 \r\nz\r\n\" id=\"DejaVuSans-99\"/>\r\n     <path d=\"M 30.609375 48.390625 \r\nQ 23.390625 48.390625 19.1875 42.75 \r\nQ 14.984375 37.109375 14.984375 27.296875 \r\nQ 14.984375 17.484375 19.15625 11.84375 \r\nQ 23.34375 6.203125 30.609375 6.203125 \r\nQ 37.796875 6.203125 41.984375 11.859375 \r\nQ 46.1875 17.53125 46.1875 27.296875 \r\nQ 46.1875 37.015625 41.984375 42.703125 \r\nQ 37.796875 48.390625 30.609375 48.390625 \r\nz\r\nM 30.609375 56 \r\nQ 42.328125 56 49.015625 48.375 \r\nQ 55.71875 40.765625 55.71875 27.296875 \r\nQ 55.71875 13.875 49.015625 6.21875 \r\nQ 42.328125 -1.421875 30.609375 -1.421875 \r\nQ 18.84375 -1.421875 12.171875 6.21875 \r\nQ 5.515625 13.875 5.515625 27.296875 \r\nQ 5.515625 40.765625 12.171875 48.375 \r\nQ 18.84375 56 30.609375 56 \r\nz\r\n\" id=\"DejaVuSans-111\"/>\r\n     <path d=\"M 9.421875 54.6875 \r\nL 18.40625 54.6875 \r\nL 18.40625 0 \r\nL 9.421875 0 \r\nz\r\nM 9.421875 75.984375 \r\nL 18.40625 75.984375 \r\nL 18.40625 64.59375 \r\nL 9.421875 64.59375 \r\nz\r\n\" id=\"DejaVuSans-105\"/>\r\n     <path d=\"M 44.28125 53.078125 \r\nL 44.28125 44.578125 \r\nQ 40.484375 46.53125 36.375 47.5 \r\nQ 32.28125 48.484375 27.875 48.484375 \r\nQ 21.1875 48.484375 17.84375 46.4375 \r\nQ 14.5 44.390625 14.5 40.28125 \r\nQ 14.5 37.15625 16.890625 35.375 \r\nQ 19.28125 33.59375 26.515625 31.984375 \r\nL 29.59375 31.296875 \r\nQ 39.15625 29.25 43.1875 25.515625 \r\nQ 47.21875 21.78125 47.21875 15.09375 \r\nQ 47.21875 7.46875 41.1875 3.015625 \r\nQ 35.15625 -1.421875 24.609375 -1.421875 \r\nQ 20.21875 -1.421875 15.453125 -0.5625 \r\nQ 10.6875 0.296875 5.421875 2 \r\nL 5.421875 11.28125 \r\nQ 10.40625 8.6875 15.234375 7.390625 \r\nQ 20.0625 6.109375 24.8125 6.109375 \r\nQ 31.15625 6.109375 34.5625 8.28125 \r\nQ 37.984375 10.453125 37.984375 14.40625 \r\nQ 37.984375 18.0625 35.515625 20.015625 \r\nQ 33.0625 21.96875 24.703125 23.78125 \r\nL 21.578125 24.515625 \r\nQ 13.234375 26.265625 9.515625 29.90625 \r\nQ 5.8125 33.546875 5.8125 39.890625 \r\nQ 5.8125 47.609375 11.28125 51.796875 \r\nQ 16.75 56 26.8125 56 \r\nQ 31.78125 56 36.171875 55.265625 \r\nQ 40.578125 54.546875 44.28125 53.078125 \r\nz\r\n\" id=\"DejaVuSans-115\"/>\r\n    </defs>\r\n    <g transform=\"translate(171.755 16.318125)scale(0.12 -0.12)\">\r\n     <use xlink:href=\"#DejaVuSans-116\"/>\r\n     <use x=\"39.208984\" xlink:href=\"#DejaVuSans-114\"/>\r\n     <use x=\"80.322266\" xlink:href=\"#DejaVuSans-97\"/>\r\n     <use x=\"141.601562\" xlink:href=\"#DejaVuSans-106\"/>\r\n     <use x=\"169.384766\" xlink:href=\"#DejaVuSans-101\"/>\r\n     <use x=\"230.908203\" xlink:href=\"#DejaVuSans-99\"/>\r\n     <use x=\"285.888672\" xlink:href=\"#DejaVuSans-116\"/>\r\n     <use x=\"325.097656\" xlink:href=\"#DejaVuSans-111\"/>\r\n     <use x=\"386.279297\" xlink:href=\"#DejaVuSans-114\"/>\r\n     <use x=\"427.392578\" xlink:href=\"#DejaVuSans-105\"/>\r\n     <use x=\"455.175781\" xlink:href=\"#DejaVuSans-101\"/>\r\n     <use x=\"516.699219\" xlink:href=\"#DejaVuSans-115\"/>\r\n    </g>\r\n   </g>\r\n   <g id=\"legend_1\">\r\n    <g id=\"patch_7\">\r\n     <path d=\"M 284.214063 89.030625 \r\nL 366.282812 89.030625 \r\nQ 368.282812 89.030625 368.282812 87.030625 \r\nL 368.282812 29.318125 \r\nQ 368.282812 27.318125 366.282812 27.318125 \r\nL 284.214063 27.318125 \r\nQ 282.214063 27.318125 282.214063 29.318125 \r\nL 282.214063 87.030625 \r\nQ 282.214063 89.030625 284.214063 89.030625 \r\nz\r\n\" style=\"fill:#ffffff;opacity:0.8;stroke:#cccccc;stroke-linejoin:miter;\"/>\r\n    </g>\r\n    <g id=\"PathCollection_5\">\r\n     <g>\r\n      <use style=\"fill:#ff0000;stroke:#ff0000;\" x=\"296.214063\" xlink:href=\"#mbd0dec801d\" y=\"36.291562\"/>\r\n     </g>\r\n    </g>\r\n    <g id=\"text_18\">\r\n     <!-- Prediction -->\r\n     <defs>\r\n      <path d=\"M 19.671875 64.796875 \r\nL 19.671875 37.40625 \r\nL 32.078125 37.40625 \r\nQ 38.96875 37.40625 42.71875 40.96875 \r\nQ 46.484375 44.53125 46.484375 51.125 \r\nQ 46.484375 57.671875 42.71875 61.234375 \r\nQ 38.96875 64.796875 32.078125 64.796875 \r\nz\r\nM 9.8125 72.90625 \r\nL 32.078125 72.90625 \r\nQ 44.34375 72.90625 50.609375 67.359375 \r\nQ 56.890625 61.8125 56.890625 51.125 \r\nQ 56.890625 40.328125 50.609375 34.8125 \r\nQ 44.34375 29.296875 32.078125 29.296875 \r\nL 19.671875 29.296875 \r\nL 19.671875 0 \r\nL 9.8125 0 \r\nz\r\n\" id=\"DejaVuSans-80\"/>\r\n      <path d=\"M 45.40625 46.390625 \r\nL 45.40625 75.984375 \r\nL 54.390625 75.984375 \r\nL 54.390625 0 \r\nL 45.40625 0 \r\nL 45.40625 8.203125 \r\nQ 42.578125 3.328125 38.25 0.953125 \r\nQ 33.9375 -1.421875 27.875 -1.421875 \r\nQ 17.96875 -1.421875 11.734375 6.484375 \r\nQ 5.515625 14.40625 5.515625 27.296875 \r\nQ 5.515625 40.1875 11.734375 48.09375 \r\nQ 17.96875 56 27.875 56 \r\nQ 33.9375 56 38.25 53.625 \r\nQ 42.578125 51.265625 45.40625 46.390625 \r\nz\r\nM 14.796875 27.296875 \r\nQ 14.796875 17.390625 18.875 11.75 \r\nQ 22.953125 6.109375 30.078125 6.109375 \r\nQ 37.203125 6.109375 41.296875 11.75 \r\nQ 45.40625 17.390625 45.40625 27.296875 \r\nQ 45.40625 37.203125 41.296875 42.84375 \r\nQ 37.203125 48.484375 30.078125 48.484375 \r\nQ 22.953125 48.484375 18.875 42.84375 \r\nQ 14.796875 37.203125 14.796875 27.296875 \r\nz\r\n\" id=\"DejaVuSans-100\"/>\r\n      <path d=\"M 54.890625 33.015625 \r\nL 54.890625 0 \r\nL 45.90625 0 \r\nL 45.90625 32.71875 \r\nQ 45.90625 40.484375 42.875 44.328125 \r\nQ 39.84375 48.1875 33.796875 48.1875 \r\nQ 26.515625 48.1875 22.3125 43.546875 \r\nQ 18.109375 38.921875 18.109375 30.90625 \r\nL 18.109375 0 \r\nL 9.078125 0 \r\nL 9.078125 54.6875 \r\nL 18.109375 54.6875 \r\nL 18.109375 46.1875 \r\nQ 21.34375 51.125 25.703125 53.5625 \r\nQ 30.078125 56 35.796875 56 \r\nQ 45.21875 56 50.046875 50.171875 \r\nQ 54.890625 44.34375 54.890625 33.015625 \r\nz\r\n\" id=\"DejaVuSans-110\"/>\r\n     </defs>\r\n     <g transform=\"translate(314.214063 38.916562)scale(0.1 -0.1)\">\r\n      <use xlink:href=\"#DejaVuSans-80\"/>\r\n      <use x=\"60.287109\" xlink:href=\"#DejaVuSans-114\"/>\r\n      <use x=\"101.369141\" xlink:href=\"#DejaVuSans-101\"/>\r\n      <use x=\"162.892578\" xlink:href=\"#DejaVuSans-100\"/>\r\n      <use x=\"226.369141\" xlink:href=\"#DejaVuSans-105\"/>\r\n      <use x=\"254.152344\" xlink:href=\"#DejaVuSans-99\"/>\r\n      <use x=\"309.132812\" xlink:href=\"#DejaVuSans-116\"/>\r\n      <use x=\"348.341797\" xlink:href=\"#DejaVuSans-105\"/>\r\n      <use x=\"376.125\" xlink:href=\"#DejaVuSans-111\"/>\r\n      <use x=\"437.306641\" xlink:href=\"#DejaVuSans-110\"/>\r\n     </g>\r\n    </g>\r\n    <g id=\"PathCollection_6\">\r\n     <g>\r\n      <use style=\"fill:#0000ff;stroke:#0000ff;\" x=\"296.214063\" xlink:href=\"#m81aac4e3d3\" y=\"50.969687\"/>\r\n     </g>\r\n    </g>\r\n    <g id=\"text_19\">\r\n     <!-- Real -->\r\n     <defs>\r\n      <path d=\"M 44.390625 34.1875 \r\nQ 47.5625 33.109375 50.5625 29.59375 \r\nQ 53.5625 26.078125 56.59375 19.921875 \r\nL 66.609375 0 \r\nL 56 0 \r\nL 46.6875 18.703125 \r\nQ 43.0625 26.03125 39.671875 28.421875 \r\nQ 36.28125 30.8125 30.421875 30.8125 \r\nL 19.671875 30.8125 \r\nL 19.671875 0 \r\nL 9.8125 0 \r\nL 9.8125 72.90625 \r\nL 32.078125 72.90625 \r\nQ 44.578125 72.90625 50.734375 67.671875 \r\nQ 56.890625 62.453125 56.890625 51.90625 \r\nQ 56.890625 45.015625 53.6875 40.46875 \r\nQ 50.484375 35.9375 44.390625 34.1875 \r\nz\r\nM 19.671875 64.796875 \r\nL 19.671875 38.921875 \r\nL 32.078125 38.921875 \r\nQ 39.203125 38.921875 42.84375 42.21875 \r\nQ 46.484375 45.515625 46.484375 51.90625 \r\nQ 46.484375 58.296875 42.84375 61.546875 \r\nQ 39.203125 64.796875 32.078125 64.796875 \r\nz\r\n\" id=\"DejaVuSans-82\"/>\r\n      <path d=\"M 9.421875 75.984375 \r\nL 18.40625 75.984375 \r\nL 18.40625 0 \r\nL 9.421875 0 \r\nz\r\n\" id=\"DejaVuSans-108\"/>\r\n     </defs>\r\n     <g transform=\"translate(314.214063 53.594687)scale(0.1 -0.1)\">\r\n      <use xlink:href=\"#DejaVuSans-82\"/>\r\n      <use x=\"69.419922\" xlink:href=\"#DejaVuSans-101\"/>\r\n      <use x=\"130.943359\" xlink:href=\"#DejaVuSans-97\"/>\r\n      <use x=\"192.222656\" xlink:href=\"#DejaVuSans-108\"/>\r\n     </g>\r\n    </g>\r\n    <g id=\"PathCollection_7\">\r\n     <g>\r\n      <use style=\"fill:#008000;stroke:#008000;\" x=\"296.214063\" xlink:href=\"#mb1fdf6d248\" y=\"65.647812\"/>\r\n     </g>\r\n    </g>\r\n    <g id=\"text_20\">\r\n     <!-- Target -->\r\n     <defs>\r\n      <path d=\"M -0.296875 72.90625 \r\nL 61.375 72.90625 \r\nL 61.375 64.59375 \r\nL 35.5 64.59375 \r\nL 35.5 0 \r\nL 25.59375 0 \r\nL 25.59375 64.59375 \r\nL -0.296875 64.59375 \r\nz\r\n\" id=\"DejaVuSans-84\"/>\r\n      <path d=\"M 45.40625 27.984375 \r\nQ 45.40625 37.75 41.375 43.109375 \r\nQ 37.359375 48.484375 30.078125 48.484375 \r\nQ 22.859375 48.484375 18.828125 43.109375 \r\nQ 14.796875 37.75 14.796875 27.984375 \r\nQ 14.796875 18.265625 18.828125 12.890625 \r\nQ 22.859375 7.515625 30.078125 7.515625 \r\nQ 37.359375 7.515625 41.375 12.890625 \r\nQ 45.40625 18.265625 45.40625 27.984375 \r\nz\r\nM 54.390625 6.78125 \r\nQ 54.390625 -7.171875 48.1875 -13.984375 \r\nQ 42 -20.796875 29.203125 -20.796875 \r\nQ 24.46875 -20.796875 20.265625 -20.09375 \r\nQ 16.0625 -19.390625 12.109375 -17.921875 \r\nL 12.109375 -9.1875 \r\nQ 16.0625 -11.328125 19.921875 -12.34375 \r\nQ 23.78125 -13.375 27.78125 -13.375 \r\nQ 36.625 -13.375 41.015625 -8.765625 \r\nQ 45.40625 -4.15625 45.40625 5.171875 \r\nL 45.40625 9.625 \r\nQ 42.625 4.78125 38.28125 2.390625 \r\nQ 33.9375 0 27.875 0 \r\nQ 17.828125 0 11.671875 7.65625 \r\nQ 5.515625 15.328125 5.515625 27.984375 \r\nQ 5.515625 40.671875 11.671875 48.328125 \r\nQ 17.828125 56 27.875 56 \r\nQ 33.9375 56 38.28125 53.609375 \r\nQ 42.625 51.21875 45.40625 46.390625 \r\nL 45.40625 54.6875 \r\nL 54.390625 54.6875 \r\nz\r\n\" id=\"DejaVuSans-103\"/>\r\n     </defs>\r\n     <g transform=\"translate(314.214063 68.272812)scale(0.1 -0.1)\">\r\n      <use xlink:href=\"#DejaVuSans-84\"/>\r\n      <use x=\"60.833984\" xlink:href=\"#DejaVuSans-97\"/>\r\n      <use x=\"122.113281\" xlink:href=\"#DejaVuSans-114\"/>\r\n      <use x=\"163.210938\" xlink:href=\"#DejaVuSans-103\"/>\r\n      <use x=\"226.6875\" xlink:href=\"#DejaVuSans-101\"/>\r\n      <use x=\"288.210938\" xlink:href=\"#DejaVuSans-116\"/>\r\n     </g>\r\n    </g>\r\n    <g id=\"PathCollection_8\">\r\n     <g>\r\n      <use style=\"fill:#bfbf00;stroke:#bfbf00;\" x=\"296.214063\" xlink:href=\"#m47fa6c82c4\" y=\"80.325938\"/>\r\n     </g>\r\n    </g>\r\n    <g id=\"text_21\">\r\n     <!-- start -->\r\n     <g transform=\"translate(314.214063 82.950938)scale(0.1 -0.1)\">\r\n      <use xlink:href=\"#DejaVuSans-115\"/>\r\n      <use x=\"52.099609\" xlink:href=\"#DejaVuSans-116\"/>\r\n      <use x=\"91.308594\" xlink:href=\"#DejaVuSans-97\"/>\r\n      <use x=\"152.587891\" xlink:href=\"#DejaVuSans-114\"/>\r\n      <use x=\"193.701172\" xlink:href=\"#DejaVuSans-116\"/>\r\n     </g>\r\n    </g>\r\n   </g>\r\n  </g>\r\n </g>\r\n <defs>\r\n  <clipPath id=\"p8fa7ab5a56\">\r\n   <rect height=\"217.44\" width=\"334.8\" x=\"38.482813\" y=\"22.318125\"/>\r\n  </clipPath>\r\n </defs>\r\n</svg>\r\n",
      "image/png": "[encoded data removed]"
     },
     "metadata": {
      "needs_background": "light"
     }
    }
   ],
   "source": [
    "plt.figure()\n",
    "S_Trajectory_prediction = single_step_sequential_model.predict(x_val_single_sequential)[:,:,0:2]\n",
    "\n",
    "t_number = 5\n",
    "\n",
    "plt.scatter(S_Trajectory_prediction[t_number][:,0], S_Trajectory_prediction[t_number][:,1], c='r', label='Prediction')\n",
    "plt.scatter(y_val_single_sequential[t_number][:,0], y_val_single_sequential[t_number][:,1], c='b', label='Real')\n",
    "plt.scatter(ZT_norm[0],ZT_norm[1], c='g', label='Target')\n",
    "plt.scatter(x_val_single_sequential[t_number][0,0], x_val_single_sequential[t_number][0,1], c='y', label='start')\n",
    "plt.title(\"trajectories\")\n",
    "plt.legend()\n",
    "\n",
    "plt.show()"
   ]
  },
  {
   "source": [
    "## Decoder Mode"
   ],
   "cell_type": "markdown",
   "metadata": {}
  },
  {
   "cell_type": "code",
   "execution_count": 54,
   "metadata": {},
   "outputs": [
    {
     "output_type": "stream",
     "name": "stdout",
     "text": [
      "334.9307161500534\n"
     ]
    },
    {
     "output_type": "display_data",
     "data": {
      "text/plain": "<Figure size 432x288 with 1 Axes>",
      "image/svg+xml": "<?xml version=\"1.0\" encoding=\"utf-8\" standalone=\"no\"?>\r\n<!DOCTYPE svg PUBLIC \"-//W3C//DTD SVG 1.1//EN\"\r\n  \"http://www.w3.org/Graphics/SVG/1.1/DTD/svg11.dtd\">\r\n<!-- Created with matplotlib (https://matplotlib.org/) -->\r\n<svg height=\"263.63625pt\" version=\"1.1\" viewBox=\"0 0 386.845312 263.63625\" width=\"386.845312pt\" xmlns=\"http://www.w3.org/2000/svg\" xmlns:xlink=\"http://www.w3.org/1999/xlink\">\r\n <defs>\r\n  <style type=\"text/css\">\r\n*{stroke-linecap:butt;stroke-linejoin:round;}\r\n  </style>\r\n </defs>\r\n <g id=\"figure_1\">\r\n  <g id=\"patch_1\">\r\n   <path d=\"M 0 263.63625 \r\nL 386.845312 263.63625 \r\nL 386.845312 0 \r\nL 0 0 \r\nz\r\n\" style=\"fill:none;\"/>\r\n  </g>\r\n  <g id=\"axes_1\">\r\n   <g id=\"patch_2\">\r\n    <path d=\"M 44.845313 239.758125 \r\nL 379.645313 239.758125 \r\nL 379.645313 22.318125 \r\nL 44.845313 22.318125 \r\nz\r\n\" style=\"fill:#ffffff;\"/>\r\n   </g>\r\n   <g id=\"PathCollection_1\">\r\n    <defs>\r\n     <path d=\"M 0 3 \r\nC 0.795609 3 1.55874 2.683901 2.12132 2.12132 \r\nC 2.683901 1.55874 3 0.795609 3 0 \r\nC 3 -0.795609 2.683901 -1.55874 2.12132 -2.12132 \r\nC 1.55874 -2.683901 0.795609 -3 0 -3 \r\nC -0.795609 -3 -1.55874 -2.683901 -2.12132 -2.12132 \r\nC -2.683901 -1.55874 -3 -0.795609 -3 0 \r\nC -3 0.795609 -2.683901 1.55874 -2.12132 2.12132 \r\nC -1.55874 2.683901 -0.795609 3 0 3 \r\nz\r\n\" id=\"mc5d096b040\" style=\"stroke:#ff0000;\"/>\r\n    </defs>\r\n    <g clip-path=\"url(#pde8e09ec7a)\">\r\n     <use style=\"fill:#ff0000;stroke:#ff0000;\" x=\"330.878441\" xlink:href=\"#mc5d096b040\" y=\"196.173438\"/>\r\n     <use style=\"fill:#ff0000;stroke:#ff0000;\" x=\"285.818353\" xlink:href=\"#mc5d096b040\" y=\"151.349567\"/>\r\n     <use style=\"fill:#ff0000;stroke:#ff0000;\" x=\"253.992686\" xlink:href=\"#mc5d096b040\" y=\"122.799631\"/>\r\n     <use style=\"fill:#ff0000;stroke:#ff0000;\" x=\"224.048451\" xlink:href=\"#mc5d096b040\" y=\"107.812501\"/>\r\n     <use style=\"fill:#ff0000;stroke:#ff0000;\" x=\"187.279959\" xlink:href=\"#mc5d096b040\" y=\"86.93736\"/>\r\n     <use style=\"fill:#ff0000;stroke:#ff0000;\" x=\"144.269521\" xlink:href=\"#mc5d096b040\" y=\"57.452619\"/>\r\n     <use style=\"fill:#ff0000;stroke:#ff0000;\" x=\"100.386009\" xlink:href=\"#mc5d096b040\" y=\"32.359826\"/>\r\n     <use style=\"fill:#ff0000;stroke:#ff0000;\" x=\"62.872529\" xlink:href=\"#mc5d096b040\" y=\"40.067813\"/>\r\n    </g>\r\n   </g>\r\n   <g id=\"PathCollection_2\">\r\n    <defs>\r\n     <path d=\"M 0 3 \r\nC 0.795609 3 1.55874 2.683901 2.12132 2.12132 \r\nC 2.683901 1.55874 3 0.795609 3 0 \r\nC 3 -0.795609 2.683901 -1.55874 2.12132 -2.12132 \r\nC 1.55874 -2.683901 0.795609 -3 0 -3 \r\nC -0.795609 -3 -1.55874 -2.683901 -2.12132 -2.12132 \r\nC -2.683901 -1.55874 -3 -0.795609 -3 0 \r\nC -3 0.795609 -2.683901 1.55874 -2.12132 2.12132 \r\nC -1.55874 2.683901 -0.795609 3 0 3 \r\nz\r\n\" id=\"m47e987aae4\" style=\"stroke:#0000ff;\"/>\r\n    </defs>\r\n    <g clip-path=\"url(#pde8e09ec7a)\">\r\n     <use style=\"fill:#0000ff;stroke:#0000ff;\" x=\"345.187796\" xlink:href=\"#m47e987aae4\" y=\"217.197644\"/>\r\n     <use style=\"fill:#0000ff;stroke:#0000ff;\" x=\"325.729382\" xlink:href=\"#m47e987aae4\" y=\"207.333705\"/>\r\n     <use style=\"fill:#0000ff;stroke:#0000ff;\" x=\"304.612707\" xlink:href=\"#m47e987aae4\" y=\"200.295089\"/>\r\n     <use style=\"fill:#0000ff;stroke:#0000ff;\" x=\"284.859196\" xlink:href=\"#m47e987aae4\" y=\"200.457051\"/>\r\n     <use style=\"fill:#0000ff;stroke:#0000ff;\" x=\"268.680755\" xlink:href=\"#m47e987aae4\" y=\"199.114476\"/>\r\n     <use style=\"fill:#0000ff;stroke:#0000ff;\" x=\"250.650756\" xlink:href=\"#m47e987aae4\" y=\"180.832774\"/>\r\n     <use style=\"fill:#0000ff;stroke:#0000ff;\" x=\"225.073854\" xlink:href=\"#m47e987aae4\" y=\"160.865523\"/>\r\n     <use style=\"fill:#0000ff;stroke:#0000ff;\" x=\"199.006995\" xlink:href=\"#m47e987aae4\" y=\"157.186204\"/>\r\n     <use style=\"fill:#0000ff;stroke:#0000ff;\" x=\"174.155556\" xlink:href=\"#m47e987aae4\" y=\"148.803813\"/>\r\n     <use style=\"fill:#0000ff;stroke:#0000ff;\" x=\"147.932326\" xlink:href=\"#m47e987aae4\" y=\"121.88105\"/>\r\n    </g>\r\n   </g>\r\n   <g id=\"PathCollection_3\">\r\n    <defs>\r\n     <path d=\"M 0 3 \r\nC 0.795609 3 1.55874 2.683901 2.12132 2.12132 \r\nC 2.683901 1.55874 3 0.795609 3 0 \r\nC 3 -0.795609 2.683901 -1.55874 2.12132 -2.12132 \r\nC 1.55874 -2.683901 0.795609 -3 0 -3 \r\nC -0.795609 -3 -1.55874 -2.683901 -2.12132 -2.12132 \r\nC -2.683901 -1.55874 -3 -0.795609 -3 0 \r\nC -3 0.795609 -2.683901 1.55874 -2.12132 2.12132 \r\nC -1.55874 2.683901 -0.795609 3 0 3 \r\nz\r\n\" id=\"mbc62c5a535\" style=\"stroke:#008000;\"/>\r\n    </defs>\r\n    <g clip-path=\"url(#pde8e09ec7a)\">\r\n     <use style=\"fill:#008000;stroke:#008000;\" x=\"62.872529\" xlink:href=\"#mbc62c5a535\" y=\"42.793628\"/>\r\n    </g>\r\n   </g>\r\n   <g id=\"PathCollection_4\">\r\n    <defs>\r\n     <path d=\"M 0 3 \r\nC 0.795609 3 1.55874 2.683901 2.12132 2.12132 \r\nC 2.683901 1.55874 3 0.795609 3 0 \r\nC 3 -0.795609 2.683901 -1.55874 2.12132 -2.12132 \r\nC 1.55874 -2.683901 0.795609 -3 0 -3 \r\nC -0.795609 -3 -1.55874 -2.683901 -2.12132 -2.12132 \r\nC -2.683901 -1.55874 -3 -0.795609 -3 0 \r\nC -3 0.795609 -2.683901 1.55874 -2.12132 2.12132 \r\nC -1.55874 2.683901 -0.795609 3 0 3 \r\nz\r\n\" id=\"m35804ff69e\" style=\"stroke:#bfbf00;\"/>\r\n    </defs>\r\n    <g clip-path=\"url(#pde8e09ec7a)\">\r\n     <use style=\"fill:#bfbf00;stroke:#bfbf00;\" x=\"361.590722\" xlink:href=\"#m35804ff69e\" y=\"227.029076\"/>\r\n    </g>\r\n   </g>\r\n   <g id=\"matplotlib.axis_1\">\r\n    <g id=\"xtick_1\">\r\n     <g id=\"line2d_1\">\r\n      <defs>\r\n       <path d=\"M 0 0 \r\nL 0 3.5 \r\n\" id=\"mfdcf11a07a\" style=\"stroke:#000000;stroke-width:0.8;\"/>\r\n      </defs>\r\n      <g>\r\n       <use style=\"stroke:#000000;stroke-width:0.8;\" x=\"62.872529\" xlink:href=\"#mfdcf11a07a\" y=\"239.758125\"/>\r\n      </g>\r\n     </g>\r\n     <g id=\"text_1\">\r\n      <!-- 0 -->\r\n      <defs>\r\n       <path d=\"M 31.78125 66.40625 \r\nQ 24.171875 66.40625 20.328125 58.90625 \r\nQ 16.5 51.421875 16.5 36.375 \r\nQ 16.5 21.390625 20.328125 13.890625 \r\nQ 24.171875 6.390625 31.78125 6.390625 \r\nQ 39.453125 6.390625 43.28125 13.890625 \r\nQ 47.125 21.390625 47.125 36.375 \r\nQ 47.125 51.421875 43.28125 58.90625 \r\nQ 39.453125 66.40625 31.78125 66.40625 \r\nz\r\nM 31.78125 74.21875 \r\nQ 44.046875 74.21875 50.515625 64.515625 \r\nQ 56.984375 54.828125 56.984375 36.375 \r\nQ 56.984375 17.96875 50.515625 8.265625 \r\nQ 44.046875 -1.421875 31.78125 -1.421875 \r\nQ 19.53125 -1.421875 13.0625 8.265625 \r\nQ 6.59375 17.96875 6.59375 36.375 \r\nQ 6.59375 54.828125 13.0625 64.515625 \r\nQ 19.53125 74.21875 31.78125 74.21875 \r\nz\r\n\" id=\"DejaVuSans-48\"/>\r\n      </defs>\r\n      <g transform=\"translate(59.691279 254.356563)scale(0.1 -0.1)\">\r\n       <use xlink:href=\"#DejaVuSans-48\"/>\r\n      </g>\r\n     </g>\r\n    </g>\r\n    <g id=\"xtick_2\">\r\n     <g id=\"line2d_2\">\r\n      <g>\r\n       <use style=\"stroke:#000000;stroke-width:0.8;\" x=\"133.791083\" xlink:href=\"#mfdcf11a07a\" y=\"239.758125\"/>\r\n      </g>\r\n     </g>\r\n     <g id=\"text_2\">\r\n      <!-- 20 -->\r\n      <defs>\r\n       <path d=\"M 19.1875 8.296875 \r\nL 53.609375 8.296875 \r\nL 53.609375 0 \r\nL 7.328125 0 \r\nL 7.328125 8.296875 \r\nQ 12.9375 14.109375 22.625 23.890625 \r\nQ 32.328125 33.6875 34.8125 36.53125 \r\nQ 39.546875 41.84375 41.421875 45.53125 \r\nQ 43.3125 49.21875 43.3125 52.78125 \r\nQ 43.3125 58.59375 39.234375 62.25 \r\nQ 35.15625 65.921875 28.609375 65.921875 \r\nQ 23.96875 65.921875 18.8125 64.3125 \r\nQ 13.671875 62.703125 7.8125 59.421875 \r\nL 7.8125 69.390625 \r\nQ 13.765625 71.78125 18.9375 73 \r\nQ 24.125 74.21875 28.421875 74.21875 \r\nQ 39.75 74.21875 46.484375 68.546875 \r\nQ 53.21875 62.890625 53.21875 53.421875 \r\nQ 53.21875 48.921875 51.53125 44.890625 \r\nQ 49.859375 40.875 45.40625 35.40625 \r\nQ 44.1875 33.984375 37.640625 27.21875 \r\nQ 31.109375 20.453125 19.1875 8.296875 \r\nz\r\n\" id=\"DejaVuSans-50\"/>\r\n      </defs>\r\n      <g transform=\"translate(127.428583 254.356563)scale(0.1 -0.1)\">\r\n       <use xlink:href=\"#DejaVuSans-50\"/>\r\n       <use x=\"63.623047\" xlink:href=\"#DejaVuSans-48\"/>\r\n      </g>\r\n     </g>\r\n    </g>\r\n    <g id=\"xtick_3\">\r\n     <g id=\"line2d_3\">\r\n      <g>\r\n       <use style=\"stroke:#000000;stroke-width:0.8;\" x=\"204.709638\" xlink:href=\"#mfdcf11a07a\" y=\"239.758125\"/>\r\n      </g>\r\n     </g>\r\n     <g id=\"text_3\">\r\n      <!-- 40 -->\r\n      <defs>\r\n       <path d=\"M 37.796875 64.3125 \r\nL 12.890625 25.390625 \r\nL 37.796875 25.390625 \r\nz\r\nM 35.203125 72.90625 \r\nL 47.609375 72.90625 \r\nL 47.609375 25.390625 \r\nL 58.015625 25.390625 \r\nL 58.015625 17.1875 \r\nL 47.609375 17.1875 \r\nL 47.609375 0 \r\nL 37.796875 0 \r\nL 37.796875 17.1875 \r\nL 4.890625 17.1875 \r\nL 4.890625 26.703125 \r\nz\r\n\" id=\"DejaVuSans-52\"/>\r\n      </defs>\r\n      <g transform=\"translate(198.347138 254.356563)scale(0.1 -0.1)\">\r\n       <use xlink:href=\"#DejaVuSans-52\"/>\r\n       <use x=\"63.623047\" xlink:href=\"#DejaVuSans-48\"/>\r\n      </g>\r\n     </g>\r\n    </g>\r\n    <g id=\"xtick_4\">\r\n     <g id=\"line2d_4\">\r\n      <g>\r\n       <use style=\"stroke:#000000;stroke-width:0.8;\" x=\"275.628192\" xlink:href=\"#mfdcf11a07a\" y=\"239.758125\"/>\r\n      </g>\r\n     </g>\r\n     <g id=\"text_4\">\r\n      <!-- 60 -->\r\n      <defs>\r\n       <path d=\"M 33.015625 40.375 \r\nQ 26.375 40.375 22.484375 35.828125 \r\nQ 18.609375 31.296875 18.609375 23.390625 \r\nQ 18.609375 15.53125 22.484375 10.953125 \r\nQ 26.375 6.390625 33.015625 6.390625 \r\nQ 39.65625 6.390625 43.53125 10.953125 \r\nQ 47.40625 15.53125 47.40625 23.390625 \r\nQ 47.40625 31.296875 43.53125 35.828125 \r\nQ 39.65625 40.375 33.015625 40.375 \r\nz\r\nM 52.59375 71.296875 \r\nL 52.59375 62.3125 \r\nQ 48.875 64.0625 45.09375 64.984375 \r\nQ 41.3125 65.921875 37.59375 65.921875 \r\nQ 27.828125 65.921875 22.671875 59.328125 \r\nQ 17.53125 52.734375 16.796875 39.40625 \r\nQ 19.671875 43.65625 24.015625 45.921875 \r\nQ 28.375 48.1875 33.59375 48.1875 \r\nQ 44.578125 48.1875 50.953125 41.515625 \r\nQ 57.328125 34.859375 57.328125 23.390625 \r\nQ 57.328125 12.15625 50.6875 5.359375 \r\nQ 44.046875 -1.421875 33.015625 -1.421875 \r\nQ 20.359375 -1.421875 13.671875 8.265625 \r\nQ 6.984375 17.96875 6.984375 36.375 \r\nQ 6.984375 53.65625 15.1875 63.9375 \r\nQ 23.390625 74.21875 37.203125 74.21875 \r\nQ 40.921875 74.21875 44.703125 73.484375 \r\nQ 48.484375 72.75 52.59375 71.296875 \r\nz\r\n\" id=\"DejaVuSans-54\"/>\r\n      </defs>\r\n      <g transform=\"translate(269.265692 254.356563)scale(0.1 -0.1)\">\r\n       <use xlink:href=\"#DejaVuSans-54\"/>\r\n       <use x=\"63.623047\" xlink:href=\"#DejaVuSans-48\"/>\r\n      </g>\r\n     </g>\r\n    </g>\r\n    <g id=\"xtick_5\">\r\n     <g id=\"line2d_5\">\r\n      <g>\r\n       <use style=\"stroke:#000000;stroke-width:0.8;\" x=\"346.546747\" xlink:href=\"#mfdcf11a07a\" y=\"239.758125\"/>\r\n      </g>\r\n     </g>\r\n     <g id=\"text_5\">\r\n      <!-- 80 -->\r\n      <defs>\r\n       <path d=\"M 31.78125 34.625 \r\nQ 24.75 34.625 20.71875 30.859375 \r\nQ 16.703125 27.09375 16.703125 20.515625 \r\nQ 16.703125 13.921875 20.71875 10.15625 \r\nQ 24.75 6.390625 31.78125 6.390625 \r\nQ 38.8125 6.390625 42.859375 10.171875 \r\nQ 46.921875 13.96875 46.921875 20.515625 \r\nQ 46.921875 27.09375 42.890625 30.859375 \r\nQ 38.875 34.625 31.78125 34.625 \r\nz\r\nM 21.921875 38.8125 \r\nQ 15.578125 40.375 12.03125 44.71875 \r\nQ 8.5 49.078125 8.5 55.328125 \r\nQ 8.5 64.0625 14.71875 69.140625 \r\nQ 20.953125 74.21875 31.78125 74.21875 \r\nQ 42.671875 74.21875 48.875 69.140625 \r\nQ 55.078125 64.0625 55.078125 55.328125 \r\nQ 55.078125 49.078125 51.53125 44.71875 \r\nQ 48 40.375 41.703125 38.8125 \r\nQ 48.828125 37.15625 52.796875 32.3125 \r\nQ 56.78125 27.484375 56.78125 20.515625 \r\nQ 56.78125 9.90625 50.3125 4.234375 \r\nQ 43.84375 -1.421875 31.78125 -1.421875 \r\nQ 19.734375 -1.421875 13.25 4.234375 \r\nQ 6.78125 9.90625 6.78125 20.515625 \r\nQ 6.78125 27.484375 10.78125 32.3125 \r\nQ 14.796875 37.15625 21.921875 38.8125 \r\nz\r\nM 18.3125 54.390625 \r\nQ 18.3125 48.734375 21.84375 45.5625 \r\nQ 25.390625 42.390625 31.78125 42.390625 \r\nQ 38.140625 42.390625 41.71875 45.5625 \r\nQ 45.3125 48.734375 45.3125 54.390625 \r\nQ 45.3125 60.0625 41.71875 63.234375 \r\nQ 38.140625 66.40625 31.78125 66.40625 \r\nQ 25.390625 66.40625 21.84375 63.234375 \r\nQ 18.3125 60.0625 18.3125 54.390625 \r\nz\r\n\" id=\"DejaVuSans-56\"/>\r\n      </defs>\r\n      <g transform=\"translate(340.184247 254.356563)scale(0.1 -0.1)\">\r\n       <use xlink:href=\"#DejaVuSans-56\"/>\r\n       <use x=\"63.623047\" xlink:href=\"#DejaVuSans-48\"/>\r\n      </g>\r\n     </g>\r\n    </g>\r\n   </g>\r\n   <g id=\"matplotlib.axis_2\">\r\n    <g id=\"ytick_1\">\r\n     <g id=\"line2d_6\">\r\n      <defs>\r\n       <path d=\"M 0 0 \r\nL -3.5 0 \r\n\" id=\"mef2c3412e9\" style=\"stroke:#000000;stroke-width:0.8;\"/>\r\n      </defs>\r\n      <g>\r\n       <use style=\"stroke:#000000;stroke-width:0.8;\" x=\"44.845313\" xlink:href=\"#mef2c3412e9\" y=\"214.641882\"/>\r\n      </g>\r\n     </g>\r\n     <g id=\"text_6\">\r\n      <!-- −15.0 -->\r\n      <defs>\r\n       <path d=\"M 10.59375 35.5 \r\nL 73.1875 35.5 \r\nL 73.1875 27.203125 \r\nL 10.59375 27.203125 \r\nz\r\n\" id=\"DejaVuSans-8722\"/>\r\n       <path d=\"M 12.40625 8.296875 \r\nL 28.515625 8.296875 \r\nL 28.515625 63.921875 \r\nL 10.984375 60.40625 \r\nL 10.984375 69.390625 \r\nL 28.421875 72.90625 \r\nL 38.28125 72.90625 \r\nL 38.28125 8.296875 \r\nL 54.390625 8.296875 \r\nL 54.390625 0 \r\nL 12.40625 0 \r\nz\r\n\" id=\"DejaVuSans-49\"/>\r\n       <path d=\"M 10.796875 72.90625 \r\nL 49.515625 72.90625 \r\nL 49.515625 64.59375 \r\nL 19.828125 64.59375 \r\nL 19.828125 46.734375 \r\nQ 21.96875 47.46875 24.109375 47.828125 \r\nQ 26.265625 48.1875 28.421875 48.1875 \r\nQ 40.625 48.1875 47.75 41.5 \r\nQ 54.890625 34.8125 54.890625 23.390625 \r\nQ 54.890625 11.625 47.5625 5.09375 \r\nQ 40.234375 -1.421875 26.90625 -1.421875 \r\nQ 22.3125 -1.421875 17.546875 -0.640625 \r\nQ 12.796875 0.140625 7.71875 1.703125 \r\nL 7.71875 11.625 \r\nQ 12.109375 9.234375 16.796875 8.0625 \r\nQ 21.484375 6.890625 26.703125 6.890625 \r\nQ 35.15625 6.890625 40.078125 11.328125 \r\nQ 45.015625 15.765625 45.015625 23.390625 \r\nQ 45.015625 31 40.078125 35.4375 \r\nQ 35.15625 39.890625 26.703125 39.890625 \r\nQ 22.75 39.890625 18.8125 39.015625 \r\nQ 14.890625 38.140625 10.796875 36.28125 \r\nz\r\n\" id=\"DejaVuSans-53\"/>\r\n       <path d=\"M 10.6875 12.40625 \r\nL 21 12.40625 \r\nL 21 0 \r\nL 10.6875 0 \r\nz\r\n\" id=\"DejaVuSans-46\"/>\r\n      </defs>\r\n      <g transform=\"translate(7.2 218.441101)scale(0.1 -0.1)\">\r\n       <use xlink:href=\"#DejaVuSans-8722\"/>\r\n       <use x=\"83.789062\" xlink:href=\"#DejaVuSans-49\"/>\r\n       <use x=\"147.412109\" xlink:href=\"#DejaVuSans-53\"/>\r\n       <use x=\"211.035156\" xlink:href=\"#DejaVuSans-46\"/>\r\n       <use x=\"242.822266\" xlink:href=\"#DejaVuSans-48\"/>\r\n      </g>\r\n     </g>\r\n    </g>\r\n    <g id=\"ytick_2\">\r\n     <g id=\"line2d_7\">\r\n      <g>\r\n       <use style=\"stroke:#000000;stroke-width:0.8;\" x=\"44.845313\" xlink:href=\"#mef2c3412e9\" y=\"186.000506\"/>\r\n      </g>\r\n     </g>\r\n     <g id=\"text_7\">\r\n      <!-- −12.5 -->\r\n      <g transform=\"translate(7.2 189.799725)scale(0.1 -0.1)\">\r\n       <use xlink:href=\"#DejaVuSans-8722\"/>\r\n       <use x=\"83.789062\" xlink:href=\"#DejaVuSans-49\"/>\r\n       <use x=\"147.412109\" xlink:href=\"#DejaVuSans-50\"/>\r\n       <use x=\"211.035156\" xlink:href=\"#DejaVuSans-46\"/>\r\n       <use x=\"242.822266\" xlink:href=\"#DejaVuSans-53\"/>\r\n      </g>\r\n     </g>\r\n    </g>\r\n    <g id=\"ytick_3\">\r\n     <g id=\"line2d_8\">\r\n      <g>\r\n       <use style=\"stroke:#000000;stroke-width:0.8;\" x=\"44.845313\" xlink:href=\"#mef2c3412e9\" y=\"157.359131\"/>\r\n      </g>\r\n     </g>\r\n     <g id=\"text_8\">\r\n      <!-- −10.0 -->\r\n      <g transform=\"translate(7.2 161.158349)scale(0.1 -0.1)\">\r\n       <use xlink:href=\"#DejaVuSans-8722\"/>\r\n       <use x=\"83.789062\" xlink:href=\"#DejaVuSans-49\"/>\r\n       <use x=\"147.412109\" xlink:href=\"#DejaVuSans-48\"/>\r\n       <use x=\"211.035156\" xlink:href=\"#DejaVuSans-46\"/>\r\n       <use x=\"242.822266\" xlink:href=\"#DejaVuSans-48\"/>\r\n      </g>\r\n     </g>\r\n    </g>\r\n    <g id=\"ytick_4\">\r\n     <g id=\"line2d_9\">\r\n      <g>\r\n       <use style=\"stroke:#000000;stroke-width:0.8;\" x=\"44.845313\" xlink:href=\"#mef2c3412e9\" y=\"128.717755\"/>\r\n      </g>\r\n     </g>\r\n     <g id=\"text_9\">\r\n      <!-- −7.5 -->\r\n      <defs>\r\n       <path d=\"M 8.203125 72.90625 \r\nL 55.078125 72.90625 \r\nL 55.078125 68.703125 \r\nL 28.609375 0 \r\nL 18.3125 0 \r\nL 43.21875 64.59375 \r\nL 8.203125 64.59375 \r\nz\r\n\" id=\"DejaVuSans-55\"/>\r\n      </defs>\r\n      <g transform=\"translate(13.5625 132.516974)scale(0.1 -0.1)\">\r\n       <use xlink:href=\"#DejaVuSans-8722\"/>\r\n       <use x=\"83.789062\" xlink:href=\"#DejaVuSans-55\"/>\r\n       <use x=\"147.412109\" xlink:href=\"#DejaVuSans-46\"/>\r\n       <use x=\"179.199219\" xlink:href=\"#DejaVuSans-53\"/>\r\n      </g>\r\n     </g>\r\n    </g>\r\n    <g id=\"ytick_5\">\r\n     <g id=\"line2d_10\">\r\n      <g>\r\n       <use style=\"stroke:#000000;stroke-width:0.8;\" x=\"44.845313\" xlink:href=\"#mef2c3412e9\" y=\"100.076379\"/>\r\n      </g>\r\n     </g>\r\n     <g id=\"text_10\">\r\n      <!-- −5.0 -->\r\n      <g transform=\"translate(13.5625 103.875598)scale(0.1 -0.1)\">\r\n       <use xlink:href=\"#DejaVuSans-8722\"/>\r\n       <use x=\"83.789062\" xlink:href=\"#DejaVuSans-53\"/>\r\n       <use x=\"147.412109\" xlink:href=\"#DejaVuSans-46\"/>\r\n       <use x=\"179.199219\" xlink:href=\"#DejaVuSans-48\"/>\r\n      </g>\r\n     </g>\r\n    </g>\r\n    <g id=\"ytick_6\">\r\n     <g id=\"line2d_11\">\r\n      <g>\r\n       <use style=\"stroke:#000000;stroke-width:0.8;\" x=\"44.845313\" xlink:href=\"#mef2c3412e9\" y=\"71.435003\"/>\r\n      </g>\r\n     </g>\r\n     <g id=\"text_11\">\r\n      <!-- −2.5 -->\r\n      <g transform=\"translate(13.5625 75.234222)scale(0.1 -0.1)\">\r\n       <use xlink:href=\"#DejaVuSans-8722\"/>\r\n       <use x=\"83.789062\" xlink:href=\"#DejaVuSans-50\"/>\r\n       <use x=\"147.412109\" xlink:href=\"#DejaVuSans-46\"/>\r\n       <use x=\"179.199219\" xlink:href=\"#DejaVuSans-53\"/>\r\n      </g>\r\n     </g>\r\n    </g>\r\n    <g id=\"ytick_7\">\r\n     <g id=\"line2d_12\">\r\n      <g>\r\n       <use style=\"stroke:#000000;stroke-width:0.8;\" x=\"44.845313\" xlink:href=\"#mef2c3412e9\" y=\"42.793628\"/>\r\n      </g>\r\n     </g>\r\n     <g id=\"text_12\">\r\n      <!-- 0.0 -->\r\n      <g transform=\"translate(21.942188 46.592846)scale(0.1 -0.1)\">\r\n       <use xlink:href=\"#DejaVuSans-48\"/>\r\n       <use x=\"63.623047\" xlink:href=\"#DejaVuSans-46\"/>\r\n       <use x=\"95.410156\" xlink:href=\"#DejaVuSans-48\"/>\r\n      </g>\r\n     </g>\r\n    </g>\r\n   </g>\r\n   <g id=\"patch_3\">\r\n    <path d=\"M 44.845313 239.758125 \r\nL 44.845313 22.318125 \r\n\" style=\"fill:none;stroke:#000000;stroke-linecap:square;stroke-linejoin:miter;stroke-width:0.8;\"/>\r\n   </g>\r\n   <g id=\"patch_4\">\r\n    <path d=\"M 379.645313 239.758125 \r\nL 379.645313 22.318125 \r\n\" style=\"fill:none;stroke:#000000;stroke-linecap:square;stroke-linejoin:miter;stroke-width:0.8;\"/>\r\n   </g>\r\n   <g id=\"patch_5\">\r\n    <path d=\"M 44.845313 239.758125 \r\nL 379.645313 239.758125 \r\n\" style=\"fill:none;stroke:#000000;stroke-linecap:square;stroke-linejoin:miter;stroke-width:0.8;\"/>\r\n   </g>\r\n   <g id=\"patch_6\">\r\n    <path d=\"M 44.845313 22.318125 \r\nL 379.645313 22.318125 \r\n\" style=\"fill:none;stroke:#000000;stroke-linecap:square;stroke-linejoin:miter;stroke-width:0.8;\"/>\r\n   </g>\r\n   <g id=\"text_13\">\r\n    <!-- trajectories -->\r\n    <defs>\r\n     <path d=\"M 18.3125 70.21875 \r\nL 18.3125 54.6875 \r\nL 36.8125 54.6875 \r\nL 36.8125 47.703125 \r\nL 18.3125 47.703125 \r\nL 18.3125 18.015625 \r\nQ 18.3125 11.328125 20.140625 9.421875 \r\nQ 21.96875 7.515625 27.59375 7.515625 \r\nL 36.8125 7.515625 \r\nL 36.8125 0 \r\nL 27.59375 0 \r\nQ 17.1875 0 13.234375 3.875 \r\nQ 9.28125 7.765625 9.28125 18.015625 \r\nL 9.28125 47.703125 \r\nL 2.6875 47.703125 \r\nL 2.6875 54.6875 \r\nL 9.28125 54.6875 \r\nL 9.28125 70.21875 \r\nz\r\n\" id=\"DejaVuSans-116\"/>\r\n     <path d=\"M 41.109375 46.296875 \r\nQ 39.59375 47.171875 37.8125 47.578125 \r\nQ 36.03125 48 33.890625 48 \r\nQ 26.265625 48 22.1875 43.046875 \r\nQ 18.109375 38.09375 18.109375 28.8125 \r\nL 18.109375 0 \r\nL 9.078125 0 \r\nL 9.078125 54.6875 \r\nL 18.109375 54.6875 \r\nL 18.109375 46.1875 \r\nQ 20.953125 51.171875 25.484375 53.578125 \r\nQ 30.03125 56 36.53125 56 \r\nQ 37.453125 56 38.578125 55.875 \r\nQ 39.703125 55.765625 41.0625 55.515625 \r\nz\r\n\" id=\"DejaVuSans-114\"/>\r\n     <path d=\"M 34.28125 27.484375 \r\nQ 23.390625 27.484375 19.1875 25 \r\nQ 14.984375 22.515625 14.984375 16.5 \r\nQ 14.984375 11.71875 18.140625 8.90625 \r\nQ 21.296875 6.109375 26.703125 6.109375 \r\nQ 34.1875 6.109375 38.703125 11.40625 \r\nQ 43.21875 16.703125 43.21875 25.484375 \r\nL 43.21875 27.484375 \r\nz\r\nM 52.203125 31.203125 \r\nL 52.203125 0 \r\nL 43.21875 0 \r\nL 43.21875 8.296875 \r\nQ 40.140625 3.328125 35.546875 0.953125 \r\nQ 30.953125 -1.421875 24.3125 -1.421875 \r\nQ 15.921875 -1.421875 10.953125 3.296875 \r\nQ 6 8.015625 6 15.921875 \r\nQ 6 25.140625 12.171875 29.828125 \r\nQ 18.359375 34.515625 30.609375 34.515625 \r\nL 43.21875 34.515625 \r\nL 43.21875 35.40625 \r\nQ 43.21875 41.609375 39.140625 45 \r\nQ 35.0625 48.390625 27.6875 48.390625 \r\nQ 23 48.390625 18.546875 47.265625 \r\nQ 14.109375 46.140625 10.015625 43.890625 \r\nL 10.015625 52.203125 \r\nQ 14.9375 54.109375 19.578125 55.046875 \r\nQ 24.21875 56 28.609375 56 \r\nQ 40.484375 56 46.34375 49.84375 \r\nQ 52.203125 43.703125 52.203125 31.203125 \r\nz\r\n\" id=\"DejaVuSans-97\"/>\r\n     <path d=\"M 9.421875 54.6875 \r\nL 18.40625 54.6875 \r\nL 18.40625 -0.984375 \r\nQ 18.40625 -11.421875 14.421875 -16.109375 \r\nQ 10.453125 -20.796875 1.609375 -20.796875 \r\nL -1.8125 -20.796875 \r\nL -1.8125 -13.1875 \r\nL 0.59375 -13.1875 \r\nQ 5.71875 -13.1875 7.5625 -10.8125 \r\nQ 9.421875 -8.453125 9.421875 -0.984375 \r\nz\r\nM 9.421875 75.984375 \r\nL 18.40625 75.984375 \r\nL 18.40625 64.59375 \r\nL 9.421875 64.59375 \r\nz\r\n\" id=\"DejaVuSans-106\"/>\r\n     <path d=\"M 56.203125 29.59375 \r\nL 56.203125 25.203125 \r\nL 14.890625 25.203125 \r\nQ 15.484375 15.921875 20.484375 11.0625 \r\nQ 25.484375 6.203125 34.421875 6.203125 \r\nQ 39.59375 6.203125 44.453125 7.46875 \r\nQ 49.3125 8.734375 54.109375 11.28125 \r\nL 54.109375 2.78125 \r\nQ 49.265625 0.734375 44.1875 -0.34375 \r\nQ 39.109375 -1.421875 33.890625 -1.421875 \r\nQ 20.796875 -1.421875 13.15625 6.1875 \r\nQ 5.515625 13.8125 5.515625 26.8125 \r\nQ 5.515625 40.234375 12.765625 48.109375 \r\nQ 20.015625 56 32.328125 56 \r\nQ 43.359375 56 49.78125 48.890625 \r\nQ 56.203125 41.796875 56.203125 29.59375 \r\nz\r\nM 47.21875 32.234375 \r\nQ 47.125 39.59375 43.09375 43.984375 \r\nQ 39.0625 48.390625 32.421875 48.390625 \r\nQ 24.90625 48.390625 20.390625 44.140625 \r\nQ 15.875 39.890625 15.1875 32.171875 \r\nz\r\n\" id=\"DejaVuSans-101\"/>\r\n     <path d=\"M 48.78125 52.59375 \r\nL 48.78125 44.1875 \r\nQ 44.96875 46.296875 41.140625 47.34375 \r\nQ 37.3125 48.390625 33.40625 48.390625 \r\nQ 24.65625 48.390625 19.8125 42.84375 \r\nQ 14.984375 37.3125 14.984375 27.296875 \r\nQ 14.984375 17.28125 19.8125 11.734375 \r\nQ 24.65625 6.203125 33.40625 6.203125 \r\nQ 37.3125 6.203125 41.140625 7.25 \r\nQ 44.96875 8.296875 48.78125 10.40625 \r\nL 48.78125 2.09375 \r\nQ 45.015625 0.34375 40.984375 -0.53125 \r\nQ 36.96875 -1.421875 32.421875 -1.421875 \r\nQ 20.0625 -1.421875 12.78125 6.34375 \r\nQ 5.515625 14.109375 5.515625 27.296875 \r\nQ 5.515625 40.671875 12.859375 48.328125 \r\nQ 20.21875 56 33.015625 56 \r\nQ 37.15625 56 41.109375 55.140625 \r\nQ 45.0625 54.296875 48.78125 52.59375 \r\nz\r\n\" id=\"DejaVuSans-99\"/>\r\n     <path d=\"M 30.609375 48.390625 \r\nQ 23.390625 48.390625 19.1875 42.75 \r\nQ 14.984375 37.109375 14.984375 27.296875 \r\nQ 14.984375 17.484375 19.15625 11.84375 \r\nQ 23.34375 6.203125 30.609375 6.203125 \r\nQ 37.796875 6.203125 41.984375 11.859375 \r\nQ 46.1875 17.53125 46.1875 27.296875 \r\nQ 46.1875 37.015625 41.984375 42.703125 \r\nQ 37.796875 48.390625 30.609375 48.390625 \r\nz\r\nM 30.609375 56 \r\nQ 42.328125 56 49.015625 48.375 \r\nQ 55.71875 40.765625 55.71875 27.296875 \r\nQ 55.71875 13.875 49.015625 6.21875 \r\nQ 42.328125 -1.421875 30.609375 -1.421875 \r\nQ 18.84375 -1.421875 12.171875 6.21875 \r\nQ 5.515625 13.875 5.515625 27.296875 \r\nQ 5.515625 40.765625 12.171875 48.375 \r\nQ 18.84375 56 30.609375 56 \r\nz\r\n\" id=\"DejaVuSans-111\"/>\r\n     <path d=\"M 9.421875 54.6875 \r\nL 18.40625 54.6875 \r\nL 18.40625 0 \r\nL 9.421875 0 \r\nz\r\nM 9.421875 75.984375 \r\nL 18.40625 75.984375 \r\nL 18.40625 64.59375 \r\nL 9.421875 64.59375 \r\nz\r\n\" id=\"DejaVuSans-105\"/>\r\n     <path d=\"M 44.28125 53.078125 \r\nL 44.28125 44.578125 \r\nQ 40.484375 46.53125 36.375 47.5 \r\nQ 32.28125 48.484375 27.875 48.484375 \r\nQ 21.1875 48.484375 17.84375 46.4375 \r\nQ 14.5 44.390625 14.5 40.28125 \r\nQ 14.5 37.15625 16.890625 35.375 \r\nQ 19.28125 33.59375 26.515625 31.984375 \r\nL 29.59375 31.296875 \r\nQ 39.15625 29.25 43.1875 25.515625 \r\nQ 47.21875 21.78125 47.21875 15.09375 \r\nQ 47.21875 7.46875 41.1875 3.015625 \r\nQ 35.15625 -1.421875 24.609375 -1.421875 \r\nQ 20.21875 -1.421875 15.453125 -0.5625 \r\nQ 10.6875 0.296875 5.421875 2 \r\nL 5.421875 11.28125 \r\nQ 10.40625 8.6875 15.234375 7.390625 \r\nQ 20.0625 6.109375 24.8125 6.109375 \r\nQ 31.15625 6.109375 34.5625 8.28125 \r\nQ 37.984375 10.453125 37.984375 14.40625 \r\nQ 37.984375 18.0625 35.515625 20.015625 \r\nQ 33.0625 21.96875 24.703125 23.78125 \r\nL 21.578125 24.515625 \r\nQ 13.234375 26.265625 9.515625 29.90625 \r\nQ 5.8125 33.546875 5.8125 39.890625 \r\nQ 5.8125 47.609375 11.28125 51.796875 \r\nQ 16.75 56 26.8125 56 \r\nQ 31.78125 56 36.171875 55.265625 \r\nQ 40.578125 54.546875 44.28125 53.078125 \r\nz\r\n\" id=\"DejaVuSans-115\"/>\r\n    </defs>\r\n    <g transform=\"translate(178.1175 16.318125)scale(0.12 -0.12)\">\r\n     <use xlink:href=\"#DejaVuSans-116\"/>\r\n     <use x=\"39.208984\" xlink:href=\"#DejaVuSans-114\"/>\r\n     <use x=\"80.322266\" xlink:href=\"#DejaVuSans-97\"/>\r\n     <use x=\"141.601562\" xlink:href=\"#DejaVuSans-106\"/>\r\n     <use x=\"169.384766\" xlink:href=\"#DejaVuSans-101\"/>\r\n     <use x=\"230.908203\" xlink:href=\"#DejaVuSans-99\"/>\r\n     <use x=\"285.888672\" xlink:href=\"#DejaVuSans-116\"/>\r\n     <use x=\"325.097656\" xlink:href=\"#DejaVuSans-111\"/>\r\n     <use x=\"386.279297\" xlink:href=\"#DejaVuSans-114\"/>\r\n     <use x=\"427.392578\" xlink:href=\"#DejaVuSans-105\"/>\r\n     <use x=\"455.175781\" xlink:href=\"#DejaVuSans-101\"/>\r\n     <use x=\"516.699219\" xlink:href=\"#DejaVuSans-115\"/>\r\n    </g>\r\n   </g>\r\n   <g id=\"legend_1\">\r\n    <g id=\"patch_7\">\r\n     <path d=\"M 290.576563 89.030625 \r\nL 372.645313 89.030625 \r\nQ 374.645313 89.030625 374.645313 87.030625 \r\nL 374.645313 29.318125 \r\nQ 374.645313 27.318125 372.645313 27.318125 \r\nL 290.576563 27.318125 \r\nQ 288.576563 27.318125 288.576563 29.318125 \r\nL 288.576563 87.030625 \r\nQ 288.576563 89.030625 290.576563 89.030625 \r\nz\r\n\" style=\"fill:#ffffff;opacity:0.8;stroke:#cccccc;stroke-linejoin:miter;\"/>\r\n    </g>\r\n    <g id=\"PathCollection_5\">\r\n     <g>\r\n      <use style=\"fill:#ff0000;stroke:#ff0000;\" x=\"302.576563\" xlink:href=\"#mc5d096b040\" y=\"36.291562\"/>\r\n     </g>\r\n    </g>\r\n    <g id=\"text_14\">\r\n     <!-- Prediction -->\r\n     <defs>\r\n      <path d=\"M 19.671875 64.796875 \r\nL 19.671875 37.40625 \r\nL 32.078125 37.40625 \r\nQ 38.96875 37.40625 42.71875 40.96875 \r\nQ 46.484375 44.53125 46.484375 51.125 \r\nQ 46.484375 57.671875 42.71875 61.234375 \r\nQ 38.96875 64.796875 32.078125 64.796875 \r\nz\r\nM 9.8125 72.90625 \r\nL 32.078125 72.90625 \r\nQ 44.34375 72.90625 50.609375 67.359375 \r\nQ 56.890625 61.8125 56.890625 51.125 \r\nQ 56.890625 40.328125 50.609375 34.8125 \r\nQ 44.34375 29.296875 32.078125 29.296875 \r\nL 19.671875 29.296875 \r\nL 19.671875 0 \r\nL 9.8125 0 \r\nz\r\n\" id=\"DejaVuSans-80\"/>\r\n      <path d=\"M 45.40625 46.390625 \r\nL 45.40625 75.984375 \r\nL 54.390625 75.984375 \r\nL 54.390625 0 \r\nL 45.40625 0 \r\nL 45.40625 8.203125 \r\nQ 42.578125 3.328125 38.25 0.953125 \r\nQ 33.9375 -1.421875 27.875 -1.421875 \r\nQ 17.96875 -1.421875 11.734375 6.484375 \r\nQ 5.515625 14.40625 5.515625 27.296875 \r\nQ 5.515625 40.1875 11.734375 48.09375 \r\nQ 17.96875 56 27.875 56 \r\nQ 33.9375 56 38.25 53.625 \r\nQ 42.578125 51.265625 45.40625 46.390625 \r\nz\r\nM 14.796875 27.296875 \r\nQ 14.796875 17.390625 18.875 11.75 \r\nQ 22.953125 6.109375 30.078125 6.109375 \r\nQ 37.203125 6.109375 41.296875 11.75 \r\nQ 45.40625 17.390625 45.40625 27.296875 \r\nQ 45.40625 37.203125 41.296875 42.84375 \r\nQ 37.203125 48.484375 30.078125 48.484375 \r\nQ 22.953125 48.484375 18.875 42.84375 \r\nQ 14.796875 37.203125 14.796875 27.296875 \r\nz\r\n\" id=\"DejaVuSans-100\"/>\r\n      <path d=\"M 54.890625 33.015625 \r\nL 54.890625 0 \r\nL 45.90625 0 \r\nL 45.90625 32.71875 \r\nQ 45.90625 40.484375 42.875 44.328125 \r\nQ 39.84375 48.1875 33.796875 48.1875 \r\nQ 26.515625 48.1875 22.3125 43.546875 \r\nQ 18.109375 38.921875 18.109375 30.90625 \r\nL 18.109375 0 \r\nL 9.078125 0 \r\nL 9.078125 54.6875 \r\nL 18.109375 54.6875 \r\nL 18.109375 46.1875 \r\nQ 21.34375 51.125 25.703125 53.5625 \r\nQ 30.078125 56 35.796875 56 \r\nQ 45.21875 56 50.046875 50.171875 \r\nQ 54.890625 44.34375 54.890625 33.015625 \r\nz\r\n\" id=\"DejaVuSans-110\"/>\r\n     </defs>\r\n     <g transform=\"translate(320.576563 38.916562)scale(0.1 -0.1)\">\r\n      <use xlink:href=\"#DejaVuSans-80\"/>\r\n      <use x=\"60.287109\" xlink:href=\"#DejaVuSans-114\"/>\r\n      <use x=\"101.369141\" xlink:href=\"#DejaVuSans-101\"/>\r\n      <use x=\"162.892578\" xlink:href=\"#DejaVuSans-100\"/>\r\n      <use x=\"226.369141\" xlink:href=\"#DejaVuSans-105\"/>\r\n      <use x=\"254.152344\" xlink:href=\"#DejaVuSans-99\"/>\r\n      <use x=\"309.132812\" xlink:href=\"#DejaVuSans-116\"/>\r\n      <use x=\"348.341797\" xlink:href=\"#DejaVuSans-105\"/>\r\n      <use x=\"376.125\" xlink:href=\"#DejaVuSans-111\"/>\r\n      <use x=\"437.306641\" xlink:href=\"#DejaVuSans-110\"/>\r\n     </g>\r\n    </g>\r\n    <g id=\"PathCollection_6\">\r\n     <g>\r\n      <use style=\"fill:#0000ff;stroke:#0000ff;\" x=\"302.576563\" xlink:href=\"#m47e987aae4\" y=\"50.969687\"/>\r\n     </g>\r\n    </g>\r\n    <g id=\"text_15\">\r\n     <!-- Real -->\r\n     <defs>\r\n      <path d=\"M 44.390625 34.1875 \r\nQ 47.5625 33.109375 50.5625 29.59375 \r\nQ 53.5625 26.078125 56.59375 19.921875 \r\nL 66.609375 0 \r\nL 56 0 \r\nL 46.6875 18.703125 \r\nQ 43.0625 26.03125 39.671875 28.421875 \r\nQ 36.28125 30.8125 30.421875 30.8125 \r\nL 19.671875 30.8125 \r\nL 19.671875 0 \r\nL 9.8125 0 \r\nL 9.8125 72.90625 \r\nL 32.078125 72.90625 \r\nQ 44.578125 72.90625 50.734375 67.671875 \r\nQ 56.890625 62.453125 56.890625 51.90625 \r\nQ 56.890625 45.015625 53.6875 40.46875 \r\nQ 50.484375 35.9375 44.390625 34.1875 \r\nz\r\nM 19.671875 64.796875 \r\nL 19.671875 38.921875 \r\nL 32.078125 38.921875 \r\nQ 39.203125 38.921875 42.84375 42.21875 \r\nQ 46.484375 45.515625 46.484375 51.90625 \r\nQ 46.484375 58.296875 42.84375 61.546875 \r\nQ 39.203125 64.796875 32.078125 64.796875 \r\nz\r\n\" id=\"DejaVuSans-82\"/>\r\n      <path d=\"M 9.421875 75.984375 \r\nL 18.40625 75.984375 \r\nL 18.40625 0 \r\nL 9.421875 0 \r\nz\r\n\" id=\"DejaVuSans-108\"/>\r\n     </defs>\r\n     <g transform=\"translate(320.576563 53.594687)scale(0.1 -0.1)\">\r\n      <use xlink:href=\"#DejaVuSans-82\"/>\r\n      <use x=\"69.419922\" xlink:href=\"#DejaVuSans-101\"/>\r\n      <use x=\"130.943359\" xlink:href=\"#DejaVuSans-97\"/>\r\n      <use x=\"192.222656\" xlink:href=\"#DejaVuSans-108\"/>\r\n     </g>\r\n    </g>\r\n    <g id=\"PathCollection_7\">\r\n     <g>\r\n      <use style=\"fill:#008000;stroke:#008000;\" x=\"302.576563\" xlink:href=\"#mbc62c5a535\" y=\"65.647812\"/>\r\n     </g>\r\n    </g>\r\n    <g id=\"text_16\">\r\n     <!-- Target -->\r\n     <defs>\r\n      <path d=\"M -0.296875 72.90625 \r\nL 61.375 72.90625 \r\nL 61.375 64.59375 \r\nL 35.5 64.59375 \r\nL 35.5 0 \r\nL 25.59375 0 \r\nL 25.59375 64.59375 \r\nL -0.296875 64.59375 \r\nz\r\n\" id=\"DejaVuSans-84\"/>\r\n      <path d=\"M 45.40625 27.984375 \r\nQ 45.40625 37.75 41.375 43.109375 \r\nQ 37.359375 48.484375 30.078125 48.484375 \r\nQ 22.859375 48.484375 18.828125 43.109375 \r\nQ 14.796875 37.75 14.796875 27.984375 \r\nQ 14.796875 18.265625 18.828125 12.890625 \r\nQ 22.859375 7.515625 30.078125 7.515625 \r\nQ 37.359375 7.515625 41.375 12.890625 \r\nQ 45.40625 18.265625 45.40625 27.984375 \r\nz\r\nM 54.390625 6.78125 \r\nQ 54.390625 -7.171875 48.1875 -13.984375 \r\nQ 42 -20.796875 29.203125 -20.796875 \r\nQ 24.46875 -20.796875 20.265625 -20.09375 \r\nQ 16.0625 -19.390625 12.109375 -17.921875 \r\nL 12.109375 -9.1875 \r\nQ 16.0625 -11.328125 19.921875 -12.34375 \r\nQ 23.78125 -13.375 27.78125 -13.375 \r\nQ 36.625 -13.375 41.015625 -8.765625 \r\nQ 45.40625 -4.15625 45.40625 5.171875 \r\nL 45.40625 9.625 \r\nQ 42.625 4.78125 38.28125 2.390625 \r\nQ 33.9375 0 27.875 0 \r\nQ 17.828125 0 11.671875 7.65625 \r\nQ 5.515625 15.328125 5.515625 27.984375 \r\nQ 5.515625 40.671875 11.671875 48.328125 \r\nQ 17.828125 56 27.875 56 \r\nQ 33.9375 56 38.28125 53.609375 \r\nQ 42.625 51.21875 45.40625 46.390625 \r\nL 45.40625 54.6875 \r\nL 54.390625 54.6875 \r\nz\r\n\" id=\"DejaVuSans-103\"/>\r\n     </defs>\r\n     <g transform=\"translate(320.576563 68.272812)scale(0.1 -0.1)\">\r\n      <use xlink:href=\"#DejaVuSans-84\"/>\r\n      <use x=\"60.833984\" xlink:href=\"#DejaVuSans-97\"/>\r\n      <use x=\"122.113281\" xlink:href=\"#DejaVuSans-114\"/>\r\n      <use x=\"163.210938\" xlink:href=\"#DejaVuSans-103\"/>\r\n      <use x=\"226.6875\" xlink:href=\"#DejaVuSans-101\"/>\r\n      <use x=\"288.210938\" xlink:href=\"#DejaVuSans-116\"/>\r\n     </g>\r\n    </g>\r\n    <g id=\"PathCollection_8\">\r\n     <g>\r\n      <use style=\"fill:#bfbf00;stroke:#bfbf00;\" x=\"302.576563\" xlink:href=\"#m35804ff69e\" y=\"80.325938\"/>\r\n     </g>\r\n    </g>\r\n    <g id=\"text_17\">\r\n     <!-- start -->\r\n     <g transform=\"translate(320.576563 82.950938)scale(0.1 -0.1)\">\r\n      <use xlink:href=\"#DejaVuSans-115\"/>\r\n      <use x=\"52.099609\" xlink:href=\"#DejaVuSans-116\"/>\r\n      <use x=\"91.308594\" xlink:href=\"#DejaVuSans-97\"/>\r\n      <use x=\"152.587891\" xlink:href=\"#DejaVuSans-114\"/>\r\n      <use x=\"193.701172\" xlink:href=\"#DejaVuSans-116\"/>\r\n     </g>\r\n    </g>\r\n   </g>\r\n  </g>\r\n </g>\r\n <defs>\r\n  <clipPath id=\"pde8e09ec7a\">\r\n   <rect height=\"217.44\" width=\"334.8\" x=\"44.845313\" y=\"22.318125\"/>\r\n  </clipPath>\r\n </defs>\r\n</svg>\r\n",
      "image/png": "[encoded data removed]"
     },
     "metadata": {
      "needs_background": "light"
     }
    }
   ],
   "source": [
    "t_number = 22\n",
    "S_Trajectory_prediction=x_val_single_sequential[t_number,0,:]\n",
    "S_Trajectory_prediction = np.reshape(S_Trajectory_prediction, (1,1,6))\n",
    "\n",
    "for i in range(20):\n",
    "\n",
    "    dummy_trajectory=single_step_sequential_model.predict(S_Trajectory_prediction)\n",
    "    last_step = np.reshape(dummy_trajectory[:,-1,:],(1,1,6))\n",
    "\n",
    "    if  (last_step[0,0,0] <= 0.01):\n",
    "        last_step[0,0,0] = 0\n",
    "        S_Trajectory_prediction=np.append(S_Trajectory_prediction, last_step, axis=1)\n",
    "        break\n",
    "    S_Trajectory_prediction=np.append(S_Trajectory_prediction, last_step, axis=1)\n",
    "\n",
    "New_trajectory = np.squeeze(S_Trajectory_prediction)\n",
    "\n",
    "Trajectory_prediction_denorm = np.apply_along_axis(denorm,1,New_trajectory,data_stats)\n",
    "\n",
    "y_val_denorm = np.apply_along_axis(denorm,1,y_val_single_sequential[t_number],data_stats)\n",
    "\n",
    "x_val_denorm = np.apply_along_axis(denorm,1,x_val_single_sequential[t_number],data_stats)\n",
    "\n",
    "min_len = min(len(y_val_denorm),len(Trajectory_prediction_denorm[1:]))\n",
    "\n",
    "mse =sklearn.metrics.mean_squared_error(y_val_denorm[:min_len,0:2], Trajectory_prediction_denorm[1:min_len+1,0:2])\n",
    "\n",
    "print(mse)\n",
    "\n",
    "\n",
    "plt.figure()\n",
    "\n",
    "plt.scatter(Trajectory_prediction_denorm[1:,0], Trajectory_prediction_denorm[1:,1], c='r', label='Prediction')\n",
    "plt.scatter(y_val_denorm[:,0], y_val_denorm[:,1], c='b', label='Real')\n",
    "plt.scatter(ZT_norm[0],ZT_norm[1], c='g', label='Target')\n",
    "plt.scatter(x_val_denorm[0,0], x_val_denorm[0,1], c='y', label='start')\n",
    "plt.title(\"trajectories\")\n",
    "plt.legend()\n",
    "\n",
    "plt.show()\n"
   ]
  },
  {
   "cell_type": "code",
   "execution_count": 23,
   "metadata": {},
   "outputs": [],
   "source": [
    "def generate_trajectory_Decoder(model, start, target, initial_action, data_stats):\n",
    "\n",
    "    model.reset_states()\n",
    "\n",
    "    # initialize cost\n",
    "    cost = 0\n",
    "\n",
    "    # Empty vector to store the actions\n",
    "    actions = []\n",
    "\n",
    "    #initialize action vector\n",
    "    actions.append(initial_action)\n",
    "\n",
    "    # First point is the initial distance\n",
    "\n",
    "    # Compute the initial distance\n",
    "    distance_long = target - start\n",
    "    \n",
    "    # normalize to get the Neuronal Network input\n",
    "    distance = norm(distance_long[0:6], data_stats)\n",
    "    trajectory_generated = tf.expand_dims([distance], 0)\n",
    "\n",
    "\n",
    "    for i in range(15):\n",
    "\n",
    "        dummy_trajectory=model.predict(trajectory_generated)\n",
    "        last_step = np.reshape(dummy_trajectory[:,-1,:],(1,1,6))\n",
    "\n",
    "        if  (last_step[0,0,0] <= 0.02):\n",
    "            last_step[0,0,0] = 0\n",
    "            trajectory_generated=np.append(trajectory_generated, last_step, axis=1)\n",
    "            end_message = \"End\"\n",
    "            break\n",
    "\n",
    "        trajectory_generated=np.append(trajectory_generated, last_step, axis=1)\n",
    "        end_message = \"Error\"\n",
    "    \n",
    "    print(end_message)\n",
    "\n",
    "    New_trajectory = np.squeeze(trajectory_generated)\n",
    "\n",
    "    trajectory_generated_denorm = np.apply_along_axis(denorm,1,New_trajectory,data_stats)\n",
    "\n",
    "    return trajectory_generated_denorm, cost, actions, end_message\n"
   ]
  },
  {
   "source": [
    "#### Adding early stop"
   ],
   "cell_type": "markdown",
   "metadata": {}
  },
  {
   "cell_type": "code",
   "execution_count": 24,
   "metadata": {
    "tags": []
   },
   "outputs": [
    {
     "output_type": "stream",
     "name": "stdout",
     "text": [
      "\n",
      "Epoch: 0, loss:0.1190,  mae:0.1941,  mse:0.1190,  val_loss:0.1315,  val_mae:0.1952,  val_mse:0.1315,  \n",
      "...................................................................................................."
     ]
    }
   ],
   "source": [
    "early_stop = keras.callbacks.EarlyStopping(monitor='val_loss', patience=10)\n",
    "\n",
    "early_history_sequential = single_step_sequential_model.fit(train_data_single_sequential, epochs=EPOCHS,\n",
    "                                          steps_per_epoch=STEPS_PER_EPOCH,\n",
    "                                          validation_data=val_data_single_sequential,\n",
    "                                          validation_steps=50, verbose=0, \n",
    "                    callbacks=[early_stop, tfdocs.modeling.EpochDots()])"
   ]
  },
  {
   "cell_type": "code",
   "execution_count": 25,
   "metadata": {},
   "outputs": [],
   "source": [
    "single_step_sequential_model.save('./data/S2S_S2S_model_2.h5') "
   ]
  },
  {
   "source": [
    "## Get validation statistics"
   ],
   "cell_type": "markdown",
   "metadata": {}
  },
  {
   "cell_type": "code",
   "execution_count": 26,
   "metadata": {},
   "outputs": [],
   "source": [
    "model = tf.keras.models.load_model('./data/S2S_S2S_model_2.h5')"
   ]
  },
  {
   "cell_type": "code",
   "execution_count": 27,
   "metadata": {},
   "outputs": [],
   "source": [
    "def distance_error(x, z):\n",
    "    distancia = math.sqrt(x**2 + z**2)\n",
    "    return distancia"
   ]
  },
  {
   "cell_type": "code",
   "execution_count": 50,
   "metadata": {},
   "outputs": [
    {
     "output_type": "stream",
     "name": "stdout",
     "text": [
      "End\n",
      "End\n",
      "End\n",
      "End\n",
      "End\n",
      "End\n",
      "End\n",
      "End\n",
      "Error\n",
      "End\n",
      "End\n",
      "End\n",
      "End\n",
      "Error\n",
      "End\n",
      "End\n",
      "End\n",
      "End\n",
      "End\n",
      "End\n",
      "End\n",
      "End\n",
      "End\n",
      "End\n",
      "End\n",
      "End\n",
      "End\n",
      "End\n",
      "End\n",
      "End\n",
      "End\n",
      "End\n",
      "End\n",
      "End\n",
      "End\n",
      "End\n",
      "End\n",
      "End\n",
      "End\n",
      "End\n",
      "End\n",
      "End\n",
      "Error\n",
      "Error\n",
      "End\n",
      "End\n",
      "End\n",
      "End\n"
     ]
    }
   ],
   "source": [
    "val_results = pd.DataFrame(columns = [\"path\", \"actions\", \"distance\", \"cost\", \"end_message\"])\n",
    "\n",
    "for t_number in range(len(y_val_single_sequential)):\n",
    "\n",
    "    x_val_denorm = np.apply_along_axis(denorm,1,x_val_single_sequential[t_number],data_stats)\n",
    "\n",
    "    y_val_denorm = np.apply_along_axis(denorm,1,y_val_single_sequential[t_number],data_stats)\n",
    "\n",
    "    initial_action = [0,0]\n",
    "    start = [0.0, 0.0, 4.257165346815115, 0.0, 0, 0]\n",
    "    target = x_val_denorm[0] + start\n",
    "\n",
    "    start_time = time.time()\n",
    "\n",
    "    trajectory, cost, actions, end_message = generate_trajectory_Decoder(model, start, target, initial_action, data_stats)\n",
    "\n",
    "    min_len = min(len(y_val_denorm),len(trajectory[1:]))\n",
    "\n",
    "    mse =sklearn.metrics.mean_squared_error(y_val_denorm[:min_len,0:2], trajectory[1:min_len+1,0:2])\n",
    "\n",
    "    val_results.at[t_number, \"time\"] = time.time() - start_time\n",
    "    val_results.at[t_number, \"actions\"] = np.array(actions)\n",
    "    val_results.at[t_number, \"path\"] = np.array(trajectory)\n",
    "    val_results.at[t_number, \"mse trajectory\"] = mse\n",
    "    val_results.at[t_number, \"cost\"] = cost\n",
    "    val_results.at[t_number, 'distance'] = distance_error(*trajectory[-1,0:2])\n",
    "    val_results.at[t_number, 'end_message'] = end_message\n",
    "\n"
   ]
  },
  {
   "cell_type": "code",
   "execution_count": 53,
   "metadata": {},
   "outputs": [
    {
     "output_type": "execute_result",
     "data": {
      "text/plain": [
       "                                                 path   actions   distance  \\\n",
       "0   [[63.87027729697391, -32.65001690089241, -4.25...  [[0, 0]]    2.76268   \n",
       "1   [[50.048659592480924, -26.718345665447327, -4....  [[0, 0]]     1.6245   \n",
       "2   [[76.26812998305924, -22.65115188692424, -4.25...  [[0, 0]]    1.73978   \n",
       "3   [[34.07572390852646, -33.80723266673585, -4.25...  [[0, 0]]  0.0892013   \n",
       "4   [[39.32152978112975, -31.05869726626673, -4.25...  [[0, 0]]    1.40779   \n",
       "5   [[38.72962920635996, -32.03401339870724, -4.25...  [[0, 0]]   0.940472   \n",
       "6   [[56.7146818853043, -10.488082005947932, -4.25...  [[0, 0]]     0.8056   \n",
       "7   [[51.225133232414144, -20.8957408925407, -4.25...  [[0, 0]]    1.90972   \n",
       "8   [[66.97300615564981, -6.995681104430614, -4.25...  [[0, 0]]    3.99449   \n",
       "9   [[49.97631806636395, -10.583585608488166, -4.2...  [[0, 0]]    0.40067   \n",
       "10  [[71.25616729074753, -10.017566418765176, -4.2...  [[0, 0]]   0.234992   \n",
       "11  [[53.82516962303222, -4.976967885744467, -4.25...  [[0, 0]]   0.491258   \n",
       "12  [[53.28669159331229, -28.199545170674487, -4.2...  [[0, 0]]    2.57542   \n",
       "13  [[91.26297794767733, -7.517269904684645, -4.25...  [[0, 0]]    7.19221   \n",
       "14  [[71.288622923842, -38.76622828237415, -4.2571...  [[0, 0]]     1.9616   \n",
       "15  [[65.5106770350437, -23.794467677426958, -4.25...  [[0, 0]]     1.2179   \n",
       "16  [[57.49322520624957, -23.845599547629394, -4.2...  [[0, 0]]    1.04352   \n",
       "17  [[47.3637219053716, -34.84378536472692, -4.257...  [[0, 0]]   0.127872   \n",
       "18  [[65.54579538707685, -31.012565861046536, -4.2...  [[0, 0]]    1.63064   \n",
       "19  [[75.40597350743538, -34.92576968951458, -4.25...  [[0, 0]]    2.14443   \n",
       "20  [[56.00216528729226, -27.460375123715306, -4.2...  [[0, 0]]    1.13519   \n",
       "21  [[49.6526345865548, -23.501922947811988, -4.25...  [[0, 0]]    1.96865   \n",
       "22  [[84.24260625729207, -16.081232467875708, -4.2...  [[0, 0]]   0.237926   \n",
       "23  [[53.091276694430626, -21.57095630437822, -4.2...  [[0, 0]]    1.86112   \n",
       "24  [[88.04484178386997, -32.60381391620127, -4.25...  [[0, 0]]   0.225653   \n",
       "25  [[46.9208467924029, -27.238541892683926, -4.25...  [[0, 0]]   0.870172   \n",
       "26  [[38.33730841448386, -3.5940622923599146, -4.2...  [[0, 0]]   0.585681   \n",
       "27  [[40.49965599487891, -14.924172247910553, -4.2...  [[0, 0]]    1.02822   \n",
       "28  [[74.06906172873424, -10.786261281604817, -4.2...  [[0, 0]]   0.226353   \n",
       "29  [[61.52014879034222, -30.433243703292728, -4.2...  [[0, 0]]     2.1575   \n",
       "30  [[38.781894362838656, -31.92036932506891, -4.2...  [[0, 0]]   0.991693   \n",
       "31  [[56.10859427842522, -11.56337202208879, -4.25...  [[0, 0]]   0.204116   \n",
       "32  [[48.214939490988144, -19.801490657199167, -4....  [[0, 0]]    1.94974   \n",
       "33  [[82.72926926462708, -29.001913004260835, -4.2...  [[0, 0]]   0.724106   \n",
       "34  [[46.95093257513877, -15.291813618336832, -4.2...  [[0, 0]]   0.522153   \n",
       "35  [[79.04438244789203, -26.437084335244464, -4.2...  [[0, 0]]    1.97689   \n",
       "36  [[59.586099066281164, -18.887130337669163, -4....  [[0, 0]]    2.38492   \n",
       "37  [[57.66520237956858, -13.595052040526225, -4.2...  [[0, 0]]   0.100082   \n",
       "38  [[79.5197932311055, -47.697709113627106, -4.25...  [[0, 0]]    0.91135   \n",
       "39  [[53.96232090314145, -4.992398204444096, -4.25...  [[0, 0]]   0.470832   \n",
       "40  [[67.05825840602913, -16.727326569856377, -4.2...  [[0, 0]]    1.25373   \n",
       "41  [[76.97569399258282, -21.122957385534015, -4.2...  [[0, 0]]    2.37064   \n",
       "42  [[75.17393365140086, -10.105903630243592, -4.2...  [[0, 0]]    1.92082   \n",
       "43  [[94.83943306960636, -8.007799076694585, -4.25...  [[0, 0]]    7.59761   \n",
       "44  [[53.68159994721351, -25.88522973474918, -4.25...  [[0, 0]]    2.36779   \n",
       "45  [[48.990235226324955, -30.606512021964054, -4....  [[0, 0]]   0.747765   \n",
       "46  [[82.1927624348165, -45.43008869404574, -4.257...  [[0, 0]]    1.46562   \n",
       "47  [[79.70094314887645, -34.72102762431085, -4.25...  [[0, 0]]   0.399213   \n",
       "\n",
       "   cost end_message      time  mse trajectory  \n",
       "0     0         End  0.496173       10.210015  \n",
       "1     0         End  0.338257        2.859474  \n",
       "2     0         End  0.370119       14.653871  \n",
       "3     0         End  0.335514       13.568295  \n",
       "4     0         End  0.277550        3.108604  \n",
       "5     0         End  0.275569        3.100719  \n",
       "6     0         End  0.326406       34.206358  \n",
       "7     0         End  0.281831        2.401240  \n",
       "8     0       Error  0.666988      104.116371  \n",
       "9     0         End  0.446357        8.262390  \n",
       "10    0         End  0.767978       76.783390  \n",
       "11    0         End  0.719921      145.112801  \n",
       "12    0         End  0.318317        6.622689  \n",
       "13    0       Error  1.182322       46.407801  \n",
       "14    0         End  0.393712       16.780623  \n",
       "15    0         End  0.332831        2.640575  \n",
       "16    0         End  0.278289        3.342097  \n",
       "17    0         End  0.256852        2.049184  \n",
       "18    0         End  0.353978        2.765829  \n",
       "19    0         End  0.374958        5.980296  \n",
       "20    0         End  0.288133        6.222679  \n",
       "21    0         End  0.253269        3.324808  \n",
       "22    0         End  0.416863      334.930716  \n",
       "23    0         End  0.291148        9.033269  \n",
       "24    0         End  0.377433        8.099704  \n",
       "25    0         End  0.227168        1.922710  \n",
       "26    0         End  0.483818       69.954884  \n",
       "27    0         End  0.230695        1.563816  \n",
       "28    0         End  0.780927       60.977512  \n",
       "29    0         End  0.414462        7.516655  \n",
       "30    0         End  0.354156        3.094992  \n",
       "31    0         End  0.326051        3.318939  \n",
       "32    0         End  0.237055        2.712642  \n",
       "33    0         End  0.367164        7.646647  \n",
       "34    0         End  0.322940        1.297914  \n",
       "35    0         End  0.323758       12.407109  \n",
       "36    0         End  0.292309        1.267165  \n",
       "37    0         End  0.766828       12.713925  \n",
       "38    0         End  0.354355       14.131774  \n",
       "39    0         End  0.620075      145.882246  \n",
       "40    0         End  0.330738        1.678236  \n",
       "41    0         End  0.316125       31.595990  \n",
       "42    0       Error  0.939767       75.797642  \n",
       "43    0       Error  0.804752       79.602524  \n",
       "44    0         End  0.436822        5.189955  \n",
       "45    0         End  0.230564        2.702340  \n",
       "46    0         End  0.365056       12.370664  \n",
       "47    0         End  0.358479        3.695705  "
      ],
      "text/html": "<div>\n<style scoped>\n    .dataframe tbody tr th:only-of-type {\n        vertical-align: middle;\n    }\n\n    .dataframe tbody tr th {\n        vertical-align: top;\n    }\n\n    .dataframe thead th {\n        text-align: right;\n    }\n</style>\n<table border=\"1\" class=\"dataframe\">\n  <thead>\n    <tr style=\"text-align: right;\">\n      <th></th>\n      <th>path</th>\n      <th>actions</th>\n      <th>distance</th>\n      <th>cost</th>\n      <th>end_message</th>\n      <th>time</th>\n      <th>mse trajectory</th>\n    </tr>\n  </thead>\n  <tbody>\n    <tr>\n      <th>0</th>\n      <td>[[63.87027729697391, -32.65001690089241, -4.25...</td>\n      <td>[[0, 0]]</td>\n      <td>2.76268</td>\n      <td>0</td>\n      <td>End</td>\n      <td>0.496173</td>\n      <td>10.210015</td>\n    </tr>\n    <tr>\n      <th>1</th>\n      <td>[[50.048659592480924, -26.718345665447327, -4....</td>\n      <td>[[0, 0]]</td>\n      <td>1.6245</td>\n      <td>0</td>\n      <td>End</td>\n      <td>0.338257</td>\n      <td>2.859474</td>\n    </tr>\n    <tr>\n      <th>2</th>\n      <td>[[76.26812998305924, -22.65115188692424, -4.25...</td>\n      <td>[[0, 0]]</td>\n      <td>1.73978</td>\n      <td>0</td>\n      <td>End</td>\n      <td>0.370119</td>\n      <td>14.653871</td>\n    </tr>\n    <tr>\n      <th>3</th>\n      <td>[[34.07572390852646, -33.80723266673585, -4.25...</td>\n      <td>[[0, 0]]</td>\n      <td>0.0892013</td>\n      <td>0</td>\n      <td>End</td>\n      <td>0.335514</td>\n      <td>13.568295</td>\n    </tr>\n    <tr>\n      <th>4</th>\n      <td>[[39.32152978112975, -31.05869726626673, -4.25...</td>\n      <td>[[0, 0]]</td>\n      <td>1.40779</td>\n      <td>0</td>\n      <td>End</td>\n      <td>0.277550</td>\n      <td>3.108604</td>\n    </tr>\n    <tr>\n      <th>5</th>\n      <td>[[38.72962920635996, -32.03401339870724, -4.25...</td>\n      <td>[[0, 0]]</td>\n      <td>0.940472</td>\n      <td>0</td>\n      <td>End</td>\n      <td>0.275569</td>\n      <td>3.100719</td>\n    </tr>\n    <tr>\n      <th>6</th>\n      <td>[[56.7146818853043, -10.488082005947932, -4.25...</td>\n      <td>[[0, 0]]</td>\n      <td>0.8056</td>\n      <td>0</td>\n      <td>End</td>\n      <td>0.326406</td>\n      <td>34.206358</td>\n    </tr>\n    <tr>\n      <th>7</th>\n      <td>[[51.225133232414144, -20.8957408925407, -4.25...</td>\n      <td>[[0, 0]]</td>\n      <td>1.90972</td>\n      <td>0</td>\n      <td>End</td>\n      <td>0.281831</td>\n      <td>2.401240</td>\n    </tr>\n    <tr>\n      <th>8</th>\n      <td>[[66.97300615564981, -6.995681104430614, -4.25...</td>\n      <td>[[0, 0]]</td>\n      <td>3.99449</td>\n      <td>0</td>\n      <td>Error</td>\n      <td>0.666988</td>\n      <td>104.116371</td>\n    </tr>\n    <tr>\n      <th>9</th>\n      <td>[[49.97631806636395, -10.583585608488166, -4.2...</td>\n      <td>[[0, 0]]</td>\n      <td>0.40067</td>\n      <td>0</td>\n      <td>End</td>\n      <td>0.446357</td>\n      <td>8.262390</td>\n    </tr>\n    <tr>\n      <th>10</th>\n      <td>[[71.25616729074753, -10.017566418765176, -4.2...</td>\n      <td>[[0, 0]]</td>\n      <td>0.234992</td>\n      <td>0</td>\n      <td>End</td>\n      <td>0.767978</td>\n      <td>76.783390</td>\n    </tr>\n    <tr>\n      <th>11</th>\n      <td>[[53.82516962303222, -4.976967885744467, -4.25...</td>\n      <td>[[0, 0]]</td>\n      <td>0.491258</td>\n      <td>0</td>\n      <td>End</td>\n      <td>0.719921</td>\n      <td>145.112801</td>\n    </tr>\n    <tr>\n      <th>12</th>\n      <td>[[53.28669159331229, -28.199545170674487, -4.2...</td>\n      <td>[[0, 0]]</td>\n      <td>2.57542</td>\n      <td>0</td>\n      <td>End</td>\n      <td>0.318317</td>\n      <td>6.622689</td>\n    </tr>\n    <tr>\n      <th>13</th>\n      <td>[[91.26297794767733, -7.517269904684645, -4.25...</td>\n      <td>[[0, 0]]</td>\n      <td>7.19221</td>\n      <td>0</td>\n      <td>Error</td>\n      <td>1.182322</td>\n      <td>46.407801</td>\n    </tr>\n    <tr>\n      <th>14</th>\n      <td>[[71.288622923842, -38.76622828237415, -4.2571...</td>\n      <td>[[0, 0]]</td>\n      <td>1.9616</td>\n      <td>0</td>\n      <td>End</td>\n      <td>0.393712</td>\n      <td>16.780623</td>\n    </tr>\n    <tr>\n      <th>15</th>\n      <td>[[65.5106770350437, -23.794467677426958, -4.25...</td>\n      <td>[[0, 0]]</td>\n      <td>1.2179</td>\n      <td>0</td>\n      <td>End</td>\n      <td>0.332831</td>\n      <td>2.640575</td>\n    </tr>\n    <tr>\n      <th>16</th>\n      <td>[[57.49322520624957, -23.845599547629394, -4.2...</td>\n      <td>[[0, 0]]</td>\n      <td>1.04352</td>\n      <td>0</td>\n      <td>End</td>\n      <td>0.278289</td>\n      <td>3.342097</td>\n    </tr>\n    <tr>\n      <th>17</th>\n      <td>[[47.3637219053716, -34.84378536472692, -4.257...</td>\n      <td>[[0, 0]]</td>\n      <td>0.127872</td>\n      <td>0</td>\n      <td>End</td>\n      <td>0.256852</td>\n      <td>2.049184</td>\n    </tr>\n    <tr>\n      <th>18</th>\n      <td>[[65.54579538707685, -31.012565861046536, -4.2...</td>\n      <td>[[0, 0]]</td>\n      <td>1.63064</td>\n      <td>0</td>\n      <td>End</td>\n      <td>0.353978</td>\n      <td>2.765829</td>\n    </tr>\n    <tr>\n      <th>19</th>\n      <td>[[75.40597350743538, -34.92576968951458, -4.25...</td>\n      <td>[[0, 0]]</td>\n      <td>2.14443</td>\n      <td>0</td>\n      <td>End</td>\n      <td>0.374958</td>\n      <td>5.980296</td>\n    </tr>\n    <tr>\n      <th>20</th>\n      <td>[[56.00216528729226, -27.460375123715306, -4.2...</td>\n      <td>[[0, 0]]</td>\n      <td>1.13519</td>\n      <td>0</td>\n      <td>End</td>\n      <td>0.288133</td>\n      <td>6.222679</td>\n    </tr>\n    <tr>\n      <th>21</th>\n      <td>[[49.6526345865548, -23.501922947811988, -4.25...</td>\n      <td>[[0, 0]]</td>\n      <td>1.96865</td>\n      <td>0</td>\n      <td>End</td>\n      <td>0.253269</td>\n      <td>3.324808</td>\n    </tr>\n    <tr>\n      <th>22</th>\n      <td>[[84.24260625729207, -16.081232467875708, -4.2...</td>\n      <td>[[0, 0]]</td>\n      <td>0.237926</td>\n      <td>0</td>\n      <td>End</td>\n      <td>0.416863</td>\n      <td>334.930716</td>\n    </tr>\n    <tr>\n      <th>23</th>\n      <td>[[53.091276694430626, -21.57095630437822, -4.2...</td>\n      <td>[[0, 0]]</td>\n      <td>1.86112</td>\n      <td>0</td>\n      <td>End</td>\n      <td>0.291148</td>\n      <td>9.033269</td>\n    </tr>\n    <tr>\n      <th>24</th>\n      <td>[[88.04484178386997, -32.60381391620127, -4.25...</td>\n      <td>[[0, 0]]</td>\n      <td>0.225653</td>\n      <td>0</td>\n      <td>End</td>\n      <td>0.377433</td>\n      <td>8.099704</td>\n    </tr>\n    <tr>\n      <th>25</th>\n      <td>[[46.9208467924029, -27.238541892683926, -4.25...</td>\n      <td>[[0, 0]]</td>\n      <td>0.870172</td>\n      <td>0</td>\n      <td>End</td>\n      <td>0.227168</td>\n      <td>1.922710</td>\n    </tr>\n    <tr>\n      <th>26</th>\n      <td>[[38.33730841448386, -3.5940622923599146, -4.2...</td>\n      <td>[[0, 0]]</td>\n      <td>0.585681</td>\n      <td>0</td>\n      <td>End</td>\n      <td>0.483818</td>\n      <td>69.954884</td>\n    </tr>\n    <tr>\n      <th>27</th>\n      <td>[[40.49965599487891, -14.924172247910553, -4.2...</td>\n      <td>[[0, 0]]</td>\n      <td>1.02822</td>\n      <td>0</td>\n      <td>End</td>\n      <td>0.230695</td>\n      <td>1.563816</td>\n    </tr>\n    <tr>\n      <th>28</th>\n      <td>[[74.06906172873424, -10.786261281604817, -4.2...</td>\n      <td>[[0, 0]]</td>\n      <td>0.226353</td>\n      <td>0</td>\n      <td>End</td>\n      <td>0.780927</td>\n      <td>60.977512</td>\n    </tr>\n    <tr>\n      <th>29</th>\n      <td>[[61.52014879034222, -30.433243703292728, -4.2...</td>\n      <td>[[0, 0]]</td>\n      <td>2.1575</td>\n      <td>0</td>\n      <td>End</td>\n      <td>0.414462</td>\n      <td>7.516655</td>\n    </tr>\n    <tr>\n      <th>30</th>\n      <td>[[38.781894362838656, -31.92036932506891, -4.2...</td>\n      <td>[[0, 0]]</td>\n      <td>0.991693</td>\n      <td>0</td>\n      <td>End</td>\n      <td>0.354156</td>\n      <td>3.094992</td>\n    </tr>\n    <tr>\n      <th>31</th>\n      <td>[[56.10859427842522, -11.56337202208879, -4.25...</td>\n      <td>[[0, 0]]</td>\n      <td>0.204116</td>\n      <td>0</td>\n      <td>End</td>\n      <td>0.326051</td>\n      <td>3.318939</td>\n    </tr>\n    <tr>\n      <th>32</th>\n      <td>[[48.214939490988144, -19.801490657199167, -4....</td>\n      <td>[[0, 0]]</td>\n      <td>1.94974</td>\n      <td>0</td>\n      <td>End</td>\n      <td>0.237055</td>\n      <td>2.712642</td>\n    </tr>\n    <tr>\n      <th>33</th>\n      <td>[[82.72926926462708, -29.001913004260835, -4.2...</td>\n      <td>[[0, 0]]</td>\n      <td>0.724106</td>\n      <td>0</td>\n      <td>End</td>\n      <td>0.367164</td>\n      <td>7.646647</td>\n    </tr>\n    <tr>\n      <th>34</th>\n      <td>[[46.95093257513877, -15.291813618336832, -4.2...</td>\n      <td>[[0, 0]]</td>\n      <td>0.522153</td>\n      <td>0</td>\n      <td>End</td>\n      <td>0.322940</td>\n      <td>1.297914</td>\n    </tr>\n    <tr>\n      <th>35</th>\n      <td>[[79.04438244789203, -26.437084335244464, -4.2...</td>\n      <td>[[0, 0]]</td>\n      <td>1.97689</td>\n      <td>0</td>\n      <td>End</td>\n      <td>0.323758</td>\n      <td>12.407109</td>\n    </tr>\n    <tr>\n      <th>36</th>\n      <td>[[59.586099066281164, -18.887130337669163, -4....</td>\n      <td>[[0, 0]]</td>\n      <td>2.38492</td>\n      <td>0</td>\n      <td>End</td>\n      <td>0.292309</td>\n      <td>1.267165</td>\n    </tr>\n    <tr>\n      <th>37</th>\n      <td>[[57.66520237956858, -13.595052040526225, -4.2...</td>\n      <td>[[0, 0]]</td>\n      <td>0.100082</td>\n      <td>0</td>\n      <td>End</td>\n      <td>0.766828</td>\n      <td>12.713925</td>\n    </tr>\n    <tr>\n      <th>38</th>\n      <td>[[79.5197932311055, -47.697709113627106, -4.25...</td>\n      <td>[[0, 0]]</td>\n      <td>0.91135</td>\n      <td>0</td>\n      <td>End</td>\n      <td>0.354355</td>\n      <td>14.131774</td>\n    </tr>\n    <tr>\n      <th>39</th>\n      <td>[[53.96232090314145, -4.992398204444096, -4.25...</td>\n      <td>[[0, 0]]</td>\n      <td>0.470832</td>\n      <td>0</td>\n      <td>End</td>\n      <td>0.620075</td>\n      <td>145.882246</td>\n    </tr>\n    <tr>\n      <th>40</th>\n      <td>[[67.05825840602913, -16.727326569856377, -4.2...</td>\n      <td>[[0, 0]]</td>\n      <td>1.25373</td>\n      <td>0</td>\n      <td>End</td>\n      <td>0.330738</td>\n      <td>1.678236</td>\n    </tr>\n    <tr>\n      <th>41</th>\n      <td>[[76.97569399258282, -21.122957385534015, -4.2...</td>\n      <td>[[0, 0]]</td>\n      <td>2.37064</td>\n      <td>0</td>\n      <td>End</td>\n      <td>0.316125</td>\n      <td>31.595990</td>\n    </tr>\n    <tr>\n      <th>42</th>\n      <td>[[75.17393365140086, -10.105903630243592, -4.2...</td>\n      <td>[[0, 0]]</td>\n      <td>1.92082</td>\n      <td>0</td>\n      <td>Error</td>\n      <td>0.939767</td>\n      <td>75.797642</td>\n    </tr>\n    <tr>\n      <th>43</th>\n      <td>[[94.83943306960636, -8.007799076694585, -4.25...</td>\n      <td>[[0, 0]]</td>\n      <td>7.59761</td>\n      <td>0</td>\n      <td>Error</td>\n      <td>0.804752</td>\n      <td>79.602524</td>\n    </tr>\n    <tr>\n      <th>44</th>\n      <td>[[53.68159994721351, -25.88522973474918, -4.25...</td>\n      <td>[[0, 0]]</td>\n      <td>2.36779</td>\n      <td>0</td>\n      <td>End</td>\n      <td>0.436822</td>\n      <td>5.189955</td>\n    </tr>\n    <tr>\n      <th>45</th>\n      <td>[[48.990235226324955, -30.606512021964054, -4....</td>\n      <td>[[0, 0]]</td>\n      <td>0.747765</td>\n      <td>0</td>\n      <td>End</td>\n      <td>0.230564</td>\n      <td>2.702340</td>\n    </tr>\n    <tr>\n      <th>46</th>\n      <td>[[82.1927624348165, -45.43008869404574, -4.257...</td>\n      <td>[[0, 0]]</td>\n      <td>1.46562</td>\n      <td>0</td>\n      <td>End</td>\n      <td>0.365056</td>\n      <td>12.370664</td>\n    </tr>\n    <tr>\n      <th>47</th>\n      <td>[[79.70094314887645, -34.72102762431085, -4.25...</td>\n      <td>[[0, 0]]</td>\n      <td>0.399213</td>\n      <td>0</td>\n      <td>End</td>\n      <td>0.358479</td>\n      <td>3.695705</td>\n    </tr>\n  </tbody>\n</table>\n</div>"
     },
     "metadata": {},
     "execution_count": 53
    }
   ],
   "source": [
    "\n",
    "val_results"
   ]
  },
  {
   "cell_type": "code",
   "execution_count": 52,
   "metadata": {},
   "outputs": [
    {
     "output_type": "stream",
     "name": "stdout",
     "text": [
      "0.08333333333333333\n"
     ]
    },
    {
     "output_type": "execute_result",
     "data": {
      "text/plain": [
       "                     all result_end result_error\n",
       "distance          1.5198    1.18739      5.17628\n",
       "time            0.423017   0.379796     0.898457\n",
       "mse trajectory   29.7005    25.4478      76.4811"
      ],
      "text/html": "<div>\n<style scoped>\n    .dataframe tbody tr th:only-of-type {\n        vertical-align: middle;\n    }\n\n    .dataframe tbody tr th {\n        vertical-align: top;\n    }\n\n    .dataframe thead th {\n        text-align: right;\n    }\n</style>\n<table border=\"1\" class=\"dataframe\">\n  <thead>\n    <tr style=\"text-align: right;\">\n      <th></th>\n      <th>all</th>\n      <th>result_end</th>\n      <th>result_error</th>\n    </tr>\n  </thead>\n  <tbody>\n    <tr>\n      <th>distance</th>\n      <td>1.5198</td>\n      <td>1.18739</td>\n      <td>5.17628</td>\n    </tr>\n    <tr>\n      <th>time</th>\n      <td>0.423017</td>\n      <td>0.379796</td>\n      <td>0.898457</td>\n    </tr>\n    <tr>\n      <th>mse trajectory</th>\n      <td>29.7005</td>\n      <td>25.4478</td>\n      <td>76.4811</td>\n    </tr>\n  </tbody>\n</table>\n</div>"
     },
     "metadata": {},
     "execution_count": 52
    }
   ],
   "source": [
    "val_table = pd.DataFrame(columns = [\"all\",\"result_end\", \"result_error\"])\n",
    "\n",
    "val_table.at['distance', \"result_end\"] = val_results['distance'].loc[val_results['end_message'] == \"End\"].mean()\n",
    "val_table.at['distance', \"result_error\"] = val_results['distance'].loc[val_results['end_message'] == \"Error\"].mean()\n",
    "val_table.at['distance', \"all\"] = val_results['distance'].mean()\n",
    "\n",
    "val_table.at[\"time\", \"result_end\"] = val_results[\"time\"].loc[val_results['end_message'] == \"End\"].mean()\n",
    "val_table.at[\"time\", \"result_error\"] = val_results[\"time\"].loc[val_results['end_message'] == \"Error\"].mean()\n",
    "val_table.at[\"time\", \"all\"] = val_results[\"time\"].mean()\n",
    "\n",
    "val_table.at[\"mse trajectory\", \"result_end\"] = val_results[\"mse trajectory\"].loc[val_results['end_message'] == \"End\"].mean()\n",
    "val_table.at[\"mse trajectory\", \"result_error\"] = val_results[\"mse trajectory\"].loc[val_results['end_message'] == \"Error\"].mean()\n",
    "val_table.at[\"mse trajectory\", \"all\"] = val_results[\"mse trajectory\"].mean()\n",
    "\n",
    "print(val_results[\"time\"].loc[val_results['end_message'] == \"Error\"].count()/len(y_val_single_sequential))\n",
    "val_table\n"
   ]
  },
  {
   "source": [
    "## Compare with heuristic results"
   ],
   "cell_type": "markdown",
   "metadata": {}
  },
  {
   "cell_type": "code",
   "execution_count": 30,
   "metadata": {},
   "outputs": [],
   "source": [
    "from ast import literal_eval\n",
    "samples = pd.read_csv(\"./data/heuristic_samples_metric.csv\", converters={'initial_state': literal_eval, 'final_state': literal_eval, 'h_actions': literal_eval, 'h_path': literal_eval})"
   ]
  },
  {
   "cell_type": "code",
   "execution_count": 31,
   "metadata": {},
   "outputs": [],
   "source": [
    "results= samples.copy()"
   ]
  },
  {
   "cell_type": "code",
   "execution_count": 32,
   "metadata": {
    "tags": []
   },
   "outputs": [
    {
     "output_type": "execute_result",
     "data": {
      "text/plain": [
       "    count         mean         std         min         25%          50%  \\\n",
       "D0  464.0  1037.949465  779.981979    0.001143  238.099339  1084.927422   \n",
       "D1  464.0  -109.969042  186.497363 -664.286328 -219.767671   -33.544771   \n",
       "D2  464.0    -0.690586    0.913037   -4.333594   -1.082213    -0.339180   \n",
       "D3  464.0    -0.110996    0.075754   -0.272563   -0.175906    -0.134497   \n",
       "D4  464.0    -0.015846    0.361746   -1.047180   -0.122068     0.000000   \n",
       "D5  464.0     0.004774    0.023279   -0.113255   -0.000477     0.000002   \n",
       "\n",
       "            75%          max  \n",
       "D0  1671.724701  2292.599315  \n",
       "D1     0.406538   249.233041  \n",
       "D2    -0.003143     0.998591  \n",
       "D3    -0.029880     0.085473  \n",
       "D4     0.038481     1.047196  \n",
       "D5     0.021459     0.058682  "
      ],
      "text/html": "<div>\n<style scoped>\n    .dataframe tbody tr th:only-of-type {\n        vertical-align: middle;\n    }\n\n    .dataframe tbody tr th {\n        vertical-align: top;\n    }\n\n    .dataframe thead th {\n        text-align: right;\n    }\n</style>\n<table border=\"1\" class=\"dataframe\">\n  <thead>\n    <tr style=\"text-align: right;\">\n      <th></th>\n      <th>count</th>\n      <th>mean</th>\n      <th>std</th>\n      <th>min</th>\n      <th>25%</th>\n      <th>50%</th>\n      <th>75%</th>\n      <th>max</th>\n    </tr>\n  </thead>\n  <tbody>\n    <tr>\n      <th>D0</th>\n      <td>464.0</td>\n      <td>1037.949465</td>\n      <td>779.981979</td>\n      <td>0.001143</td>\n      <td>238.099339</td>\n      <td>1084.927422</td>\n      <td>1671.724701</td>\n      <td>2292.599315</td>\n    </tr>\n    <tr>\n      <th>D1</th>\n      <td>464.0</td>\n      <td>-109.969042</td>\n      <td>186.497363</td>\n      <td>-664.286328</td>\n      <td>-219.767671</td>\n      <td>-33.544771</td>\n      <td>0.406538</td>\n      <td>249.233041</td>\n    </tr>\n    <tr>\n      <th>D2</th>\n      <td>464.0</td>\n      <td>-0.690586</td>\n      <td>0.913037</td>\n      <td>-4.333594</td>\n      <td>-1.082213</td>\n      <td>-0.339180</td>\n      <td>-0.003143</td>\n      <td>0.998591</td>\n    </tr>\n    <tr>\n      <th>D3</th>\n      <td>464.0</td>\n      <td>-0.110996</td>\n      <td>0.075754</td>\n      <td>-0.272563</td>\n      <td>-0.175906</td>\n      <td>-0.134497</td>\n      <td>-0.029880</td>\n      <td>0.085473</td>\n    </tr>\n    <tr>\n      <th>D4</th>\n      <td>464.0</td>\n      <td>-0.015846</td>\n      <td>0.361746</td>\n      <td>-1.047180</td>\n      <td>-0.122068</td>\n      <td>0.000000</td>\n      <td>0.038481</td>\n      <td>1.047196</td>\n    </tr>\n    <tr>\n      <th>D5</th>\n      <td>464.0</td>\n      <td>0.004774</td>\n      <td>0.023279</td>\n      <td>-0.113255</td>\n      <td>-0.000477</td>\n      <td>0.000002</td>\n      <td>0.021459</td>\n      <td>0.058682</td>\n    </tr>\n  </tbody>\n</table>\n</div>"
     },
     "metadata": {},
     "execution_count": 32
    }
   ],
   "source": [
    "col = ['D0','D1','D2','D3','D4','D5']\n",
    "distances = []\n",
    "for sample_id, row in samples.iterrows():\n",
    "    target = np.array(results['final_state'][sample_id])\n",
    "    for sample in  samples['h_path'][sample_id]:\n",
    "        distances.append(target[0:6]-sample[0:6])\n",
    "distances = np.array(distances)\n",
    "df = pd.DataFrame (distances, columns = col)\n",
    "data_stats_T = df.describe()\n",
    "data_stats_T = data_stats_T.transpose()\n",
    "data_stats_T"
   ]
  },
  {
   "cell_type": "code",
   "execution_count": 33,
   "metadata": {},
   "outputs": [
    {
     "output_type": "stream",
     "name": "stdout",
     "text": [
      "0\n",
      "End\n",
      "1\n",
      "Error\n",
      "2\n",
      "Error\n",
      "3\n",
      "End\n",
      "4\n",
      "Error\n",
      "5\n",
      "Error\n",
      "6\n",
      "Error\n",
      "7\n",
      "End\n",
      "8\n",
      "Error\n",
      "9\n",
      "End\n",
      "10\n",
      "Error\n",
      "11\n",
      "End\n",
      "12\n",
      "End\n",
      "13\n",
      "End\n",
      "14\n",
      "End\n",
      "15\n",
      "Error\n",
      "16\n",
      "Error\n",
      "17\n",
      "Error\n",
      "18\n",
      "End\n",
      "19\n",
      "Error\n",
      "20\n",
      "End\n",
      "21\n",
      "Error\n",
      "22\n",
      "End\n",
      "23\n",
      "End\n",
      "24\n",
      "End\n",
      "25\n",
      "End\n",
      "26\n",
      "End\n",
      "27\n",
      "End\n",
      "28\n",
      "Error\n",
      "29\n",
      "Error\n",
      "30\n",
      "End\n",
      "31\n",
      "Error\n",
      "32\n",
      "End\n",
      "33\n",
      "End\n",
      "34\n",
      "Error\n",
      "35\n",
      "Error\n",
      "36\n",
      "Error\n",
      "37\n",
      "End\n",
      "38\n",
      "End\n",
      "39\n",
      "End\n",
      "40\n",
      "End\n",
      "41\n",
      "End\n",
      "42\n",
      "End\n",
      "43\n",
      "End\n",
      "44\n",
      "Error\n",
      "45\n",
      "End\n",
      "46\n",
      "End\n",
      "47\n",
      "Error\n",
      "48\n",
      "Error\n",
      "49\n",
      "End\n",
      "50\n",
      "Error\n",
      "51\n",
      "End\n",
      "52\n",
      "End\n",
      "53\n",
      "Error\n",
      "54\n",
      "End\n",
      "55\n",
      "End\n",
      "56\n",
      "End\n",
      "57\n",
      "End\n",
      "58\n",
      "Error\n",
      "59\n",
      "End\n",
      "60\n",
      "Error\n",
      "61\n",
      "End\n",
      "62\n",
      "End\n",
      "63\n",
      "Error\n",
      "64\n",
      "Error\n",
      "65\n",
      "End\n",
      "66\n",
      "Error\n",
      "67\n",
      "Error\n",
      "68\n",
      "Error\n",
      "69\n",
      "Error\n",
      "70\n",
      "Error\n",
      "71\n",
      "End\n",
      "72\n",
      "End\n",
      "73\n",
      "Error\n",
      "74\n",
      "End\n",
      "75\n",
      "End\n",
      "76\n",
      "End\n",
      "77\n",
      "Error\n",
      "78\n",
      "End\n",
      "79\n",
      "Error\n",
      "80\n",
      "Error\n",
      "81\n",
      "Error\n",
      "82\n",
      "Error\n",
      "83\n",
      "End\n",
      "84\n",
      "End\n",
      "85\n",
      "Error\n",
      "86\n",
      "End\n",
      "87\n",
      "End\n",
      "88\n",
      "Error\n",
      "89\n",
      "Error\n",
      "90\n",
      "End\n",
      "91\n",
      "End\n",
      "92\n",
      "Error\n",
      "93\n",
      "End\n",
      "94\n",
      "End\n",
      "95\n",
      "Error\n",
      "96\n",
      "End\n",
      "97\n",
      "End\n",
      "98\n",
      "Error\n",
      "99\n",
      "End\n"
     ]
    }
   ],
   "source": [
    "results= samples.copy()\n",
    "for sample_id, row in results.iterrows():\n",
    "    print(sample_id)\n",
    "    initial_action = np.array(results['h_actions'][sample_id][0])\n",
    "    start = np.array(results['initial_state'][sample_id])\n",
    "    target = np.array(results['final_state'][sample_id])\n",
    "    start_time = time.time()\n",
    "    trajectory, cost, actions, end_message = generate_trajectory_Decoder(model, start, target, initial_action, data_stats_T)\n",
    "    results.at[sample_id, \"h_time\"] = time.time() - start_time\n",
    "    results.at[sample_id, \"h_actions\"] = np.array(actions)\n",
    "    results.at[sample_id, \"h_path\"] = np.array(trajectory)\n",
    "    results.at[sample_id, \"h_cost\"] = cost\n",
    "    results.at[sample_id, 'h_distance'] = distance_error(*trajectory[-1,0:2])\n",
    "    results.at[sample_id, 'end_message'] = end_message"
   ]
  },
  {
   "cell_type": "code",
   "execution_count": null,
   "metadata": {},
   "outputs": [],
   "source": [
    "comparsion_table = pd.DataFrame(columns = [\"sample\", \"result_end\", \"result_error\", \"all results\"])\n",
    "comparsion_table.at[\"h_cost\", \"sample\"] = samples[\"h_cost\"].mean()\n",
    "comparsion_table.at[\"h_cost\", \"result_end\"] = results[\"h_cost\"].loc[results['end_message'] == \"End\"].mean()\n",
    "comparsion_table.at[\"h_cost\", \"result_error\"] = results[\"h_cost\"].loc[results['end_message'] == \"Error\"].mean()\n",
    "\n",
    "comparsion_table.at['h_distance', \"sample\"] = samples['h_distance'].mean()\n",
    "comparsion_table.at['h_distance', \"result_end\"] = results['h_distance'].loc[results['end_message'] == \"End\"].mean()\n",
    "comparsion_table.at['h_distance', \"result_error\"] = results['h_distance'].loc[results['end_message'] == \"Error\"].mean()\n",
    "comparsion_table.at['h_distance', \"all results\"] = results['h_distance'].mean()\n",
    "\n",
    "comparsion_table.at['h_time', \"sample\"] = samples[\"h_time\"].mean()\n",
    "comparsion_table.at[\"h_time\", \"result_end\"] = results[\"h_time\"].loc[results['end_message'] == \"End\"].mean()\n",
    "comparsion_table.at[\"h_time\", \"result_error\"] = results[\"h_time\"].loc[results['end_message'] == \"Error\"].mean()\n",
    "comparsion_table.at[\"h_time\", \"all results\"] = results[\"h_time\"].mean()\n",
    "print(results[\"h_time\"].loc[results['end_message'] == \"Error\"].count())\n",
    "comparsion_table\n",
    "\n"
   ]
  },
  {
   "source": [
    "## Plot one single trajectory"
   ],
   "cell_type": "markdown",
   "metadata": {}
  },
  {
   "cell_type": "code",
   "execution_count": 141,
   "metadata": {},
   "outputs": [
    {
     "output_type": "stream",
     "name": "stdout",
     "text": [
      "End\n[2048.80449952 2340.53041755 2093.55198043 1867.83739053 1471.38756184\n 1063.83932337  623.79563248  222.81102267    0.        ]\n"
     ]
    },
    {
     "output_type": "display_data",
     "data": {
      "text/plain": "<Figure size 432x288 with 1 Axes>",
      "image/svg+xml": "<?xml version=\"1.0\" encoding=\"utf-8\" standalone=\"no\"?>\r\n<!DOCTYPE svg PUBLIC \"-//W3C//DTD SVG 1.1//EN\"\r\n  \"http://www.w3.org/Graphics/SVG/1.1/DTD/svg11.dtd\">\r\n<!-- Created with matplotlib (https://matplotlib.org/) -->\r\n<svg height=\"263.63625pt\" version=\"1.1\" viewBox=\"0 0 383.667188 263.63625\" width=\"383.667188pt\" xmlns=\"http://www.w3.org/2000/svg\" xmlns:xlink=\"http://www.w3.org/1999/xlink\">\r\n <defs>\r\n  <style type=\"text/css\">\r\n*{stroke-linecap:butt;stroke-linejoin:round;}\r\n  </style>\r\n </defs>\r\n <g id=\"figure_1\">\r\n  <g id=\"patch_1\">\r\n   <path d=\"M 0 263.63625 \r\nL 383.667188 263.63625 \r\nL 383.667188 0 \r\nL 0 0 \r\nz\r\n\" style=\"fill:none;\"/>\r\n  </g>\r\n  <g id=\"axes_1\">\r\n   <g id=\"patch_2\">\r\n    <path d=\"M 41.667188 239.758125 \r\nL 376.467188 239.758125 \r\nL 376.467188 22.318125 \r\nL 41.667188 22.318125 \r\nz\r\n\" style=\"fill:#ffffff;\"/>\r\n   </g>\r\n   <g id=\"PathCollection_1\">\r\n    <defs>\r\n     <path d=\"M 0 3 \r\nC 0.795609 3 1.55874 2.683901 2.12132 2.12132 \r\nC 2.683901 1.55874 3 0.795609 3 0 \r\nC 3 -0.795609 2.683901 -1.55874 2.12132 -2.12132 \r\nC 1.55874 -2.683901 0.795609 -3 0 -3 \r\nC -0.795609 -3 -1.55874 -2.683901 -2.12132 -2.12132 \r\nC -2.683901 -1.55874 -3 -0.795609 -3 0 \r\nC -3 0.795609 -2.683901 1.55874 -2.12132 2.12132 \r\nC -1.55874 2.683901 -0.795609 3 0 3 \r\nz\r\n\" id=\"ma738e9f9f2\" style=\"stroke:#ff0000;\"/>\r\n    </defs>\r\n    <g clip-path=\"url(#peb81d1d9d0)\">\r\n     <use style=\"fill:#ff0000;stroke:#ff0000;\" x=\"323.685712\" xlink:href=\"#ma738e9f9f2\" y=\"203.066469\"/>\r\n     <use style=\"fill:#ff0000;stroke:#ff0000;\" x=\"361.247852\" xlink:href=\"#ma738e9f9f2\" y=\"229.868773\"/>\r\n     <use style=\"fill:#ff0000;stroke:#ff0000;\" x=\"329.447323\" xlink:href=\"#ma738e9f9f2\" y=\"181.515328\"/>\r\n     <use style=\"fill:#ff0000;stroke:#ff0000;\" x=\"300.384691\" xlink:href=\"#ma738e9f9f2\" y=\"123.644181\"/>\r\n     <use style=\"fill:#ff0000;stroke:#ff0000;\" x=\"249.338476\" xlink:href=\"#ma738e9f9f2\" y=\"85.174666\"/>\r\n     <use style=\"fill:#ff0000;stroke:#ff0000;\" x=\"196.863248\" xlink:href=\"#ma738e9f9f2\" y=\"57.156052\"/>\r\n     <use style=\"fill:#ff0000;stroke:#ff0000;\" x=\"140.20396\" xlink:href=\"#ma738e9f9f2\" y=\"38.831505\"/>\r\n     <use style=\"fill:#ff0000;stroke:#ff0000;\" x=\"88.573854\" xlink:href=\"#ma738e9f9f2\" y=\"32.207477\"/>\r\n     <use style=\"fill:#ff0000;stroke:#ff0000;\" x=\"59.885081\" xlink:href=\"#ma738e9f9f2\" y=\"36.990549\"/>\r\n    </g>\r\n   </g>\r\n   <g id=\"PathCollection_2\">\r\n    <defs>\r\n     <path d=\"M 0 3 \r\nC 0.795609 3 1.55874 2.683901 2.12132 2.12132 \r\nC 2.683901 1.55874 3 0.795609 3 0 \r\nC 3 -0.795609 2.683901 -1.55874 2.12132 -2.12132 \r\nC 1.55874 -2.683901 0.795609 -3 0 -3 \r\nC -0.795609 -3 -1.55874 -2.683901 -2.12132 -2.12132 \r\nC -2.683901 -1.55874 -3 -0.795609 -3 0 \r\nC -3 0.795609 -2.683901 1.55874 -2.12132 2.12132 \r\nC -1.55874 2.683901 -0.795609 3 0 3 \r\nz\r\n\" id=\"m6fbc819b92\" style=\"stroke:#0000ff;\"/>\r\n    </defs>\r\n    <g clip-path=\"url(#peb81d1d9d0)\">\r\n     <use style=\"fill:#0000ff;stroke:#0000ff;\" x=\"59.885081\" xlink:href=\"#m6fbc819b92\" y=\"47.270857\"/>\r\n     <use style=\"fill:#0000ff;stroke:#0000ff;\" x=\"117.944981\" xlink:href=\"#m6fbc819b92\" y=\"64.76954\"/>\r\n     <use style=\"fill:#0000ff;stroke:#0000ff;\" x=\"175.999548\" xlink:href=\"#m6fbc819b92\" y=\"81.227499\"/>\r\n     <use style=\"fill:#0000ff;stroke:#0000ff;\" x=\"201.045011\" xlink:href=\"#m6fbc819b92\" y=\"162.443051\"/>\r\n     <use style=\"fill:#0000ff;stroke:#0000ff;\" x=\"300.618942\" xlink:href=\"#m6fbc819b92\" y=\"209.486109\"/>\r\n     <use style=\"fill:#0000ff;stroke:#0000ff;\" x=\"323.683003\" xlink:href=\"#m6fbc819b92\" y=\"202.964059\"/>\r\n    </g>\r\n   </g>\r\n   <g id=\"PathCollection_3\">\r\n    <defs>\r\n     <path d=\"M 0 3 \r\nC 0.795609 3 1.55874 2.683901 2.12132 2.12132 \r\nC 2.683901 1.55874 3 0.795609 3 0 \r\nC 3 -0.795609 2.683901 -1.55874 2.12132 -2.12132 \r\nC 1.55874 -2.683901 0.795609 -3 0 -3 \r\nC -0.795609 -3 -1.55874 -2.683901 -2.12132 -2.12132 \r\nC -2.683901 -1.55874 -3 -0.795609 -3 0 \r\nC -3 0.795609 -2.683901 1.55874 -2.12132 2.12132 \r\nC -1.55874 2.683901 -0.795609 3 0 3 \r\nz\r\n\" id=\"m4b5fd02f9f\" style=\"stroke:#008000;\"/>\r\n    </defs>\r\n    <g clip-path=\"url(#peb81d1d9d0)\">\r\n     <use style=\"fill:#008000;stroke:#008000;\" x=\"59.885081\" xlink:href=\"#m4b5fd02f9f\" y=\"47.270857\"/>\r\n    </g>\r\n   </g>\r\n   <g id=\"PathCollection_4\">\r\n    <defs>\r\n     <path d=\"M 0 3 \r\nC 0.795609 3 1.55874 2.683901 2.12132 2.12132 \r\nC 2.683901 1.55874 3 0.795609 3 0 \r\nC 3 -0.795609 2.683901 -1.55874 2.12132 -2.12132 \r\nC 1.55874 -2.683901 0.795609 -3 0 -3 \r\nC -0.795609 -3 -1.55874 -2.683901 -2.12132 -2.12132 \r\nC -2.683901 -1.55874 -3 -0.795609 -3 0 \r\nC -3 0.795609 -2.683901 1.55874 -2.12132 2.12132 \r\nC -1.55874 2.683901 -0.795609 3 0 3 \r\nz\r\n\" id=\"m0761d15e70\" style=\"stroke:#bfbf00;\"/>\r\n    </defs>\r\n    <g clip-path=\"url(#peb81d1d9d0)\">\r\n     <use style=\"fill:#bfbf00;stroke:#bfbf00;\" x=\"323.685712\" xlink:href=\"#m0761d15e70\" y=\"203.066469\"/>\r\n    </g>\r\n   </g>\r\n   <g id=\"matplotlib.axis_1\">\r\n    <g id=\"xtick_1\">\r\n     <g id=\"line2d_1\">\r\n      <defs>\r\n       <path d=\"M 0 0 \r\nL 0 3.5 \r\n\" id=\"m5d068a8ea3\" style=\"stroke:#000000;stroke-width:0.8;\"/>\r\n      </defs>\r\n      <g>\r\n       <use style=\"stroke:#000000;stroke-width:0.8;\" x=\"59.885081\" xlink:href=\"#m5d068a8ea3\" y=\"239.758125\"/>\r\n      </g>\r\n     </g>\r\n     <g id=\"text_1\">\r\n      <!-- 0 -->\r\n      <defs>\r\n       <path d=\"M 31.78125 66.40625 \r\nQ 24.171875 66.40625 20.328125 58.90625 \r\nQ 16.5 51.421875 16.5 36.375 \r\nQ 16.5 21.390625 20.328125 13.890625 \r\nQ 24.171875 6.390625 31.78125 6.390625 \r\nQ 39.453125 6.390625 43.28125 13.890625 \r\nQ 47.125 21.390625 47.125 36.375 \r\nQ 47.125 51.421875 43.28125 58.90625 \r\nQ 39.453125 66.40625 31.78125 66.40625 \r\nz\r\nM 31.78125 74.21875 \r\nQ 44.046875 74.21875 50.515625 64.515625 \r\nQ 56.984375 54.828125 56.984375 36.375 \r\nQ 56.984375 17.96875 50.515625 8.265625 \r\nQ 44.046875 -1.421875 31.78125 -1.421875 \r\nQ 19.53125 -1.421875 13.0625 8.265625 \r\nQ 6.59375 17.96875 6.59375 36.375 \r\nQ 6.59375 54.828125 13.0625 64.515625 \r\nQ 19.53125 74.21875 31.78125 74.21875 \r\nz\r\n\" id=\"DejaVuSans-48\"/>\r\n      </defs>\r\n      <g transform=\"translate(56.703831 254.356563)scale(0.1 -0.1)\">\r\n       <use xlink:href=\"#DejaVuSans-48\"/>\r\n      </g>\r\n     </g>\r\n    </g>\r\n    <g id=\"xtick_2\">\r\n     <g id=\"line2d_2\">\r\n      <g>\r\n       <use style=\"stroke:#000000;stroke-width:0.8;\" x=\"124.264242\" xlink:href=\"#m5d068a8ea3\" y=\"239.758125\"/>\r\n      </g>\r\n     </g>\r\n     <g id=\"text_2\">\r\n      <!-- 500 -->\r\n      <defs>\r\n       <path d=\"M 10.796875 72.90625 \r\nL 49.515625 72.90625 \r\nL 49.515625 64.59375 \r\nL 19.828125 64.59375 \r\nL 19.828125 46.734375 \r\nQ 21.96875 47.46875 24.109375 47.828125 \r\nQ 26.265625 48.1875 28.421875 48.1875 \r\nQ 40.625 48.1875 47.75 41.5 \r\nQ 54.890625 34.8125 54.890625 23.390625 \r\nQ 54.890625 11.625 47.5625 5.09375 \r\nQ 40.234375 -1.421875 26.90625 -1.421875 \r\nQ 22.3125 -1.421875 17.546875 -0.640625 \r\nQ 12.796875 0.140625 7.71875 1.703125 \r\nL 7.71875 11.625 \r\nQ 12.109375 9.234375 16.796875 8.0625 \r\nQ 21.484375 6.890625 26.703125 6.890625 \r\nQ 35.15625 6.890625 40.078125 11.328125 \r\nQ 45.015625 15.765625 45.015625 23.390625 \r\nQ 45.015625 31 40.078125 35.4375 \r\nQ 35.15625 39.890625 26.703125 39.890625 \r\nQ 22.75 39.890625 18.8125 39.015625 \r\nQ 14.890625 38.140625 10.796875 36.28125 \r\nz\r\n\" id=\"DejaVuSans-53\"/>\r\n      </defs>\r\n      <g transform=\"translate(114.720492 254.356563)scale(0.1 -0.1)\">\r\n       <use xlink:href=\"#DejaVuSans-53\"/>\r\n       <use x=\"63.623047\" xlink:href=\"#DejaVuSans-48\"/>\r\n       <use x=\"127.246094\" xlink:href=\"#DejaVuSans-48\"/>\r\n      </g>\r\n     </g>\r\n    </g>\r\n    <g id=\"xtick_3\">\r\n     <g id=\"line2d_3\">\r\n      <g>\r\n       <use style=\"stroke:#000000;stroke-width:0.8;\" x=\"188.643404\" xlink:href=\"#m5d068a8ea3\" y=\"239.758125\"/>\r\n      </g>\r\n     </g>\r\n     <g id=\"text_3\">\r\n      <!-- 1000 -->\r\n      <defs>\r\n       <path d=\"M 12.40625 8.296875 \r\nL 28.515625 8.296875 \r\nL 28.515625 63.921875 \r\nL 10.984375 60.40625 \r\nL 10.984375 69.390625 \r\nL 28.421875 72.90625 \r\nL 38.28125 72.90625 \r\nL 38.28125 8.296875 \r\nL 54.390625 8.296875 \r\nL 54.390625 0 \r\nL 12.40625 0 \r\nz\r\n\" id=\"DejaVuSans-49\"/>\r\n      </defs>\r\n      <g transform=\"translate(175.918404 254.356563)scale(0.1 -0.1)\">\r\n       <use xlink:href=\"#DejaVuSans-49\"/>\r\n       <use x=\"63.623047\" xlink:href=\"#DejaVuSans-48\"/>\r\n       <use x=\"127.246094\" xlink:href=\"#DejaVuSans-48\"/>\r\n       <use x=\"190.869141\" xlink:href=\"#DejaVuSans-48\"/>\r\n      </g>\r\n     </g>\r\n    </g>\r\n    <g id=\"xtick_4\">\r\n     <g id=\"line2d_4\">\r\n      <g>\r\n       <use style=\"stroke:#000000;stroke-width:0.8;\" x=\"253.022565\" xlink:href=\"#m5d068a8ea3\" y=\"239.758125\"/>\r\n      </g>\r\n     </g>\r\n     <g id=\"text_4\">\r\n      <!-- 1500 -->\r\n      <g transform=\"translate(240.297565 254.356563)scale(0.1 -0.1)\">\r\n       <use xlink:href=\"#DejaVuSans-49\"/>\r\n       <use x=\"63.623047\" xlink:href=\"#DejaVuSans-53\"/>\r\n       <use x=\"127.246094\" xlink:href=\"#DejaVuSans-48\"/>\r\n       <use x=\"190.869141\" xlink:href=\"#DejaVuSans-48\"/>\r\n      </g>\r\n     </g>\r\n    </g>\r\n    <g id=\"xtick_5\">\r\n     <g id=\"line2d_5\">\r\n      <g>\r\n       <use style=\"stroke:#000000;stroke-width:0.8;\" x=\"317.401726\" xlink:href=\"#m5d068a8ea3\" y=\"239.758125\"/>\r\n      </g>\r\n     </g>\r\n     <g id=\"text_5\">\r\n      <!-- 2000 -->\r\n      <defs>\r\n       <path d=\"M 19.1875 8.296875 \r\nL 53.609375 8.296875 \r\nL 53.609375 0 \r\nL 7.328125 0 \r\nL 7.328125 8.296875 \r\nQ 12.9375 14.109375 22.625 23.890625 \r\nQ 32.328125 33.6875 34.8125 36.53125 \r\nQ 39.546875 41.84375 41.421875 45.53125 \r\nQ 43.3125 49.21875 43.3125 52.78125 \r\nQ 43.3125 58.59375 39.234375 62.25 \r\nQ 35.15625 65.921875 28.609375 65.921875 \r\nQ 23.96875 65.921875 18.8125 64.3125 \r\nQ 13.671875 62.703125 7.8125 59.421875 \r\nL 7.8125 69.390625 \r\nQ 13.765625 71.78125 18.9375 73 \r\nQ 24.125 74.21875 28.421875 74.21875 \r\nQ 39.75 74.21875 46.484375 68.546875 \r\nQ 53.21875 62.890625 53.21875 53.421875 \r\nQ 53.21875 48.921875 51.53125 44.890625 \r\nQ 49.859375 40.875 45.40625 35.40625 \r\nQ 44.1875 33.984375 37.640625 27.21875 \r\nQ 31.109375 20.453125 19.1875 8.296875 \r\nz\r\n\" id=\"DejaVuSans-50\"/>\r\n      </defs>\r\n      <g transform=\"translate(304.676726 254.356563)scale(0.1 -0.1)\">\r\n       <use xlink:href=\"#DejaVuSans-50\"/>\r\n       <use x=\"63.623047\" xlink:href=\"#DejaVuSans-48\"/>\r\n       <use x=\"127.246094\" xlink:href=\"#DejaVuSans-48\"/>\r\n       <use x=\"190.869141\" xlink:href=\"#DejaVuSans-48\"/>\r\n      </g>\r\n     </g>\r\n    </g>\r\n   </g>\r\n   <g id=\"matplotlib.axis_2\">\r\n    <g id=\"ytick_1\">\r\n     <g id=\"line2d_6\">\r\n      <defs>\r\n       <path d=\"M 0 0 \r\nL -3.5 0 \r\n\" id=\"m7c172d614f\" style=\"stroke:#000000;stroke-width:0.8;\"/>\r\n      </defs>\r\n      <g>\r\n       <use style=\"stroke:#000000;stroke-width:0.8;\" x=\"41.667188\" xlink:href=\"#m7c172d614f\" y=\"212.972237\"/>\r\n      </g>\r\n     </g>\r\n     <g id=\"text_6\">\r\n      <!-- −400 -->\r\n      <defs>\r\n       <path d=\"M 10.59375 35.5 \r\nL 73.1875 35.5 \r\nL 73.1875 27.203125 \r\nL 10.59375 27.203125 \r\nz\r\n\" id=\"DejaVuSans-8722\"/>\r\n       <path d=\"M 37.796875 64.3125 \r\nL 12.890625 25.390625 \r\nL 37.796875 25.390625 \r\nz\r\nM 35.203125 72.90625 \r\nL 47.609375 72.90625 \r\nL 47.609375 25.390625 \r\nL 58.015625 25.390625 \r\nL 58.015625 17.1875 \r\nL 47.609375 17.1875 \r\nL 47.609375 0 \r\nL 37.796875 0 \r\nL 37.796875 17.1875 \r\nL 4.890625 17.1875 \r\nL 4.890625 26.703125 \r\nz\r\n\" id=\"DejaVuSans-52\"/>\r\n      </defs>\r\n      <g transform=\"translate(7.2 216.771456)scale(0.1 -0.1)\">\r\n       <use xlink:href=\"#DejaVuSans-8722\"/>\r\n       <use x=\"83.789062\" xlink:href=\"#DejaVuSans-52\"/>\r\n       <use x=\"147.412109\" xlink:href=\"#DejaVuSans-48\"/>\r\n       <use x=\"211.035156\" xlink:href=\"#DejaVuSans-48\"/>\r\n      </g>\r\n     </g>\r\n    </g>\r\n    <g id=\"ytick_2\">\r\n     <g id=\"line2d_7\">\r\n      <g>\r\n       <use style=\"stroke:#000000;stroke-width:0.8;\" x=\"41.667188\" xlink:href=\"#m7c172d614f\" y=\"171.546892\"/>\r\n      </g>\r\n     </g>\r\n     <g id=\"text_7\">\r\n      <!-- −300 -->\r\n      <defs>\r\n       <path d=\"M 40.578125 39.3125 \r\nQ 47.65625 37.796875 51.625 33 \r\nQ 55.609375 28.21875 55.609375 21.1875 \r\nQ 55.609375 10.40625 48.1875 4.484375 \r\nQ 40.765625 -1.421875 27.09375 -1.421875 \r\nQ 22.515625 -1.421875 17.65625 -0.515625 \r\nQ 12.796875 0.390625 7.625 2.203125 \r\nL 7.625 11.71875 \r\nQ 11.71875 9.328125 16.59375 8.109375 \r\nQ 21.484375 6.890625 26.8125 6.890625 \r\nQ 36.078125 6.890625 40.9375 10.546875 \r\nQ 45.796875 14.203125 45.796875 21.1875 \r\nQ 45.796875 27.640625 41.28125 31.265625 \r\nQ 36.765625 34.90625 28.71875 34.90625 \r\nL 20.21875 34.90625 \r\nL 20.21875 43.015625 \r\nL 29.109375 43.015625 \r\nQ 36.375 43.015625 40.234375 45.921875 \r\nQ 44.09375 48.828125 44.09375 54.296875 \r\nQ 44.09375 59.90625 40.109375 62.90625 \r\nQ 36.140625 65.921875 28.71875 65.921875 \r\nQ 24.65625 65.921875 20.015625 65.03125 \r\nQ 15.375 64.15625 9.8125 62.3125 \r\nL 9.8125 71.09375 \r\nQ 15.4375 72.65625 20.34375 73.4375 \r\nQ 25.25 74.21875 29.59375 74.21875 \r\nQ 40.828125 74.21875 47.359375 69.109375 \r\nQ 53.90625 64.015625 53.90625 55.328125 \r\nQ 53.90625 49.265625 50.4375 45.09375 \r\nQ 46.96875 40.921875 40.578125 39.3125 \r\nz\r\n\" id=\"DejaVuSans-51\"/>\r\n      </defs>\r\n      <g transform=\"translate(7.2 175.346111)scale(0.1 -0.1)\">\r\n       <use xlink:href=\"#DejaVuSans-8722\"/>\r\n       <use x=\"83.789062\" xlink:href=\"#DejaVuSans-51\"/>\r\n       <use x=\"147.412109\" xlink:href=\"#DejaVuSans-48\"/>\r\n       <use x=\"211.035156\" xlink:href=\"#DejaVuSans-48\"/>\r\n      </g>\r\n     </g>\r\n    </g>\r\n    <g id=\"ytick_3\">\r\n     <g id=\"line2d_8\">\r\n      <g>\r\n       <use style=\"stroke:#000000;stroke-width:0.8;\" x=\"41.667188\" xlink:href=\"#m7c172d614f\" y=\"130.121547\"/>\r\n      </g>\r\n     </g>\r\n     <g id=\"text_8\">\r\n      <!-- −200 -->\r\n      <g transform=\"translate(7.2 133.920766)scale(0.1 -0.1)\">\r\n       <use xlink:href=\"#DejaVuSans-8722\"/>\r\n       <use x=\"83.789062\" xlink:href=\"#DejaVuSans-50\"/>\r\n       <use x=\"147.412109\" xlink:href=\"#DejaVuSans-48\"/>\r\n       <use x=\"211.035156\" xlink:href=\"#DejaVuSans-48\"/>\r\n      </g>\r\n     </g>\r\n    </g>\r\n    <g id=\"ytick_4\">\r\n     <g id=\"line2d_9\">\r\n      <g>\r\n       <use style=\"stroke:#000000;stroke-width:0.8;\" x=\"41.667188\" xlink:href=\"#m7c172d614f\" y=\"88.696202\"/>\r\n      </g>\r\n     </g>\r\n     <g id=\"text_9\">\r\n      <!-- −100 -->\r\n      <g transform=\"translate(7.2 92.495421)scale(0.1 -0.1)\">\r\n       <use xlink:href=\"#DejaVuSans-8722\"/>\r\n       <use x=\"83.789062\" xlink:href=\"#DejaVuSans-49\"/>\r\n       <use x=\"147.412109\" xlink:href=\"#DejaVuSans-48\"/>\r\n       <use x=\"211.035156\" xlink:href=\"#DejaVuSans-48\"/>\r\n      </g>\r\n     </g>\r\n    </g>\r\n    <g id=\"ytick_5\">\r\n     <g id=\"line2d_10\">\r\n      <g>\r\n       <use style=\"stroke:#000000;stroke-width:0.8;\" x=\"41.667188\" xlink:href=\"#m7c172d614f\" y=\"47.270857\"/>\r\n      </g>\r\n     </g>\r\n     <g id=\"text_10\">\r\n      <!-- 0 -->\r\n      <g transform=\"translate(28.304688 51.070076)scale(0.1 -0.1)\">\r\n       <use xlink:href=\"#DejaVuSans-48\"/>\r\n      </g>\r\n     </g>\r\n    </g>\r\n   </g>\r\n   <g id=\"patch_3\">\r\n    <path d=\"M 41.667188 239.758125 \r\nL 41.667188 22.318125 \r\n\" style=\"fill:none;stroke:#000000;stroke-linecap:square;stroke-linejoin:miter;stroke-width:0.8;\"/>\r\n   </g>\r\n   <g id=\"patch_4\">\r\n    <path d=\"M 376.467188 239.758125 \r\nL 376.467188 22.318125 \r\n\" style=\"fill:none;stroke:#000000;stroke-linecap:square;stroke-linejoin:miter;stroke-width:0.8;\"/>\r\n   </g>\r\n   <g id=\"patch_5\">\r\n    <path d=\"M 41.667187 239.758125 \r\nL 376.467188 239.758125 \r\n\" style=\"fill:none;stroke:#000000;stroke-linecap:square;stroke-linejoin:miter;stroke-width:0.8;\"/>\r\n   </g>\r\n   <g id=\"patch_6\">\r\n    <path d=\"M 41.667187 22.318125 \r\nL 376.467188 22.318125 \r\n\" style=\"fill:none;stroke:#000000;stroke-linecap:square;stroke-linejoin:miter;stroke-width:0.8;\"/>\r\n   </g>\r\n   <g id=\"text_11\">\r\n    <!-- trajectories -->\r\n    <defs>\r\n     <path d=\"M 18.3125 70.21875 \r\nL 18.3125 54.6875 \r\nL 36.8125 54.6875 \r\nL 36.8125 47.703125 \r\nL 18.3125 47.703125 \r\nL 18.3125 18.015625 \r\nQ 18.3125 11.328125 20.140625 9.421875 \r\nQ 21.96875 7.515625 27.59375 7.515625 \r\nL 36.8125 7.515625 \r\nL 36.8125 0 \r\nL 27.59375 0 \r\nQ 17.1875 0 13.234375 3.875 \r\nQ 9.28125 7.765625 9.28125 18.015625 \r\nL 9.28125 47.703125 \r\nL 2.6875 47.703125 \r\nL 2.6875 54.6875 \r\nL 9.28125 54.6875 \r\nL 9.28125 70.21875 \r\nz\r\n\" id=\"DejaVuSans-116\"/>\r\n     <path d=\"M 41.109375 46.296875 \r\nQ 39.59375 47.171875 37.8125 47.578125 \r\nQ 36.03125 48 33.890625 48 \r\nQ 26.265625 48 22.1875 43.046875 \r\nQ 18.109375 38.09375 18.109375 28.8125 \r\nL 18.109375 0 \r\nL 9.078125 0 \r\nL 9.078125 54.6875 \r\nL 18.109375 54.6875 \r\nL 18.109375 46.1875 \r\nQ 20.953125 51.171875 25.484375 53.578125 \r\nQ 30.03125 56 36.53125 56 \r\nQ 37.453125 56 38.578125 55.875 \r\nQ 39.703125 55.765625 41.0625 55.515625 \r\nz\r\n\" id=\"DejaVuSans-114\"/>\r\n     <path d=\"M 34.28125 27.484375 \r\nQ 23.390625 27.484375 19.1875 25 \r\nQ 14.984375 22.515625 14.984375 16.5 \r\nQ 14.984375 11.71875 18.140625 8.90625 \r\nQ 21.296875 6.109375 26.703125 6.109375 \r\nQ 34.1875 6.109375 38.703125 11.40625 \r\nQ 43.21875 16.703125 43.21875 25.484375 \r\nL 43.21875 27.484375 \r\nz\r\nM 52.203125 31.203125 \r\nL 52.203125 0 \r\nL 43.21875 0 \r\nL 43.21875 8.296875 \r\nQ 40.140625 3.328125 35.546875 0.953125 \r\nQ 30.953125 -1.421875 24.3125 -1.421875 \r\nQ 15.921875 -1.421875 10.953125 3.296875 \r\nQ 6 8.015625 6 15.921875 \r\nQ 6 25.140625 12.171875 29.828125 \r\nQ 18.359375 34.515625 30.609375 34.515625 \r\nL 43.21875 34.515625 \r\nL 43.21875 35.40625 \r\nQ 43.21875 41.609375 39.140625 45 \r\nQ 35.0625 48.390625 27.6875 48.390625 \r\nQ 23 48.390625 18.546875 47.265625 \r\nQ 14.109375 46.140625 10.015625 43.890625 \r\nL 10.015625 52.203125 \r\nQ 14.9375 54.109375 19.578125 55.046875 \r\nQ 24.21875 56 28.609375 56 \r\nQ 40.484375 56 46.34375 49.84375 \r\nQ 52.203125 43.703125 52.203125 31.203125 \r\nz\r\n\" id=\"DejaVuSans-97\"/>\r\n     <path d=\"M 9.421875 54.6875 \r\nL 18.40625 54.6875 \r\nL 18.40625 -0.984375 \r\nQ 18.40625 -11.421875 14.421875 -16.109375 \r\nQ 10.453125 -20.796875 1.609375 -20.796875 \r\nL -1.8125 -20.796875 \r\nL -1.8125 -13.1875 \r\nL 0.59375 -13.1875 \r\nQ 5.71875 -13.1875 7.5625 -10.8125 \r\nQ 9.421875 -8.453125 9.421875 -0.984375 \r\nz\r\nM 9.421875 75.984375 \r\nL 18.40625 75.984375 \r\nL 18.40625 64.59375 \r\nL 9.421875 64.59375 \r\nz\r\n\" id=\"DejaVuSans-106\"/>\r\n     <path d=\"M 56.203125 29.59375 \r\nL 56.203125 25.203125 \r\nL 14.890625 25.203125 \r\nQ 15.484375 15.921875 20.484375 11.0625 \r\nQ 25.484375 6.203125 34.421875 6.203125 \r\nQ 39.59375 6.203125 44.453125 7.46875 \r\nQ 49.3125 8.734375 54.109375 11.28125 \r\nL 54.109375 2.78125 \r\nQ 49.265625 0.734375 44.1875 -0.34375 \r\nQ 39.109375 -1.421875 33.890625 -1.421875 \r\nQ 20.796875 -1.421875 13.15625 6.1875 \r\nQ 5.515625 13.8125 5.515625 26.8125 \r\nQ 5.515625 40.234375 12.765625 48.109375 \r\nQ 20.015625 56 32.328125 56 \r\nQ 43.359375 56 49.78125 48.890625 \r\nQ 56.203125 41.796875 56.203125 29.59375 \r\nz\r\nM 47.21875 32.234375 \r\nQ 47.125 39.59375 43.09375 43.984375 \r\nQ 39.0625 48.390625 32.421875 48.390625 \r\nQ 24.90625 48.390625 20.390625 44.140625 \r\nQ 15.875 39.890625 15.1875 32.171875 \r\nz\r\n\" id=\"DejaVuSans-101\"/>\r\n     <path d=\"M 48.78125 52.59375 \r\nL 48.78125 44.1875 \r\nQ 44.96875 46.296875 41.140625 47.34375 \r\nQ 37.3125 48.390625 33.40625 48.390625 \r\nQ 24.65625 48.390625 19.8125 42.84375 \r\nQ 14.984375 37.3125 14.984375 27.296875 \r\nQ 14.984375 17.28125 19.8125 11.734375 \r\nQ 24.65625 6.203125 33.40625 6.203125 \r\nQ 37.3125 6.203125 41.140625 7.25 \r\nQ 44.96875 8.296875 48.78125 10.40625 \r\nL 48.78125 2.09375 \r\nQ 45.015625 0.34375 40.984375 -0.53125 \r\nQ 36.96875 -1.421875 32.421875 -1.421875 \r\nQ 20.0625 -1.421875 12.78125 6.34375 \r\nQ 5.515625 14.109375 5.515625 27.296875 \r\nQ 5.515625 40.671875 12.859375 48.328125 \r\nQ 20.21875 56 33.015625 56 \r\nQ 37.15625 56 41.109375 55.140625 \r\nQ 45.0625 54.296875 48.78125 52.59375 \r\nz\r\n\" id=\"DejaVuSans-99\"/>\r\n     <path d=\"M 30.609375 48.390625 \r\nQ 23.390625 48.390625 19.1875 42.75 \r\nQ 14.984375 37.109375 14.984375 27.296875 \r\nQ 14.984375 17.484375 19.15625 11.84375 \r\nQ 23.34375 6.203125 30.609375 6.203125 \r\nQ 37.796875 6.203125 41.984375 11.859375 \r\nQ 46.1875 17.53125 46.1875 27.296875 \r\nQ 46.1875 37.015625 41.984375 42.703125 \r\nQ 37.796875 48.390625 30.609375 48.390625 \r\nz\r\nM 30.609375 56 \r\nQ 42.328125 56 49.015625 48.375 \r\nQ 55.71875 40.765625 55.71875 27.296875 \r\nQ 55.71875 13.875 49.015625 6.21875 \r\nQ 42.328125 -1.421875 30.609375 -1.421875 \r\nQ 18.84375 -1.421875 12.171875 6.21875 \r\nQ 5.515625 13.875 5.515625 27.296875 \r\nQ 5.515625 40.765625 12.171875 48.375 \r\nQ 18.84375 56 30.609375 56 \r\nz\r\n\" id=\"DejaVuSans-111\"/>\r\n     <path d=\"M 9.421875 54.6875 \r\nL 18.40625 54.6875 \r\nL 18.40625 0 \r\nL 9.421875 0 \r\nz\r\nM 9.421875 75.984375 \r\nL 18.40625 75.984375 \r\nL 18.40625 64.59375 \r\nL 9.421875 64.59375 \r\nz\r\n\" id=\"DejaVuSans-105\"/>\r\n     <path d=\"M 44.28125 53.078125 \r\nL 44.28125 44.578125 \r\nQ 40.484375 46.53125 36.375 47.5 \r\nQ 32.28125 48.484375 27.875 48.484375 \r\nQ 21.1875 48.484375 17.84375 46.4375 \r\nQ 14.5 44.390625 14.5 40.28125 \r\nQ 14.5 37.15625 16.890625 35.375 \r\nQ 19.28125 33.59375 26.515625 31.984375 \r\nL 29.59375 31.296875 \r\nQ 39.15625 29.25 43.1875 25.515625 \r\nQ 47.21875 21.78125 47.21875 15.09375 \r\nQ 47.21875 7.46875 41.1875 3.015625 \r\nQ 35.15625 -1.421875 24.609375 -1.421875 \r\nQ 20.21875 -1.421875 15.453125 -0.5625 \r\nQ 10.6875 0.296875 5.421875 2 \r\nL 5.421875 11.28125 \r\nQ 10.40625 8.6875 15.234375 7.390625 \r\nQ 20.0625 6.109375 24.8125 6.109375 \r\nQ 31.15625 6.109375 34.5625 8.28125 \r\nQ 37.984375 10.453125 37.984375 14.40625 \r\nQ 37.984375 18.0625 35.515625 20.015625 \r\nQ 33.0625 21.96875 24.703125 23.78125 \r\nL 21.578125 24.515625 \r\nQ 13.234375 26.265625 9.515625 29.90625 \r\nQ 5.8125 33.546875 5.8125 39.890625 \r\nQ 5.8125 47.609375 11.28125 51.796875 \r\nQ 16.75 56 26.8125 56 \r\nQ 31.78125 56 36.171875 55.265625 \r\nQ 40.578125 54.546875 44.28125 53.078125 \r\nz\r\n\" id=\"DejaVuSans-115\"/>\r\n    </defs>\r\n    <g transform=\"translate(174.939375 16.318125)scale(0.12 -0.12)\">\r\n     <use xlink:href=\"#DejaVuSans-116\"/>\r\n     <use x=\"39.208984\" xlink:href=\"#DejaVuSans-114\"/>\r\n     <use x=\"80.322266\" xlink:href=\"#DejaVuSans-97\"/>\r\n     <use x=\"141.601562\" xlink:href=\"#DejaVuSans-106\"/>\r\n     <use x=\"169.384766\" xlink:href=\"#DejaVuSans-101\"/>\r\n     <use x=\"230.908203\" xlink:href=\"#DejaVuSans-99\"/>\r\n     <use x=\"285.888672\" xlink:href=\"#DejaVuSans-116\"/>\r\n     <use x=\"325.097656\" xlink:href=\"#DejaVuSans-111\"/>\r\n     <use x=\"386.279297\" xlink:href=\"#DejaVuSans-114\"/>\r\n     <use x=\"427.392578\" xlink:href=\"#DejaVuSans-105\"/>\r\n     <use x=\"455.175781\" xlink:href=\"#DejaVuSans-101\"/>\r\n     <use x=\"516.699219\" xlink:href=\"#DejaVuSans-115\"/>\r\n    </g>\r\n   </g>\r\n   <g id=\"legend_1\">\r\n    <g id=\"patch_7\">\r\n     <path d=\"M 287.398438 89.030625 \r\nL 369.467188 89.030625 \r\nQ 371.467188 89.030625 371.467188 87.030625 \r\nL 371.467188 29.318125 \r\nQ 371.467188 27.318125 369.467188 27.318125 \r\nL 287.398438 27.318125 \r\nQ 285.398438 27.318125 285.398438 29.318125 \r\nL 285.398438 87.030625 \r\nQ 285.398438 89.030625 287.398438 89.030625 \r\nz\r\n\" style=\"fill:#ffffff;opacity:0.8;stroke:#cccccc;stroke-linejoin:miter;\"/>\r\n    </g>\r\n    <g id=\"PathCollection_5\">\r\n     <g>\r\n      <use style=\"fill:#ff0000;stroke:#ff0000;\" x=\"299.398438\" xlink:href=\"#ma738e9f9f2\" y=\"36.291562\"/>\r\n     </g>\r\n    </g>\r\n    <g id=\"text_12\">\r\n     <!-- Prediction -->\r\n     <defs>\r\n      <path d=\"M 19.671875 64.796875 \r\nL 19.671875 37.40625 \r\nL 32.078125 37.40625 \r\nQ 38.96875 37.40625 42.71875 40.96875 \r\nQ 46.484375 44.53125 46.484375 51.125 \r\nQ 46.484375 57.671875 42.71875 61.234375 \r\nQ 38.96875 64.796875 32.078125 64.796875 \r\nz\r\nM 9.8125 72.90625 \r\nL 32.078125 72.90625 \r\nQ 44.34375 72.90625 50.609375 67.359375 \r\nQ 56.890625 61.8125 56.890625 51.125 \r\nQ 56.890625 40.328125 50.609375 34.8125 \r\nQ 44.34375 29.296875 32.078125 29.296875 \r\nL 19.671875 29.296875 \r\nL 19.671875 0 \r\nL 9.8125 0 \r\nz\r\n\" id=\"DejaVuSans-80\"/>\r\n      <path d=\"M 45.40625 46.390625 \r\nL 45.40625 75.984375 \r\nL 54.390625 75.984375 \r\nL 54.390625 0 \r\nL 45.40625 0 \r\nL 45.40625 8.203125 \r\nQ 42.578125 3.328125 38.25 0.953125 \r\nQ 33.9375 -1.421875 27.875 -1.421875 \r\nQ 17.96875 -1.421875 11.734375 6.484375 \r\nQ 5.515625 14.40625 5.515625 27.296875 \r\nQ 5.515625 40.1875 11.734375 48.09375 \r\nQ 17.96875 56 27.875 56 \r\nQ 33.9375 56 38.25 53.625 \r\nQ 42.578125 51.265625 45.40625 46.390625 \r\nz\r\nM 14.796875 27.296875 \r\nQ 14.796875 17.390625 18.875 11.75 \r\nQ 22.953125 6.109375 30.078125 6.109375 \r\nQ 37.203125 6.109375 41.296875 11.75 \r\nQ 45.40625 17.390625 45.40625 27.296875 \r\nQ 45.40625 37.203125 41.296875 42.84375 \r\nQ 37.203125 48.484375 30.078125 48.484375 \r\nQ 22.953125 48.484375 18.875 42.84375 \r\nQ 14.796875 37.203125 14.796875 27.296875 \r\nz\r\n\" id=\"DejaVuSans-100\"/>\r\n      <path d=\"M 54.890625 33.015625 \r\nL 54.890625 0 \r\nL 45.90625 0 \r\nL 45.90625 32.71875 \r\nQ 45.90625 40.484375 42.875 44.328125 \r\nQ 39.84375 48.1875 33.796875 48.1875 \r\nQ 26.515625 48.1875 22.3125 43.546875 \r\nQ 18.109375 38.921875 18.109375 30.90625 \r\nL 18.109375 0 \r\nL 9.078125 0 \r\nL 9.078125 54.6875 \r\nL 18.109375 54.6875 \r\nL 18.109375 46.1875 \r\nQ 21.34375 51.125 25.703125 53.5625 \r\nQ 30.078125 56 35.796875 56 \r\nQ 45.21875 56 50.046875 50.171875 \r\nQ 54.890625 44.34375 54.890625 33.015625 \r\nz\r\n\" id=\"DejaVuSans-110\"/>\r\n     </defs>\r\n     <g transform=\"translate(317.398438 38.916562)scale(0.1 -0.1)\">\r\n      <use xlink:href=\"#DejaVuSans-80\"/>\r\n      <use x=\"60.287109\" xlink:href=\"#DejaVuSans-114\"/>\r\n      <use x=\"101.369141\" xlink:href=\"#DejaVuSans-101\"/>\r\n      <use x=\"162.892578\" xlink:href=\"#DejaVuSans-100\"/>\r\n      <use x=\"226.369141\" xlink:href=\"#DejaVuSans-105\"/>\r\n      <use x=\"254.152344\" xlink:href=\"#DejaVuSans-99\"/>\r\n      <use x=\"309.132812\" xlink:href=\"#DejaVuSans-116\"/>\r\n      <use x=\"348.341797\" xlink:href=\"#DejaVuSans-105\"/>\r\n      <use x=\"376.125\" xlink:href=\"#DejaVuSans-111\"/>\r\n      <use x=\"437.306641\" xlink:href=\"#DejaVuSans-110\"/>\r\n     </g>\r\n    </g>\r\n    <g id=\"PathCollection_6\">\r\n     <g>\r\n      <use style=\"fill:#0000ff;stroke:#0000ff;\" x=\"299.398438\" xlink:href=\"#m6fbc819b92\" y=\"50.969687\"/>\r\n     </g>\r\n    </g>\r\n    <g id=\"text_13\">\r\n     <!-- Real -->\r\n     <defs>\r\n      <path d=\"M 44.390625 34.1875 \r\nQ 47.5625 33.109375 50.5625 29.59375 \r\nQ 53.5625 26.078125 56.59375 19.921875 \r\nL 66.609375 0 \r\nL 56 0 \r\nL 46.6875 18.703125 \r\nQ 43.0625 26.03125 39.671875 28.421875 \r\nQ 36.28125 30.8125 30.421875 30.8125 \r\nL 19.671875 30.8125 \r\nL 19.671875 0 \r\nL 9.8125 0 \r\nL 9.8125 72.90625 \r\nL 32.078125 72.90625 \r\nQ 44.578125 72.90625 50.734375 67.671875 \r\nQ 56.890625 62.453125 56.890625 51.90625 \r\nQ 56.890625 45.015625 53.6875 40.46875 \r\nQ 50.484375 35.9375 44.390625 34.1875 \r\nz\r\nM 19.671875 64.796875 \r\nL 19.671875 38.921875 \r\nL 32.078125 38.921875 \r\nQ 39.203125 38.921875 42.84375 42.21875 \r\nQ 46.484375 45.515625 46.484375 51.90625 \r\nQ 46.484375 58.296875 42.84375 61.546875 \r\nQ 39.203125 64.796875 32.078125 64.796875 \r\nz\r\n\" id=\"DejaVuSans-82\"/>\r\n      <path d=\"M 9.421875 75.984375 \r\nL 18.40625 75.984375 \r\nL 18.40625 0 \r\nL 9.421875 0 \r\nz\r\n\" id=\"DejaVuSans-108\"/>\r\n     </defs>\r\n     <g transform=\"translate(317.398438 53.594687)scale(0.1 -0.1)\">\r\n      <use xlink:href=\"#DejaVuSans-82\"/>\r\n      <use x=\"69.419922\" xlink:href=\"#DejaVuSans-101\"/>\r\n      <use x=\"130.943359\" xlink:href=\"#DejaVuSans-97\"/>\r\n      <use x=\"192.222656\" xlink:href=\"#DejaVuSans-108\"/>\r\n     </g>\r\n    </g>\r\n    <g id=\"PathCollection_7\">\r\n     <g>\r\n      <use style=\"fill:#008000;stroke:#008000;\" x=\"299.398438\" xlink:href=\"#m4b5fd02f9f\" y=\"65.647812\"/>\r\n     </g>\r\n    </g>\r\n    <g id=\"text_14\">\r\n     <!-- Target -->\r\n     <defs>\r\n      <path d=\"M -0.296875 72.90625 \r\nL 61.375 72.90625 \r\nL 61.375 64.59375 \r\nL 35.5 64.59375 \r\nL 35.5 0 \r\nL 25.59375 0 \r\nL 25.59375 64.59375 \r\nL -0.296875 64.59375 \r\nz\r\n\" id=\"DejaVuSans-84\"/>\r\n      <path d=\"M 45.40625 27.984375 \r\nQ 45.40625 37.75 41.375 43.109375 \r\nQ 37.359375 48.484375 30.078125 48.484375 \r\nQ 22.859375 48.484375 18.828125 43.109375 \r\nQ 14.796875 37.75 14.796875 27.984375 \r\nQ 14.796875 18.265625 18.828125 12.890625 \r\nQ 22.859375 7.515625 30.078125 7.515625 \r\nQ 37.359375 7.515625 41.375 12.890625 \r\nQ 45.40625 18.265625 45.40625 27.984375 \r\nz\r\nM 54.390625 6.78125 \r\nQ 54.390625 -7.171875 48.1875 -13.984375 \r\nQ 42 -20.796875 29.203125 -20.796875 \r\nQ 24.46875 -20.796875 20.265625 -20.09375 \r\nQ 16.0625 -19.390625 12.109375 -17.921875 \r\nL 12.109375 -9.1875 \r\nQ 16.0625 -11.328125 19.921875 -12.34375 \r\nQ 23.78125 -13.375 27.78125 -13.375 \r\nQ 36.625 -13.375 41.015625 -8.765625 \r\nQ 45.40625 -4.15625 45.40625 5.171875 \r\nL 45.40625 9.625 \r\nQ 42.625 4.78125 38.28125 2.390625 \r\nQ 33.9375 0 27.875 0 \r\nQ 17.828125 0 11.671875 7.65625 \r\nQ 5.515625 15.328125 5.515625 27.984375 \r\nQ 5.515625 40.671875 11.671875 48.328125 \r\nQ 17.828125 56 27.875 56 \r\nQ 33.9375 56 38.28125 53.609375 \r\nQ 42.625 51.21875 45.40625 46.390625 \r\nL 45.40625 54.6875 \r\nL 54.390625 54.6875 \r\nz\r\n\" id=\"DejaVuSans-103\"/>\r\n     </defs>\r\n     <g transform=\"translate(317.398438 68.272812)scale(0.1 -0.1)\">\r\n      <use xlink:href=\"#DejaVuSans-84\"/>\r\n      <use x=\"60.833984\" xlink:href=\"#DejaVuSans-97\"/>\r\n      <use x=\"122.113281\" xlink:href=\"#DejaVuSans-114\"/>\r\n      <use x=\"163.210938\" xlink:href=\"#DejaVuSans-103\"/>\r\n      <use x=\"226.6875\" xlink:href=\"#DejaVuSans-101\"/>\r\n      <use x=\"288.210938\" xlink:href=\"#DejaVuSans-116\"/>\r\n     </g>\r\n    </g>\r\n    <g id=\"PathCollection_8\">\r\n     <g>\r\n      <use style=\"fill:#bfbf00;stroke:#bfbf00;\" x=\"299.398438\" xlink:href=\"#m0761d15e70\" y=\"80.325938\"/>\r\n     </g>\r\n    </g>\r\n    <g id=\"text_15\">\r\n     <!-- Start -->\r\n     <defs>\r\n      <path d=\"M 53.515625 70.515625 \r\nL 53.515625 60.890625 \r\nQ 47.90625 63.578125 42.921875 64.890625 \r\nQ 37.9375 66.21875 33.296875 66.21875 \r\nQ 25.25 66.21875 20.875 63.09375 \r\nQ 16.5 59.96875 16.5 54.203125 \r\nQ 16.5 49.359375 19.40625 46.890625 \r\nQ 22.3125 44.4375 30.421875 42.921875 \r\nL 36.375 41.703125 \r\nQ 47.40625 39.59375 52.65625 34.296875 \r\nQ 57.90625 29 57.90625 20.125 \r\nQ 57.90625 9.515625 50.796875 4.046875 \r\nQ 43.703125 -1.421875 29.984375 -1.421875 \r\nQ 24.8125 -1.421875 18.96875 -0.25 \r\nQ 13.140625 0.921875 6.890625 3.21875 \r\nL 6.890625 13.375 \r\nQ 12.890625 10.015625 18.65625 8.296875 \r\nQ 24.421875 6.59375 29.984375 6.59375 \r\nQ 38.421875 6.59375 43.015625 9.90625 \r\nQ 47.609375 13.234375 47.609375 19.390625 \r\nQ 47.609375 24.75 44.3125 27.78125 \r\nQ 41.015625 30.8125 33.5 32.328125 \r\nL 27.484375 33.5 \r\nQ 16.453125 35.6875 11.515625 40.375 \r\nQ 6.59375 45.0625 6.59375 53.421875 \r\nQ 6.59375 63.09375 13.40625 68.65625 \r\nQ 20.21875 74.21875 32.171875 74.21875 \r\nQ 37.3125 74.21875 42.625 73.28125 \r\nQ 47.953125 72.359375 53.515625 70.515625 \r\nz\r\n\" id=\"DejaVuSans-83\"/>\r\n     </defs>\r\n     <g transform=\"translate(317.398438 82.950938)scale(0.1 -0.1)\">\r\n      <use xlink:href=\"#DejaVuSans-83\"/>\r\n      <use x=\"63.476562\" xlink:href=\"#DejaVuSans-116\"/>\r\n      <use x=\"102.685547\" xlink:href=\"#DejaVuSans-97\"/>\r\n      <use x=\"163.964844\" xlink:href=\"#DejaVuSans-114\"/>\r\n      <use x=\"205.078125\" xlink:href=\"#DejaVuSans-116\"/>\r\n     </g>\r\n    </g>\r\n   </g>\r\n  </g>\r\n </g>\r\n <defs>\r\n  <clipPath id=\"peb81d1d9d0\">\r\n   <rect height=\"217.44\" width=\"334.8\" x=\"41.667188\" y=\"22.318125\"/>\r\n  </clipPath>\r\n </defs>\r\n</svg>\r\n",
      "image/png": "[encoded data removed]"
     },
     "metadata": {
      "needs_background": "light"
     }
    }
   ],
   "source": [
    "sample_id = 7\n",
    "initial_action = np.array(samples['initial_state'][sample_id][6:8])\n",
    "start = np.array(samples['initial_state'][sample_id][0:6])\n",
    "target = np.array(samples['final_state'][sample_id][0:6])\n",
    "distancia_inicial = target - start\n",
    "teorico = []\n",
    "for sample in  samples['h_path'][sample_id]:\n",
    "    teorico.append(sample[0:6])\n",
    "teorico = np.array(teorico)\n",
    "\n",
    "trajectory, cost, actions, end_message= generate_trajectory_Decoder(model, start, target, initial_action, data_stats_T)\n",
    "trajectory = np.array(trajectory)\n",
    "print(trajectory[:,0])\n",
    "\n",
    "plt.figure()\n",
    "\n",
    "plt.scatter(trajectory[:,0], trajectory[:,1], c='r', label='Prediction')\n",
    "plt.scatter(teorico[:,0], teorico[:,1], c='b', label='Real')\n",
    "plt.scatter(ZT_norm[0],ZT_norm[1], c='g', label='Target')\n",
    "plt.scatter(distancia_inicial[0],distancia_inicial[1], c='y', label='Start')\n",
    "plt.title(\"trajectories\")\n",
    "plt.legend()\n",
    "\n",
    "plt.show()\n",
    "\n"
   ]
  },
  {
   "cell_type": "code",
   "execution_count": null,
   "metadata": {},
   "outputs": [],
   "source": []
  }
 ],
 "metadata": {
  "colab": {
   "collapsed_sections": [],
   "name": "regression.ipynb",
   "private_outputs": true,
   "provenance": [],
   "toc_visible": true
  },
  "kernelspec": {
   "display_name": "Python 3.7.5 64-bit ('pasky': virtualenv)",
   "name": "python37564bitpaskyvirtualenvdb13efe5d4c0467fbbb744965ba97dd5"
  },
  "language_info": {
   "codemirror_mode": {
    "name": "ipython",
    "version": 3
   },
   "file_extension": ".py",
   "mimetype": "text/x-python",
   "name": "python",
   "nbconvert_exporter": "python",
   "pygments_lexer": "ipython3",
   "version": "3.7.5-final"
  }
 },
 "nbformat": 4,
 "nbformat_minor": 0
}