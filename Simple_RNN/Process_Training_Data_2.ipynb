{
 "cells": [
  {
   "cell_type": "markdown",
   "metadata": {
    "colab_type": "text",
    "id": "EIdT9iu_Z4Rb"
   },
   "source": [
    "# Process training Data to train a RNN"
   ]
  },
  {
   "cell_type": "code",
   "execution_count": 5,
   "metadata": {},
   "outputs": [],
   "source": [
    "from __future__ import absolute_import, division, print_function, unicode_literals\n",
    "import pathlib\n",
    "import matplotlib.pyplot as plt\n",
    "import numpy as np\n",
    "import pandas as pd\n",
    "import seaborn as sns\n",
    "import pprint as pprint\n",
    "import math\n",
    "import time"
   ]
  },
  {
   "cell_type": "code",
   "execution_count": 6,
   "metadata": {},
   "outputs": [],
   "source": [
    "try:\n",
    "  # %tensorflow_version only exists in Colab.\n",
    "  %tensorflow_version 2.x\n",
    "except Exception:\n",
    "  pass\n",
    "import tensorflow as tf\n",
    "\n",
    "from tensorflow import keras\n",
    "from tensorflow.keras import layers"
   ]
  },
  {
   "cell_type": "code",
   "execution_count": 7,
   "metadata": {},
   "outputs": [],
   "source": [
    "import tensorflow_docs as tfdocs\n",
    "import tensorflow_docs.plots\n",
    "import tensorflow_docs.modeling\n",
    "import os\n",
    "import json\n",
    "import pickle\n",
    "import sklearn\n",
    "from sklearn import neighbors"
   ]
  },
  {
   "cell_type": "markdown",
   "metadata": {
    "colab_type": "text",
    "id": "gFh9ne3FZ-On"
   },
   "source": [
    "### 1. Get the data from CSV files\n",
    "First Import it using pandas"
   ]
  },
  {
   "cell_type": "code",
   "execution_count": 11,
   "metadata": {},
   "outputs": [],
   "source": [
    "def class_to_action (class_int):\n",
    "    with open('./data/class_to_action (28).json') as json_file:\n",
    "        CtA = json.load(json_file)\n",
    "        \n",
    "    action = CtA[class_int]\n",
    "    return action"
   ]
  },
  {
   "cell_type": "code",
   "execution_count": 12,
   "metadata": {},
   "outputs": [],
   "source": [
    "def closest_category(X, pred):\n",
    "    tree = sklearn.neighbors.KDTree(X, leaf_size=2)\n",
    "    dist, ind = tree.query(pred, k=1)\n",
    "    return ind"
   ]
  },
  {
   "cell_type": "code",
   "execution_count": 13,
   "metadata": {},
   "outputs": [],
   "source": [
    "\n",
    "def get_data (file):\n",
    "    raw_dataset = pd.read_csv(file)\n",
    "    dataset = raw_dataset.copy()\n",
    "    training_size = len(dataset)\n",
    "    N_CATEGORIES = 28\n",
    "\n",
    "    dataset[\"A0\"] = np.nan\n",
    "    dataset[\"A1\"] = np.nan\n",
    "\n",
    "    for index, row in dataset.iterrows():\n",
    "        CS_array =np.array(eval(row[\"current_state\"]))\n",
    "        dataset[\"current_state\"][index] = CS_array\n",
    "        GS_array =np.array(eval(row[\"goal_state\"]))\n",
    "        dataset[\"goal_state\"][index] = GS_array\n",
    "        GS_array =np.array(eval(row[\"out_action\"]))\n",
    "        dataset[\"out_action\"][index] = GS_array\n",
    "\n",
    "    # Usar estado final \n",
    "    dataset[\"Difference\"] =   dataset[\"goal_state\"]-dataset[\"current_state\"]\n",
    "\n",
    "    dataset[[\"C0\",'C1',\"C2\",\"C3\",'C4',\"C5\"]] = pd.DataFrame(dataset.current_state.values.tolist(), index= dataset.index)\n",
    "    dataset[[\"D0\",'D1',\"D2\",\"D3\",'D4',\"D5\"]] = pd.DataFrame(dataset.Difference.values.tolist(), index= dataset.index)\n",
    "    dataset[[\"A0\",\"A1\"]] = pd.DataFrame(dataset.out_action.values.tolist(), index= dataset.index)\n",
    "    \n",
    "    dataset_short= dataset[[\"id_camino\",\"D0\",'D1',\"D2\",\"D3\",'D4',\"D5\",\"A0\",\"A1\"]]\n",
    "\n",
    "    return dataset_short"
   ]
  },
  {
   "cell_type": "markdown",
   "metadata": {},
   "source": [
    "Add the last state with the exit action"
   ]
  },
  {
   "cell_type": "code",
   "execution_count": 14,
   "metadata": {},
   "outputs": [],
   "source": [
    "def add_end_state(dataset_short):\n",
    "    extended_dataset = dataset_short.copy()\n",
    "    exit_state = pd.DataFrame([{\"id_camino\":0,\"D0\":0,'D1':0,\"D2\":0,\"D3\":0,'D4':0,\"D5\":0,\"A0\":-1,\"A1\":-1}])\n",
    "    for camino in extended_dataset[\"id_camino\"].unique():\n",
    "        exit_state[\"id_camino\"] = camino\n",
    "        extended_dataset.append(exit_state)\n",
    "\n",
    "    return extended_dataset"
   ]
  },
  {
   "cell_type": "code",
   "execution_count": 80,
   "metadata": {},
   "outputs": [],
   "source": [
    "def extend_dataset(dataset_short, N_STEPS):\n",
    "    extended_dataset = dataset_short.copy()\n",
    "    last = extended_dataset.iloc[-1,0]\n",
    "    i=1\n",
    "    for camino in extended_dataset[\"id_camino\"].unique():\n",
    "        len_camino = len(extended_dataset[extended_dataset[\"id_camino\"]==camino])\n",
    "        if(len_camino>N_STEPS):\n",
    "            tail= extended_dataset[extended_dataset[\"id_camino\"]==camino][len_camino-N_STEPS:]\n",
    "            tail[\"id_camino\"]= last+i\n",
    "            i=i+1\n",
    "            extended_dataset = extended_dataset.append(tail,ignore_index=True)\n",
    "\n",
    "    return extended_dataset"
   ]
  },
  {
   "cell_type": "markdown",
   "metadata": {},
   "source": [
    "# Normalize the data"
   ]
  },
  {
   "cell_type": "markdown",
   "metadata": {
    "colab_type": "text",
    "id": "-ywmerQ6dSox"
   },
   "source": [
    "It is good practice to normalize features that use different scales and ranges. Although the model *might* converge without feature normalization, it makes training more difficult, and it makes the resulting model dependent on the choice of units used in the input.\n",
    "\n",
    "Note: Although we intentionally generate these statistics from only the training dataset, these statistics will also be used to normalize the test dataset. We need to do that to project the test dataset into the same distribution that the model has been trained on."
   ]
  },
  {
   "cell_type": "code",
   "execution_count": 1,
   "metadata": {},
   "outputs": [],
   "source": [
    "def norm(x, train_stats):\n",
    "  #return (x - train_stats['mean']) / train_stats['std']\n",
    "  return (x) / train_stats['std']\n",
    "\n",
    "\n"
   ]
  },
  {
   "cell_type": "code",
   "execution_count": 13,
   "metadata": {},
   "outputs": [],
   "source": [
    "def denorm(x, train_stats):\n",
    "  #return (x - train_stats['mean']) / train_stats['std']\n",
    "  return (x) * train_stats['std']\n"
   ]
  },
  {
   "cell_type": "code",
   "execution_count": 14,
   "metadata": {},
   "outputs": [],
   "source": [
    "def normalize_data(dataset_short,action_vector):\n",
    "    reduced_dataset = dataset_short.copy()\n",
    "    reduced_dataset.pop(\"A0\")\n",
    "    reduced_dataset.pop(\"A1\")\n",
    "    reduced_dataset.pop(\"id_camino\")\n",
    "    data_stats = reduced_dataset.describe()\n",
    "    data_stats = data_stats.transpose()\n",
    "\n",
    "    data_stats.to_csv(r\"./data/data_stats2.csv\")\n",
    "\n",
    "    action_vector.append(\"id_camino\")\n",
    "    normed_data = norm(reduced_dataset, data_stats)\n",
    "    normed_dataset = normed_data.join(dataset_short[action_vector])\n",
    "\n",
    "    return normed_dataset"
   ]
  },
  {
   "cell_type": "markdown",
   "metadata": {},
   "source": [
    "## Pad the data"
   ]
  },
  {
   "cell_type": "code",
   "execution_count": 15,
   "metadata": {},
   "outputs": [],
   "source": [
    "def padding(normed_dataset,N_STEPS, position):\n",
    "    PAD_LEN = N_STEPS+1\n",
    "    padded_data = []\n",
    "    for camino in normed_dataset[\"id_camino\"].unique():\n",
    "        group = normed_dataset[normed_dataset[\"id_camino\"]==camino]\n",
    "        group.pop(\"id_camino\")\n",
    "        padded_data.append(group.values)\n",
    "    \n",
    "    dataset2 = tf.keras.preprocessing.sequence.pad_sequences(padded_data, maxlen=PAD_LEN, dtype='float64', padding=position, truncating=position, value=0.0)\n",
    "\n",
    "    return dataset2"
   ]
  },
  {
   "cell_type": "code",
   "execution_count": 16,
   "metadata": {},
   "outputs": [],
   "source": [
    "from ast import literal_eval\n",
    "def print_model_df_analysis(csv_name =\"./data/model_data_csv.csv\", percent_value=25/100.0):\n",
    "    df = pd.read_csv(csv_name, converters={\"target\":literal_eval})\n",
    "    df[\"abs_x\"] = df[\"target\"].apply(lambda x: abs(x[0]))\n",
    "    df[\"abs_z\"] = df[\"target\"].apply(lambda x: abs(x[1]))\n",
    "\n",
    "    return df.loc[df[\"abs_x\"]*percent_value>df[\"abs_z\"]]\n"
   ]
  },
  {
   "cell_type": "code",
   "execution_count": 17,
   "metadata": {},
   "outputs": [
    {
     "output_type": "execute_result",
     "data": {
      "text/plain": [
       "                                               actions       cost   distance  \\\n",
       "0    [[-0.05236, 0.0, 31.53455812455641], [-0.08727...  44.809705   8.158723   \n",
       "2    [[-0.08727, 0.0, 31.53455812455641], [-0.08727...  62.940057   5.555057   \n",
       "3    [[-0.0, 0.0, 31.53455812455641], [-0.01745, 0....  27.616556  10.836310   \n",
       "5    [[-0.05236, 0.0, 31.53455812455641], [-0.05236...  34.295909   8.809463   \n",
       "6    [[-0.05236, 0.0, 31.53455812455641], [-0.08727...  43.563273   9.600462   \n",
       "..                                                 ...        ...        ...   \n",
       "223  [[-0.08727, 0.0, 31.53455812455641], [-0.08727...  74.961941   8.540578   \n",
       "227  [[-0.05236, 0.0, 31.53455812455641], [-0.01745...  44.881066   9.735799   \n",
       "232  [[-0.08727, 0.0, 31.53455812455641], [-0.08727...  50.827783   5.407150   \n",
       "233  [[-0.0, 0.0, 31.53455812455641], [-0.03491, 0....  23.829686   9.450713   \n",
       "238  [[-0.05236, 0.0, 31.53455812455641], [-0.05236...  54.314938  11.070958   \n",
       "\n",
       "     p_id                                             states  \\\n",
       "0       0  [(0.0, 0.0, 4.257165346815115, 0.0, 0, 0), (4....   \n",
       "2       2  [(0.0, 0.0, 4.257165346815115, 0.0, 0, 0), (4....   \n",
       "3       3  [(0.0, 0.0, 4.257165346815115, 0.0, 0, 0), (4....   \n",
       "5       5  [(0.0, 0.0, 4.257165346815115, 0.0, 0, 0), (4....   \n",
       "6       6  [(0.0, 0.0, 4.257165346815115, 0.0, 0, 0), (4....   \n",
       "..    ...                                                ...   \n",
       "223   223  [(0.0, 0.0, 4.257165346815115, 0.0, 0, 0), (4....   \n",
       "227   227  [(0.0, 0.0, 4.257165346815115, 0.0, 0, 0), (4....   \n",
       "232   232  [(0.0, 0.0, 4.257165346815115, 0.0, 0, 0), (4....   \n",
       "233   233  [(0.0, 0.0, 4.257165346815115, 0.0, 0, 0), (4....   \n",
       "238   238  [(0.0, 0.0, 4.257165346815115, 0.0, 0, 0), (4....   \n",
       "\n",
       "                                                target      time      abs_x  \\\n",
       "0    [57.567204330408806, -7.227249063128963, 0, 0,...  0.031012  57.567204   \n",
       "2    [65.45650918893115, -5.43049229897531, 0, 0, 0...  0.043592  65.456509   \n",
       "3    [53.04666590815438, -11.15627190194964, 0, 0, ...  0.029021  53.046666   \n",
       "5    [50.755477685109106, -7.997603559062214, 0, 0,...  0.027456  50.755478   \n",
       "6    [58.66248155311308, -8.49909580156482, 0, 0, 0...  0.033426  58.662482   \n",
       "..                                                 ...       ...        ...   \n",
       "223  [88.57891500008651, -10.134761803809054, 0, 0,...  0.050752  88.578915   \n",
       "227  [83.52663655716658, -14.379154946211687, 0, 0,...  0.037157  83.526637   \n",
       "232  [53.82516962303221, -4.976967885744467, 0, 0, ...  0.041981  53.825170   \n",
       "233  [42.298671631893384, -7.8576088962145345, 0, 0...  0.021997  42.298672   \n",
       "238  [77.29012164230643, -11.950867959877964, 0, 0,...  0.044970  77.290122   \n",
       "\n",
       "         abs_z  \n",
       "0     7.227249  \n",
       "2     5.430492  \n",
       "3    11.156272  \n",
       "5     7.997604  \n",
       "6     8.499096  \n",
       "..         ...  \n",
       "223  10.134762  \n",
       "227  14.379155  \n",
       "232   4.976968  \n",
       "233   7.857609  \n",
       "238  11.950868  \n",
       "\n",
       "[77 rows x 9 columns]"
      ],
      "text/html": "<div>\n<style scoped>\n    .dataframe tbody tr th:only-of-type {\n        vertical-align: middle;\n    }\n\n    .dataframe tbody tr th {\n        vertical-align: top;\n    }\n\n    .dataframe thead th {\n        text-align: right;\n    }\n</style>\n<table border=\"1\" class=\"dataframe\">\n  <thead>\n    <tr style=\"text-align: right;\">\n      <th></th>\n      <th>actions</th>\n      <th>cost</th>\n      <th>distance</th>\n      <th>p_id</th>\n      <th>states</th>\n      <th>target</th>\n      <th>time</th>\n      <th>abs_x</th>\n      <th>abs_z</th>\n    </tr>\n  </thead>\n  <tbody>\n    <tr>\n      <th>0</th>\n      <td>[[-0.05236, 0.0, 31.53455812455641], [-0.08727...</td>\n      <td>44.809705</td>\n      <td>8.158723</td>\n      <td>0</td>\n      <td>[(0.0, 0.0, 4.257165346815115, 0.0, 0, 0), (4....</td>\n      <td>[57.567204330408806, -7.227249063128963, 0, 0,...</td>\n      <td>0.031012</td>\n      <td>57.567204</td>\n      <td>7.227249</td>\n    </tr>\n    <tr>\n      <th>2</th>\n      <td>[[-0.08727, 0.0, 31.53455812455641], [-0.08727...</td>\n      <td>62.940057</td>\n      <td>5.555057</td>\n      <td>2</td>\n      <td>[(0.0, 0.0, 4.257165346815115, 0.0, 0, 0), (4....</td>\n      <td>[65.45650918893115, -5.43049229897531, 0, 0, 0...</td>\n      <td>0.043592</td>\n      <td>65.456509</td>\n      <td>5.430492</td>\n    </tr>\n    <tr>\n      <th>3</th>\n      <td>[[-0.0, 0.0, 31.53455812455641], [-0.01745, 0....</td>\n      <td>27.616556</td>\n      <td>10.836310</td>\n      <td>3</td>\n      <td>[(0.0, 0.0, 4.257165346815115, 0.0, 0, 0), (4....</td>\n      <td>[53.04666590815438, -11.15627190194964, 0, 0, ...</td>\n      <td>0.029021</td>\n      <td>53.046666</td>\n      <td>11.156272</td>\n    </tr>\n    <tr>\n      <th>5</th>\n      <td>[[-0.05236, 0.0, 31.53455812455641], [-0.05236...</td>\n      <td>34.295909</td>\n      <td>8.809463</td>\n      <td>5</td>\n      <td>[(0.0, 0.0, 4.257165346815115, 0.0, 0, 0), (4....</td>\n      <td>[50.755477685109106, -7.997603559062214, 0, 0,...</td>\n      <td>0.027456</td>\n      <td>50.755478</td>\n      <td>7.997604</td>\n    </tr>\n    <tr>\n      <th>6</th>\n      <td>[[-0.05236, 0.0, 31.53455812455641], [-0.08727...</td>\n      <td>43.563273</td>\n      <td>9.600462</td>\n      <td>6</td>\n      <td>[(0.0, 0.0, 4.257165346815115, 0.0, 0, 0), (4....</td>\n      <td>[58.66248155311308, -8.49909580156482, 0, 0, 0...</td>\n      <td>0.033426</td>\n      <td>58.662482</td>\n      <td>8.499096</td>\n    </tr>\n    <tr>\n      <th>...</th>\n      <td>...</td>\n      <td>...</td>\n      <td>...</td>\n      <td>...</td>\n      <td>...</td>\n      <td>...</td>\n      <td>...</td>\n      <td>...</td>\n      <td>...</td>\n    </tr>\n    <tr>\n      <th>223</th>\n      <td>[[-0.08727, 0.0, 31.53455812455641], [-0.08727...</td>\n      <td>74.961941</td>\n      <td>8.540578</td>\n      <td>223</td>\n      <td>[(0.0, 0.0, 4.257165346815115, 0.0, 0, 0), (4....</td>\n      <td>[88.57891500008651, -10.134761803809054, 0, 0,...</td>\n      <td>0.050752</td>\n      <td>88.578915</td>\n      <td>10.134762</td>\n    </tr>\n    <tr>\n      <th>227</th>\n      <td>[[-0.05236, 0.0, 31.53455812455641], [-0.01745...</td>\n      <td>44.881066</td>\n      <td>9.735799</td>\n      <td>227</td>\n      <td>[(0.0, 0.0, 4.257165346815115, 0.0, 0, 0), (4....</td>\n      <td>[83.52663655716658, -14.379154946211687, 0, 0,...</td>\n      <td>0.037157</td>\n      <td>83.526637</td>\n      <td>14.379155</td>\n    </tr>\n    <tr>\n      <th>232</th>\n      <td>[[-0.08727, 0.0, 31.53455812455641], [-0.08727...</td>\n      <td>50.827783</td>\n      <td>5.407150</td>\n      <td>232</td>\n      <td>[(0.0, 0.0, 4.257165346815115, 0.0, 0, 0), (4....</td>\n      <td>[53.82516962303221, -4.976967885744467, 0, 0, ...</td>\n      <td>0.041981</td>\n      <td>53.825170</td>\n      <td>4.976968</td>\n    </tr>\n    <tr>\n      <th>233</th>\n      <td>[[-0.0, 0.0, 31.53455812455641], [-0.03491, 0....</td>\n      <td>23.829686</td>\n      <td>9.450713</td>\n      <td>233</td>\n      <td>[(0.0, 0.0, 4.257165346815115, 0.0, 0, 0), (4....</td>\n      <td>[42.298671631893384, -7.8576088962145345, 0, 0...</td>\n      <td>0.021997</td>\n      <td>42.298672</td>\n      <td>7.857609</td>\n    </tr>\n    <tr>\n      <th>238</th>\n      <td>[[-0.05236, 0.0, 31.53455812455641], [-0.05236...</td>\n      <td>54.314938</td>\n      <td>11.070958</td>\n      <td>238</td>\n      <td>[(0.0, 0.0, 4.257165346815115, 0.0, 0, 0), (4....</td>\n      <td>[77.29012164230643, -11.950867959877964, 0, 0,...</td>\n      <td>0.044970</td>\n      <td>77.290122</td>\n      <td>11.950868</td>\n    </tr>\n  </tbody>\n</table>\n<p>77 rows × 9 columns</p>\n</div>"
     },
     "metadata": {},
     "execution_count": 17
    }
   ],
   "source": [
    "df1 = print_model_df_analysis(csv_name =\"./data/model_data_csv.csv\", percent_value=25/100.0)\n",
    "df1"
   ]
  },
  {
   "cell_type": "code",
   "execution_count": null,
   "metadata": {},
   "outputs": [],
   "source": []
  }
 ],
 "metadata": {
  "colab": {
   "collapsed_sections": [],
   "name": "regression.ipynb",
   "private_outputs": true,
   "provenance": [],
   "toc_visible": true
  },
  "kernelspec": {
   "display_name": "Python 3.7.5 64-bit ('pasky': virtualenv)",
   "name": "python37564bitpaskyvirtualenvdb13efe5d4c0467fbbb744965ba97dd5"
  },
  "language_info": {
   "codemirror_mode": {
    "name": "ipython",
    "version": 3
   },
   "file_extension": ".py",
   "mimetype": "text/x-python",
   "name": "python",
   "nbconvert_exporter": "python",
   "pygments_lexer": "ipython3",
   "version": "3.7.5-final"
  }
 },
 "nbformat": 4,
 "nbformat_minor": 0
}